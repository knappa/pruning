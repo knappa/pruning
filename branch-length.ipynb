{
 "cells": [
  {
   "cell_type": "code",
   "execution_count": 1,
   "id": "04890b42-b910-412f-b778-683dcc35730d",
   "metadata": {},
   "outputs": [],
   "source": [
    "t = var(\"t\")\n",
    "assume(t,'real')\n",
    "mu = var(\"mu\")\n",
    "assume(mu,'real')\n",
    "p = var(\"p\")\n",
    "assume(p,'real')\n",
    "beta = var(\"beta\")\n",
    "assume(beta,'real')\n",
    "nu = var(\"nu\")\n",
    "assume(nu,'real')\n",
    "\n",
    "z = var(\"z\")\n",
    "assume(z,'real')\n",
    "\n",
    "pi_a, pi_c, pi_g, pi_t = var(\"pi_a, pi_c, pi_g, pi_t\")\n",
    "assume(pi_a + pi_c + pi_g + pi_t == 1)\n",
    "assume(pi_a <= 1)\n",
    "assume(pi_c <= 1)\n",
    "assume(pi_g <= 1)\n",
    "assume(pi_t <= 1)\n",
    "pis = vector([pi_a, pi_c, pi_g, pi_t])\n",
    "pis16 = vector(pis.tensor_product(pis))\n",
    "\n",
    "s_ac, s_ag, s_at, s_cg, s_ct, s_gt = var(\"s_ac, s_ag, s_at, s_cg, s_ct, s_gt\")\n",
    "\n",
    "for variable in [\n",
    "    t,\n",
    "    mu,\n",
    "    p,\n",
    "    beta,\n",
    "    nu,\n",
    "    pi_a,\n",
    "    pi_c,\n",
    "    pi_g,\n",
    "    pi_t,\n",
    "    s_ac,\n",
    "    s_ag,\n",
    "    s_at,\n",
    "    s_cg,\n",
    "    s_ct,\n",
    "    s_gt,\n",
    "]:\n",
    "    assume(variable, \"real\")\n",
    "\n",
    "for variable in [\n",
    "    mu,\n",
    "    p,\n",
    "    beta,\n",
    "    nu,\n",
    "    pi_a,\n",
    "    pi_c,\n",
    "    pi_g,\n",
    "    pi_t,\n",
    "    s_ac,\n",
    "    s_ag,\n",
    "    s_at,\n",
    "    s_cg,\n",
    "    s_ct,\n",
    "    s_gt,\n",
    "]:\n",
    "    assume(variable >= 0)\n"
   ]
  },
  {
   "cell_type": "code",
   "execution_count": 2,
   "id": "d6cdb3d6-581f-42f5-b202-1f44fb02c3e5",
   "metadata": {},
   "outputs": [],
   "source": [
    "# Jukes Cantor 69\n",
    "qjc = matrix(\n",
    "    [\n",
    "        [-3 / 4, 1 / 4, 1 / 4, 1 / 4],\n",
    "        [1 / 4, -3 / 4, 1 / 4, 1 / 4],\n",
    "        [1 / 4, 1 / 4, -3 / 4, 1 / 4],\n",
    "        [1 / 4, 1 / 4, 1 / 4, -3 / 4],\n",
    "    ]\n",
    ")\n",
    "\n",
    "# 16 state Jukes Cantor 69\n",
    "qjc16 = qjc.tensor_product(identity_matrix(4)) + identity_matrix(4).tensor_product(qjc)\n",
    "\n",
    "pjc = exp(qjc * beta * nu)\n",
    "pjc16 = exp(qjc16 * beta * nu)"
   ]
  },
  {
   "cell_type": "markdown",
   "id": "6d51e7f8-13d9-45b6-b40b-37cfa9a5e3dd",
   "metadata": {},
   "source": [
    "### Branch lengths for JC69"
   ]
  },
  {
   "cell_type": "code",
   "execution_count": 3,
   "id": "33d8aa41-9cf3-41f1-8308-588977c79b9c",
   "metadata": {},
   "outputs": [],
   "source": [
    "beta_jc = -1 / (pis * vector(qjc.diagonal()))(\n",
    "    pi_a=1 / 4, pi_c=1 / 4, pi_g=1 / 4, pi_t=1 / 4\n",
    ")\n",
    "p_hat_jc = (1 - pis * vector(pjc.diagonal()))(\n",
    "    pi_a=1 / 4, pi_c=1 / 4, pi_g=1 / 4, pi_t=1 / 4, beta=beta_jc\n",
    ").expand()"
   ]
  },
  {
   "cell_type": "code",
   "execution_count": 4,
   "id": "574300db-f1b8-49a9-8a19-996322e1eec6",
   "metadata": {},
   "outputs": [
    {
     "data": {
      "text/html": [
       "<html>\\(\\displaystyle -\\frac{3}{4} \\, e^{\\left(-\\frac{4}{3} \\, \\nu\\right)} + \\frac{3}{4} = p\\)</html>"
      ],
      "text/latex": [
       "$\\displaystyle -\\frac{3}{4} \\, e^{\\left(-\\frac{4}{3} \\, \\nu\\right)} + \\frac{3}{4} = p$"
      ],
      "text/plain": [
       "-3/4*e^(-4/3*nu) + 3/4 == p"
      ]
     },
     "metadata": {},
     "output_type": "display_data"
    }
   ],
   "source": [
    "pretty_print(p_hat_jc == p)"
   ]
  },
  {
   "cell_type": "code",
   "execution_count": 5,
   "id": "e71677b6-8d1f-4169-af45-d70a4b999573",
   "metadata": {},
   "outputs": [],
   "source": [
    "nu_hat_jc = solve(p_hat_jc == p, nu)[-1].rhs()"
   ]
  },
  {
   "cell_type": "code",
   "execution_count": 6,
   "id": "462de5fd-7b9d-4336-92f6-c236e28cf0d7",
   "metadata": {},
   "outputs": [
    {
     "data": {
      "text/html": [
       "<html>\\(\\displaystyle \\frac{3}{4} \\, \\log\\left(-\\frac{3}{4 \\, p - 3}\\right)\\)</html>"
      ],
      "text/latex": [
       "$\\displaystyle \\frac{3}{4} \\, \\log\\left(-\\frac{3}{4 \\, p - 3}\\right)$"
      ],
      "text/plain": [
       "3/4*log(-3/(4*p - 3))"
      ]
     },
     "metadata": {},
     "output_type": "display_data"
    }
   ],
   "source": [
    "pretty_print(nu_hat_jc)"
   ]
  },
  {
   "cell_type": "markdown",
   "id": "b5fcfaa1-1706-45b8-a805-c68d4c6c8766",
   "metadata": {},
   "source": [
    "### Branch lengths for 16-state JC69"
   ]
  },
  {
   "cell_type": "code",
   "execution_count": 7,
   "id": "e2bb9aae-3af3-4946-988d-40979eb41401",
   "metadata": {},
   "outputs": [],
   "source": [
    "beta_jc16 = -1 / (pis16 * vector(qjc16.diagonal()))(\n",
    "    pi_a=1 / 4, pi_c=1 / 4, pi_g=1 / 4, pi_t=1 / 4\n",
    ")\n",
    "p_hat_jc16 = (1 - pis16 * vector(pjc16.diagonal()))(\n",
    "    pi_a=1 / 4, pi_c=1 / 4, pi_g=1 / 4, pi_t=1 / 4, beta=beta_jc16\n",
    ").expand()"
   ]
  },
  {
   "cell_type": "code",
   "execution_count": 8,
   "id": "9bf39400-aec7-48d5-a41f-6b5802748a81",
   "metadata": {},
   "outputs": [
    {
     "data": {
      "text/html": [
       "<html>\\(\\displaystyle -\\frac{3}{8} \\, e^{\\left(-\\frac{2}{3} \\, \\nu\\right)} - \\frac{9}{16} \\, e^{\\left(-\\frac{4}{3} \\, \\nu\\right)} + \\frac{15}{16} = p\\)</html>"
      ],
      "text/latex": [
       "$\\displaystyle -\\frac{3}{8} \\, e^{\\left(-\\frac{2}{3} \\, \\nu\\right)} - \\frac{9}{16} \\, e^{\\left(-\\frac{4}{3} \\, \\nu\\right)} + \\frac{15}{16} = p$"
      ],
      "text/plain": [
       "-3/8*e^(-2/3*nu) - 9/16*e^(-4/3*nu) + 15/16 == p"
      ]
     },
     "metadata": {},
     "output_type": "display_data"
    },
    {
     "data": {
      "text/html": [
       "<html>\\(\\displaystyle -\\frac{9}{16} \\, z^{2} - \\frac{3}{8} \\, z + \\frac{15}{16} = p\\)</html>"
      ],
      "text/latex": [
       "$\\displaystyle -\\frac{9}{16} \\, z^{2} - \\frac{3}{8} \\, z + \\frac{15}{16} = p$"
      ],
      "text/plain": [
       "-9/16*z^2 - 3/8*z + 15/16 == p"
      ]
     },
     "metadata": {},
     "output_type": "display_data"
    }
   ],
   "source": [
    "pretty_print(p_hat_jc16 == p)\n",
    "pretty_print(p_hat_jc16(nu=-1 / beta_jc16 * log(z)) == p)"
   ]
  },
  {
   "cell_type": "code",
   "execution_count": 9,
   "id": "9ffcf7b8-522e-4c0a-a127-cb112ad2f61e",
   "metadata": {},
   "outputs": [],
   "source": [
    "nu_hat_jc16 = (\n",
    "    -1\n",
    "    / beta_jc16\n",
    "    * log(solve(p_hat_jc16(nu=-1 / beta_jc16 * log(z)) == p, z)[-1].rhs())\n",
    ")"
   ]
  },
  {
   "cell_type": "code",
   "execution_count": 10,
   "id": "4c8693b8-fa52-4c41-9071-befcd3863d79",
   "metadata": {},
   "outputs": [
    {
     "data": {
      "text/html": [
       "<html>\\(\\displaystyle -\\frac{3}{2} \\, \\log\\left(\\frac{4}{3} \\, \\sqrt{-p + 1} - \\frac{1}{3}\\right)\\)</html>"
      ],
      "text/latex": [
       "$\\displaystyle -\\frac{3}{2} \\, \\log\\left(\\frac{4}{3} \\, \\sqrt{-p + 1} - \\frac{1}{3}\\right)$"
      ],
      "text/plain": [
       "-3/2*log(4/3*sqrt(-p + 1) - 1/3)"
      ]
     },
     "metadata": {},
     "output_type": "display_data"
    }
   ],
   "source": [
    "pretty_print(nu_hat_jc16)"
   ]
  },
  {
   "cell_type": "markdown",
   "id": "cb136477-c966-46fe-928a-695d6a1068b9",
   "metadata": {},
   "source": [
    "### 16-state JC69 with $\\mu$'s"
   ]
  },
  {
   "cell_type": "code",
   "execution_count": 11,
   "id": "09c47602-fb27-46c4-b999-f2cedc08758f",
   "metadata": {},
   "outputs": [
    {
     "data": {
      "text/html": [
       "<html>\\(\\displaystyle \\left(\\begin{array}{rrrrrrrrrrrrrrrr}\n",
       "-\\frac{3}{2} \\, \\mu & \\frac{1}{4} \\, \\mu & \\frac{1}{4} \\, \\mu & \\frac{1}{4} \\, \\mu & \\frac{1}{4} \\, \\mu & 0 & 0 & 0 & \\frac{1}{4} \\, \\mu & 0 & 0 & 0 & \\frac{1}{4} \\, \\mu & 0 & 0 & 0 \\\\\n",
       "\\frac{1}{4} \\, \\mu & -\\frac{3}{2} \\, \\mu & \\frac{1}{4} \\, \\mu & \\frac{1}{4} \\, \\mu & 0 & \\frac{1}{4} \\, \\mu & 0 & 0 & 0 & \\frac{1}{4} \\, \\mu & 0 & 0 & 0 & \\frac{1}{4} \\, \\mu & 0 & 0 \\\\\n",
       "\\frac{1}{4} \\, \\mu & \\frac{1}{4} \\, \\mu & -\\frac{3}{2} \\, \\mu & \\frac{1}{4} \\, \\mu & 0 & 0 & \\frac{1}{4} \\, \\mu & 0 & 0 & 0 & \\frac{1}{4} \\, \\mu & 0 & 0 & 0 & \\frac{1}{4} \\, \\mu & 0 \\\\\n",
       "\\frac{1}{4} \\, \\mu & \\frac{1}{4} \\, \\mu & \\frac{1}{4} \\, \\mu & -\\frac{3}{2} \\, \\mu & 0 & 0 & 0 & \\frac{1}{4} \\, \\mu & 0 & 0 & 0 & \\frac{1}{4} \\, \\mu & 0 & 0 & 0 & \\frac{1}{4} \\, \\mu \\\\\n",
       "\\frac{1}{4} \\, \\mu & 0 & 0 & 0 & -\\frac{3}{2} \\, \\mu & \\frac{1}{4} \\, \\mu & \\frac{1}{4} \\, \\mu & \\frac{1}{4} \\, \\mu & \\frac{1}{4} \\, \\mu & 0 & 0 & 0 & \\frac{1}{4} \\, \\mu & 0 & 0 & 0 \\\\\n",
       "0 & \\frac{1}{4} \\, \\mu & 0 & 0 & \\frac{1}{4} \\, \\mu & -\\frac{3}{2} \\, \\mu & \\frac{1}{4} \\, \\mu & \\frac{1}{4} \\, \\mu & 0 & \\frac{1}{4} \\, \\mu & 0 & 0 & 0 & \\frac{1}{4} \\, \\mu & 0 & 0 \\\\\n",
       "0 & 0 & \\frac{1}{4} \\, \\mu & 0 & \\frac{1}{4} \\, \\mu & \\frac{1}{4} \\, \\mu & -\\frac{3}{2} \\, \\mu & \\frac{1}{4} \\, \\mu & 0 & 0 & \\frac{1}{4} \\, \\mu & 0 & 0 & 0 & \\frac{1}{4} \\, \\mu & 0 \\\\\n",
       "0 & 0 & 0 & \\frac{1}{4} \\, \\mu & \\frac{1}{4} \\, \\mu & \\frac{1}{4} \\, \\mu & \\frac{1}{4} \\, \\mu & -\\frac{3}{2} \\, \\mu & 0 & 0 & 0 & \\frac{1}{4} \\, \\mu & 0 & 0 & 0 & \\frac{1}{4} \\, \\mu \\\\\n",
       "\\frac{1}{4} \\, \\mu & 0 & 0 & 0 & \\frac{1}{4} \\, \\mu & 0 & 0 & 0 & -\\frac{3}{2} \\, \\mu & \\frac{1}{4} \\, \\mu & \\frac{1}{4} \\, \\mu & \\frac{1}{4} \\, \\mu & \\frac{1}{4} \\, \\mu & 0 & 0 & 0 \\\\\n",
       "0 & \\frac{1}{4} \\, \\mu & 0 & 0 & 0 & \\frac{1}{4} \\, \\mu & 0 & 0 & \\frac{1}{4} \\, \\mu & -\\frac{3}{2} \\, \\mu & \\frac{1}{4} \\, \\mu & \\frac{1}{4} \\, \\mu & 0 & \\frac{1}{4} \\, \\mu & 0 & 0 \\\\\n",
       "0 & 0 & \\frac{1}{4} \\, \\mu & 0 & 0 & 0 & \\frac{1}{4} \\, \\mu & 0 & \\frac{1}{4} \\, \\mu & \\frac{1}{4} \\, \\mu & -\\frac{3}{2} \\, \\mu & \\frac{1}{4} \\, \\mu & 0 & 0 & \\frac{1}{4} \\, \\mu & 0 \\\\\n",
       "0 & 0 & 0 & \\frac{1}{4} \\, \\mu & 0 & 0 & 0 & \\frac{1}{4} \\, \\mu & \\frac{1}{4} \\, \\mu & \\frac{1}{4} \\, \\mu & \\frac{1}{4} \\, \\mu & -\\frac{3}{2} \\, \\mu & 0 & 0 & 0 & \\frac{1}{4} \\, \\mu \\\\\n",
       "\\frac{1}{4} \\, \\mu & 0 & 0 & 0 & \\frac{1}{4} \\, \\mu & 0 & 0 & 0 & \\frac{1}{4} \\, \\mu & 0 & 0 & 0 & -\\frac{3}{2} \\, \\mu & \\frac{1}{4} \\, \\mu & \\frac{1}{4} \\, \\mu & \\frac{1}{4} \\, \\mu \\\\\n",
       "0 & \\frac{1}{4} \\, \\mu & 0 & 0 & 0 & \\frac{1}{4} \\, \\mu & 0 & 0 & 0 & \\frac{1}{4} \\, \\mu & 0 & 0 & \\frac{1}{4} \\, \\mu & -\\frac{3}{2} \\, \\mu & \\frac{1}{4} \\, \\mu & \\frac{1}{4} \\, \\mu \\\\\n",
       "0 & 0 & \\frac{1}{4} \\, \\mu & 0 & 0 & 0 & \\frac{1}{4} \\, \\mu & 0 & 0 & 0 & \\frac{1}{4} \\, \\mu & 0 & \\frac{1}{4} \\, \\mu & \\frac{1}{4} \\, \\mu & -\\frac{3}{2} \\, \\mu & \\frac{1}{4} \\, \\mu \\\\\n",
       "0 & 0 & 0 & \\frac{1}{4} \\, \\mu & 0 & 0 & 0 & \\frac{1}{4} \\, \\mu & 0 & 0 & 0 & \\frac{1}{4} \\, \\mu & \\frac{1}{4} \\, \\mu & \\frac{1}{4} \\, \\mu & \\frac{1}{4} \\, \\mu & -\\frac{3}{2} \\, \\mu\n",
       "\\end{array}\\right)\\)</html>"
      ],
      "text/latex": [
       "$\\displaystyle \\left(\\begin{array}{rrrrrrrrrrrrrrrr}\n",
       "-\\frac{3}{2} \\, \\mu & \\frac{1}{4} \\, \\mu & \\frac{1}{4} \\, \\mu & \\frac{1}{4} \\, \\mu & \\frac{1}{4} \\, \\mu & 0 & 0 & 0 & \\frac{1}{4} \\, \\mu & 0 & 0 & 0 & \\frac{1}{4} \\, \\mu & 0 & 0 & 0 \\\\\n",
       "\\frac{1}{4} \\, \\mu & -\\frac{3}{2} \\, \\mu & \\frac{1}{4} \\, \\mu & \\frac{1}{4} \\, \\mu & 0 & \\frac{1}{4} \\, \\mu & 0 & 0 & 0 & \\frac{1}{4} \\, \\mu & 0 & 0 & 0 & \\frac{1}{4} \\, \\mu & 0 & 0 \\\\\n",
       "\\frac{1}{4} \\, \\mu & \\frac{1}{4} \\, \\mu & -\\frac{3}{2} \\, \\mu & \\frac{1}{4} \\, \\mu & 0 & 0 & \\frac{1}{4} \\, \\mu & 0 & 0 & 0 & \\frac{1}{4} \\, \\mu & 0 & 0 & 0 & \\frac{1}{4} \\, \\mu & 0 \\\\\n",
       "\\frac{1}{4} \\, \\mu & \\frac{1}{4} \\, \\mu & \\frac{1}{4} \\, \\mu & -\\frac{3}{2} \\, \\mu & 0 & 0 & 0 & \\frac{1}{4} \\, \\mu & 0 & 0 & 0 & \\frac{1}{4} \\, \\mu & 0 & 0 & 0 & \\frac{1}{4} \\, \\mu \\\\\n",
       "\\frac{1}{4} \\, \\mu & 0 & 0 & 0 & -\\frac{3}{2} \\, \\mu & \\frac{1}{4} \\, \\mu & \\frac{1}{4} \\, \\mu & \\frac{1}{4} \\, \\mu & \\frac{1}{4} \\, \\mu & 0 & 0 & 0 & \\frac{1}{4} \\, \\mu & 0 & 0 & 0 \\\\\n",
       "0 & \\frac{1}{4} \\, \\mu & 0 & 0 & \\frac{1}{4} \\, \\mu & -\\frac{3}{2} \\, \\mu & \\frac{1}{4} \\, \\mu & \\frac{1}{4} \\, \\mu & 0 & \\frac{1}{4} \\, \\mu & 0 & 0 & 0 & \\frac{1}{4} \\, \\mu & 0 & 0 \\\\\n",
       "0 & 0 & \\frac{1}{4} \\, \\mu & 0 & \\frac{1}{4} \\, \\mu & \\frac{1}{4} \\, \\mu & -\\frac{3}{2} \\, \\mu & \\frac{1}{4} \\, \\mu & 0 & 0 & \\frac{1}{4} \\, \\mu & 0 & 0 & 0 & \\frac{1}{4} \\, \\mu & 0 \\\\\n",
       "0 & 0 & 0 & \\frac{1}{4} \\, \\mu & \\frac{1}{4} \\, \\mu & \\frac{1}{4} \\, \\mu & \\frac{1}{4} \\, \\mu & -\\frac{3}{2} \\, \\mu & 0 & 0 & 0 & \\frac{1}{4} \\, \\mu & 0 & 0 & 0 & \\frac{1}{4} \\, \\mu \\\\\n",
       "\\frac{1}{4} \\, \\mu & 0 & 0 & 0 & \\frac{1}{4} \\, \\mu & 0 & 0 & 0 & -\\frac{3}{2} \\, \\mu & \\frac{1}{4} \\, \\mu & \\frac{1}{4} \\, \\mu & \\frac{1}{4} \\, \\mu & \\frac{1}{4} \\, \\mu & 0 & 0 & 0 \\\\\n",
       "0 & \\frac{1}{4} \\, \\mu & 0 & 0 & 0 & \\frac{1}{4} \\, \\mu & 0 & 0 & \\frac{1}{4} \\, \\mu & -\\frac{3}{2} \\, \\mu & \\frac{1}{4} \\, \\mu & \\frac{1}{4} \\, \\mu & 0 & \\frac{1}{4} \\, \\mu & 0 & 0 \\\\\n",
       "0 & 0 & \\frac{1}{4} \\, \\mu & 0 & 0 & 0 & \\frac{1}{4} \\, \\mu & 0 & \\frac{1}{4} \\, \\mu & \\frac{1}{4} \\, \\mu & -\\frac{3}{2} \\, \\mu & \\frac{1}{4} \\, \\mu & 0 & 0 & \\frac{1}{4} \\, \\mu & 0 \\\\\n",
       "0 & 0 & 0 & \\frac{1}{4} \\, \\mu & 0 & 0 & 0 & \\frac{1}{4} \\, \\mu & \\frac{1}{4} \\, \\mu & \\frac{1}{4} \\, \\mu & \\frac{1}{4} \\, \\mu & -\\frac{3}{2} \\, \\mu & 0 & 0 & 0 & \\frac{1}{4} \\, \\mu \\\\\n",
       "\\frac{1}{4} \\, \\mu & 0 & 0 & 0 & \\frac{1}{4} \\, \\mu & 0 & 0 & 0 & \\frac{1}{4} \\, \\mu & 0 & 0 & 0 & -\\frac{3}{2} \\, \\mu & \\frac{1}{4} \\, \\mu & \\frac{1}{4} \\, \\mu & \\frac{1}{4} \\, \\mu \\\\\n",
       "0 & \\frac{1}{4} \\, \\mu & 0 & 0 & 0 & \\frac{1}{4} \\, \\mu & 0 & 0 & 0 & \\frac{1}{4} \\, \\mu & 0 & 0 & \\frac{1}{4} \\, \\mu & -\\frac{3}{2} \\, \\mu & \\frac{1}{4} \\, \\mu & \\frac{1}{4} \\, \\mu \\\\\n",
       "0 & 0 & \\frac{1}{4} \\, \\mu & 0 & 0 & 0 & \\frac{1}{4} \\, \\mu & 0 & 0 & 0 & \\frac{1}{4} \\, \\mu & 0 & \\frac{1}{4} \\, \\mu & \\frac{1}{4} \\, \\mu & -\\frac{3}{2} \\, \\mu & \\frac{1}{4} \\, \\mu \\\\\n",
       "0 & 0 & 0 & \\frac{1}{4} \\, \\mu & 0 & 0 & 0 & \\frac{1}{4} \\, \\mu & 0 & 0 & 0 & \\frac{1}{4} \\, \\mu & \\frac{1}{4} \\, \\mu & \\frac{1}{4} \\, \\mu & \\frac{1}{4} \\, \\mu & -\\frac{3}{2} \\, \\mu\n",
       "\\end{array}\\right)$"
      ],
      "text/plain": [
       "[-3/2*mu  1/4*mu  1/4*mu  1/4*mu  1/4*mu       0       0       0  1/4*mu       0       0       0  1/4*mu       0       0       0]\n",
       "[ 1/4*mu -3/2*mu  1/4*mu  1/4*mu       0  1/4*mu       0       0       0  1/4*mu       0       0       0  1/4*mu       0       0]\n",
       "[ 1/4*mu  1/4*mu -3/2*mu  1/4*mu       0       0  1/4*mu       0       0       0  1/4*mu       0       0       0  1/4*mu       0]\n",
       "[ 1/4*mu  1/4*mu  1/4*mu -3/2*mu       0       0       0  1/4*mu       0       0       0  1/4*mu       0       0       0  1/4*mu]\n",
       "[ 1/4*mu       0       0       0 -3/2*mu  1/4*mu  1/4*mu  1/4*mu  1/4*mu       0       0       0  1/4*mu       0       0       0]\n",
       "[      0  1/4*mu       0       0  1/4*mu -3/2*mu  1/4*mu  1/4*mu       0  1/4*mu       0       0       0  1/4*mu       0       0]\n",
       "[      0       0  1/4*mu       0  1/4*mu  1/4*mu -3/2*mu  1/4*mu       0       0  1/4*mu       0       0       0  1/4*mu       0]\n",
       "[      0       0       0  1/4*mu  1/4*mu  1/4*mu  1/4*mu -3/2*mu       0       0       0  1/4*mu       0       0       0  1/4*mu]\n",
       "[ 1/4*mu       0       0       0  1/4*mu       0       0       0 -3/2*mu  1/4*mu  1/4*mu  1/4*mu  1/4*mu       0       0       0]\n",
       "[      0  1/4*mu       0       0       0  1/4*mu       0       0  1/4*mu -3/2*mu  1/4*mu  1/4*mu       0  1/4*mu       0       0]\n",
       "[      0       0  1/4*mu       0       0       0  1/4*mu       0  1/4*mu  1/4*mu -3/2*mu  1/4*mu       0       0  1/4*mu       0]\n",
       "[      0       0       0  1/4*mu       0       0       0  1/4*mu  1/4*mu  1/4*mu  1/4*mu -3/2*mu       0       0       0  1/4*mu]\n",
       "[ 1/4*mu       0       0       0  1/4*mu       0       0       0  1/4*mu       0       0       0 -3/2*mu  1/4*mu  1/4*mu  1/4*mu]\n",
       "[      0  1/4*mu       0       0       0  1/4*mu       0       0       0  1/4*mu       0       0  1/4*mu -3/2*mu  1/4*mu  1/4*mu]\n",
       "[      0       0  1/4*mu       0       0       0  1/4*mu       0       0       0  1/4*mu       0  1/4*mu  1/4*mu -3/2*mu  1/4*mu]\n",
       "[      0       0       0  1/4*mu       0       0       0  1/4*mu       0       0       0  1/4*mu  1/4*mu  1/4*mu  1/4*mu -3/2*mu]"
      ]
     },
     "metadata": {},
     "output_type": "display_data"
    }
   ],
   "source": [
    "qjc16m = (mu * qjc).tensor_product(identity_matrix(4)) + identity_matrix(\n",
    "    4\n",
    ").tensor_product(mu * qjc)\n",
    "pjc16m = exp(qjc16m * beta * nu)\n",
    "\n",
    "pretty_print(qjc16m)"
   ]
  },
  {
   "cell_type": "code",
   "execution_count": 12,
   "id": "a2951c59-5732-4c46-a31e-2ab4b329f6f4",
   "metadata": {},
   "outputs": [],
   "source": [
    "beta_jc16m = -1 / (pis16 * vector(qjc16m.diagonal()))(\n",
    "    pi_a=1 / 4, pi_c=1 / 4, pi_g=1 / 4, pi_t=1 / 4\n",
    ")\n",
    "p_hat_jc16m = (1 - pis16 * vector(pjc16m.diagonal()))(\n",
    "    pi_a=1 / 4, pi_c=1 / 4, pi_g=1 / 4, pi_t=1 / 4, beta=beta_jc16m\n",
    ").expand()"
   ]
  },
  {
   "cell_type": "code",
   "execution_count": 13,
   "id": "9457b40f-e810-4f4e-8a9d-5fa79b51b285",
   "metadata": {},
   "outputs": [
    {
     "data": {
      "text/html": [
       "<html>\\(\\displaystyle -\\frac{3}{8} \\, e^{\\left(-\\frac{2}{3} \\, \\nu\\right)} - \\frac{9}{16} \\, e^{\\left(-\\frac{4}{3} \\, \\nu\\right)} + \\frac{15}{16} = p\\)</html>"
      ],
      "text/latex": [
       "$\\displaystyle -\\frac{3}{8} \\, e^{\\left(-\\frac{2}{3} \\, \\nu\\right)} - \\frac{9}{16} \\, e^{\\left(-\\frac{4}{3} \\, \\nu\\right)} + \\frac{15}{16} = p$"
      ],
      "text/plain": [
       "-3/8*e^(-2/3*nu) - 9/16*e^(-4/3*nu) + 15/16 == p"
      ]
     },
     "metadata": {},
     "output_type": "display_data"
    },
    {
     "data": {
      "text/html": [
       "<html>\\(\\displaystyle -\\frac{9}{16} \\, z^{2} - \\frac{3}{8} \\, z + \\frac{15}{16} = p\\)</html>"
      ],
      "text/latex": [
       "$\\displaystyle -\\frac{9}{16} \\, z^{2} - \\frac{3}{8} \\, z + \\frac{15}{16} = p$"
      ],
      "text/plain": [
       "-9/16*z^2 - 3/8*z + 15/16 == p"
      ]
     },
     "metadata": {},
     "output_type": "display_data"
    }
   ],
   "source": [
    "pretty_print(p_hat_jc16m == p)\n",
    "pretty_print(p_hat_jc16m(nu=-1 / beta_jc16m * log(z) / mu) == p)"
   ]
  },
  {
   "cell_type": "code",
   "execution_count": 14,
   "id": "5e8caadd-6eae-4e90-bf27-8728000a91b6",
   "metadata": {},
   "outputs": [],
   "source": [
    "nu_hat_jc16m = (\n",
    "    -1\n",
    "    / beta_jc16m\n",
    "    * log(solve(p_hat_jc16m(nu=-1 / beta_jc16m * log(z) / mu) == p, z)[-1].rhs())\n",
    "    / mu\n",
    ")"
   ]
  },
  {
   "cell_type": "code",
   "execution_count": 15,
   "id": "abd61918-044d-4870-8172-eed087dd51b8",
   "metadata": {},
   "outputs": [
    {
     "data": {
      "text/html": [
       "<html>\\(\\displaystyle -\\frac{3}{2} \\, \\log\\left(\\frac{4}{3} \\, \\sqrt{-p + 1} - \\frac{1}{3}\\right)\\)</html>"
      ],
      "text/latex": [
       "$\\displaystyle -\\frac{3}{2} \\, \\log\\left(\\frac{4}{3} \\, \\sqrt{-p + 1} - \\frac{1}{3}\\right)$"
      ],
      "text/plain": [
       "-3/2*log(4/3*sqrt(-p + 1) - 1/3)"
      ]
     },
     "metadata": {},
     "output_type": "display_data"
    }
   ],
   "source": [
    "pretty_print(nu_hat_jc16m)"
   ]
  },
  {
   "cell_type": "markdown",
   "id": "00161446-c3b2-4db3-af42-184b18f66894",
   "metadata": {},
   "source": [
    "### F81"
   ]
  },
  {
   "cell_type": "code",
   "execution_count": 16,
   "id": "b2f89278-115f-4f61-8c95-6e60fe7dbc74",
   "metadata": {},
   "outputs": [
    {
     "data": {
      "text/html": [
       "<html>\\(\\displaystyle \\left(\\begin{array}{rrrr}\n",
       "-\\pi_{c} - \\pi_{g} - \\pi_{t} & \\pi_{c} & \\pi_{g} & \\pi_{t} \\\\\n",
       "\\pi_{a} & -\\pi_{a} - \\pi_{g} - \\pi_{t} & \\pi_{g} & \\pi_{t} \\\\\n",
       "\\pi_{a} & \\pi_{c} & -\\pi_{a} - \\pi_{c} - \\pi_{t} & \\pi_{t} \\\\\n",
       "\\pi_{a} & \\pi_{c} & \\pi_{g} & -\\pi_{a} - \\pi_{c} - \\pi_{g}\n",
       "\\end{array}\\right)\\)</html>"
      ],
      "text/latex": [
       "$\\displaystyle \\left(\\begin{array}{rrrr}\n",
       "-\\pi_{c} - \\pi_{g} - \\pi_{t} & \\pi_{c} & \\pi_{g} & \\pi_{t} \\\\\n",
       "\\pi_{a} & -\\pi_{a} - \\pi_{g} - \\pi_{t} & \\pi_{g} & \\pi_{t} \\\\\n",
       "\\pi_{a} & \\pi_{c} & -\\pi_{a} - \\pi_{c} - \\pi_{t} & \\pi_{t} \\\\\n",
       "\\pi_{a} & \\pi_{c} & \\pi_{g} & -\\pi_{a} - \\pi_{c} - \\pi_{g}\n",
       "\\end{array}\\right)$"
      ],
      "text/plain": [
       "[-pi_c - pi_g - pi_t                pi_c                pi_g                pi_t]\n",
       "[               pi_a -pi_a - pi_g - pi_t                pi_g                pi_t]\n",
       "[               pi_a                pi_c -pi_a - pi_c - pi_t                pi_t]\n",
       "[               pi_a                pi_c                pi_g -pi_a - pi_c - pi_g]"
      ]
     },
     "metadata": {},
     "output_type": "display_data"
    }
   ],
   "source": [
    "qf81 = matrix(\n",
    "    [\n",
    "        # fmt: off\n",
    "        [-pi_g - pi_c - pi_t,                pi_c,                pi_g,                pi_t],\n",
    "        [               pi_a, -pi_a - pi_g - pi_t,                pi_g,                pi_t],\n",
    "        [               pi_a,                pi_c, -pi_a - pi_c - pi_t,                pi_t],\n",
    "        [               pi_a,                pi_c,                pi_g, -pi_a - pi_c - pi_g],\n",
    "        # fmt: on\n",
    "    ]\n",
    ")\n",
    "pf81 = exp(qf81 * beta * nu)\n",
    "pf81t = exp(qf81 * t)\n",
    "\n",
    "pretty_print(qf81)"
   ]
  },
  {
   "cell_type": "code",
   "execution_count": 17,
   "id": "983502be-cae9-487d-910b-c6399a9ec09c",
   "metadata": {},
   "outputs": [],
   "source": [
    "beta_f81 = -1 / (pis * vector(qf81.diagonal())).expand()\n",
    "p_hat_f81 = 1 - pis * vector(pf81.diagonal())\n",
    "p_hat_f81t = 1 - pis * vector(pf81t.diagonal())"
   ]
  },
  {
   "cell_type": "code",
   "execution_count": 18,
   "id": "0bfc7123-f229-42e3-b430-168cfd9f2ee4",
   "metadata": {},
   "outputs": [
    {
     "data": {
      "text/html": [
       "<html>\\(\\displaystyle \\frac{1}{2 \\, {\\left(\\pi_{a} \\pi_{c} + \\pi_{a} \\pi_{g} + \\pi_{c} \\pi_{g} + \\pi_{a} \\pi_{t} + \\pi_{c} \\pi_{t} + \\pi_{g} \\pi_{t}\\right)}}\\)</html>"
      ],
      "text/latex": [
       "$\\displaystyle \\frac{1}{2 \\, {\\left(\\pi_{a} \\pi_{c} + \\pi_{a} \\pi_{g} + \\pi_{c} \\pi_{g} + \\pi_{a} \\pi_{t} + \\pi_{c} \\pi_{t} + \\pi_{g} \\pi_{t}\\right)}}$"
      ],
      "text/plain": [
       "1/2/(pi_a*pi_c + pi_a*pi_g + pi_c*pi_g + pi_a*pi_t + pi_c*pi_t + pi_g*pi_t)"
      ]
     },
     "metadata": {},
     "output_type": "display_data"
    }
   ],
   "source": [
    "pretty_print(beta_f81)"
   ]
  },
  {
   "cell_type": "code",
   "execution_count": 19,
   "id": "70dcb0d0-0a86-49bc-9fcd-987d8334f879",
   "metadata": {},
   "outputs": [
    {
     "data": {
      "text/html": [
       "<html>\\(\\displaystyle -\\frac{{\\left(2 \\, \\pi_{a} \\pi_{c} + 2 \\, {\\left(\\pi_{a} + \\pi_{c}\\right)} \\pi_{g} + 2 \\, {\\left(\\pi_{a} + \\pi_{c} + \\pi_{g}\\right)} \\pi_{t} + {\\left(\\pi_{a}^{2} + \\pi_{c}^{2} + \\pi_{g}^{2} + \\pi_{t}^{2} - \\pi_{a} - \\pi_{c} - \\pi_{g} - \\pi_{t}\\right)} e^{\\left(\\pi_{a} t + \\pi_{c} t + \\pi_{g} t + \\pi_{t} t\\right)}\\right)} e^{\\left(-\\pi_{a} t - \\pi_{c} t - \\pi_{g} t - \\pi_{t} t\\right)}}{\\pi_{a} + \\pi_{c} + \\pi_{g} + \\pi_{t}}\\)</html>"
      ],
      "text/latex": [
       "$\\displaystyle -\\frac{{\\left(2 \\, \\pi_{a} \\pi_{c} + 2 \\, {\\left(\\pi_{a} + \\pi_{c}\\right)} \\pi_{g} + 2 \\, {\\left(\\pi_{a} + \\pi_{c} + \\pi_{g}\\right)} \\pi_{t} + {\\left(\\pi_{a}^{2} + \\pi_{c}^{2} + \\pi_{g}^{2} + \\pi_{t}^{2} - \\pi_{a} - \\pi_{c} - \\pi_{g} - \\pi_{t}\\right)} e^{\\left(\\pi_{a} t + \\pi_{c} t + \\pi_{g} t + \\pi_{t} t\\right)}\\right)} e^{\\left(-\\pi_{a} t - \\pi_{c} t - \\pi_{g} t - \\pi_{t} t\\right)}}{\\pi_{a} + \\pi_{c} + \\pi_{g} + \\pi_{t}}$"
      ],
      "text/plain": [
       "-(2*pi_a*pi_c + 2*(pi_a + pi_c)*pi_g + 2*(pi_a + pi_c + pi_g)*pi_t + (pi_a^2 + pi_c^2 + pi_g^2 + pi_t^2 - pi_a - pi_c - pi_g - pi_t)*e^(pi_a*t + pi_c*t + pi_g*t + pi_t*t))*e^(-pi_a*t - pi_c*t - pi_g*t - pi_t*t)/(pi_a + pi_c + pi_g + pi_t)"
      ]
     },
     "metadata": {},
     "output_type": "display_data"
    }
   ],
   "source": [
    "pretty_print(p_hat_f81(nu=t/beta).simplify_full())"
   ]
  },
  {
   "cell_type": "code",
   "execution_count": 20,
   "id": "99a172c2-8e46-4462-9395-e72657b75ff6",
   "metadata": {},
   "outputs": [
    {
     "data": {
      "text/html": [
       "<html>\\(\\displaystyle -\\frac{{\\left(2 \\, \\pi_{a} \\pi_{c} + 2 \\, {\\left(\\pi_{a} + \\pi_{c}\\right)} \\pi_{g} + 2 \\, {\\left(\\pi_{a} + \\pi_{c} + \\pi_{g}\\right)} \\pi_{t} + {\\left(\\pi_{a}^{2} + \\pi_{c}^{2} + \\pi_{g}^{2} + \\pi_{t}^{2} - \\pi_{a} - \\pi_{c} - \\pi_{g} - \\pi_{t}\\right)} e^{\\left(\\pi_{a} t + \\pi_{c} t + \\pi_{g} t + \\pi_{t} t\\right)}\\right)} e^{\\left(-\\pi_{a} t - \\pi_{c} t - \\pi_{g} t - \\pi_{t} t\\right)}}{\\pi_{a} + \\pi_{c} + \\pi_{g} + \\pi_{t}}\\)</html>"
      ],
      "text/latex": [
       "$\\displaystyle -\\frac{{\\left(2 \\, \\pi_{a} \\pi_{c} + 2 \\, {\\left(\\pi_{a} + \\pi_{c}\\right)} \\pi_{g} + 2 \\, {\\left(\\pi_{a} + \\pi_{c} + \\pi_{g}\\right)} \\pi_{t} + {\\left(\\pi_{a}^{2} + \\pi_{c}^{2} + \\pi_{g}^{2} + \\pi_{t}^{2} - \\pi_{a} - \\pi_{c} - \\pi_{g} - \\pi_{t}\\right)} e^{\\left(\\pi_{a} t + \\pi_{c} t + \\pi_{g} t + \\pi_{t} t\\right)}\\right)} e^{\\left(-\\pi_{a} t - \\pi_{c} t - \\pi_{g} t - \\pi_{t} t\\right)}}{\\pi_{a} + \\pi_{c} + \\pi_{g} + \\pi_{t}}$"
      ],
      "text/plain": [
       "-(2*pi_a*pi_c + 2*(pi_a + pi_c)*pi_g + 2*(pi_a + pi_c + pi_g)*pi_t + (pi_a^2 + pi_c^2 + pi_g^2 + pi_t^2 - pi_a - pi_c - pi_g - pi_t)*e^(pi_a*t + pi_c*t + pi_g*t + pi_t*t))*e^(-pi_a*t - pi_c*t - pi_g*t - pi_t*t)/(pi_a + pi_c + pi_g + pi_t)"
      ]
     },
     "metadata": {},
     "output_type": "display_data"
    }
   ],
   "source": [
    "pretty_print(p_hat_f81t.simplify_full())"
   ]
  },
  {
   "cell_type": "code",
   "execution_count": 21,
   "id": "0cd107fc-9649-4185-aca8-427cfb9dcec3",
   "metadata": {},
   "outputs": [
    {
     "data": {
      "text/html": [
       "<html>\\(\\displaystyle -\\frac{1}{4} \\, {\\left(3 \\, \\tau_{1}^{2} {\\left(e^{t} - 1\\right)} + 4 \\, \\tau_{1} \\tau_{2} {\\left(e^{t} - 1\\right)} + 4 \\, \\tau_{2}^{2} {\\left(e^{t} - 1\\right)} + 3 \\, \\tau_{3}^{2} {\\left(e^{t} - 1\\right)} + 2 \\, {\\left(\\tau_{1} {\\left(e^{t} - 1\\right)} + 2 \\, \\tau_{2} {\\left(e^{t} - 1\\right)}\\right)} \\tau_{3} - 3 \\, e^{t} + 3\\right)} e^{\\left(-t\\right)}\\)</html>"
      ],
      "text/latex": [
       "$\\displaystyle -\\frac{1}{4} \\, {\\left(3 \\, \\tau_{1}^{2} {\\left(e^{t} - 1\\right)} + 4 \\, \\tau_{1} \\tau_{2} {\\left(e^{t} - 1\\right)} + 4 \\, \\tau_{2}^{2} {\\left(e^{t} - 1\\right)} + 3 \\, \\tau_{3}^{2} {\\left(e^{t} - 1\\right)} + 2 \\, {\\left(\\tau_{1} {\\left(e^{t} - 1\\right)} + 2 \\, \\tau_{2} {\\left(e^{t} - 1\\right)}\\right)} \\tau_{3} - 3 \\, e^{t} + 3\\right)} e^{\\left(-t\\right)}$"
      ],
      "text/plain": [
       "-1/4*(3*tau_1^2*(e^t - 1) + 4*tau_1*tau_2*(e^t - 1) + 4*tau_2^2*(e^t - 1) + 3*tau_3^2*(e^t - 1) + 2*(tau_1*(e^t - 1) + 2*tau_2*(e^t - 1))*tau_3 - 3*e^t + 3)*e^(-t)"
      ]
     },
     "metadata": {},
     "output_type": "display_data"
    }
   ],
   "source": [
    "tau_1, tau_2, tau_3 = var('tau_1, tau_2, tau_3')\n",
    "# t1=pc-pa, t2=pg-pc, t3=pt-pg\n",
    "# 1 = pa +      pc +         pg +            pt \n",
    "#   = pa + (pa+t1) +    (pc+t2) +       (pg+t3)\n",
    "#   = pa + (pa+t1) + (pa+t1+t2) + (pa+t1+t2+t3)\n",
    "#   = 4pa + 3t1 + 2t2 + t3\n",
    "# pa = (1-3t1-2t2-t3)/4\n",
    "temp = p_hat_f81t.simplify_full()(pi_t=tau_3+pi_g)(pi_g=tau_2+pi_c)(pi_c=tau_1+pi_a)(pi_a=(1-3*tau_1-2*tau_2-tau_3)/4).simplify_full()\n",
    "pretty_print(temp)\n"
   ]
  },
  {
   "cell_type": "code",
   "execution_count": 22,
   "id": "ec5f8274-5f5f-4c65-a479-0473f414fc72",
   "metadata": {},
   "outputs": [
    {
     "data": {
      "text/html": [
       "<html>\\(\\displaystyle \\frac{3}{4} \\, \\pi_{a}^{2} e^{\\left(-t\\right)} - \\frac{1}{2} \\, \\pi_{a} \\pi_{c} e^{\\left(-t\\right)} + \\frac{3}{4} \\, \\pi_{c}^{2} e^{\\left(-t\\right)} - \\frac{1}{2} \\, \\pi_{a} \\pi_{g} e^{\\left(-t\\right)} - \\frac{1}{2} \\, \\pi_{c} \\pi_{g} e^{\\left(-t\\right)} + \\frac{3}{4} \\, \\pi_{g}^{2} e^{\\left(-t\\right)} - \\frac{1}{2} \\, \\pi_{a} \\pi_{t} e^{\\left(-t\\right)} - \\frac{1}{2} \\, \\pi_{c} \\pi_{t} e^{\\left(-t\\right)} - \\frac{1}{2} \\, \\pi_{g} \\pi_{t} e^{\\left(-t\\right)} + \\frac{3}{4} \\, \\pi_{t}^{2} e^{\\left(-t\\right)} - \\frac{3}{4} \\, \\pi_{a}^{2} + \\frac{1}{2} \\, \\pi_{a} \\pi_{c} - \\frac{3}{4} \\, \\pi_{c}^{2} + \\frac{1}{2} \\, \\pi_{a} \\pi_{g} + \\frac{1}{2} \\, \\pi_{c} \\pi_{g} - \\frac{3}{4} \\, \\pi_{g}^{2} + \\frac{1}{2} \\, \\pi_{a} \\pi_{t} + \\frac{1}{2} \\, \\pi_{c} \\pi_{t} + \\frac{1}{2} \\, \\pi_{g} \\pi_{t} - \\frac{3}{4} \\, \\pi_{t}^{2} - \\frac{3}{4} \\, e^{\\left(-t\\right)} + \\frac{3}{4}\\)</html>"
      ],
      "text/latex": [
       "$\\displaystyle \\frac{3}{4} \\, \\pi_{a}^{2} e^{\\left(-t\\right)} - \\frac{1}{2} \\, \\pi_{a} \\pi_{c} e^{\\left(-t\\right)} + \\frac{3}{4} \\, \\pi_{c}^{2} e^{\\left(-t\\right)} - \\frac{1}{2} \\, \\pi_{a} \\pi_{g} e^{\\left(-t\\right)} - \\frac{1}{2} \\, \\pi_{c} \\pi_{g} e^{\\left(-t\\right)} + \\frac{3}{4} \\, \\pi_{g}^{2} e^{\\left(-t\\right)} - \\frac{1}{2} \\, \\pi_{a} \\pi_{t} e^{\\left(-t\\right)} - \\frac{1}{2} \\, \\pi_{c} \\pi_{t} e^{\\left(-t\\right)} - \\frac{1}{2} \\, \\pi_{g} \\pi_{t} e^{\\left(-t\\right)} + \\frac{3}{4} \\, \\pi_{t}^{2} e^{\\left(-t\\right)} - \\frac{3}{4} \\, \\pi_{a}^{2} + \\frac{1}{2} \\, \\pi_{a} \\pi_{c} - \\frac{3}{4} \\, \\pi_{c}^{2} + \\frac{1}{2} \\, \\pi_{a} \\pi_{g} + \\frac{1}{2} \\, \\pi_{c} \\pi_{g} - \\frac{3}{4} \\, \\pi_{g}^{2} + \\frac{1}{2} \\, \\pi_{a} \\pi_{t} + \\frac{1}{2} \\, \\pi_{c} \\pi_{t} + \\frac{1}{2} \\, \\pi_{g} \\pi_{t} - \\frac{3}{4} \\, \\pi_{t}^{2} - \\frac{3}{4} \\, e^{\\left(-t\\right)} + \\frac{3}{4}$"
      ],
      "text/plain": [
       "3/4*pi_a^2*e^(-t) - 1/2*pi_a*pi_c*e^(-t) + 3/4*pi_c^2*e^(-t) - 1/2*pi_a*pi_g*e^(-t) - 1/2*pi_c*pi_g*e^(-t) + 3/4*pi_g^2*e^(-t) - 1/2*pi_a*pi_t*e^(-t) - 1/2*pi_c*pi_t*e^(-t) - 1/2*pi_g*pi_t*e^(-t) + 3/4*pi_t^2*e^(-t) - 3/4*pi_a^2 + 1/2*pi_a*pi_c - 3/4*pi_c^2 + 1/2*pi_a*pi_g + 1/2*pi_c*pi_g - 3/4*pi_g^2 + 1/2*pi_a*pi_t + 1/2*pi_c*pi_t + 1/2*pi_g*pi_t - 3/4*pi_t^2 - 3/4*e^(-t) + 3/4"
      ]
     },
     "metadata": {},
     "output_type": "display_data"
    }
   ],
   "source": [
    "p_hat_f81t = temp(tau_1=pi_c-pi_a, tau_2 = pi_g-pi_c, tau_3=pi_t-pi_g).expand().simplify_full().expand()\n",
    "pretty_print( p_hat_f81t   )"
   ]
  },
  {
   "cell_type": "code",
   "execution_count": 23,
   "id": "809361f1-d80f-41e9-9791-a32ac17f537c",
   "metadata": {},
   "outputs": [],
   "source": [
    "nu_hat_f81t = solve(p_hat_f81t==p,t)[0].rhs()"
   ]
  },
  {
   "cell_type": "code",
   "execution_count": 24,
   "id": "90f64780-8be3-4738-9e40-92572b0fbffa",
   "metadata": {},
   "outputs": [
    {
     "data": {
      "text/html": [
       "<html>\\(\\displaystyle \\log\\left(\\frac{3 \\, \\pi_{a}^{2}}{3 \\, \\pi_{a}^{2} - 2 \\, \\pi_{a} \\pi_{c} + 3 \\, \\pi_{c}^{2} - 2 \\, \\pi_{a} \\pi_{g} - 2 \\, \\pi_{c} \\pi_{g} + 3 \\, \\pi_{g}^{2} - 2 \\, \\pi_{a} \\pi_{t} - 2 \\, \\pi_{c} \\pi_{t} - 2 \\, \\pi_{g} \\pi_{t} + 3 \\, \\pi_{t}^{2} + 4 \\, p - 3} - \\frac{2 \\, \\pi_{a} \\pi_{c}}{3 \\, \\pi_{a}^{2} - 2 \\, \\pi_{a} \\pi_{c} + 3 \\, \\pi_{c}^{2} - 2 \\, \\pi_{a} \\pi_{g} - 2 \\, \\pi_{c} \\pi_{g} + 3 \\, \\pi_{g}^{2} - 2 \\, \\pi_{a} \\pi_{t} - 2 \\, \\pi_{c} \\pi_{t} - 2 \\, \\pi_{g} \\pi_{t} + 3 \\, \\pi_{t}^{2} + 4 \\, p - 3} + \\frac{3 \\, \\pi_{c}^{2}}{3 \\, \\pi_{a}^{2} - 2 \\, \\pi_{a} \\pi_{c} + 3 \\, \\pi_{c}^{2} - 2 \\, \\pi_{a} \\pi_{g} - 2 \\, \\pi_{c} \\pi_{g} + 3 \\, \\pi_{g}^{2} - 2 \\, \\pi_{a} \\pi_{t} - 2 \\, \\pi_{c} \\pi_{t} - 2 \\, \\pi_{g} \\pi_{t} + 3 \\, \\pi_{t}^{2} + 4 \\, p - 3} - \\frac{2 \\, \\pi_{a} \\pi_{g}}{3 \\, \\pi_{a}^{2} - 2 \\, \\pi_{a} \\pi_{c} + 3 \\, \\pi_{c}^{2} - 2 \\, \\pi_{a} \\pi_{g} - 2 \\, \\pi_{c} \\pi_{g} + 3 \\, \\pi_{g}^{2} - 2 \\, \\pi_{a} \\pi_{t} - 2 \\, \\pi_{c} \\pi_{t} - 2 \\, \\pi_{g} \\pi_{t} + 3 \\, \\pi_{t}^{2} + 4 \\, p - 3} - \\frac{2 \\, \\pi_{c} \\pi_{g}}{3 \\, \\pi_{a}^{2} - 2 \\, \\pi_{a} \\pi_{c} + 3 \\, \\pi_{c}^{2} - 2 \\, \\pi_{a} \\pi_{g} - 2 \\, \\pi_{c} \\pi_{g} + 3 \\, \\pi_{g}^{2} - 2 \\, \\pi_{a} \\pi_{t} - 2 \\, \\pi_{c} \\pi_{t} - 2 \\, \\pi_{g} \\pi_{t} + 3 \\, \\pi_{t}^{2} + 4 \\, p - 3} + \\frac{3 \\, \\pi_{g}^{2}}{3 \\, \\pi_{a}^{2} - 2 \\, \\pi_{a} \\pi_{c} + 3 \\, \\pi_{c}^{2} - 2 \\, \\pi_{a} \\pi_{g} - 2 \\, \\pi_{c} \\pi_{g} + 3 \\, \\pi_{g}^{2} - 2 \\, \\pi_{a} \\pi_{t} - 2 \\, \\pi_{c} \\pi_{t} - 2 \\, \\pi_{g} \\pi_{t} + 3 \\, \\pi_{t}^{2} + 4 \\, p - 3} - \\frac{2 \\, \\pi_{a} \\pi_{t}}{3 \\, \\pi_{a}^{2} - 2 \\, \\pi_{a} \\pi_{c} + 3 \\, \\pi_{c}^{2} - 2 \\, \\pi_{a} \\pi_{g} - 2 \\, \\pi_{c} \\pi_{g} + 3 \\, \\pi_{g}^{2} - 2 \\, \\pi_{a} \\pi_{t} - 2 \\, \\pi_{c} \\pi_{t} - 2 \\, \\pi_{g} \\pi_{t} + 3 \\, \\pi_{t}^{2} + 4 \\, p - 3} - \\frac{2 \\, \\pi_{c} \\pi_{t}}{3 \\, \\pi_{a}^{2} - 2 \\, \\pi_{a} \\pi_{c} + 3 \\, \\pi_{c}^{2} - 2 \\, \\pi_{a} \\pi_{g} - 2 \\, \\pi_{c} \\pi_{g} + 3 \\, \\pi_{g}^{2} - 2 \\, \\pi_{a} \\pi_{t} - 2 \\, \\pi_{c} \\pi_{t} - 2 \\, \\pi_{g} \\pi_{t} + 3 \\, \\pi_{t}^{2} + 4 \\, p - 3} - \\frac{2 \\, \\pi_{g} \\pi_{t}}{3 \\, \\pi_{a}^{2} - 2 \\, \\pi_{a} \\pi_{c} + 3 \\, \\pi_{c}^{2} - 2 \\, \\pi_{a} \\pi_{g} - 2 \\, \\pi_{c} \\pi_{g} + 3 \\, \\pi_{g}^{2} - 2 \\, \\pi_{a} \\pi_{t} - 2 \\, \\pi_{c} \\pi_{t} - 2 \\, \\pi_{g} \\pi_{t} + 3 \\, \\pi_{t}^{2} + 4 \\, p - 3} + \\frac{3 \\, \\pi_{t}^{2}}{3 \\, \\pi_{a}^{2} - 2 \\, \\pi_{a} \\pi_{c} + 3 \\, \\pi_{c}^{2} - 2 \\, \\pi_{a} \\pi_{g} - 2 \\, \\pi_{c} \\pi_{g} + 3 \\, \\pi_{g}^{2} - 2 \\, \\pi_{a} \\pi_{t} - 2 \\, \\pi_{c} \\pi_{t} - 2 \\, \\pi_{g} \\pi_{t} + 3 \\, \\pi_{t}^{2} + 4 \\, p - 3} - \\frac{3}{3 \\, \\pi_{a}^{2} - 2 \\, \\pi_{a} \\pi_{c} + 3 \\, \\pi_{c}^{2} - 2 \\, \\pi_{a} \\pi_{g} - 2 \\, \\pi_{c} \\pi_{g} + 3 \\, \\pi_{g}^{2} - 2 \\, \\pi_{a} \\pi_{t} - 2 \\, \\pi_{c} \\pi_{t} - 2 \\, \\pi_{g} \\pi_{t} + 3 \\, \\pi_{t}^{2} + 4 \\, p - 3}\\right)\\)</html>"
      ],
      "text/latex": [
       "$\\displaystyle \\log\\left(\\frac{3 \\, \\pi_{a}^{2}}{3 \\, \\pi_{a}^{2} - 2 \\, \\pi_{a} \\pi_{c} + 3 \\, \\pi_{c}^{2} - 2 \\, \\pi_{a} \\pi_{g} - 2 \\, \\pi_{c} \\pi_{g} + 3 \\, \\pi_{g}^{2} - 2 \\, \\pi_{a} \\pi_{t} - 2 \\, \\pi_{c} \\pi_{t} - 2 \\, \\pi_{g} \\pi_{t} + 3 \\, \\pi_{t}^{2} + 4 \\, p - 3} - \\frac{2 \\, \\pi_{a} \\pi_{c}}{3 \\, \\pi_{a}^{2} - 2 \\, \\pi_{a} \\pi_{c} + 3 \\, \\pi_{c}^{2} - 2 \\, \\pi_{a} \\pi_{g} - 2 \\, \\pi_{c} \\pi_{g} + 3 \\, \\pi_{g}^{2} - 2 \\, \\pi_{a} \\pi_{t} - 2 \\, \\pi_{c} \\pi_{t} - 2 \\, \\pi_{g} \\pi_{t} + 3 \\, \\pi_{t}^{2} + 4 \\, p - 3} + \\frac{3 \\, \\pi_{c}^{2}}{3 \\, \\pi_{a}^{2} - 2 \\, \\pi_{a} \\pi_{c} + 3 \\, \\pi_{c}^{2} - 2 \\, \\pi_{a} \\pi_{g} - 2 \\, \\pi_{c} \\pi_{g} + 3 \\, \\pi_{g}^{2} - 2 \\, \\pi_{a} \\pi_{t} - 2 \\, \\pi_{c} \\pi_{t} - 2 \\, \\pi_{g} \\pi_{t} + 3 \\, \\pi_{t}^{2} + 4 \\, p - 3} - \\frac{2 \\, \\pi_{a} \\pi_{g}}{3 \\, \\pi_{a}^{2} - 2 \\, \\pi_{a} \\pi_{c} + 3 \\, \\pi_{c}^{2} - 2 \\, \\pi_{a} \\pi_{g} - 2 \\, \\pi_{c} \\pi_{g} + 3 \\, \\pi_{g}^{2} - 2 \\, \\pi_{a} \\pi_{t} - 2 \\, \\pi_{c} \\pi_{t} - 2 \\, \\pi_{g} \\pi_{t} + 3 \\, \\pi_{t}^{2} + 4 \\, p - 3} - \\frac{2 \\, \\pi_{c} \\pi_{g}}{3 \\, \\pi_{a}^{2} - 2 \\, \\pi_{a} \\pi_{c} + 3 \\, \\pi_{c}^{2} - 2 \\, \\pi_{a} \\pi_{g} - 2 \\, \\pi_{c} \\pi_{g} + 3 \\, \\pi_{g}^{2} - 2 \\, \\pi_{a} \\pi_{t} - 2 \\, \\pi_{c} \\pi_{t} - 2 \\, \\pi_{g} \\pi_{t} + 3 \\, \\pi_{t}^{2} + 4 \\, p - 3} + \\frac{3 \\, \\pi_{g}^{2}}{3 \\, \\pi_{a}^{2} - 2 \\, \\pi_{a} \\pi_{c} + 3 \\, \\pi_{c}^{2} - 2 \\, \\pi_{a} \\pi_{g} - 2 \\, \\pi_{c} \\pi_{g} + 3 \\, \\pi_{g}^{2} - 2 \\, \\pi_{a} \\pi_{t} - 2 \\, \\pi_{c} \\pi_{t} - 2 \\, \\pi_{g} \\pi_{t} + 3 \\, \\pi_{t}^{2} + 4 \\, p - 3} - \\frac{2 \\, \\pi_{a} \\pi_{t}}{3 \\, \\pi_{a}^{2} - 2 \\, \\pi_{a} \\pi_{c} + 3 \\, \\pi_{c}^{2} - 2 \\, \\pi_{a} \\pi_{g} - 2 \\, \\pi_{c} \\pi_{g} + 3 \\, \\pi_{g}^{2} - 2 \\, \\pi_{a} \\pi_{t} - 2 \\, \\pi_{c} \\pi_{t} - 2 \\, \\pi_{g} \\pi_{t} + 3 \\, \\pi_{t}^{2} + 4 \\, p - 3} - \\frac{2 \\, \\pi_{c} \\pi_{t}}{3 \\, \\pi_{a}^{2} - 2 \\, \\pi_{a} \\pi_{c} + 3 \\, \\pi_{c}^{2} - 2 \\, \\pi_{a} \\pi_{g} - 2 \\, \\pi_{c} \\pi_{g} + 3 \\, \\pi_{g}^{2} - 2 \\, \\pi_{a} \\pi_{t} - 2 \\, \\pi_{c} \\pi_{t} - 2 \\, \\pi_{g} \\pi_{t} + 3 \\, \\pi_{t}^{2} + 4 \\, p - 3} - \\frac{2 \\, \\pi_{g} \\pi_{t}}{3 \\, \\pi_{a}^{2} - 2 \\, \\pi_{a} \\pi_{c} + 3 \\, \\pi_{c}^{2} - 2 \\, \\pi_{a} \\pi_{g} - 2 \\, \\pi_{c} \\pi_{g} + 3 \\, \\pi_{g}^{2} - 2 \\, \\pi_{a} \\pi_{t} - 2 \\, \\pi_{c} \\pi_{t} - 2 \\, \\pi_{g} \\pi_{t} + 3 \\, \\pi_{t}^{2} + 4 \\, p - 3} + \\frac{3 \\, \\pi_{t}^{2}}{3 \\, \\pi_{a}^{2} - 2 \\, \\pi_{a} \\pi_{c} + 3 \\, \\pi_{c}^{2} - 2 \\, \\pi_{a} \\pi_{g} - 2 \\, \\pi_{c} \\pi_{g} + 3 \\, \\pi_{g}^{2} - 2 \\, \\pi_{a} \\pi_{t} - 2 \\, \\pi_{c} \\pi_{t} - 2 \\, \\pi_{g} \\pi_{t} + 3 \\, \\pi_{t}^{2} + 4 \\, p - 3} - \\frac{3}{3 \\, \\pi_{a}^{2} - 2 \\, \\pi_{a} \\pi_{c} + 3 \\, \\pi_{c}^{2} - 2 \\, \\pi_{a} \\pi_{g} - 2 \\, \\pi_{c} \\pi_{g} + 3 \\, \\pi_{g}^{2} - 2 \\, \\pi_{a} \\pi_{t} - 2 \\, \\pi_{c} \\pi_{t} - 2 \\, \\pi_{g} \\pi_{t} + 3 \\, \\pi_{t}^{2} + 4 \\, p - 3}\\right)$"
      ],
      "text/plain": [
       "log(3*pi_a^2/(3*pi_a^2 - 2*pi_a*pi_c + 3*pi_c^2 - 2*pi_a*pi_g - 2*pi_c*pi_g + 3*pi_g^2 - 2*pi_a*pi_t - 2*pi_c*pi_t - 2*pi_g*pi_t + 3*pi_t^2 + 4*p - 3) - 2*pi_a*pi_c/(3*pi_a^2 - 2*pi_a*pi_c + 3*pi_c^2 - 2*pi_a*pi_g - 2*pi_c*pi_g + 3*pi_g^2 - 2*pi_a*pi_t - 2*pi_c*pi_t - 2*pi_g*pi_t + 3*pi_t^2 + 4*p - 3) + 3*pi_c^2/(3*pi_a^2 - 2*pi_a*pi_c + 3*pi_c^2 - 2*pi_a*pi_g - 2*pi_c*pi_g + 3*pi_g^2 - 2*pi_a*pi_t - 2*pi_c*pi_t - 2*pi_g*pi_t + 3*pi_t^2 + 4*p - 3) - 2*pi_a*pi_g/(3*pi_a^2 - 2*pi_a*pi_c + 3*pi_c^2 - 2*pi_a*pi_g - 2*pi_c*pi_g + 3*pi_g^2 - 2*pi_a*pi_t - 2*pi_c*pi_t - 2*pi_g*pi_t + 3*pi_t^2 + 4*p - 3) - 2*pi_c*pi_g/(3*pi_a^2 - 2*pi_a*pi_c + 3*pi_c^2 - 2*pi_a*pi_g - 2*pi_c*pi_g + 3*pi_g^2 - 2*pi_a*pi_t - 2*pi_c*pi_t - 2*pi_g*pi_t + 3*pi_t^2 + 4*p - 3) + 3*pi_g^2/(3*pi_a^2 - 2*pi_a*pi_c + 3*pi_c^2 - 2*pi_a*pi_g - 2*pi_c*pi_g + 3*pi_g^2 - 2*pi_a*pi_t - 2*pi_c*pi_t - 2*pi_g*pi_t + 3*pi_t^2 + 4*p - 3) - 2*pi_a*pi_t/(3*pi_a^2 - 2*pi_a*pi_c + 3*pi_c^2 - 2*pi_a*pi_g - 2*pi_c*pi_g + 3*pi_g^2 - 2*pi_a*pi_t - 2*pi_c*pi_t - 2*pi_g*pi_t + 3*pi_t^2 + 4*p - 3) - 2*pi_c*pi_t/(3*pi_a^2 - 2*pi_a*pi_c + 3*pi_c^2 - 2*pi_a*pi_g - 2*pi_c*pi_g + 3*pi_g^2 - 2*pi_a*pi_t - 2*pi_c*pi_t - 2*pi_g*pi_t + 3*pi_t^2 + 4*p - 3) - 2*pi_g*pi_t/(3*pi_a^2 - 2*pi_a*pi_c + 3*pi_c^2 - 2*pi_a*pi_g - 2*pi_c*pi_g + 3*pi_g^2 - 2*pi_a*pi_t - 2*pi_c*pi_t - 2*pi_g*pi_t + 3*pi_t^2 + 4*p - 3) + 3*pi_t^2/(3*pi_a^2 - 2*pi_a*pi_c + 3*pi_c^2 - 2*pi_a*pi_g - 2*pi_c*pi_g + 3*pi_g^2 - 2*pi_a*pi_t - 2*pi_c*pi_t - 2*pi_g*pi_t + 3*pi_t^2 + 4*p - 3) - 3/(3*pi_a^2 - 2*pi_a*pi_c + 3*pi_c^2 - 2*pi_a*pi_g - 2*pi_c*pi_g + 3*pi_g^2 - 2*pi_a*pi_t - 2*pi_c*pi_t - 2*pi_g*pi_t + 3*pi_t^2 + 4*p - 3))"
      ]
     },
     "metadata": {},
     "output_type": "display_data"
    }
   ],
   "source": [
    "pretty_print( nu_hat_f81t )"
   ]
  },
  {
   "cell_type": "code",
   "execution_count": 25,
   "id": "c3b92ab3-77d6-48db-b89f-7c9ede88117a",
   "metadata": {},
   "outputs": [
    {
     "data": {
      "text/html": [
       "<html>\\(\\displaystyle \\log\\left(\\frac{3 \\, \\tau_{1}^{2} + 4 \\, \\tau_{1} \\tau_{2} + 4 \\, \\tau_{2}^{2} + 2 \\, {\\left(\\tau_{1} + 2 \\, \\tau_{2}\\right)} \\tau_{3} + 3 \\, \\tau_{3}^{2} - 3}{3 \\, \\tau_{1}^{2} + 4 \\, \\tau_{1} \\tau_{2} + 4 \\, \\tau_{2}^{2} + 2 \\, {\\left(\\tau_{1} + 2 \\, \\tau_{2}\\right)} \\tau_{3} + 3 \\, \\tau_{3}^{2} + 4 \\, p - 3}\\right)\\)</html>"
      ],
      "text/latex": [
       "$\\displaystyle \\log\\left(\\frac{3 \\, \\tau_{1}^{2} + 4 \\, \\tau_{1} \\tau_{2} + 4 \\, \\tau_{2}^{2} + 2 \\, {\\left(\\tau_{1} + 2 \\, \\tau_{2}\\right)} \\tau_{3} + 3 \\, \\tau_{3}^{2} - 3}{3 \\, \\tau_{1}^{2} + 4 \\, \\tau_{1} \\tau_{2} + 4 \\, \\tau_{2}^{2} + 2 \\, {\\left(\\tau_{1} + 2 \\, \\tau_{2}\\right)} \\tau_{3} + 3 \\, \\tau_{3}^{2} + 4 \\, p - 3}\\right)$"
      ],
      "text/plain": [
       "log((3*tau_1^2 + 4*tau_1*tau_2 + 4*tau_2^2 + 2*(tau_1 + 2*tau_2)*tau_3 + 3*tau_3^2 - 3)/(3*tau_1^2 + 4*tau_1*tau_2 + 4*tau_2^2 + 2*(tau_1 + 2*tau_2)*tau_3 + 3*tau_3^2 + 4*p - 3))"
      ]
     },
     "metadata": {},
     "output_type": "display_data"
    }
   ],
   "source": [
    "temp = nu_hat_f81t.simplify_full()(pi_t=tau_3+pi_g)(pi_g=tau_2+pi_c)(pi_c=tau_1+pi_a)(pi_a=(1-3*tau_1-2*tau_2-tau_3)/4).simplify_full()\n",
    "pretty_print(temp)"
   ]
  },
  {
   "cell_type": "code",
   "execution_count": 26,
   "id": "a5a876a9-7a30-4551-9de8-66dbcfe696b4",
   "metadata": {},
   "outputs": [
    {
     "data": {
      "text/html": [
       "<html>\\(\\displaystyle \\log\\left(\\frac{3 \\, \\pi_{a}^{2} - 2 \\, \\pi_{a} \\pi_{c} + 3 \\, \\pi_{c}^{2} - 2 \\, {\\left(\\pi_{a} + \\pi_{c}\\right)} \\pi_{g} + 3 \\, \\pi_{g}^{2} - 2 \\, {\\left(\\pi_{a} + \\pi_{c} + \\pi_{g}\\right)} \\pi_{t} + 3 \\, \\pi_{t}^{2} - 3}{3 \\, \\pi_{a}^{2} - 2 \\, \\pi_{a} \\pi_{c} + 3 \\, \\pi_{c}^{2} - 2 \\, {\\left(\\pi_{a} + \\pi_{c}\\right)} \\pi_{g} + 3 \\, \\pi_{g}^{2} - 2 \\, {\\left(\\pi_{a} + \\pi_{c} + \\pi_{g}\\right)} \\pi_{t} + 3 \\, \\pi_{t}^{2} + 4 \\, p - 3}\\right)\\)</html>"
      ],
      "text/latex": [
       "$\\displaystyle \\log\\left(\\frac{3 \\, \\pi_{a}^{2} - 2 \\, \\pi_{a} \\pi_{c} + 3 \\, \\pi_{c}^{2} - 2 \\, {\\left(\\pi_{a} + \\pi_{c}\\right)} \\pi_{g} + 3 \\, \\pi_{g}^{2} - 2 \\, {\\left(\\pi_{a} + \\pi_{c} + \\pi_{g}\\right)} \\pi_{t} + 3 \\, \\pi_{t}^{2} - 3}{3 \\, \\pi_{a}^{2} - 2 \\, \\pi_{a} \\pi_{c} + 3 \\, \\pi_{c}^{2} - 2 \\, {\\left(\\pi_{a} + \\pi_{c}\\right)} \\pi_{g} + 3 \\, \\pi_{g}^{2} - 2 \\, {\\left(\\pi_{a} + \\pi_{c} + \\pi_{g}\\right)} \\pi_{t} + 3 \\, \\pi_{t}^{2} + 4 \\, p - 3}\\right)$"
      ],
      "text/plain": [
       "log((3*pi_a^2 - 2*pi_a*pi_c + 3*pi_c^2 - 2*(pi_a + pi_c)*pi_g + 3*pi_g^2 - 2*(pi_a + pi_c + pi_g)*pi_t + 3*pi_t^2 - 3)/(3*pi_a^2 - 2*pi_a*pi_c + 3*pi_c^2 - 2*(pi_a + pi_c)*pi_g + 3*pi_g^2 - 2*(pi_a + pi_c + pi_g)*pi_t + 3*pi_t^2 + 4*p - 3))"
      ]
     },
     "metadata": {},
     "output_type": "display_data"
    }
   ],
   "source": [
    "nu_hat_f81t = temp(tau_1=pi_c-pi_a, tau_2 = pi_g-pi_c, tau_3=pi_t-pi_g).expand().simplify_full()\n",
    "pretty_print( nu_hat_f81t )"
   ]
  },
  {
   "cell_type": "code",
   "execution_count": 27,
   "id": "bb36cfe0-9488-494e-a721-94d3cb5f5942",
   "metadata": {},
   "outputs": [
    {
     "data": {
      "text/html": [
       "<html>\\(\\displaystyle 3 \\, \\pi_{a}^{2} - 2 \\, \\pi_{a} \\pi_{c} + 3 \\, \\pi_{c}^{2} - 2 \\, \\pi_{a} \\pi_{g} - 2 \\, \\pi_{c} \\pi_{g} + 3 \\, \\pi_{g}^{2} - 2 \\, \\pi_{a} \\pi_{t} - 2 \\, \\pi_{c} \\pi_{t} - 2 \\, \\pi_{g} \\pi_{t} + 3 \\, \\pi_{t}^{2} - 3\\)</html>"
      ],
      "text/latex": [
       "$\\displaystyle 3 \\, \\pi_{a}^{2} - 2 \\, \\pi_{a} \\pi_{c} + 3 \\, \\pi_{c}^{2} - 2 \\, \\pi_{a} \\pi_{g} - 2 \\, \\pi_{c} \\pi_{g} + 3 \\, \\pi_{g}^{2} - 2 \\, \\pi_{a} \\pi_{t} - 2 \\, \\pi_{c} \\pi_{t} - 2 \\, \\pi_{g} \\pi_{t} + 3 \\, \\pi_{t}^{2} - 3$"
      ],
      "text/plain": [
       "3*pi_a^2 - 2*pi_a*pi_c + 3*pi_c^2 - 2*pi_a*pi_g - 2*pi_c*pi_g + 3*pi_g^2 - 2*pi_a*pi_t - 2*pi_c*pi_t - 2*pi_g*pi_t + 3*pi_t^2 - 3"
      ]
     },
     "metadata": {},
     "output_type": "display_data"
    }
   ],
   "source": [
    "pretty_print(exp(nu_hat_f81t).numerator())"
   ]
  },
  {
   "cell_type": "code",
   "execution_count": 28,
   "id": "47c4279a-e491-4e49-aaab-4a41c97820d2",
   "metadata": {},
   "outputs": [
    {
     "data": {
      "text/plain": [
       "-8*pi_a*pi_c - 8*pi_a*pi_g - 8*pi_c*pi_g - 8*pi_a*pi_t - 8*pi_c*pi_t - 8*pi_g*pi_t"
      ]
     },
     "execution_count": 28,
     "metadata": {},
     "output_type": "execute_result"
    }
   ],
   "source": [
    "(exp(nu_hat_f81t).numerator() - 3*(pi_a + pi_c + pi_g + pi_t - 1)^2 - 6*(pi_a + pi_c + pi_g + pi_t - 1)).expand()"
   ]
  },
  {
   "cell_type": "code",
   "execution_count": 29,
   "id": "8e6a7fff-7eab-497a-a02a-d17cfed534c6",
   "metadata": {},
   "outputs": [
    {
     "data": {
      "text/html": [
       "<html>\\(\\displaystyle \\log\\left(\\frac{2 \\, {\\left(\\pi_{a} \\pi_{c} + \\pi_{a} \\pi_{g} + \\pi_{c} \\pi_{g} + \\pi_{a} \\pi_{t} + \\pi_{c} \\pi_{t} + \\pi_{g} \\pi_{t}\\right)}}{2 \\, \\pi_{a} \\pi_{c} + 2 \\, \\pi_{a} \\pi_{g} + 2 \\, \\pi_{c} \\pi_{g} + 2 \\, \\pi_{a} \\pi_{t} + 2 \\, \\pi_{c} \\pi_{t} + 2 \\, \\pi_{g} \\pi_{t} - p}\\right)\\)</html>"
      ],
      "text/latex": [
       "$\\displaystyle \\log\\left(\\frac{2 \\, {\\left(\\pi_{a} \\pi_{c} + \\pi_{a} \\pi_{g} + \\pi_{c} \\pi_{g} + \\pi_{a} \\pi_{t} + \\pi_{c} \\pi_{t} + \\pi_{g} \\pi_{t}\\right)}}{2 \\, \\pi_{a} \\pi_{c} + 2 \\, \\pi_{a} \\pi_{g} + 2 \\, \\pi_{c} \\pi_{g} + 2 \\, \\pi_{a} \\pi_{t} + 2 \\, \\pi_{c} \\pi_{t} + 2 \\, \\pi_{g} \\pi_{t} - p}\\right)$"
      ],
      "text/plain": [
       "log(2*(pi_a*pi_c + pi_a*pi_g + pi_c*pi_g + pi_a*pi_t + pi_c*pi_t + pi_g*pi_t)/(2*pi_a*pi_c + 2*pi_a*pi_g + 2*pi_c*pi_g + 2*pi_a*pi_t + 2*pi_c*pi_t + 2*pi_g*pi_t - p))"
      ]
     },
     "metadata": {},
     "output_type": "display_data"
    }
   ],
   "source": [
    "nu_hat_f81t = (\n",
    "    log(\n",
    "        (exp(nu_hat_f81t).numerator() - 3*(pi_a + pi_c + pi_g + pi_t - 1)^2 - 6*(pi_a + pi_c + pi_g + pi_t - 1)).expand() /\n",
    "        (exp(nu_hat_f81t).denominator() - 3*(pi_a + pi_c + pi_g + pi_t - 1)^2 - 6*(pi_a + pi_c + pi_g + pi_t - 1)).expand()\n",
    "    )\n",
    ")\n",
    "\n",
    "pretty_print(nu_hat_f81t)"
   ]
  },
  {
   "cell_type": "code",
   "execution_count": 30,
   "id": "05bf6417-71db-46eb-a908-dd1735531d27",
   "metadata": {},
   "outputs": [
    {
     "data": {
      "text/html": [
       "<html>\\(\\displaystyle 2 \\, \\pi_{a} \\pi_{c} + 2 \\, \\pi_{a} \\pi_{g} + 2 \\, \\pi_{c} \\pi_{g} + 2 \\, \\pi_{a} \\pi_{t} + 2 \\, \\pi_{c} \\pi_{t} + 2 \\, \\pi_{g} \\pi_{t}\\)</html>"
      ],
      "text/latex": [
       "$\\displaystyle 2 \\, \\pi_{a} \\pi_{c} + 2 \\, \\pi_{a} \\pi_{g} + 2 \\, \\pi_{c} \\pi_{g} + 2 \\, \\pi_{a} \\pi_{t} + 2 \\, \\pi_{c} \\pi_{t} + 2 \\, \\pi_{g} \\pi_{t}$"
      ],
      "text/plain": [
       "2*pi_a*pi_c + 2*pi_a*pi_g + 2*pi_c*pi_g + 2*pi_a*pi_t + 2*pi_c*pi_t + 2*pi_g*pi_t"
      ]
     },
     "metadata": {},
     "output_type": "display_data"
    }
   ],
   "source": [
    "pretty_print(1/beta_f81)"
   ]
  },
  {
   "cell_type": "code",
   "execution_count": 31,
   "id": "ba6850a6-01a8-47b8-957d-beb4c1020a14",
   "metadata": {},
   "outputs": [
    {
     "data": {
      "text/plain": [
       "2*pi_a*pi_c + 2*pi_a*pi_g + 2*pi_c*pi_g + 2*pi_a*pi_t + 2*pi_c*pi_t + 2*pi_g*pi_t"
      ]
     },
     "execution_count": 31,
     "metadata": {},
     "output_type": "execute_result"
    }
   ],
   "source": [
    "1/beta_f81"
   ]
  },
  {
   "cell_type": "code",
   "execution_count": 32,
   "id": "26307d39-9dda-43a8-ba79-592856c0d734",
   "metadata": {},
   "outputs": [
    {
     "data": {
      "text/html": [
       "<html>\\(\\displaystyle \\log\\left(\\frac{\\beta}{\\beta - p}\\right)\\)</html>"
      ],
      "text/latex": [
       "$\\displaystyle \\log\\left(\\frac{\\beta}{\\beta - p}\\right)$"
      ],
      "text/plain": [
       "log(beta/(beta - p))"
      ]
     },
     "metadata": {},
     "output_type": "display_data"
    }
   ],
   "source": [
    "nu_hat_f81t = (\n",
    "    log(\n",
    "        (exp(nu_hat_f81t).numerator() - (2*pi_a*pi_c + 2*pi_a*pi_g + 2*pi_c*pi_g + 2*pi_a*pi_t + 2*pi_c*pi_t + 2*pi_g*pi_t - beta)).expand() /\n",
    "        (exp(nu_hat_f81t).denominator() - (2*pi_a*pi_c + 2*pi_a*pi_g + 2*pi_c*pi_g + 2*pi_a*pi_t + 2*pi_c*pi_t + 2*pi_g*pi_t - beta)).expand()\n",
    "    )\n",
    ")\n",
    "pretty_print(nu_hat_f81t)"
   ]
  },
  {
   "cell_type": "code",
   "execution_count": 33,
   "id": "ce67aa34-55c3-4366-bd27-e5188f97b553",
   "metadata": {},
   "outputs": [
    {
     "data": {
      "text/html": [
       "<html>\\(\\displaystyle \\frac{\\log\\left(\\frac{\\beta}{\\beta - p}\\right)}{\\beta}\\)</html>"
      ],
      "text/latex": [
       "$\\displaystyle \\frac{\\log\\left(\\frac{\\beta}{\\beta - p}\\right)}{\\beta}$"
      ],
      "text/plain": [
       "log(beta/(beta - p))/beta"
      ]
     },
     "metadata": {},
     "output_type": "display_data"
    }
   ],
   "source": [
    "# nu_hat_f81 in summary form\n",
    "pretty_print(nu_hat_f81t/beta)"
   ]
  },
  {
   "cell_type": "code",
   "execution_count": 34,
   "id": "fdc88dc7-b14a-44bf-b8aa-95aa068e8924",
   "metadata": {},
   "outputs": [
    {
     "data": {
      "text/html": [
       "<html>\\(\\displaystyle 2 \\, {\\left(\\pi_{a} \\pi_{c} + \\pi_{a} \\pi_{g} + \\pi_{c} \\pi_{g} + \\pi_{a} \\pi_{t} + \\pi_{c} \\pi_{t} + \\pi_{g} \\pi_{t}\\right)} \\log\\left(-\\frac{1}{{\\left(\\pi_{a} \\pi_{c} + \\pi_{a} \\pi_{g} + \\pi_{c} \\pi_{g} + \\pi_{a} \\pi_{t} + \\pi_{c} \\pi_{t} + \\pi_{g} \\pi_{t}\\right)} {\\left(2 \\, p - \\frac{1}{\\pi_{a} \\pi_{c} + \\pi_{a} \\pi_{g} + \\pi_{c} \\pi_{g} + \\pi_{a} \\pi_{t} + \\pi_{c} \\pi_{t} + \\pi_{g} \\pi_{t}}\\right)}}\\right)\\)</html>"
      ],
      "text/latex": [
       "$\\displaystyle 2 \\, {\\left(\\pi_{a} \\pi_{c} + \\pi_{a} \\pi_{g} + \\pi_{c} \\pi_{g} + \\pi_{a} \\pi_{t} + \\pi_{c} \\pi_{t} + \\pi_{g} \\pi_{t}\\right)} \\log\\left(-\\frac{1}{{\\left(\\pi_{a} \\pi_{c} + \\pi_{a} \\pi_{g} + \\pi_{c} \\pi_{g} + \\pi_{a} \\pi_{t} + \\pi_{c} \\pi_{t} + \\pi_{g} \\pi_{t}\\right)} {\\left(2 \\, p - \\frac{1}{\\pi_{a} \\pi_{c} + \\pi_{a} \\pi_{g} + \\pi_{c} \\pi_{g} + \\pi_{a} \\pi_{t} + \\pi_{c} \\pi_{t} + \\pi_{g} \\pi_{t}}\\right)}}\\right)$"
      ],
      "text/plain": [
       "2*(pi_a*pi_c + pi_a*pi_g + pi_c*pi_g + pi_a*pi_t + pi_c*pi_t + pi_g*pi_t)*log(-1/((pi_a*pi_c + pi_a*pi_g + pi_c*pi_g + pi_a*pi_t + pi_c*pi_t + pi_g*pi_t)*(2*p - 1/(pi_a*pi_c + pi_a*pi_g + pi_c*pi_g + pi_a*pi_t + pi_c*pi_t + pi_g*pi_t))))"
      ]
     },
     "metadata": {},
     "output_type": "display_data"
    }
   ],
   "source": [
    "nu_hat_f81 = (nu_hat_f81t/beta)(beta=beta_f81)\n",
    "pretty_print(nu_hat_f81)"
   ]
  },
  {
   "cell_type": "code",
   "execution_count": null,
   "id": "0754c4d8-e83d-4a58-aa32-62196d6dca8b",
   "metadata": {},
   "outputs": [],
   "source": []
  },
  {
   "cell_type": "markdown",
   "id": "0a7fa675-5e1d-4764-bcc0-f40f7ce14172",
   "metadata": {},
   "source": [
    "### 16-state F81"
   ]
  },
  {
   "cell_type": "code",
   "execution_count": 35,
   "id": "549e8cdc-4ffc-44b4-b5bf-aac70e073718",
   "metadata": {},
   "outputs": [
    {
     "data": {
      "text/html": [
       "<html>\\(\\displaystyle \\left(\\begin{array}{rrrrrrrrrrrrrrrr}\n",
       "-2 \\, \\pi_{c} - 2 \\, \\pi_{g} - 2 \\, \\pi_{t} & \\pi_{c} & \\pi_{g} & \\pi_{t} & \\pi_{c} & 0 & 0 & 0 & \\pi_{g} & 0 & 0 & 0 & \\pi_{t} & 0 & 0 & 0 \\\\\n",
       "\\pi_{a} & -\\pi_{a} - \\pi_{c} - 2 \\, \\pi_{g} - 2 \\, \\pi_{t} & \\pi_{g} & \\pi_{t} & 0 & \\pi_{c} & 0 & 0 & 0 & \\pi_{g} & 0 & 0 & 0 & \\pi_{t} & 0 & 0 \\\\\n",
       "\\pi_{a} & \\pi_{c} & -\\pi_{a} - 2 \\, \\pi_{c} - \\pi_{g} - 2 \\, \\pi_{t} & \\pi_{t} & 0 & 0 & \\pi_{c} & 0 & 0 & 0 & \\pi_{g} & 0 & 0 & 0 & \\pi_{t} & 0 \\\\\n",
       "\\pi_{a} & \\pi_{c} & \\pi_{g} & -\\pi_{a} - 2 \\, \\pi_{c} - 2 \\, \\pi_{g} - \\pi_{t} & 0 & 0 & 0 & \\pi_{c} & 0 & 0 & 0 & \\pi_{g} & 0 & 0 & 0 & \\pi_{t} \\\\\n",
       "\\pi_{a} & 0 & 0 & 0 & -\\pi_{a} - \\pi_{c} - 2 \\, \\pi_{g} - 2 \\, \\pi_{t} & \\pi_{c} & \\pi_{g} & \\pi_{t} & \\pi_{g} & 0 & 0 & 0 & \\pi_{t} & 0 & 0 & 0 \\\\\n",
       "0 & \\pi_{a} & 0 & 0 & \\pi_{a} & -2 \\, \\pi_{a} - 2 \\, \\pi_{g} - 2 \\, \\pi_{t} & \\pi_{g} & \\pi_{t} & 0 & \\pi_{g} & 0 & 0 & 0 & \\pi_{t} & 0 & 0 \\\\\n",
       "0 & 0 & \\pi_{a} & 0 & \\pi_{a} & \\pi_{c} & -2 \\, \\pi_{a} - \\pi_{c} - \\pi_{g} - 2 \\, \\pi_{t} & \\pi_{t} & 0 & 0 & \\pi_{g} & 0 & 0 & 0 & \\pi_{t} & 0 \\\\\n",
       "0 & 0 & 0 & \\pi_{a} & \\pi_{a} & \\pi_{c} & \\pi_{g} & -2 \\, \\pi_{a} - \\pi_{c} - 2 \\, \\pi_{g} - \\pi_{t} & 0 & 0 & 0 & \\pi_{g} & 0 & 0 & 0 & \\pi_{t} \\\\\n",
       "\\pi_{a} & 0 & 0 & 0 & \\pi_{c} & 0 & 0 & 0 & -\\pi_{a} - 2 \\, \\pi_{c} - \\pi_{g} - 2 \\, \\pi_{t} & \\pi_{c} & \\pi_{g} & \\pi_{t} & \\pi_{t} & 0 & 0 & 0 \\\\\n",
       "0 & \\pi_{a} & 0 & 0 & 0 & \\pi_{c} & 0 & 0 & \\pi_{a} & -2 \\, \\pi_{a} - \\pi_{c} - \\pi_{g} - 2 \\, \\pi_{t} & \\pi_{g} & \\pi_{t} & 0 & \\pi_{t} & 0 & 0 \\\\\n",
       "0 & 0 & \\pi_{a} & 0 & 0 & 0 & \\pi_{c} & 0 & \\pi_{a} & \\pi_{c} & -2 \\, \\pi_{a} - 2 \\, \\pi_{c} - 2 \\, \\pi_{t} & \\pi_{t} & 0 & 0 & \\pi_{t} & 0 \\\\\n",
       "0 & 0 & 0 & \\pi_{a} & 0 & 0 & 0 & \\pi_{c} & \\pi_{a} & \\pi_{c} & \\pi_{g} & -2 \\, \\pi_{a} - 2 \\, \\pi_{c} - \\pi_{g} - \\pi_{t} & 0 & 0 & 0 & \\pi_{t} \\\\\n",
       "\\pi_{a} & 0 & 0 & 0 & \\pi_{c} & 0 & 0 & 0 & \\pi_{g} & 0 & 0 & 0 & -\\pi_{a} - 2 \\, \\pi_{c} - 2 \\, \\pi_{g} - \\pi_{t} & \\pi_{c} & \\pi_{g} & \\pi_{t} \\\\\n",
       "0 & \\pi_{a} & 0 & 0 & 0 & \\pi_{c} & 0 & 0 & 0 & \\pi_{g} & 0 & 0 & \\pi_{a} & -2 \\, \\pi_{a} - \\pi_{c} - 2 \\, \\pi_{g} - \\pi_{t} & \\pi_{g} & \\pi_{t} \\\\\n",
       "0 & 0 & \\pi_{a} & 0 & 0 & 0 & \\pi_{c} & 0 & 0 & 0 & \\pi_{g} & 0 & \\pi_{a} & \\pi_{c} & -2 \\, \\pi_{a} - 2 \\, \\pi_{c} - \\pi_{g} - \\pi_{t} & \\pi_{t} \\\\\n",
       "0 & 0 & 0 & \\pi_{a} & 0 & 0 & 0 & \\pi_{c} & 0 & 0 & 0 & \\pi_{g} & \\pi_{a} & \\pi_{c} & \\pi_{g} & -2 \\, \\pi_{a} - 2 \\, \\pi_{c} - 2 \\, \\pi_{g}\n",
       "\\end{array}\\right)\\)</html>"
      ],
      "text/latex": [
       "$\\displaystyle \\left(\\begin{array}{rrrrrrrrrrrrrrrr}\n",
       "-2 \\, \\pi_{c} - 2 \\, \\pi_{g} - 2 \\, \\pi_{t} & \\pi_{c} & \\pi_{g} & \\pi_{t} & \\pi_{c} & 0 & 0 & 0 & \\pi_{g} & 0 & 0 & 0 & \\pi_{t} & 0 & 0 & 0 \\\\\n",
       "\\pi_{a} & -\\pi_{a} - \\pi_{c} - 2 \\, \\pi_{g} - 2 \\, \\pi_{t} & \\pi_{g} & \\pi_{t} & 0 & \\pi_{c} & 0 & 0 & 0 & \\pi_{g} & 0 & 0 & 0 & \\pi_{t} & 0 & 0 \\\\\n",
       "\\pi_{a} & \\pi_{c} & -\\pi_{a} - 2 \\, \\pi_{c} - \\pi_{g} - 2 \\, \\pi_{t} & \\pi_{t} & 0 & 0 & \\pi_{c} & 0 & 0 & 0 & \\pi_{g} & 0 & 0 & 0 & \\pi_{t} & 0 \\\\\n",
       "\\pi_{a} & \\pi_{c} & \\pi_{g} & -\\pi_{a} - 2 \\, \\pi_{c} - 2 \\, \\pi_{g} - \\pi_{t} & 0 & 0 & 0 & \\pi_{c} & 0 & 0 & 0 & \\pi_{g} & 0 & 0 & 0 & \\pi_{t} \\\\\n",
       "\\pi_{a} & 0 & 0 & 0 & -\\pi_{a} - \\pi_{c} - 2 \\, \\pi_{g} - 2 \\, \\pi_{t} & \\pi_{c} & \\pi_{g} & \\pi_{t} & \\pi_{g} & 0 & 0 & 0 & \\pi_{t} & 0 & 0 & 0 \\\\\n",
       "0 & \\pi_{a} & 0 & 0 & \\pi_{a} & -2 \\, \\pi_{a} - 2 \\, \\pi_{g} - 2 \\, \\pi_{t} & \\pi_{g} & \\pi_{t} & 0 & \\pi_{g} & 0 & 0 & 0 & \\pi_{t} & 0 & 0 \\\\\n",
       "0 & 0 & \\pi_{a} & 0 & \\pi_{a} & \\pi_{c} & -2 \\, \\pi_{a} - \\pi_{c} - \\pi_{g} - 2 \\, \\pi_{t} & \\pi_{t} & 0 & 0 & \\pi_{g} & 0 & 0 & 0 & \\pi_{t} & 0 \\\\\n",
       "0 & 0 & 0 & \\pi_{a} & \\pi_{a} & \\pi_{c} & \\pi_{g} & -2 \\, \\pi_{a} - \\pi_{c} - 2 \\, \\pi_{g} - \\pi_{t} & 0 & 0 & 0 & \\pi_{g} & 0 & 0 & 0 & \\pi_{t} \\\\\n",
       "\\pi_{a} & 0 & 0 & 0 & \\pi_{c} & 0 & 0 & 0 & -\\pi_{a} - 2 \\, \\pi_{c} - \\pi_{g} - 2 \\, \\pi_{t} & \\pi_{c} & \\pi_{g} & \\pi_{t} & \\pi_{t} & 0 & 0 & 0 \\\\\n",
       "0 & \\pi_{a} & 0 & 0 & 0 & \\pi_{c} & 0 & 0 & \\pi_{a} & -2 \\, \\pi_{a} - \\pi_{c} - \\pi_{g} - 2 \\, \\pi_{t} & \\pi_{g} & \\pi_{t} & 0 & \\pi_{t} & 0 & 0 \\\\\n",
       "0 & 0 & \\pi_{a} & 0 & 0 & 0 & \\pi_{c} & 0 & \\pi_{a} & \\pi_{c} & -2 \\, \\pi_{a} - 2 \\, \\pi_{c} - 2 \\, \\pi_{t} & \\pi_{t} & 0 & 0 & \\pi_{t} & 0 \\\\\n",
       "0 & 0 & 0 & \\pi_{a} & 0 & 0 & 0 & \\pi_{c} & \\pi_{a} & \\pi_{c} & \\pi_{g} & -2 \\, \\pi_{a} - 2 \\, \\pi_{c} - \\pi_{g} - \\pi_{t} & 0 & 0 & 0 & \\pi_{t} \\\\\n",
       "\\pi_{a} & 0 & 0 & 0 & \\pi_{c} & 0 & 0 & 0 & \\pi_{g} & 0 & 0 & 0 & -\\pi_{a} - 2 \\, \\pi_{c} - 2 \\, \\pi_{g} - \\pi_{t} & \\pi_{c} & \\pi_{g} & \\pi_{t} \\\\\n",
       "0 & \\pi_{a} & 0 & 0 & 0 & \\pi_{c} & 0 & 0 & 0 & \\pi_{g} & 0 & 0 & \\pi_{a} & -2 \\, \\pi_{a} - \\pi_{c} - 2 \\, \\pi_{g} - \\pi_{t} & \\pi_{g} & \\pi_{t} \\\\\n",
       "0 & 0 & \\pi_{a} & 0 & 0 & 0 & \\pi_{c} & 0 & 0 & 0 & \\pi_{g} & 0 & \\pi_{a} & \\pi_{c} & -2 \\, \\pi_{a} - 2 \\, \\pi_{c} - \\pi_{g} - \\pi_{t} & \\pi_{t} \\\\\n",
       "0 & 0 & 0 & \\pi_{a} & 0 & 0 & 0 & \\pi_{c} & 0 & 0 & 0 & \\pi_{g} & \\pi_{a} & \\pi_{c} & \\pi_{g} & -2 \\, \\pi_{a} - 2 \\, \\pi_{c} - 2 \\, \\pi_{g}\n",
       "\\end{array}\\right)$"
      ],
      "text/plain": [
       "[     -2*pi_c - 2*pi_g - 2*pi_t                           pi_c                           pi_g                           pi_t                           pi_c                              0                              0                              0                           pi_g                              0                              0                              0                           pi_t                              0                              0                              0]\n",
       "[                          pi_a -pi_a - pi_c - 2*pi_g - 2*pi_t                           pi_g                           pi_t                              0                           pi_c                              0                              0                              0                           pi_g                              0                              0                              0                           pi_t                              0                              0]\n",
       "[                          pi_a                           pi_c -pi_a - 2*pi_c - pi_g - 2*pi_t                           pi_t                              0                              0                           pi_c                              0                              0                              0                           pi_g                              0                              0                              0                           pi_t                              0]\n",
       "[                          pi_a                           pi_c                           pi_g -pi_a - 2*pi_c - 2*pi_g - pi_t                              0                              0                              0                           pi_c                              0                              0                              0                           pi_g                              0                              0                              0                           pi_t]\n",
       "[                          pi_a                              0                              0                              0 -pi_a - pi_c - 2*pi_g - 2*pi_t                           pi_c                           pi_g                           pi_t                           pi_g                              0                              0                              0                           pi_t                              0                              0                              0]\n",
       "[                             0                           pi_a                              0                              0                           pi_a      -2*pi_a - 2*pi_g - 2*pi_t                           pi_g                           pi_t                              0                           pi_g                              0                              0                              0                           pi_t                              0                              0]\n",
       "[                             0                              0                           pi_a                              0                           pi_a                           pi_c -2*pi_a - pi_c - pi_g - 2*pi_t                           pi_t                              0                              0                           pi_g                              0                              0                              0                           pi_t                              0]\n",
       "[                             0                              0                              0                           pi_a                           pi_a                           pi_c                           pi_g -2*pi_a - pi_c - 2*pi_g - pi_t                              0                              0                              0                           pi_g                              0                              0                              0                           pi_t]\n",
       "[                          pi_a                              0                              0                              0                           pi_c                              0                              0                              0 -pi_a - 2*pi_c - pi_g - 2*pi_t                           pi_c                           pi_g                           pi_t                           pi_t                              0                              0                              0]\n",
       "[                             0                           pi_a                              0                              0                              0                           pi_c                              0                              0                           pi_a -2*pi_a - pi_c - pi_g - 2*pi_t                           pi_g                           pi_t                              0                           pi_t                              0                              0]\n",
       "[                             0                              0                           pi_a                              0                              0                              0                           pi_c                              0                           pi_a                           pi_c      -2*pi_a - 2*pi_c - 2*pi_t                           pi_t                              0                              0                           pi_t                              0]\n",
       "[                             0                              0                              0                           pi_a                              0                              0                              0                           pi_c                           pi_a                           pi_c                           pi_g -2*pi_a - 2*pi_c - pi_g - pi_t                              0                              0                              0                           pi_t]\n",
       "[                          pi_a                              0                              0                              0                           pi_c                              0                              0                              0                           pi_g                              0                              0                              0 -pi_a - 2*pi_c - 2*pi_g - pi_t                           pi_c                           pi_g                           pi_t]\n",
       "[                             0                           pi_a                              0                              0                              0                           pi_c                              0                              0                              0                           pi_g                              0                              0                           pi_a -2*pi_a - pi_c - 2*pi_g - pi_t                           pi_g                           pi_t]\n",
       "[                             0                              0                           pi_a                              0                              0                              0                           pi_c                              0                              0                              0                           pi_g                              0                           pi_a                           pi_c -2*pi_a - 2*pi_c - pi_g - pi_t                           pi_t]\n",
       "[                             0                              0                              0                           pi_a                              0                              0                              0                           pi_c                              0                              0                              0                           pi_g                           pi_a                           pi_c                           pi_g      -2*pi_a - 2*pi_c - 2*pi_g]"
      ]
     },
     "metadata": {},
     "output_type": "display_data"
    }
   ],
   "source": [
    "qf16 = qf81.tensor_product(identity_matrix(4)) + identity_matrix(4).tensor_product(qf81)\n",
    "pretty_print(qf16)"
   ]
  },
  {
   "cell_type": "raw",
   "id": "88827f3a-7827-4789-aaa9-46bf484b3b02",
   "metadata": {},
   "source": [
    "pf16 = exp(qf16 * beta * nu)"
   ]
  },
  {
   "cell_type": "code",
   "execution_count": 36,
   "id": "380fad8a-2d22-4c5c-b04c-2909d1f614ee",
   "metadata": {},
   "outputs": [],
   "source": [
    "pf16t = exp(qf16 * t)  # t = beta*nu"
   ]
  },
  {
   "cell_type": "code",
   "execution_count": 37,
   "id": "e583ea9a-9dab-4894-8de1-8968c969fe93",
   "metadata": {},
   "outputs": [],
   "source": [
    "beta_f16 = -1 / (pis16 * vector(qf16.diagonal())).expand()\n",
    "# p_hat_f16 = 1 - pis16 * vector(pf16.diagonal())\n",
    "p_hat_f16t = 1 - pis16 * vector(pf16t.diagonal())"
   ]
  },
  {
   "cell_type": "code",
   "execution_count": 38,
   "id": "99a61bb7-fbbb-4b10-ba1d-28070075689a",
   "metadata": {},
   "outputs": [
    {
     "data": {
      "text/html": [
       "<html>\\(\\displaystyle \\frac{1}{4 \\, {\\left(\\pi_{a}^{2} \\pi_{c} + \\pi_{a} \\pi_{c}^{2} + \\pi_{a}^{2} \\pi_{g} + 3 \\, \\pi_{a} \\pi_{c} \\pi_{g} + \\pi_{c}^{2} \\pi_{g} + \\pi_{a} \\pi_{g}^{2} + \\pi_{c} \\pi_{g}^{2} + \\pi_{a}^{2} \\pi_{t} + 3 \\, \\pi_{a} \\pi_{c} \\pi_{t} + \\pi_{c}^{2} \\pi_{t} + 3 \\, \\pi_{a} \\pi_{g} \\pi_{t} + 3 \\, \\pi_{c} \\pi_{g} \\pi_{t} + \\pi_{g}^{2} \\pi_{t} + \\pi_{a} \\pi_{t}^{2} + \\pi_{c} \\pi_{t}^{2} + \\pi_{g} \\pi_{t}^{2}\\right)}}\\)</html>"
      ],
      "text/latex": [
       "$\\displaystyle \\frac{1}{4 \\, {\\left(\\pi_{a}^{2} \\pi_{c} + \\pi_{a} \\pi_{c}^{2} + \\pi_{a}^{2} \\pi_{g} + 3 \\, \\pi_{a} \\pi_{c} \\pi_{g} + \\pi_{c}^{2} \\pi_{g} + \\pi_{a} \\pi_{g}^{2} + \\pi_{c} \\pi_{g}^{2} + \\pi_{a}^{2} \\pi_{t} + 3 \\, \\pi_{a} \\pi_{c} \\pi_{t} + \\pi_{c}^{2} \\pi_{t} + 3 \\, \\pi_{a} \\pi_{g} \\pi_{t} + 3 \\, \\pi_{c} \\pi_{g} \\pi_{t} + \\pi_{g}^{2} \\pi_{t} + \\pi_{a} \\pi_{t}^{2} + \\pi_{c} \\pi_{t}^{2} + \\pi_{g} \\pi_{t}^{2}\\right)}}$"
      ],
      "text/plain": [
       "1/4/(pi_a^2*pi_c + pi_a*pi_c^2 + pi_a^2*pi_g + 3*pi_a*pi_c*pi_g + pi_c^2*pi_g + pi_a*pi_g^2 + pi_c*pi_g^2 + pi_a^2*pi_t + 3*pi_a*pi_c*pi_t + pi_c^2*pi_t + 3*pi_a*pi_g*pi_t + 3*pi_c*pi_g*pi_t + pi_g^2*pi_t + pi_a*pi_t^2 + pi_c*pi_t^2 + pi_g*pi_t^2)"
      ]
     },
     "metadata": {},
     "output_type": "display_data"
    }
   ],
   "source": [
    "pretty_print(beta_f16)"
   ]
  },
  {
   "cell_type": "code",
   "execution_count": 39,
   "id": "467cb003-a437-4a88-aa05-2a07744853c6",
   "metadata": {
    "scrolled": true
   },
   "outputs": [
    {
     "data": {
      "text/html": [
       "<html>\\(\\displaystyle -\\frac{3}{2} \\, \\tau_{1}^{2} - 2 \\, \\tau_{1} \\tau_{2} - 2 \\, \\tau_{2}^{2} - {\\left(\\tau_{1} + 2 \\, \\tau_{2}\\right)} \\tau_{3} - \\frac{3}{2} \\, \\tau_{3}^{2} + \\frac{3}{2}\\)</html>"
      ],
      "text/latex": [
       "$\\displaystyle -\\frac{3}{2} \\, \\tau_{1}^{2} - 2 \\, \\tau_{1} \\tau_{2} - 2 \\, \\tau_{2}^{2} - {\\left(\\tau_{1} + 2 \\, \\tau_{2}\\right)} \\tau_{3} - \\frac{3}{2} \\, \\tau_{3}^{2} + \\frac{3}{2}$"
      ],
      "text/plain": [
       "-3/2*tau_1^2 - 2*tau_1*tau_2 - 2*tau_2^2 - (tau_1 + 2*tau_2)*tau_3 - 3/2*tau_3^2 + 3/2"
      ]
     },
     "metadata": {},
     "output_type": "display_data"
    }
   ],
   "source": [
    "temp = (1/beta_f16).simplify_full()(pi_t=tau_3+pi_g)(pi_g=tau_2+pi_c)(pi_c=tau_1+pi_a)(pi_a=(1-3*tau_1-2*tau_2-tau_3)/4).simplify_full()\n",
    "pretty_print(temp)"
   ]
  },
  {
   "cell_type": "code",
   "execution_count": 40,
   "id": "2ad1055d-9d04-485d-9638-3d5399f0162c",
   "metadata": {},
   "outputs": [
    {
     "data": {
      "text/html": [
       "<html>\\(\\displaystyle -\\frac{2}{3 \\, \\pi_{a}^{2} - 2 \\, \\pi_{a} \\pi_{c} + 3 \\, \\pi_{c}^{2} - 2 \\, \\pi_{a} \\pi_{g} - 2 \\, \\pi_{c} \\pi_{g} + 3 \\, \\pi_{g}^{2} - 2 \\, \\pi_{a} \\pi_{t} - 2 \\, \\pi_{c} \\pi_{t} - 2 \\, \\pi_{g} \\pi_{t} + 3 \\, \\pi_{t}^{2} - 3}\\)</html>"
      ],
      "text/latex": [
       "$\\displaystyle -\\frac{2}{3 \\, \\pi_{a}^{2} - 2 \\, \\pi_{a} \\pi_{c} + 3 \\, \\pi_{c}^{2} - 2 \\, \\pi_{a} \\pi_{g} - 2 \\, \\pi_{c} \\pi_{g} + 3 \\, \\pi_{g}^{2} - 2 \\, \\pi_{a} \\pi_{t} - 2 \\, \\pi_{c} \\pi_{t} - 2 \\, \\pi_{g} \\pi_{t} + 3 \\, \\pi_{t}^{2} - 3}$"
      ],
      "text/plain": [
       "-2/(3*pi_a^2 - 2*pi_a*pi_c + 3*pi_c^2 - 2*pi_a*pi_g - 2*pi_c*pi_g + 3*pi_g^2 - 2*pi_a*pi_t - 2*pi_c*pi_t - 2*pi_g*pi_t + 3*pi_t^2 - 3)"
      ]
     },
     "metadata": {},
     "output_type": "display_data"
    }
   ],
   "source": [
    "beta_f16 = 1/(temp(tau_1=pi_c-pi_a, tau_2 = pi_g-pi_c, tau_3=pi_t-pi_g).expand().simplify_full().expand())\n",
    "pretty_print( beta_f16 )"
   ]
  },
  {
   "cell_type": "code",
   "execution_count": 41,
   "id": "ccca8c67-8c70-4266-bf0e-71c386de5727",
   "metadata": {},
   "outputs": [
    {
     "data": {
      "text/html": [
       "<html>\\(\\displaystyle 4 \\, \\pi_{a} \\pi_{c} + 4 \\, \\pi_{a} \\pi_{g} + 4 \\, \\pi_{c} \\pi_{g} + 4 \\, \\pi_{a} \\pi_{t} + 4 \\, \\pi_{c} \\pi_{t} + 4 \\, \\pi_{g} \\pi_{t}\\)</html>"
      ],
      "text/latex": [
       "$\\displaystyle 4 \\, \\pi_{a} \\pi_{c} + 4 \\, \\pi_{a} \\pi_{g} + 4 \\, \\pi_{c} \\pi_{g} + 4 \\, \\pi_{a} \\pi_{t} + 4 \\, \\pi_{c} \\pi_{t} + 4 \\, \\pi_{g} \\pi_{t}$"
      ],
      "text/plain": [
       "4*pi_a*pi_c + 4*pi_a*pi_g + 4*pi_c*pi_g + 4*pi_a*pi_t + 4*pi_c*pi_t + 4*pi_g*pi_t"
      ]
     },
     "metadata": {},
     "output_type": "display_data"
    }
   ],
   "source": [
    "temp = ((1/beta_f16) + (3/2)*(pi_a+pi_c+pi_g+pi_t -1)^2 + 3*(pi_a+pi_c+pi_g+pi_t -1)).expand()\n",
    "beta_f16 = 1/temp\n",
    "pretty_print(temp.expand())"
   ]
  },
  {
   "cell_type": "code",
   "execution_count": null,
   "id": "4122bd84-1554-4b79-a484-be29a52c8825",
   "metadata": {},
   "outputs": [],
   "source": []
  },
  {
   "cell_type": "code",
   "execution_count": 42,
   "id": "8a90f100-4c3a-425a-9db6-3f473f446f04",
   "metadata": {},
   "outputs": [
    {
     "data": {
      "text/html": [
       "<html>\\(\\displaystyle -\\frac{{\\left(\\pi_{a}^{2} e^{\\left(2 \\, \\pi_{a} t + 2 \\, \\pi_{c} t + 2 \\, \\pi_{g} t + 2 \\, \\pi_{t} t\\right)} + \\pi_{c}^{2} + 2 \\, \\pi_{c} \\pi_{g} + \\pi_{g}^{2} + 2 \\, {\\left(\\pi_{c} + \\pi_{g}\\right)} \\pi_{t} + \\pi_{t}^{2} + 2 \\, {\\left(\\pi_{a} \\pi_{c} + \\pi_{a} \\pi_{g} + \\pi_{a} \\pi_{t}\\right)} e^{\\left(\\pi_{a} t + \\pi_{c} t + \\pi_{g} t + \\pi_{t} t\\right)}\\right)} \\pi_{a}^{2} e^{\\left(-2 \\, \\pi_{a} t - 2 \\, \\pi_{c} t - 2 \\, \\pi_{g} t - 2 \\, \\pi_{t} t\\right)}}{\\pi_{a}^{2} + 2 \\, \\pi_{a} \\pi_{c} + \\pi_{c}^{2} + 2 \\, {\\left(\\pi_{a} + \\pi_{c}\\right)} \\pi_{g} + \\pi_{g}^{2} + 2 \\, {\\left(\\pi_{a} + \\pi_{c} + \\pi_{g}\\right)} \\pi_{t} + \\pi_{t}^{2}} - \\frac{2 \\, {\\left(\\pi_{a} \\pi_{c} e^{\\left(2 \\, \\pi_{a} t + 2 \\, \\pi_{c} t + 2 \\, \\pi_{g} t + 2 \\, \\pi_{t} t\\right)} + \\pi_{a} \\pi_{c} + {\\left(\\pi_{a} + \\pi_{c}\\right)} \\pi_{g} + \\pi_{g}^{2} + {\\left(\\pi_{a} + \\pi_{c} + 2 \\, \\pi_{g}\\right)} \\pi_{t} + \\pi_{t}^{2} + {\\left(\\pi_{a}^{2} + \\pi_{c}^{2} + {\\left(\\pi_{a} + \\pi_{c}\\right)} \\pi_{g} + {\\left(\\pi_{a} + \\pi_{c}\\right)} \\pi_{t}\\right)} e^{\\left(\\pi_{a} t + \\pi_{c} t + \\pi_{g} t + \\pi_{t} t\\right)}\\right)} \\pi_{a} \\pi_{c} e^{\\left(-2 \\, \\pi_{a} t - 2 \\, \\pi_{c} t - 2 \\, \\pi_{g} t - 2 \\, \\pi_{t} t\\right)}}{\\pi_{a}^{2} + 2 \\, \\pi_{a} \\pi_{c} + \\pi_{c}^{2} + 2 \\, {\\left(\\pi_{a} + \\pi_{c}\\right)} \\pi_{g} + \\pi_{g}^{2} + 2 \\, {\\left(\\pi_{a} + \\pi_{c} + \\pi_{g}\\right)} \\pi_{t} + \\pi_{t}^{2}} - \\frac{{\\left(\\pi_{c}^{2} e^{\\left(2 \\, \\pi_{a} t + 2 \\, \\pi_{c} t + 2 \\, \\pi_{g} t + 2 \\, \\pi_{t} t\\right)} + \\pi_{a}^{2} + 2 \\, \\pi_{a} \\pi_{g} + \\pi_{g}^{2} + 2 \\, {\\left(\\pi_{a} + \\pi_{g}\\right)} \\pi_{t} + \\pi_{t}^{2} + 2 \\, {\\left(\\pi_{a} \\pi_{c} + \\pi_{c} \\pi_{g} + \\pi_{c} \\pi_{t}\\right)} e^{\\left(\\pi_{a} t + \\pi_{c} t + \\pi_{g} t + \\pi_{t} t\\right)}\\right)} \\pi_{c}^{2} e^{\\left(-2 \\, \\pi_{a} t - 2 \\, \\pi_{c} t - 2 \\, \\pi_{g} t - 2 \\, \\pi_{t} t\\right)}}{\\pi_{a}^{2} + 2 \\, \\pi_{a} \\pi_{c} + \\pi_{c}^{2} + 2 \\, {\\left(\\pi_{a} + \\pi_{c}\\right)} \\pi_{g} + \\pi_{g}^{2} + 2 \\, {\\left(\\pi_{a} + \\pi_{c} + \\pi_{g}\\right)} \\pi_{t} + \\pi_{t}^{2}} - \\frac{2 \\, {\\left(\\pi_{a} \\pi_{g} e^{\\left(2 \\, \\pi_{a} t + 2 \\, \\pi_{c} t + 2 \\, \\pi_{g} t + 2 \\, \\pi_{t} t\\right)} + \\pi_{a} \\pi_{c} + \\pi_{c}^{2} + {\\left(\\pi_{a} + \\pi_{c}\\right)} \\pi_{g} + {\\left(\\pi_{a} + 2 \\, \\pi_{c} + \\pi_{g}\\right)} \\pi_{t} + \\pi_{t}^{2} + {\\left(\\pi_{a}^{2} + \\pi_{a} \\pi_{c} + \\pi_{c} \\pi_{g} + \\pi_{g}^{2} + {\\left(\\pi_{a} + \\pi_{g}\\right)} \\pi_{t}\\right)} e^{\\left(\\pi_{a} t + \\pi_{c} t + \\pi_{g} t + \\pi_{t} t\\right)}\\right)} \\pi_{a} \\pi_{g} e^{\\left(-2 \\, \\pi_{a} t - 2 \\, \\pi_{c} t - 2 \\, \\pi_{g} t - 2 \\, \\pi_{t} t\\right)}}{\\pi_{a}^{2} + 2 \\, \\pi_{a} \\pi_{c} + \\pi_{c}^{2} + 2 \\, {\\left(\\pi_{a} + \\pi_{c}\\right)} \\pi_{g} + \\pi_{g}^{2} + 2 \\, {\\left(\\pi_{a} + \\pi_{c} + \\pi_{g}\\right)} \\pi_{t} + \\pi_{t}^{2}} - \\frac{2 \\, {\\left(\\pi_{c} \\pi_{g} e^{\\left(2 \\, \\pi_{a} t + 2 \\, \\pi_{c} t + 2 \\, \\pi_{g} t + 2 \\, \\pi_{t} t\\right)} + \\pi_{a}^{2} + \\pi_{a} \\pi_{c} + {\\left(\\pi_{a} + \\pi_{c}\\right)} \\pi_{g} + {\\left(2 \\, \\pi_{a} + \\pi_{c} + \\pi_{g}\\right)} \\pi_{t} + \\pi_{t}^{2} + {\\left(\\pi_{a} \\pi_{c} + \\pi_{c}^{2} + \\pi_{a} \\pi_{g} + \\pi_{g}^{2} + {\\left(\\pi_{c} + \\pi_{g}\\right)} \\pi_{t}\\right)} e^{\\left(\\pi_{a} t + \\pi_{c} t + \\pi_{g} t + \\pi_{t} t\\right)}\\right)} \\pi_{c} \\pi_{g} e^{\\left(-2 \\, \\pi_{a} t - 2 \\, \\pi_{c} t - 2 \\, \\pi_{g} t - 2 \\, \\pi_{t} t\\right)}}{\\pi_{a}^{2} + 2 \\, \\pi_{a} \\pi_{c} + \\pi_{c}^{2} + 2 \\, {\\left(\\pi_{a} + \\pi_{c}\\right)} \\pi_{g} + \\pi_{g}^{2} + 2 \\, {\\left(\\pi_{a} + \\pi_{c} + \\pi_{g}\\right)} \\pi_{t} + \\pi_{t}^{2}} - \\frac{{\\left(\\pi_{g}^{2} e^{\\left(2 \\, \\pi_{a} t + 2 \\, \\pi_{c} t + 2 \\, \\pi_{g} t + 2 \\, \\pi_{t} t\\right)} + \\pi_{a}^{2} + 2 \\, \\pi_{a} \\pi_{c} + \\pi_{c}^{2} + 2 \\, {\\left(\\pi_{a} + \\pi_{c}\\right)} \\pi_{t} + \\pi_{t}^{2} + 2 \\, {\\left({\\left(\\pi_{a} + \\pi_{c}\\right)} \\pi_{g} + \\pi_{g} \\pi_{t}\\right)} e^{\\left(\\pi_{a} t + \\pi_{c} t + \\pi_{g} t + \\pi_{t} t\\right)}\\right)} \\pi_{g}^{2} e^{\\left(-2 \\, \\pi_{a} t - 2 \\, \\pi_{c} t - 2 \\, \\pi_{g} t - 2 \\, \\pi_{t} t\\right)}}{\\pi_{a}^{2} + 2 \\, \\pi_{a} \\pi_{c} + \\pi_{c}^{2} + 2 \\, {\\left(\\pi_{a} + \\pi_{c}\\right)} \\pi_{g} + \\pi_{g}^{2} + 2 \\, {\\left(\\pi_{a} + \\pi_{c} + \\pi_{g}\\right)} \\pi_{t} + \\pi_{t}^{2}} - \\frac{2 \\, {\\left(\\pi_{a} \\pi_{t} e^{\\left(2 \\, \\pi_{a} t + 2 \\, \\pi_{c} t + 2 \\, \\pi_{g} t + 2 \\, \\pi_{t} t\\right)} + \\pi_{a} \\pi_{c} + \\pi_{c}^{2} + {\\left(\\pi_{a} + 2 \\, \\pi_{c}\\right)} \\pi_{g} + \\pi_{g}^{2} + {\\left(\\pi_{a} + \\pi_{c} + \\pi_{g}\\right)} \\pi_{t} + {\\left(\\pi_{a}^{2} + \\pi_{a} \\pi_{c} + \\pi_{a} \\pi_{g} + {\\left(\\pi_{c} + \\pi_{g}\\right)} \\pi_{t} + \\pi_{t}^{2}\\right)} e^{\\left(\\pi_{a} t + \\pi_{c} t + \\pi_{g} t + \\pi_{t} t\\right)}\\right)} \\pi_{a} \\pi_{t} e^{\\left(-2 \\, \\pi_{a} t - 2 \\, \\pi_{c} t - 2 \\, \\pi_{g} t - 2 \\, \\pi_{t} t\\right)}}{\\pi_{a}^{2} + 2 \\, \\pi_{a} \\pi_{c} + \\pi_{c}^{2} + 2 \\, {\\left(\\pi_{a} + \\pi_{c}\\right)} \\pi_{g} + \\pi_{g}^{2} + 2 \\, {\\left(\\pi_{a} + \\pi_{c} + \\pi_{g}\\right)} \\pi_{t} + \\pi_{t}^{2}} - \\frac{2 \\, {\\left(\\pi_{c} \\pi_{t} e^{\\left(2 \\, \\pi_{a} t + 2 \\, \\pi_{c} t + 2 \\, \\pi_{g} t + 2 \\, \\pi_{t} t\\right)} + \\pi_{a}^{2} + \\pi_{a} \\pi_{c} + {\\left(2 \\, \\pi_{a} + \\pi_{c}\\right)} \\pi_{g} + \\pi_{g}^{2} + {\\left(\\pi_{a} + \\pi_{c} + \\pi_{g}\\right)} \\pi_{t} + {\\left(\\pi_{a} \\pi_{c} + \\pi_{c}^{2} + \\pi_{c} \\pi_{g} + {\\left(\\pi_{a} + \\pi_{g}\\right)} \\pi_{t} + \\pi_{t}^{2}\\right)} e^{\\left(\\pi_{a} t + \\pi_{c} t + \\pi_{g} t + \\pi_{t} t\\right)}\\right)} \\pi_{c} \\pi_{t} e^{\\left(-2 \\, \\pi_{a} t - 2 \\, \\pi_{c} t - 2 \\, \\pi_{g} t - 2 \\, \\pi_{t} t\\right)}}{\\pi_{a}^{2} + 2 \\, \\pi_{a} \\pi_{c} + \\pi_{c}^{2} + 2 \\, {\\left(\\pi_{a} + \\pi_{c}\\right)} \\pi_{g} + \\pi_{g}^{2} + 2 \\, {\\left(\\pi_{a} + \\pi_{c} + \\pi_{g}\\right)} \\pi_{t} + \\pi_{t}^{2}} - \\frac{2 \\, {\\left(\\pi_{g} \\pi_{t} e^{\\left(2 \\, \\pi_{a} t + 2 \\, \\pi_{c} t + 2 \\, \\pi_{g} t + 2 \\, \\pi_{t} t\\right)} + \\pi_{a}^{2} + 2 \\, \\pi_{a} \\pi_{c} + \\pi_{c}^{2} + {\\left(\\pi_{a} + \\pi_{c}\\right)} \\pi_{g} + {\\left(\\pi_{a} + \\pi_{c} + \\pi_{g}\\right)} \\pi_{t} + {\\left({\\left(\\pi_{a} + \\pi_{c}\\right)} \\pi_{g} + \\pi_{g}^{2} + {\\left(\\pi_{a} + \\pi_{c}\\right)} \\pi_{t} + \\pi_{t}^{2}\\right)} e^{\\left(\\pi_{a} t + \\pi_{c} t + \\pi_{g} t + \\pi_{t} t\\right)}\\right)} \\pi_{g} \\pi_{t} e^{\\left(-2 \\, \\pi_{a} t - 2 \\, \\pi_{c} t - 2 \\, \\pi_{g} t - 2 \\, \\pi_{t} t\\right)}}{\\pi_{a}^{2} + 2 \\, \\pi_{a} \\pi_{c} + \\pi_{c}^{2} + 2 \\, {\\left(\\pi_{a} + \\pi_{c}\\right)} \\pi_{g} + \\pi_{g}^{2} + 2 \\, {\\left(\\pi_{a} + \\pi_{c} + \\pi_{g}\\right)} \\pi_{t} + \\pi_{t}^{2}} - \\frac{{\\left(\\pi_{t}^{2} e^{\\left(2 \\, \\pi_{a} t + 2 \\, \\pi_{c} t + 2 \\, \\pi_{g} t + 2 \\, \\pi_{t} t\\right)} + 2 \\, {\\left(\\pi_{a} + \\pi_{c} + \\pi_{g}\\right)} \\pi_{t} e^{\\left(\\pi_{a} t + \\pi_{c} t + \\pi_{g} t + \\pi_{t} t\\right)} + \\pi_{a}^{2} + 2 \\, \\pi_{a} \\pi_{c} + \\pi_{c}^{2} + 2 \\, {\\left(\\pi_{a} + \\pi_{c}\\right)} \\pi_{g} + \\pi_{g}^{2}\\right)} \\pi_{t}^{2} e^{\\left(-2 \\, \\pi_{a} t - 2 \\, \\pi_{c} t - 2 \\, \\pi_{g} t - 2 \\, \\pi_{t} t\\right)}}{\\pi_{a}^{2} + 2 \\, \\pi_{a} \\pi_{c} + \\pi_{c}^{2} + 2 \\, {\\left(\\pi_{a} + \\pi_{c}\\right)} \\pi_{g} + \\pi_{g}^{2} + 2 \\, {\\left(\\pi_{a} + \\pi_{c} + \\pi_{g}\\right)} \\pi_{t} + \\pi_{t}^{2}} + 1\\)</html>"
      ],
      "text/latex": [
       "$\\displaystyle -\\frac{{\\left(\\pi_{a}^{2} e^{\\left(2 \\, \\pi_{a} t + 2 \\, \\pi_{c} t + 2 \\, \\pi_{g} t + 2 \\, \\pi_{t} t\\right)} + \\pi_{c}^{2} + 2 \\, \\pi_{c} \\pi_{g} + \\pi_{g}^{2} + 2 \\, {\\left(\\pi_{c} + \\pi_{g}\\right)} \\pi_{t} + \\pi_{t}^{2} + 2 \\, {\\left(\\pi_{a} \\pi_{c} + \\pi_{a} \\pi_{g} + \\pi_{a} \\pi_{t}\\right)} e^{\\left(\\pi_{a} t + \\pi_{c} t + \\pi_{g} t + \\pi_{t} t\\right)}\\right)} \\pi_{a}^{2} e^{\\left(-2 \\, \\pi_{a} t - 2 \\, \\pi_{c} t - 2 \\, \\pi_{g} t - 2 \\, \\pi_{t} t\\right)}}{\\pi_{a}^{2} + 2 \\, \\pi_{a} \\pi_{c} + \\pi_{c}^{2} + 2 \\, {\\left(\\pi_{a} + \\pi_{c}\\right)} \\pi_{g} + \\pi_{g}^{2} + 2 \\, {\\left(\\pi_{a} + \\pi_{c} + \\pi_{g}\\right)} \\pi_{t} + \\pi_{t}^{2}} - \\frac{2 \\, {\\left(\\pi_{a} \\pi_{c} e^{\\left(2 \\, \\pi_{a} t + 2 \\, \\pi_{c} t + 2 \\, \\pi_{g} t + 2 \\, \\pi_{t} t\\right)} + \\pi_{a} \\pi_{c} + {\\left(\\pi_{a} + \\pi_{c}\\right)} \\pi_{g} + \\pi_{g}^{2} + {\\left(\\pi_{a} + \\pi_{c} + 2 \\, \\pi_{g}\\right)} \\pi_{t} + \\pi_{t}^{2} + {\\left(\\pi_{a}^{2} + \\pi_{c}^{2} + {\\left(\\pi_{a} + \\pi_{c}\\right)} \\pi_{g} + {\\left(\\pi_{a} + \\pi_{c}\\right)} \\pi_{t}\\right)} e^{\\left(\\pi_{a} t + \\pi_{c} t + \\pi_{g} t + \\pi_{t} t\\right)}\\right)} \\pi_{a} \\pi_{c} e^{\\left(-2 \\, \\pi_{a} t - 2 \\, \\pi_{c} t - 2 \\, \\pi_{g} t - 2 \\, \\pi_{t} t\\right)}}{\\pi_{a}^{2} + 2 \\, \\pi_{a} \\pi_{c} + \\pi_{c}^{2} + 2 \\, {\\left(\\pi_{a} + \\pi_{c}\\right)} \\pi_{g} + \\pi_{g}^{2} + 2 \\, {\\left(\\pi_{a} + \\pi_{c} + \\pi_{g}\\right)} \\pi_{t} + \\pi_{t}^{2}} - \\frac{{\\left(\\pi_{c}^{2} e^{\\left(2 \\, \\pi_{a} t + 2 \\, \\pi_{c} t + 2 \\, \\pi_{g} t + 2 \\, \\pi_{t} t\\right)} + \\pi_{a}^{2} + 2 \\, \\pi_{a} \\pi_{g} + \\pi_{g}^{2} + 2 \\, {\\left(\\pi_{a} + \\pi_{g}\\right)} \\pi_{t} + \\pi_{t}^{2} + 2 \\, {\\left(\\pi_{a} \\pi_{c} + \\pi_{c} \\pi_{g} + \\pi_{c} \\pi_{t}\\right)} e^{\\left(\\pi_{a} t + \\pi_{c} t + \\pi_{g} t + \\pi_{t} t\\right)}\\right)} \\pi_{c}^{2} e^{\\left(-2 \\, \\pi_{a} t - 2 \\, \\pi_{c} t - 2 \\, \\pi_{g} t - 2 \\, \\pi_{t} t\\right)}}{\\pi_{a}^{2} + 2 \\, \\pi_{a} \\pi_{c} + \\pi_{c}^{2} + 2 \\, {\\left(\\pi_{a} + \\pi_{c}\\right)} \\pi_{g} + \\pi_{g}^{2} + 2 \\, {\\left(\\pi_{a} + \\pi_{c} + \\pi_{g}\\right)} \\pi_{t} + \\pi_{t}^{2}} - \\frac{2 \\, {\\left(\\pi_{a} \\pi_{g} e^{\\left(2 \\, \\pi_{a} t + 2 \\, \\pi_{c} t + 2 \\, \\pi_{g} t + 2 \\, \\pi_{t} t\\right)} + \\pi_{a} \\pi_{c} + \\pi_{c}^{2} + {\\left(\\pi_{a} + \\pi_{c}\\right)} \\pi_{g} + {\\left(\\pi_{a} + 2 \\, \\pi_{c} + \\pi_{g}\\right)} \\pi_{t} + \\pi_{t}^{2} + {\\left(\\pi_{a}^{2} + \\pi_{a} \\pi_{c} + \\pi_{c} \\pi_{g} + \\pi_{g}^{2} + {\\left(\\pi_{a} + \\pi_{g}\\right)} \\pi_{t}\\right)} e^{\\left(\\pi_{a} t + \\pi_{c} t + \\pi_{g} t + \\pi_{t} t\\right)}\\right)} \\pi_{a} \\pi_{g} e^{\\left(-2 \\, \\pi_{a} t - 2 \\, \\pi_{c} t - 2 \\, \\pi_{g} t - 2 \\, \\pi_{t} t\\right)}}{\\pi_{a}^{2} + 2 \\, \\pi_{a} \\pi_{c} + \\pi_{c}^{2} + 2 \\, {\\left(\\pi_{a} + \\pi_{c}\\right)} \\pi_{g} + \\pi_{g}^{2} + 2 \\, {\\left(\\pi_{a} + \\pi_{c} + \\pi_{g}\\right)} \\pi_{t} + \\pi_{t}^{2}} - \\frac{2 \\, {\\left(\\pi_{c} \\pi_{g} e^{\\left(2 \\, \\pi_{a} t + 2 \\, \\pi_{c} t + 2 \\, \\pi_{g} t + 2 \\, \\pi_{t} t\\right)} + \\pi_{a}^{2} + \\pi_{a} \\pi_{c} + {\\left(\\pi_{a} + \\pi_{c}\\right)} \\pi_{g} + {\\left(2 \\, \\pi_{a} + \\pi_{c} + \\pi_{g}\\right)} \\pi_{t} + \\pi_{t}^{2} + {\\left(\\pi_{a} \\pi_{c} + \\pi_{c}^{2} + \\pi_{a} \\pi_{g} + \\pi_{g}^{2} + {\\left(\\pi_{c} + \\pi_{g}\\right)} \\pi_{t}\\right)} e^{\\left(\\pi_{a} t + \\pi_{c} t + \\pi_{g} t + \\pi_{t} t\\right)}\\right)} \\pi_{c} \\pi_{g} e^{\\left(-2 \\, \\pi_{a} t - 2 \\, \\pi_{c} t - 2 \\, \\pi_{g} t - 2 \\, \\pi_{t} t\\right)}}{\\pi_{a}^{2} + 2 \\, \\pi_{a} \\pi_{c} + \\pi_{c}^{2} + 2 \\, {\\left(\\pi_{a} + \\pi_{c}\\right)} \\pi_{g} + \\pi_{g}^{2} + 2 \\, {\\left(\\pi_{a} + \\pi_{c} + \\pi_{g}\\right)} \\pi_{t} + \\pi_{t}^{2}} - \\frac{{\\left(\\pi_{g}^{2} e^{\\left(2 \\, \\pi_{a} t + 2 \\, \\pi_{c} t + 2 \\, \\pi_{g} t + 2 \\, \\pi_{t} t\\right)} + \\pi_{a}^{2} + 2 \\, \\pi_{a} \\pi_{c} + \\pi_{c}^{2} + 2 \\, {\\left(\\pi_{a} + \\pi_{c}\\right)} \\pi_{t} + \\pi_{t}^{2} + 2 \\, {\\left({\\left(\\pi_{a} + \\pi_{c}\\right)} \\pi_{g} + \\pi_{g} \\pi_{t}\\right)} e^{\\left(\\pi_{a} t + \\pi_{c} t + \\pi_{g} t + \\pi_{t} t\\right)}\\right)} \\pi_{g}^{2} e^{\\left(-2 \\, \\pi_{a} t - 2 \\, \\pi_{c} t - 2 \\, \\pi_{g} t - 2 \\, \\pi_{t} t\\right)}}{\\pi_{a}^{2} + 2 \\, \\pi_{a} \\pi_{c} + \\pi_{c}^{2} + 2 \\, {\\left(\\pi_{a} + \\pi_{c}\\right)} \\pi_{g} + \\pi_{g}^{2} + 2 \\, {\\left(\\pi_{a} + \\pi_{c} + \\pi_{g}\\right)} \\pi_{t} + \\pi_{t}^{2}} - \\frac{2 \\, {\\left(\\pi_{a} \\pi_{t} e^{\\left(2 \\, \\pi_{a} t + 2 \\, \\pi_{c} t + 2 \\, \\pi_{g} t + 2 \\, \\pi_{t} t\\right)} + \\pi_{a} \\pi_{c} + \\pi_{c}^{2} + {\\left(\\pi_{a} + 2 \\, \\pi_{c}\\right)} \\pi_{g} + \\pi_{g}^{2} + {\\left(\\pi_{a} + \\pi_{c} + \\pi_{g}\\right)} \\pi_{t} + {\\left(\\pi_{a}^{2} + \\pi_{a} \\pi_{c} + \\pi_{a} \\pi_{g} + {\\left(\\pi_{c} + \\pi_{g}\\right)} \\pi_{t} + \\pi_{t}^{2}\\right)} e^{\\left(\\pi_{a} t + \\pi_{c} t + \\pi_{g} t + \\pi_{t} t\\right)}\\right)} \\pi_{a} \\pi_{t} e^{\\left(-2 \\, \\pi_{a} t - 2 \\, \\pi_{c} t - 2 \\, \\pi_{g} t - 2 \\, \\pi_{t} t\\right)}}{\\pi_{a}^{2} + 2 \\, \\pi_{a} \\pi_{c} + \\pi_{c}^{2} + 2 \\, {\\left(\\pi_{a} + \\pi_{c}\\right)} \\pi_{g} + \\pi_{g}^{2} + 2 \\, {\\left(\\pi_{a} + \\pi_{c} + \\pi_{g}\\right)} \\pi_{t} + \\pi_{t}^{2}} - \\frac{2 \\, {\\left(\\pi_{c} \\pi_{t} e^{\\left(2 \\, \\pi_{a} t + 2 \\, \\pi_{c} t + 2 \\, \\pi_{g} t + 2 \\, \\pi_{t} t\\right)} + \\pi_{a}^{2} + \\pi_{a} \\pi_{c} + {\\left(2 \\, \\pi_{a} + \\pi_{c}\\right)} \\pi_{g} + \\pi_{g}^{2} + {\\left(\\pi_{a} + \\pi_{c} + \\pi_{g}\\right)} \\pi_{t} + {\\left(\\pi_{a} \\pi_{c} + \\pi_{c}^{2} + \\pi_{c} \\pi_{g} + {\\left(\\pi_{a} + \\pi_{g}\\right)} \\pi_{t} + \\pi_{t}^{2}\\right)} e^{\\left(\\pi_{a} t + \\pi_{c} t + \\pi_{g} t + \\pi_{t} t\\right)}\\right)} \\pi_{c} \\pi_{t} e^{\\left(-2 \\, \\pi_{a} t - 2 \\, \\pi_{c} t - 2 \\, \\pi_{g} t - 2 \\, \\pi_{t} t\\right)}}{\\pi_{a}^{2} + 2 \\, \\pi_{a} \\pi_{c} + \\pi_{c}^{2} + 2 \\, {\\left(\\pi_{a} + \\pi_{c}\\right)} \\pi_{g} + \\pi_{g}^{2} + 2 \\, {\\left(\\pi_{a} + \\pi_{c} + \\pi_{g}\\right)} \\pi_{t} + \\pi_{t}^{2}} - \\frac{2 \\, {\\left(\\pi_{g} \\pi_{t} e^{\\left(2 \\, \\pi_{a} t + 2 \\, \\pi_{c} t + 2 \\, \\pi_{g} t + 2 \\, \\pi_{t} t\\right)} + \\pi_{a}^{2} + 2 \\, \\pi_{a} \\pi_{c} + \\pi_{c}^{2} + {\\left(\\pi_{a} + \\pi_{c}\\right)} \\pi_{g} + {\\left(\\pi_{a} + \\pi_{c} + \\pi_{g}\\right)} \\pi_{t} + {\\left({\\left(\\pi_{a} + \\pi_{c}\\right)} \\pi_{g} + \\pi_{g}^{2} + {\\left(\\pi_{a} + \\pi_{c}\\right)} \\pi_{t} + \\pi_{t}^{2}\\right)} e^{\\left(\\pi_{a} t + \\pi_{c} t + \\pi_{g} t + \\pi_{t} t\\right)}\\right)} \\pi_{g} \\pi_{t} e^{\\left(-2 \\, \\pi_{a} t - 2 \\, \\pi_{c} t - 2 \\, \\pi_{g} t - 2 \\, \\pi_{t} t\\right)}}{\\pi_{a}^{2} + 2 \\, \\pi_{a} \\pi_{c} + \\pi_{c}^{2} + 2 \\, {\\left(\\pi_{a} + \\pi_{c}\\right)} \\pi_{g} + \\pi_{g}^{2} + 2 \\, {\\left(\\pi_{a} + \\pi_{c} + \\pi_{g}\\right)} \\pi_{t} + \\pi_{t}^{2}} - \\frac{{\\left(\\pi_{t}^{2} e^{\\left(2 \\, \\pi_{a} t + 2 \\, \\pi_{c} t + 2 \\, \\pi_{g} t + 2 \\, \\pi_{t} t\\right)} + 2 \\, {\\left(\\pi_{a} + \\pi_{c} + \\pi_{g}\\right)} \\pi_{t} e^{\\left(\\pi_{a} t + \\pi_{c} t + \\pi_{g} t + \\pi_{t} t\\right)} + \\pi_{a}^{2} + 2 \\, \\pi_{a} \\pi_{c} + \\pi_{c}^{2} + 2 \\, {\\left(\\pi_{a} + \\pi_{c}\\right)} \\pi_{g} + \\pi_{g}^{2}\\right)} \\pi_{t}^{2} e^{\\left(-2 \\, \\pi_{a} t - 2 \\, \\pi_{c} t - 2 \\, \\pi_{g} t - 2 \\, \\pi_{t} t\\right)}}{\\pi_{a}^{2} + 2 \\, \\pi_{a} \\pi_{c} + \\pi_{c}^{2} + 2 \\, {\\left(\\pi_{a} + \\pi_{c}\\right)} \\pi_{g} + \\pi_{g}^{2} + 2 \\, {\\left(\\pi_{a} + \\pi_{c} + \\pi_{g}\\right)} \\pi_{t} + \\pi_{t}^{2}} + 1$"
      ],
      "text/plain": [
       "-(pi_a^2*e^(2*pi_a*t + 2*pi_c*t + 2*pi_g*t + 2*pi_t*t) + pi_c^2 + 2*pi_c*pi_g + pi_g^2 + 2*(pi_c + pi_g)*pi_t + pi_t^2 + 2*(pi_a*pi_c + pi_a*pi_g + pi_a*pi_t)*e^(pi_a*t + pi_c*t + pi_g*t + pi_t*t))*pi_a^2*e^(-2*pi_a*t - 2*pi_c*t - 2*pi_g*t - 2*pi_t*t)/(pi_a^2 + 2*pi_a*pi_c + pi_c^2 + 2*(pi_a + pi_c)*pi_g + pi_g^2 + 2*(pi_a + pi_c + pi_g)*pi_t + pi_t^2) - 2*(pi_a*pi_c*e^(2*pi_a*t + 2*pi_c*t + 2*pi_g*t + 2*pi_t*t) + pi_a*pi_c + (pi_a + pi_c)*pi_g + pi_g^2 + (pi_a + pi_c + 2*pi_g)*pi_t + pi_t^2 + (pi_a^2 + pi_c^2 + (pi_a + pi_c)*pi_g + (pi_a + pi_c)*pi_t)*e^(pi_a*t + pi_c*t + pi_g*t + pi_t*t))*pi_a*pi_c*e^(-2*pi_a*t - 2*pi_c*t - 2*pi_g*t - 2*pi_t*t)/(pi_a^2 + 2*pi_a*pi_c + pi_c^2 + 2*(pi_a + pi_c)*pi_g + pi_g^2 + 2*(pi_a + pi_c + pi_g)*pi_t + pi_t^2) - (pi_c^2*e^(2*pi_a*t + 2*pi_c*t + 2*pi_g*t + 2*pi_t*t) + pi_a^2 + 2*pi_a*pi_g + pi_g^2 + 2*(pi_a + pi_g)*pi_t + pi_t^2 + 2*(pi_a*pi_c + pi_c*pi_g + pi_c*pi_t)*e^(pi_a*t + pi_c*t + pi_g*t + pi_t*t))*pi_c^2*e^(-2*pi_a*t - 2*pi_c*t - 2*pi_g*t - 2*pi_t*t)/(pi_a^2 + 2*pi_a*pi_c + pi_c^2 + 2*(pi_a + pi_c)*pi_g + pi_g^2 + 2*(pi_a + pi_c + pi_g)*pi_t + pi_t^2) - 2*(pi_a*pi_g*e^(2*pi_a*t + 2*pi_c*t + 2*pi_g*t + 2*pi_t*t) + pi_a*pi_c + pi_c^2 + (pi_a + pi_c)*pi_g + (pi_a + 2*pi_c + pi_g)*pi_t + pi_t^2 + (pi_a^2 + pi_a*pi_c + pi_c*pi_g + pi_g^2 + (pi_a + pi_g)*pi_t)*e^(pi_a*t + pi_c*t + pi_g*t + pi_t*t))*pi_a*pi_g*e^(-2*pi_a*t - 2*pi_c*t - 2*pi_g*t - 2*pi_t*t)/(pi_a^2 + 2*pi_a*pi_c + pi_c^2 + 2*(pi_a + pi_c)*pi_g + pi_g^2 + 2*(pi_a + pi_c + pi_g)*pi_t + pi_t^2) - 2*(pi_c*pi_g*e^(2*pi_a*t + 2*pi_c*t + 2*pi_g*t + 2*pi_t*t) + pi_a^2 + pi_a*pi_c + (pi_a + pi_c)*pi_g + (2*pi_a + pi_c + pi_g)*pi_t + pi_t^2 + (pi_a*pi_c + pi_c^2 + pi_a*pi_g + pi_g^2 + (pi_c + pi_g)*pi_t)*e^(pi_a*t + pi_c*t + pi_g*t + pi_t*t))*pi_c*pi_g*e^(-2*pi_a*t - 2*pi_c*t - 2*pi_g*t - 2*pi_t*t)/(pi_a^2 + 2*pi_a*pi_c + pi_c^2 + 2*(pi_a + pi_c)*pi_g + pi_g^2 + 2*(pi_a + pi_c + pi_g)*pi_t + pi_t^2) - (pi_g^2*e^(2*pi_a*t + 2*pi_c*t + 2*pi_g*t + 2*pi_t*t) + pi_a^2 + 2*pi_a*pi_c + pi_c^2 + 2*(pi_a + pi_c)*pi_t + pi_t^2 + 2*((pi_a + pi_c)*pi_g + pi_g*pi_t)*e^(pi_a*t + pi_c*t + pi_g*t + pi_t*t))*pi_g^2*e^(-2*pi_a*t - 2*pi_c*t - 2*pi_g*t - 2*pi_t*t)/(pi_a^2 + 2*pi_a*pi_c + pi_c^2 + 2*(pi_a + pi_c)*pi_g + pi_g^2 + 2*(pi_a + pi_c + pi_g)*pi_t + pi_t^2) - 2*(pi_a*pi_t*e^(2*pi_a*t + 2*pi_c*t + 2*pi_g*t + 2*pi_t*t) + pi_a*pi_c + pi_c^2 + (pi_a + 2*pi_c)*pi_g + pi_g^2 + (pi_a + pi_c + pi_g)*pi_t + (pi_a^2 + pi_a*pi_c + pi_a*pi_g + (pi_c + pi_g)*pi_t + pi_t^2)*e^(pi_a*t + pi_c*t + pi_g*t + pi_t*t))*pi_a*pi_t*e^(-2*pi_a*t - 2*pi_c*t - 2*pi_g*t - 2*pi_t*t)/(pi_a^2 + 2*pi_a*pi_c + pi_c^2 + 2*(pi_a + pi_c)*pi_g + pi_g^2 + 2*(pi_a + pi_c + pi_g)*pi_t + pi_t^2) - 2*(pi_c*pi_t*e^(2*pi_a*t + 2*pi_c*t + 2*pi_g*t + 2*pi_t*t) + pi_a^2 + pi_a*pi_c + (2*pi_a + pi_c)*pi_g + pi_g^2 + (pi_a + pi_c + pi_g)*pi_t + (pi_a*pi_c + pi_c^2 + pi_c*pi_g + (pi_a + pi_g)*pi_t + pi_t^2)*e^(pi_a*t + pi_c*t + pi_g*t + pi_t*t))*pi_c*pi_t*e^(-2*pi_a*t - 2*pi_c*t - 2*pi_g*t - 2*pi_t*t)/(pi_a^2 + 2*pi_a*pi_c + pi_c^2 + 2*(pi_a + pi_c)*pi_g + pi_g^2 + 2*(pi_a + pi_c + pi_g)*pi_t + pi_t^2) - 2*(pi_g*pi_t*e^(2*pi_a*t + 2*pi_c*t + 2*pi_g*t + 2*pi_t*t) + pi_a^2 + 2*pi_a*pi_c + pi_c^2 + (pi_a + pi_c)*pi_g + (pi_a + pi_c + pi_g)*pi_t + ((pi_a + pi_c)*pi_g + pi_g^2 + (pi_a + pi_c)*pi_t + pi_t^2)*e^(pi_a*t + pi_c*t + pi_g*t + pi_t*t))*pi_g*pi_t*e^(-2*pi_a*t - 2*pi_c*t - 2*pi_g*t - 2*pi_t*t)/(pi_a^2 + 2*pi_a*pi_c + pi_c^2 + 2*(pi_a + pi_c)*pi_g + pi_g^2 + 2*(pi_a + pi_c + pi_g)*pi_t + pi_t^2) - (pi_t^2*e^(2*pi_a*t + 2*pi_c*t + 2*pi_g*t + 2*pi_t*t) + 2*(pi_a + pi_c + pi_g)*pi_t*e^(pi_a*t + pi_c*t + pi_g*t + pi_t*t) + pi_a^2 + 2*pi_a*pi_c + pi_c^2 + 2*(pi_a + pi_c)*pi_g + pi_g^2)*pi_t^2*e^(-2*pi_a*t - 2*pi_c*t - 2*pi_g*t - 2*pi_t*t)/(pi_a^2 + 2*pi_a*pi_c + pi_c^2 + 2*(pi_a + pi_c)*pi_g + pi_g^2 + 2*(pi_a + pi_c + pi_g)*pi_t + pi_t^2) + 1"
      ]
     },
     "metadata": {},
     "output_type": "display_data"
    }
   ],
   "source": [
    "pretty_print(p_hat_f16t)"
   ]
  },
  {
   "cell_type": "code",
   "execution_count": 43,
   "id": "fe944754-500a-4a53-b7ec-f123936f094e",
   "metadata": {},
   "outputs": [
    {
     "data": {
      "text/html": [
       "<html>\\(\\displaystyle -\\frac{1}{16} \\, {\\left(9 \\, \\tau_{1}^{4} {\\left(e^{\\left(2 \\, t\\right)} - 2 \\, e^{t} + 1\\right)} + 32 \\, \\tau_{1} \\tau_{2}^{3} {\\left(e^{\\left(2 \\, t\\right)} - 2 \\, e^{t} + 1\\right)} + 16 \\, \\tau_{2}^{4} {\\left(e^{\\left(2 \\, t\\right)} - 2 \\, e^{t} + 1\\right)} + 9 \\, \\tau_{3}^{4} {\\left(e^{\\left(2 \\, t\\right)} - 2 \\, e^{t} + 1\\right)} + 12 \\, {\\left(\\tau_{1} {\\left(e^{\\left(2 \\, t\\right)} - 2 \\, e^{t} + 1\\right)} + 2 \\, \\tau_{2} {\\left(e^{\\left(2 \\, t\\right)} - 2 \\, e^{t} + 1\\right)}\\right)} \\tau_{3}^{3} + 8 \\, {\\left(5 \\, \\tau_{1}^{2} {\\left(e^{\\left(2 \\, t\\right)} - 2 \\, e^{t} + 1\\right)} + e^{\\left(2 \\, t\\right)} + 2 \\, e^{t} - 3\\right)} \\tau_{2}^{2} + 2 \\, {\\left(11 \\, \\tau_{1}^{2} {\\left(e^{\\left(2 \\, t\\right)} - 2 \\, e^{t} + 1\\right)} + 20 \\, \\tau_{1} \\tau_{2} {\\left(e^{\\left(2 \\, t\\right)} - 2 \\, e^{t} + 1\\right)} + 20 \\, \\tau_{2}^{2} {\\left(e^{\\left(2 \\, t\\right)} - 2 \\, e^{t} + 1\\right)} + 3 \\, e^{\\left(2 \\, t\\right)} + 6 \\, e^{t} - 9\\right)} \\tau_{3}^{2} + 6 \\, \\tau_{1}^{2} {\\left(e^{\\left(2 \\, t\\right)} + 2 \\, e^{t} - 3\\right)} + 8 \\, {\\left(3 \\, \\tau_{1}^{3} {\\left(e^{\\left(2 \\, t\\right)} - 2 \\, e^{t} + 1\\right)} + \\tau_{1} {\\left(e^{\\left(2 \\, t\\right)} + 2 \\, e^{t} - 3\\right)}\\right)} \\tau_{2} + 4 \\, {\\left(3 \\, \\tau_{1}^{3} {\\left(e^{\\left(2 \\, t\\right)} - 2 \\, e^{t} + 1\\right)} + 12 \\, \\tau_{1} \\tau_{2}^{2} {\\left(e^{\\left(2 \\, t\\right)} - 2 \\, e^{t} + 1\\right)} + 8 \\, \\tau_{2}^{3} {\\left(e^{\\left(2 \\, t\\right)} - 2 \\, e^{t} + 1\\right)} + 2 \\, {\\left(5 \\, \\tau_{1}^{2} {\\left(e^{\\left(2 \\, t\\right)} - 2 \\, e^{t} + 1\\right)} + e^{\\left(2 \\, t\\right)} + 2 \\, e^{t} - 3\\right)} \\tau_{2} + \\tau_{1} {\\left(e^{\\left(2 \\, t\\right)} + 2 \\, e^{t} - 3\\right)}\\right)} \\tau_{3} - 15 \\, e^{\\left(2 \\, t\\right)} + 6 \\, e^{t} + 9\\right)} e^{\\left(-2 \\, t\\right)}\\)</html>"
      ],
      "text/latex": [
       "$\\displaystyle -\\frac{1}{16} \\, {\\left(9 \\, \\tau_{1}^{4} {\\left(e^{\\left(2 \\, t\\right)} - 2 \\, e^{t} + 1\\right)} + 32 \\, \\tau_{1} \\tau_{2}^{3} {\\left(e^{\\left(2 \\, t\\right)} - 2 \\, e^{t} + 1\\right)} + 16 \\, \\tau_{2}^{4} {\\left(e^{\\left(2 \\, t\\right)} - 2 \\, e^{t} + 1\\right)} + 9 \\, \\tau_{3}^{4} {\\left(e^{\\left(2 \\, t\\right)} - 2 \\, e^{t} + 1\\right)} + 12 \\, {\\left(\\tau_{1} {\\left(e^{\\left(2 \\, t\\right)} - 2 \\, e^{t} + 1\\right)} + 2 \\, \\tau_{2} {\\left(e^{\\left(2 \\, t\\right)} - 2 \\, e^{t} + 1\\right)}\\right)} \\tau_{3}^{3} + 8 \\, {\\left(5 \\, \\tau_{1}^{2} {\\left(e^{\\left(2 \\, t\\right)} - 2 \\, e^{t} + 1\\right)} + e^{\\left(2 \\, t\\right)} + 2 \\, e^{t} - 3\\right)} \\tau_{2}^{2} + 2 \\, {\\left(11 \\, \\tau_{1}^{2} {\\left(e^{\\left(2 \\, t\\right)} - 2 \\, e^{t} + 1\\right)} + 20 \\, \\tau_{1} \\tau_{2} {\\left(e^{\\left(2 \\, t\\right)} - 2 \\, e^{t} + 1\\right)} + 20 \\, \\tau_{2}^{2} {\\left(e^{\\left(2 \\, t\\right)} - 2 \\, e^{t} + 1\\right)} + 3 \\, e^{\\left(2 \\, t\\right)} + 6 \\, e^{t} - 9\\right)} \\tau_{3}^{2} + 6 \\, \\tau_{1}^{2} {\\left(e^{\\left(2 \\, t\\right)} + 2 \\, e^{t} - 3\\right)} + 8 \\, {\\left(3 \\, \\tau_{1}^{3} {\\left(e^{\\left(2 \\, t\\right)} - 2 \\, e^{t} + 1\\right)} + \\tau_{1} {\\left(e^{\\left(2 \\, t\\right)} + 2 \\, e^{t} - 3\\right)}\\right)} \\tau_{2} + 4 \\, {\\left(3 \\, \\tau_{1}^{3} {\\left(e^{\\left(2 \\, t\\right)} - 2 \\, e^{t} + 1\\right)} + 12 \\, \\tau_{1} \\tau_{2}^{2} {\\left(e^{\\left(2 \\, t\\right)} - 2 \\, e^{t} + 1\\right)} + 8 \\, \\tau_{2}^{3} {\\left(e^{\\left(2 \\, t\\right)} - 2 \\, e^{t} + 1\\right)} + 2 \\, {\\left(5 \\, \\tau_{1}^{2} {\\left(e^{\\left(2 \\, t\\right)} - 2 \\, e^{t} + 1\\right)} + e^{\\left(2 \\, t\\right)} + 2 \\, e^{t} - 3\\right)} \\tau_{2} + \\tau_{1} {\\left(e^{\\left(2 \\, t\\right)} + 2 \\, e^{t} - 3\\right)}\\right)} \\tau_{3} - 15 \\, e^{\\left(2 \\, t\\right)} + 6 \\, e^{t} + 9\\right)} e^{\\left(-2 \\, t\\right)}$"
      ],
      "text/plain": [
       "-1/16*(9*tau_1^4*(e^(2*t) - 2*e^t + 1) + 32*tau_1*tau_2^3*(e^(2*t) - 2*e^t + 1) + 16*tau_2^4*(e^(2*t) - 2*e^t + 1) + 9*tau_3^4*(e^(2*t) - 2*e^t + 1) + 12*(tau_1*(e^(2*t) - 2*e^t + 1) + 2*tau_2*(e^(2*t) - 2*e^t + 1))*tau_3^3 + 8*(5*tau_1^2*(e^(2*t) - 2*e^t + 1) + e^(2*t) + 2*e^t - 3)*tau_2^2 + 2*(11*tau_1^2*(e^(2*t) - 2*e^t + 1) + 20*tau_1*tau_2*(e^(2*t) - 2*e^t + 1) + 20*tau_2^2*(e^(2*t) - 2*e^t + 1) + 3*e^(2*t) + 6*e^t - 9)*tau_3^2 + 6*tau_1^2*(e^(2*t) + 2*e^t - 3) + 8*(3*tau_1^3*(e^(2*t) - 2*e^t + 1) + tau_1*(e^(2*t) + 2*e^t - 3))*tau_2 + 4*(3*tau_1^3*(e^(2*t) - 2*e^t + 1) + 12*tau_1*tau_2^2*(e^(2*t) - 2*e^t + 1) + 8*tau_2^3*(e^(2*t) - 2*e^t + 1) + 2*(5*tau_1^2*(e^(2*t) - 2*e^t + 1) + e^(2*t) + 2*e^t - 3)*tau_2 + tau_1*(e^(2*t) + 2*e^t - 3))*tau_3 - 15*e^(2*t) + 6*e^t + 9)*e^(-2*t)"
      ]
     },
     "metadata": {},
     "output_type": "display_data"
    }
   ],
   "source": [
    "temp = p_hat_f16t.simplify_full()(pi_t=tau_3+pi_g)(pi_g=tau_2+pi_c)(pi_c=tau_1+pi_a)(pi_a=(1-3*tau_1-2*tau_2-tau_3)/4).simplify_full()\n",
    "pretty_print(temp)"
   ]
  },
  {
   "cell_type": "code",
   "execution_count": 44,
   "id": "1c1d7ff6-5768-4d95-971b-7bc3c6ab3165",
   "metadata": {},
   "outputs": [
    {
     "data": {
      "text/html": [
       "<html>\\(\\displaystyle \\frac{9}{8} \\, \\pi_{a}^{4} e^{\\left(-t\\right)} - \\frac{3}{2} \\, \\pi_{a}^{3} \\pi_{c} e^{\\left(-t\\right)} + \\frac{11}{4} \\, \\pi_{a}^{2} \\pi_{c}^{2} e^{\\left(-t\\right)} - \\frac{3}{2} \\, \\pi_{a} \\pi_{c}^{3} e^{\\left(-t\\right)} + \\frac{9}{8} \\, \\pi_{c}^{4} e^{\\left(-t\\right)} - \\frac{3}{2} \\, \\pi_{a}^{3} \\pi_{g} e^{\\left(-t\\right)} - \\frac{1}{2} \\, \\pi_{a}^{2} \\pi_{c} \\pi_{g} e^{\\left(-t\\right)} - \\frac{1}{2} \\, \\pi_{a} \\pi_{c}^{2} \\pi_{g} e^{\\left(-t\\right)} - \\frac{3}{2} \\, \\pi_{c}^{3} \\pi_{g} e^{\\left(-t\\right)} + \\frac{11}{4} \\, \\pi_{a}^{2} \\pi_{g}^{2} e^{\\left(-t\\right)} - \\frac{1}{2} \\, \\pi_{a} \\pi_{c} \\pi_{g}^{2} e^{\\left(-t\\right)} + \\frac{11}{4} \\, \\pi_{c}^{2} \\pi_{g}^{2} e^{\\left(-t\\right)} - \\frac{3}{2} \\, \\pi_{a} \\pi_{g}^{3} e^{\\left(-t\\right)} - \\frac{3}{2} \\, \\pi_{c} \\pi_{g}^{3} e^{\\left(-t\\right)} + \\frac{9}{8} \\, \\pi_{g}^{4} e^{\\left(-t\\right)} - \\frac{3}{2} \\, \\pi_{a}^{3} \\pi_{t} e^{\\left(-t\\right)} - \\frac{1}{2} \\, \\pi_{a}^{2} \\pi_{c} \\pi_{t} e^{\\left(-t\\right)} - \\frac{1}{2} \\, \\pi_{a} \\pi_{c}^{2} \\pi_{t} e^{\\left(-t\\right)} - \\frac{3}{2} \\, \\pi_{c}^{3} \\pi_{t} e^{\\left(-t\\right)} - \\frac{1}{2} \\, \\pi_{a}^{2} \\pi_{g} \\pi_{t} e^{\\left(-t\\right)} + 3 \\, \\pi_{a} \\pi_{c} \\pi_{g} \\pi_{t} e^{\\left(-t\\right)} - \\frac{1}{2} \\, \\pi_{c}^{2} \\pi_{g} \\pi_{t} e^{\\left(-t\\right)} - \\frac{1}{2} \\, \\pi_{a} \\pi_{g}^{2} \\pi_{t} e^{\\left(-t\\right)} - \\frac{1}{2} \\, \\pi_{c} \\pi_{g}^{2} \\pi_{t} e^{\\left(-t\\right)} - \\frac{3}{2} \\, \\pi_{g}^{3} \\pi_{t} e^{\\left(-t\\right)} + \\frac{11}{4} \\, \\pi_{a}^{2} \\pi_{t}^{2} e^{\\left(-t\\right)} - \\frac{1}{2} \\, \\pi_{a} \\pi_{c} \\pi_{t}^{2} e^{\\left(-t\\right)} + \\frac{11}{4} \\, \\pi_{c}^{2} \\pi_{t}^{2} e^{\\left(-t\\right)} - \\frac{1}{2} \\, \\pi_{a} \\pi_{g} \\pi_{t}^{2} e^{\\left(-t\\right)} - \\frac{1}{2} \\, \\pi_{c} \\pi_{g} \\pi_{t}^{2} e^{\\left(-t\\right)} + \\frac{11}{4} \\, \\pi_{g}^{2} \\pi_{t}^{2} e^{\\left(-t\\right)} - \\frac{3}{2} \\, \\pi_{a} \\pi_{t}^{3} e^{\\left(-t\\right)} - \\frac{3}{2} \\, \\pi_{c} \\pi_{t}^{3} e^{\\left(-t\\right)} - \\frac{3}{2} \\, \\pi_{g} \\pi_{t}^{3} e^{\\left(-t\\right)} + \\frac{9}{8} \\, \\pi_{t}^{4} e^{\\left(-t\\right)} - \\frac{9}{16} \\, \\pi_{a}^{4} e^{\\left(-2 \\, t\\right)} + \\frac{3}{4} \\, \\pi_{a}^{3} \\pi_{c} e^{\\left(-2 \\, t\\right)} - \\frac{11}{8} \\, \\pi_{a}^{2} \\pi_{c}^{2} e^{\\left(-2 \\, t\\right)} + \\frac{3}{4} \\, \\pi_{a} \\pi_{c}^{3} e^{\\left(-2 \\, t\\right)} - \\frac{9}{16} \\, \\pi_{c}^{4} e^{\\left(-2 \\, t\\right)} + \\frac{3}{4} \\, \\pi_{a}^{3} \\pi_{g} e^{\\left(-2 \\, t\\right)} + \\frac{1}{4} \\, \\pi_{a}^{2} \\pi_{c} \\pi_{g} e^{\\left(-2 \\, t\\right)} + \\frac{1}{4} \\, \\pi_{a} \\pi_{c}^{2} \\pi_{g} e^{\\left(-2 \\, t\\right)} + \\frac{3}{4} \\, \\pi_{c}^{3} \\pi_{g} e^{\\left(-2 \\, t\\right)} - \\frac{11}{8} \\, \\pi_{a}^{2} \\pi_{g}^{2} e^{\\left(-2 \\, t\\right)} + \\frac{1}{4} \\, \\pi_{a} \\pi_{c} \\pi_{g}^{2} e^{\\left(-2 \\, t\\right)} - \\frac{11}{8} \\, \\pi_{c}^{2} \\pi_{g}^{2} e^{\\left(-2 \\, t\\right)} + \\frac{3}{4} \\, \\pi_{a} \\pi_{g}^{3} e^{\\left(-2 \\, t\\right)} + \\frac{3}{4} \\, \\pi_{c} \\pi_{g}^{3} e^{\\left(-2 \\, t\\right)} - \\frac{9}{16} \\, \\pi_{g}^{4} e^{\\left(-2 \\, t\\right)} + \\frac{3}{4} \\, \\pi_{a}^{3} \\pi_{t} e^{\\left(-2 \\, t\\right)} + \\frac{1}{4} \\, \\pi_{a}^{2} \\pi_{c} \\pi_{t} e^{\\left(-2 \\, t\\right)} + \\frac{1}{4} \\, \\pi_{a} \\pi_{c}^{2} \\pi_{t} e^{\\left(-2 \\, t\\right)} + \\frac{3}{4} \\, \\pi_{c}^{3} \\pi_{t} e^{\\left(-2 \\, t\\right)} + \\frac{1}{4} \\, \\pi_{a}^{2} \\pi_{g} \\pi_{t} e^{\\left(-2 \\, t\\right)} - \\frac{3}{2} \\, \\pi_{a} \\pi_{c} \\pi_{g} \\pi_{t} e^{\\left(-2 \\, t\\right)} + \\frac{1}{4} \\, \\pi_{c}^{2} \\pi_{g} \\pi_{t} e^{\\left(-2 \\, t\\right)} + \\frac{1}{4} \\, \\pi_{a} \\pi_{g}^{2} \\pi_{t} e^{\\left(-2 \\, t\\right)} + \\frac{1}{4} \\, \\pi_{c} \\pi_{g}^{2} \\pi_{t} e^{\\left(-2 \\, t\\right)} + \\frac{3}{4} \\, \\pi_{g}^{3} \\pi_{t} e^{\\left(-2 \\, t\\right)} - \\frac{11}{8} \\, \\pi_{a}^{2} \\pi_{t}^{2} e^{\\left(-2 \\, t\\right)} + \\frac{1}{4} \\, \\pi_{a} \\pi_{c} \\pi_{t}^{2} e^{\\left(-2 \\, t\\right)} - \\frac{11}{8} \\, \\pi_{c}^{2} \\pi_{t}^{2} e^{\\left(-2 \\, t\\right)} + \\frac{1}{4} \\, \\pi_{a} \\pi_{g} \\pi_{t}^{2} e^{\\left(-2 \\, t\\right)} + \\frac{1}{4} \\, \\pi_{c} \\pi_{g} \\pi_{t}^{2} e^{\\left(-2 \\, t\\right)} - \\frac{11}{8} \\, \\pi_{g}^{2} \\pi_{t}^{2} e^{\\left(-2 \\, t\\right)} + \\frac{3}{4} \\, \\pi_{a} \\pi_{t}^{3} e^{\\left(-2 \\, t\\right)} + \\frac{3}{4} \\, \\pi_{c} \\pi_{t}^{3} e^{\\left(-2 \\, t\\right)} + \\frac{3}{4} \\, \\pi_{g} \\pi_{t}^{3} e^{\\left(-2 \\, t\\right)} - \\frac{9}{16} \\, \\pi_{t}^{4} e^{\\left(-2 \\, t\\right)} - \\frac{9}{16} \\, \\pi_{a}^{4} + \\frac{3}{4} \\, \\pi_{a}^{3} \\pi_{c} - \\frac{11}{8} \\, \\pi_{a}^{2} \\pi_{c}^{2} + \\frac{3}{4} \\, \\pi_{a} \\pi_{c}^{3} - \\frac{9}{16} \\, \\pi_{c}^{4} + \\frac{3}{4} \\, \\pi_{a}^{3} \\pi_{g} + \\frac{1}{4} \\, \\pi_{a}^{2} \\pi_{c} \\pi_{g} + \\frac{1}{4} \\, \\pi_{a} \\pi_{c}^{2} \\pi_{g} + \\frac{3}{4} \\, \\pi_{c}^{3} \\pi_{g} - \\frac{11}{8} \\, \\pi_{a}^{2} \\pi_{g}^{2} + \\frac{1}{4} \\, \\pi_{a} \\pi_{c} \\pi_{g}^{2} - \\frac{11}{8} \\, \\pi_{c}^{2} \\pi_{g}^{2} + \\frac{3}{4} \\, \\pi_{a} \\pi_{g}^{3} + \\frac{3}{4} \\, \\pi_{c} \\pi_{g}^{3} - \\frac{9}{16} \\, \\pi_{g}^{4} + \\frac{3}{4} \\, \\pi_{a}^{3} \\pi_{t} + \\frac{1}{4} \\, \\pi_{a}^{2} \\pi_{c} \\pi_{t} + \\frac{1}{4} \\, \\pi_{a} \\pi_{c}^{2} \\pi_{t} + \\frac{3}{4} \\, \\pi_{c}^{3} \\pi_{t} + \\frac{1}{4} \\, \\pi_{a}^{2} \\pi_{g} \\pi_{t} - \\frac{3}{2} \\, \\pi_{a} \\pi_{c} \\pi_{g} \\pi_{t} + \\frac{1}{4} \\, \\pi_{c}^{2} \\pi_{g} \\pi_{t} + \\frac{1}{4} \\, \\pi_{a} \\pi_{g}^{2} \\pi_{t} + \\frac{1}{4} \\, \\pi_{c} \\pi_{g}^{2} \\pi_{t} + \\frac{3}{4} \\, \\pi_{g}^{3} \\pi_{t} - \\frac{11}{8} \\, \\pi_{a}^{2} \\pi_{t}^{2} + \\frac{1}{4} \\, \\pi_{a} \\pi_{c} \\pi_{t}^{2} - \\frac{11}{8} \\, \\pi_{c}^{2} \\pi_{t}^{2} + \\frac{1}{4} \\, \\pi_{a} \\pi_{g} \\pi_{t}^{2} + \\frac{1}{4} \\, \\pi_{c} \\pi_{g} \\pi_{t}^{2} - \\frac{11}{8} \\, \\pi_{g}^{2} \\pi_{t}^{2} + \\frac{3}{4} \\, \\pi_{a} \\pi_{t}^{3} + \\frac{3}{4} \\, \\pi_{c} \\pi_{t}^{3} + \\frac{3}{4} \\, \\pi_{g} \\pi_{t}^{3} - \\frac{9}{16} \\, \\pi_{t}^{4} - \\frac{3}{4} \\, \\pi_{a}^{2} e^{\\left(-t\\right)} + \\frac{1}{2} \\, \\pi_{a} \\pi_{c} e^{\\left(-t\\right)} - \\frac{3}{4} \\, \\pi_{c}^{2} e^{\\left(-t\\right)} + \\frac{1}{2} \\, \\pi_{a} \\pi_{g} e^{\\left(-t\\right)} + \\frac{1}{2} \\, \\pi_{c} \\pi_{g} e^{\\left(-t\\right)} - \\frac{3}{4} \\, \\pi_{g}^{2} e^{\\left(-t\\right)} + \\frac{1}{2} \\, \\pi_{a} \\pi_{t} e^{\\left(-t\\right)} + \\frac{1}{2} \\, \\pi_{c} \\pi_{t} e^{\\left(-t\\right)} + \\frac{1}{2} \\, \\pi_{g} \\pi_{t} e^{\\left(-t\\right)} - \\frac{3}{4} \\, \\pi_{t}^{2} e^{\\left(-t\\right)} + \\frac{9}{8} \\, \\pi_{a}^{2} e^{\\left(-2 \\, t\\right)} - \\frac{3}{4} \\, \\pi_{a} \\pi_{c} e^{\\left(-2 \\, t\\right)} + \\frac{9}{8} \\, \\pi_{c}^{2} e^{\\left(-2 \\, t\\right)} - \\frac{3}{4} \\, \\pi_{a} \\pi_{g} e^{\\left(-2 \\, t\\right)} - \\frac{3}{4} \\, \\pi_{c} \\pi_{g} e^{\\left(-2 \\, t\\right)} + \\frac{9}{8} \\, \\pi_{g}^{2} e^{\\left(-2 \\, t\\right)} - \\frac{3}{4} \\, \\pi_{a} \\pi_{t} e^{\\left(-2 \\, t\\right)} - \\frac{3}{4} \\, \\pi_{c} \\pi_{t} e^{\\left(-2 \\, t\\right)} - \\frac{3}{4} \\, \\pi_{g} \\pi_{t} e^{\\left(-2 \\, t\\right)} + \\frac{9}{8} \\, \\pi_{t}^{2} e^{\\left(-2 \\, t\\right)} - \\frac{3}{8} \\, \\pi_{a}^{2} + \\frac{1}{4} \\, \\pi_{a} \\pi_{c} - \\frac{3}{8} \\, \\pi_{c}^{2} + \\frac{1}{4} \\, \\pi_{a} \\pi_{g} + \\frac{1}{4} \\, \\pi_{c} \\pi_{g} - \\frac{3}{8} \\, \\pi_{g}^{2} + \\frac{1}{4} \\, \\pi_{a} \\pi_{t} + \\frac{1}{4} \\, \\pi_{c} \\pi_{t} + \\frac{1}{4} \\, \\pi_{g} \\pi_{t} - \\frac{3}{8} \\, \\pi_{t}^{2} - \\frac{3}{8} \\, e^{\\left(-t\\right)} - \\frac{9}{16} \\, e^{\\left(-2 \\, t\\right)} + \\frac{15}{16}\\)</html>"
      ],
      "text/latex": [
       "$\\displaystyle \\frac{9}{8} \\, \\pi_{a}^{4} e^{\\left(-t\\right)} - \\frac{3}{2} \\, \\pi_{a}^{3} \\pi_{c} e^{\\left(-t\\right)} + \\frac{11}{4} \\, \\pi_{a}^{2} \\pi_{c}^{2} e^{\\left(-t\\right)} - \\frac{3}{2} \\, \\pi_{a} \\pi_{c}^{3} e^{\\left(-t\\right)} + \\frac{9}{8} \\, \\pi_{c}^{4} e^{\\left(-t\\right)} - \\frac{3}{2} \\, \\pi_{a}^{3} \\pi_{g} e^{\\left(-t\\right)} - \\frac{1}{2} \\, \\pi_{a}^{2} \\pi_{c} \\pi_{g} e^{\\left(-t\\right)} - \\frac{1}{2} \\, \\pi_{a} \\pi_{c}^{2} \\pi_{g} e^{\\left(-t\\right)} - \\frac{3}{2} \\, \\pi_{c}^{3} \\pi_{g} e^{\\left(-t\\right)} + \\frac{11}{4} \\, \\pi_{a}^{2} \\pi_{g}^{2} e^{\\left(-t\\right)} - \\frac{1}{2} \\, \\pi_{a} \\pi_{c} \\pi_{g}^{2} e^{\\left(-t\\right)} + \\frac{11}{4} \\, \\pi_{c}^{2} \\pi_{g}^{2} e^{\\left(-t\\right)} - \\frac{3}{2} \\, \\pi_{a} \\pi_{g}^{3} e^{\\left(-t\\right)} - \\frac{3}{2} \\, \\pi_{c} \\pi_{g}^{3} e^{\\left(-t\\right)} + \\frac{9}{8} \\, \\pi_{g}^{4} e^{\\left(-t\\right)} - \\frac{3}{2} \\, \\pi_{a}^{3} \\pi_{t} e^{\\left(-t\\right)} - \\frac{1}{2} \\, \\pi_{a}^{2} \\pi_{c} \\pi_{t} e^{\\left(-t\\right)} - \\frac{1}{2} \\, \\pi_{a} \\pi_{c}^{2} \\pi_{t} e^{\\left(-t\\right)} - \\frac{3}{2} \\, \\pi_{c}^{3} \\pi_{t} e^{\\left(-t\\right)} - \\frac{1}{2} \\, \\pi_{a}^{2} \\pi_{g} \\pi_{t} e^{\\left(-t\\right)} + 3 \\, \\pi_{a} \\pi_{c} \\pi_{g} \\pi_{t} e^{\\left(-t\\right)} - \\frac{1}{2} \\, \\pi_{c}^{2} \\pi_{g} \\pi_{t} e^{\\left(-t\\right)} - \\frac{1}{2} \\, \\pi_{a} \\pi_{g}^{2} \\pi_{t} e^{\\left(-t\\right)} - \\frac{1}{2} \\, \\pi_{c} \\pi_{g}^{2} \\pi_{t} e^{\\left(-t\\right)} - \\frac{3}{2} \\, \\pi_{g}^{3} \\pi_{t} e^{\\left(-t\\right)} + \\frac{11}{4} \\, \\pi_{a}^{2} \\pi_{t}^{2} e^{\\left(-t\\right)} - \\frac{1}{2} \\, \\pi_{a} \\pi_{c} \\pi_{t}^{2} e^{\\left(-t\\right)} + \\frac{11}{4} \\, \\pi_{c}^{2} \\pi_{t}^{2} e^{\\left(-t\\right)} - \\frac{1}{2} \\, \\pi_{a} \\pi_{g} \\pi_{t}^{2} e^{\\left(-t\\right)} - \\frac{1}{2} \\, \\pi_{c} \\pi_{g} \\pi_{t}^{2} e^{\\left(-t\\right)} + \\frac{11}{4} \\, \\pi_{g}^{2} \\pi_{t}^{2} e^{\\left(-t\\right)} - \\frac{3}{2} \\, \\pi_{a} \\pi_{t}^{3} e^{\\left(-t\\right)} - \\frac{3}{2} \\, \\pi_{c} \\pi_{t}^{3} e^{\\left(-t\\right)} - \\frac{3}{2} \\, \\pi_{g} \\pi_{t}^{3} e^{\\left(-t\\right)} + \\frac{9}{8} \\, \\pi_{t}^{4} e^{\\left(-t\\right)} - \\frac{9}{16} \\, \\pi_{a}^{4} e^{\\left(-2 \\, t\\right)} + \\frac{3}{4} \\, \\pi_{a}^{3} \\pi_{c} e^{\\left(-2 \\, t\\right)} - \\frac{11}{8} \\, \\pi_{a}^{2} \\pi_{c}^{2} e^{\\left(-2 \\, t\\right)} + \\frac{3}{4} \\, \\pi_{a} \\pi_{c}^{3} e^{\\left(-2 \\, t\\right)} - \\frac{9}{16} \\, \\pi_{c}^{4} e^{\\left(-2 \\, t\\right)} + \\frac{3}{4} \\, \\pi_{a}^{3} \\pi_{g} e^{\\left(-2 \\, t\\right)} + \\frac{1}{4} \\, \\pi_{a}^{2} \\pi_{c} \\pi_{g} e^{\\left(-2 \\, t\\right)} + \\frac{1}{4} \\, \\pi_{a} \\pi_{c}^{2} \\pi_{g} e^{\\left(-2 \\, t\\right)} + \\frac{3}{4} \\, \\pi_{c}^{3} \\pi_{g} e^{\\left(-2 \\, t\\right)} - \\frac{11}{8} \\, \\pi_{a}^{2} \\pi_{g}^{2} e^{\\left(-2 \\, t\\right)} + \\frac{1}{4} \\, \\pi_{a} \\pi_{c} \\pi_{g}^{2} e^{\\left(-2 \\, t\\right)} - \\frac{11}{8} \\, \\pi_{c}^{2} \\pi_{g}^{2} e^{\\left(-2 \\, t\\right)} + \\frac{3}{4} \\, \\pi_{a} \\pi_{g}^{3} e^{\\left(-2 \\, t\\right)} + \\frac{3}{4} \\, \\pi_{c} \\pi_{g}^{3} e^{\\left(-2 \\, t\\right)} - \\frac{9}{16} \\, \\pi_{g}^{4} e^{\\left(-2 \\, t\\right)} + \\frac{3}{4} \\, \\pi_{a}^{3} \\pi_{t} e^{\\left(-2 \\, t\\right)} + \\frac{1}{4} \\, \\pi_{a}^{2} \\pi_{c} \\pi_{t} e^{\\left(-2 \\, t\\right)} + \\frac{1}{4} \\, \\pi_{a} \\pi_{c}^{2} \\pi_{t} e^{\\left(-2 \\, t\\right)} + \\frac{3}{4} \\, \\pi_{c}^{3} \\pi_{t} e^{\\left(-2 \\, t\\right)} + \\frac{1}{4} \\, \\pi_{a}^{2} \\pi_{g} \\pi_{t} e^{\\left(-2 \\, t\\right)} - \\frac{3}{2} \\, \\pi_{a} \\pi_{c} \\pi_{g} \\pi_{t} e^{\\left(-2 \\, t\\right)} + \\frac{1}{4} \\, \\pi_{c}^{2} \\pi_{g} \\pi_{t} e^{\\left(-2 \\, t\\right)} + \\frac{1}{4} \\, \\pi_{a} \\pi_{g}^{2} \\pi_{t} e^{\\left(-2 \\, t\\right)} + \\frac{1}{4} \\, \\pi_{c} \\pi_{g}^{2} \\pi_{t} e^{\\left(-2 \\, t\\right)} + \\frac{3}{4} \\, \\pi_{g}^{3} \\pi_{t} e^{\\left(-2 \\, t\\right)} - \\frac{11}{8} \\, \\pi_{a}^{2} \\pi_{t}^{2} e^{\\left(-2 \\, t\\right)} + \\frac{1}{4} \\, \\pi_{a} \\pi_{c} \\pi_{t}^{2} e^{\\left(-2 \\, t\\right)} - \\frac{11}{8} \\, \\pi_{c}^{2} \\pi_{t}^{2} e^{\\left(-2 \\, t\\right)} + \\frac{1}{4} \\, \\pi_{a} \\pi_{g} \\pi_{t}^{2} e^{\\left(-2 \\, t\\right)} + \\frac{1}{4} \\, \\pi_{c} \\pi_{g} \\pi_{t}^{2} e^{\\left(-2 \\, t\\right)} - \\frac{11}{8} \\, \\pi_{g}^{2} \\pi_{t}^{2} e^{\\left(-2 \\, t\\right)} + \\frac{3}{4} \\, \\pi_{a} \\pi_{t}^{3} e^{\\left(-2 \\, t\\right)} + \\frac{3}{4} \\, \\pi_{c} \\pi_{t}^{3} e^{\\left(-2 \\, t\\right)} + \\frac{3}{4} \\, \\pi_{g} \\pi_{t}^{3} e^{\\left(-2 \\, t\\right)} - \\frac{9}{16} \\, \\pi_{t}^{4} e^{\\left(-2 \\, t\\right)} - \\frac{9}{16} \\, \\pi_{a}^{4} + \\frac{3}{4} \\, \\pi_{a}^{3} \\pi_{c} - \\frac{11}{8} \\, \\pi_{a}^{2} \\pi_{c}^{2} + \\frac{3}{4} \\, \\pi_{a} \\pi_{c}^{3} - \\frac{9}{16} \\, \\pi_{c}^{4} + \\frac{3}{4} \\, \\pi_{a}^{3} \\pi_{g} + \\frac{1}{4} \\, \\pi_{a}^{2} \\pi_{c} \\pi_{g} + \\frac{1}{4} \\, \\pi_{a} \\pi_{c}^{2} \\pi_{g} + \\frac{3}{4} \\, \\pi_{c}^{3} \\pi_{g} - \\frac{11}{8} \\, \\pi_{a}^{2} \\pi_{g}^{2} + \\frac{1}{4} \\, \\pi_{a} \\pi_{c} \\pi_{g}^{2} - \\frac{11}{8} \\, \\pi_{c}^{2} \\pi_{g}^{2} + \\frac{3}{4} \\, \\pi_{a} \\pi_{g}^{3} + \\frac{3}{4} \\, \\pi_{c} \\pi_{g}^{3} - \\frac{9}{16} \\, \\pi_{g}^{4} + \\frac{3}{4} \\, \\pi_{a}^{3} \\pi_{t} + \\frac{1}{4} \\, \\pi_{a}^{2} \\pi_{c} \\pi_{t} + \\frac{1}{4} \\, \\pi_{a} \\pi_{c}^{2} \\pi_{t} + \\frac{3}{4} \\, \\pi_{c}^{3} \\pi_{t} + \\frac{1}{4} \\, \\pi_{a}^{2} \\pi_{g} \\pi_{t} - \\frac{3}{2} \\, \\pi_{a} \\pi_{c} \\pi_{g} \\pi_{t} + \\frac{1}{4} \\, \\pi_{c}^{2} \\pi_{g} \\pi_{t} + \\frac{1}{4} \\, \\pi_{a} \\pi_{g}^{2} \\pi_{t} + \\frac{1}{4} \\, \\pi_{c} \\pi_{g}^{2} \\pi_{t} + \\frac{3}{4} \\, \\pi_{g}^{3} \\pi_{t} - \\frac{11}{8} \\, \\pi_{a}^{2} \\pi_{t}^{2} + \\frac{1}{4} \\, \\pi_{a} \\pi_{c} \\pi_{t}^{2} - \\frac{11}{8} \\, \\pi_{c}^{2} \\pi_{t}^{2} + \\frac{1}{4} \\, \\pi_{a} \\pi_{g} \\pi_{t}^{2} + \\frac{1}{4} \\, \\pi_{c} \\pi_{g} \\pi_{t}^{2} - \\frac{11}{8} \\, \\pi_{g}^{2} \\pi_{t}^{2} + \\frac{3}{4} \\, \\pi_{a} \\pi_{t}^{3} + \\frac{3}{4} \\, \\pi_{c} \\pi_{t}^{3} + \\frac{3}{4} \\, \\pi_{g} \\pi_{t}^{3} - \\frac{9}{16} \\, \\pi_{t}^{4} - \\frac{3}{4} \\, \\pi_{a}^{2} e^{\\left(-t\\right)} + \\frac{1}{2} \\, \\pi_{a} \\pi_{c} e^{\\left(-t\\right)} - \\frac{3}{4} \\, \\pi_{c}^{2} e^{\\left(-t\\right)} + \\frac{1}{2} \\, \\pi_{a} \\pi_{g} e^{\\left(-t\\right)} + \\frac{1}{2} \\, \\pi_{c} \\pi_{g} e^{\\left(-t\\right)} - \\frac{3}{4} \\, \\pi_{g}^{2} e^{\\left(-t\\right)} + \\frac{1}{2} \\, \\pi_{a} \\pi_{t} e^{\\left(-t\\right)} + \\frac{1}{2} \\, \\pi_{c} \\pi_{t} e^{\\left(-t\\right)} + \\frac{1}{2} \\, \\pi_{g} \\pi_{t} e^{\\left(-t\\right)} - \\frac{3}{4} \\, \\pi_{t}^{2} e^{\\left(-t\\right)} + \\frac{9}{8} \\, \\pi_{a}^{2} e^{\\left(-2 \\, t\\right)} - \\frac{3}{4} \\, \\pi_{a} \\pi_{c} e^{\\left(-2 \\, t\\right)} + \\frac{9}{8} \\, \\pi_{c}^{2} e^{\\left(-2 \\, t\\right)} - \\frac{3}{4} \\, \\pi_{a} \\pi_{g} e^{\\left(-2 \\, t\\right)} - \\frac{3}{4} \\, \\pi_{c} \\pi_{g} e^{\\left(-2 \\, t\\right)} + \\frac{9}{8} \\, \\pi_{g}^{2} e^{\\left(-2 \\, t\\right)} - \\frac{3}{4} \\, \\pi_{a} \\pi_{t} e^{\\left(-2 \\, t\\right)} - \\frac{3}{4} \\, \\pi_{c} \\pi_{t} e^{\\left(-2 \\, t\\right)} - \\frac{3}{4} \\, \\pi_{g} \\pi_{t} e^{\\left(-2 \\, t\\right)} + \\frac{9}{8} \\, \\pi_{t}^{2} e^{\\left(-2 \\, t\\right)} - \\frac{3}{8} \\, \\pi_{a}^{2} + \\frac{1}{4} \\, \\pi_{a} \\pi_{c} - \\frac{3}{8} \\, \\pi_{c}^{2} + \\frac{1}{4} \\, \\pi_{a} \\pi_{g} + \\frac{1}{4} \\, \\pi_{c} \\pi_{g} - \\frac{3}{8} \\, \\pi_{g}^{2} + \\frac{1}{4} \\, \\pi_{a} \\pi_{t} + \\frac{1}{4} \\, \\pi_{c} \\pi_{t} + \\frac{1}{4} \\, \\pi_{g} \\pi_{t} - \\frac{3}{8} \\, \\pi_{t}^{2} - \\frac{3}{8} \\, e^{\\left(-t\\right)} - \\frac{9}{16} \\, e^{\\left(-2 \\, t\\right)} + \\frac{15}{16}$"
      ],
      "text/plain": [
       "9/8*pi_a^4*e^(-t) - 3/2*pi_a^3*pi_c*e^(-t) + 11/4*pi_a^2*pi_c^2*e^(-t) - 3/2*pi_a*pi_c^3*e^(-t) + 9/8*pi_c^4*e^(-t) - 3/2*pi_a^3*pi_g*e^(-t) - 1/2*pi_a^2*pi_c*pi_g*e^(-t) - 1/2*pi_a*pi_c^2*pi_g*e^(-t) - 3/2*pi_c^3*pi_g*e^(-t) + 11/4*pi_a^2*pi_g^2*e^(-t) - 1/2*pi_a*pi_c*pi_g^2*e^(-t) + 11/4*pi_c^2*pi_g^2*e^(-t) - 3/2*pi_a*pi_g^3*e^(-t) - 3/2*pi_c*pi_g^3*e^(-t) + 9/8*pi_g^4*e^(-t) - 3/2*pi_a^3*pi_t*e^(-t) - 1/2*pi_a^2*pi_c*pi_t*e^(-t) - 1/2*pi_a*pi_c^2*pi_t*e^(-t) - 3/2*pi_c^3*pi_t*e^(-t) - 1/2*pi_a^2*pi_g*pi_t*e^(-t) + 3*pi_a*pi_c*pi_g*pi_t*e^(-t) - 1/2*pi_c^2*pi_g*pi_t*e^(-t) - 1/2*pi_a*pi_g^2*pi_t*e^(-t) - 1/2*pi_c*pi_g^2*pi_t*e^(-t) - 3/2*pi_g^3*pi_t*e^(-t) + 11/4*pi_a^2*pi_t^2*e^(-t) - 1/2*pi_a*pi_c*pi_t^2*e^(-t) + 11/4*pi_c^2*pi_t^2*e^(-t) - 1/2*pi_a*pi_g*pi_t^2*e^(-t) - 1/2*pi_c*pi_g*pi_t^2*e^(-t) + 11/4*pi_g^2*pi_t^2*e^(-t) - 3/2*pi_a*pi_t^3*e^(-t) - 3/2*pi_c*pi_t^3*e^(-t) - 3/2*pi_g*pi_t^3*e^(-t) + 9/8*pi_t^4*e^(-t) - 9/16*pi_a^4*e^(-2*t) + 3/4*pi_a^3*pi_c*e^(-2*t) - 11/8*pi_a^2*pi_c^2*e^(-2*t) + 3/4*pi_a*pi_c^3*e^(-2*t) - 9/16*pi_c^4*e^(-2*t) + 3/4*pi_a^3*pi_g*e^(-2*t) + 1/4*pi_a^2*pi_c*pi_g*e^(-2*t) + 1/4*pi_a*pi_c^2*pi_g*e^(-2*t) + 3/4*pi_c^3*pi_g*e^(-2*t) - 11/8*pi_a^2*pi_g^2*e^(-2*t) + 1/4*pi_a*pi_c*pi_g^2*e^(-2*t) - 11/8*pi_c^2*pi_g^2*e^(-2*t) + 3/4*pi_a*pi_g^3*e^(-2*t) + 3/4*pi_c*pi_g^3*e^(-2*t) - 9/16*pi_g^4*e^(-2*t) + 3/4*pi_a^3*pi_t*e^(-2*t) + 1/4*pi_a^2*pi_c*pi_t*e^(-2*t) + 1/4*pi_a*pi_c^2*pi_t*e^(-2*t) + 3/4*pi_c^3*pi_t*e^(-2*t) + 1/4*pi_a^2*pi_g*pi_t*e^(-2*t) - 3/2*pi_a*pi_c*pi_g*pi_t*e^(-2*t) + 1/4*pi_c^2*pi_g*pi_t*e^(-2*t) + 1/4*pi_a*pi_g^2*pi_t*e^(-2*t) + 1/4*pi_c*pi_g^2*pi_t*e^(-2*t) + 3/4*pi_g^3*pi_t*e^(-2*t) - 11/8*pi_a^2*pi_t^2*e^(-2*t) + 1/4*pi_a*pi_c*pi_t^2*e^(-2*t) - 11/8*pi_c^2*pi_t^2*e^(-2*t) + 1/4*pi_a*pi_g*pi_t^2*e^(-2*t) + 1/4*pi_c*pi_g*pi_t^2*e^(-2*t) - 11/8*pi_g^2*pi_t^2*e^(-2*t) + 3/4*pi_a*pi_t^3*e^(-2*t) + 3/4*pi_c*pi_t^3*e^(-2*t) + 3/4*pi_g*pi_t^3*e^(-2*t) - 9/16*pi_t^4*e^(-2*t) - 9/16*pi_a^4 + 3/4*pi_a^3*pi_c - 11/8*pi_a^2*pi_c^2 + 3/4*pi_a*pi_c^3 - 9/16*pi_c^4 + 3/4*pi_a^3*pi_g + 1/4*pi_a^2*pi_c*pi_g + 1/4*pi_a*pi_c^2*pi_g + 3/4*pi_c^3*pi_g - 11/8*pi_a^2*pi_g^2 + 1/4*pi_a*pi_c*pi_g^2 - 11/8*pi_c^2*pi_g^2 + 3/4*pi_a*pi_g^3 + 3/4*pi_c*pi_g^3 - 9/16*pi_g^4 + 3/4*pi_a^3*pi_t + 1/4*pi_a^2*pi_c*pi_t + 1/4*pi_a*pi_c^2*pi_t + 3/4*pi_c^3*pi_t + 1/4*pi_a^2*pi_g*pi_t - 3/2*pi_a*pi_c*pi_g*pi_t + 1/4*pi_c^2*pi_g*pi_t + 1/4*pi_a*pi_g^2*pi_t + 1/4*pi_c*pi_g^2*pi_t + 3/4*pi_g^3*pi_t - 11/8*pi_a^2*pi_t^2 + 1/4*pi_a*pi_c*pi_t^2 - 11/8*pi_c^2*pi_t^2 + 1/4*pi_a*pi_g*pi_t^2 + 1/4*pi_c*pi_g*pi_t^2 - 11/8*pi_g^2*pi_t^2 + 3/4*pi_a*pi_t^3 + 3/4*pi_c*pi_t^3 + 3/4*pi_g*pi_t^3 - 9/16*pi_t^4 - 3/4*pi_a^2*e^(-t) + 1/2*pi_a*pi_c*e^(-t) - 3/4*pi_c^2*e^(-t) + 1/2*pi_a*pi_g*e^(-t) + 1/2*pi_c*pi_g*e^(-t) - 3/4*pi_g^2*e^(-t) + 1/2*pi_a*pi_t*e^(-t) + 1/2*pi_c*pi_t*e^(-t) + 1/2*pi_g*pi_t*e^(-t) - 3/4*pi_t^2*e^(-t) + 9/8*pi_a^2*e^(-2*t) - 3/4*pi_a*pi_c*e^(-2*t) + 9/8*pi_c^2*e^(-2*t) - 3/4*pi_a*pi_g*e^(-2*t) - 3/4*pi_c*pi_g*e^(-2*t) + 9/8*pi_g^2*e^(-2*t) - 3/4*pi_a*pi_t*e^(-2*t) - 3/4*pi_c*pi_t*e^(-2*t) - 3/4*pi_g*pi_t*e^(-2*t) + 9/8*pi_t^2*e^(-2*t) - 3/8*pi_a^2 + 1/4*pi_a*pi_c - 3/8*pi_c^2 + 1/4*pi_a*pi_g + 1/4*pi_c*pi_g - 3/8*pi_g^2 + 1/4*pi_a*pi_t + 1/4*pi_c*pi_t + 1/4*pi_g*pi_t - 3/8*pi_t^2 - 3/8*e^(-t) - 9/16*e^(-2*t) + 15/16"
      ]
     },
     "metadata": {},
     "output_type": "display_data"
    }
   ],
   "source": [
    "p_hat_f16t = temp(tau_1=pi_c-pi_a, tau_2 = pi_g-pi_c, tau_3=pi_t-pi_g).expand().simplify_full().expand()\n",
    "pretty_print( p_hat_f16t )"
   ]
  },
  {
   "cell_type": "code",
   "execution_count": 45,
   "id": "059dfd9d-db28-4dec-81ce-cc32b7031b8f",
   "metadata": {},
   "outputs": [
    {
     "name": "stdout",
     "output_type": "stream",
     "text": [
      "2\n"
     ]
    }
   ],
   "source": [
    "solns = solve(p_hat_f16t==p,t)\n",
    "print(len(solns))"
   ]
  },
  {
   "cell_type": "code",
   "execution_count": 46,
   "id": "35155e17-cca6-4da5-b234-c6cd45b5cc9c",
   "metadata": {},
   "outputs": [
    {
     "data": {
      "text/html": [
       "<html>\\(\\displaystyle \\log\\left(\\frac{9 \\, \\pi_{a}^{4} - 12 \\, \\pi_{a} \\pi_{c}^{3} + 9 \\, \\pi_{c}^{4} - 12 \\, {\\left(\\pi_{a} + \\pi_{c}\\right)} \\pi_{g}^{3} + 9 \\, \\pi_{g}^{4} - 12 \\, {\\left(\\pi_{a} + \\pi_{c} + \\pi_{g}\\right)} \\pi_{t}^{3} + 9 \\, \\pi_{t}^{4} + 2 \\, {\\left(11 \\, \\pi_{a}^{2} - 3\\right)} \\pi_{c}^{2} + 2 \\, {\\left(11 \\, \\pi_{a}^{2} - 2 \\, \\pi_{a} \\pi_{c} + 11 \\, \\pi_{c}^{2} - 3\\right)} \\pi_{g}^{2} + 2 \\, {\\left(11 \\, \\pi_{a}^{2} - 2 \\, \\pi_{a} \\pi_{c} + 11 \\, \\pi_{c}^{2} - 2 \\, {\\left(\\pi_{a} + \\pi_{c}\\right)} \\pi_{g} + 11 \\, \\pi_{g}^{2} - 3\\right)} \\pi_{t}^{2} - 6 \\, \\pi_{a}^{2} - 4 \\, {\\left(3 \\, \\pi_{a}^{3} - \\pi_{a}\\right)} \\pi_{c} - 4 \\, {\\left(3 \\, \\pi_{a}^{3} + \\pi_{a} \\pi_{c}^{2} + 3 \\, \\pi_{c}^{3} + {\\left(\\pi_{a}^{2} - 1\\right)} \\pi_{c} - \\pi_{a}\\right)} \\pi_{g} - 4 \\, {\\left(3 \\, \\pi_{a}^{3} + \\pi_{a} \\pi_{c}^{2} + 3 \\, \\pi_{c}^{3} + {\\left(\\pi_{a} + \\pi_{c}\\right)} \\pi_{g}^{2} + 3 \\, \\pi_{g}^{3} + {\\left(\\pi_{a}^{2} - 1\\right)} \\pi_{c} + {\\left(\\pi_{a}^{2} - 6 \\, \\pi_{a} \\pi_{c} + \\pi_{c}^{2} - 1\\right)} \\pi_{g} - \\pi_{a}\\right)} \\pi_{t} + 4 \\, {\\left(3 \\, \\pi_{a}^{2} - 2 \\, \\pi_{a} \\pi_{c} + 3 \\, \\pi_{c}^{2} - 2 \\, {\\left(\\pi_{a} + \\pi_{c}\\right)} \\pi_{g} + 3 \\, \\pi_{g}^{2} - 2 \\, {\\left(\\pi_{a} + \\pi_{c} + \\pi_{g}\\right)} \\pi_{t} + 3 \\, \\pi_{t}^{2} - 3\\right)} \\sqrt{-p + 1} - 3}{9 \\, \\pi_{a}^{4} - 12 \\, \\pi_{a} \\pi_{c}^{3} + 9 \\, \\pi_{c}^{4} - 12 \\, {\\left(\\pi_{a} + \\pi_{c}\\right)} \\pi_{g}^{3} + 9 \\, \\pi_{g}^{4} - 12 \\, {\\left(\\pi_{a} + \\pi_{c} + \\pi_{g}\\right)} \\pi_{t}^{3} + 9 \\, \\pi_{t}^{4} + 2 \\, {\\left(11 \\, \\pi_{a}^{2} + 3\\right)} \\pi_{c}^{2} + 2 \\, {\\left(11 \\, \\pi_{a}^{2} - 2 \\, \\pi_{a} \\pi_{c} + 11 \\, \\pi_{c}^{2} + 3\\right)} \\pi_{g}^{2} + 2 \\, {\\left(11 \\, \\pi_{a}^{2} - 2 \\, \\pi_{a} \\pi_{c} + 11 \\, \\pi_{c}^{2} - 2 \\, {\\left(\\pi_{a} + \\pi_{c}\\right)} \\pi_{g} + 11 \\, \\pi_{g}^{2} + 3\\right)} \\pi_{t}^{2} + 6 \\, \\pi_{a}^{2} - 4 \\, {\\left(3 \\, \\pi_{a}^{3} + \\pi_{a}\\right)} \\pi_{c} - 4 \\, {\\left(3 \\, \\pi_{a}^{3} + \\pi_{a} \\pi_{c}^{2} + 3 \\, \\pi_{c}^{3} + {\\left(\\pi_{a}^{2} + 1\\right)} \\pi_{c} + \\pi_{a}\\right)} \\pi_{g} - 4 \\, {\\left(3 \\, \\pi_{a}^{3} + \\pi_{a} \\pi_{c}^{2} + 3 \\, \\pi_{c}^{3} + {\\left(\\pi_{a} + \\pi_{c}\\right)} \\pi_{g}^{2} + 3 \\, \\pi_{g}^{3} + {\\left(\\pi_{a}^{2} + 1\\right)} \\pi_{c} + {\\left(\\pi_{a}^{2} - 6 \\, \\pi_{a} \\pi_{c} + \\pi_{c}^{2} + 1\\right)} \\pi_{g} + \\pi_{a}\\right)} \\pi_{t} + 16 \\, p - 15}\\right)\\)</html>"
      ],
      "text/latex": [
       "$\\displaystyle \\log\\left(\\frac{9 \\, \\pi_{a}^{4} - 12 \\, \\pi_{a} \\pi_{c}^{3} + 9 \\, \\pi_{c}^{4} - 12 \\, {\\left(\\pi_{a} + \\pi_{c}\\right)} \\pi_{g}^{3} + 9 \\, \\pi_{g}^{4} - 12 \\, {\\left(\\pi_{a} + \\pi_{c} + \\pi_{g}\\right)} \\pi_{t}^{3} + 9 \\, \\pi_{t}^{4} + 2 \\, {\\left(11 \\, \\pi_{a}^{2} - 3\\right)} \\pi_{c}^{2} + 2 \\, {\\left(11 \\, \\pi_{a}^{2} - 2 \\, \\pi_{a} \\pi_{c} + 11 \\, \\pi_{c}^{2} - 3\\right)} \\pi_{g}^{2} + 2 \\, {\\left(11 \\, \\pi_{a}^{2} - 2 \\, \\pi_{a} \\pi_{c} + 11 \\, \\pi_{c}^{2} - 2 \\, {\\left(\\pi_{a} + \\pi_{c}\\right)} \\pi_{g} + 11 \\, \\pi_{g}^{2} - 3\\right)} \\pi_{t}^{2} - 6 \\, \\pi_{a}^{2} - 4 \\, {\\left(3 \\, \\pi_{a}^{3} - \\pi_{a}\\right)} \\pi_{c} - 4 \\, {\\left(3 \\, \\pi_{a}^{3} + \\pi_{a} \\pi_{c}^{2} + 3 \\, \\pi_{c}^{3} + {\\left(\\pi_{a}^{2} - 1\\right)} \\pi_{c} - \\pi_{a}\\right)} \\pi_{g} - 4 \\, {\\left(3 \\, \\pi_{a}^{3} + \\pi_{a} \\pi_{c}^{2} + 3 \\, \\pi_{c}^{3} + {\\left(\\pi_{a} + \\pi_{c}\\right)} \\pi_{g}^{2} + 3 \\, \\pi_{g}^{3} + {\\left(\\pi_{a}^{2} - 1\\right)} \\pi_{c} + {\\left(\\pi_{a}^{2} - 6 \\, \\pi_{a} \\pi_{c} + \\pi_{c}^{2} - 1\\right)} \\pi_{g} - \\pi_{a}\\right)} \\pi_{t} + 4 \\, {\\left(3 \\, \\pi_{a}^{2} - 2 \\, \\pi_{a} \\pi_{c} + 3 \\, \\pi_{c}^{2} - 2 \\, {\\left(\\pi_{a} + \\pi_{c}\\right)} \\pi_{g} + 3 \\, \\pi_{g}^{2} - 2 \\, {\\left(\\pi_{a} + \\pi_{c} + \\pi_{g}\\right)} \\pi_{t} + 3 \\, \\pi_{t}^{2} - 3\\right)} \\sqrt{-p + 1} - 3}{9 \\, \\pi_{a}^{4} - 12 \\, \\pi_{a} \\pi_{c}^{3} + 9 \\, \\pi_{c}^{4} - 12 \\, {\\left(\\pi_{a} + \\pi_{c}\\right)} \\pi_{g}^{3} + 9 \\, \\pi_{g}^{4} - 12 \\, {\\left(\\pi_{a} + \\pi_{c} + \\pi_{g}\\right)} \\pi_{t}^{3} + 9 \\, \\pi_{t}^{4} + 2 \\, {\\left(11 \\, \\pi_{a}^{2} + 3\\right)} \\pi_{c}^{2} + 2 \\, {\\left(11 \\, \\pi_{a}^{2} - 2 \\, \\pi_{a} \\pi_{c} + 11 \\, \\pi_{c}^{2} + 3\\right)} \\pi_{g}^{2} + 2 \\, {\\left(11 \\, \\pi_{a}^{2} - 2 \\, \\pi_{a} \\pi_{c} + 11 \\, \\pi_{c}^{2} - 2 \\, {\\left(\\pi_{a} + \\pi_{c}\\right)} \\pi_{g} + 11 \\, \\pi_{g}^{2} + 3\\right)} \\pi_{t}^{2} + 6 \\, \\pi_{a}^{2} - 4 \\, {\\left(3 \\, \\pi_{a}^{3} + \\pi_{a}\\right)} \\pi_{c} - 4 \\, {\\left(3 \\, \\pi_{a}^{3} + \\pi_{a} \\pi_{c}^{2} + 3 \\, \\pi_{c}^{3} + {\\left(\\pi_{a}^{2} + 1\\right)} \\pi_{c} + \\pi_{a}\\right)} \\pi_{g} - 4 \\, {\\left(3 \\, \\pi_{a}^{3} + \\pi_{a} \\pi_{c}^{2} + 3 \\, \\pi_{c}^{3} + {\\left(\\pi_{a} + \\pi_{c}\\right)} \\pi_{g}^{2} + 3 \\, \\pi_{g}^{3} + {\\left(\\pi_{a}^{2} + 1\\right)} \\pi_{c} + {\\left(\\pi_{a}^{2} - 6 \\, \\pi_{a} \\pi_{c} + \\pi_{c}^{2} + 1\\right)} \\pi_{g} + \\pi_{a}\\right)} \\pi_{t} + 16 \\, p - 15}\\right)$"
      ],
      "text/plain": [
       "log((9*pi_a^4 - 12*pi_a*pi_c^3 + 9*pi_c^4 - 12*(pi_a + pi_c)*pi_g^3 + 9*pi_g^4 - 12*(pi_a + pi_c + pi_g)*pi_t^3 + 9*pi_t^4 + 2*(11*pi_a^2 - 3)*pi_c^2 + 2*(11*pi_a^2 - 2*pi_a*pi_c + 11*pi_c^2 - 3)*pi_g^2 + 2*(11*pi_a^2 - 2*pi_a*pi_c + 11*pi_c^2 - 2*(pi_a + pi_c)*pi_g + 11*pi_g^2 - 3)*pi_t^2 - 6*pi_a^2 - 4*(3*pi_a^3 - pi_a)*pi_c - 4*(3*pi_a^3 + pi_a*pi_c^2 + 3*pi_c^3 + (pi_a^2 - 1)*pi_c - pi_a)*pi_g - 4*(3*pi_a^3 + pi_a*pi_c^2 + 3*pi_c^3 + (pi_a + pi_c)*pi_g^2 + 3*pi_g^3 + (pi_a^2 - 1)*pi_c + (pi_a^2 - 6*pi_a*pi_c + pi_c^2 - 1)*pi_g - pi_a)*pi_t + 4*(3*pi_a^2 - 2*pi_a*pi_c + 3*pi_c^2 - 2*(pi_a + pi_c)*pi_g + 3*pi_g^2 - 2*(pi_a + pi_c + pi_g)*pi_t + 3*pi_t^2 - 3)*sqrt(-p + 1) - 3)/(9*pi_a^4 - 12*pi_a*pi_c^3 + 9*pi_c^4 - 12*(pi_a + pi_c)*pi_g^3 + 9*pi_g^4 - 12*(pi_a + pi_c + pi_g)*pi_t^3 + 9*pi_t^4 + 2*(11*pi_a^2 + 3)*pi_c^2 + 2*(11*pi_a^2 - 2*pi_a*pi_c + 11*pi_c^2 + 3)*pi_g^2 + 2*(11*pi_a^2 - 2*pi_a*pi_c + 11*pi_c^2 - 2*(pi_a + pi_c)*pi_g + 11*pi_g^2 + 3)*pi_t^2 + 6*pi_a^2 - 4*(3*pi_a^3 + pi_a)*pi_c - 4*(3*pi_a^3 + pi_a*pi_c^2 + 3*pi_c^3 + (pi_a^2 + 1)*pi_c + pi_a)*pi_g - 4*(3*pi_a^3 + pi_a*pi_c^2 + 3*pi_c^3 + (pi_a + pi_c)*pi_g^2 + 3*pi_g^3 + (pi_a^2 + 1)*pi_c + (pi_a^2 - 6*pi_a*pi_c + pi_c^2 + 1)*pi_g + pi_a)*pi_t + 16*p - 15))"
      ]
     },
     "metadata": {},
     "output_type": "display_data"
    }
   ],
   "source": [
    "nu_hat_f16t = solns[1].rhs().simplify_full()\n",
    "pretty_print(nu_hat_f16t)"
   ]
  },
  {
   "cell_type": "code",
   "execution_count": 47,
   "id": "652da051-f792-4bc7-b01a-c9f61fa35126",
   "metadata": {},
   "outputs": [
    {
     "data": {
      "text/html": [
       "<html>\\(\\displaystyle \\log\\left(\\frac{9 \\, \\tau_{1}^{4} + 32 \\, \\tau_{1} \\tau_{2}^{3} + 16 \\, \\tau_{2}^{4} + 12 \\, {\\left(\\tau_{1} + 2 \\, \\tau_{2}\\right)} \\tau_{3}^{3} + 9 \\, \\tau_{3}^{4} + 8 \\, {\\left(5 \\, \\tau_{1}^{2} - 1\\right)} \\tau_{2}^{2} + 2 \\, {\\left(11 \\, \\tau_{1}^{2} + 20 \\, \\tau_{1} \\tau_{2} + 20 \\, \\tau_{2}^{2} - 3\\right)} \\tau_{3}^{2} - 6 \\, \\tau_{1}^{2} + 8 \\, {\\left(3 \\, \\tau_{1}^{3} - \\tau_{1}\\right)} \\tau_{2} + 4 \\, {\\left(3 \\, \\tau_{1}^{3} + 12 \\, \\tau_{1} \\tau_{2}^{2} + 8 \\, \\tau_{2}^{3} + 2 \\, {\\left(5 \\, \\tau_{1}^{2} - 1\\right)} \\tau_{2} - \\tau_{1}\\right)} \\tau_{3} + 4 \\, {\\left(3 \\, \\tau_{1}^{2} + 4 \\, \\tau_{1} \\tau_{2} + 4 \\, \\tau_{2}^{2} + 2 \\, {\\left(\\tau_{1} + 2 \\, \\tau_{2}\\right)} \\tau_{3} + 3 \\, \\tau_{3}^{2} - 3\\right)} \\sqrt{-p + 1} - 3}{9 \\, \\tau_{1}^{4} + 32 \\, \\tau_{1} \\tau_{2}^{3} + 16 \\, \\tau_{2}^{4} + 12 \\, {\\left(\\tau_{1} + 2 \\, \\tau_{2}\\right)} \\tau_{3}^{3} + 9 \\, \\tau_{3}^{4} + 8 \\, {\\left(5 \\, \\tau_{1}^{2} + 1\\right)} \\tau_{2}^{2} + 2 \\, {\\left(11 \\, \\tau_{1}^{2} + 20 \\, \\tau_{1} \\tau_{2} + 20 \\, \\tau_{2}^{2} + 3\\right)} \\tau_{3}^{2} + 6 \\, \\tau_{1}^{2} + 8 \\, {\\left(3 \\, \\tau_{1}^{3} + \\tau_{1}\\right)} \\tau_{2} + 4 \\, {\\left(3 \\, \\tau_{1}^{3} + 12 \\, \\tau_{1} \\tau_{2}^{2} + 8 \\, \\tau_{2}^{3} + 2 \\, {\\left(5 \\, \\tau_{1}^{2} + 1\\right)} \\tau_{2} + \\tau_{1}\\right)} \\tau_{3} + 16 \\, p - 15}\\right)\\)</html>"
      ],
      "text/latex": [
       "$\\displaystyle \\log\\left(\\frac{9 \\, \\tau_{1}^{4} + 32 \\, \\tau_{1} \\tau_{2}^{3} + 16 \\, \\tau_{2}^{4} + 12 \\, {\\left(\\tau_{1} + 2 \\, \\tau_{2}\\right)} \\tau_{3}^{3} + 9 \\, \\tau_{3}^{4} + 8 \\, {\\left(5 \\, \\tau_{1}^{2} - 1\\right)} \\tau_{2}^{2} + 2 \\, {\\left(11 \\, \\tau_{1}^{2} + 20 \\, \\tau_{1} \\tau_{2} + 20 \\, \\tau_{2}^{2} - 3\\right)} \\tau_{3}^{2} - 6 \\, \\tau_{1}^{2} + 8 \\, {\\left(3 \\, \\tau_{1}^{3} - \\tau_{1}\\right)} \\tau_{2} + 4 \\, {\\left(3 \\, \\tau_{1}^{3} + 12 \\, \\tau_{1} \\tau_{2}^{2} + 8 \\, \\tau_{2}^{3} + 2 \\, {\\left(5 \\, \\tau_{1}^{2} - 1\\right)} \\tau_{2} - \\tau_{1}\\right)} \\tau_{3} + 4 \\, {\\left(3 \\, \\tau_{1}^{2} + 4 \\, \\tau_{1} \\tau_{2} + 4 \\, \\tau_{2}^{2} + 2 \\, {\\left(\\tau_{1} + 2 \\, \\tau_{2}\\right)} \\tau_{3} + 3 \\, \\tau_{3}^{2} - 3\\right)} \\sqrt{-p + 1} - 3}{9 \\, \\tau_{1}^{4} + 32 \\, \\tau_{1} \\tau_{2}^{3} + 16 \\, \\tau_{2}^{4} + 12 \\, {\\left(\\tau_{1} + 2 \\, \\tau_{2}\\right)} \\tau_{3}^{3} + 9 \\, \\tau_{3}^{4} + 8 \\, {\\left(5 \\, \\tau_{1}^{2} + 1\\right)} \\tau_{2}^{2} + 2 \\, {\\left(11 \\, \\tau_{1}^{2} + 20 \\, \\tau_{1} \\tau_{2} + 20 \\, \\tau_{2}^{2} + 3\\right)} \\tau_{3}^{2} + 6 \\, \\tau_{1}^{2} + 8 \\, {\\left(3 \\, \\tau_{1}^{3} + \\tau_{1}\\right)} \\tau_{2} + 4 \\, {\\left(3 \\, \\tau_{1}^{3} + 12 \\, \\tau_{1} \\tau_{2}^{2} + 8 \\, \\tau_{2}^{3} + 2 \\, {\\left(5 \\, \\tau_{1}^{2} + 1\\right)} \\tau_{2} + \\tau_{1}\\right)} \\tau_{3} + 16 \\, p - 15}\\right)$"
      ],
      "text/plain": [
       "log((9*tau_1^4 + 32*tau_1*tau_2^3 + 16*tau_2^4 + 12*(tau_1 + 2*tau_2)*tau_3^3 + 9*tau_3^4 + 8*(5*tau_1^2 - 1)*tau_2^2 + 2*(11*tau_1^2 + 20*tau_1*tau_2 + 20*tau_2^2 - 3)*tau_3^2 - 6*tau_1^2 + 8*(3*tau_1^3 - tau_1)*tau_2 + 4*(3*tau_1^3 + 12*tau_1*tau_2^2 + 8*tau_2^3 + 2*(5*tau_1^2 - 1)*tau_2 - tau_1)*tau_3 + 4*(3*tau_1^2 + 4*tau_1*tau_2 + 4*tau_2^2 + 2*(tau_1 + 2*tau_2)*tau_3 + 3*tau_3^2 - 3)*sqrt(-p + 1) - 3)/(9*tau_1^4 + 32*tau_1*tau_2^3 + 16*tau_2^4 + 12*(tau_1 + 2*tau_2)*tau_3^3 + 9*tau_3^4 + 8*(5*tau_1^2 + 1)*tau_2^2 + 2*(11*tau_1^2 + 20*tau_1*tau_2 + 20*tau_2^2 + 3)*tau_3^2 + 6*tau_1^2 + 8*(3*tau_1^3 + tau_1)*tau_2 + 4*(3*tau_1^3 + 12*tau_1*tau_2^2 + 8*tau_2^3 + 2*(5*tau_1^2 + 1)*tau_2 + tau_1)*tau_3 + 16*p - 15))"
      ]
     },
     "metadata": {},
     "output_type": "display_data"
    }
   ],
   "source": [
    "temp = (\n",
    "    nu_hat_f16t(pi_t=tau_3+pi_g)(pi_g=tau_2+pi_c)(pi_c=tau_1+pi_a)(pi_a=(1-3*tau_1-2*tau_2-tau_3)/4)\n",
    ").simplify_full()\n",
    "pretty_print(temp)"
   ]
  },
  {
   "cell_type": "code",
   "execution_count": 48,
   "id": "982fe1c3-f007-44ee-97ab-35d92f436c1d",
   "metadata": {},
   "outputs": [
    {
     "data": {
      "text/html": [
       "<html>\\(\\displaystyle \\log\\left(\\frac{9 \\, \\pi_{a}^{4} - 12 \\, \\pi_{a} \\pi_{c}^{3} + 9 \\, \\pi_{c}^{4} - 12 \\, {\\left(\\pi_{a} + \\pi_{c}\\right)} \\pi_{g}^{3} + 9 \\, \\pi_{g}^{4} - 12 \\, {\\left(\\pi_{a} + \\pi_{c} + \\pi_{g}\\right)} \\pi_{t}^{3} + 9 \\, \\pi_{t}^{4} + 2 \\, {\\left(11 \\, \\pi_{a}^{2} - 3\\right)} \\pi_{c}^{2} + 2 \\, {\\left(11 \\, \\pi_{a}^{2} - 2 \\, \\pi_{a} \\pi_{c} + 11 \\, \\pi_{c}^{2} - 3\\right)} \\pi_{g}^{2} + 2 \\, {\\left(11 \\, \\pi_{a}^{2} - 2 \\, \\pi_{a} \\pi_{c} + 11 \\, \\pi_{c}^{2} - 2 \\, {\\left(\\pi_{a} + \\pi_{c}\\right)} \\pi_{g} + 11 \\, \\pi_{g}^{2} - 3\\right)} \\pi_{t}^{2} - 6 \\, \\pi_{a}^{2} - 4 \\, {\\left(3 \\, \\pi_{a}^{3} - \\pi_{a}\\right)} \\pi_{c} - 4 \\, {\\left(3 \\, \\pi_{a}^{3} + \\pi_{a} \\pi_{c}^{2} + 3 \\, \\pi_{c}^{3} + {\\left(\\pi_{a}^{2} - 1\\right)} \\pi_{c} - \\pi_{a}\\right)} \\pi_{g} - 4 \\, {\\left(3 \\, \\pi_{a}^{3} + \\pi_{a} \\pi_{c}^{2} + 3 \\, \\pi_{c}^{3} + {\\left(\\pi_{a} + \\pi_{c}\\right)} \\pi_{g}^{2} + 3 \\, \\pi_{g}^{3} + {\\left(\\pi_{a}^{2} - 1\\right)} \\pi_{c} + {\\left(\\pi_{a}^{2} - 6 \\, \\pi_{a} \\pi_{c} + \\pi_{c}^{2} - 1\\right)} \\pi_{g} - \\pi_{a}\\right)} \\pi_{t} + 4 \\, {\\left(3 \\, \\pi_{a}^{2} - 2 \\, \\pi_{a} \\pi_{c} + 3 \\, \\pi_{c}^{2} - 2 \\, {\\left(\\pi_{a} + \\pi_{c}\\right)} \\pi_{g} + 3 \\, \\pi_{g}^{2} - 2 \\, {\\left(\\pi_{a} + \\pi_{c} + \\pi_{g}\\right)} \\pi_{t} + 3 \\, \\pi_{t}^{2} - 3\\right)} \\sqrt{-p + 1} - 3}{9 \\, \\pi_{a}^{4} - 12 \\, \\pi_{a} \\pi_{c}^{3} + 9 \\, \\pi_{c}^{4} - 12 \\, {\\left(\\pi_{a} + \\pi_{c}\\right)} \\pi_{g}^{3} + 9 \\, \\pi_{g}^{4} - 12 \\, {\\left(\\pi_{a} + \\pi_{c} + \\pi_{g}\\right)} \\pi_{t}^{3} + 9 \\, \\pi_{t}^{4} + 2 \\, {\\left(11 \\, \\pi_{a}^{2} + 3\\right)} \\pi_{c}^{2} + 2 \\, {\\left(11 \\, \\pi_{a}^{2} - 2 \\, \\pi_{a} \\pi_{c} + 11 \\, \\pi_{c}^{2} + 3\\right)} \\pi_{g}^{2} + 2 \\, {\\left(11 \\, \\pi_{a}^{2} - 2 \\, \\pi_{a} \\pi_{c} + 11 \\, \\pi_{c}^{2} - 2 \\, {\\left(\\pi_{a} + \\pi_{c}\\right)} \\pi_{g} + 11 \\, \\pi_{g}^{2} + 3\\right)} \\pi_{t}^{2} + 6 \\, \\pi_{a}^{2} - 4 \\, {\\left(3 \\, \\pi_{a}^{3} + \\pi_{a}\\right)} \\pi_{c} - 4 \\, {\\left(3 \\, \\pi_{a}^{3} + \\pi_{a} \\pi_{c}^{2} + 3 \\, \\pi_{c}^{3} + {\\left(\\pi_{a}^{2} + 1\\right)} \\pi_{c} + \\pi_{a}\\right)} \\pi_{g} - 4 \\, {\\left(3 \\, \\pi_{a}^{3} + \\pi_{a} \\pi_{c}^{2} + 3 \\, \\pi_{c}^{3} + {\\left(\\pi_{a} + \\pi_{c}\\right)} \\pi_{g}^{2} + 3 \\, \\pi_{g}^{3} + {\\left(\\pi_{a}^{2} + 1\\right)} \\pi_{c} + {\\left(\\pi_{a}^{2} - 6 \\, \\pi_{a} \\pi_{c} + \\pi_{c}^{2} + 1\\right)} \\pi_{g} + \\pi_{a}\\right)} \\pi_{t} + 16 \\, p - 15}\\right)\\)</html>"
      ],
      "text/latex": [
       "$\\displaystyle \\log\\left(\\frac{9 \\, \\pi_{a}^{4} - 12 \\, \\pi_{a} \\pi_{c}^{3} + 9 \\, \\pi_{c}^{4} - 12 \\, {\\left(\\pi_{a} + \\pi_{c}\\right)} \\pi_{g}^{3} + 9 \\, \\pi_{g}^{4} - 12 \\, {\\left(\\pi_{a} + \\pi_{c} + \\pi_{g}\\right)} \\pi_{t}^{3} + 9 \\, \\pi_{t}^{4} + 2 \\, {\\left(11 \\, \\pi_{a}^{2} - 3\\right)} \\pi_{c}^{2} + 2 \\, {\\left(11 \\, \\pi_{a}^{2} - 2 \\, \\pi_{a} \\pi_{c} + 11 \\, \\pi_{c}^{2} - 3\\right)} \\pi_{g}^{2} + 2 \\, {\\left(11 \\, \\pi_{a}^{2} - 2 \\, \\pi_{a} \\pi_{c} + 11 \\, \\pi_{c}^{2} - 2 \\, {\\left(\\pi_{a} + \\pi_{c}\\right)} \\pi_{g} + 11 \\, \\pi_{g}^{2} - 3\\right)} \\pi_{t}^{2} - 6 \\, \\pi_{a}^{2} - 4 \\, {\\left(3 \\, \\pi_{a}^{3} - \\pi_{a}\\right)} \\pi_{c} - 4 \\, {\\left(3 \\, \\pi_{a}^{3} + \\pi_{a} \\pi_{c}^{2} + 3 \\, \\pi_{c}^{3} + {\\left(\\pi_{a}^{2} - 1\\right)} \\pi_{c} - \\pi_{a}\\right)} \\pi_{g} - 4 \\, {\\left(3 \\, \\pi_{a}^{3} + \\pi_{a} \\pi_{c}^{2} + 3 \\, \\pi_{c}^{3} + {\\left(\\pi_{a} + \\pi_{c}\\right)} \\pi_{g}^{2} + 3 \\, \\pi_{g}^{3} + {\\left(\\pi_{a}^{2} - 1\\right)} \\pi_{c} + {\\left(\\pi_{a}^{2} - 6 \\, \\pi_{a} \\pi_{c} + \\pi_{c}^{2} - 1\\right)} \\pi_{g} - \\pi_{a}\\right)} \\pi_{t} + 4 \\, {\\left(3 \\, \\pi_{a}^{2} - 2 \\, \\pi_{a} \\pi_{c} + 3 \\, \\pi_{c}^{2} - 2 \\, {\\left(\\pi_{a} + \\pi_{c}\\right)} \\pi_{g} + 3 \\, \\pi_{g}^{2} - 2 \\, {\\left(\\pi_{a} + \\pi_{c} + \\pi_{g}\\right)} \\pi_{t} + 3 \\, \\pi_{t}^{2} - 3\\right)} \\sqrt{-p + 1} - 3}{9 \\, \\pi_{a}^{4} - 12 \\, \\pi_{a} \\pi_{c}^{3} + 9 \\, \\pi_{c}^{4} - 12 \\, {\\left(\\pi_{a} + \\pi_{c}\\right)} \\pi_{g}^{3} + 9 \\, \\pi_{g}^{4} - 12 \\, {\\left(\\pi_{a} + \\pi_{c} + \\pi_{g}\\right)} \\pi_{t}^{3} + 9 \\, \\pi_{t}^{4} + 2 \\, {\\left(11 \\, \\pi_{a}^{2} + 3\\right)} \\pi_{c}^{2} + 2 \\, {\\left(11 \\, \\pi_{a}^{2} - 2 \\, \\pi_{a} \\pi_{c} + 11 \\, \\pi_{c}^{2} + 3\\right)} \\pi_{g}^{2} + 2 \\, {\\left(11 \\, \\pi_{a}^{2} - 2 \\, \\pi_{a} \\pi_{c} + 11 \\, \\pi_{c}^{2} - 2 \\, {\\left(\\pi_{a} + \\pi_{c}\\right)} \\pi_{g} + 11 \\, \\pi_{g}^{2} + 3\\right)} \\pi_{t}^{2} + 6 \\, \\pi_{a}^{2} - 4 \\, {\\left(3 \\, \\pi_{a}^{3} + \\pi_{a}\\right)} \\pi_{c} - 4 \\, {\\left(3 \\, \\pi_{a}^{3} + \\pi_{a} \\pi_{c}^{2} + 3 \\, \\pi_{c}^{3} + {\\left(\\pi_{a}^{2} + 1\\right)} \\pi_{c} + \\pi_{a}\\right)} \\pi_{g} - 4 \\, {\\left(3 \\, \\pi_{a}^{3} + \\pi_{a} \\pi_{c}^{2} + 3 \\, \\pi_{c}^{3} + {\\left(\\pi_{a} + \\pi_{c}\\right)} \\pi_{g}^{2} + 3 \\, \\pi_{g}^{3} + {\\left(\\pi_{a}^{2} + 1\\right)} \\pi_{c} + {\\left(\\pi_{a}^{2} - 6 \\, \\pi_{a} \\pi_{c} + \\pi_{c}^{2} + 1\\right)} \\pi_{g} + \\pi_{a}\\right)} \\pi_{t} + 16 \\, p - 15}\\right)$"
      ],
      "text/plain": [
       "log((9*pi_a^4 - 12*pi_a*pi_c^3 + 9*pi_c^4 - 12*(pi_a + pi_c)*pi_g^3 + 9*pi_g^4 - 12*(pi_a + pi_c + pi_g)*pi_t^3 + 9*pi_t^4 + 2*(11*pi_a^2 - 3)*pi_c^2 + 2*(11*pi_a^2 - 2*pi_a*pi_c + 11*pi_c^2 - 3)*pi_g^2 + 2*(11*pi_a^2 - 2*pi_a*pi_c + 11*pi_c^2 - 2*(pi_a + pi_c)*pi_g + 11*pi_g^2 - 3)*pi_t^2 - 6*pi_a^2 - 4*(3*pi_a^3 - pi_a)*pi_c - 4*(3*pi_a^3 + pi_a*pi_c^2 + 3*pi_c^3 + (pi_a^2 - 1)*pi_c - pi_a)*pi_g - 4*(3*pi_a^3 + pi_a*pi_c^2 + 3*pi_c^3 + (pi_a + pi_c)*pi_g^2 + 3*pi_g^3 + (pi_a^2 - 1)*pi_c + (pi_a^2 - 6*pi_a*pi_c + pi_c^2 - 1)*pi_g - pi_a)*pi_t + 4*(3*pi_a^2 - 2*pi_a*pi_c + 3*pi_c^2 - 2*(pi_a + pi_c)*pi_g + 3*pi_g^2 - 2*(pi_a + pi_c + pi_g)*pi_t + 3*pi_t^2 - 3)*sqrt(-p + 1) - 3)/(9*pi_a^4 - 12*pi_a*pi_c^3 + 9*pi_c^4 - 12*(pi_a + pi_c)*pi_g^3 + 9*pi_g^4 - 12*(pi_a + pi_c + pi_g)*pi_t^3 + 9*pi_t^4 + 2*(11*pi_a^2 + 3)*pi_c^2 + 2*(11*pi_a^2 - 2*pi_a*pi_c + 11*pi_c^2 + 3)*pi_g^2 + 2*(11*pi_a^2 - 2*pi_a*pi_c + 11*pi_c^2 - 2*(pi_a + pi_c)*pi_g + 11*pi_g^2 + 3)*pi_t^2 + 6*pi_a^2 - 4*(3*pi_a^3 + pi_a)*pi_c - 4*(3*pi_a^3 + pi_a*pi_c^2 + 3*pi_c^3 + (pi_a^2 + 1)*pi_c + pi_a)*pi_g - 4*(3*pi_a^3 + pi_a*pi_c^2 + 3*pi_c^3 + (pi_a + pi_c)*pi_g^2 + 3*pi_g^3 + (pi_a^2 + 1)*pi_c + (pi_a^2 - 6*pi_a*pi_c + pi_c^2 + 1)*pi_g + pi_a)*pi_t + 16*p - 15))"
      ]
     },
     "metadata": {},
     "output_type": "display_data"
    }
   ],
   "source": [
    "nu_hat_f16t = (\n",
    "    temp(tau_1=pi_c-pi_a, tau_2 = pi_g-pi_c, tau_3=pi_t-pi_g).expand()\n",
    ").simplify_full()\n",
    "pretty_print( nu_hat_f16t )"
   ]
  },
  {
   "cell_type": "code",
   "execution_count": 49,
   "id": "ef946ff0-9a19-473c-82c6-959e6fa135a3",
   "metadata": {},
   "outputs": [
    {
     "data": {
      "text/html": [
       "<html>\\(\\displaystyle 9 \\, \\pi_{a}^{4} - 12 \\, \\pi_{a}^{3} \\pi_{c} + 22 \\, \\pi_{a}^{2} \\pi_{c}^{2} - 12 \\, \\pi_{a} \\pi_{c}^{3} + 9 \\, \\pi_{c}^{4} - 12 \\, \\pi_{a}^{3} \\pi_{g} - 4 \\, \\pi_{a}^{2} \\pi_{c} \\pi_{g} - 4 \\, \\pi_{a} \\pi_{c}^{2} \\pi_{g} - 12 \\, \\pi_{c}^{3} \\pi_{g} + 22 \\, \\pi_{a}^{2} \\pi_{g}^{2} - 4 \\, \\pi_{a} \\pi_{c} \\pi_{g}^{2} + 22 \\, \\pi_{c}^{2} \\pi_{g}^{2} - 12 \\, \\pi_{a} \\pi_{g}^{3} - 12 \\, \\pi_{c} \\pi_{g}^{3} + 9 \\, \\pi_{g}^{4} - 12 \\, \\pi_{a}^{3} \\pi_{t} - 4 \\, \\pi_{a}^{2} \\pi_{c} \\pi_{t} - 4 \\, \\pi_{a} \\pi_{c}^{2} \\pi_{t} - 12 \\, \\pi_{c}^{3} \\pi_{t} - 4 \\, \\pi_{a}^{2} \\pi_{g} \\pi_{t} + 24 \\, \\pi_{a} \\pi_{c} \\pi_{g} \\pi_{t} - 4 \\, \\pi_{c}^{2} \\pi_{g} \\pi_{t} - 4 \\, \\pi_{a} \\pi_{g}^{2} \\pi_{t} - 4 \\, \\pi_{c} \\pi_{g}^{2} \\pi_{t} - 12 \\, \\pi_{g}^{3} \\pi_{t} + 22 \\, \\pi_{a}^{2} \\pi_{t}^{2} - 4 \\, \\pi_{a} \\pi_{c} \\pi_{t}^{2} + 22 \\, \\pi_{c}^{2} \\pi_{t}^{2} - 4 \\, \\pi_{a} \\pi_{g} \\pi_{t}^{2} - 4 \\, \\pi_{c} \\pi_{g} \\pi_{t}^{2} + 22 \\, \\pi_{g}^{2} \\pi_{t}^{2} - 12 \\, \\pi_{a} \\pi_{t}^{3} - 12 \\, \\pi_{c} \\pi_{t}^{3} - 12 \\, \\pi_{g} \\pi_{t}^{3} + 9 \\, \\pi_{t}^{4} + 12 \\, \\sqrt{-p + 1} \\pi_{a}^{2} - 8 \\, \\sqrt{-p + 1} \\pi_{a} \\pi_{c} + 12 \\, \\sqrt{-p + 1} \\pi_{c}^{2} - 8 \\, \\sqrt{-p + 1} \\pi_{a} \\pi_{g} - 8 \\, \\sqrt{-p + 1} \\pi_{c} \\pi_{g} + 12 \\, \\sqrt{-p + 1} \\pi_{g}^{2} - 8 \\, \\sqrt{-p + 1} \\pi_{a} \\pi_{t} - 8 \\, \\sqrt{-p + 1} \\pi_{c} \\pi_{t} - 8 \\, \\sqrt{-p + 1} \\pi_{g} \\pi_{t} + 12 \\, \\sqrt{-p + 1} \\pi_{t}^{2} - 6 \\, \\pi_{a}^{2} + 4 \\, \\pi_{a} \\pi_{c} - 6 \\, \\pi_{c}^{2} + 4 \\, \\pi_{a} \\pi_{g} + 4 \\, \\pi_{c} \\pi_{g} - 6 \\, \\pi_{g}^{2} + 4 \\, \\pi_{a} \\pi_{t} + 4 \\, \\pi_{c} \\pi_{t} + 4 \\, \\pi_{g} \\pi_{t} - 6 \\, \\pi_{t}^{2} - 12 \\, \\sqrt{-p + 1} - 3\\)</html>"
      ],
      "text/latex": [
       "$\\displaystyle 9 \\, \\pi_{a}^{4} - 12 \\, \\pi_{a}^{3} \\pi_{c} + 22 \\, \\pi_{a}^{2} \\pi_{c}^{2} - 12 \\, \\pi_{a} \\pi_{c}^{3} + 9 \\, \\pi_{c}^{4} - 12 \\, \\pi_{a}^{3} \\pi_{g} - 4 \\, \\pi_{a}^{2} \\pi_{c} \\pi_{g} - 4 \\, \\pi_{a} \\pi_{c}^{2} \\pi_{g} - 12 \\, \\pi_{c}^{3} \\pi_{g} + 22 \\, \\pi_{a}^{2} \\pi_{g}^{2} - 4 \\, \\pi_{a} \\pi_{c} \\pi_{g}^{2} + 22 \\, \\pi_{c}^{2} \\pi_{g}^{2} - 12 \\, \\pi_{a} \\pi_{g}^{3} - 12 \\, \\pi_{c} \\pi_{g}^{3} + 9 \\, \\pi_{g}^{4} - 12 \\, \\pi_{a}^{3} \\pi_{t} - 4 \\, \\pi_{a}^{2} \\pi_{c} \\pi_{t} - 4 \\, \\pi_{a} \\pi_{c}^{2} \\pi_{t} - 12 \\, \\pi_{c}^{3} \\pi_{t} - 4 \\, \\pi_{a}^{2} \\pi_{g} \\pi_{t} + 24 \\, \\pi_{a} \\pi_{c} \\pi_{g} \\pi_{t} - 4 \\, \\pi_{c}^{2} \\pi_{g} \\pi_{t} - 4 \\, \\pi_{a} \\pi_{g}^{2} \\pi_{t} - 4 \\, \\pi_{c} \\pi_{g}^{2} \\pi_{t} - 12 \\, \\pi_{g}^{3} \\pi_{t} + 22 \\, \\pi_{a}^{2} \\pi_{t}^{2} - 4 \\, \\pi_{a} \\pi_{c} \\pi_{t}^{2} + 22 \\, \\pi_{c}^{2} \\pi_{t}^{2} - 4 \\, \\pi_{a} \\pi_{g} \\pi_{t}^{2} - 4 \\, \\pi_{c} \\pi_{g} \\pi_{t}^{2} + 22 \\, \\pi_{g}^{2} \\pi_{t}^{2} - 12 \\, \\pi_{a} \\pi_{t}^{3} - 12 \\, \\pi_{c} \\pi_{t}^{3} - 12 \\, \\pi_{g} \\pi_{t}^{3} + 9 \\, \\pi_{t}^{4} + 12 \\, \\sqrt{-p + 1} \\pi_{a}^{2} - 8 \\, \\sqrt{-p + 1} \\pi_{a} \\pi_{c} + 12 \\, \\sqrt{-p + 1} \\pi_{c}^{2} - 8 \\, \\sqrt{-p + 1} \\pi_{a} \\pi_{g} - 8 \\, \\sqrt{-p + 1} \\pi_{c} \\pi_{g} + 12 \\, \\sqrt{-p + 1} \\pi_{g}^{2} - 8 \\, \\sqrt{-p + 1} \\pi_{a} \\pi_{t} - 8 \\, \\sqrt{-p + 1} \\pi_{c} \\pi_{t} - 8 \\, \\sqrt{-p + 1} \\pi_{g} \\pi_{t} + 12 \\, \\sqrt{-p + 1} \\pi_{t}^{2} - 6 \\, \\pi_{a}^{2} + 4 \\, \\pi_{a} \\pi_{c} - 6 \\, \\pi_{c}^{2} + 4 \\, \\pi_{a} \\pi_{g} + 4 \\, \\pi_{c} \\pi_{g} - 6 \\, \\pi_{g}^{2} + 4 \\, \\pi_{a} \\pi_{t} + 4 \\, \\pi_{c} \\pi_{t} + 4 \\, \\pi_{g} \\pi_{t} - 6 \\, \\pi_{t}^{2} - 12 \\, \\sqrt{-p + 1} - 3$"
      ],
      "text/plain": [
       "9*pi_a^4 - 12*pi_a^3*pi_c + 22*pi_a^2*pi_c^2 - 12*pi_a*pi_c^3 + 9*pi_c^4 - 12*pi_a^3*pi_g - 4*pi_a^2*pi_c*pi_g - 4*pi_a*pi_c^2*pi_g - 12*pi_c^3*pi_g + 22*pi_a^2*pi_g^2 - 4*pi_a*pi_c*pi_g^2 + 22*pi_c^2*pi_g^2 - 12*pi_a*pi_g^3 - 12*pi_c*pi_g^3 + 9*pi_g^4 - 12*pi_a^3*pi_t - 4*pi_a^2*pi_c*pi_t - 4*pi_a*pi_c^2*pi_t - 12*pi_c^3*pi_t - 4*pi_a^2*pi_g*pi_t + 24*pi_a*pi_c*pi_g*pi_t - 4*pi_c^2*pi_g*pi_t - 4*pi_a*pi_g^2*pi_t - 4*pi_c*pi_g^2*pi_t - 12*pi_g^3*pi_t + 22*pi_a^2*pi_t^2 - 4*pi_a*pi_c*pi_t^2 + 22*pi_c^2*pi_t^2 - 4*pi_a*pi_g*pi_t^2 - 4*pi_c*pi_g*pi_t^2 + 22*pi_g^2*pi_t^2 - 12*pi_a*pi_t^3 - 12*pi_c*pi_t^3 - 12*pi_g*pi_t^3 + 9*pi_t^4 + 12*sqrt(-p + 1)*pi_a^2 - 8*sqrt(-p + 1)*pi_a*pi_c + 12*sqrt(-p + 1)*pi_c^2 - 8*sqrt(-p + 1)*pi_a*pi_g - 8*sqrt(-p + 1)*pi_c*pi_g + 12*sqrt(-p + 1)*pi_g^2 - 8*sqrt(-p + 1)*pi_a*pi_t - 8*sqrt(-p + 1)*pi_c*pi_t - 8*sqrt(-p + 1)*pi_g*pi_t + 12*sqrt(-p + 1)*pi_t^2 - 6*pi_a^2 + 4*pi_a*pi_c - 6*pi_c^2 + 4*pi_a*pi_g + 4*pi_c*pi_g - 6*pi_g^2 + 4*pi_a*pi_t + 4*pi_c*pi_t + 4*pi_g*pi_t - 6*pi_t^2 - 12*sqrt(-p + 1) - 3"
      ]
     },
     "metadata": {},
     "output_type": "display_data"
    }
   ],
   "source": [
    "pretty_print(exp(nu_hat_f16t).numerator())"
   ]
  },
  {
   "cell_type": "code",
   "execution_count": 50,
   "id": "9abf186b-16d5-4c4f-90c7-59003b664888",
   "metadata": {},
   "outputs": [
    {
     "data": {
      "text/html": [
       "<html>\\(\\displaystyle 4 \\, \\pi_{a} \\pi_{c} + 4 \\, \\pi_{a} \\pi_{g} + 4 \\, \\pi_{c} \\pi_{g} + 4 \\, \\pi_{a} \\pi_{t} + 4 \\, \\pi_{c} \\pi_{t} + 4 \\, \\pi_{g} \\pi_{t}\\)</html>"
      ],
      "text/latex": [
       "$\\displaystyle 4 \\, \\pi_{a} \\pi_{c} + 4 \\, \\pi_{a} \\pi_{g} + 4 \\, \\pi_{c} \\pi_{g} + 4 \\, \\pi_{a} \\pi_{t} + 4 \\, \\pi_{c} \\pi_{t} + 4 \\, \\pi_{g} \\pi_{t}$"
      ],
      "text/plain": [
       "4*pi_a*pi_c + 4*pi_a*pi_g + 4*pi_c*pi_g + 4*pi_a*pi_t + 4*pi_c*pi_t + 4*pi_g*pi_t"
      ]
     },
     "metadata": {},
     "output_type": "display_data"
    }
   ],
   "source": [
    "pretty_print(1/beta_f16)"
   ]
  },
  {
   "cell_type": "code",
   "execution_count": 51,
   "id": "497e2e44-faaa-4387-a992-867f5ea25bf5",
   "metadata": {},
   "outputs": [
    {
     "data": {
      "text/html": [
       "<html>\\(\\displaystyle -\\frac{8}{\\beta} + \\frac{4}{\\beta^{2}}\\)</html>"
      ],
      "text/latex": [
       "$\\displaystyle -\\frac{8}{\\beta} + \\frac{4}{\\beta^{2}}$"
      ],
      "text/plain": [
       "-8/beta + 4/beta^2"
      ]
     },
     "metadata": {},
     "output_type": "display_data"
    },
    {
     "data": {
      "text/html": [
       "<html>\\(\\displaystyle \\frac{8 \\, \\sqrt{-p + 1}}{\\beta}\\)</html>"
      ],
      "text/latex": [
       "$\\displaystyle \\frac{8 \\, \\sqrt{-p + 1}}{\\beta}$"
      ],
      "text/plain": [
       "8*sqrt(-p + 1)/beta"
      ]
     },
     "metadata": {},
     "output_type": "display_data"
    }
   ],
   "source": [
    "fancy_zero = (\n",
    "    9*(pi_a + pi_c + pi_g + pi_t - 1)^4\n",
    "    + 36*(pi_a + pi_c + pi_g + pi_t - 1)^3\n",
    "    + 48*(pi_a + pi_c + pi_g + pi_t - 1)^2\n",
    "    + 24*(pi_a + pi_c + pi_g + pi_t - 1)\n",
    "    - 48 * pi_a^2 / beta_f16 / 4 + 48 * pi_a^2 / beta /4\n",
    "    - 48 * pi_c^2 / beta_f16 / 4 + 48 * pi_c^2 / beta /4\n",
    "    - 48 * pi_g^2 / beta_f16 / 4 + 48 * pi_g^2 / beta /4\n",
    "    - 48 * pi_t^2 / beta_f16 / 4 + 48 * pi_t^2 / beta /4\n",
    "    - 32 * (1 / beta_f16 / 4)^2 + 32 * (1 / beta / 4)^2\n",
    "    + 16 * 1 /beta_f16 / 4 - 16 * 1 /beta / 4\n",
    "    - 12 * (pi_a + pi_c + pi_g + pi_t - 1)^2 / beta\n",
    "    + 24 * (1 / beta_f16 / 4) / beta - 24 * (1 / beta / 4) / beta \n",
    "    - 24 * (pi_a + pi_c + pi_g + pi_t - 1) / beta\n",
    "    + 12*sqrt(1-p)*(pi_a + pi_c + pi_g + pi_t - 1)^2\n",
    "    + 24*sqrt(1-p)*(pi_a + pi_c + pi_g + pi_t - 1)\n",
    "    - 32 * sqrt(1-p) / beta_f16 /4 - + 32 * sqrt(1-p) / beta / 4 \n",
    ")\n",
    "\n",
    "temp = (exp(nu_hat_f16t).numerator() - fancy_zero).expand().simplify_full().expand()\n",
    "temp_nop_part = temp(p=1) \n",
    "temp_p_part = (temp - temp(p=1)).simplify()\n",
    "pretty_print( temp_nop_part )\n",
    "pretty_print( temp_p_part )"
   ]
  },
  {
   "cell_type": "code",
   "execution_count": 52,
   "id": "dc5b094b-8a9d-48b6-82c0-bce59914ff8f",
   "metadata": {},
   "outputs": [
    {
     "data": {
      "text/html": [
       "<html>\\(\\displaystyle \\frac{8 \\, \\sqrt{-p + 1}}{\\beta} - \\frac{8}{\\beta} + \\frac{4}{\\beta^{2}}\\)</html>"
      ],
      "text/latex": [
       "$\\displaystyle \\frac{8 \\, \\sqrt{-p + 1}}{\\beta} - \\frac{8}{\\beta} + \\frac{4}{\\beta^{2}}$"
      ],
      "text/plain": [
       "8*sqrt(-p + 1)/beta - 8/beta + 4/beta^2"
      ]
     },
     "metadata": {},
     "output_type": "display_data"
    }
   ],
   "source": [
    "new_numerator = temp\n",
    "pretty_print(new_numerator)"
   ]
  },
  {
   "cell_type": "code",
   "execution_count": 53,
   "id": "aafd623e-53ba-4bd9-b471-75a48ecc4745",
   "metadata": {},
   "outputs": [
    {
     "data": {
      "text/html": [
       "<html>\\(\\displaystyle 9 \\, \\pi_{a}^{4} - 12 \\, \\pi_{a}^{3} \\pi_{c} + 22 \\, \\pi_{a}^{2} \\pi_{c}^{2} - 12 \\, \\pi_{a} \\pi_{c}^{3} + 9 \\, \\pi_{c}^{4} - 12 \\, \\pi_{a}^{3} \\pi_{g} - 4 \\, \\pi_{a}^{2} \\pi_{c} \\pi_{g} - 4 \\, \\pi_{a} \\pi_{c}^{2} \\pi_{g} - 12 \\, \\pi_{c}^{3} \\pi_{g} + 22 \\, \\pi_{a}^{2} \\pi_{g}^{2} - 4 \\, \\pi_{a} \\pi_{c} \\pi_{g}^{2} + 22 \\, \\pi_{c}^{2} \\pi_{g}^{2} - 12 \\, \\pi_{a} \\pi_{g}^{3} - 12 \\, \\pi_{c} \\pi_{g}^{3} + 9 \\, \\pi_{g}^{4} - 12 \\, \\pi_{a}^{3} \\pi_{t} - 4 \\, \\pi_{a}^{2} \\pi_{c} \\pi_{t} - 4 \\, \\pi_{a} \\pi_{c}^{2} \\pi_{t} - 12 \\, \\pi_{c}^{3} \\pi_{t} - 4 \\, \\pi_{a}^{2} \\pi_{g} \\pi_{t} + 24 \\, \\pi_{a} \\pi_{c} \\pi_{g} \\pi_{t} - 4 \\, \\pi_{c}^{2} \\pi_{g} \\pi_{t} - 4 \\, \\pi_{a} \\pi_{g}^{2} \\pi_{t} - 4 \\, \\pi_{c} \\pi_{g}^{2} \\pi_{t} - 12 \\, \\pi_{g}^{3} \\pi_{t} + 22 \\, \\pi_{a}^{2} \\pi_{t}^{2} - 4 \\, \\pi_{a} \\pi_{c} \\pi_{t}^{2} + 22 \\, \\pi_{c}^{2} \\pi_{t}^{2} - 4 \\, \\pi_{a} \\pi_{g} \\pi_{t}^{2} - 4 \\, \\pi_{c} \\pi_{g} \\pi_{t}^{2} + 22 \\, \\pi_{g}^{2} \\pi_{t}^{2} - 12 \\, \\pi_{a} \\pi_{t}^{3} - 12 \\, \\pi_{c} \\pi_{t}^{3} - 12 \\, \\pi_{g} \\pi_{t}^{3} + 9 \\, \\pi_{t}^{4} + 6 \\, \\pi_{a}^{2} - 4 \\, \\pi_{a} \\pi_{c} + 6 \\, \\pi_{c}^{2} - 4 \\, \\pi_{a} \\pi_{g} - 4 \\, \\pi_{c} \\pi_{g} + 6 \\, \\pi_{g}^{2} - 4 \\, \\pi_{a} \\pi_{t} - 4 \\, \\pi_{c} \\pi_{t} - 4 \\, \\pi_{g} \\pi_{t} + 6 \\, \\pi_{t}^{2} + 16 \\, p - 15\\)</html>"
      ],
      "text/latex": [
       "$\\displaystyle 9 \\, \\pi_{a}^{4} - 12 \\, \\pi_{a}^{3} \\pi_{c} + 22 \\, \\pi_{a}^{2} \\pi_{c}^{2} - 12 \\, \\pi_{a} \\pi_{c}^{3} + 9 \\, \\pi_{c}^{4} - 12 \\, \\pi_{a}^{3} \\pi_{g} - 4 \\, \\pi_{a}^{2} \\pi_{c} \\pi_{g} - 4 \\, \\pi_{a} \\pi_{c}^{2} \\pi_{g} - 12 \\, \\pi_{c}^{3} \\pi_{g} + 22 \\, \\pi_{a}^{2} \\pi_{g}^{2} - 4 \\, \\pi_{a} \\pi_{c} \\pi_{g}^{2} + 22 \\, \\pi_{c}^{2} \\pi_{g}^{2} - 12 \\, \\pi_{a} \\pi_{g}^{3} - 12 \\, \\pi_{c} \\pi_{g}^{3} + 9 \\, \\pi_{g}^{4} - 12 \\, \\pi_{a}^{3} \\pi_{t} - 4 \\, \\pi_{a}^{2} \\pi_{c} \\pi_{t} - 4 \\, \\pi_{a} \\pi_{c}^{2} \\pi_{t} - 12 \\, \\pi_{c}^{3} \\pi_{t} - 4 \\, \\pi_{a}^{2} \\pi_{g} \\pi_{t} + 24 \\, \\pi_{a} \\pi_{c} \\pi_{g} \\pi_{t} - 4 \\, \\pi_{c}^{2} \\pi_{g} \\pi_{t} - 4 \\, \\pi_{a} \\pi_{g}^{2} \\pi_{t} - 4 \\, \\pi_{c} \\pi_{g}^{2} \\pi_{t} - 12 \\, \\pi_{g}^{3} \\pi_{t} + 22 \\, \\pi_{a}^{2} \\pi_{t}^{2} - 4 \\, \\pi_{a} \\pi_{c} \\pi_{t}^{2} + 22 \\, \\pi_{c}^{2} \\pi_{t}^{2} - 4 \\, \\pi_{a} \\pi_{g} \\pi_{t}^{2} - 4 \\, \\pi_{c} \\pi_{g} \\pi_{t}^{2} + 22 \\, \\pi_{g}^{2} \\pi_{t}^{2} - 12 \\, \\pi_{a} \\pi_{t}^{3} - 12 \\, \\pi_{c} \\pi_{t}^{3} - 12 \\, \\pi_{g} \\pi_{t}^{3} + 9 \\, \\pi_{t}^{4} + 6 \\, \\pi_{a}^{2} - 4 \\, \\pi_{a} \\pi_{c} + 6 \\, \\pi_{c}^{2} - 4 \\, \\pi_{a} \\pi_{g} - 4 \\, \\pi_{c} \\pi_{g} + 6 \\, \\pi_{g}^{2} - 4 \\, \\pi_{a} \\pi_{t} - 4 \\, \\pi_{c} \\pi_{t} - 4 \\, \\pi_{g} \\pi_{t} + 6 \\, \\pi_{t}^{2} + 16 \\, p - 15$"
      ],
      "text/plain": [
       "9*pi_a^4 - 12*pi_a^3*pi_c + 22*pi_a^2*pi_c^2 - 12*pi_a*pi_c^3 + 9*pi_c^4 - 12*pi_a^3*pi_g - 4*pi_a^2*pi_c*pi_g - 4*pi_a*pi_c^2*pi_g - 12*pi_c^3*pi_g + 22*pi_a^2*pi_g^2 - 4*pi_a*pi_c*pi_g^2 + 22*pi_c^2*pi_g^2 - 12*pi_a*pi_g^3 - 12*pi_c*pi_g^3 + 9*pi_g^4 - 12*pi_a^3*pi_t - 4*pi_a^2*pi_c*pi_t - 4*pi_a*pi_c^2*pi_t - 12*pi_c^3*pi_t - 4*pi_a^2*pi_g*pi_t + 24*pi_a*pi_c*pi_g*pi_t - 4*pi_c^2*pi_g*pi_t - 4*pi_a*pi_g^2*pi_t - 4*pi_c*pi_g^2*pi_t - 12*pi_g^3*pi_t + 22*pi_a^2*pi_t^2 - 4*pi_a*pi_c*pi_t^2 + 22*pi_c^2*pi_t^2 - 4*pi_a*pi_g*pi_t^2 - 4*pi_c*pi_g*pi_t^2 + 22*pi_g^2*pi_t^2 - 12*pi_a*pi_t^3 - 12*pi_c*pi_t^3 - 12*pi_g*pi_t^3 + 9*pi_t^4 + 6*pi_a^2 - 4*pi_a*pi_c + 6*pi_c^2 - 4*pi_a*pi_g - 4*pi_c*pi_g + 6*pi_g^2 - 4*pi_a*pi_t - 4*pi_c*pi_t - 4*pi_g*pi_t + 6*pi_t^2 + 16*p - 15"
      ]
     },
     "metadata": {},
     "output_type": "display_data"
    }
   ],
   "source": [
    "pretty_print(exp(nu_hat_f16t).denominator().expand())"
   ]
  },
  {
   "cell_type": "code",
   "execution_count": 54,
   "id": "70e8cd0a-05e1-4e27-a951-09d7365b14d7",
   "metadata": {},
   "outputs": [
    {
     "data": {
      "text/html": [
       "<html>\\(\\displaystyle -\\frac{16}{\\beta} + \\frac{4}{\\beta^{2}} + 16\\)</html>"
      ],
      "text/latex": [
       "$\\displaystyle -\\frac{16}{\\beta} + \\frac{4}{\\beta^{2}} + 16$"
      ],
      "text/plain": [
       "-16/beta + 4/beta^2 + 16"
      ]
     },
     "metadata": {},
     "output_type": "display_data"
    },
    {
     "data": {
      "text/html": [
       "<html>\\(\\displaystyle 16 \\, p - 16\\)</html>"
      ],
      "text/latex": [
       "$\\displaystyle 16 \\, p - 16$"
      ],
      "text/plain": [
       "16*p - 16"
      ]
     },
     "metadata": {},
     "output_type": "display_data"
    }
   ],
   "source": [
    "fancy_zero = (\n",
    "    9*(pi_a + pi_c + pi_g + pi_t - 1)^4\n",
    "    + 36*(pi_a + pi_c + pi_g + pi_t - 1)^3\n",
    "    + 60*(pi_a + pi_c + pi_g + pi_t - 1)^2\n",
    "    + 48*(pi_a + pi_c + pi_g + pi_t - 1)\n",
    "    - 48 * pi_a^2 / beta_f16 / 4 + 48 * pi_a^2 / beta /4\n",
    "    - 48 * pi_c^2 / beta_f16 / 4 + 48 * pi_c^2 / beta /4\n",
    "    - 48 * pi_g^2 / beta_f16 / 4 + 48 * pi_g^2 / beta /4\n",
    "    - 48 * pi_t^2 / beta_f16 / 4 + 48 * pi_t^2 / beta /4\n",
    "    - 32 * (1 / beta_f16 / 4)^2 + 32 * (1 / beta / 4)^2\n",
    "    - 16 * 1 /beta_f16 / 4 + 16 * 1 /beta / 4\n",
    "    - 12 * (pi_a + pi_c + pi_g + pi_t - 1)^2 / beta\n",
    "    + 24 * (1 / beta_f16 / 4) / beta - 24 * (1 / beta / 4) / beta \n",
    "    - 24 * (pi_a + pi_c + pi_g + pi_t - 1) / beta\n",
    ")\n",
    "\n",
    "temp = (exp(nu_hat_f16t).denominator() - fancy_zero).expand().simplify_full().expand()\n",
    "temp_nop_part = temp(p=1) \n",
    "temp_p_part = (temp - temp(p=1)).simplify()\n",
    "pretty_print( temp_nop_part )\n",
    "pretty_print( temp_p_part )"
   ]
  },
  {
   "cell_type": "code",
   "execution_count": 55,
   "id": "9bc9e6a3-d837-4407-aa0a-a42ade397c90",
   "metadata": {},
   "outputs": [],
   "source": [
    "new_denominator = temp"
   ]
  },
  {
   "cell_type": "code",
   "execution_count": 56,
   "id": "4b2772d9-7555-4d6c-8b97-650af2eebd96",
   "metadata": {},
   "outputs": [
    {
     "data": {
      "text/html": [
       "<html>\\(\\displaystyle \\log\\left(\\frac{2 \\, \\beta \\sqrt{-p + 1} - 2 \\, \\beta + 1}{4 \\, \\beta^{2} p - 4 \\, \\beta + 1}\\right)\\)</html>"
      ],
      "text/latex": [
       "$\\displaystyle \\log\\left(\\frac{2 \\, \\beta \\sqrt{-p + 1} - 2 \\, \\beta + 1}{4 \\, \\beta^{2} p - 4 \\, \\beta + 1}\\right)$"
      ],
      "text/plain": [
       "log((2*beta*sqrt(-p + 1) - 2*beta + 1)/(4*beta^2*p - 4*beta + 1))"
      ]
     },
     "metadata": {},
     "output_type": "display_data"
    }
   ],
   "source": [
    "nu_hat_f16t = (\n",
    "    log(\n",
    "        new_numerator / new_denominator\n",
    "    )\n",
    ").simplify_full()\n",
    "\n",
    "pretty_print(nu_hat_f16t)"
   ]
  },
  {
   "cell_type": "code",
   "execution_count": 57,
   "id": "f36aff02-e151-4cef-b6e1-795480098989",
   "metadata": {},
   "outputs": [],
   "source": [
    "nu_hat_f16 = nu_hat_f16t / beta"
   ]
  },
  {
   "cell_type": "code",
   "execution_count": 58,
   "id": "418b4a68-b073-41cb-b1de-f7b40be6ce4e",
   "metadata": {},
   "outputs": [
    {
     "data": {
      "text/html": [
       "<html>\\(\\displaystyle \\frac{\\log\\left(\\frac{2 \\, \\beta \\sqrt{-p + 1} - 2 \\, \\beta + 1}{4 \\, \\beta^{2} p - 4 \\, \\beta + 1}\\right)}{\\beta}\\)</html>"
      ],
      "text/latex": [
       "$\\displaystyle \\frac{\\log\\left(\\frac{2 \\, \\beta \\sqrt{-p + 1} - 2 \\, \\beta + 1}{4 \\, \\beta^{2} p - 4 \\, \\beta + 1}\\right)}{\\beta}$"
      ],
      "text/plain": [
       "log((2*beta*sqrt(-p + 1) - 2*beta + 1)/(4*beta^2*p - 4*beta + 1))/beta"
      ]
     },
     "metadata": {},
     "output_type": "display_data"
    }
   ],
   "source": [
    "pretty_print(nu_hat_f16)"
   ]
  },
  {
   "cell_type": "code",
   "execution_count": 59,
   "id": "2406e9c0-7258-4225-8317-87f781acdeff",
   "metadata": {},
   "outputs": [
    {
     "data": {
      "text/html": [
       "<html>\\(\\displaystyle 4 \\, {\\left(\\pi_{a} \\pi_{c} + \\pi_{a} \\pi_{g} + \\pi_{c} \\pi_{g} + \\pi_{a} \\pi_{t} + \\pi_{c} \\pi_{t} + \\pi_{g} \\pi_{t}\\right)} \\log\\left(-\\frac{2 \\, {\\left(\\frac{\\sqrt{-p + 1}}{\\pi_{a} \\pi_{c} + \\pi_{a} \\pi_{g} + \\pi_{c} \\pi_{g} + \\pi_{a} \\pi_{t} + \\pi_{c} \\pi_{t} + \\pi_{g} \\pi_{t}} - \\frac{1}{\\pi_{a} \\pi_{c} + \\pi_{a} \\pi_{g} + \\pi_{c} \\pi_{g} + \\pi_{a} \\pi_{t} + \\pi_{c} \\pi_{t} + \\pi_{g} \\pi_{t}} + 2\\right)}}{\\frac{4}{\\pi_{a} \\pi_{c} + \\pi_{a} \\pi_{g} + \\pi_{c} \\pi_{g} + \\pi_{a} \\pi_{t} + \\pi_{c} \\pi_{t} + \\pi_{g} \\pi_{t}} - \\frac{p}{{\\left(\\pi_{a} \\pi_{c} + \\pi_{a} \\pi_{g} + \\pi_{c} \\pi_{g} + \\pi_{a} \\pi_{t} + \\pi_{c} \\pi_{t} + \\pi_{g} \\pi_{t}\\right)}^{2}} - 4}\\right)\\)</html>"
      ],
      "text/latex": [
       "$\\displaystyle 4 \\, {\\left(\\pi_{a} \\pi_{c} + \\pi_{a} \\pi_{g} + \\pi_{c} \\pi_{g} + \\pi_{a} \\pi_{t} + \\pi_{c} \\pi_{t} + \\pi_{g} \\pi_{t}\\right)} \\log\\left(-\\frac{2 \\, {\\left(\\frac{\\sqrt{-p + 1}}{\\pi_{a} \\pi_{c} + \\pi_{a} \\pi_{g} + \\pi_{c} \\pi_{g} + \\pi_{a} \\pi_{t} + \\pi_{c} \\pi_{t} + \\pi_{g} \\pi_{t}} - \\frac{1}{\\pi_{a} \\pi_{c} + \\pi_{a} \\pi_{g} + \\pi_{c} \\pi_{g} + \\pi_{a} \\pi_{t} + \\pi_{c} \\pi_{t} + \\pi_{g} \\pi_{t}} + 2\\right)}}{\\frac{4}{\\pi_{a} \\pi_{c} + \\pi_{a} \\pi_{g} + \\pi_{c} \\pi_{g} + \\pi_{a} \\pi_{t} + \\pi_{c} \\pi_{t} + \\pi_{g} \\pi_{t}} - \\frac{p}{{\\left(\\pi_{a} \\pi_{c} + \\pi_{a} \\pi_{g} + \\pi_{c} \\pi_{g} + \\pi_{a} \\pi_{t} + \\pi_{c} \\pi_{t} + \\pi_{g} \\pi_{t}\\right)}^{2}} - 4}\\right)$"
      ],
      "text/plain": [
       "4*(pi_a*pi_c + pi_a*pi_g + pi_c*pi_g + pi_a*pi_t + pi_c*pi_t + pi_g*pi_t)*log(-2*(sqrt(-p + 1)/(pi_a*pi_c + pi_a*pi_g + pi_c*pi_g + pi_a*pi_t + pi_c*pi_t + pi_g*pi_t) - 1/(pi_a*pi_c + pi_a*pi_g + pi_c*pi_g + pi_a*pi_t + pi_c*pi_t + pi_g*pi_t) + 2)/(4/(pi_a*pi_c + pi_a*pi_g + pi_c*pi_g + pi_a*pi_t + pi_c*pi_t + pi_g*pi_t) - p/(pi_a*pi_c + pi_a*pi_g + pi_c*pi_g + pi_a*pi_t + pi_c*pi_t + pi_g*pi_t)^2 - 4))"
      ]
     },
     "metadata": {},
     "output_type": "display_data"
    }
   ],
   "source": [
    "pretty_print(nu_hat_f16(beta=beta_f16).simplify())"
   ]
  },
  {
   "cell_type": "code",
   "execution_count": 60,
   "id": "8c6a467f-3f4c-4091-85ac-69e7148d8508",
   "metadata": {},
   "outputs": [],
   "source": [
    "assume(p>=0)\n",
    "assume(p<=1)"
   ]
  },
  {
   "cell_type": "code",
   "execution_count": 61,
   "id": "9c97c160-caf6-4044-8b8b-e29c0152d1c5",
   "metadata": {},
   "outputs": [
    {
     "data": {
      "text/html": [
       "<html>\\(\\displaystyle 2 \\, \\beta {\\left| z \\right|} - 2 \\, \\beta + 1\\)</html>"
      ],
      "text/latex": [
       "$\\displaystyle 2 \\, \\beta {\\left| z \\right|} - 2 \\, \\beta + 1$"
      ],
      "text/plain": [
       "2*beta*abs(z) - 2*beta + 1"
      ]
     },
     "metadata": {},
     "output_type": "display_data"
    }
   ],
   "source": [
    "pretty_print(exp(nu_hat_f16t).numerator()(p=1-z^2).simplify())"
   ]
  },
  {
   "cell_type": "code",
   "execution_count": 62,
   "id": "e7527080-e52f-480a-a80c-67624eb70774",
   "metadata": {},
   "outputs": [
    {
     "data": {
      "text/html": [
       "<html>\\(\\displaystyle -4 \\, \\beta^{2} z^{2} + 4 \\, \\beta^{2} - 4 \\, \\beta + 1\\)</html>"
      ],
      "text/latex": [
       "$\\displaystyle -4 \\, \\beta^{2} z^{2} + 4 \\, \\beta^{2} - 4 \\, \\beta + 1$"
      ],
      "text/plain": [
       "-4*beta^2*z^2 + 4*beta^2 - 4*beta + 1"
      ]
     },
     "metadata": {},
     "output_type": "display_data"
    }
   ],
   "source": [
    "pretty_print(exp(nu_hat_f16t).denominator()(p=1-z^2).expand())"
   ]
  },
  {
   "cell_type": "code",
   "execution_count": 63,
   "id": "ae3e414c-fc18-4e4d-9568-59ea8e411fa6",
   "metadata": {},
   "outputs": [
    {
     "data": {
      "text/html": [
       "<html>\\(\\displaystyle -\\frac{2 \\, \\beta {\\left| z \\right|} - 2 \\, \\beta + 1}{4 \\, \\beta^{2} z^{2} - 4 \\, \\beta^{2} + 4 \\, \\beta - 1}\\)</html>"
      ],
      "text/latex": [
       "$\\displaystyle -\\frac{2 \\, \\beta {\\left| z \\right|} - 2 \\, \\beta + 1}{4 \\, \\beta^{2} z^{2} - 4 \\, \\beta^{2} + 4 \\, \\beta - 1}$"
      ],
      "text/plain": [
       "-(2*beta*abs(z) - 2*beta + 1)/(4*beta^2*z^2 - 4*beta^2 + 4*beta - 1)"
      ]
     },
     "metadata": {},
     "output_type": "display_data"
    }
   ],
   "source": [
    "pretty_print(\n",
    "    (exp(nu_hat_f16t).numerator()(p=1-z^2).simplify()/exp(nu_hat_f16t).denominator()(p=1-z^2).expand()).simplify_full()\n",
    ")"
   ]
  },
  {
   "cell_type": "code",
   "execution_count": 64,
   "id": "d5dbcdbe-19ab-4ef8-9260-2405a55cf3a5",
   "metadata": {},
   "outputs": [
    {
     "data": {
      "text/html": [
       "<html>\\(\\displaystyle \\frac{\\log\\left(\\frac{2 \\, \\beta \\sqrt{-p + 1} - 2 \\, \\beta + 1}{4 \\, \\beta^{2} p - 4 \\, \\beta + 1}\\right)}{\\beta}\\)</html>"
      ],
      "text/latex": [
       "$\\displaystyle \\frac{\\log\\left(\\frac{2 \\, \\beta \\sqrt{-p + 1} - 2 \\, \\beta + 1}{4 \\, \\beta^{2} p - 4 \\, \\beta + 1}\\right)}{\\beta}$"
      ],
      "text/plain": [
       "log((2*beta*sqrt(-p + 1) - 2*beta + 1)/(4*beta^2*p - 4*beta + 1))/beta"
      ]
     },
     "metadata": {},
     "output_type": "display_data"
    }
   ],
   "source": [
    "nu_hat_f16_star = log(\n",
    "        (exp(nu_hat_f16t).numerator()(p=1-z^2).simplify()/exp(nu_hat_f16t).denominator()(p=1-z^2).expand()).simplify_full()(z=-sqrt(1-p))\n",
    "    ).simplify_full()/beta\n",
    "pretty_print(nu_hat_f16_star)"
   ]
  },
  {
   "cell_type": "markdown",
   "id": "dc378de9-1c95-45fc-8901-c918778e4ff3",
   "metadata": {},
   "source": [
    "#### Specialize F81-16 to JC69-16 to check that we get the same result"
   ]
  },
  {
   "cell_type": "code",
   "execution_count": 65,
   "id": "581e20e8-7848-4eb7-b0d2-a1f26069d19d",
   "metadata": {},
   "outputs": [
    {
     "data": {
      "text/plain": [
       "2/3"
      ]
     },
     "execution_count": 65,
     "metadata": {},
     "output_type": "execute_result"
    }
   ],
   "source": [
    "beta_f16(pi_a=1/4,pi_c=1/4,pi_g=1/4,pi_t=1/4)"
   ]
  },
  {
   "cell_type": "code",
   "execution_count": 66,
   "id": "4ec1d568-3456-4f2d-9247-435e633bb228",
   "metadata": {},
   "outputs": [
    {
     "data": {
      "text/html": [
       "<html>\\(\\displaystyle \\frac{3}{2} \\, \\log\\left(\\frac{3 \\, {\\left(4 \\, \\sqrt{-p + 1} - 1\\right)}}{16 \\, p - 15}\\right)\\)</html>"
      ],
      "text/latex": [
       "$\\displaystyle \\frac{3}{2} \\, \\log\\left(\\frac{3 \\, {\\left(4 \\, \\sqrt{-p + 1} - 1\\right)}}{16 \\, p - 15}\\right)$"
      ],
      "text/plain": [
       "3/2*log(3*(4*sqrt(-p + 1) - 1)/(16*p - 15))"
      ]
     },
     "metadata": {},
     "output_type": "display_data"
    }
   ],
   "source": [
    "pretty_print(nu_hat_f16_star(beta=beta_f16(pi_a=1/4,pi_c=1/4,pi_g=1/4,pi_t=1/4)))"
   ]
  },
  {
   "cell_type": "code",
   "execution_count": 67,
   "id": "d4d66595-d474-4699-8da5-e0ee7d9bb56a",
   "metadata": {},
   "outputs": [
    {
     "data": {
      "text/html": [
       "<html>\\(\\displaystyle -\\frac{3}{2} \\, \\log\\left(\\frac{4}{3} \\, \\sqrt{-p + 1} - \\frac{1}{3}\\right)\\)</html>"
      ],
      "text/latex": [
       "$\\displaystyle -\\frac{3}{2} \\, \\log\\left(\\frac{4}{3} \\, \\sqrt{-p + 1} - \\frac{1}{3}\\right)$"
      ],
      "text/plain": [
       "-3/2*log(4/3*sqrt(-p + 1) - 1/3)"
      ]
     },
     "metadata": {},
     "output_type": "display_data"
    }
   ],
   "source": [
    "pretty_print(nu_hat_jc16)"
   ]
  },
  {
   "cell_type": "markdown",
   "id": "fb149fc8-46ac-4557-a998-124a00006e02",
   "metadata": {},
   "source": [
    "### Variances"
   ]
  },
  {
   "cell_type": "code",
   "execution_count": 68,
   "id": "e6ae96a8-359d-45de-97de-2e09eaf3a51e",
   "metadata": {},
   "outputs": [],
   "source": [
    "en = var('n')"
   ]
  },
  {
   "cell_type": "code",
   "execution_count": 69,
   "id": "a187d36f-6bf7-431d-8c6d-b72c2aa0c37b",
   "metadata": {},
   "outputs": [
    {
     "data": {
      "text/html": [
       "<html>\\(\\displaystyle -\\frac{{\\left(4 \\, \\beta^{2} p - 4 \\, \\beta + 1\\right)}^{2} {\\left(\\frac{4 \\, {\\left(2 \\, \\beta \\sqrt{-p + 1} - 2 \\, \\beta + 1\\right)} \\beta^{2}}{{\\left(4 \\, \\beta^{2} p - 4 \\, \\beta + 1\\right)}^{2}} + \\frac{\\beta}{{\\left(4 \\, \\beta^{2} p - 4 \\, \\beta + 1\\right)} \\sqrt{-p + 1}}\\right)}^{2} {\\left(p - 1\\right)} p}{{\\left(2 \\, \\beta \\sqrt{-p + 1} - 2 \\, \\beta + 1\\right)}^{2} \\beta^{2} n}\\)</html>"
      ],
      "text/latex": [
       "$\\displaystyle -\\frac{{\\left(4 \\, \\beta^{2} p - 4 \\, \\beta + 1\\right)}^{2} {\\left(\\frac{4 \\, {\\left(2 \\, \\beta \\sqrt{-p + 1} - 2 \\, \\beta + 1\\right)} \\beta^{2}}{{\\left(4 \\, \\beta^{2} p - 4 \\, \\beta + 1\\right)}^{2}} + \\frac{\\beta}{{\\left(4 \\, \\beta^{2} p - 4 \\, \\beta + 1\\right)} \\sqrt{-p + 1}}\\right)}^{2} {\\left(p - 1\\right)} p}{{\\left(2 \\, \\beta \\sqrt{-p + 1} - 2 \\, \\beta + 1\\right)}^{2} \\beta^{2} n}$"
      ],
      "text/plain": [
       "-(4*beta^2*p - 4*beta + 1)^2*(4*(2*beta*sqrt(-p + 1) - 2*beta + 1)*beta^2/(4*beta^2*p - 4*beta + 1)^2 + beta/((4*beta^2*p - 4*beta + 1)*sqrt(-p + 1)))^2*(p - 1)*p/((2*beta*sqrt(-p + 1) - 2*beta + 1)^2*beta^2*n)"
      ]
     },
     "metadata": {},
     "output_type": "display_data"
    }
   ],
   "source": [
    "var_d_f16 = (p*(1-p)/en) * diff(nu_hat_f16_star, p)^2\n",
    "\n",
    "pretty_print(var_d_f16)"
   ]
  },
  {
   "cell_type": "code",
   "execution_count": 70,
   "id": "09d3f27f-6354-44de-bd51-ff04f3baeede",
   "metadata": {},
   "outputs": [
    {
     "data": {
      "text/html": [
       "<html>\\(\\displaystyle -\\frac{9 \\, {\\left(16 \\, p - 15\\right)}^{2} {\\left(p - 1\\right)} p {\\left(\\frac{8 \\, {\\left(4 \\, \\sqrt{-p + 1} - 1\\right)}}{{\\left(16 \\, p - 15\\right)}^{2}} + \\frac{1}{{\\left(16 \\, p - 15\\right)} \\sqrt{-p + 1}}\\right)}^{2}}{n {\\left(4 \\, \\sqrt{-p + 1} - 1\\right)}^{2}}\\)</html>"
      ],
      "text/latex": [
       "$\\displaystyle -\\frac{9 \\, {\\left(16 \\, p - 15\\right)}^{2} {\\left(p - 1\\right)} p {\\left(\\frac{8 \\, {\\left(4 \\, \\sqrt{-p + 1} - 1\\right)}}{{\\left(16 \\, p - 15\\right)}^{2}} + \\frac{1}{{\\left(16 \\, p - 15\\right)} \\sqrt{-p + 1}}\\right)}^{2}}{n {\\left(4 \\, \\sqrt{-p + 1} - 1\\right)}^{2}}$"
      ],
      "text/plain": [
       "-9*(16*p - 15)^2*(p - 1)*p*(8*(4*sqrt(-p + 1) - 1)/(16*p - 15)^2 + 1/((16*p - 15)*sqrt(-p + 1)))^2/(n*(4*sqrt(-p + 1) - 1)^2)"
      ]
     },
     "metadata": {},
     "output_type": "display_data"
    }
   ],
   "source": [
    "var_d_jc16 = var_d_f16(beta=beta_f16(pi_a=1/4,pi_c=1/4,pi_g=1/4,pi_t=1/4))\n",
    "\n",
    "pretty_print(var_d_jc16)"
   ]
  },
  {
   "cell_type": "markdown",
   "id": "2f63f5bb-d912-4037-ba7a-3a69b3987ea5",
   "metadata": {},
   "source": [
    "### 10-state F81"
   ]
  },
  {
   "cell_type": "code",
   "execution_count": 107,
   "id": "e01c4222-3fe5-4318-bcad-6c39cb1fdaf2",
   "metadata": {},
   "outputs": [],
   "source": [
    "perm = matrix(\n",
    "    # fmt: off\n",
    "    # @formatter:off\n",
    "    [\n",
    "        # AA, CC, GG, TT, AC, CA, AG, GA, AT, TA, CG, GC, CT, TC, GT, TG\n",
    "        [  1,  0,  0,  0,  0,  0,  0,  0,  0,  0,  0,  0,  0,  0,  0,  0],  # AA\n",
    "        [  0,  0,  0,  0,  1,  0,  0,  0,  0,  0,  0,  0,  0,  0,  0,  0],  # AC\n",
    "        [  0,  0,  0,  0,  0,  0,  1,  0,  0,  0,  0,  0,  0,  0,  0,  0],  # AG\n",
    "        [  0,  0,  0,  0,  0,  0,  0,  0,  1,  0,  0,  0,  0,  0,  0,  0],  # AT\n",
    "        [  0,  0,  0,  0,  0,  1,  0,  0,  0,  0,  0,  0,  0,  0,  0,  0],  # CA\n",
    "        [  0,  1,  0,  0,  0,  0,  0,  0,  0,  0,  0,  0,  0,  0,  0,  0],  # CC\n",
    "        [  0,  0,  0,  0,  0,  0,  0,  0,  0,  0,  1,  0,  0,  0,  0,  0],  # CG\n",
    "        [  0,  0,  0,  0,  0,  0,  0,  0,  0,  0,  0,  0,  1,  0,  0,  0],  # CT\n",
    "        [  0,  0,  0,  0,  0,  0,  0,  1,  0,  0,  0,  0,  0,  0,  0,  0],  # GA\n",
    "        [  0,  0,  0,  0,  0,  0,  0,  0,  0,  0,  0,  1,  0,  0,  0,  0],  # GC\n",
    "        [  0,  0,  1,  0,  0,  0,  0,  0,  0,  0,  0,  0,  0,  0,  0,  0],  # GG\n",
    "        [  0,  0,  0,  0,  0,  0,  0,  0,  0,  0,  0,  0,  0,  0,  1,  0],  # GT\n",
    "        [  0,  0,  0,  0,  0,  0,  0,  0,  0,  1,  0,  0,  0,  0,  0,  0],  # TA\n",
    "        [  0,  0,  0,  0,  0,  0,  0,  0,  0,  0,  0,  0,  0,  1,  0,  0],  # TC\n",
    "        [  0,  0,  0,  0,  0,  0,  0,  0,  0,  0,  0,  0,  0,  0,  0,  1],  # TG\n",
    "        [  0,  0,  0,  1,  0,  0,  0,  0,  0,  0,  0,  0,  0,  0,  0,  0],  # TT\n",
    "    ],\n",
    "    # @formatter:on\n",
    "    # fmt: on\n",
    ")\n",
    "\n",
    "V = matrix(\n",
    "    # fmt: off\n",
    "    # @formatter:off\n",
    "    [\n",
    "        # AA, CC, GG, TT, AC, CA, AG, GA, AT, TA, CG, GC, CT, TC, GT, TG\n",
    "        [  1,  0,  0,  0,  0,  0,  0,  0,  0,  0,  0,  0,  0,  0,  0,  0],  # AA\n",
    "        [  0,  1,  0,  0,  0,  0,  0,  0,  0,  0,  0,  0,  0,  0,  0,  0],  # CC\n",
    "        [  0,  0,  1,  0,  0,  0,  0,  0,  0,  0,  0,  0,  0,  0,  0,  0],  # GG\n",
    "        [  0,  0,  0,  1,  0,  0,  0,  0,  0,  0,  0,  0,  0,  0,  0,  0],  # TT\n",
    "        [  0,  0,  0,  0,  1,  1,  0,  0,  0,  0,  0,  0,  0,  0,  0,  0],  # AC\n",
    "        [  0,  0,  0,  0,  0,  0,  1,  1,  0,  0,  0,  0,  0,  0,  0,  0],  # AG\n",
    "        [  0,  0,  0,  0,  0,  0,  0,  0,  1,  1,  0,  0,  0,  0,  0,  0],  # AT\n",
    "        [  0,  0,  0,  0,  0,  0,  0,  0,  0,  0,  1,  1,  0,  0,  0,  0],  # CG\n",
    "        [  0,  0,  0,  0,  0,  0,  0,  0,  0,  0,  0,  0,  1,  1,  0,  0],  # CT\n",
    "        [  0,  0,  0,  0,  0,  0,  0,  0,  0,  0,  0,  0,  0,  0,  1,  1],  # GT\n",
    "    ],\n",
    "    # @formatter:on\n",
    "    # fmt: on\n",
    ").T\n",
    "\n",
    "# U = np.linalg.pinv(V)\n",
    "U = matrix(\n",
    "    # fmt: off\n",
    "    # @formatter:off\n",
    "    [\n",
    "        # AA, CC,  GG,  TT, AC , AG , AT , CG , CT , GT\n",
    "        [  1,  0,   0,   0,  0 ,  0 ,  0 ,  0 ,  0 ,  0 ],  # AA\n",
    "        [  0,  1,   0,   0,  0 ,  0 ,  0 ,  0 ,  0 ,  0 ],  # CC\n",
    "        [  0,  0,   1,   0,  0 ,  0 ,  0 ,  0 ,  0 ,  0 ],  # GG\n",
    "        [  0,  0,   0,   1,  0 ,  0 ,  0 ,  0 ,  0 ,  0 ],  # TT\n",
    "        [  0,  0,   0,   0, 1/2,  0 ,  0 ,  0 ,  0 ,  0 ],  # AC\n",
    "        [  0,  0,   0,   0, 1/2,  0 ,  0 ,  0 ,  0 ,  0 ],  # CA\n",
    "        [  0,  0,   0,   0,  0 , 1/2,  0 ,  0 ,  0 ,  0 ],  # AG\n",
    "        [  0,  0,   0,   0,  0 , 1/2,  0 ,  0 ,  0 ,  0 ],  # GA\n",
    "        [  0,  0,   0,   0,  0 ,  0 , 1/2,  0 ,  0 ,  0 ],  # AT\n",
    "        [  0,  0,   0,   0,  0 ,  0 , 1/2,  0 ,  0 ,  0 ],  # TA\n",
    "        [  0,  0,   0,   0,  0 ,  0 ,  0 , 1/2,  0 ,  0 ],  # CG\n",
    "        [  0,  0,   0,   0,  0 ,  0 ,  0 , 1/2,  0 ,  0 ],  # GC\n",
    "        [  0,  0,   0,   0,  0 ,  0 ,  0 ,  0 , 1/2,  0 ],  # CT\n",
    "        [  0,  0,   0,   0,  0 ,  0 ,  0 ,  0 , 1/2,  0 ],  # TA\n",
    "        [  0,  0,   0,   0,  0 ,  0 ,  0 ,  0 ,  0 , 1/2],  # GT\n",
    "        [  0,  0,   0,   0,  0 ,  0 ,  0 ,  0 ,  0 , 1/2],  # TG\n",
    "    ],\n",
    "    # @formatter:on\n",
    "    # fmt: on\n",
    ").T\n"
   ]
  },
  {
   "cell_type": "code",
   "execution_count": 108,
   "id": "9f3eca3e-cc04-4868-98af-5d64a2ae1906",
   "metadata": {},
   "outputs": [
    {
     "data": {
      "text/html": [
       "<html>\\(\\displaystyle \\left(\\begin{array}{rrrrrrrrrr}\n",
       "-2 \\, \\pi_{c} - 2 \\, \\pi_{g} - 2 \\, \\pi_{t} & 0 & 0 & 0 & 2 \\, \\pi_{c} & 2 \\, \\pi_{g} & 2 \\, \\pi_{t} & 0 & 0 & 0 \\\\\n",
       "0 & -2 \\, \\pi_{a} - 2 \\, \\pi_{g} - 2 \\, \\pi_{t} & 0 & 0 & 2 \\, \\pi_{a} & 0 & 0 & 2 \\, \\pi_{g} & 2 \\, \\pi_{t} & 0 \\\\\n",
       "0 & 0 & -2 \\, \\pi_{a} - 2 \\, \\pi_{c} - 2 \\, \\pi_{t} & 0 & 0 & 2 \\, \\pi_{a} & 0 & 2 \\, \\pi_{c} & 0 & 2 \\, \\pi_{t} \\\\\n",
       "0 & 0 & 0 & -2 \\, \\pi_{a} - 2 \\, \\pi_{c} - 2 \\, \\pi_{g} & 0 & 0 & 2 \\, \\pi_{a} & 0 & 2 \\, \\pi_{c} & 2 \\, \\pi_{g} \\\\\n",
       "\\pi_{a} & \\pi_{c} & 0 & 0 & -\\pi_{a} - \\pi_{c} - 2 \\, \\pi_{g} - 2 \\, \\pi_{t} & \\pi_{g} & \\pi_{t} & \\pi_{g} & \\pi_{t} & 0 \\\\\n",
       "\\pi_{a} & 0 & \\pi_{g} & 0 & \\pi_{c} & -\\pi_{a} - 2 \\, \\pi_{c} - \\pi_{g} - 2 \\, \\pi_{t} & \\pi_{t} & \\pi_{c} & 0 & \\pi_{t} \\\\\n",
       "\\pi_{a} & 0 & 0 & \\pi_{t} & \\pi_{c} & \\pi_{g} & -\\pi_{a} - 2 \\, \\pi_{c} - 2 \\, \\pi_{g} - \\pi_{t} & 0 & \\pi_{c} & \\pi_{g} \\\\\n",
       "0 & \\pi_{c} & \\pi_{g} & 0 & \\pi_{a} & \\pi_{a} & 0 & -2 \\, \\pi_{a} - \\pi_{c} - \\pi_{g} - 2 \\, \\pi_{t} & \\pi_{t} & \\pi_{t} \\\\\n",
       "0 & \\pi_{c} & 0 & \\pi_{t} & \\pi_{a} & 0 & \\pi_{a} & \\pi_{g} & -2 \\, \\pi_{a} - \\pi_{c} - 2 \\, \\pi_{g} - \\pi_{t} & \\pi_{g} \\\\\n",
       "0 & 0 & \\pi_{g} & \\pi_{t} & 0 & \\pi_{a} & \\pi_{a} & \\pi_{c} & \\pi_{c} & -2 \\, \\pi_{a} - 2 \\, \\pi_{c} - \\pi_{g} - \\pi_{t}\n",
       "\\end{array}\\right)\\)</html>"
      ],
      "text/latex": [
       "$\\displaystyle \\left(\\begin{array}{rrrrrrrrrr}\n",
       "-2 \\, \\pi_{c} - 2 \\, \\pi_{g} - 2 \\, \\pi_{t} & 0 & 0 & 0 & 2 \\, \\pi_{c} & 2 \\, \\pi_{g} & 2 \\, \\pi_{t} & 0 & 0 & 0 \\\\\n",
       "0 & -2 \\, \\pi_{a} - 2 \\, \\pi_{g} - 2 \\, \\pi_{t} & 0 & 0 & 2 \\, \\pi_{a} & 0 & 0 & 2 \\, \\pi_{g} & 2 \\, \\pi_{t} & 0 \\\\\n",
       "0 & 0 & -2 \\, \\pi_{a} - 2 \\, \\pi_{c} - 2 \\, \\pi_{t} & 0 & 0 & 2 \\, \\pi_{a} & 0 & 2 \\, \\pi_{c} & 0 & 2 \\, \\pi_{t} \\\\\n",
       "0 & 0 & 0 & -2 \\, \\pi_{a} - 2 \\, \\pi_{c} - 2 \\, \\pi_{g} & 0 & 0 & 2 \\, \\pi_{a} & 0 & 2 \\, \\pi_{c} & 2 \\, \\pi_{g} \\\\\n",
       "\\pi_{a} & \\pi_{c} & 0 & 0 & -\\pi_{a} - \\pi_{c} - 2 \\, \\pi_{g} - 2 \\, \\pi_{t} & \\pi_{g} & \\pi_{t} & \\pi_{g} & \\pi_{t} & 0 \\\\\n",
       "\\pi_{a} & 0 & \\pi_{g} & 0 & \\pi_{c} & -\\pi_{a} - 2 \\, \\pi_{c} - \\pi_{g} - 2 \\, \\pi_{t} & \\pi_{t} & \\pi_{c} & 0 & \\pi_{t} \\\\\n",
       "\\pi_{a} & 0 & 0 & \\pi_{t} & \\pi_{c} & \\pi_{g} & -\\pi_{a} - 2 \\, \\pi_{c} - 2 \\, \\pi_{g} - \\pi_{t} & 0 & \\pi_{c} & \\pi_{g} \\\\\n",
       "0 & \\pi_{c} & \\pi_{g} & 0 & \\pi_{a} & \\pi_{a} & 0 & -2 \\, \\pi_{a} - \\pi_{c} - \\pi_{g} - 2 \\, \\pi_{t} & \\pi_{t} & \\pi_{t} \\\\\n",
       "0 & \\pi_{c} & 0 & \\pi_{t} & \\pi_{a} & 0 & \\pi_{a} & \\pi_{g} & -2 \\, \\pi_{a} - \\pi_{c} - 2 \\, \\pi_{g} - \\pi_{t} & \\pi_{g} \\\\\n",
       "0 & 0 & \\pi_{g} & \\pi_{t} & 0 & \\pi_{a} & \\pi_{a} & \\pi_{c} & \\pi_{c} & -2 \\, \\pi_{a} - 2 \\, \\pi_{c} - \\pi_{g} - \\pi_{t}\n",
       "\\end{array}\\right)$"
      ],
      "text/plain": [
       "[     -2*pi_c - 2*pi_g - 2*pi_t                              0                              0                              0                         2*pi_c                         2*pi_g                         2*pi_t                              0                              0                              0]\n",
       "[                             0      -2*pi_a - 2*pi_g - 2*pi_t                              0                              0                         2*pi_a                              0                              0                         2*pi_g                         2*pi_t                              0]\n",
       "[                             0                              0      -2*pi_a - 2*pi_c - 2*pi_t                              0                              0                         2*pi_a                              0                         2*pi_c                              0                         2*pi_t]\n",
       "[                             0                              0                              0      -2*pi_a - 2*pi_c - 2*pi_g                              0                              0                         2*pi_a                              0                         2*pi_c                         2*pi_g]\n",
       "[                          pi_a                           pi_c                              0                              0 -pi_a - pi_c - 2*pi_g - 2*pi_t                           pi_g                           pi_t                           pi_g                           pi_t                              0]\n",
       "[                          pi_a                              0                           pi_g                              0                           pi_c -pi_a - 2*pi_c - pi_g - 2*pi_t                           pi_t                           pi_c                              0                           pi_t]\n",
       "[                          pi_a                              0                              0                           pi_t                           pi_c                           pi_g -pi_a - 2*pi_c - 2*pi_g - pi_t                              0                           pi_c                           pi_g]\n",
       "[                             0                           pi_c                           pi_g                              0                           pi_a                           pi_a                              0 -2*pi_a - pi_c - pi_g - 2*pi_t                           pi_t                           pi_t]\n",
       "[                             0                           pi_c                              0                           pi_t                           pi_a                              0                           pi_a                           pi_g -2*pi_a - pi_c - 2*pi_g - pi_t                           pi_g]\n",
       "[                             0                              0                           pi_g                           pi_t                              0                           pi_a                           pi_a                           pi_c                           pi_c -2*pi_a - 2*pi_c - pi_g - pi_t]"
      ]
     },
     "metadata": {},
     "output_type": "display_data"
    }
   ],
   "source": [
    "qf10 = (U * perm.T * qf16 * perm * V)\n",
    "pretty_print(qf10)"
   ]
  },
  {
   "cell_type": "code",
   "execution_count": 110,
   "id": "202297c8-4a0f-4608-a840-60489e397253",
   "metadata": {},
   "outputs": [
    {
     "data": {
      "text/plain": [
       "(pi_a^2, pi_c^2, pi_g^2, pi_t^2, 2*pi_a*pi_c, 2*pi_a*pi_g, 2*pi_a*pi_t, 2*pi_c*pi_g, 2*pi_c*pi_t, 2*pi_g*pi_t)"
      ]
     },
     "execution_count": 110,
     "metadata": {},
     "output_type": "execute_result"
    }
   ],
   "source": [
    "pi10s = vector(np.kron(pis,pis) @ perm @ V) # == pi10s\n",
    "\n",
    "pi10s"
   ]
  },
  {
   "cell_type": "code",
   "execution_count": 111,
   "id": "993eda05-5ad2-4ee5-9673-f5dd39b2d8c3",
   "metadata": {},
   "outputs": [],
   "source": [
    "pf10t = exp(qf10 * t)  # t = beta*nu"
   ]
  },
  {
   "cell_type": "code",
   "execution_count": 113,
   "id": "43c540fb-0c09-426a-bd34-42ea92cb912c",
   "metadata": {},
   "outputs": [],
   "source": [
    "beta_f10 = -1 / (pi10s * vector(qf10.diagonal())).expand()\n",
    "p_hat_f10t = 1 - pi10s * vector(pf10t.diagonal())"
   ]
  },
  {
   "cell_type": "code",
   "execution_count": 114,
   "id": "7fbe47f9-9ed6-426d-a190-96b6886b03c1",
   "metadata": {},
   "outputs": [
    {
     "data": {
      "text/html": [
       "<html>\\(\\displaystyle \\frac{1}{4 \\, {\\left(\\pi_{a}^{2} \\pi_{c} + \\pi_{a} \\pi_{c}^{2} + \\pi_{a}^{2} \\pi_{g} + 3 \\, \\pi_{a} \\pi_{c} \\pi_{g} + \\pi_{c}^{2} \\pi_{g} + \\pi_{a} \\pi_{g}^{2} + \\pi_{c} \\pi_{g}^{2} + \\pi_{a}^{2} \\pi_{t} + 3 \\, \\pi_{a} \\pi_{c} \\pi_{t} + \\pi_{c}^{2} \\pi_{t} + 3 \\, \\pi_{a} \\pi_{g} \\pi_{t} + 3 \\, \\pi_{c} \\pi_{g} \\pi_{t} + \\pi_{g}^{2} \\pi_{t} + \\pi_{a} \\pi_{t}^{2} + \\pi_{c} \\pi_{t}^{2} + \\pi_{g} \\pi_{t}^{2}\\right)}}\\)</html>"
      ],
      "text/latex": [
       "$\\displaystyle \\frac{1}{4 \\, {\\left(\\pi_{a}^{2} \\pi_{c} + \\pi_{a} \\pi_{c}^{2} + \\pi_{a}^{2} \\pi_{g} + 3 \\, \\pi_{a} \\pi_{c} \\pi_{g} + \\pi_{c}^{2} \\pi_{g} + \\pi_{a} \\pi_{g}^{2} + \\pi_{c} \\pi_{g}^{2} + \\pi_{a}^{2} \\pi_{t} + 3 \\, \\pi_{a} \\pi_{c} \\pi_{t} + \\pi_{c}^{2} \\pi_{t} + 3 \\, \\pi_{a} \\pi_{g} \\pi_{t} + 3 \\, \\pi_{c} \\pi_{g} \\pi_{t} + \\pi_{g}^{2} \\pi_{t} + \\pi_{a} \\pi_{t}^{2} + \\pi_{c} \\pi_{t}^{2} + \\pi_{g} \\pi_{t}^{2}\\right)}}$"
      ],
      "text/plain": [
       "1/4/(pi_a^2*pi_c + pi_a*pi_c^2 + pi_a^2*pi_g + 3*pi_a*pi_c*pi_g + pi_c^2*pi_g + pi_a*pi_g^2 + pi_c*pi_g^2 + pi_a^2*pi_t + 3*pi_a*pi_c*pi_t + pi_c^2*pi_t + 3*pi_a*pi_g*pi_t + 3*pi_c*pi_g*pi_t + pi_g^2*pi_t + pi_a*pi_t^2 + pi_c*pi_t^2 + pi_g*pi_t^2)"
      ]
     },
     "metadata": {},
     "output_type": "display_data"
    }
   ],
   "source": [
    "pretty_print(beta_f10)"
   ]
  },
  {
   "cell_type": "code",
   "execution_count": 115,
   "id": "6da4ed53-7270-412b-b1f6-641ea6708863",
   "metadata": {},
   "outputs": [
    {
     "data": {
      "text/html": [
       "<html>\\(\\displaystyle -\\frac{3}{2} \\, \\tau_{1}^{2} - 2 \\, \\tau_{1} \\tau_{2} - 2 \\, \\tau_{2}^{2} - {\\left(\\tau_{1} + 2 \\, \\tau_{2}\\right)} \\tau_{3} - \\frac{3}{2} \\, \\tau_{3}^{2} + \\frac{3}{2}\\)</html>"
      ],
      "text/latex": [
       "$\\displaystyle -\\frac{3}{2} \\, \\tau_{1}^{2} - 2 \\, \\tau_{1} \\tau_{2} - 2 \\, \\tau_{2}^{2} - {\\left(\\tau_{1} + 2 \\, \\tau_{2}\\right)} \\tau_{3} - \\frac{3}{2} \\, \\tau_{3}^{2} + \\frac{3}{2}$"
      ],
      "text/plain": [
       "-3/2*tau_1^2 - 2*tau_1*tau_2 - 2*tau_2^2 - (tau_1 + 2*tau_2)*tau_3 - 3/2*tau_3^2 + 3/2"
      ]
     },
     "metadata": {},
     "output_type": "display_data"
    }
   ],
   "source": [
    "temp = (1/beta_f10).simplify_full()(pi_t=tau_3+pi_g)(pi_g=tau_2+pi_c)(pi_c=tau_1+pi_a)(pi_a=(1-3*tau_1-2*tau_2-tau_3)/4).simplify_full()\n",
    "pretty_print(temp)"
   ]
  },
  {
   "cell_type": "code",
   "execution_count": 116,
   "id": "75c77421-4b0d-4de5-8f85-6e10e050e13d",
   "metadata": {},
   "outputs": [
    {
     "data": {
      "text/html": [
       "<html>\\(\\displaystyle -\\frac{2}{3 \\, \\pi_{a}^{2} - 2 \\, \\pi_{a} \\pi_{c} + 3 \\, \\pi_{c}^{2} - 2 \\, \\pi_{a} \\pi_{g} - 2 \\, \\pi_{c} \\pi_{g} + 3 \\, \\pi_{g}^{2} - 2 \\, \\pi_{a} \\pi_{t} - 2 \\, \\pi_{c} \\pi_{t} - 2 \\, \\pi_{g} \\pi_{t} + 3 \\, \\pi_{t}^{2} - 3}\\)</html>"
      ],
      "text/latex": [
       "$\\displaystyle -\\frac{2}{3 \\, \\pi_{a}^{2} - 2 \\, \\pi_{a} \\pi_{c} + 3 \\, \\pi_{c}^{2} - 2 \\, \\pi_{a} \\pi_{g} - 2 \\, \\pi_{c} \\pi_{g} + 3 \\, \\pi_{g}^{2} - 2 \\, \\pi_{a} \\pi_{t} - 2 \\, \\pi_{c} \\pi_{t} - 2 \\, \\pi_{g} \\pi_{t} + 3 \\, \\pi_{t}^{2} - 3}$"
      ],
      "text/plain": [
       "-2/(3*pi_a^2 - 2*pi_a*pi_c + 3*pi_c^2 - 2*pi_a*pi_g - 2*pi_c*pi_g + 3*pi_g^2 - 2*pi_a*pi_t - 2*pi_c*pi_t - 2*pi_g*pi_t + 3*pi_t^2 - 3)"
      ]
     },
     "metadata": {},
     "output_type": "display_data"
    }
   ],
   "source": [
    "beta_f10 = 1/(temp(tau_1=pi_c-pi_a, tau_2 = pi_g-pi_c, tau_3=pi_t-pi_g).expand().simplify_full().expand())\n",
    "pretty_print( beta_f10 )"
   ]
  },
  {
   "cell_type": "code",
   "execution_count": 117,
   "id": "082e7838-268b-48a9-a5e7-e57af4b001b7",
   "metadata": {},
   "outputs": [
    {
     "data": {
      "text/html": [
       "<html>\\(\\displaystyle 4 \\, \\pi_{a} \\pi_{c} + 4 \\, \\pi_{a} \\pi_{g} + 4 \\, \\pi_{c} \\pi_{g} + 4 \\, \\pi_{a} \\pi_{t} + 4 \\, \\pi_{c} \\pi_{t} + 4 \\, \\pi_{g} \\pi_{t}\\)</html>"
      ],
      "text/latex": [
       "$\\displaystyle 4 \\, \\pi_{a} \\pi_{c} + 4 \\, \\pi_{a} \\pi_{g} + 4 \\, \\pi_{c} \\pi_{g} + 4 \\, \\pi_{a} \\pi_{t} + 4 \\, \\pi_{c} \\pi_{t} + 4 \\, \\pi_{g} \\pi_{t}$"
      ],
      "text/plain": [
       "4*pi_a*pi_c + 4*pi_a*pi_g + 4*pi_c*pi_g + 4*pi_a*pi_t + 4*pi_c*pi_t + 4*pi_g*pi_t"
      ]
     },
     "metadata": {},
     "output_type": "display_data"
    }
   ],
   "source": [
    "temp = ((1/beta_f10) + (3/2)*(pi_a+pi_c+pi_g+pi_t -1)^2 + 3*(pi_a+pi_c+pi_g+pi_t -1)).expand()\n",
    "beta_f10 = 1/temp\n",
    "pretty_print(temp.expand())"
   ]
  },
  {
   "cell_type": "code",
   "execution_count": null,
   "id": "5af8099d-aed3-4041-ac4b-25590108d51c",
   "metadata": {},
   "outputs": [],
   "source": []
  },
  {
   "cell_type": "code",
   "execution_count": 118,
   "id": "6e4a3a0c-85e7-49da-b0d0-1920308f3279",
   "metadata": {},
   "outputs": [
    {
     "data": {
      "text/html": [
       "<html>\\(\\displaystyle \\frac{9}{8} \\, \\pi_{a}^{4} e^{\\left(-t\\right)} - \\frac{3}{2} \\, \\pi_{a}^{3} \\pi_{c} e^{\\left(-t\\right)} + \\frac{11}{4} \\, \\pi_{a}^{2} \\pi_{c}^{2} e^{\\left(-t\\right)} - \\frac{3}{2} \\, \\pi_{a} \\pi_{c}^{3} e^{\\left(-t\\right)} + \\frac{9}{8} \\, \\pi_{c}^{4} e^{\\left(-t\\right)} - \\frac{3}{2} \\, \\pi_{a}^{3} \\pi_{g} e^{\\left(-t\\right)} - \\frac{1}{2} \\, \\pi_{a}^{2} \\pi_{c} \\pi_{g} e^{\\left(-t\\right)} - \\frac{1}{2} \\, \\pi_{a} \\pi_{c}^{2} \\pi_{g} e^{\\left(-t\\right)} - \\frac{3}{2} \\, \\pi_{c}^{3} \\pi_{g} e^{\\left(-t\\right)} + \\frac{11}{4} \\, \\pi_{a}^{2} \\pi_{g}^{2} e^{\\left(-t\\right)} - \\frac{1}{2} \\, \\pi_{a} \\pi_{c} \\pi_{g}^{2} e^{\\left(-t\\right)} + \\frac{11}{4} \\, \\pi_{c}^{2} \\pi_{g}^{2} e^{\\left(-t\\right)} - \\frac{3}{2} \\, \\pi_{a} \\pi_{g}^{3} e^{\\left(-t\\right)} - \\frac{3}{2} \\, \\pi_{c} \\pi_{g}^{3} e^{\\left(-t\\right)} + \\frac{9}{8} \\, \\pi_{g}^{4} e^{\\left(-t\\right)} - \\frac{3}{2} \\, \\pi_{a}^{3} \\pi_{t} e^{\\left(-t\\right)} - \\frac{1}{2} \\, \\pi_{a}^{2} \\pi_{c} \\pi_{t} e^{\\left(-t\\right)} - \\frac{1}{2} \\, \\pi_{a} \\pi_{c}^{2} \\pi_{t} e^{\\left(-t\\right)} - \\frac{3}{2} \\, \\pi_{c}^{3} \\pi_{t} e^{\\left(-t\\right)} - \\frac{1}{2} \\, \\pi_{a}^{2} \\pi_{g} \\pi_{t} e^{\\left(-t\\right)} + 3 \\, \\pi_{a} \\pi_{c} \\pi_{g} \\pi_{t} e^{\\left(-t\\right)} - \\frac{1}{2} \\, \\pi_{c}^{2} \\pi_{g} \\pi_{t} e^{\\left(-t\\right)} - \\frac{1}{2} \\, \\pi_{a} \\pi_{g}^{2} \\pi_{t} e^{\\left(-t\\right)} - \\frac{1}{2} \\, \\pi_{c} \\pi_{g}^{2} \\pi_{t} e^{\\left(-t\\right)} - \\frac{3}{2} \\, \\pi_{g}^{3} \\pi_{t} e^{\\left(-t\\right)} + \\frac{11}{4} \\, \\pi_{a}^{2} \\pi_{t}^{2} e^{\\left(-t\\right)} - \\frac{1}{2} \\, \\pi_{a} \\pi_{c} \\pi_{t}^{2} e^{\\left(-t\\right)} + \\frac{11}{4} \\, \\pi_{c}^{2} \\pi_{t}^{2} e^{\\left(-t\\right)} - \\frac{1}{2} \\, \\pi_{a} \\pi_{g} \\pi_{t}^{2} e^{\\left(-t\\right)} - \\frac{1}{2} \\, \\pi_{c} \\pi_{g} \\pi_{t}^{2} e^{\\left(-t\\right)} + \\frac{11}{4} \\, \\pi_{g}^{2} \\pi_{t}^{2} e^{\\left(-t\\right)} - \\frac{3}{2} \\, \\pi_{a} \\pi_{t}^{3} e^{\\left(-t\\right)} - \\frac{3}{2} \\, \\pi_{c} \\pi_{t}^{3} e^{\\left(-t\\right)} - \\frac{3}{2} \\, \\pi_{g} \\pi_{t}^{3} e^{\\left(-t\\right)} + \\frac{9}{8} \\, \\pi_{t}^{4} e^{\\left(-t\\right)} - \\frac{9}{16} \\, \\pi_{a}^{4} e^{\\left(-2 \\, t\\right)} + \\frac{3}{4} \\, \\pi_{a}^{3} \\pi_{c} e^{\\left(-2 \\, t\\right)} - \\frac{11}{8} \\, \\pi_{a}^{2} \\pi_{c}^{2} e^{\\left(-2 \\, t\\right)} + \\frac{3}{4} \\, \\pi_{a} \\pi_{c}^{3} e^{\\left(-2 \\, t\\right)} - \\frac{9}{16} \\, \\pi_{c}^{4} e^{\\left(-2 \\, t\\right)} + \\frac{3}{4} \\, \\pi_{a}^{3} \\pi_{g} e^{\\left(-2 \\, t\\right)} + \\frac{1}{4} \\, \\pi_{a}^{2} \\pi_{c} \\pi_{g} e^{\\left(-2 \\, t\\right)} + \\frac{1}{4} \\, \\pi_{a} \\pi_{c}^{2} \\pi_{g} e^{\\left(-2 \\, t\\right)} + \\frac{3}{4} \\, \\pi_{c}^{3} \\pi_{g} e^{\\left(-2 \\, t\\right)} - \\frac{11}{8} \\, \\pi_{a}^{2} \\pi_{g}^{2} e^{\\left(-2 \\, t\\right)} + \\frac{1}{4} \\, \\pi_{a} \\pi_{c} \\pi_{g}^{2} e^{\\left(-2 \\, t\\right)} - \\frac{11}{8} \\, \\pi_{c}^{2} \\pi_{g}^{2} e^{\\left(-2 \\, t\\right)} + \\frac{3}{4} \\, \\pi_{a} \\pi_{g}^{3} e^{\\left(-2 \\, t\\right)} + \\frac{3}{4} \\, \\pi_{c} \\pi_{g}^{3} e^{\\left(-2 \\, t\\right)} - \\frac{9}{16} \\, \\pi_{g}^{4} e^{\\left(-2 \\, t\\right)} + \\frac{3}{4} \\, \\pi_{a}^{3} \\pi_{t} e^{\\left(-2 \\, t\\right)} + \\frac{1}{4} \\, \\pi_{a}^{2} \\pi_{c} \\pi_{t} e^{\\left(-2 \\, t\\right)} + \\frac{1}{4} \\, \\pi_{a} \\pi_{c}^{2} \\pi_{t} e^{\\left(-2 \\, t\\right)} + \\frac{3}{4} \\, \\pi_{c}^{3} \\pi_{t} e^{\\left(-2 \\, t\\right)} + \\frac{1}{4} \\, \\pi_{a}^{2} \\pi_{g} \\pi_{t} e^{\\left(-2 \\, t\\right)} - \\frac{3}{2} \\, \\pi_{a} \\pi_{c} \\pi_{g} \\pi_{t} e^{\\left(-2 \\, t\\right)} + \\frac{1}{4} \\, \\pi_{c}^{2} \\pi_{g} \\pi_{t} e^{\\left(-2 \\, t\\right)} + \\frac{1}{4} \\, \\pi_{a} \\pi_{g}^{2} \\pi_{t} e^{\\left(-2 \\, t\\right)} + \\frac{1}{4} \\, \\pi_{c} \\pi_{g}^{2} \\pi_{t} e^{\\left(-2 \\, t\\right)} + \\frac{3}{4} \\, \\pi_{g}^{3} \\pi_{t} e^{\\left(-2 \\, t\\right)} - \\frac{11}{8} \\, \\pi_{a}^{2} \\pi_{t}^{2} e^{\\left(-2 \\, t\\right)} + \\frac{1}{4} \\, \\pi_{a} \\pi_{c} \\pi_{t}^{2} e^{\\left(-2 \\, t\\right)} - \\frac{11}{8} \\, \\pi_{c}^{2} \\pi_{t}^{2} e^{\\left(-2 \\, t\\right)} + \\frac{1}{4} \\, \\pi_{a} \\pi_{g} \\pi_{t}^{2} e^{\\left(-2 \\, t\\right)} + \\frac{1}{4} \\, \\pi_{c} \\pi_{g} \\pi_{t}^{2} e^{\\left(-2 \\, t\\right)} - \\frac{11}{8} \\, \\pi_{g}^{2} \\pi_{t}^{2} e^{\\left(-2 \\, t\\right)} + \\frac{3}{4} \\, \\pi_{a} \\pi_{t}^{3} e^{\\left(-2 \\, t\\right)} + \\frac{3}{4} \\, \\pi_{c} \\pi_{t}^{3} e^{\\left(-2 \\, t\\right)} + \\frac{3}{4} \\, \\pi_{g} \\pi_{t}^{3} e^{\\left(-2 \\, t\\right)} - \\frac{9}{16} \\, \\pi_{t}^{4} e^{\\left(-2 \\, t\\right)} - \\frac{9}{16} \\, \\pi_{a}^{4} + \\frac{3}{4} \\, \\pi_{a}^{3} \\pi_{c} - \\frac{11}{8} \\, \\pi_{a}^{2} \\pi_{c}^{2} + \\frac{3}{4} \\, \\pi_{a} \\pi_{c}^{3} - \\frac{9}{16} \\, \\pi_{c}^{4} + \\frac{3}{4} \\, \\pi_{a}^{3} \\pi_{g} + \\frac{1}{4} \\, \\pi_{a}^{2} \\pi_{c} \\pi_{g} + \\frac{1}{4} \\, \\pi_{a} \\pi_{c}^{2} \\pi_{g} + \\frac{3}{4} \\, \\pi_{c}^{3} \\pi_{g} - \\frac{11}{8} \\, \\pi_{a}^{2} \\pi_{g}^{2} + \\frac{1}{4} \\, \\pi_{a} \\pi_{c} \\pi_{g}^{2} - \\frac{11}{8} \\, \\pi_{c}^{2} \\pi_{g}^{2} + \\frac{3}{4} \\, \\pi_{a} \\pi_{g}^{3} + \\frac{3}{4} \\, \\pi_{c} \\pi_{g}^{3} - \\frac{9}{16} \\, \\pi_{g}^{4} + \\frac{3}{4} \\, \\pi_{a}^{3} \\pi_{t} + \\frac{1}{4} \\, \\pi_{a}^{2} \\pi_{c} \\pi_{t} + \\frac{1}{4} \\, \\pi_{a} \\pi_{c}^{2} \\pi_{t} + \\frac{3}{4} \\, \\pi_{c}^{3} \\pi_{t} + \\frac{1}{4} \\, \\pi_{a}^{2} \\pi_{g} \\pi_{t} - \\frac{3}{2} \\, \\pi_{a} \\pi_{c} \\pi_{g} \\pi_{t} + \\frac{1}{4} \\, \\pi_{c}^{2} \\pi_{g} \\pi_{t} + \\frac{1}{4} \\, \\pi_{a} \\pi_{g}^{2} \\pi_{t} + \\frac{1}{4} \\, \\pi_{c} \\pi_{g}^{2} \\pi_{t} + \\frac{3}{4} \\, \\pi_{g}^{3} \\pi_{t} - \\frac{11}{8} \\, \\pi_{a}^{2} \\pi_{t}^{2} + \\frac{1}{4} \\, \\pi_{a} \\pi_{c} \\pi_{t}^{2} - \\frac{11}{8} \\, \\pi_{c}^{2} \\pi_{t}^{2} + \\frac{1}{4} \\, \\pi_{a} \\pi_{g} \\pi_{t}^{2} + \\frac{1}{4} \\, \\pi_{c} \\pi_{g} \\pi_{t}^{2} - \\frac{11}{8} \\, \\pi_{g}^{2} \\pi_{t}^{2} + \\frac{3}{4} \\, \\pi_{a} \\pi_{t}^{3} + \\frac{3}{4} \\, \\pi_{c} \\pi_{t}^{3} + \\frac{3}{4} \\, \\pi_{g} \\pi_{t}^{3} - \\frac{9}{16} \\, \\pi_{t}^{4} - \\frac{3}{4} \\, \\pi_{a}^{2} e^{\\left(-t\\right)} + \\frac{1}{2} \\, \\pi_{a} \\pi_{c} e^{\\left(-t\\right)} - \\frac{3}{4} \\, \\pi_{c}^{2} e^{\\left(-t\\right)} + \\frac{1}{2} \\, \\pi_{a} \\pi_{g} e^{\\left(-t\\right)} + \\frac{1}{2} \\, \\pi_{c} \\pi_{g} e^{\\left(-t\\right)} - \\frac{3}{4} \\, \\pi_{g}^{2} e^{\\left(-t\\right)} + \\frac{1}{2} \\, \\pi_{a} \\pi_{t} e^{\\left(-t\\right)} + \\frac{1}{2} \\, \\pi_{c} \\pi_{t} e^{\\left(-t\\right)} + \\frac{1}{2} \\, \\pi_{g} \\pi_{t} e^{\\left(-t\\right)} - \\frac{3}{4} \\, \\pi_{t}^{2} e^{\\left(-t\\right)} + \\frac{9}{8} \\, \\pi_{a}^{2} e^{\\left(-2 \\, t\\right)} - \\frac{3}{4} \\, \\pi_{a} \\pi_{c} e^{\\left(-2 \\, t\\right)} + \\frac{9}{8} \\, \\pi_{c}^{2} e^{\\left(-2 \\, t\\right)} - \\frac{3}{4} \\, \\pi_{a} \\pi_{g} e^{\\left(-2 \\, t\\right)} - \\frac{3}{4} \\, \\pi_{c} \\pi_{g} e^{\\left(-2 \\, t\\right)} + \\frac{9}{8} \\, \\pi_{g}^{2} e^{\\left(-2 \\, t\\right)} - \\frac{3}{4} \\, \\pi_{a} \\pi_{t} e^{\\left(-2 \\, t\\right)} - \\frac{3}{4} \\, \\pi_{c} \\pi_{t} e^{\\left(-2 \\, t\\right)} - \\frac{3}{4} \\, \\pi_{g} \\pi_{t} e^{\\left(-2 \\, t\\right)} + \\frac{9}{8} \\, \\pi_{t}^{2} e^{\\left(-2 \\, t\\right)} - \\frac{3}{8} \\, \\pi_{a}^{2} + \\frac{1}{4} \\, \\pi_{a} \\pi_{c} - \\frac{3}{8} \\, \\pi_{c}^{2} + \\frac{1}{4} \\, \\pi_{a} \\pi_{g} + \\frac{1}{4} \\, \\pi_{c} \\pi_{g} - \\frac{3}{8} \\, \\pi_{g}^{2} + \\frac{1}{4} \\, \\pi_{a} \\pi_{t} + \\frac{1}{4} \\, \\pi_{c} \\pi_{t} + \\frac{1}{4} \\, \\pi_{g} \\pi_{t} - \\frac{3}{8} \\, \\pi_{t}^{2} - \\frac{3}{8} \\, e^{\\left(-t\\right)} - \\frac{9}{16} \\, e^{\\left(-2 \\, t\\right)} + \\frac{15}{16}\\)</html>"
      ],
      "text/latex": [
       "$\\displaystyle \\frac{9}{8} \\, \\pi_{a}^{4} e^{\\left(-t\\right)} - \\frac{3}{2} \\, \\pi_{a}^{3} \\pi_{c} e^{\\left(-t\\right)} + \\frac{11}{4} \\, \\pi_{a}^{2} \\pi_{c}^{2} e^{\\left(-t\\right)} - \\frac{3}{2} \\, \\pi_{a} \\pi_{c}^{3} e^{\\left(-t\\right)} + \\frac{9}{8} \\, \\pi_{c}^{4} e^{\\left(-t\\right)} - \\frac{3}{2} \\, \\pi_{a}^{3} \\pi_{g} e^{\\left(-t\\right)} - \\frac{1}{2} \\, \\pi_{a}^{2} \\pi_{c} \\pi_{g} e^{\\left(-t\\right)} - \\frac{1}{2} \\, \\pi_{a} \\pi_{c}^{2} \\pi_{g} e^{\\left(-t\\right)} - \\frac{3}{2} \\, \\pi_{c}^{3} \\pi_{g} e^{\\left(-t\\right)} + \\frac{11}{4} \\, \\pi_{a}^{2} \\pi_{g}^{2} e^{\\left(-t\\right)} - \\frac{1}{2} \\, \\pi_{a} \\pi_{c} \\pi_{g}^{2} e^{\\left(-t\\right)} + \\frac{11}{4} \\, \\pi_{c}^{2} \\pi_{g}^{2} e^{\\left(-t\\right)} - \\frac{3}{2} \\, \\pi_{a} \\pi_{g}^{3} e^{\\left(-t\\right)} - \\frac{3}{2} \\, \\pi_{c} \\pi_{g}^{3} e^{\\left(-t\\right)} + \\frac{9}{8} \\, \\pi_{g}^{4} e^{\\left(-t\\right)} - \\frac{3}{2} \\, \\pi_{a}^{3} \\pi_{t} e^{\\left(-t\\right)} - \\frac{1}{2} \\, \\pi_{a}^{2} \\pi_{c} \\pi_{t} e^{\\left(-t\\right)} - \\frac{1}{2} \\, \\pi_{a} \\pi_{c}^{2} \\pi_{t} e^{\\left(-t\\right)} - \\frac{3}{2} \\, \\pi_{c}^{3} \\pi_{t} e^{\\left(-t\\right)} - \\frac{1}{2} \\, \\pi_{a}^{2} \\pi_{g} \\pi_{t} e^{\\left(-t\\right)} + 3 \\, \\pi_{a} \\pi_{c} \\pi_{g} \\pi_{t} e^{\\left(-t\\right)} - \\frac{1}{2} \\, \\pi_{c}^{2} \\pi_{g} \\pi_{t} e^{\\left(-t\\right)} - \\frac{1}{2} \\, \\pi_{a} \\pi_{g}^{2} \\pi_{t} e^{\\left(-t\\right)} - \\frac{1}{2} \\, \\pi_{c} \\pi_{g}^{2} \\pi_{t} e^{\\left(-t\\right)} - \\frac{3}{2} \\, \\pi_{g}^{3} \\pi_{t} e^{\\left(-t\\right)} + \\frac{11}{4} \\, \\pi_{a}^{2} \\pi_{t}^{2} e^{\\left(-t\\right)} - \\frac{1}{2} \\, \\pi_{a} \\pi_{c} \\pi_{t}^{2} e^{\\left(-t\\right)} + \\frac{11}{4} \\, \\pi_{c}^{2} \\pi_{t}^{2} e^{\\left(-t\\right)} - \\frac{1}{2} \\, \\pi_{a} \\pi_{g} \\pi_{t}^{2} e^{\\left(-t\\right)} - \\frac{1}{2} \\, \\pi_{c} \\pi_{g} \\pi_{t}^{2} e^{\\left(-t\\right)} + \\frac{11}{4} \\, \\pi_{g}^{2} \\pi_{t}^{2} e^{\\left(-t\\right)} - \\frac{3}{2} \\, \\pi_{a} \\pi_{t}^{3} e^{\\left(-t\\right)} - \\frac{3}{2} \\, \\pi_{c} \\pi_{t}^{3} e^{\\left(-t\\right)} - \\frac{3}{2} \\, \\pi_{g} \\pi_{t}^{3} e^{\\left(-t\\right)} + \\frac{9}{8} \\, \\pi_{t}^{4} e^{\\left(-t\\right)} - \\frac{9}{16} \\, \\pi_{a}^{4} e^{\\left(-2 \\, t\\right)} + \\frac{3}{4} \\, \\pi_{a}^{3} \\pi_{c} e^{\\left(-2 \\, t\\right)} - \\frac{11}{8} \\, \\pi_{a}^{2} \\pi_{c}^{2} e^{\\left(-2 \\, t\\right)} + \\frac{3}{4} \\, \\pi_{a} \\pi_{c}^{3} e^{\\left(-2 \\, t\\right)} - \\frac{9}{16} \\, \\pi_{c}^{4} e^{\\left(-2 \\, t\\right)} + \\frac{3}{4} \\, \\pi_{a}^{3} \\pi_{g} e^{\\left(-2 \\, t\\right)} + \\frac{1}{4} \\, \\pi_{a}^{2} \\pi_{c} \\pi_{g} e^{\\left(-2 \\, t\\right)} + \\frac{1}{4} \\, \\pi_{a} \\pi_{c}^{2} \\pi_{g} e^{\\left(-2 \\, t\\right)} + \\frac{3}{4} \\, \\pi_{c}^{3} \\pi_{g} e^{\\left(-2 \\, t\\right)} - \\frac{11}{8} \\, \\pi_{a}^{2} \\pi_{g}^{2} e^{\\left(-2 \\, t\\right)} + \\frac{1}{4} \\, \\pi_{a} \\pi_{c} \\pi_{g}^{2} e^{\\left(-2 \\, t\\right)} - \\frac{11}{8} \\, \\pi_{c}^{2} \\pi_{g}^{2} e^{\\left(-2 \\, t\\right)} + \\frac{3}{4} \\, \\pi_{a} \\pi_{g}^{3} e^{\\left(-2 \\, t\\right)} + \\frac{3}{4} \\, \\pi_{c} \\pi_{g}^{3} e^{\\left(-2 \\, t\\right)} - \\frac{9}{16} \\, \\pi_{g}^{4} e^{\\left(-2 \\, t\\right)} + \\frac{3}{4} \\, \\pi_{a}^{3} \\pi_{t} e^{\\left(-2 \\, t\\right)} + \\frac{1}{4} \\, \\pi_{a}^{2} \\pi_{c} \\pi_{t} e^{\\left(-2 \\, t\\right)} + \\frac{1}{4} \\, \\pi_{a} \\pi_{c}^{2} \\pi_{t} e^{\\left(-2 \\, t\\right)} + \\frac{3}{4} \\, \\pi_{c}^{3} \\pi_{t} e^{\\left(-2 \\, t\\right)} + \\frac{1}{4} \\, \\pi_{a}^{2} \\pi_{g} \\pi_{t} e^{\\left(-2 \\, t\\right)} - \\frac{3}{2} \\, \\pi_{a} \\pi_{c} \\pi_{g} \\pi_{t} e^{\\left(-2 \\, t\\right)} + \\frac{1}{4} \\, \\pi_{c}^{2} \\pi_{g} \\pi_{t} e^{\\left(-2 \\, t\\right)} + \\frac{1}{4} \\, \\pi_{a} \\pi_{g}^{2} \\pi_{t} e^{\\left(-2 \\, t\\right)} + \\frac{1}{4} \\, \\pi_{c} \\pi_{g}^{2} \\pi_{t} e^{\\left(-2 \\, t\\right)} + \\frac{3}{4} \\, \\pi_{g}^{3} \\pi_{t} e^{\\left(-2 \\, t\\right)} - \\frac{11}{8} \\, \\pi_{a}^{2} \\pi_{t}^{2} e^{\\left(-2 \\, t\\right)} + \\frac{1}{4} \\, \\pi_{a} \\pi_{c} \\pi_{t}^{2} e^{\\left(-2 \\, t\\right)} - \\frac{11}{8} \\, \\pi_{c}^{2} \\pi_{t}^{2} e^{\\left(-2 \\, t\\right)} + \\frac{1}{4} \\, \\pi_{a} \\pi_{g} \\pi_{t}^{2} e^{\\left(-2 \\, t\\right)} + \\frac{1}{4} \\, \\pi_{c} \\pi_{g} \\pi_{t}^{2} e^{\\left(-2 \\, t\\right)} - \\frac{11}{8} \\, \\pi_{g}^{2} \\pi_{t}^{2} e^{\\left(-2 \\, t\\right)} + \\frac{3}{4} \\, \\pi_{a} \\pi_{t}^{3} e^{\\left(-2 \\, t\\right)} + \\frac{3}{4} \\, \\pi_{c} \\pi_{t}^{3} e^{\\left(-2 \\, t\\right)} + \\frac{3}{4} \\, \\pi_{g} \\pi_{t}^{3} e^{\\left(-2 \\, t\\right)} - \\frac{9}{16} \\, \\pi_{t}^{4} e^{\\left(-2 \\, t\\right)} - \\frac{9}{16} \\, \\pi_{a}^{4} + \\frac{3}{4} \\, \\pi_{a}^{3} \\pi_{c} - \\frac{11}{8} \\, \\pi_{a}^{2} \\pi_{c}^{2} + \\frac{3}{4} \\, \\pi_{a} \\pi_{c}^{3} - \\frac{9}{16} \\, \\pi_{c}^{4} + \\frac{3}{4} \\, \\pi_{a}^{3} \\pi_{g} + \\frac{1}{4} \\, \\pi_{a}^{2} \\pi_{c} \\pi_{g} + \\frac{1}{4} \\, \\pi_{a} \\pi_{c}^{2} \\pi_{g} + \\frac{3}{4} \\, \\pi_{c}^{3} \\pi_{g} - \\frac{11}{8} \\, \\pi_{a}^{2} \\pi_{g}^{2} + \\frac{1}{4} \\, \\pi_{a} \\pi_{c} \\pi_{g}^{2} - \\frac{11}{8} \\, \\pi_{c}^{2} \\pi_{g}^{2} + \\frac{3}{4} \\, \\pi_{a} \\pi_{g}^{3} + \\frac{3}{4} \\, \\pi_{c} \\pi_{g}^{3} - \\frac{9}{16} \\, \\pi_{g}^{4} + \\frac{3}{4} \\, \\pi_{a}^{3} \\pi_{t} + \\frac{1}{4} \\, \\pi_{a}^{2} \\pi_{c} \\pi_{t} + \\frac{1}{4} \\, \\pi_{a} \\pi_{c}^{2} \\pi_{t} + \\frac{3}{4} \\, \\pi_{c}^{3} \\pi_{t} + \\frac{1}{4} \\, \\pi_{a}^{2} \\pi_{g} \\pi_{t} - \\frac{3}{2} \\, \\pi_{a} \\pi_{c} \\pi_{g} \\pi_{t} + \\frac{1}{4} \\, \\pi_{c}^{2} \\pi_{g} \\pi_{t} + \\frac{1}{4} \\, \\pi_{a} \\pi_{g}^{2} \\pi_{t} + \\frac{1}{4} \\, \\pi_{c} \\pi_{g}^{2} \\pi_{t} + \\frac{3}{4} \\, \\pi_{g}^{3} \\pi_{t} - \\frac{11}{8} \\, \\pi_{a}^{2} \\pi_{t}^{2} + \\frac{1}{4} \\, \\pi_{a} \\pi_{c} \\pi_{t}^{2} - \\frac{11}{8} \\, \\pi_{c}^{2} \\pi_{t}^{2} + \\frac{1}{4} \\, \\pi_{a} \\pi_{g} \\pi_{t}^{2} + \\frac{1}{4} \\, \\pi_{c} \\pi_{g} \\pi_{t}^{2} - \\frac{11}{8} \\, \\pi_{g}^{2} \\pi_{t}^{2} + \\frac{3}{4} \\, \\pi_{a} \\pi_{t}^{3} + \\frac{3}{4} \\, \\pi_{c} \\pi_{t}^{3} + \\frac{3}{4} \\, \\pi_{g} \\pi_{t}^{3} - \\frac{9}{16} \\, \\pi_{t}^{4} - \\frac{3}{4} \\, \\pi_{a}^{2} e^{\\left(-t\\right)} + \\frac{1}{2} \\, \\pi_{a} \\pi_{c} e^{\\left(-t\\right)} - \\frac{3}{4} \\, \\pi_{c}^{2} e^{\\left(-t\\right)} + \\frac{1}{2} \\, \\pi_{a} \\pi_{g} e^{\\left(-t\\right)} + \\frac{1}{2} \\, \\pi_{c} \\pi_{g} e^{\\left(-t\\right)} - \\frac{3}{4} \\, \\pi_{g}^{2} e^{\\left(-t\\right)} + \\frac{1}{2} \\, \\pi_{a} \\pi_{t} e^{\\left(-t\\right)} + \\frac{1}{2} \\, \\pi_{c} \\pi_{t} e^{\\left(-t\\right)} + \\frac{1}{2} \\, \\pi_{g} \\pi_{t} e^{\\left(-t\\right)} - \\frac{3}{4} \\, \\pi_{t}^{2} e^{\\left(-t\\right)} + \\frac{9}{8} \\, \\pi_{a}^{2} e^{\\left(-2 \\, t\\right)} - \\frac{3}{4} \\, \\pi_{a} \\pi_{c} e^{\\left(-2 \\, t\\right)} + \\frac{9}{8} \\, \\pi_{c}^{2} e^{\\left(-2 \\, t\\right)} - \\frac{3}{4} \\, \\pi_{a} \\pi_{g} e^{\\left(-2 \\, t\\right)} - \\frac{3}{4} \\, \\pi_{c} \\pi_{g} e^{\\left(-2 \\, t\\right)} + \\frac{9}{8} \\, \\pi_{g}^{2} e^{\\left(-2 \\, t\\right)} - \\frac{3}{4} \\, \\pi_{a} \\pi_{t} e^{\\left(-2 \\, t\\right)} - \\frac{3}{4} \\, \\pi_{c} \\pi_{t} e^{\\left(-2 \\, t\\right)} - \\frac{3}{4} \\, \\pi_{g} \\pi_{t} e^{\\left(-2 \\, t\\right)} + \\frac{9}{8} \\, \\pi_{t}^{2} e^{\\left(-2 \\, t\\right)} - \\frac{3}{8} \\, \\pi_{a}^{2} + \\frac{1}{4} \\, \\pi_{a} \\pi_{c} - \\frac{3}{8} \\, \\pi_{c}^{2} + \\frac{1}{4} \\, \\pi_{a} \\pi_{g} + \\frac{1}{4} \\, \\pi_{c} \\pi_{g} - \\frac{3}{8} \\, \\pi_{g}^{2} + \\frac{1}{4} \\, \\pi_{a} \\pi_{t} + \\frac{1}{4} \\, \\pi_{c} \\pi_{t} + \\frac{1}{4} \\, \\pi_{g} \\pi_{t} - \\frac{3}{8} \\, \\pi_{t}^{2} - \\frac{3}{8} \\, e^{\\left(-t\\right)} - \\frac{9}{16} \\, e^{\\left(-2 \\, t\\right)} + \\frac{15}{16}$"
      ],
      "text/plain": [
       "9/8*pi_a^4*e^(-t) - 3/2*pi_a^3*pi_c*e^(-t) + 11/4*pi_a^2*pi_c^2*e^(-t) - 3/2*pi_a*pi_c^3*e^(-t) + 9/8*pi_c^4*e^(-t) - 3/2*pi_a^3*pi_g*e^(-t) - 1/2*pi_a^2*pi_c*pi_g*e^(-t) - 1/2*pi_a*pi_c^2*pi_g*e^(-t) - 3/2*pi_c^3*pi_g*e^(-t) + 11/4*pi_a^2*pi_g^2*e^(-t) - 1/2*pi_a*pi_c*pi_g^2*e^(-t) + 11/4*pi_c^2*pi_g^2*e^(-t) - 3/2*pi_a*pi_g^3*e^(-t) - 3/2*pi_c*pi_g^3*e^(-t) + 9/8*pi_g^4*e^(-t) - 3/2*pi_a^3*pi_t*e^(-t) - 1/2*pi_a^2*pi_c*pi_t*e^(-t) - 1/2*pi_a*pi_c^2*pi_t*e^(-t) - 3/2*pi_c^3*pi_t*e^(-t) - 1/2*pi_a^2*pi_g*pi_t*e^(-t) + 3*pi_a*pi_c*pi_g*pi_t*e^(-t) - 1/2*pi_c^2*pi_g*pi_t*e^(-t) - 1/2*pi_a*pi_g^2*pi_t*e^(-t) - 1/2*pi_c*pi_g^2*pi_t*e^(-t) - 3/2*pi_g^3*pi_t*e^(-t) + 11/4*pi_a^2*pi_t^2*e^(-t) - 1/2*pi_a*pi_c*pi_t^2*e^(-t) + 11/4*pi_c^2*pi_t^2*e^(-t) - 1/2*pi_a*pi_g*pi_t^2*e^(-t) - 1/2*pi_c*pi_g*pi_t^2*e^(-t) + 11/4*pi_g^2*pi_t^2*e^(-t) - 3/2*pi_a*pi_t^3*e^(-t) - 3/2*pi_c*pi_t^3*e^(-t) - 3/2*pi_g*pi_t^3*e^(-t) + 9/8*pi_t^4*e^(-t) - 9/16*pi_a^4*e^(-2*t) + 3/4*pi_a^3*pi_c*e^(-2*t) - 11/8*pi_a^2*pi_c^2*e^(-2*t) + 3/4*pi_a*pi_c^3*e^(-2*t) - 9/16*pi_c^4*e^(-2*t) + 3/4*pi_a^3*pi_g*e^(-2*t) + 1/4*pi_a^2*pi_c*pi_g*e^(-2*t) + 1/4*pi_a*pi_c^2*pi_g*e^(-2*t) + 3/4*pi_c^3*pi_g*e^(-2*t) - 11/8*pi_a^2*pi_g^2*e^(-2*t) + 1/4*pi_a*pi_c*pi_g^2*e^(-2*t) - 11/8*pi_c^2*pi_g^2*e^(-2*t) + 3/4*pi_a*pi_g^3*e^(-2*t) + 3/4*pi_c*pi_g^3*e^(-2*t) - 9/16*pi_g^4*e^(-2*t) + 3/4*pi_a^3*pi_t*e^(-2*t) + 1/4*pi_a^2*pi_c*pi_t*e^(-2*t) + 1/4*pi_a*pi_c^2*pi_t*e^(-2*t) + 3/4*pi_c^3*pi_t*e^(-2*t) + 1/4*pi_a^2*pi_g*pi_t*e^(-2*t) - 3/2*pi_a*pi_c*pi_g*pi_t*e^(-2*t) + 1/4*pi_c^2*pi_g*pi_t*e^(-2*t) + 1/4*pi_a*pi_g^2*pi_t*e^(-2*t) + 1/4*pi_c*pi_g^2*pi_t*e^(-2*t) + 3/4*pi_g^3*pi_t*e^(-2*t) - 11/8*pi_a^2*pi_t^2*e^(-2*t) + 1/4*pi_a*pi_c*pi_t^2*e^(-2*t) - 11/8*pi_c^2*pi_t^2*e^(-2*t) + 1/4*pi_a*pi_g*pi_t^2*e^(-2*t) + 1/4*pi_c*pi_g*pi_t^2*e^(-2*t) - 11/8*pi_g^2*pi_t^2*e^(-2*t) + 3/4*pi_a*pi_t^3*e^(-2*t) + 3/4*pi_c*pi_t^3*e^(-2*t) + 3/4*pi_g*pi_t^3*e^(-2*t) - 9/16*pi_t^4*e^(-2*t) - 9/16*pi_a^4 + 3/4*pi_a^3*pi_c - 11/8*pi_a^2*pi_c^2 + 3/4*pi_a*pi_c^3 - 9/16*pi_c^4 + 3/4*pi_a^3*pi_g + 1/4*pi_a^2*pi_c*pi_g + 1/4*pi_a*pi_c^2*pi_g + 3/4*pi_c^3*pi_g - 11/8*pi_a^2*pi_g^2 + 1/4*pi_a*pi_c*pi_g^2 - 11/8*pi_c^2*pi_g^2 + 3/4*pi_a*pi_g^3 + 3/4*pi_c*pi_g^3 - 9/16*pi_g^4 + 3/4*pi_a^3*pi_t + 1/4*pi_a^2*pi_c*pi_t + 1/4*pi_a*pi_c^2*pi_t + 3/4*pi_c^3*pi_t + 1/4*pi_a^2*pi_g*pi_t - 3/2*pi_a*pi_c*pi_g*pi_t + 1/4*pi_c^2*pi_g*pi_t + 1/4*pi_a*pi_g^2*pi_t + 1/4*pi_c*pi_g^2*pi_t + 3/4*pi_g^3*pi_t - 11/8*pi_a^2*pi_t^2 + 1/4*pi_a*pi_c*pi_t^2 - 11/8*pi_c^2*pi_t^2 + 1/4*pi_a*pi_g*pi_t^2 + 1/4*pi_c*pi_g*pi_t^2 - 11/8*pi_g^2*pi_t^2 + 3/4*pi_a*pi_t^3 + 3/4*pi_c*pi_t^3 + 3/4*pi_g*pi_t^3 - 9/16*pi_t^4 - 3/4*pi_a^2*e^(-t) + 1/2*pi_a*pi_c*e^(-t) - 3/4*pi_c^2*e^(-t) + 1/2*pi_a*pi_g*e^(-t) + 1/2*pi_c*pi_g*e^(-t) - 3/4*pi_g^2*e^(-t) + 1/2*pi_a*pi_t*e^(-t) + 1/2*pi_c*pi_t*e^(-t) + 1/2*pi_g*pi_t*e^(-t) - 3/4*pi_t^2*e^(-t) + 9/8*pi_a^2*e^(-2*t) - 3/4*pi_a*pi_c*e^(-2*t) + 9/8*pi_c^2*e^(-2*t) - 3/4*pi_a*pi_g*e^(-2*t) - 3/4*pi_c*pi_g*e^(-2*t) + 9/8*pi_g^2*e^(-2*t) - 3/4*pi_a*pi_t*e^(-2*t) - 3/4*pi_c*pi_t*e^(-2*t) - 3/4*pi_g*pi_t*e^(-2*t) + 9/8*pi_t^2*e^(-2*t) - 3/8*pi_a^2 + 1/4*pi_a*pi_c - 3/8*pi_c^2 + 1/4*pi_a*pi_g + 1/4*pi_c*pi_g - 3/8*pi_g^2 + 1/4*pi_a*pi_t + 1/4*pi_c*pi_t + 1/4*pi_g*pi_t - 3/8*pi_t^2 - 3/8*e^(-t) - 9/16*e^(-2*t) + 15/16"
      ]
     },
     "metadata": {},
     "output_type": "display_data"
    }
   ],
   "source": [
    "pretty_print(p_hat_f16t)"
   ]
  },
  {
   "cell_type": "code",
   "execution_count": 124,
   "id": "d33e789e-4944-4ff6-8615-866eedcf49f2",
   "metadata": {},
   "outputs": [
    {
     "data": {
      "text/html": [
       "<html>\\(\\displaystyle -\\frac{1}{64} \\, {\\left(51 \\, \\tau_{1}^{4} {\\left(e^{\\left(2 \\, t\\right)} - 2 \\, e^{t} + 1\\right)} + 224 \\, \\tau_{1} \\tau_{2}^{3} {\\left(e^{\\left(2 \\, t\\right)} - 2 \\, e^{t} + 1\\right)} + 112 \\, \\tau_{2}^{4} {\\left(e^{\\left(2 \\, t\\right)} - 2 \\, e^{t} + 1\\right)} + 51 \\, \\tau_{3}^{4} {\\left(e^{\\left(2 \\, t\\right)} - 2 \\, e^{t} + 1\\right)} + 4 \\, {\\left(17 \\, \\tau_{1} {\\left(e^{\\left(2 \\, t\\right)} - 2 \\, e^{t} + 1\\right)} + 34 \\, \\tau_{2} {\\left(e^{\\left(2 \\, t\\right)} - 2 \\, e^{t} + 1\\right)} - 6 \\, e^{\\left(2 \\, t\\right)} + 12 \\, e^{t} - 6\\right)} \\tau_{3}^{3} + 24 \\, \\tau_{1}^{3} {\\left(e^{\\left(2 \\, t\\right)} - 2 \\, e^{t} + 1\\right)} + 8 \\, {\\left(31 \\, \\tau_{1}^{2} {\\left(e^{\\left(2 \\, t\\right)} - 2 \\, e^{t} + 1\\right)} + 5 \\, e^{\\left(2 \\, t\\right)} + 6 \\, e^{t} - 11\\right)} \\tau_{2}^{2} + 2 \\, {\\left(73 \\, \\tau_{1}^{2} {\\left(e^{\\left(2 \\, t\\right)} - 2 \\, e^{t} + 1\\right)} + 124 \\, \\tau_{2}^{2} {\\left(e^{\\left(2 \\, t\\right)} - 2 \\, e^{t} + 1\\right)} + 4 \\, {\\left(31 \\, \\tau_{1} {\\left(e^{\\left(2 \\, t\\right)} - 2 \\, e^{t} + 1\\right)} - 6 \\, e^{\\left(2 \\, t\\right)} + 12 \\, e^{t} - 6\\right)} \\tau_{2} - 12 \\, \\tau_{1} {\\left(e^{\\left(2 \\, t\\right)} - 2 \\, e^{t} + 1\\right)} + 15 \\, e^{\\left(2 \\, t\\right)} + 18 \\, e^{t} - 33\\right)} \\tau_{3}^{2} + 6 \\, \\tau_{1}^{2} {\\left(5 \\, e^{\\left(2 \\, t\\right)} + 6 \\, e^{t} - 11\\right)} + 8 \\, {\\left(17 \\, \\tau_{1}^{3} {\\left(e^{\\left(2 \\, t\\right)} - 2 \\, e^{t} + 1\\right)} + 6 \\, \\tau_{1}^{2} {\\left(e^{\\left(2 \\, t\\right)} - 2 \\, e^{t} + 1\\right)} + \\tau_{1} {\\left(5 \\, e^{\\left(2 \\, t\\right)} + 6 \\, e^{t} - 11\\right)}\\right)} \\tau_{2} + 4 \\, {\\left(17 \\, \\tau_{1}^{3} {\\left(e^{\\left(2 \\, t\\right)} - 2 \\, e^{t} + 1\\right)} + 84 \\, \\tau_{1} \\tau_{2}^{2} {\\left(e^{\\left(2 \\, t\\right)} - 2 \\, e^{t} + 1\\right)} + 56 \\, \\tau_{2}^{3} {\\left(e^{\\left(2 \\, t\\right)} - 2 \\, e^{t} + 1\\right)} + 6 \\, \\tau_{1}^{2} {\\left(e^{\\left(2 \\, t\\right)} - 2 \\, e^{t} + 1\\right)} + 2 \\, {\\left(31 \\, \\tau_{1}^{2} {\\left(e^{\\left(2 \\, t\\right)} - 2 \\, e^{t} + 1\\right)} + 5 \\, e^{\\left(2 \\, t\\right)} + 6 \\, e^{t} - 11\\right)} \\tau_{2} + \\tau_{1} {\\left(5 \\, e^{\\left(2 \\, t\\right)} + 6 \\, e^{t} - 11\\right)}\\right)} \\tau_{3} - 57 \\, e^{\\left(2 \\, t\\right)} + 18 \\, e^{t} + 39\\right)} e^{\\left(-2 \\, t\\right)}\\)</html>"
      ],
      "text/latex": [
       "$\\displaystyle -\\frac{1}{64} \\, {\\left(51 \\, \\tau_{1}^{4} {\\left(e^{\\left(2 \\, t\\right)} - 2 \\, e^{t} + 1\\right)} + 224 \\, \\tau_{1} \\tau_{2}^{3} {\\left(e^{\\left(2 \\, t\\right)} - 2 \\, e^{t} + 1\\right)} + 112 \\, \\tau_{2}^{4} {\\left(e^{\\left(2 \\, t\\right)} - 2 \\, e^{t} + 1\\right)} + 51 \\, \\tau_{3}^{4} {\\left(e^{\\left(2 \\, t\\right)} - 2 \\, e^{t} + 1\\right)} + 4 \\, {\\left(17 \\, \\tau_{1} {\\left(e^{\\left(2 \\, t\\right)} - 2 \\, e^{t} + 1\\right)} + 34 \\, \\tau_{2} {\\left(e^{\\left(2 \\, t\\right)} - 2 \\, e^{t} + 1\\right)} - 6 \\, e^{\\left(2 \\, t\\right)} + 12 \\, e^{t} - 6\\right)} \\tau_{3}^{3} + 24 \\, \\tau_{1}^{3} {\\left(e^{\\left(2 \\, t\\right)} - 2 \\, e^{t} + 1\\right)} + 8 \\, {\\left(31 \\, \\tau_{1}^{2} {\\left(e^{\\left(2 \\, t\\right)} - 2 \\, e^{t} + 1\\right)} + 5 \\, e^{\\left(2 \\, t\\right)} + 6 \\, e^{t} - 11\\right)} \\tau_{2}^{2} + 2 \\, {\\left(73 \\, \\tau_{1}^{2} {\\left(e^{\\left(2 \\, t\\right)} - 2 \\, e^{t} + 1\\right)} + 124 \\, \\tau_{2}^{2} {\\left(e^{\\left(2 \\, t\\right)} - 2 \\, e^{t} + 1\\right)} + 4 \\, {\\left(31 \\, \\tau_{1} {\\left(e^{\\left(2 \\, t\\right)} - 2 \\, e^{t} + 1\\right)} - 6 \\, e^{\\left(2 \\, t\\right)} + 12 \\, e^{t} - 6\\right)} \\tau_{2} - 12 \\, \\tau_{1} {\\left(e^{\\left(2 \\, t\\right)} - 2 \\, e^{t} + 1\\right)} + 15 \\, e^{\\left(2 \\, t\\right)} + 18 \\, e^{t} - 33\\right)} \\tau_{3}^{2} + 6 \\, \\tau_{1}^{2} {\\left(5 \\, e^{\\left(2 \\, t\\right)} + 6 \\, e^{t} - 11\\right)} + 8 \\, {\\left(17 \\, \\tau_{1}^{3} {\\left(e^{\\left(2 \\, t\\right)} - 2 \\, e^{t} + 1\\right)} + 6 \\, \\tau_{1}^{2} {\\left(e^{\\left(2 \\, t\\right)} - 2 \\, e^{t} + 1\\right)} + \\tau_{1} {\\left(5 \\, e^{\\left(2 \\, t\\right)} + 6 \\, e^{t} - 11\\right)}\\right)} \\tau_{2} + 4 \\, {\\left(17 \\, \\tau_{1}^{3} {\\left(e^{\\left(2 \\, t\\right)} - 2 \\, e^{t} + 1\\right)} + 84 \\, \\tau_{1} \\tau_{2}^{2} {\\left(e^{\\left(2 \\, t\\right)} - 2 \\, e^{t} + 1\\right)} + 56 \\, \\tau_{2}^{3} {\\left(e^{\\left(2 \\, t\\right)} - 2 \\, e^{t} + 1\\right)} + 6 \\, \\tau_{1}^{2} {\\left(e^{\\left(2 \\, t\\right)} - 2 \\, e^{t} + 1\\right)} + 2 \\, {\\left(31 \\, \\tau_{1}^{2} {\\left(e^{\\left(2 \\, t\\right)} - 2 \\, e^{t} + 1\\right)} + 5 \\, e^{\\left(2 \\, t\\right)} + 6 \\, e^{t} - 11\\right)} \\tau_{2} + \\tau_{1} {\\left(5 \\, e^{\\left(2 \\, t\\right)} + 6 \\, e^{t} - 11\\right)}\\right)} \\tau_{3} - 57 \\, e^{\\left(2 \\, t\\right)} + 18 \\, e^{t} + 39\\right)} e^{\\left(-2 \\, t\\right)}$"
      ],
      "text/plain": [
       "-1/64*(51*tau_1^4*(e^(2*t) - 2*e^t + 1) + 224*tau_1*tau_2^3*(e^(2*t) - 2*e^t + 1) + 112*tau_2^4*(e^(2*t) - 2*e^t + 1) + 51*tau_3^4*(e^(2*t) - 2*e^t + 1) + 4*(17*tau_1*(e^(2*t) - 2*e^t + 1) + 34*tau_2*(e^(2*t) - 2*e^t + 1) - 6*e^(2*t) + 12*e^t - 6)*tau_3^3 + 24*tau_1^3*(e^(2*t) - 2*e^t + 1) + 8*(31*tau_1^2*(e^(2*t) - 2*e^t + 1) + 5*e^(2*t) + 6*e^t - 11)*tau_2^2 + 2*(73*tau_1^2*(e^(2*t) - 2*e^t + 1) + 124*tau_2^2*(e^(2*t) - 2*e^t + 1) + 4*(31*tau_1*(e^(2*t) - 2*e^t + 1) - 6*e^(2*t) + 12*e^t - 6)*tau_2 - 12*tau_1*(e^(2*t) - 2*e^t + 1) + 15*e^(2*t) + 18*e^t - 33)*tau_3^2 + 6*tau_1^2*(5*e^(2*t) + 6*e^t - 11) + 8*(17*tau_1^3*(e^(2*t) - 2*e^t + 1) + 6*tau_1^2*(e^(2*t) - 2*e^t + 1) + tau_1*(5*e^(2*t) + 6*e^t - 11))*tau_2 + 4*(17*tau_1^3*(e^(2*t) - 2*e^t + 1) + 84*tau_1*tau_2^2*(e^(2*t) - 2*e^t + 1) + 56*tau_2^3*(e^(2*t) - 2*e^t + 1) + 6*tau_1^2*(e^(2*t) - 2*e^t + 1) + 2*(31*tau_1^2*(e^(2*t) - 2*e^t + 1) + 5*e^(2*t) + 6*e^t - 11)*tau_2 + tau_1*(5*e^(2*t) + 6*e^t - 11))*tau_3 - 57*e^(2*t) + 18*e^t + 39)*e^(-2*t)"
      ]
     },
     "metadata": {},
     "output_type": "display_data"
    }
   ],
   "source": [
    "temp = p_hat_f10t.simplify_full()(pi_t=tau_3+pi_g)(pi_g=tau_2+pi_c)(pi_c=tau_1+pi_a)(pi_a=(1-3*tau_1-2*tau_2-tau_3)/4).simplify_full()\n",
    "pretty_print(temp)"
   ]
  },
  {
   "cell_type": "code",
   "execution_count": 125,
   "id": "d8f40273-dbd8-4b8b-9edc-e43cdf5c747d",
   "metadata": {},
   "outputs": [
    {
     "data": {
      "text/html": [
       "<html>\\(\\displaystyle \\frac{51}{32} \\, \\pi_{a}^{4} e^{\\left(-t\\right)} - \\frac{17}{8} \\, \\pi_{a}^{3} \\pi_{c} e^{\\left(-t\\right)} + \\frac{73}{16} \\, \\pi_{a}^{2} \\pi_{c}^{2} e^{\\left(-t\\right)} - \\frac{17}{8} \\, \\pi_{a} \\pi_{c}^{3} e^{\\left(-t\\right)} + \\frac{51}{32} \\, \\pi_{c}^{4} e^{\\left(-t\\right)} - \\frac{17}{8} \\, \\pi_{a}^{3} \\pi_{g} e^{\\left(-t\\right)} - \\frac{11}{8} \\, \\pi_{a}^{2} \\pi_{c} \\pi_{g} e^{\\left(-t\\right)} - \\frac{11}{8} \\, \\pi_{a} \\pi_{c}^{2} \\pi_{g} e^{\\left(-t\\right)} - \\frac{17}{8} \\, \\pi_{c}^{3} \\pi_{g} e^{\\left(-t\\right)} + \\frac{73}{16} \\, \\pi_{a}^{2} \\pi_{g}^{2} e^{\\left(-t\\right)} - \\frac{11}{8} \\, \\pi_{a} \\pi_{c} \\pi_{g}^{2} e^{\\left(-t\\right)} + \\frac{73}{16} \\, \\pi_{c}^{2} \\pi_{g}^{2} e^{\\left(-t\\right)} - \\frac{17}{8} \\, \\pi_{a} \\pi_{g}^{3} e^{\\left(-t\\right)} - \\frac{17}{8} \\, \\pi_{c} \\pi_{g}^{3} e^{\\left(-t\\right)} + \\frac{51}{32} \\, \\pi_{g}^{4} e^{\\left(-t\\right)} - \\frac{17}{8} \\, \\pi_{a}^{3} \\pi_{t} e^{\\left(-t\\right)} - \\frac{11}{8} \\, \\pi_{a}^{2} \\pi_{c} \\pi_{t} e^{\\left(-t\\right)} - \\frac{11}{8} \\, \\pi_{a} \\pi_{c}^{2} \\pi_{t} e^{\\left(-t\\right)} - \\frac{17}{8} \\, \\pi_{c}^{3} \\pi_{t} e^{\\left(-t\\right)} - \\frac{11}{8} \\, \\pi_{a}^{2} \\pi_{g} \\pi_{t} e^{\\left(-t\\right)} + \\frac{33}{4} \\, \\pi_{a} \\pi_{c} \\pi_{g} \\pi_{t} e^{\\left(-t\\right)} - \\frac{11}{8} \\, \\pi_{c}^{2} \\pi_{g} \\pi_{t} e^{\\left(-t\\right)} - \\frac{11}{8} \\, \\pi_{a} \\pi_{g}^{2} \\pi_{t} e^{\\left(-t\\right)} - \\frac{11}{8} \\, \\pi_{c} \\pi_{g}^{2} \\pi_{t} e^{\\left(-t\\right)} - \\frac{17}{8} \\, \\pi_{g}^{3} \\pi_{t} e^{\\left(-t\\right)} + \\frac{73}{16} \\, \\pi_{a}^{2} \\pi_{t}^{2} e^{\\left(-t\\right)} - \\frac{11}{8} \\, \\pi_{a} \\pi_{c} \\pi_{t}^{2} e^{\\left(-t\\right)} + \\frac{73}{16} \\, \\pi_{c}^{2} \\pi_{t}^{2} e^{\\left(-t\\right)} - \\frac{11}{8} \\, \\pi_{a} \\pi_{g} \\pi_{t}^{2} e^{\\left(-t\\right)} - \\frac{11}{8} \\, \\pi_{c} \\pi_{g} \\pi_{t}^{2} e^{\\left(-t\\right)} + \\frac{73}{16} \\, \\pi_{g}^{2} \\pi_{t}^{2} e^{\\left(-t\\right)} - \\frac{17}{8} \\, \\pi_{a} \\pi_{t}^{3} e^{\\left(-t\\right)} - \\frac{17}{8} \\, \\pi_{c} \\pi_{t}^{3} e^{\\left(-t\\right)} - \\frac{17}{8} \\, \\pi_{g} \\pi_{t}^{3} e^{\\left(-t\\right)} + \\frac{51}{32} \\, \\pi_{t}^{4} e^{\\left(-t\\right)} - \\frac{51}{64} \\, \\pi_{a}^{4} e^{\\left(-2 \\, t\\right)} + \\frac{17}{16} \\, \\pi_{a}^{3} \\pi_{c} e^{\\left(-2 \\, t\\right)} - \\frac{73}{32} \\, \\pi_{a}^{2} \\pi_{c}^{2} e^{\\left(-2 \\, t\\right)} + \\frac{17}{16} \\, \\pi_{a} \\pi_{c}^{3} e^{\\left(-2 \\, t\\right)} - \\frac{51}{64} \\, \\pi_{c}^{4} e^{\\left(-2 \\, t\\right)} + \\frac{17}{16} \\, \\pi_{a}^{3} \\pi_{g} e^{\\left(-2 \\, t\\right)} + \\frac{11}{16} \\, \\pi_{a}^{2} \\pi_{c} \\pi_{g} e^{\\left(-2 \\, t\\right)} + \\frac{11}{16} \\, \\pi_{a} \\pi_{c}^{2} \\pi_{g} e^{\\left(-2 \\, t\\right)} + \\frac{17}{16} \\, \\pi_{c}^{3} \\pi_{g} e^{\\left(-2 \\, t\\right)} - \\frac{73}{32} \\, \\pi_{a}^{2} \\pi_{g}^{2} e^{\\left(-2 \\, t\\right)} + \\frac{11}{16} \\, \\pi_{a} \\pi_{c} \\pi_{g}^{2} e^{\\left(-2 \\, t\\right)} - \\frac{73}{32} \\, \\pi_{c}^{2} \\pi_{g}^{2} e^{\\left(-2 \\, t\\right)} + \\frac{17}{16} \\, \\pi_{a} \\pi_{g}^{3} e^{\\left(-2 \\, t\\right)} + \\frac{17}{16} \\, \\pi_{c} \\pi_{g}^{3} e^{\\left(-2 \\, t\\right)} - \\frac{51}{64} \\, \\pi_{g}^{4} e^{\\left(-2 \\, t\\right)} + \\frac{17}{16} \\, \\pi_{a}^{3} \\pi_{t} e^{\\left(-2 \\, t\\right)} + \\frac{11}{16} \\, \\pi_{a}^{2} \\pi_{c} \\pi_{t} e^{\\left(-2 \\, t\\right)} + \\frac{11}{16} \\, \\pi_{a} \\pi_{c}^{2} \\pi_{t} e^{\\left(-2 \\, t\\right)} + \\frac{17}{16} \\, \\pi_{c}^{3} \\pi_{t} e^{\\left(-2 \\, t\\right)} + \\frac{11}{16} \\, \\pi_{a}^{2} \\pi_{g} \\pi_{t} e^{\\left(-2 \\, t\\right)} - \\frac{33}{8} \\, \\pi_{a} \\pi_{c} \\pi_{g} \\pi_{t} e^{\\left(-2 \\, t\\right)} + \\frac{11}{16} \\, \\pi_{c}^{2} \\pi_{g} \\pi_{t} e^{\\left(-2 \\, t\\right)} + \\frac{11}{16} \\, \\pi_{a} \\pi_{g}^{2} \\pi_{t} e^{\\left(-2 \\, t\\right)} + \\frac{11}{16} \\, \\pi_{c} \\pi_{g}^{2} \\pi_{t} e^{\\left(-2 \\, t\\right)} + \\frac{17}{16} \\, \\pi_{g}^{3} \\pi_{t} e^{\\left(-2 \\, t\\right)} - \\frac{73}{32} \\, \\pi_{a}^{2} \\pi_{t}^{2} e^{\\left(-2 \\, t\\right)} + \\frac{11}{16} \\, \\pi_{a} \\pi_{c} \\pi_{t}^{2} e^{\\left(-2 \\, t\\right)} - \\frac{73}{32} \\, \\pi_{c}^{2} \\pi_{t}^{2} e^{\\left(-2 \\, t\\right)} + \\frac{11}{16} \\, \\pi_{a} \\pi_{g} \\pi_{t}^{2} e^{\\left(-2 \\, t\\right)} + \\frac{11}{16} \\, \\pi_{c} \\pi_{g} \\pi_{t}^{2} e^{\\left(-2 \\, t\\right)} - \\frac{73}{32} \\, \\pi_{g}^{2} \\pi_{t}^{2} e^{\\left(-2 \\, t\\right)} + \\frac{17}{16} \\, \\pi_{a} \\pi_{t}^{3} e^{\\left(-2 \\, t\\right)} + \\frac{17}{16} \\, \\pi_{c} \\pi_{t}^{3} e^{\\left(-2 \\, t\\right)} + \\frac{17}{16} \\, \\pi_{g} \\pi_{t}^{3} e^{\\left(-2 \\, t\\right)} - \\frac{51}{64} \\, \\pi_{t}^{4} e^{\\left(-2 \\, t\\right)} - \\frac{51}{64} \\, \\pi_{a}^{4} + \\frac{17}{16} \\, \\pi_{a}^{3} \\pi_{c} - \\frac{73}{32} \\, \\pi_{a}^{2} \\pi_{c}^{2} + \\frac{17}{16} \\, \\pi_{a} \\pi_{c}^{3} - \\frac{51}{64} \\, \\pi_{c}^{4} + \\frac{17}{16} \\, \\pi_{a}^{3} \\pi_{g} + \\frac{11}{16} \\, \\pi_{a}^{2} \\pi_{c} \\pi_{g} + \\frac{11}{16} \\, \\pi_{a} \\pi_{c}^{2} \\pi_{g} + \\frac{17}{16} \\, \\pi_{c}^{3} \\pi_{g} - \\frac{73}{32} \\, \\pi_{a}^{2} \\pi_{g}^{2} + \\frac{11}{16} \\, \\pi_{a} \\pi_{c} \\pi_{g}^{2} - \\frac{73}{32} \\, \\pi_{c}^{2} \\pi_{g}^{2} + \\frac{17}{16} \\, \\pi_{a} \\pi_{g}^{3} + \\frac{17}{16} \\, \\pi_{c} \\pi_{g}^{3} - \\frac{51}{64} \\, \\pi_{g}^{4} + \\frac{17}{16} \\, \\pi_{a}^{3} \\pi_{t} + \\frac{11}{16} \\, \\pi_{a}^{2} \\pi_{c} \\pi_{t} + \\frac{11}{16} \\, \\pi_{a} \\pi_{c}^{2} \\pi_{t} + \\frac{17}{16} \\, \\pi_{c}^{3} \\pi_{t} + \\frac{11}{16} \\, \\pi_{a}^{2} \\pi_{g} \\pi_{t} - \\frac{33}{8} \\, \\pi_{a} \\pi_{c} \\pi_{g} \\pi_{t} + \\frac{11}{16} \\, \\pi_{c}^{2} \\pi_{g} \\pi_{t} + \\frac{11}{16} \\, \\pi_{a} \\pi_{g}^{2} \\pi_{t} + \\frac{11}{16} \\, \\pi_{c} \\pi_{g}^{2} \\pi_{t} + \\frac{17}{16} \\, \\pi_{g}^{3} \\pi_{t} - \\frac{73}{32} \\, \\pi_{a}^{2} \\pi_{t}^{2} + \\frac{11}{16} \\, \\pi_{a} \\pi_{c} \\pi_{t}^{2} - \\frac{73}{32} \\, \\pi_{c}^{2} \\pi_{t}^{2} + \\frac{11}{16} \\, \\pi_{a} \\pi_{g} \\pi_{t}^{2} + \\frac{11}{16} \\, \\pi_{c} \\pi_{g} \\pi_{t}^{2} - \\frac{73}{32} \\, \\pi_{g}^{2} \\pi_{t}^{2} + \\frac{17}{16} \\, \\pi_{a} \\pi_{t}^{3} + \\frac{17}{16} \\, \\pi_{c} \\pi_{t}^{3} + \\frac{17}{16} \\, \\pi_{g} \\pi_{t}^{3} - \\frac{51}{64} \\, \\pi_{t}^{4} - \\frac{3}{4} \\, \\pi_{a}^{3} e^{\\left(-t\\right)} + \\frac{3}{4} \\, \\pi_{a}^{2} \\pi_{c} e^{\\left(-t\\right)} + \\frac{3}{4} \\, \\pi_{a} \\pi_{c}^{2} e^{\\left(-t\\right)} - \\frac{3}{4} \\, \\pi_{c}^{3} e^{\\left(-t\\right)} + \\frac{3}{4} \\, \\pi_{a}^{2} \\pi_{g} e^{\\left(-t\\right)} - \\frac{3}{2} \\, \\pi_{a} \\pi_{c} \\pi_{g} e^{\\left(-t\\right)} + \\frac{3}{4} \\, \\pi_{c}^{2} \\pi_{g} e^{\\left(-t\\right)} + \\frac{3}{4} \\, \\pi_{a} \\pi_{g}^{2} e^{\\left(-t\\right)} + \\frac{3}{4} \\, \\pi_{c} \\pi_{g}^{2} e^{\\left(-t\\right)} - \\frac{3}{4} \\, \\pi_{g}^{3} e^{\\left(-t\\right)} + \\frac{3}{4} \\, \\pi_{a}^{2} \\pi_{t} e^{\\left(-t\\right)} - \\frac{3}{2} \\, \\pi_{a} \\pi_{c} \\pi_{t} e^{\\left(-t\\right)} + \\frac{3}{4} \\, \\pi_{c}^{2} \\pi_{t} e^{\\left(-t\\right)} - \\frac{3}{2} \\, \\pi_{a} \\pi_{g} \\pi_{t} e^{\\left(-t\\right)} - \\frac{3}{2} \\, \\pi_{c} \\pi_{g} \\pi_{t} e^{\\left(-t\\right)} + \\frac{3}{4} \\, \\pi_{g}^{2} \\pi_{t} e^{\\left(-t\\right)} + \\frac{3}{4} \\, \\pi_{a} \\pi_{t}^{2} e^{\\left(-t\\right)} + \\frac{3}{4} \\, \\pi_{c} \\pi_{t}^{2} e^{\\left(-t\\right)} + \\frac{3}{4} \\, \\pi_{g} \\pi_{t}^{2} e^{\\left(-t\\right)} - \\frac{3}{4} \\, \\pi_{t}^{3} e^{\\left(-t\\right)} + \\frac{3}{8} \\, \\pi_{a}^{3} e^{\\left(-2 \\, t\\right)} - \\frac{3}{8} \\, \\pi_{a}^{2} \\pi_{c} e^{\\left(-2 \\, t\\right)} - \\frac{3}{8} \\, \\pi_{a} \\pi_{c}^{2} e^{\\left(-2 \\, t\\right)} + \\frac{3}{8} \\, \\pi_{c}^{3} e^{\\left(-2 \\, t\\right)} - \\frac{3}{8} \\, \\pi_{a}^{2} \\pi_{g} e^{\\left(-2 \\, t\\right)} + \\frac{3}{4} \\, \\pi_{a} \\pi_{c} \\pi_{g} e^{\\left(-2 \\, t\\right)} - \\frac{3}{8} \\, \\pi_{c}^{2} \\pi_{g} e^{\\left(-2 \\, t\\right)} - \\frac{3}{8} \\, \\pi_{a} \\pi_{g}^{2} e^{\\left(-2 \\, t\\right)} - \\frac{3}{8} \\, \\pi_{c} \\pi_{g}^{2} e^{\\left(-2 \\, t\\right)} + \\frac{3}{8} \\, \\pi_{g}^{3} e^{\\left(-2 \\, t\\right)} - \\frac{3}{8} \\, \\pi_{a}^{2} \\pi_{t} e^{\\left(-2 \\, t\\right)} + \\frac{3}{4} \\, \\pi_{a} \\pi_{c} \\pi_{t} e^{\\left(-2 \\, t\\right)} - \\frac{3}{8} \\, \\pi_{c}^{2} \\pi_{t} e^{\\left(-2 \\, t\\right)} + \\frac{3}{4} \\, \\pi_{a} \\pi_{g} \\pi_{t} e^{\\left(-2 \\, t\\right)} + \\frac{3}{4} \\, \\pi_{c} \\pi_{g} \\pi_{t} e^{\\left(-2 \\, t\\right)} - \\frac{3}{8} \\, \\pi_{g}^{2} \\pi_{t} e^{\\left(-2 \\, t\\right)} - \\frac{3}{8} \\, \\pi_{a} \\pi_{t}^{2} e^{\\left(-2 \\, t\\right)} - \\frac{3}{8} \\, \\pi_{c} \\pi_{t}^{2} e^{\\left(-2 \\, t\\right)} - \\frac{3}{8} \\, \\pi_{g} \\pi_{t}^{2} e^{\\left(-2 \\, t\\right)} + \\frac{3}{8} \\, \\pi_{t}^{3} e^{\\left(-2 \\, t\\right)} + \\frac{3}{8} \\, \\pi_{a}^{3} - \\frac{3}{8} \\, \\pi_{a}^{2} \\pi_{c} - \\frac{3}{8} \\, \\pi_{a} \\pi_{c}^{2} + \\frac{3}{8} \\, \\pi_{c}^{3} - \\frac{3}{8} \\, \\pi_{a}^{2} \\pi_{g} + \\frac{3}{4} \\, \\pi_{a} \\pi_{c} \\pi_{g} - \\frac{3}{8} \\, \\pi_{c}^{2} \\pi_{g} - \\frac{3}{8} \\, \\pi_{a} \\pi_{g}^{2} - \\frac{3}{8} \\, \\pi_{c} \\pi_{g}^{2} + \\frac{3}{8} \\, \\pi_{g}^{3} - \\frac{3}{8} \\, \\pi_{a}^{2} \\pi_{t} + \\frac{3}{4} \\, \\pi_{a} \\pi_{c} \\pi_{t} - \\frac{3}{8} \\, \\pi_{c}^{2} \\pi_{t} + \\frac{3}{4} \\, \\pi_{a} \\pi_{g} \\pi_{t} + \\frac{3}{4} \\, \\pi_{c} \\pi_{g} \\pi_{t} - \\frac{3}{8} \\, \\pi_{g}^{2} \\pi_{t} - \\frac{3}{8} \\, \\pi_{a} \\pi_{t}^{2} - \\frac{3}{8} \\, \\pi_{c} \\pi_{t}^{2} - \\frac{3}{8} \\, \\pi_{g} \\pi_{t}^{2} + \\frac{3}{8} \\, \\pi_{t}^{3} - \\frac{9}{16} \\, \\pi_{a}^{2} e^{\\left(-t\\right)} + \\frac{3}{8} \\, \\pi_{a} \\pi_{c} e^{\\left(-t\\right)} - \\frac{9}{16} \\, \\pi_{c}^{2} e^{\\left(-t\\right)} + \\frac{3}{8} \\, \\pi_{a} \\pi_{g} e^{\\left(-t\\right)} + \\frac{3}{8} \\, \\pi_{c} \\pi_{g} e^{\\left(-t\\right)} - \\frac{9}{16} \\, \\pi_{g}^{2} e^{\\left(-t\\right)} + \\frac{3}{8} \\, \\pi_{a} \\pi_{t} e^{\\left(-t\\right)} + \\frac{3}{8} \\, \\pi_{c} \\pi_{t} e^{\\left(-t\\right)} + \\frac{3}{8} \\, \\pi_{g} \\pi_{t} e^{\\left(-t\\right)} - \\frac{9}{16} \\, \\pi_{t}^{2} e^{\\left(-t\\right)} + \\frac{33}{32} \\, \\pi_{a}^{2} e^{\\left(-2 \\, t\\right)} - \\frac{11}{16} \\, \\pi_{a} \\pi_{c} e^{\\left(-2 \\, t\\right)} + \\frac{33}{32} \\, \\pi_{c}^{2} e^{\\left(-2 \\, t\\right)} - \\frac{11}{16} \\, \\pi_{a} \\pi_{g} e^{\\left(-2 \\, t\\right)} - \\frac{11}{16} \\, \\pi_{c} \\pi_{g} e^{\\left(-2 \\, t\\right)} + \\frac{33}{32} \\, \\pi_{g}^{2} e^{\\left(-2 \\, t\\right)} - \\frac{11}{16} \\, \\pi_{a} \\pi_{t} e^{\\left(-2 \\, t\\right)} - \\frac{11}{16} \\, \\pi_{c} \\pi_{t} e^{\\left(-2 \\, t\\right)} - \\frac{11}{16} \\, \\pi_{g} \\pi_{t} e^{\\left(-2 \\, t\\right)} + \\frac{33}{32} \\, \\pi_{t}^{2} e^{\\left(-2 \\, t\\right)} - \\frac{15}{32} \\, \\pi_{a}^{2} + \\frac{5}{16} \\, \\pi_{a} \\pi_{c} - \\frac{15}{32} \\, \\pi_{c}^{2} + \\frac{5}{16} \\, \\pi_{a} \\pi_{g} + \\frac{5}{16} \\, \\pi_{c} \\pi_{g} - \\frac{15}{32} \\, \\pi_{g}^{2} + \\frac{5}{16} \\, \\pi_{a} \\pi_{t} + \\frac{5}{16} \\, \\pi_{c} \\pi_{t} + \\frac{5}{16} \\, \\pi_{g} \\pi_{t} - \\frac{15}{32} \\, \\pi_{t}^{2} - \\frac{9}{32} \\, e^{\\left(-t\\right)} - \\frac{39}{64} \\, e^{\\left(-2 \\, t\\right)} + \\frac{57}{64}\\)</html>"
      ],
      "text/latex": [
       "$\\displaystyle \\frac{51}{32} \\, \\pi_{a}^{4} e^{\\left(-t\\right)} - \\frac{17}{8} \\, \\pi_{a}^{3} \\pi_{c} e^{\\left(-t\\right)} + \\frac{73}{16} \\, \\pi_{a}^{2} \\pi_{c}^{2} e^{\\left(-t\\right)} - \\frac{17}{8} \\, \\pi_{a} \\pi_{c}^{3} e^{\\left(-t\\right)} + \\frac{51}{32} \\, \\pi_{c}^{4} e^{\\left(-t\\right)} - \\frac{17}{8} \\, \\pi_{a}^{3} \\pi_{g} e^{\\left(-t\\right)} - \\frac{11}{8} \\, \\pi_{a}^{2} \\pi_{c} \\pi_{g} e^{\\left(-t\\right)} - \\frac{11}{8} \\, \\pi_{a} \\pi_{c}^{2} \\pi_{g} e^{\\left(-t\\right)} - \\frac{17}{8} \\, \\pi_{c}^{3} \\pi_{g} e^{\\left(-t\\right)} + \\frac{73}{16} \\, \\pi_{a}^{2} \\pi_{g}^{2} e^{\\left(-t\\right)} - \\frac{11}{8} \\, \\pi_{a} \\pi_{c} \\pi_{g}^{2} e^{\\left(-t\\right)} + \\frac{73}{16} \\, \\pi_{c}^{2} \\pi_{g}^{2} e^{\\left(-t\\right)} - \\frac{17}{8} \\, \\pi_{a} \\pi_{g}^{3} e^{\\left(-t\\right)} - \\frac{17}{8} \\, \\pi_{c} \\pi_{g}^{3} e^{\\left(-t\\right)} + \\frac{51}{32} \\, \\pi_{g}^{4} e^{\\left(-t\\right)} - \\frac{17}{8} \\, \\pi_{a}^{3} \\pi_{t} e^{\\left(-t\\right)} - \\frac{11}{8} \\, \\pi_{a}^{2} \\pi_{c} \\pi_{t} e^{\\left(-t\\right)} - \\frac{11}{8} \\, \\pi_{a} \\pi_{c}^{2} \\pi_{t} e^{\\left(-t\\right)} - \\frac{17}{8} \\, \\pi_{c}^{3} \\pi_{t} e^{\\left(-t\\right)} - \\frac{11}{8} \\, \\pi_{a}^{2} \\pi_{g} \\pi_{t} e^{\\left(-t\\right)} + \\frac{33}{4} \\, \\pi_{a} \\pi_{c} \\pi_{g} \\pi_{t} e^{\\left(-t\\right)} - \\frac{11}{8} \\, \\pi_{c}^{2} \\pi_{g} \\pi_{t} e^{\\left(-t\\right)} - \\frac{11}{8} \\, \\pi_{a} \\pi_{g}^{2} \\pi_{t} e^{\\left(-t\\right)} - \\frac{11}{8} \\, \\pi_{c} \\pi_{g}^{2} \\pi_{t} e^{\\left(-t\\right)} - \\frac{17}{8} \\, \\pi_{g}^{3} \\pi_{t} e^{\\left(-t\\right)} + \\frac{73}{16} \\, \\pi_{a}^{2} \\pi_{t}^{2} e^{\\left(-t\\right)} - \\frac{11}{8} \\, \\pi_{a} \\pi_{c} \\pi_{t}^{2} e^{\\left(-t\\right)} + \\frac{73}{16} \\, \\pi_{c}^{2} \\pi_{t}^{2} e^{\\left(-t\\right)} - \\frac{11}{8} \\, \\pi_{a} \\pi_{g} \\pi_{t}^{2} e^{\\left(-t\\right)} - \\frac{11}{8} \\, \\pi_{c} \\pi_{g} \\pi_{t}^{2} e^{\\left(-t\\right)} + \\frac{73}{16} \\, \\pi_{g}^{2} \\pi_{t}^{2} e^{\\left(-t\\right)} - \\frac{17}{8} \\, \\pi_{a} \\pi_{t}^{3} e^{\\left(-t\\right)} - \\frac{17}{8} \\, \\pi_{c} \\pi_{t}^{3} e^{\\left(-t\\right)} - \\frac{17}{8} \\, \\pi_{g} \\pi_{t}^{3} e^{\\left(-t\\right)} + \\frac{51}{32} \\, \\pi_{t}^{4} e^{\\left(-t\\right)} - \\frac{51}{64} \\, \\pi_{a}^{4} e^{\\left(-2 \\, t\\right)} + \\frac{17}{16} \\, \\pi_{a}^{3} \\pi_{c} e^{\\left(-2 \\, t\\right)} - \\frac{73}{32} \\, \\pi_{a}^{2} \\pi_{c}^{2} e^{\\left(-2 \\, t\\right)} + \\frac{17}{16} \\, \\pi_{a} \\pi_{c}^{3} e^{\\left(-2 \\, t\\right)} - \\frac{51}{64} \\, \\pi_{c}^{4} e^{\\left(-2 \\, t\\right)} + \\frac{17}{16} \\, \\pi_{a}^{3} \\pi_{g} e^{\\left(-2 \\, t\\right)} + \\frac{11}{16} \\, \\pi_{a}^{2} \\pi_{c} \\pi_{g} e^{\\left(-2 \\, t\\right)} + \\frac{11}{16} \\, \\pi_{a} \\pi_{c}^{2} \\pi_{g} e^{\\left(-2 \\, t\\right)} + \\frac{17}{16} \\, \\pi_{c}^{3} \\pi_{g} e^{\\left(-2 \\, t\\right)} - \\frac{73}{32} \\, \\pi_{a}^{2} \\pi_{g}^{2} e^{\\left(-2 \\, t\\right)} + \\frac{11}{16} \\, \\pi_{a} \\pi_{c} \\pi_{g}^{2} e^{\\left(-2 \\, t\\right)} - \\frac{73}{32} \\, \\pi_{c}^{2} \\pi_{g}^{2} e^{\\left(-2 \\, t\\right)} + \\frac{17}{16} \\, \\pi_{a} \\pi_{g}^{3} e^{\\left(-2 \\, t\\right)} + \\frac{17}{16} \\, \\pi_{c} \\pi_{g}^{3} e^{\\left(-2 \\, t\\right)} - \\frac{51}{64} \\, \\pi_{g}^{4} e^{\\left(-2 \\, t\\right)} + \\frac{17}{16} \\, \\pi_{a}^{3} \\pi_{t} e^{\\left(-2 \\, t\\right)} + \\frac{11}{16} \\, \\pi_{a}^{2} \\pi_{c} \\pi_{t} e^{\\left(-2 \\, t\\right)} + \\frac{11}{16} \\, \\pi_{a} \\pi_{c}^{2} \\pi_{t} e^{\\left(-2 \\, t\\right)} + \\frac{17}{16} \\, \\pi_{c}^{3} \\pi_{t} e^{\\left(-2 \\, t\\right)} + \\frac{11}{16} \\, \\pi_{a}^{2} \\pi_{g} \\pi_{t} e^{\\left(-2 \\, t\\right)} - \\frac{33}{8} \\, \\pi_{a} \\pi_{c} \\pi_{g} \\pi_{t} e^{\\left(-2 \\, t\\right)} + \\frac{11}{16} \\, \\pi_{c}^{2} \\pi_{g} \\pi_{t} e^{\\left(-2 \\, t\\right)} + \\frac{11}{16} \\, \\pi_{a} \\pi_{g}^{2} \\pi_{t} e^{\\left(-2 \\, t\\right)} + \\frac{11}{16} \\, \\pi_{c} \\pi_{g}^{2} \\pi_{t} e^{\\left(-2 \\, t\\right)} + \\frac{17}{16} \\, \\pi_{g}^{3} \\pi_{t} e^{\\left(-2 \\, t\\right)} - \\frac{73}{32} \\, \\pi_{a}^{2} \\pi_{t}^{2} e^{\\left(-2 \\, t\\right)} + \\frac{11}{16} \\, \\pi_{a} \\pi_{c} \\pi_{t}^{2} e^{\\left(-2 \\, t\\right)} - \\frac{73}{32} \\, \\pi_{c}^{2} \\pi_{t}^{2} e^{\\left(-2 \\, t\\right)} + \\frac{11}{16} \\, \\pi_{a} \\pi_{g} \\pi_{t}^{2} e^{\\left(-2 \\, t\\right)} + \\frac{11}{16} \\, \\pi_{c} \\pi_{g} \\pi_{t}^{2} e^{\\left(-2 \\, t\\right)} - \\frac{73}{32} \\, \\pi_{g}^{2} \\pi_{t}^{2} e^{\\left(-2 \\, t\\right)} + \\frac{17}{16} \\, \\pi_{a} \\pi_{t}^{3} e^{\\left(-2 \\, t\\right)} + \\frac{17}{16} \\, \\pi_{c} \\pi_{t}^{3} e^{\\left(-2 \\, t\\right)} + \\frac{17}{16} \\, \\pi_{g} \\pi_{t}^{3} e^{\\left(-2 \\, t\\right)} - \\frac{51}{64} \\, \\pi_{t}^{4} e^{\\left(-2 \\, t\\right)} - \\frac{51}{64} \\, \\pi_{a}^{4} + \\frac{17}{16} \\, \\pi_{a}^{3} \\pi_{c} - \\frac{73}{32} \\, \\pi_{a}^{2} \\pi_{c}^{2} + \\frac{17}{16} \\, \\pi_{a} \\pi_{c}^{3} - \\frac{51}{64} \\, \\pi_{c}^{4} + \\frac{17}{16} \\, \\pi_{a}^{3} \\pi_{g} + \\frac{11}{16} \\, \\pi_{a}^{2} \\pi_{c} \\pi_{g} + \\frac{11}{16} \\, \\pi_{a} \\pi_{c}^{2} \\pi_{g} + \\frac{17}{16} \\, \\pi_{c}^{3} \\pi_{g} - \\frac{73}{32} \\, \\pi_{a}^{2} \\pi_{g}^{2} + \\frac{11}{16} \\, \\pi_{a} \\pi_{c} \\pi_{g}^{2} - \\frac{73}{32} \\, \\pi_{c}^{2} \\pi_{g}^{2} + \\frac{17}{16} \\, \\pi_{a} \\pi_{g}^{3} + \\frac{17}{16} \\, \\pi_{c} \\pi_{g}^{3} - \\frac{51}{64} \\, \\pi_{g}^{4} + \\frac{17}{16} \\, \\pi_{a}^{3} \\pi_{t} + \\frac{11}{16} \\, \\pi_{a}^{2} \\pi_{c} \\pi_{t} + \\frac{11}{16} \\, \\pi_{a} \\pi_{c}^{2} \\pi_{t} + \\frac{17}{16} \\, \\pi_{c}^{3} \\pi_{t} + \\frac{11}{16} \\, \\pi_{a}^{2} \\pi_{g} \\pi_{t} - \\frac{33}{8} \\, \\pi_{a} \\pi_{c} \\pi_{g} \\pi_{t} + \\frac{11}{16} \\, \\pi_{c}^{2} \\pi_{g} \\pi_{t} + \\frac{11}{16} \\, \\pi_{a} \\pi_{g}^{2} \\pi_{t} + \\frac{11}{16} \\, \\pi_{c} \\pi_{g}^{2} \\pi_{t} + \\frac{17}{16} \\, \\pi_{g}^{3} \\pi_{t} - \\frac{73}{32} \\, \\pi_{a}^{2} \\pi_{t}^{2} + \\frac{11}{16} \\, \\pi_{a} \\pi_{c} \\pi_{t}^{2} - \\frac{73}{32} \\, \\pi_{c}^{2} \\pi_{t}^{2} + \\frac{11}{16} \\, \\pi_{a} \\pi_{g} \\pi_{t}^{2} + \\frac{11}{16} \\, \\pi_{c} \\pi_{g} \\pi_{t}^{2} - \\frac{73}{32} \\, \\pi_{g}^{2} \\pi_{t}^{2} + \\frac{17}{16} \\, \\pi_{a} \\pi_{t}^{3} + \\frac{17}{16} \\, \\pi_{c} \\pi_{t}^{3} + \\frac{17}{16} \\, \\pi_{g} \\pi_{t}^{3} - \\frac{51}{64} \\, \\pi_{t}^{4} - \\frac{3}{4} \\, \\pi_{a}^{3} e^{\\left(-t\\right)} + \\frac{3}{4} \\, \\pi_{a}^{2} \\pi_{c} e^{\\left(-t\\right)} + \\frac{3}{4} \\, \\pi_{a} \\pi_{c}^{2} e^{\\left(-t\\right)} - \\frac{3}{4} \\, \\pi_{c}^{3} e^{\\left(-t\\right)} + \\frac{3}{4} \\, \\pi_{a}^{2} \\pi_{g} e^{\\left(-t\\right)} - \\frac{3}{2} \\, \\pi_{a} \\pi_{c} \\pi_{g} e^{\\left(-t\\right)} + \\frac{3}{4} \\, \\pi_{c}^{2} \\pi_{g} e^{\\left(-t\\right)} + \\frac{3}{4} \\, \\pi_{a} \\pi_{g}^{2} e^{\\left(-t\\right)} + \\frac{3}{4} \\, \\pi_{c} \\pi_{g}^{2} e^{\\left(-t\\right)} - \\frac{3}{4} \\, \\pi_{g}^{3} e^{\\left(-t\\right)} + \\frac{3}{4} \\, \\pi_{a}^{2} \\pi_{t} e^{\\left(-t\\right)} - \\frac{3}{2} \\, \\pi_{a} \\pi_{c} \\pi_{t} e^{\\left(-t\\right)} + \\frac{3}{4} \\, \\pi_{c}^{2} \\pi_{t} e^{\\left(-t\\right)} - \\frac{3}{2} \\, \\pi_{a} \\pi_{g} \\pi_{t} e^{\\left(-t\\right)} - \\frac{3}{2} \\, \\pi_{c} \\pi_{g} \\pi_{t} e^{\\left(-t\\right)} + \\frac{3}{4} \\, \\pi_{g}^{2} \\pi_{t} e^{\\left(-t\\right)} + \\frac{3}{4} \\, \\pi_{a} \\pi_{t}^{2} e^{\\left(-t\\right)} + \\frac{3}{4} \\, \\pi_{c} \\pi_{t}^{2} e^{\\left(-t\\right)} + \\frac{3}{4} \\, \\pi_{g} \\pi_{t}^{2} e^{\\left(-t\\right)} - \\frac{3}{4} \\, \\pi_{t}^{3} e^{\\left(-t\\right)} + \\frac{3}{8} \\, \\pi_{a}^{3} e^{\\left(-2 \\, t\\right)} - \\frac{3}{8} \\, \\pi_{a}^{2} \\pi_{c} e^{\\left(-2 \\, t\\right)} - \\frac{3}{8} \\, \\pi_{a} \\pi_{c}^{2} e^{\\left(-2 \\, t\\right)} + \\frac{3}{8} \\, \\pi_{c}^{3} e^{\\left(-2 \\, t\\right)} - \\frac{3}{8} \\, \\pi_{a}^{2} \\pi_{g} e^{\\left(-2 \\, t\\right)} + \\frac{3}{4} \\, \\pi_{a} \\pi_{c} \\pi_{g} e^{\\left(-2 \\, t\\right)} - \\frac{3}{8} \\, \\pi_{c}^{2} \\pi_{g} e^{\\left(-2 \\, t\\right)} - \\frac{3}{8} \\, \\pi_{a} \\pi_{g}^{2} e^{\\left(-2 \\, t\\right)} - \\frac{3}{8} \\, \\pi_{c} \\pi_{g}^{2} e^{\\left(-2 \\, t\\right)} + \\frac{3}{8} \\, \\pi_{g}^{3} e^{\\left(-2 \\, t\\right)} - \\frac{3}{8} \\, \\pi_{a}^{2} \\pi_{t} e^{\\left(-2 \\, t\\right)} + \\frac{3}{4} \\, \\pi_{a} \\pi_{c} \\pi_{t} e^{\\left(-2 \\, t\\right)} - \\frac{3}{8} \\, \\pi_{c}^{2} \\pi_{t} e^{\\left(-2 \\, t\\right)} + \\frac{3}{4} \\, \\pi_{a} \\pi_{g} \\pi_{t} e^{\\left(-2 \\, t\\right)} + \\frac{3}{4} \\, \\pi_{c} \\pi_{g} \\pi_{t} e^{\\left(-2 \\, t\\right)} - \\frac{3}{8} \\, \\pi_{g}^{2} \\pi_{t} e^{\\left(-2 \\, t\\right)} - \\frac{3}{8} \\, \\pi_{a} \\pi_{t}^{2} e^{\\left(-2 \\, t\\right)} - \\frac{3}{8} \\, \\pi_{c} \\pi_{t}^{2} e^{\\left(-2 \\, t\\right)} - \\frac{3}{8} \\, \\pi_{g} \\pi_{t}^{2} e^{\\left(-2 \\, t\\right)} + \\frac{3}{8} \\, \\pi_{t}^{3} e^{\\left(-2 \\, t\\right)} + \\frac{3}{8} \\, \\pi_{a}^{3} - \\frac{3}{8} \\, \\pi_{a}^{2} \\pi_{c} - \\frac{3}{8} \\, \\pi_{a} \\pi_{c}^{2} + \\frac{3}{8} \\, \\pi_{c}^{3} - \\frac{3}{8} \\, \\pi_{a}^{2} \\pi_{g} + \\frac{3}{4} \\, \\pi_{a} \\pi_{c} \\pi_{g} - \\frac{3}{8} \\, \\pi_{c}^{2} \\pi_{g} - \\frac{3}{8} \\, \\pi_{a} \\pi_{g}^{2} - \\frac{3}{8} \\, \\pi_{c} \\pi_{g}^{2} + \\frac{3}{8} \\, \\pi_{g}^{3} - \\frac{3}{8} \\, \\pi_{a}^{2} \\pi_{t} + \\frac{3}{4} \\, \\pi_{a} \\pi_{c} \\pi_{t} - \\frac{3}{8} \\, \\pi_{c}^{2} \\pi_{t} + \\frac{3}{4} \\, \\pi_{a} \\pi_{g} \\pi_{t} + \\frac{3}{4} \\, \\pi_{c} \\pi_{g} \\pi_{t} - \\frac{3}{8} \\, \\pi_{g}^{2} \\pi_{t} - \\frac{3}{8} \\, \\pi_{a} \\pi_{t}^{2} - \\frac{3}{8} \\, \\pi_{c} \\pi_{t}^{2} - \\frac{3}{8} \\, \\pi_{g} \\pi_{t}^{2} + \\frac{3}{8} \\, \\pi_{t}^{3} - \\frac{9}{16} \\, \\pi_{a}^{2} e^{\\left(-t\\right)} + \\frac{3}{8} \\, \\pi_{a} \\pi_{c} e^{\\left(-t\\right)} - \\frac{9}{16} \\, \\pi_{c}^{2} e^{\\left(-t\\right)} + \\frac{3}{8} \\, \\pi_{a} \\pi_{g} e^{\\left(-t\\right)} + \\frac{3}{8} \\, \\pi_{c} \\pi_{g} e^{\\left(-t\\right)} - \\frac{9}{16} \\, \\pi_{g}^{2} e^{\\left(-t\\right)} + \\frac{3}{8} \\, \\pi_{a} \\pi_{t} e^{\\left(-t\\right)} + \\frac{3}{8} \\, \\pi_{c} \\pi_{t} e^{\\left(-t\\right)} + \\frac{3}{8} \\, \\pi_{g} \\pi_{t} e^{\\left(-t\\right)} - \\frac{9}{16} \\, \\pi_{t}^{2} e^{\\left(-t\\right)} + \\frac{33}{32} \\, \\pi_{a}^{2} e^{\\left(-2 \\, t\\right)} - \\frac{11}{16} \\, \\pi_{a} \\pi_{c} e^{\\left(-2 \\, t\\right)} + \\frac{33}{32} \\, \\pi_{c}^{2} e^{\\left(-2 \\, t\\right)} - \\frac{11}{16} \\, \\pi_{a} \\pi_{g} e^{\\left(-2 \\, t\\right)} - \\frac{11}{16} \\, \\pi_{c} \\pi_{g} e^{\\left(-2 \\, t\\right)} + \\frac{33}{32} \\, \\pi_{g}^{2} e^{\\left(-2 \\, t\\right)} - \\frac{11}{16} \\, \\pi_{a} \\pi_{t} e^{\\left(-2 \\, t\\right)} - \\frac{11}{16} \\, \\pi_{c} \\pi_{t} e^{\\left(-2 \\, t\\right)} - \\frac{11}{16} \\, \\pi_{g} \\pi_{t} e^{\\left(-2 \\, t\\right)} + \\frac{33}{32} \\, \\pi_{t}^{2} e^{\\left(-2 \\, t\\right)} - \\frac{15}{32} \\, \\pi_{a}^{2} + \\frac{5}{16} \\, \\pi_{a} \\pi_{c} - \\frac{15}{32} \\, \\pi_{c}^{2} + \\frac{5}{16} \\, \\pi_{a} \\pi_{g} + \\frac{5}{16} \\, \\pi_{c} \\pi_{g} - \\frac{15}{32} \\, \\pi_{g}^{2} + \\frac{5}{16} \\, \\pi_{a} \\pi_{t} + \\frac{5}{16} \\, \\pi_{c} \\pi_{t} + \\frac{5}{16} \\, \\pi_{g} \\pi_{t} - \\frac{15}{32} \\, \\pi_{t}^{2} - \\frac{9}{32} \\, e^{\\left(-t\\right)} - \\frac{39}{64} \\, e^{\\left(-2 \\, t\\right)} + \\frac{57}{64}$"
      ],
      "text/plain": [
       "51/32*pi_a^4*e^(-t) - 17/8*pi_a^3*pi_c*e^(-t) + 73/16*pi_a^2*pi_c^2*e^(-t) - 17/8*pi_a*pi_c^3*e^(-t) + 51/32*pi_c^4*e^(-t) - 17/8*pi_a^3*pi_g*e^(-t) - 11/8*pi_a^2*pi_c*pi_g*e^(-t) - 11/8*pi_a*pi_c^2*pi_g*e^(-t) - 17/8*pi_c^3*pi_g*e^(-t) + 73/16*pi_a^2*pi_g^2*e^(-t) - 11/8*pi_a*pi_c*pi_g^2*e^(-t) + 73/16*pi_c^2*pi_g^2*e^(-t) - 17/8*pi_a*pi_g^3*e^(-t) - 17/8*pi_c*pi_g^3*e^(-t) + 51/32*pi_g^4*e^(-t) - 17/8*pi_a^3*pi_t*e^(-t) - 11/8*pi_a^2*pi_c*pi_t*e^(-t) - 11/8*pi_a*pi_c^2*pi_t*e^(-t) - 17/8*pi_c^3*pi_t*e^(-t) - 11/8*pi_a^2*pi_g*pi_t*e^(-t) + 33/4*pi_a*pi_c*pi_g*pi_t*e^(-t) - 11/8*pi_c^2*pi_g*pi_t*e^(-t) - 11/8*pi_a*pi_g^2*pi_t*e^(-t) - 11/8*pi_c*pi_g^2*pi_t*e^(-t) - 17/8*pi_g^3*pi_t*e^(-t) + 73/16*pi_a^2*pi_t^2*e^(-t) - 11/8*pi_a*pi_c*pi_t^2*e^(-t) + 73/16*pi_c^2*pi_t^2*e^(-t) - 11/8*pi_a*pi_g*pi_t^2*e^(-t) - 11/8*pi_c*pi_g*pi_t^2*e^(-t) + 73/16*pi_g^2*pi_t^2*e^(-t) - 17/8*pi_a*pi_t^3*e^(-t) - 17/8*pi_c*pi_t^3*e^(-t) - 17/8*pi_g*pi_t^3*e^(-t) + 51/32*pi_t^4*e^(-t) - 51/64*pi_a^4*e^(-2*t) + 17/16*pi_a^3*pi_c*e^(-2*t) - 73/32*pi_a^2*pi_c^2*e^(-2*t) + 17/16*pi_a*pi_c^3*e^(-2*t) - 51/64*pi_c^4*e^(-2*t) + 17/16*pi_a^3*pi_g*e^(-2*t) + 11/16*pi_a^2*pi_c*pi_g*e^(-2*t) + 11/16*pi_a*pi_c^2*pi_g*e^(-2*t) + 17/16*pi_c^3*pi_g*e^(-2*t) - 73/32*pi_a^2*pi_g^2*e^(-2*t) + 11/16*pi_a*pi_c*pi_g^2*e^(-2*t) - 73/32*pi_c^2*pi_g^2*e^(-2*t) + 17/16*pi_a*pi_g^3*e^(-2*t) + 17/16*pi_c*pi_g^3*e^(-2*t) - 51/64*pi_g^4*e^(-2*t) + 17/16*pi_a^3*pi_t*e^(-2*t) + 11/16*pi_a^2*pi_c*pi_t*e^(-2*t) + 11/16*pi_a*pi_c^2*pi_t*e^(-2*t) + 17/16*pi_c^3*pi_t*e^(-2*t) + 11/16*pi_a^2*pi_g*pi_t*e^(-2*t) - 33/8*pi_a*pi_c*pi_g*pi_t*e^(-2*t) + 11/16*pi_c^2*pi_g*pi_t*e^(-2*t) + 11/16*pi_a*pi_g^2*pi_t*e^(-2*t) + 11/16*pi_c*pi_g^2*pi_t*e^(-2*t) + 17/16*pi_g^3*pi_t*e^(-2*t) - 73/32*pi_a^2*pi_t^2*e^(-2*t) + 11/16*pi_a*pi_c*pi_t^2*e^(-2*t) - 73/32*pi_c^2*pi_t^2*e^(-2*t) + 11/16*pi_a*pi_g*pi_t^2*e^(-2*t) + 11/16*pi_c*pi_g*pi_t^2*e^(-2*t) - 73/32*pi_g^2*pi_t^2*e^(-2*t) + 17/16*pi_a*pi_t^3*e^(-2*t) + 17/16*pi_c*pi_t^3*e^(-2*t) + 17/16*pi_g*pi_t^3*e^(-2*t) - 51/64*pi_t^4*e^(-2*t) - 51/64*pi_a^4 + 17/16*pi_a^3*pi_c - 73/32*pi_a^2*pi_c^2 + 17/16*pi_a*pi_c^3 - 51/64*pi_c^4 + 17/16*pi_a^3*pi_g + 11/16*pi_a^2*pi_c*pi_g + 11/16*pi_a*pi_c^2*pi_g + 17/16*pi_c^3*pi_g - 73/32*pi_a^2*pi_g^2 + 11/16*pi_a*pi_c*pi_g^2 - 73/32*pi_c^2*pi_g^2 + 17/16*pi_a*pi_g^3 + 17/16*pi_c*pi_g^3 - 51/64*pi_g^4 + 17/16*pi_a^3*pi_t + 11/16*pi_a^2*pi_c*pi_t + 11/16*pi_a*pi_c^2*pi_t + 17/16*pi_c^3*pi_t + 11/16*pi_a^2*pi_g*pi_t - 33/8*pi_a*pi_c*pi_g*pi_t + 11/16*pi_c^2*pi_g*pi_t + 11/16*pi_a*pi_g^2*pi_t + 11/16*pi_c*pi_g^2*pi_t + 17/16*pi_g^3*pi_t - 73/32*pi_a^2*pi_t^2 + 11/16*pi_a*pi_c*pi_t^2 - 73/32*pi_c^2*pi_t^2 + 11/16*pi_a*pi_g*pi_t^2 + 11/16*pi_c*pi_g*pi_t^2 - 73/32*pi_g^2*pi_t^2 + 17/16*pi_a*pi_t^3 + 17/16*pi_c*pi_t^3 + 17/16*pi_g*pi_t^3 - 51/64*pi_t^4 - 3/4*pi_a^3*e^(-t) + 3/4*pi_a^2*pi_c*e^(-t) + 3/4*pi_a*pi_c^2*e^(-t) - 3/4*pi_c^3*e^(-t) + 3/4*pi_a^2*pi_g*e^(-t) - 3/2*pi_a*pi_c*pi_g*e^(-t) + 3/4*pi_c^2*pi_g*e^(-t) + 3/4*pi_a*pi_g^2*e^(-t) + 3/4*pi_c*pi_g^2*e^(-t) - 3/4*pi_g^3*e^(-t) + 3/4*pi_a^2*pi_t*e^(-t) - 3/2*pi_a*pi_c*pi_t*e^(-t) + 3/4*pi_c^2*pi_t*e^(-t) - 3/2*pi_a*pi_g*pi_t*e^(-t) - 3/2*pi_c*pi_g*pi_t*e^(-t) + 3/4*pi_g^2*pi_t*e^(-t) + 3/4*pi_a*pi_t^2*e^(-t) + 3/4*pi_c*pi_t^2*e^(-t) + 3/4*pi_g*pi_t^2*e^(-t) - 3/4*pi_t^3*e^(-t) + 3/8*pi_a^3*e^(-2*t) - 3/8*pi_a^2*pi_c*e^(-2*t) - 3/8*pi_a*pi_c^2*e^(-2*t) + 3/8*pi_c^3*e^(-2*t) - 3/8*pi_a^2*pi_g*e^(-2*t) + 3/4*pi_a*pi_c*pi_g*e^(-2*t) - 3/8*pi_c^2*pi_g*e^(-2*t) - 3/8*pi_a*pi_g^2*e^(-2*t) - 3/8*pi_c*pi_g^2*e^(-2*t) + 3/8*pi_g^3*e^(-2*t) - 3/8*pi_a^2*pi_t*e^(-2*t) + 3/4*pi_a*pi_c*pi_t*e^(-2*t) - 3/8*pi_c^2*pi_t*e^(-2*t) + 3/4*pi_a*pi_g*pi_t*e^(-2*t) + 3/4*pi_c*pi_g*pi_t*e^(-2*t) - 3/8*pi_g^2*pi_t*e^(-2*t) - 3/8*pi_a*pi_t^2*e^(-2*t) - 3/8*pi_c*pi_t^2*e^(-2*t) - 3/8*pi_g*pi_t^2*e^(-2*t) + 3/8*pi_t^3*e^(-2*t) + 3/8*pi_a^3 - 3/8*pi_a^2*pi_c - 3/8*pi_a*pi_c^2 + 3/8*pi_c^3 - 3/8*pi_a^2*pi_g + 3/4*pi_a*pi_c*pi_g - 3/8*pi_c^2*pi_g - 3/8*pi_a*pi_g^2 - 3/8*pi_c*pi_g^2 + 3/8*pi_g^3 - 3/8*pi_a^2*pi_t + 3/4*pi_a*pi_c*pi_t - 3/8*pi_c^2*pi_t + 3/4*pi_a*pi_g*pi_t + 3/4*pi_c*pi_g*pi_t - 3/8*pi_g^2*pi_t - 3/8*pi_a*pi_t^2 - 3/8*pi_c*pi_t^2 - 3/8*pi_g*pi_t^2 + 3/8*pi_t^3 - 9/16*pi_a^2*e^(-t) + 3/8*pi_a*pi_c*e^(-t) - 9/16*pi_c^2*e^(-t) + 3/8*pi_a*pi_g*e^(-t) + 3/8*pi_c*pi_g*e^(-t) - 9/16*pi_g^2*e^(-t) + 3/8*pi_a*pi_t*e^(-t) + 3/8*pi_c*pi_t*e^(-t) + 3/8*pi_g*pi_t*e^(-t) - 9/16*pi_t^2*e^(-t) + 33/32*pi_a^2*e^(-2*t) - 11/16*pi_a*pi_c*e^(-2*t) + 33/32*pi_c^2*e^(-2*t) - 11/16*pi_a*pi_g*e^(-2*t) - 11/16*pi_c*pi_g*e^(-2*t) + 33/32*pi_g^2*e^(-2*t) - 11/16*pi_a*pi_t*e^(-2*t) - 11/16*pi_c*pi_t*e^(-2*t) - 11/16*pi_g*pi_t*e^(-2*t) + 33/32*pi_t^2*e^(-2*t) - 15/32*pi_a^2 + 5/16*pi_a*pi_c - 15/32*pi_c^2 + 5/16*pi_a*pi_g + 5/16*pi_c*pi_g - 15/32*pi_g^2 + 5/16*pi_a*pi_t + 5/16*pi_c*pi_t + 5/16*pi_g*pi_t - 15/32*pi_t^2 - 9/32*e^(-t) - 39/64*e^(-2*t) + 57/64"
      ]
     },
     "metadata": {},
     "output_type": "display_data"
    }
   ],
   "source": [
    "p_hat_f10t = temp(tau_1=pi_c-pi_a, tau_2 = pi_g-pi_c, tau_3=pi_t-pi_g).expand().simplify_full().expand()\n",
    "pretty_print( p_hat_f10t )"
   ]
  },
  {
   "cell_type": "code",
   "execution_count": 126,
   "id": "577e04ae-5833-404f-b76a-e5a3247da69f",
   "metadata": {},
   "outputs": [
    {
     "name": "stdout",
     "output_type": "stream",
     "text": [
      "2\n"
     ]
    }
   ],
   "source": [
    "solns = solve(p_hat_f10t==p,t)\n",
    "print(len(solns))"
   ]
  },
  {
   "cell_type": "code",
   "execution_count": 127,
   "id": "eea2218e-0931-44d4-938e-46acebf44ef7",
   "metadata": {},
   "outputs": [
    {
     "data": {
      "text/html": [
       "<html>\\(\\displaystyle \\log\\left(\\frac{51 \\, \\pi_{a}^{4} - 4 \\, {\\left(17 \\, \\pi_{a} + 6\\right)} \\pi_{c}^{3} + 51 \\, \\pi_{c}^{4} - 4 \\, {\\left(17 \\, \\pi_{a} + 17 \\, \\pi_{c} + 6\\right)} \\pi_{g}^{3} + 51 \\, \\pi_{g}^{4} - 4 \\, {\\left(17 \\, \\pi_{a} + 17 \\, \\pi_{c} + 17 \\, \\pi_{g} + 6\\right)} \\pi_{t}^{3} + 51 \\, \\pi_{t}^{4} - 24 \\, \\pi_{a}^{3} + 2 \\, {\\left(73 \\, \\pi_{a}^{2} + 12 \\, \\pi_{a} - 9\\right)} \\pi_{c}^{2} + 2 \\, {\\left(73 \\, \\pi_{a}^{2} - 2 \\, {\\left(11 \\, \\pi_{a} - 6\\right)} \\pi_{c} + 73 \\, \\pi_{c}^{2} + 12 \\, \\pi_{a} - 9\\right)} \\pi_{g}^{2} + 2 \\, {\\left(73 \\, \\pi_{a}^{2} - 2 \\, {\\left(11 \\, \\pi_{a} - 6\\right)} \\pi_{c} + 73 \\, \\pi_{c}^{2} - 2 \\, {\\left(11 \\, \\pi_{a} + 11 \\, \\pi_{c} - 6\\right)} \\pi_{g} + 73 \\, \\pi_{g}^{2} + 12 \\, \\pi_{a} - 9\\right)} \\pi_{t}^{2} - 18 \\, \\pi_{a}^{2} - 4 \\, {\\left(17 \\, \\pi_{a}^{3} - 6 \\, \\pi_{a}^{2} - 3 \\, \\pi_{a}\\right)} \\pi_{c} - 4 \\, {\\left(17 \\, \\pi_{a}^{3} + {\\left(11 \\, \\pi_{a} - 6\\right)} \\pi_{c}^{2} + 17 \\, \\pi_{c}^{3} - 6 \\, \\pi_{a}^{2} + {\\left(11 \\, \\pi_{a}^{2} + 12 \\, \\pi_{a} - 3\\right)} \\pi_{c} - 3 \\, \\pi_{a}\\right)} \\pi_{g} - 4 \\, {\\left(17 \\, \\pi_{a}^{3} + {\\left(11 \\, \\pi_{a} - 6\\right)} \\pi_{c}^{2} + 17 \\, \\pi_{c}^{3} + {\\left(11 \\, \\pi_{a} + 11 \\, \\pi_{c} - 6\\right)} \\pi_{g}^{2} + 17 \\, \\pi_{g}^{3} - 6 \\, \\pi_{a}^{2} + {\\left(11 \\, \\pi_{a}^{2} + 12 \\, \\pi_{a} - 3\\right)} \\pi_{c} + {\\left(11 \\, \\pi_{a}^{2} - 6 \\, {\\left(11 \\, \\pi_{a} - 2\\right)} \\pi_{c} + 11 \\, \\pi_{c}^{2} + 12 \\, \\pi_{a} - 3\\right)} \\pi_{g} - 3 \\, \\pi_{a}\\right)} \\pi_{t} + 8 \\, \\sqrt{-3 \\, {\\left(17 \\, p - 12\\right)} \\pi_{a}^{4} - 3 \\, {\\left(17 \\, p - 12\\right)} \\pi_{c}^{4} - 3 \\, {\\left(17 \\, p - 12\\right)} \\pi_{g}^{4} - 3 \\, {\\left(17 \\, p - 12\\right)} \\pi_{t}^{4} + 24 \\, p \\pi_{a}^{3} + 4 \\, {\\left({\\left(17 \\, p - 12\\right)} \\pi_{a} + 6 \\, p\\right)} \\pi_{c}^{3} + 4 \\, {\\left({\\left(17 \\, p - 12\\right)} \\pi_{a} + {\\left(17 \\, p - 12\\right)} \\pi_{c} + 6 \\, p\\right)} \\pi_{g}^{3} + 4 \\, {\\left({\\left(17 \\, p - 12\\right)} \\pi_{a} + {\\left(17 \\, p - 12\\right)} \\pi_{c} + {\\left(17 \\, p - 12\\right)} \\pi_{g} + 6 \\, p\\right)} \\pi_{t}^{3} + 6 \\, {\\left(11 \\, p - 12\\right)} \\pi_{a}^{2} - 2 \\, {\\left({\\left(73 \\, p - 44\\right)} \\pi_{a}^{2} + 12 \\, p \\pi_{a} - 33 \\, p + 36\\right)} \\pi_{c}^{2} - 2 \\, {\\left({\\left(73 \\, p - 44\\right)} \\pi_{a}^{2} + {\\left(73 \\, p - 44\\right)} \\pi_{c}^{2} + 12 \\, p \\pi_{a} - 2 \\, {\\left({\\left(11 \\, p - 4\\right)} \\pi_{a} - 6 \\, p\\right)} \\pi_{c} - 33 \\, p + 36\\right)} \\pi_{g}^{2} - 2 \\, {\\left({\\left(73 \\, p - 44\\right)} \\pi_{a}^{2} + {\\left(73 \\, p - 44\\right)} \\pi_{c}^{2} + {\\left(73 \\, p - 44\\right)} \\pi_{g}^{2} + 12 \\, p \\pi_{a} - 2 \\, {\\left({\\left(11 \\, p - 4\\right)} \\pi_{a} - 6 \\, p\\right)} \\pi_{c} - 2 \\, {\\left({\\left(11 \\, p - 4\\right)} \\pi_{a} + {\\left(11 \\, p - 4\\right)} \\pi_{c} - 6 \\, p\\right)} \\pi_{g} - 33 \\, p + 36\\right)} \\pi_{t}^{2} + 4 \\, {\\left({\\left(17 \\, p - 12\\right)} \\pi_{a}^{3} - 6 \\, p \\pi_{a}^{2} - {\\left(11 \\, p - 12\\right)} \\pi_{a}\\right)} \\pi_{c} + 4 \\, {\\left({\\left(17 \\, p - 12\\right)} \\pi_{a}^{3} + {\\left(17 \\, p - 12\\right)} \\pi_{c}^{3} - 6 \\, p \\pi_{a}^{2} + {\\left({\\left(11 \\, p - 4\\right)} \\pi_{a} - 6 \\, p\\right)} \\pi_{c}^{2} - {\\left(11 \\, p - 12\\right)} \\pi_{a} + {\\left({\\left(11 \\, p - 4\\right)} \\pi_{a}^{2} + 12 \\, p \\pi_{a} - 11 \\, p + 12\\right)} \\pi_{c}\\right)} \\pi_{g} + 4 \\, {\\left({\\left(17 \\, p - 12\\right)} \\pi_{a}^{3} + {\\left(17 \\, p - 12\\right)} \\pi_{c}^{3} + {\\left(17 \\, p - 12\\right)} \\pi_{g}^{3} - 6 \\, p \\pi_{a}^{2} + {\\left({\\left(11 \\, p - 4\\right)} \\pi_{a} - 6 \\, p\\right)} \\pi_{c}^{2} + {\\left({\\left(11 \\, p - 4\\right)} \\pi_{a} + {\\left(11 \\, p - 4\\right)} \\pi_{c} - 6 \\, p\\right)} \\pi_{g}^{2} - {\\left(11 \\, p - 12\\right)} \\pi_{a} + {\\left({\\left(11 \\, p - 4\\right)} \\pi_{a}^{2} + 12 \\, p \\pi_{a} - 11 \\, p + 12\\right)} \\pi_{c} + {\\left({\\left(11 \\, p - 4\\right)} \\pi_{a}^{2} + {\\left(11 \\, p - 4\\right)} \\pi_{c}^{2} + 12 \\, p \\pi_{a} - 6 \\, {\\left({\\left(11 \\, p - 4\\right)} \\pi_{a} - 2 \\, p\\right)} \\pi_{c} - 11 \\, p + 12\\right)} \\pi_{g}\\right)} \\pi_{t} - 39 \\, p + 36} - 9}{51 \\, \\pi_{a}^{4} - 4 \\, {\\left(17 \\, \\pi_{a} + 6\\right)} \\pi_{c}^{3} + 51 \\, \\pi_{c}^{4} - 4 \\, {\\left(17 \\, \\pi_{a} + 17 \\, \\pi_{c} + 6\\right)} \\pi_{g}^{3} + 51 \\, \\pi_{g}^{4} - 4 \\, {\\left(17 \\, \\pi_{a} + 17 \\, \\pi_{c} + 17 \\, \\pi_{g} + 6\\right)} \\pi_{t}^{3} + 51 \\, \\pi_{t}^{4} - 24 \\, \\pi_{a}^{3} + 2 \\, {\\left(73 \\, \\pi_{a}^{2} + 12 \\, \\pi_{a} + 15\\right)} \\pi_{c}^{2} + 2 \\, {\\left(73 \\, \\pi_{a}^{2} - 2 \\, {\\left(11 \\, \\pi_{a} - 6\\right)} \\pi_{c} + 73 \\, \\pi_{c}^{2} + 12 \\, \\pi_{a} + 15\\right)} \\pi_{g}^{2} + 2 \\, {\\left(73 \\, \\pi_{a}^{2} - 2 \\, {\\left(11 \\, \\pi_{a} - 6\\right)} \\pi_{c} + 73 \\, \\pi_{c}^{2} - 2 \\, {\\left(11 \\, \\pi_{a} + 11 \\, \\pi_{c} - 6\\right)} \\pi_{g} + 73 \\, \\pi_{g}^{2} + 12 \\, \\pi_{a} + 15\\right)} \\pi_{t}^{2} + 30 \\, \\pi_{a}^{2} - 4 \\, {\\left(17 \\, \\pi_{a}^{3} - 6 \\, \\pi_{a}^{2} + 5 \\, \\pi_{a}\\right)} \\pi_{c} - 4 \\, {\\left(17 \\, \\pi_{a}^{3} + {\\left(11 \\, \\pi_{a} - 6\\right)} \\pi_{c}^{2} + 17 \\, \\pi_{c}^{3} - 6 \\, \\pi_{a}^{2} + {\\left(11 \\, \\pi_{a}^{2} + 12 \\, \\pi_{a} + 5\\right)} \\pi_{c} + 5 \\, \\pi_{a}\\right)} \\pi_{g} - 4 \\, {\\left(17 \\, \\pi_{a}^{3} + {\\left(11 \\, \\pi_{a} - 6\\right)} \\pi_{c}^{2} + 17 \\, \\pi_{c}^{3} + {\\left(11 \\, \\pi_{a} + 11 \\, \\pi_{c} - 6\\right)} \\pi_{g}^{2} + 17 \\, \\pi_{g}^{3} - 6 \\, \\pi_{a}^{2} + {\\left(11 \\, \\pi_{a}^{2} + 12 \\, \\pi_{a} + 5\\right)} \\pi_{c} + {\\left(11 \\, \\pi_{a}^{2} - 6 \\, {\\left(11 \\, \\pi_{a} - 2\\right)} \\pi_{c} + 11 \\, \\pi_{c}^{2} + 12 \\, \\pi_{a} + 5\\right)} \\pi_{g} + 5 \\, \\pi_{a}\\right)} \\pi_{t} + 64 \\, p - 57}\\right)\\)</html>"
      ],
      "text/latex": [
       "$\\displaystyle \\log\\left(\\frac{51 \\, \\pi_{a}^{4} - 4 \\, {\\left(17 \\, \\pi_{a} + 6\\right)} \\pi_{c}^{3} + 51 \\, \\pi_{c}^{4} - 4 \\, {\\left(17 \\, \\pi_{a} + 17 \\, \\pi_{c} + 6\\right)} \\pi_{g}^{3} + 51 \\, \\pi_{g}^{4} - 4 \\, {\\left(17 \\, \\pi_{a} + 17 \\, \\pi_{c} + 17 \\, \\pi_{g} + 6\\right)} \\pi_{t}^{3} + 51 \\, \\pi_{t}^{4} - 24 \\, \\pi_{a}^{3} + 2 \\, {\\left(73 \\, \\pi_{a}^{2} + 12 \\, \\pi_{a} - 9\\right)} \\pi_{c}^{2} + 2 \\, {\\left(73 \\, \\pi_{a}^{2} - 2 \\, {\\left(11 \\, \\pi_{a} - 6\\right)} \\pi_{c} + 73 \\, \\pi_{c}^{2} + 12 \\, \\pi_{a} - 9\\right)} \\pi_{g}^{2} + 2 \\, {\\left(73 \\, \\pi_{a}^{2} - 2 \\, {\\left(11 \\, \\pi_{a} - 6\\right)} \\pi_{c} + 73 \\, \\pi_{c}^{2} - 2 \\, {\\left(11 \\, \\pi_{a} + 11 \\, \\pi_{c} - 6\\right)} \\pi_{g} + 73 \\, \\pi_{g}^{2} + 12 \\, \\pi_{a} - 9\\right)} \\pi_{t}^{2} - 18 \\, \\pi_{a}^{2} - 4 \\, {\\left(17 \\, \\pi_{a}^{3} - 6 \\, \\pi_{a}^{2} - 3 \\, \\pi_{a}\\right)} \\pi_{c} - 4 \\, {\\left(17 \\, \\pi_{a}^{3} + {\\left(11 \\, \\pi_{a} - 6\\right)} \\pi_{c}^{2} + 17 \\, \\pi_{c}^{3} - 6 \\, \\pi_{a}^{2} + {\\left(11 \\, \\pi_{a}^{2} + 12 \\, \\pi_{a} - 3\\right)} \\pi_{c} - 3 \\, \\pi_{a}\\right)} \\pi_{g} - 4 \\, {\\left(17 \\, \\pi_{a}^{3} + {\\left(11 \\, \\pi_{a} - 6\\right)} \\pi_{c}^{2} + 17 \\, \\pi_{c}^{3} + {\\left(11 \\, \\pi_{a} + 11 \\, \\pi_{c} - 6\\right)} \\pi_{g}^{2} + 17 \\, \\pi_{g}^{3} - 6 \\, \\pi_{a}^{2} + {\\left(11 \\, \\pi_{a}^{2} + 12 \\, \\pi_{a} - 3\\right)} \\pi_{c} + {\\left(11 \\, \\pi_{a}^{2} - 6 \\, {\\left(11 \\, \\pi_{a} - 2\\right)} \\pi_{c} + 11 \\, \\pi_{c}^{2} + 12 \\, \\pi_{a} - 3\\right)} \\pi_{g} - 3 \\, \\pi_{a}\\right)} \\pi_{t} + 8 \\, \\sqrt{-3 \\, {\\left(17 \\, p - 12\\right)} \\pi_{a}^{4} - 3 \\, {\\left(17 \\, p - 12\\right)} \\pi_{c}^{4} - 3 \\, {\\left(17 \\, p - 12\\right)} \\pi_{g}^{4} - 3 \\, {\\left(17 \\, p - 12\\right)} \\pi_{t}^{4} + 24 \\, p \\pi_{a}^{3} + 4 \\, {\\left({\\left(17 \\, p - 12\\right)} \\pi_{a} + 6 \\, p\\right)} \\pi_{c}^{3} + 4 \\, {\\left({\\left(17 \\, p - 12\\right)} \\pi_{a} + {\\left(17 \\, p - 12\\right)} \\pi_{c} + 6 \\, p\\right)} \\pi_{g}^{3} + 4 \\, {\\left({\\left(17 \\, p - 12\\right)} \\pi_{a} + {\\left(17 \\, p - 12\\right)} \\pi_{c} + {\\left(17 \\, p - 12\\right)} \\pi_{g} + 6 \\, p\\right)} \\pi_{t}^{3} + 6 \\, {\\left(11 \\, p - 12\\right)} \\pi_{a}^{2} - 2 \\, {\\left({\\left(73 \\, p - 44\\right)} \\pi_{a}^{2} + 12 \\, p \\pi_{a} - 33 \\, p + 36\\right)} \\pi_{c}^{2} - 2 \\, {\\left({\\left(73 \\, p - 44\\right)} \\pi_{a}^{2} + {\\left(73 \\, p - 44\\right)} \\pi_{c}^{2} + 12 \\, p \\pi_{a} - 2 \\, {\\left({\\left(11 \\, p - 4\\right)} \\pi_{a} - 6 \\, p\\right)} \\pi_{c} - 33 \\, p + 36\\right)} \\pi_{g}^{2} - 2 \\, {\\left({\\left(73 \\, p - 44\\right)} \\pi_{a}^{2} + {\\left(73 \\, p - 44\\right)} \\pi_{c}^{2} + {\\left(73 \\, p - 44\\right)} \\pi_{g}^{2} + 12 \\, p \\pi_{a} - 2 \\, {\\left({\\left(11 \\, p - 4\\right)} \\pi_{a} - 6 \\, p\\right)} \\pi_{c} - 2 \\, {\\left({\\left(11 \\, p - 4\\right)} \\pi_{a} + {\\left(11 \\, p - 4\\right)} \\pi_{c} - 6 \\, p\\right)} \\pi_{g} - 33 \\, p + 36\\right)} \\pi_{t}^{2} + 4 \\, {\\left({\\left(17 \\, p - 12\\right)} \\pi_{a}^{3} - 6 \\, p \\pi_{a}^{2} - {\\left(11 \\, p - 12\\right)} \\pi_{a}\\right)} \\pi_{c} + 4 \\, {\\left({\\left(17 \\, p - 12\\right)} \\pi_{a}^{3} + {\\left(17 \\, p - 12\\right)} \\pi_{c}^{3} - 6 \\, p \\pi_{a}^{2} + {\\left({\\left(11 \\, p - 4\\right)} \\pi_{a} - 6 \\, p\\right)} \\pi_{c}^{2} - {\\left(11 \\, p - 12\\right)} \\pi_{a} + {\\left({\\left(11 \\, p - 4\\right)} \\pi_{a}^{2} + 12 \\, p \\pi_{a} - 11 \\, p + 12\\right)} \\pi_{c}\\right)} \\pi_{g} + 4 \\, {\\left({\\left(17 \\, p - 12\\right)} \\pi_{a}^{3} + {\\left(17 \\, p - 12\\right)} \\pi_{c}^{3} + {\\left(17 \\, p - 12\\right)} \\pi_{g}^{3} - 6 \\, p \\pi_{a}^{2} + {\\left({\\left(11 \\, p - 4\\right)} \\pi_{a} - 6 \\, p\\right)} \\pi_{c}^{2} + {\\left({\\left(11 \\, p - 4\\right)} \\pi_{a} + {\\left(11 \\, p - 4\\right)} \\pi_{c} - 6 \\, p\\right)} \\pi_{g}^{2} - {\\left(11 \\, p - 12\\right)} \\pi_{a} + {\\left({\\left(11 \\, p - 4\\right)} \\pi_{a}^{2} + 12 \\, p \\pi_{a} - 11 \\, p + 12\\right)} \\pi_{c} + {\\left({\\left(11 \\, p - 4\\right)} \\pi_{a}^{2} + {\\left(11 \\, p - 4\\right)} \\pi_{c}^{2} + 12 \\, p \\pi_{a} - 6 \\, {\\left({\\left(11 \\, p - 4\\right)} \\pi_{a} - 2 \\, p\\right)} \\pi_{c} - 11 \\, p + 12\\right)} \\pi_{g}\\right)} \\pi_{t} - 39 \\, p + 36} - 9}{51 \\, \\pi_{a}^{4} - 4 \\, {\\left(17 \\, \\pi_{a} + 6\\right)} \\pi_{c}^{3} + 51 \\, \\pi_{c}^{4} - 4 \\, {\\left(17 \\, \\pi_{a} + 17 \\, \\pi_{c} + 6\\right)} \\pi_{g}^{3} + 51 \\, \\pi_{g}^{4} - 4 \\, {\\left(17 \\, \\pi_{a} + 17 \\, \\pi_{c} + 17 \\, \\pi_{g} + 6\\right)} \\pi_{t}^{3} + 51 \\, \\pi_{t}^{4} - 24 \\, \\pi_{a}^{3} + 2 \\, {\\left(73 \\, \\pi_{a}^{2} + 12 \\, \\pi_{a} + 15\\right)} \\pi_{c}^{2} + 2 \\, {\\left(73 \\, \\pi_{a}^{2} - 2 \\, {\\left(11 \\, \\pi_{a} - 6\\right)} \\pi_{c} + 73 \\, \\pi_{c}^{2} + 12 \\, \\pi_{a} + 15\\right)} \\pi_{g}^{2} + 2 \\, {\\left(73 \\, \\pi_{a}^{2} - 2 \\, {\\left(11 \\, \\pi_{a} - 6\\right)} \\pi_{c} + 73 \\, \\pi_{c}^{2} - 2 \\, {\\left(11 \\, \\pi_{a} + 11 \\, \\pi_{c} - 6\\right)} \\pi_{g} + 73 \\, \\pi_{g}^{2} + 12 \\, \\pi_{a} + 15\\right)} \\pi_{t}^{2} + 30 \\, \\pi_{a}^{2} - 4 \\, {\\left(17 \\, \\pi_{a}^{3} - 6 \\, \\pi_{a}^{2} + 5 \\, \\pi_{a}\\right)} \\pi_{c} - 4 \\, {\\left(17 \\, \\pi_{a}^{3} + {\\left(11 \\, \\pi_{a} - 6\\right)} \\pi_{c}^{2} + 17 \\, \\pi_{c}^{3} - 6 \\, \\pi_{a}^{2} + {\\left(11 \\, \\pi_{a}^{2} + 12 \\, \\pi_{a} + 5\\right)} \\pi_{c} + 5 \\, \\pi_{a}\\right)} \\pi_{g} - 4 \\, {\\left(17 \\, \\pi_{a}^{3} + {\\left(11 \\, \\pi_{a} - 6\\right)} \\pi_{c}^{2} + 17 \\, \\pi_{c}^{3} + {\\left(11 \\, \\pi_{a} + 11 \\, \\pi_{c} - 6\\right)} \\pi_{g}^{2} + 17 \\, \\pi_{g}^{3} - 6 \\, \\pi_{a}^{2} + {\\left(11 \\, \\pi_{a}^{2} + 12 \\, \\pi_{a} + 5\\right)} \\pi_{c} + {\\left(11 \\, \\pi_{a}^{2} - 6 \\, {\\left(11 \\, \\pi_{a} - 2\\right)} \\pi_{c} + 11 \\, \\pi_{c}^{2} + 12 \\, \\pi_{a} + 5\\right)} \\pi_{g} + 5 \\, \\pi_{a}\\right)} \\pi_{t} + 64 \\, p - 57}\\right)$"
      ],
      "text/plain": [
       "log((51*pi_a^4 - 4*(17*pi_a + 6)*pi_c^3 + 51*pi_c^4 - 4*(17*pi_a + 17*pi_c + 6)*pi_g^3 + 51*pi_g^4 - 4*(17*pi_a + 17*pi_c + 17*pi_g + 6)*pi_t^3 + 51*pi_t^4 - 24*pi_a^3 + 2*(73*pi_a^2 + 12*pi_a - 9)*pi_c^2 + 2*(73*pi_a^2 - 2*(11*pi_a - 6)*pi_c + 73*pi_c^2 + 12*pi_a - 9)*pi_g^2 + 2*(73*pi_a^2 - 2*(11*pi_a - 6)*pi_c + 73*pi_c^2 - 2*(11*pi_a + 11*pi_c - 6)*pi_g + 73*pi_g^2 + 12*pi_a - 9)*pi_t^2 - 18*pi_a^2 - 4*(17*pi_a^3 - 6*pi_a^2 - 3*pi_a)*pi_c - 4*(17*pi_a^3 + (11*pi_a - 6)*pi_c^2 + 17*pi_c^3 - 6*pi_a^2 + (11*pi_a^2 + 12*pi_a - 3)*pi_c - 3*pi_a)*pi_g - 4*(17*pi_a^3 + (11*pi_a - 6)*pi_c^2 + 17*pi_c^3 + (11*pi_a + 11*pi_c - 6)*pi_g^2 + 17*pi_g^3 - 6*pi_a^2 + (11*pi_a^2 + 12*pi_a - 3)*pi_c + (11*pi_a^2 - 6*(11*pi_a - 2)*pi_c + 11*pi_c^2 + 12*pi_a - 3)*pi_g - 3*pi_a)*pi_t + 8*sqrt(-3*(17*p - 12)*pi_a^4 - 3*(17*p - 12)*pi_c^4 - 3*(17*p - 12)*pi_g^4 - 3*(17*p - 12)*pi_t^4 + 24*p*pi_a^3 + 4*((17*p - 12)*pi_a + 6*p)*pi_c^3 + 4*((17*p - 12)*pi_a + (17*p - 12)*pi_c + 6*p)*pi_g^3 + 4*((17*p - 12)*pi_a + (17*p - 12)*pi_c + (17*p - 12)*pi_g + 6*p)*pi_t^3 + 6*(11*p - 12)*pi_a^2 - 2*((73*p - 44)*pi_a^2 + 12*p*pi_a - 33*p + 36)*pi_c^2 - 2*((73*p - 44)*pi_a^2 + (73*p - 44)*pi_c^2 + 12*p*pi_a - 2*((11*p - 4)*pi_a - 6*p)*pi_c - 33*p + 36)*pi_g^2 - 2*((73*p - 44)*pi_a^2 + (73*p - 44)*pi_c^2 + (73*p - 44)*pi_g^2 + 12*p*pi_a - 2*((11*p - 4)*pi_a - 6*p)*pi_c - 2*((11*p - 4)*pi_a + (11*p - 4)*pi_c - 6*p)*pi_g - 33*p + 36)*pi_t^2 + 4*((17*p - 12)*pi_a^3 - 6*p*pi_a^2 - (11*p - 12)*pi_a)*pi_c + 4*((17*p - 12)*pi_a^3 + (17*p - 12)*pi_c^3 - 6*p*pi_a^2 + ((11*p - 4)*pi_a - 6*p)*pi_c^2 - (11*p - 12)*pi_a + ((11*p - 4)*pi_a^2 + 12*p*pi_a - 11*p + 12)*pi_c)*pi_g + 4*((17*p - 12)*pi_a^3 + (17*p - 12)*pi_c^3 + (17*p - 12)*pi_g^3 - 6*p*pi_a^2 + ((11*p - 4)*pi_a - 6*p)*pi_c^2 + ((11*p - 4)*pi_a + (11*p - 4)*pi_c - 6*p)*pi_g^2 - (11*p - 12)*pi_a + ((11*p - 4)*pi_a^2 + 12*p*pi_a - 11*p + 12)*pi_c + ((11*p - 4)*pi_a^2 + (11*p - 4)*pi_c^2 + 12*p*pi_a - 6*((11*p - 4)*pi_a - 2*p)*pi_c - 11*p + 12)*pi_g)*pi_t - 39*p + 36) - 9)/(51*pi_a^4 - 4*(17*pi_a + 6)*pi_c^3 + 51*pi_c^4 - 4*(17*pi_a + 17*pi_c + 6)*pi_g^3 + 51*pi_g^4 - 4*(17*pi_a + 17*pi_c + 17*pi_g + 6)*pi_t^3 + 51*pi_t^4 - 24*pi_a^3 + 2*(73*pi_a^2 + 12*pi_a + 15)*pi_c^2 + 2*(73*pi_a^2 - 2*(11*pi_a - 6)*pi_c + 73*pi_c^2 + 12*pi_a + 15)*pi_g^2 + 2*(73*pi_a^2 - 2*(11*pi_a - 6)*pi_c + 73*pi_c^2 - 2*(11*pi_a + 11*pi_c - 6)*pi_g + 73*pi_g^2 + 12*pi_a + 15)*pi_t^2 + 30*pi_a^2 - 4*(17*pi_a^3 - 6*pi_a^2 + 5*pi_a)*pi_c - 4*(17*pi_a^3 + (11*pi_a - 6)*pi_c^2 + 17*pi_c^3 - 6*pi_a^2 + (11*pi_a^2 + 12*pi_a + 5)*pi_c + 5*pi_a)*pi_g - 4*(17*pi_a^3 + (11*pi_a - 6)*pi_c^2 + 17*pi_c^3 + (11*pi_a + 11*pi_c - 6)*pi_g^2 + 17*pi_g^3 - 6*pi_a^2 + (11*pi_a^2 + 12*pi_a + 5)*pi_c + (11*pi_a^2 - 6*(11*pi_a - 2)*pi_c + 11*pi_c^2 + 12*pi_a + 5)*pi_g + 5*pi_a)*pi_t + 64*p - 57))"
      ]
     },
     "metadata": {},
     "output_type": "display_data"
    }
   ],
   "source": [
    "nu_hat_f10t = solns[1].rhs().simplify_full()\n",
    "pretty_print(nu_hat_f10t)"
   ]
  },
  {
   "cell_type": "code",
   "execution_count": 128,
   "id": "d4a42705-e555-4914-8227-588ad12271e3",
   "metadata": {},
   "outputs": [
    {
     "data": {
      "text/html": [
       "<html>\\(\\displaystyle \\log\\left(\\frac{51 \\, \\tau_{1}^{4} + 224 \\, \\tau_{1} \\tau_{2}^{3} + 112 \\, \\tau_{2}^{4} + 4 \\, {\\left(17 \\, \\tau_{1} + 34 \\, \\tau_{2} - 6\\right)} \\tau_{3}^{3} + 51 \\, \\tau_{3}^{4} + 24 \\, \\tau_{1}^{3} + 8 \\, {\\left(31 \\, \\tau_{1}^{2} - 3\\right)} \\tau_{2}^{2} + 2 \\, {\\left(73 \\, \\tau_{1}^{2} + 4 \\, {\\left(31 \\, \\tau_{1} - 6\\right)} \\tau_{2} + 124 \\, \\tau_{2}^{2} - 12 \\, \\tau_{1} - 9\\right)} \\tau_{3}^{2} - 18 \\, \\tau_{1}^{2} + 8 \\, {\\left(17 \\, \\tau_{1}^{3} + 6 \\, \\tau_{1}^{2} - 3 \\, \\tau_{1}\\right)} \\tau_{2} + 4 \\, {\\left(17 \\, \\tau_{1}^{3} + 84 \\, \\tau_{1} \\tau_{2}^{2} + 56 \\, \\tau_{2}^{3} + 6 \\, \\tau_{1}^{2} + 2 \\, {\\left(31 \\, \\tau_{1}^{2} - 3\\right)} \\tau_{2} - 3 \\, \\tau_{1}\\right)} \\tau_{3} + 8 \\, \\sqrt{-3 \\, {\\left(17 \\, p - 12\\right)} \\tau_{1}^{4} - 32 \\, {\\left(7 \\, p - 4\\right)} \\tau_{1} \\tau_{2}^{3} - 16 \\, {\\left(7 \\, p - 4\\right)} \\tau_{2}^{4} - 3 \\, {\\left(17 \\, p - 12\\right)} \\tau_{3}^{4} - 24 \\, p \\tau_{1}^{3} - 4 \\, {\\left({\\left(17 \\, p - 12\\right)} \\tau_{1} + 2 \\, {\\left(17 \\, p - 12\\right)} \\tau_{2} - 6 \\, p\\right)} \\tau_{3}^{3} + 6 \\, {\\left(11 \\, p - 12\\right)} \\tau_{1}^{2} - 8 \\, {\\left({\\left(31 \\, p - 20\\right)} \\tau_{1}^{2} - 11 \\, p + 12\\right)} \\tau_{2}^{2} - 2 \\, {\\left({\\left(73 \\, p - 44\\right)} \\tau_{1}^{2} + 4 \\, {\\left(31 \\, p - 20\\right)} \\tau_{2}^{2} - 12 \\, p \\tau_{1} + 4 \\, {\\left({\\left(31 \\, p - 20\\right)} \\tau_{1} - 6 \\, p\\right)} \\tau_{2} - 33 \\, p + 36\\right)} \\tau_{3}^{2} - 8 \\, {\\left({\\left(17 \\, p - 12\\right)} \\tau_{1}^{3} + 6 \\, p \\tau_{1}^{2} - {\\left(11 \\, p - 12\\right)} \\tau_{1}\\right)} \\tau_{2} - 4 \\, {\\left({\\left(17 \\, p - 12\\right)} \\tau_{1}^{3} + 12 \\, {\\left(7 \\, p - 4\\right)} \\tau_{1} \\tau_{2}^{2} + 8 \\, {\\left(7 \\, p - 4\\right)} \\tau_{2}^{3} + 6 \\, p \\tau_{1}^{2} - {\\left(11 \\, p - 12\\right)} \\tau_{1} + 2 \\, {\\left({\\left(31 \\, p - 20\\right)} \\tau_{1}^{2} - 11 \\, p + 12\\right)} \\tau_{2}\\right)} \\tau_{3} - 39 \\, p + 36} - 9}{51 \\, \\tau_{1}^{4} + 224 \\, \\tau_{1} \\tau_{2}^{3} + 112 \\, \\tau_{2}^{4} + 4 \\, {\\left(17 \\, \\tau_{1} + 34 \\, \\tau_{2} - 6\\right)} \\tau_{3}^{3} + 51 \\, \\tau_{3}^{4} + 24 \\, \\tau_{1}^{3} + 8 \\, {\\left(31 \\, \\tau_{1}^{2} + 5\\right)} \\tau_{2}^{2} + 2 \\, {\\left(73 \\, \\tau_{1}^{2} + 4 \\, {\\left(31 \\, \\tau_{1} - 6\\right)} \\tau_{2} + 124 \\, \\tau_{2}^{2} - 12 \\, \\tau_{1} + 15\\right)} \\tau_{3}^{2} + 30 \\, \\tau_{1}^{2} + 8 \\, {\\left(17 \\, \\tau_{1}^{3} + 6 \\, \\tau_{1}^{2} + 5 \\, \\tau_{1}\\right)} \\tau_{2} + 4 \\, {\\left(17 \\, \\tau_{1}^{3} + 84 \\, \\tau_{1} \\tau_{2}^{2} + 56 \\, \\tau_{2}^{3} + 6 \\, \\tau_{1}^{2} + 2 \\, {\\left(31 \\, \\tau_{1}^{2} + 5\\right)} \\tau_{2} + 5 \\, \\tau_{1}\\right)} \\tau_{3} + 64 \\, p - 57}\\right)\\)</html>"
      ],
      "text/latex": [
       "$\\displaystyle \\log\\left(\\frac{51 \\, \\tau_{1}^{4} + 224 \\, \\tau_{1} \\tau_{2}^{3} + 112 \\, \\tau_{2}^{4} + 4 \\, {\\left(17 \\, \\tau_{1} + 34 \\, \\tau_{2} - 6\\right)} \\tau_{3}^{3} + 51 \\, \\tau_{3}^{4} + 24 \\, \\tau_{1}^{3} + 8 \\, {\\left(31 \\, \\tau_{1}^{2} - 3\\right)} \\tau_{2}^{2} + 2 \\, {\\left(73 \\, \\tau_{1}^{2} + 4 \\, {\\left(31 \\, \\tau_{1} - 6\\right)} \\tau_{2} + 124 \\, \\tau_{2}^{2} - 12 \\, \\tau_{1} - 9\\right)} \\tau_{3}^{2} - 18 \\, \\tau_{1}^{2} + 8 \\, {\\left(17 \\, \\tau_{1}^{3} + 6 \\, \\tau_{1}^{2} - 3 \\, \\tau_{1}\\right)} \\tau_{2} + 4 \\, {\\left(17 \\, \\tau_{1}^{3} + 84 \\, \\tau_{1} \\tau_{2}^{2} + 56 \\, \\tau_{2}^{3} + 6 \\, \\tau_{1}^{2} + 2 \\, {\\left(31 \\, \\tau_{1}^{2} - 3\\right)} \\tau_{2} - 3 \\, \\tau_{1}\\right)} \\tau_{3} + 8 \\, \\sqrt{-3 \\, {\\left(17 \\, p - 12\\right)} \\tau_{1}^{4} - 32 \\, {\\left(7 \\, p - 4\\right)} \\tau_{1} \\tau_{2}^{3} - 16 \\, {\\left(7 \\, p - 4\\right)} \\tau_{2}^{4} - 3 \\, {\\left(17 \\, p - 12\\right)} \\tau_{3}^{4} - 24 \\, p \\tau_{1}^{3} - 4 \\, {\\left({\\left(17 \\, p - 12\\right)} \\tau_{1} + 2 \\, {\\left(17 \\, p - 12\\right)} \\tau_{2} - 6 \\, p\\right)} \\tau_{3}^{3} + 6 \\, {\\left(11 \\, p - 12\\right)} \\tau_{1}^{2} - 8 \\, {\\left({\\left(31 \\, p - 20\\right)} \\tau_{1}^{2} - 11 \\, p + 12\\right)} \\tau_{2}^{2} - 2 \\, {\\left({\\left(73 \\, p - 44\\right)} \\tau_{1}^{2} + 4 \\, {\\left(31 \\, p - 20\\right)} \\tau_{2}^{2} - 12 \\, p \\tau_{1} + 4 \\, {\\left({\\left(31 \\, p - 20\\right)} \\tau_{1} - 6 \\, p\\right)} \\tau_{2} - 33 \\, p + 36\\right)} \\tau_{3}^{2} - 8 \\, {\\left({\\left(17 \\, p - 12\\right)} \\tau_{1}^{3} + 6 \\, p \\tau_{1}^{2} - {\\left(11 \\, p - 12\\right)} \\tau_{1}\\right)} \\tau_{2} - 4 \\, {\\left({\\left(17 \\, p - 12\\right)} \\tau_{1}^{3} + 12 \\, {\\left(7 \\, p - 4\\right)} \\tau_{1} \\tau_{2}^{2} + 8 \\, {\\left(7 \\, p - 4\\right)} \\tau_{2}^{3} + 6 \\, p \\tau_{1}^{2} - {\\left(11 \\, p - 12\\right)} \\tau_{1} + 2 \\, {\\left({\\left(31 \\, p - 20\\right)} \\tau_{1}^{2} - 11 \\, p + 12\\right)} \\tau_{2}\\right)} \\tau_{3} - 39 \\, p + 36} - 9}{51 \\, \\tau_{1}^{4} + 224 \\, \\tau_{1} \\tau_{2}^{3} + 112 \\, \\tau_{2}^{4} + 4 \\, {\\left(17 \\, \\tau_{1} + 34 \\, \\tau_{2} - 6\\right)} \\tau_{3}^{3} + 51 \\, \\tau_{3}^{4} + 24 \\, \\tau_{1}^{3} + 8 \\, {\\left(31 \\, \\tau_{1}^{2} + 5\\right)} \\tau_{2}^{2} + 2 \\, {\\left(73 \\, \\tau_{1}^{2} + 4 \\, {\\left(31 \\, \\tau_{1} - 6\\right)} \\tau_{2} + 124 \\, \\tau_{2}^{2} - 12 \\, \\tau_{1} + 15\\right)} \\tau_{3}^{2} + 30 \\, \\tau_{1}^{2} + 8 \\, {\\left(17 \\, \\tau_{1}^{3} + 6 \\, \\tau_{1}^{2} + 5 \\, \\tau_{1}\\right)} \\tau_{2} + 4 \\, {\\left(17 \\, \\tau_{1}^{3} + 84 \\, \\tau_{1} \\tau_{2}^{2} + 56 \\, \\tau_{2}^{3} + 6 \\, \\tau_{1}^{2} + 2 \\, {\\left(31 \\, \\tau_{1}^{2} + 5\\right)} \\tau_{2} + 5 \\, \\tau_{1}\\right)} \\tau_{3} + 64 \\, p - 57}\\right)$"
      ],
      "text/plain": [
       "log((51*tau_1^4 + 224*tau_1*tau_2^3 + 112*tau_2^4 + 4*(17*tau_1 + 34*tau_2 - 6)*tau_3^3 + 51*tau_3^4 + 24*tau_1^3 + 8*(31*tau_1^2 - 3)*tau_2^2 + 2*(73*tau_1^2 + 4*(31*tau_1 - 6)*tau_2 + 124*tau_2^2 - 12*tau_1 - 9)*tau_3^2 - 18*tau_1^2 + 8*(17*tau_1^3 + 6*tau_1^2 - 3*tau_1)*tau_2 + 4*(17*tau_1^3 + 84*tau_1*tau_2^2 + 56*tau_2^3 + 6*tau_1^2 + 2*(31*tau_1^2 - 3)*tau_2 - 3*tau_1)*tau_3 + 8*sqrt(-3*(17*p - 12)*tau_1^4 - 32*(7*p - 4)*tau_1*tau_2^3 - 16*(7*p - 4)*tau_2^4 - 3*(17*p - 12)*tau_3^4 - 24*p*tau_1^3 - 4*((17*p - 12)*tau_1 + 2*(17*p - 12)*tau_2 - 6*p)*tau_3^3 + 6*(11*p - 12)*tau_1^2 - 8*((31*p - 20)*tau_1^2 - 11*p + 12)*tau_2^2 - 2*((73*p - 44)*tau_1^2 + 4*(31*p - 20)*tau_2^2 - 12*p*tau_1 + 4*((31*p - 20)*tau_1 - 6*p)*tau_2 - 33*p + 36)*tau_3^2 - 8*((17*p - 12)*tau_1^3 + 6*p*tau_1^2 - (11*p - 12)*tau_1)*tau_2 - 4*((17*p - 12)*tau_1^3 + 12*(7*p - 4)*tau_1*tau_2^2 + 8*(7*p - 4)*tau_2^3 + 6*p*tau_1^2 - (11*p - 12)*tau_1 + 2*((31*p - 20)*tau_1^2 - 11*p + 12)*tau_2)*tau_3 - 39*p + 36) - 9)/(51*tau_1^4 + 224*tau_1*tau_2^3 + 112*tau_2^4 + 4*(17*tau_1 + 34*tau_2 - 6)*tau_3^3 + 51*tau_3^4 + 24*tau_1^3 + 8*(31*tau_1^2 + 5)*tau_2^2 + 2*(73*tau_1^2 + 4*(31*tau_1 - 6)*tau_2 + 124*tau_2^2 - 12*tau_1 + 15)*tau_3^2 + 30*tau_1^2 + 8*(17*tau_1^3 + 6*tau_1^2 + 5*tau_1)*tau_2 + 4*(17*tau_1^3 + 84*tau_1*tau_2^2 + 56*tau_2^3 + 6*tau_1^2 + 2*(31*tau_1^2 + 5)*tau_2 + 5*tau_1)*tau_3 + 64*p - 57))"
      ]
     },
     "metadata": {},
     "output_type": "display_data"
    }
   ],
   "source": [
    "temp = (\n",
    "    nu_hat_f10t(pi_t=tau_3+pi_g)(pi_g=tau_2+pi_c)(pi_c=tau_1+pi_a)(pi_a=(1-3*tau_1-2*tau_2-tau_3)/4)\n",
    ").simplify_full()\n",
    "pretty_print(temp)"
   ]
  },
  {
   "cell_type": "code",
   "execution_count": 129,
   "id": "48329857-9bae-4b6d-9808-193ad539c8c1",
   "metadata": {},
   "outputs": [
    {
     "data": {
      "text/html": [
       "<html>\\(\\displaystyle \\log\\left(\\frac{51 \\, \\pi_{a}^{4} - 4 \\, {\\left(17 \\, \\pi_{a} + 6\\right)} \\pi_{c}^{3} + 51 \\, \\pi_{c}^{4} - 4 \\, {\\left(17 \\, \\pi_{a} + 17 \\, \\pi_{c} + 6\\right)} \\pi_{g}^{3} + 51 \\, \\pi_{g}^{4} - 4 \\, {\\left(17 \\, \\pi_{a} + 17 \\, \\pi_{c} + 17 \\, \\pi_{g} + 6\\right)} \\pi_{t}^{3} + 51 \\, \\pi_{t}^{4} - 24 \\, \\pi_{a}^{3} + 2 \\, {\\left(73 \\, \\pi_{a}^{2} + 12 \\, \\pi_{a} - 9\\right)} \\pi_{c}^{2} + 2 \\, {\\left(73 \\, \\pi_{a}^{2} - 2 \\, {\\left(11 \\, \\pi_{a} - 6\\right)} \\pi_{c} + 73 \\, \\pi_{c}^{2} + 12 \\, \\pi_{a} - 9\\right)} \\pi_{g}^{2} + 2 \\, {\\left(73 \\, \\pi_{a}^{2} - 2 \\, {\\left(11 \\, \\pi_{a} - 6\\right)} \\pi_{c} + 73 \\, \\pi_{c}^{2} - 2 \\, {\\left(11 \\, \\pi_{a} + 11 \\, \\pi_{c} - 6\\right)} \\pi_{g} + 73 \\, \\pi_{g}^{2} + 12 \\, \\pi_{a} - 9\\right)} \\pi_{t}^{2} - 18 \\, \\pi_{a}^{2} - 4 \\, {\\left(17 \\, \\pi_{a}^{3} - 6 \\, \\pi_{a}^{2} - 3 \\, \\pi_{a}\\right)} \\pi_{c} - 4 \\, {\\left(17 \\, \\pi_{a}^{3} + {\\left(11 \\, \\pi_{a} - 6\\right)} \\pi_{c}^{2} + 17 \\, \\pi_{c}^{3} - 6 \\, \\pi_{a}^{2} + {\\left(11 \\, \\pi_{a}^{2} + 12 \\, \\pi_{a} - 3\\right)} \\pi_{c} - 3 \\, \\pi_{a}\\right)} \\pi_{g} - 4 \\, {\\left(17 \\, \\pi_{a}^{3} + {\\left(11 \\, \\pi_{a} - 6\\right)} \\pi_{c}^{2} + 17 \\, \\pi_{c}^{3} + {\\left(11 \\, \\pi_{a} + 11 \\, \\pi_{c} - 6\\right)} \\pi_{g}^{2} + 17 \\, \\pi_{g}^{3} - 6 \\, \\pi_{a}^{2} + {\\left(11 \\, \\pi_{a}^{2} + 12 \\, \\pi_{a} - 3\\right)} \\pi_{c} + {\\left(11 \\, \\pi_{a}^{2} - 6 \\, {\\left(11 \\, \\pi_{a} - 2\\right)} \\pi_{c} + 11 \\, \\pi_{c}^{2} + 12 \\, \\pi_{a} - 3\\right)} \\pi_{g} - 3 \\, \\pi_{a}\\right)} \\pi_{t} + 8 \\, \\sqrt{-3 \\, {\\left(17 \\, p - 12\\right)} \\pi_{a}^{4} - 3 \\, {\\left(17 \\, p - 12\\right)} \\pi_{c}^{4} - 3 \\, {\\left(17 \\, p - 12\\right)} \\pi_{g}^{4} - 3 \\, {\\left(17 \\, p - 12\\right)} \\pi_{t}^{4} + 24 \\, p \\pi_{a}^{3} + 4 \\, {\\left({\\left(17 \\, p - 12\\right)} \\pi_{a} + 6 \\, p\\right)} \\pi_{c}^{3} + 4 \\, {\\left({\\left(17 \\, p - 12\\right)} \\pi_{a} + {\\left(17 \\, p - 12\\right)} \\pi_{c} + 6 \\, p\\right)} \\pi_{g}^{3} + 4 \\, {\\left({\\left(17 \\, p - 12\\right)} \\pi_{a} + {\\left(17 \\, p - 12\\right)} \\pi_{c} + {\\left(17 \\, p - 12\\right)} \\pi_{g} + 6 \\, p\\right)} \\pi_{t}^{3} + 6 \\, {\\left(11 \\, p - 12\\right)} \\pi_{a}^{2} - 2 \\, {\\left({\\left(73 \\, p - 44\\right)} \\pi_{a}^{2} + 12 \\, p \\pi_{a} - 33 \\, p + 36\\right)} \\pi_{c}^{2} - 2 \\, {\\left({\\left(73 \\, p - 44\\right)} \\pi_{a}^{2} + {\\left(73 \\, p - 44\\right)} \\pi_{c}^{2} + 12 \\, p \\pi_{a} - 2 \\, {\\left({\\left(11 \\, p - 4\\right)} \\pi_{a} - 6 \\, p\\right)} \\pi_{c} - 33 \\, p + 36\\right)} \\pi_{g}^{2} - 2 \\, {\\left({\\left(73 \\, p - 44\\right)} \\pi_{a}^{2} + {\\left(73 \\, p - 44\\right)} \\pi_{c}^{2} + {\\left(73 \\, p - 44\\right)} \\pi_{g}^{2} + 12 \\, p \\pi_{a} - 2 \\, {\\left({\\left(11 \\, p - 4\\right)} \\pi_{a} - 6 \\, p\\right)} \\pi_{c} - 2 \\, {\\left({\\left(11 \\, p - 4\\right)} \\pi_{a} + {\\left(11 \\, p - 4\\right)} \\pi_{c} - 6 \\, p\\right)} \\pi_{g} - 33 \\, p + 36\\right)} \\pi_{t}^{2} + 4 \\, {\\left({\\left(17 \\, p - 12\\right)} \\pi_{a}^{3} - 6 \\, p \\pi_{a}^{2} - {\\left(11 \\, p - 12\\right)} \\pi_{a}\\right)} \\pi_{c} + 4 \\, {\\left({\\left(17 \\, p - 12\\right)} \\pi_{a}^{3} + {\\left(17 \\, p - 12\\right)} \\pi_{c}^{3} - 6 \\, p \\pi_{a}^{2} + {\\left({\\left(11 \\, p - 4\\right)} \\pi_{a} - 6 \\, p\\right)} \\pi_{c}^{2} - {\\left(11 \\, p - 12\\right)} \\pi_{a} + {\\left({\\left(11 \\, p - 4\\right)} \\pi_{a}^{2} + 12 \\, p \\pi_{a} - 11 \\, p + 12\\right)} \\pi_{c}\\right)} \\pi_{g} + 4 \\, {\\left({\\left(17 \\, p - 12\\right)} \\pi_{a}^{3} + {\\left(17 \\, p - 12\\right)} \\pi_{c}^{3} + {\\left(17 \\, p - 12\\right)} \\pi_{g}^{3} - 6 \\, p \\pi_{a}^{2} + {\\left({\\left(11 \\, p - 4\\right)} \\pi_{a} - 6 \\, p\\right)} \\pi_{c}^{2} + {\\left({\\left(11 \\, p - 4\\right)} \\pi_{a} + {\\left(11 \\, p - 4\\right)} \\pi_{c} - 6 \\, p\\right)} \\pi_{g}^{2} - {\\left(11 \\, p - 12\\right)} \\pi_{a} + {\\left({\\left(11 \\, p - 4\\right)} \\pi_{a}^{2} + 12 \\, p \\pi_{a} - 11 \\, p + 12\\right)} \\pi_{c} + {\\left({\\left(11 \\, p - 4\\right)} \\pi_{a}^{2} + {\\left(11 \\, p - 4\\right)} \\pi_{c}^{2} + 12 \\, p \\pi_{a} - 6 \\, {\\left({\\left(11 \\, p - 4\\right)} \\pi_{a} - 2 \\, p\\right)} \\pi_{c} - 11 \\, p + 12\\right)} \\pi_{g}\\right)} \\pi_{t} - 39 \\, p + 36} - 9}{51 \\, \\pi_{a}^{4} - 4 \\, {\\left(17 \\, \\pi_{a} + 6\\right)} \\pi_{c}^{3} + 51 \\, \\pi_{c}^{4} - 4 \\, {\\left(17 \\, \\pi_{a} + 17 \\, \\pi_{c} + 6\\right)} \\pi_{g}^{3} + 51 \\, \\pi_{g}^{4} - 4 \\, {\\left(17 \\, \\pi_{a} + 17 \\, \\pi_{c} + 17 \\, \\pi_{g} + 6\\right)} \\pi_{t}^{3} + 51 \\, \\pi_{t}^{4} - 24 \\, \\pi_{a}^{3} + 2 \\, {\\left(73 \\, \\pi_{a}^{2} + 12 \\, \\pi_{a} + 15\\right)} \\pi_{c}^{2} + 2 \\, {\\left(73 \\, \\pi_{a}^{2} - 2 \\, {\\left(11 \\, \\pi_{a} - 6\\right)} \\pi_{c} + 73 \\, \\pi_{c}^{2} + 12 \\, \\pi_{a} + 15\\right)} \\pi_{g}^{2} + 2 \\, {\\left(73 \\, \\pi_{a}^{2} - 2 \\, {\\left(11 \\, \\pi_{a} - 6\\right)} \\pi_{c} + 73 \\, \\pi_{c}^{2} - 2 \\, {\\left(11 \\, \\pi_{a} + 11 \\, \\pi_{c} - 6\\right)} \\pi_{g} + 73 \\, \\pi_{g}^{2} + 12 \\, \\pi_{a} + 15\\right)} \\pi_{t}^{2} + 30 \\, \\pi_{a}^{2} - 4 \\, {\\left(17 \\, \\pi_{a}^{3} - 6 \\, \\pi_{a}^{2} + 5 \\, \\pi_{a}\\right)} \\pi_{c} - 4 \\, {\\left(17 \\, \\pi_{a}^{3} + {\\left(11 \\, \\pi_{a} - 6\\right)} \\pi_{c}^{2} + 17 \\, \\pi_{c}^{3} - 6 \\, \\pi_{a}^{2} + {\\left(11 \\, \\pi_{a}^{2} + 12 \\, \\pi_{a} + 5\\right)} \\pi_{c} + 5 \\, \\pi_{a}\\right)} \\pi_{g} - 4 \\, {\\left(17 \\, \\pi_{a}^{3} + {\\left(11 \\, \\pi_{a} - 6\\right)} \\pi_{c}^{2} + 17 \\, \\pi_{c}^{3} + {\\left(11 \\, \\pi_{a} + 11 \\, \\pi_{c} - 6\\right)} \\pi_{g}^{2} + 17 \\, \\pi_{g}^{3} - 6 \\, \\pi_{a}^{2} + {\\left(11 \\, \\pi_{a}^{2} + 12 \\, \\pi_{a} + 5\\right)} \\pi_{c} + {\\left(11 \\, \\pi_{a}^{2} - 6 \\, {\\left(11 \\, \\pi_{a} - 2\\right)} \\pi_{c} + 11 \\, \\pi_{c}^{2} + 12 \\, \\pi_{a} + 5\\right)} \\pi_{g} + 5 \\, \\pi_{a}\\right)} \\pi_{t} + 64 \\, p - 57}\\right)\\)</html>"
      ],
      "text/latex": [
       "$\\displaystyle \\log\\left(\\frac{51 \\, \\pi_{a}^{4} - 4 \\, {\\left(17 \\, \\pi_{a} + 6\\right)} \\pi_{c}^{3} + 51 \\, \\pi_{c}^{4} - 4 \\, {\\left(17 \\, \\pi_{a} + 17 \\, \\pi_{c} + 6\\right)} \\pi_{g}^{3} + 51 \\, \\pi_{g}^{4} - 4 \\, {\\left(17 \\, \\pi_{a} + 17 \\, \\pi_{c} + 17 \\, \\pi_{g} + 6\\right)} \\pi_{t}^{3} + 51 \\, \\pi_{t}^{4} - 24 \\, \\pi_{a}^{3} + 2 \\, {\\left(73 \\, \\pi_{a}^{2} + 12 \\, \\pi_{a} - 9\\right)} \\pi_{c}^{2} + 2 \\, {\\left(73 \\, \\pi_{a}^{2} - 2 \\, {\\left(11 \\, \\pi_{a} - 6\\right)} \\pi_{c} + 73 \\, \\pi_{c}^{2} + 12 \\, \\pi_{a} - 9\\right)} \\pi_{g}^{2} + 2 \\, {\\left(73 \\, \\pi_{a}^{2} - 2 \\, {\\left(11 \\, \\pi_{a} - 6\\right)} \\pi_{c} + 73 \\, \\pi_{c}^{2} - 2 \\, {\\left(11 \\, \\pi_{a} + 11 \\, \\pi_{c} - 6\\right)} \\pi_{g} + 73 \\, \\pi_{g}^{2} + 12 \\, \\pi_{a} - 9\\right)} \\pi_{t}^{2} - 18 \\, \\pi_{a}^{2} - 4 \\, {\\left(17 \\, \\pi_{a}^{3} - 6 \\, \\pi_{a}^{2} - 3 \\, \\pi_{a}\\right)} \\pi_{c} - 4 \\, {\\left(17 \\, \\pi_{a}^{3} + {\\left(11 \\, \\pi_{a} - 6\\right)} \\pi_{c}^{2} + 17 \\, \\pi_{c}^{3} - 6 \\, \\pi_{a}^{2} + {\\left(11 \\, \\pi_{a}^{2} + 12 \\, \\pi_{a} - 3\\right)} \\pi_{c} - 3 \\, \\pi_{a}\\right)} \\pi_{g} - 4 \\, {\\left(17 \\, \\pi_{a}^{3} + {\\left(11 \\, \\pi_{a} - 6\\right)} \\pi_{c}^{2} + 17 \\, \\pi_{c}^{3} + {\\left(11 \\, \\pi_{a} + 11 \\, \\pi_{c} - 6\\right)} \\pi_{g}^{2} + 17 \\, \\pi_{g}^{3} - 6 \\, \\pi_{a}^{2} + {\\left(11 \\, \\pi_{a}^{2} + 12 \\, \\pi_{a} - 3\\right)} \\pi_{c} + {\\left(11 \\, \\pi_{a}^{2} - 6 \\, {\\left(11 \\, \\pi_{a} - 2\\right)} \\pi_{c} + 11 \\, \\pi_{c}^{2} + 12 \\, \\pi_{a} - 3\\right)} \\pi_{g} - 3 \\, \\pi_{a}\\right)} \\pi_{t} + 8 \\, \\sqrt{-3 \\, {\\left(17 \\, p - 12\\right)} \\pi_{a}^{4} - 3 \\, {\\left(17 \\, p - 12\\right)} \\pi_{c}^{4} - 3 \\, {\\left(17 \\, p - 12\\right)} \\pi_{g}^{4} - 3 \\, {\\left(17 \\, p - 12\\right)} \\pi_{t}^{4} + 24 \\, p \\pi_{a}^{3} + 4 \\, {\\left({\\left(17 \\, p - 12\\right)} \\pi_{a} + 6 \\, p\\right)} \\pi_{c}^{3} + 4 \\, {\\left({\\left(17 \\, p - 12\\right)} \\pi_{a} + {\\left(17 \\, p - 12\\right)} \\pi_{c} + 6 \\, p\\right)} \\pi_{g}^{3} + 4 \\, {\\left({\\left(17 \\, p - 12\\right)} \\pi_{a} + {\\left(17 \\, p - 12\\right)} \\pi_{c} + {\\left(17 \\, p - 12\\right)} \\pi_{g} + 6 \\, p\\right)} \\pi_{t}^{3} + 6 \\, {\\left(11 \\, p - 12\\right)} \\pi_{a}^{2} - 2 \\, {\\left({\\left(73 \\, p - 44\\right)} \\pi_{a}^{2} + 12 \\, p \\pi_{a} - 33 \\, p + 36\\right)} \\pi_{c}^{2} - 2 \\, {\\left({\\left(73 \\, p - 44\\right)} \\pi_{a}^{2} + {\\left(73 \\, p - 44\\right)} \\pi_{c}^{2} + 12 \\, p \\pi_{a} - 2 \\, {\\left({\\left(11 \\, p - 4\\right)} \\pi_{a} - 6 \\, p\\right)} \\pi_{c} - 33 \\, p + 36\\right)} \\pi_{g}^{2} - 2 \\, {\\left({\\left(73 \\, p - 44\\right)} \\pi_{a}^{2} + {\\left(73 \\, p - 44\\right)} \\pi_{c}^{2} + {\\left(73 \\, p - 44\\right)} \\pi_{g}^{2} + 12 \\, p \\pi_{a} - 2 \\, {\\left({\\left(11 \\, p - 4\\right)} \\pi_{a} - 6 \\, p\\right)} \\pi_{c} - 2 \\, {\\left({\\left(11 \\, p - 4\\right)} \\pi_{a} + {\\left(11 \\, p - 4\\right)} \\pi_{c} - 6 \\, p\\right)} \\pi_{g} - 33 \\, p + 36\\right)} \\pi_{t}^{2} + 4 \\, {\\left({\\left(17 \\, p - 12\\right)} \\pi_{a}^{3} - 6 \\, p \\pi_{a}^{2} - {\\left(11 \\, p - 12\\right)} \\pi_{a}\\right)} \\pi_{c} + 4 \\, {\\left({\\left(17 \\, p - 12\\right)} \\pi_{a}^{3} + {\\left(17 \\, p - 12\\right)} \\pi_{c}^{3} - 6 \\, p \\pi_{a}^{2} + {\\left({\\left(11 \\, p - 4\\right)} \\pi_{a} - 6 \\, p\\right)} \\pi_{c}^{2} - {\\left(11 \\, p - 12\\right)} \\pi_{a} + {\\left({\\left(11 \\, p - 4\\right)} \\pi_{a}^{2} + 12 \\, p \\pi_{a} - 11 \\, p + 12\\right)} \\pi_{c}\\right)} \\pi_{g} + 4 \\, {\\left({\\left(17 \\, p - 12\\right)} \\pi_{a}^{3} + {\\left(17 \\, p - 12\\right)} \\pi_{c}^{3} + {\\left(17 \\, p - 12\\right)} \\pi_{g}^{3} - 6 \\, p \\pi_{a}^{2} + {\\left({\\left(11 \\, p - 4\\right)} \\pi_{a} - 6 \\, p\\right)} \\pi_{c}^{2} + {\\left({\\left(11 \\, p - 4\\right)} \\pi_{a} + {\\left(11 \\, p - 4\\right)} \\pi_{c} - 6 \\, p\\right)} \\pi_{g}^{2} - {\\left(11 \\, p - 12\\right)} \\pi_{a} + {\\left({\\left(11 \\, p - 4\\right)} \\pi_{a}^{2} + 12 \\, p \\pi_{a} - 11 \\, p + 12\\right)} \\pi_{c} + {\\left({\\left(11 \\, p - 4\\right)} \\pi_{a}^{2} + {\\left(11 \\, p - 4\\right)} \\pi_{c}^{2} + 12 \\, p \\pi_{a} - 6 \\, {\\left({\\left(11 \\, p - 4\\right)} \\pi_{a} - 2 \\, p\\right)} \\pi_{c} - 11 \\, p + 12\\right)} \\pi_{g}\\right)} \\pi_{t} - 39 \\, p + 36} - 9}{51 \\, \\pi_{a}^{4} - 4 \\, {\\left(17 \\, \\pi_{a} + 6\\right)} \\pi_{c}^{3} + 51 \\, \\pi_{c}^{4} - 4 \\, {\\left(17 \\, \\pi_{a} + 17 \\, \\pi_{c} + 6\\right)} \\pi_{g}^{3} + 51 \\, \\pi_{g}^{4} - 4 \\, {\\left(17 \\, \\pi_{a} + 17 \\, \\pi_{c} + 17 \\, \\pi_{g} + 6\\right)} \\pi_{t}^{3} + 51 \\, \\pi_{t}^{4} - 24 \\, \\pi_{a}^{3} + 2 \\, {\\left(73 \\, \\pi_{a}^{2} + 12 \\, \\pi_{a} + 15\\right)} \\pi_{c}^{2} + 2 \\, {\\left(73 \\, \\pi_{a}^{2} - 2 \\, {\\left(11 \\, \\pi_{a} - 6\\right)} \\pi_{c} + 73 \\, \\pi_{c}^{2} + 12 \\, \\pi_{a} + 15\\right)} \\pi_{g}^{2} + 2 \\, {\\left(73 \\, \\pi_{a}^{2} - 2 \\, {\\left(11 \\, \\pi_{a} - 6\\right)} \\pi_{c} + 73 \\, \\pi_{c}^{2} - 2 \\, {\\left(11 \\, \\pi_{a} + 11 \\, \\pi_{c} - 6\\right)} \\pi_{g} + 73 \\, \\pi_{g}^{2} + 12 \\, \\pi_{a} + 15\\right)} \\pi_{t}^{2} + 30 \\, \\pi_{a}^{2} - 4 \\, {\\left(17 \\, \\pi_{a}^{3} - 6 \\, \\pi_{a}^{2} + 5 \\, \\pi_{a}\\right)} \\pi_{c} - 4 \\, {\\left(17 \\, \\pi_{a}^{3} + {\\left(11 \\, \\pi_{a} - 6\\right)} \\pi_{c}^{2} + 17 \\, \\pi_{c}^{3} - 6 \\, \\pi_{a}^{2} + {\\left(11 \\, \\pi_{a}^{2} + 12 \\, \\pi_{a} + 5\\right)} \\pi_{c} + 5 \\, \\pi_{a}\\right)} \\pi_{g} - 4 \\, {\\left(17 \\, \\pi_{a}^{3} + {\\left(11 \\, \\pi_{a} - 6\\right)} \\pi_{c}^{2} + 17 \\, \\pi_{c}^{3} + {\\left(11 \\, \\pi_{a} + 11 \\, \\pi_{c} - 6\\right)} \\pi_{g}^{2} + 17 \\, \\pi_{g}^{3} - 6 \\, \\pi_{a}^{2} + {\\left(11 \\, \\pi_{a}^{2} + 12 \\, \\pi_{a} + 5\\right)} \\pi_{c} + {\\left(11 \\, \\pi_{a}^{2} - 6 \\, {\\left(11 \\, \\pi_{a} - 2\\right)} \\pi_{c} + 11 \\, \\pi_{c}^{2} + 12 \\, \\pi_{a} + 5\\right)} \\pi_{g} + 5 \\, \\pi_{a}\\right)} \\pi_{t} + 64 \\, p - 57}\\right)$"
      ],
      "text/plain": [
       "log((51*pi_a^4 - 4*(17*pi_a + 6)*pi_c^3 + 51*pi_c^4 - 4*(17*pi_a + 17*pi_c + 6)*pi_g^3 + 51*pi_g^4 - 4*(17*pi_a + 17*pi_c + 17*pi_g + 6)*pi_t^3 + 51*pi_t^4 - 24*pi_a^3 + 2*(73*pi_a^2 + 12*pi_a - 9)*pi_c^2 + 2*(73*pi_a^2 - 2*(11*pi_a - 6)*pi_c + 73*pi_c^2 + 12*pi_a - 9)*pi_g^2 + 2*(73*pi_a^2 - 2*(11*pi_a - 6)*pi_c + 73*pi_c^2 - 2*(11*pi_a + 11*pi_c - 6)*pi_g + 73*pi_g^2 + 12*pi_a - 9)*pi_t^2 - 18*pi_a^2 - 4*(17*pi_a^3 - 6*pi_a^2 - 3*pi_a)*pi_c - 4*(17*pi_a^3 + (11*pi_a - 6)*pi_c^2 + 17*pi_c^3 - 6*pi_a^2 + (11*pi_a^2 + 12*pi_a - 3)*pi_c - 3*pi_a)*pi_g - 4*(17*pi_a^3 + (11*pi_a - 6)*pi_c^2 + 17*pi_c^3 + (11*pi_a + 11*pi_c - 6)*pi_g^2 + 17*pi_g^3 - 6*pi_a^2 + (11*pi_a^2 + 12*pi_a - 3)*pi_c + (11*pi_a^2 - 6*(11*pi_a - 2)*pi_c + 11*pi_c^2 + 12*pi_a - 3)*pi_g - 3*pi_a)*pi_t + 8*sqrt(-3*(17*p - 12)*pi_a^4 - 3*(17*p - 12)*pi_c^4 - 3*(17*p - 12)*pi_g^4 - 3*(17*p - 12)*pi_t^4 + 24*p*pi_a^3 + 4*((17*p - 12)*pi_a + 6*p)*pi_c^3 + 4*((17*p - 12)*pi_a + (17*p - 12)*pi_c + 6*p)*pi_g^3 + 4*((17*p - 12)*pi_a + (17*p - 12)*pi_c + (17*p - 12)*pi_g + 6*p)*pi_t^3 + 6*(11*p - 12)*pi_a^2 - 2*((73*p - 44)*pi_a^2 + 12*p*pi_a - 33*p + 36)*pi_c^2 - 2*((73*p - 44)*pi_a^2 + (73*p - 44)*pi_c^2 + 12*p*pi_a - 2*((11*p - 4)*pi_a - 6*p)*pi_c - 33*p + 36)*pi_g^2 - 2*((73*p - 44)*pi_a^2 + (73*p - 44)*pi_c^2 + (73*p - 44)*pi_g^2 + 12*p*pi_a - 2*((11*p - 4)*pi_a - 6*p)*pi_c - 2*((11*p - 4)*pi_a + (11*p - 4)*pi_c - 6*p)*pi_g - 33*p + 36)*pi_t^2 + 4*((17*p - 12)*pi_a^3 - 6*p*pi_a^2 - (11*p - 12)*pi_a)*pi_c + 4*((17*p - 12)*pi_a^3 + (17*p - 12)*pi_c^3 - 6*p*pi_a^2 + ((11*p - 4)*pi_a - 6*p)*pi_c^2 - (11*p - 12)*pi_a + ((11*p - 4)*pi_a^2 + 12*p*pi_a - 11*p + 12)*pi_c)*pi_g + 4*((17*p - 12)*pi_a^3 + (17*p - 12)*pi_c^3 + (17*p - 12)*pi_g^3 - 6*p*pi_a^2 + ((11*p - 4)*pi_a - 6*p)*pi_c^2 + ((11*p - 4)*pi_a + (11*p - 4)*pi_c - 6*p)*pi_g^2 - (11*p - 12)*pi_a + ((11*p - 4)*pi_a^2 + 12*p*pi_a - 11*p + 12)*pi_c + ((11*p - 4)*pi_a^2 + (11*p - 4)*pi_c^2 + 12*p*pi_a - 6*((11*p - 4)*pi_a - 2*p)*pi_c - 11*p + 12)*pi_g)*pi_t - 39*p + 36) - 9)/(51*pi_a^4 - 4*(17*pi_a + 6)*pi_c^3 + 51*pi_c^4 - 4*(17*pi_a + 17*pi_c + 6)*pi_g^3 + 51*pi_g^4 - 4*(17*pi_a + 17*pi_c + 17*pi_g + 6)*pi_t^3 + 51*pi_t^4 - 24*pi_a^3 + 2*(73*pi_a^2 + 12*pi_a + 15)*pi_c^2 + 2*(73*pi_a^2 - 2*(11*pi_a - 6)*pi_c + 73*pi_c^2 + 12*pi_a + 15)*pi_g^2 + 2*(73*pi_a^2 - 2*(11*pi_a - 6)*pi_c + 73*pi_c^2 - 2*(11*pi_a + 11*pi_c - 6)*pi_g + 73*pi_g^2 + 12*pi_a + 15)*pi_t^2 + 30*pi_a^2 - 4*(17*pi_a^3 - 6*pi_a^2 + 5*pi_a)*pi_c - 4*(17*pi_a^3 + (11*pi_a - 6)*pi_c^2 + 17*pi_c^3 - 6*pi_a^2 + (11*pi_a^2 + 12*pi_a + 5)*pi_c + 5*pi_a)*pi_g - 4*(17*pi_a^3 + (11*pi_a - 6)*pi_c^2 + 17*pi_c^3 + (11*pi_a + 11*pi_c - 6)*pi_g^2 + 17*pi_g^3 - 6*pi_a^2 + (11*pi_a^2 + 12*pi_a + 5)*pi_c + (11*pi_a^2 - 6*(11*pi_a - 2)*pi_c + 11*pi_c^2 + 12*pi_a + 5)*pi_g + 5*pi_a)*pi_t + 64*p - 57))"
      ]
     },
     "metadata": {},
     "output_type": "display_data"
    }
   ],
   "source": [
    "nu_hat_f10t = (\n",
    "    temp(tau_1=pi_c-pi_a, tau_2 = pi_g-pi_c, tau_3=pi_t-pi_g).expand()\n",
    ").simplify_full()\n",
    "pretty_print( nu_hat_f10t )"
   ]
  },
  {
   "cell_type": "code",
   "execution_count": 130,
   "id": "e0d5eee4-fb58-466b-b7e7-0399dcbe4900",
   "metadata": {},
   "outputs": [
    {
     "data": {
      "text/html": [
       "<html>\\(\\displaystyle 51 \\, \\pi_{a}^{4} - 68 \\, \\pi_{a}^{3} \\pi_{c} + 146 \\, \\pi_{a}^{2} \\pi_{c}^{2} - 68 \\, \\pi_{a} \\pi_{c}^{3} + 51 \\, \\pi_{c}^{4} - 68 \\, \\pi_{a}^{3} \\pi_{g} - 44 \\, \\pi_{a}^{2} \\pi_{c} \\pi_{g} - 44 \\, \\pi_{a} \\pi_{c}^{2} \\pi_{g} - 68 \\, \\pi_{c}^{3} \\pi_{g} + 146 \\, \\pi_{a}^{2} \\pi_{g}^{2} - 44 \\, \\pi_{a} \\pi_{c} \\pi_{g}^{2} + 146 \\, \\pi_{c}^{2} \\pi_{g}^{2} - 68 \\, \\pi_{a} \\pi_{g}^{3} - 68 \\, \\pi_{c} \\pi_{g}^{3} + 51 \\, \\pi_{g}^{4} - 68 \\, \\pi_{a}^{3} \\pi_{t} - 44 \\, \\pi_{a}^{2} \\pi_{c} \\pi_{t} - 44 \\, \\pi_{a} \\pi_{c}^{2} \\pi_{t} - 68 \\, \\pi_{c}^{3} \\pi_{t} - 44 \\, \\pi_{a}^{2} \\pi_{g} \\pi_{t} + 264 \\, \\pi_{a} \\pi_{c} \\pi_{g} \\pi_{t} - 44 \\, \\pi_{c}^{2} \\pi_{g} \\pi_{t} - 44 \\, \\pi_{a} \\pi_{g}^{2} \\pi_{t} - 44 \\, \\pi_{c} \\pi_{g}^{2} \\pi_{t} - 68 \\, \\pi_{g}^{3} \\pi_{t} + 146 \\, \\pi_{a}^{2} \\pi_{t}^{2} - 44 \\, \\pi_{a} \\pi_{c} \\pi_{t}^{2} + 146 \\, \\pi_{c}^{2} \\pi_{t}^{2} - 44 \\, \\pi_{a} \\pi_{g} \\pi_{t}^{2} - 44 \\, \\pi_{c} \\pi_{g} \\pi_{t}^{2} + 146 \\, \\pi_{g}^{2} \\pi_{t}^{2} - 68 \\, \\pi_{a} \\pi_{t}^{3} - 68 \\, \\pi_{c} \\pi_{t}^{3} - 68 \\, \\pi_{g} \\pi_{t}^{3} + 51 \\, \\pi_{t}^{4} - 24 \\, \\pi_{a}^{3} + 24 \\, \\pi_{a}^{2} \\pi_{c} + 24 \\, \\pi_{a} \\pi_{c}^{2} - 24 \\, \\pi_{c}^{3} + 24 \\, \\pi_{a}^{2} \\pi_{g} - 48 \\, \\pi_{a} \\pi_{c} \\pi_{g} + 24 \\, \\pi_{c}^{2} \\pi_{g} + 24 \\, \\pi_{a} \\pi_{g}^{2} + 24 \\, \\pi_{c} \\pi_{g}^{2} - 24 \\, \\pi_{g}^{3} + 24 \\, \\pi_{a}^{2} \\pi_{t} - 48 \\, \\pi_{a} \\pi_{c} \\pi_{t} + 24 \\, \\pi_{c}^{2} \\pi_{t} - 48 \\, \\pi_{a} \\pi_{g} \\pi_{t} - 48 \\, \\pi_{c} \\pi_{g} \\pi_{t} + 24 \\, \\pi_{g}^{2} \\pi_{t} + 24 \\, \\pi_{a} \\pi_{t}^{2} + 24 \\, \\pi_{c} \\pi_{t}^{2} + 24 \\, \\pi_{g} \\pi_{t}^{2} - 24 \\, \\pi_{t}^{3} - 18 \\, \\pi_{a}^{2} + 12 \\, \\pi_{a} \\pi_{c} - 18 \\, \\pi_{c}^{2} + 12 \\, \\pi_{a} \\pi_{g} + 12 \\, \\pi_{c} \\pi_{g} - 18 \\, \\pi_{g}^{2} + 12 \\, \\pi_{a} \\pi_{t} + 12 \\, \\pi_{c} \\pi_{t} + 12 \\, \\pi_{g} \\pi_{t} - 18 \\, \\pi_{t}^{2} + 8 \\, \\sqrt{-51 \\, p \\pi_{a}^{4} + 68 \\, p \\pi_{a}^{3} \\pi_{c} - 146 \\, p \\pi_{a}^{2} \\pi_{c}^{2} + 68 \\, p \\pi_{a} \\pi_{c}^{3} - 51 \\, p \\pi_{c}^{4} + 68 \\, p \\pi_{a}^{3} \\pi_{g} + 44 \\, p \\pi_{a}^{2} \\pi_{c} \\pi_{g} + 44 \\, p \\pi_{a} \\pi_{c}^{2} \\pi_{g} + 68 \\, p \\pi_{c}^{3} \\pi_{g} - 146 \\, p \\pi_{a}^{2} \\pi_{g}^{2} + 44 \\, p \\pi_{a} \\pi_{c} \\pi_{g}^{2} - 146 \\, p \\pi_{c}^{2} \\pi_{g}^{2} + 68 \\, p \\pi_{a} \\pi_{g}^{3} + 68 \\, p \\pi_{c} \\pi_{g}^{3} - 51 \\, p \\pi_{g}^{4} + 68 \\, p \\pi_{a}^{3} \\pi_{t} + 44 \\, p \\pi_{a}^{2} \\pi_{c} \\pi_{t} + 44 \\, p \\pi_{a} \\pi_{c}^{2} \\pi_{t} + 68 \\, p \\pi_{c}^{3} \\pi_{t} + 44 \\, p \\pi_{a}^{2} \\pi_{g} \\pi_{t} - 264 \\, p \\pi_{a} \\pi_{c} \\pi_{g} \\pi_{t} + 44 \\, p \\pi_{c}^{2} \\pi_{g} \\pi_{t} + 44 \\, p \\pi_{a} \\pi_{g}^{2} \\pi_{t} + 44 \\, p \\pi_{c} \\pi_{g}^{2} \\pi_{t} + 68 \\, p \\pi_{g}^{3} \\pi_{t} - 146 \\, p \\pi_{a}^{2} \\pi_{t}^{2} + 44 \\, p \\pi_{a} \\pi_{c} \\pi_{t}^{2} - 146 \\, p \\pi_{c}^{2} \\pi_{t}^{2} + 44 \\, p \\pi_{a} \\pi_{g} \\pi_{t}^{2} + 44 \\, p \\pi_{c} \\pi_{g} \\pi_{t}^{2} - 146 \\, p \\pi_{g}^{2} \\pi_{t}^{2} + 68 \\, p \\pi_{a} \\pi_{t}^{3} + 68 \\, p \\pi_{c} \\pi_{t}^{3} + 68 \\, p \\pi_{g} \\pi_{t}^{3} - 51 \\, p \\pi_{t}^{4} + 24 \\, p \\pi_{a}^{3} + 36 \\, \\pi_{a}^{4} - 24 \\, p \\pi_{a}^{2} \\pi_{c} - 48 \\, \\pi_{a}^{3} \\pi_{c} - 24 \\, p \\pi_{a} \\pi_{c}^{2} + 88 \\, \\pi_{a}^{2} \\pi_{c}^{2} + 24 \\, p \\pi_{c}^{3} - 48 \\, \\pi_{a} \\pi_{c}^{3} + 36 \\, \\pi_{c}^{4} - 24 \\, p \\pi_{a}^{2} \\pi_{g} - 48 \\, \\pi_{a}^{3} \\pi_{g} + 48 \\, p \\pi_{a} \\pi_{c} \\pi_{g} - 16 \\, \\pi_{a}^{2} \\pi_{c} \\pi_{g} - 24 \\, p \\pi_{c}^{2} \\pi_{g} - 16 \\, \\pi_{a} \\pi_{c}^{2} \\pi_{g} - 48 \\, \\pi_{c}^{3} \\pi_{g} - 24 \\, p \\pi_{a} \\pi_{g}^{2} + 88 \\, \\pi_{a}^{2} \\pi_{g}^{2} - 24 \\, p \\pi_{c} \\pi_{g}^{2} - 16 \\, \\pi_{a} \\pi_{c} \\pi_{g}^{2} + 88 \\, \\pi_{c}^{2} \\pi_{g}^{2} + 24 \\, p \\pi_{g}^{3} - 48 \\, \\pi_{a} \\pi_{g}^{3} - 48 \\, \\pi_{c} \\pi_{g}^{3} + 36 \\, \\pi_{g}^{4} - 24 \\, p \\pi_{a}^{2} \\pi_{t} - 48 \\, \\pi_{a}^{3} \\pi_{t} + 48 \\, p \\pi_{a} \\pi_{c} \\pi_{t} - 16 \\, \\pi_{a}^{2} \\pi_{c} \\pi_{t} - 24 \\, p \\pi_{c}^{2} \\pi_{t} - 16 \\, \\pi_{a} \\pi_{c}^{2} \\pi_{t} - 48 \\, \\pi_{c}^{3} \\pi_{t} + 48 \\, p \\pi_{a} \\pi_{g} \\pi_{t} - 16 \\, \\pi_{a}^{2} \\pi_{g} \\pi_{t} + 48 \\, p \\pi_{c} \\pi_{g} \\pi_{t} + 96 \\, \\pi_{a} \\pi_{c} \\pi_{g} \\pi_{t} - 16 \\, \\pi_{c}^{2} \\pi_{g} \\pi_{t} - 24 \\, p \\pi_{g}^{2} \\pi_{t} - 16 \\, \\pi_{a} \\pi_{g}^{2} \\pi_{t} - 16 \\, \\pi_{c} \\pi_{g}^{2} \\pi_{t} - 48 \\, \\pi_{g}^{3} \\pi_{t} - 24 \\, p \\pi_{a} \\pi_{t}^{2} + 88 \\, \\pi_{a}^{2} \\pi_{t}^{2} - 24 \\, p \\pi_{c} \\pi_{t}^{2} - 16 \\, \\pi_{a} \\pi_{c} \\pi_{t}^{2} + 88 \\, \\pi_{c}^{2} \\pi_{t}^{2} - 24 \\, p \\pi_{g} \\pi_{t}^{2} - 16 \\, \\pi_{a} \\pi_{g} \\pi_{t}^{2} - 16 \\, \\pi_{c} \\pi_{g} \\pi_{t}^{2} + 88 \\, \\pi_{g}^{2} \\pi_{t}^{2} + 24 \\, p \\pi_{t}^{3} - 48 \\, \\pi_{a} \\pi_{t}^{3} - 48 \\, \\pi_{c} \\pi_{t}^{3} - 48 \\, \\pi_{g} \\pi_{t}^{3} + 36 \\, \\pi_{t}^{4} + 66 \\, p \\pi_{a}^{2} - 44 \\, p \\pi_{a} \\pi_{c} + 66 \\, p \\pi_{c}^{2} - 44 \\, p \\pi_{a} \\pi_{g} - 44 \\, p \\pi_{c} \\pi_{g} + 66 \\, p \\pi_{g}^{2} - 44 \\, p \\pi_{a} \\pi_{t} - 44 \\, p \\pi_{c} \\pi_{t} - 44 \\, p \\pi_{g} \\pi_{t} + 66 \\, p \\pi_{t}^{2} - 72 \\, \\pi_{a}^{2} + 48 \\, \\pi_{a} \\pi_{c} - 72 \\, \\pi_{c}^{2} + 48 \\, \\pi_{a} \\pi_{g} + 48 \\, \\pi_{c} \\pi_{g} - 72 \\, \\pi_{g}^{2} + 48 \\, \\pi_{a} \\pi_{t} + 48 \\, \\pi_{c} \\pi_{t} + 48 \\, \\pi_{g} \\pi_{t} - 72 \\, \\pi_{t}^{2} - 39 \\, p + 36} - 9\\)</html>"
      ],
      "text/latex": [
       "$\\displaystyle 51 \\, \\pi_{a}^{4} - 68 \\, \\pi_{a}^{3} \\pi_{c} + 146 \\, \\pi_{a}^{2} \\pi_{c}^{2} - 68 \\, \\pi_{a} \\pi_{c}^{3} + 51 \\, \\pi_{c}^{4} - 68 \\, \\pi_{a}^{3} \\pi_{g} - 44 \\, \\pi_{a}^{2} \\pi_{c} \\pi_{g} - 44 \\, \\pi_{a} \\pi_{c}^{2} \\pi_{g} - 68 \\, \\pi_{c}^{3} \\pi_{g} + 146 \\, \\pi_{a}^{2} \\pi_{g}^{2} - 44 \\, \\pi_{a} \\pi_{c} \\pi_{g}^{2} + 146 \\, \\pi_{c}^{2} \\pi_{g}^{2} - 68 \\, \\pi_{a} \\pi_{g}^{3} - 68 \\, \\pi_{c} \\pi_{g}^{3} + 51 \\, \\pi_{g}^{4} - 68 \\, \\pi_{a}^{3} \\pi_{t} - 44 \\, \\pi_{a}^{2} \\pi_{c} \\pi_{t} - 44 \\, \\pi_{a} \\pi_{c}^{2} \\pi_{t} - 68 \\, \\pi_{c}^{3} \\pi_{t} - 44 \\, \\pi_{a}^{2} \\pi_{g} \\pi_{t} + 264 \\, \\pi_{a} \\pi_{c} \\pi_{g} \\pi_{t} - 44 \\, \\pi_{c}^{2} \\pi_{g} \\pi_{t} - 44 \\, \\pi_{a} \\pi_{g}^{2} \\pi_{t} - 44 \\, \\pi_{c} \\pi_{g}^{2} \\pi_{t} - 68 \\, \\pi_{g}^{3} \\pi_{t} + 146 \\, \\pi_{a}^{2} \\pi_{t}^{2} - 44 \\, \\pi_{a} \\pi_{c} \\pi_{t}^{2} + 146 \\, \\pi_{c}^{2} \\pi_{t}^{2} - 44 \\, \\pi_{a} \\pi_{g} \\pi_{t}^{2} - 44 \\, \\pi_{c} \\pi_{g} \\pi_{t}^{2} + 146 \\, \\pi_{g}^{2} \\pi_{t}^{2} - 68 \\, \\pi_{a} \\pi_{t}^{3} - 68 \\, \\pi_{c} \\pi_{t}^{3} - 68 \\, \\pi_{g} \\pi_{t}^{3} + 51 \\, \\pi_{t}^{4} - 24 \\, \\pi_{a}^{3} + 24 \\, \\pi_{a}^{2} \\pi_{c} + 24 \\, \\pi_{a} \\pi_{c}^{2} - 24 \\, \\pi_{c}^{3} + 24 \\, \\pi_{a}^{2} \\pi_{g} - 48 \\, \\pi_{a} \\pi_{c} \\pi_{g} + 24 \\, \\pi_{c}^{2} \\pi_{g} + 24 \\, \\pi_{a} \\pi_{g}^{2} + 24 \\, \\pi_{c} \\pi_{g}^{2} - 24 \\, \\pi_{g}^{3} + 24 \\, \\pi_{a}^{2} \\pi_{t} - 48 \\, \\pi_{a} \\pi_{c} \\pi_{t} + 24 \\, \\pi_{c}^{2} \\pi_{t} - 48 \\, \\pi_{a} \\pi_{g} \\pi_{t} - 48 \\, \\pi_{c} \\pi_{g} \\pi_{t} + 24 \\, \\pi_{g}^{2} \\pi_{t} + 24 \\, \\pi_{a} \\pi_{t}^{2} + 24 \\, \\pi_{c} \\pi_{t}^{2} + 24 \\, \\pi_{g} \\pi_{t}^{2} - 24 \\, \\pi_{t}^{3} - 18 \\, \\pi_{a}^{2} + 12 \\, \\pi_{a} \\pi_{c} - 18 \\, \\pi_{c}^{2} + 12 \\, \\pi_{a} \\pi_{g} + 12 \\, \\pi_{c} \\pi_{g} - 18 \\, \\pi_{g}^{2} + 12 \\, \\pi_{a} \\pi_{t} + 12 \\, \\pi_{c} \\pi_{t} + 12 \\, \\pi_{g} \\pi_{t} - 18 \\, \\pi_{t}^{2} + 8 \\, \\sqrt{-51 \\, p \\pi_{a}^{4} + 68 \\, p \\pi_{a}^{3} \\pi_{c} - 146 \\, p \\pi_{a}^{2} \\pi_{c}^{2} + 68 \\, p \\pi_{a} \\pi_{c}^{3} - 51 \\, p \\pi_{c}^{4} + 68 \\, p \\pi_{a}^{3} \\pi_{g} + 44 \\, p \\pi_{a}^{2} \\pi_{c} \\pi_{g} + 44 \\, p \\pi_{a} \\pi_{c}^{2} \\pi_{g} + 68 \\, p \\pi_{c}^{3} \\pi_{g} - 146 \\, p \\pi_{a}^{2} \\pi_{g}^{2} + 44 \\, p \\pi_{a} \\pi_{c} \\pi_{g}^{2} - 146 \\, p \\pi_{c}^{2} \\pi_{g}^{2} + 68 \\, p \\pi_{a} \\pi_{g}^{3} + 68 \\, p \\pi_{c} \\pi_{g}^{3} - 51 \\, p \\pi_{g}^{4} + 68 \\, p \\pi_{a}^{3} \\pi_{t} + 44 \\, p \\pi_{a}^{2} \\pi_{c} \\pi_{t} + 44 \\, p \\pi_{a} \\pi_{c}^{2} \\pi_{t} + 68 \\, p \\pi_{c}^{3} \\pi_{t} + 44 \\, p \\pi_{a}^{2} \\pi_{g} \\pi_{t} - 264 \\, p \\pi_{a} \\pi_{c} \\pi_{g} \\pi_{t} + 44 \\, p \\pi_{c}^{2} \\pi_{g} \\pi_{t} + 44 \\, p \\pi_{a} \\pi_{g}^{2} \\pi_{t} + 44 \\, p \\pi_{c} \\pi_{g}^{2} \\pi_{t} + 68 \\, p \\pi_{g}^{3} \\pi_{t} - 146 \\, p \\pi_{a}^{2} \\pi_{t}^{2} + 44 \\, p \\pi_{a} \\pi_{c} \\pi_{t}^{2} - 146 \\, p \\pi_{c}^{2} \\pi_{t}^{2} + 44 \\, p \\pi_{a} \\pi_{g} \\pi_{t}^{2} + 44 \\, p \\pi_{c} \\pi_{g} \\pi_{t}^{2} - 146 \\, p \\pi_{g}^{2} \\pi_{t}^{2} + 68 \\, p \\pi_{a} \\pi_{t}^{3} + 68 \\, p \\pi_{c} \\pi_{t}^{3} + 68 \\, p \\pi_{g} \\pi_{t}^{3} - 51 \\, p \\pi_{t}^{4} + 24 \\, p \\pi_{a}^{3} + 36 \\, \\pi_{a}^{4} - 24 \\, p \\pi_{a}^{2} \\pi_{c} - 48 \\, \\pi_{a}^{3} \\pi_{c} - 24 \\, p \\pi_{a} \\pi_{c}^{2} + 88 \\, \\pi_{a}^{2} \\pi_{c}^{2} + 24 \\, p \\pi_{c}^{3} - 48 \\, \\pi_{a} \\pi_{c}^{3} + 36 \\, \\pi_{c}^{4} - 24 \\, p \\pi_{a}^{2} \\pi_{g} - 48 \\, \\pi_{a}^{3} \\pi_{g} + 48 \\, p \\pi_{a} \\pi_{c} \\pi_{g} - 16 \\, \\pi_{a}^{2} \\pi_{c} \\pi_{g} - 24 \\, p \\pi_{c}^{2} \\pi_{g} - 16 \\, \\pi_{a} \\pi_{c}^{2} \\pi_{g} - 48 \\, \\pi_{c}^{3} \\pi_{g} - 24 \\, p \\pi_{a} \\pi_{g}^{2} + 88 \\, \\pi_{a}^{2} \\pi_{g}^{2} - 24 \\, p \\pi_{c} \\pi_{g}^{2} - 16 \\, \\pi_{a} \\pi_{c} \\pi_{g}^{2} + 88 \\, \\pi_{c}^{2} \\pi_{g}^{2} + 24 \\, p \\pi_{g}^{3} - 48 \\, \\pi_{a} \\pi_{g}^{3} - 48 \\, \\pi_{c} \\pi_{g}^{3} + 36 \\, \\pi_{g}^{4} - 24 \\, p \\pi_{a}^{2} \\pi_{t} - 48 \\, \\pi_{a}^{3} \\pi_{t} + 48 \\, p \\pi_{a} \\pi_{c} \\pi_{t} - 16 \\, \\pi_{a}^{2} \\pi_{c} \\pi_{t} - 24 \\, p \\pi_{c}^{2} \\pi_{t} - 16 \\, \\pi_{a} \\pi_{c}^{2} \\pi_{t} - 48 \\, \\pi_{c}^{3} \\pi_{t} + 48 \\, p \\pi_{a} \\pi_{g} \\pi_{t} - 16 \\, \\pi_{a}^{2} \\pi_{g} \\pi_{t} + 48 \\, p \\pi_{c} \\pi_{g} \\pi_{t} + 96 \\, \\pi_{a} \\pi_{c} \\pi_{g} \\pi_{t} - 16 \\, \\pi_{c}^{2} \\pi_{g} \\pi_{t} - 24 \\, p \\pi_{g}^{2} \\pi_{t} - 16 \\, \\pi_{a} \\pi_{g}^{2} \\pi_{t} - 16 \\, \\pi_{c} \\pi_{g}^{2} \\pi_{t} - 48 \\, \\pi_{g}^{3} \\pi_{t} - 24 \\, p \\pi_{a} \\pi_{t}^{2} + 88 \\, \\pi_{a}^{2} \\pi_{t}^{2} - 24 \\, p \\pi_{c} \\pi_{t}^{2} - 16 \\, \\pi_{a} \\pi_{c} \\pi_{t}^{2} + 88 \\, \\pi_{c}^{2} \\pi_{t}^{2} - 24 \\, p \\pi_{g} \\pi_{t}^{2} - 16 \\, \\pi_{a} \\pi_{g} \\pi_{t}^{2} - 16 \\, \\pi_{c} \\pi_{g} \\pi_{t}^{2} + 88 \\, \\pi_{g}^{2} \\pi_{t}^{2} + 24 \\, p \\pi_{t}^{3} - 48 \\, \\pi_{a} \\pi_{t}^{3} - 48 \\, \\pi_{c} \\pi_{t}^{3} - 48 \\, \\pi_{g} \\pi_{t}^{3} + 36 \\, \\pi_{t}^{4} + 66 \\, p \\pi_{a}^{2} - 44 \\, p \\pi_{a} \\pi_{c} + 66 \\, p \\pi_{c}^{2} - 44 \\, p \\pi_{a} \\pi_{g} - 44 \\, p \\pi_{c} \\pi_{g} + 66 \\, p \\pi_{g}^{2} - 44 \\, p \\pi_{a} \\pi_{t} - 44 \\, p \\pi_{c} \\pi_{t} - 44 \\, p \\pi_{g} \\pi_{t} + 66 \\, p \\pi_{t}^{2} - 72 \\, \\pi_{a}^{2} + 48 \\, \\pi_{a} \\pi_{c} - 72 \\, \\pi_{c}^{2} + 48 \\, \\pi_{a} \\pi_{g} + 48 \\, \\pi_{c} \\pi_{g} - 72 \\, \\pi_{g}^{2} + 48 \\, \\pi_{a} \\pi_{t} + 48 \\, \\pi_{c} \\pi_{t} + 48 \\, \\pi_{g} \\pi_{t} - 72 \\, \\pi_{t}^{2} - 39 \\, p + 36} - 9$"
      ],
      "text/plain": [
       "51*pi_a^4 - 68*pi_a^3*pi_c + 146*pi_a^2*pi_c^2 - 68*pi_a*pi_c^3 + 51*pi_c^4 - 68*pi_a^3*pi_g - 44*pi_a^2*pi_c*pi_g - 44*pi_a*pi_c^2*pi_g - 68*pi_c^3*pi_g + 146*pi_a^2*pi_g^2 - 44*pi_a*pi_c*pi_g^2 + 146*pi_c^2*pi_g^2 - 68*pi_a*pi_g^3 - 68*pi_c*pi_g^3 + 51*pi_g^4 - 68*pi_a^3*pi_t - 44*pi_a^2*pi_c*pi_t - 44*pi_a*pi_c^2*pi_t - 68*pi_c^3*pi_t - 44*pi_a^2*pi_g*pi_t + 264*pi_a*pi_c*pi_g*pi_t - 44*pi_c^2*pi_g*pi_t - 44*pi_a*pi_g^2*pi_t - 44*pi_c*pi_g^2*pi_t - 68*pi_g^3*pi_t + 146*pi_a^2*pi_t^2 - 44*pi_a*pi_c*pi_t^2 + 146*pi_c^2*pi_t^2 - 44*pi_a*pi_g*pi_t^2 - 44*pi_c*pi_g*pi_t^2 + 146*pi_g^2*pi_t^2 - 68*pi_a*pi_t^3 - 68*pi_c*pi_t^3 - 68*pi_g*pi_t^3 + 51*pi_t^4 - 24*pi_a^3 + 24*pi_a^2*pi_c + 24*pi_a*pi_c^2 - 24*pi_c^3 + 24*pi_a^2*pi_g - 48*pi_a*pi_c*pi_g + 24*pi_c^2*pi_g + 24*pi_a*pi_g^2 + 24*pi_c*pi_g^2 - 24*pi_g^3 + 24*pi_a^2*pi_t - 48*pi_a*pi_c*pi_t + 24*pi_c^2*pi_t - 48*pi_a*pi_g*pi_t - 48*pi_c*pi_g*pi_t + 24*pi_g^2*pi_t + 24*pi_a*pi_t^2 + 24*pi_c*pi_t^2 + 24*pi_g*pi_t^2 - 24*pi_t^3 - 18*pi_a^2 + 12*pi_a*pi_c - 18*pi_c^2 + 12*pi_a*pi_g + 12*pi_c*pi_g - 18*pi_g^2 + 12*pi_a*pi_t + 12*pi_c*pi_t + 12*pi_g*pi_t - 18*pi_t^2 + 8*sqrt(-51*p*pi_a^4 + 68*p*pi_a^3*pi_c - 146*p*pi_a^2*pi_c^2 + 68*p*pi_a*pi_c^3 - 51*p*pi_c^4 + 68*p*pi_a^3*pi_g + 44*p*pi_a^2*pi_c*pi_g + 44*p*pi_a*pi_c^2*pi_g + 68*p*pi_c^3*pi_g - 146*p*pi_a^2*pi_g^2 + 44*p*pi_a*pi_c*pi_g^2 - 146*p*pi_c^2*pi_g^2 + 68*p*pi_a*pi_g^3 + 68*p*pi_c*pi_g^3 - 51*p*pi_g^4 + 68*p*pi_a^3*pi_t + 44*p*pi_a^2*pi_c*pi_t + 44*p*pi_a*pi_c^2*pi_t + 68*p*pi_c^3*pi_t + 44*p*pi_a^2*pi_g*pi_t - 264*p*pi_a*pi_c*pi_g*pi_t + 44*p*pi_c^2*pi_g*pi_t + 44*p*pi_a*pi_g^2*pi_t + 44*p*pi_c*pi_g^2*pi_t + 68*p*pi_g^3*pi_t - 146*p*pi_a^2*pi_t^2 + 44*p*pi_a*pi_c*pi_t^2 - 146*p*pi_c^2*pi_t^2 + 44*p*pi_a*pi_g*pi_t^2 + 44*p*pi_c*pi_g*pi_t^2 - 146*p*pi_g^2*pi_t^2 + 68*p*pi_a*pi_t^3 + 68*p*pi_c*pi_t^3 + 68*p*pi_g*pi_t^3 - 51*p*pi_t^4 + 24*p*pi_a^3 + 36*pi_a^4 - 24*p*pi_a^2*pi_c - 48*pi_a^3*pi_c - 24*p*pi_a*pi_c^2 + 88*pi_a^2*pi_c^2 + 24*p*pi_c^3 - 48*pi_a*pi_c^3 + 36*pi_c^4 - 24*p*pi_a^2*pi_g - 48*pi_a^3*pi_g + 48*p*pi_a*pi_c*pi_g - 16*pi_a^2*pi_c*pi_g - 24*p*pi_c^2*pi_g - 16*pi_a*pi_c^2*pi_g - 48*pi_c^3*pi_g - 24*p*pi_a*pi_g^2 + 88*pi_a^2*pi_g^2 - 24*p*pi_c*pi_g^2 - 16*pi_a*pi_c*pi_g^2 + 88*pi_c^2*pi_g^2 + 24*p*pi_g^3 - 48*pi_a*pi_g^3 - 48*pi_c*pi_g^3 + 36*pi_g^4 - 24*p*pi_a^2*pi_t - 48*pi_a^3*pi_t + 48*p*pi_a*pi_c*pi_t - 16*pi_a^2*pi_c*pi_t - 24*p*pi_c^2*pi_t - 16*pi_a*pi_c^2*pi_t - 48*pi_c^3*pi_t + 48*p*pi_a*pi_g*pi_t - 16*pi_a^2*pi_g*pi_t + 48*p*pi_c*pi_g*pi_t + 96*pi_a*pi_c*pi_g*pi_t - 16*pi_c^2*pi_g*pi_t - 24*p*pi_g^2*pi_t - 16*pi_a*pi_g^2*pi_t - 16*pi_c*pi_g^2*pi_t - 48*pi_g^3*pi_t - 24*p*pi_a*pi_t^2 + 88*pi_a^2*pi_t^2 - 24*p*pi_c*pi_t^2 - 16*pi_a*pi_c*pi_t^2 + 88*pi_c^2*pi_t^2 - 24*p*pi_g*pi_t^2 - 16*pi_a*pi_g*pi_t^2 - 16*pi_c*pi_g*pi_t^2 + 88*pi_g^2*pi_t^2 + 24*p*pi_t^3 - 48*pi_a*pi_t^3 - 48*pi_c*pi_t^3 - 48*pi_g*pi_t^3 + 36*pi_t^4 + 66*p*pi_a^2 - 44*p*pi_a*pi_c + 66*p*pi_c^2 - 44*p*pi_a*pi_g - 44*p*pi_c*pi_g + 66*p*pi_g^2 - 44*p*pi_a*pi_t - 44*p*pi_c*pi_t - 44*p*pi_g*pi_t + 66*p*pi_t^2 - 72*pi_a^2 + 48*pi_a*pi_c - 72*pi_c^2 + 48*pi_a*pi_g + 48*pi_c*pi_g - 72*pi_g^2 + 48*pi_a*pi_t + 48*pi_c*pi_t + 48*pi_g*pi_t - 72*pi_t^2 - 39*p + 36) - 9"
      ]
     },
     "metadata": {},
     "output_type": "display_data"
    }
   ],
   "source": [
    "pretty_print(exp(nu_hat_f10t).numerator())"
   ]
  },
  {
   "cell_type": "code",
   "execution_count": 131,
   "id": "808214cb-71bd-4329-a0fb-be8e329e60db",
   "metadata": {},
   "outputs": [
    {
     "data": {
      "text/html": [
       "<html>\\(\\displaystyle 4 \\, \\pi_{a} \\pi_{c} + 4 \\, \\pi_{a} \\pi_{g} + 4 \\, \\pi_{c} \\pi_{g} + 4 \\, \\pi_{a} \\pi_{t} + 4 \\, \\pi_{c} \\pi_{t} + 4 \\, \\pi_{g} \\pi_{t}\\)</html>"
      ],
      "text/latex": [
       "$\\displaystyle 4 \\, \\pi_{a} \\pi_{c} + 4 \\, \\pi_{a} \\pi_{g} + 4 \\, \\pi_{c} \\pi_{g} + 4 \\, \\pi_{a} \\pi_{t} + 4 \\, \\pi_{c} \\pi_{t} + 4 \\, \\pi_{g} \\pi_{t}$"
      ],
      "text/plain": [
       "4*pi_a*pi_c + 4*pi_a*pi_g + 4*pi_c*pi_g + 4*pi_a*pi_t + 4*pi_c*pi_t + 4*pi_g*pi_t"
      ]
     },
     "metadata": {},
     "output_type": "display_data"
    }
   ],
   "source": [
    "pretty_print(1/beta_f10)"
   ]
  },
  {
   "cell_type": "code",
   "execution_count": 141,
   "id": "4b368137-a711-4cbb-89b0-b689ed53c28c",
   "metadata": {},
   "outputs": [
    {
     "data": {
      "text/html": [
       "<html>\\(\\displaystyle -160 \\, \\pi_{a}^{2} \\pi_{c}^{2} - 384 \\, \\pi_{a}^{2} \\pi_{c} \\pi_{g} - 384 \\, \\pi_{a} \\pi_{c}^{2} \\pi_{g} - 160 \\, \\pi_{a}^{2} \\pi_{g}^{2} - 384 \\, \\pi_{a} \\pi_{c} \\pi_{g}^{2} - 160 \\, \\pi_{c}^{2} \\pi_{g}^{2} - 384 \\, \\pi_{a}^{2} \\pi_{c} \\pi_{t} - 384 \\, \\pi_{a} \\pi_{c}^{2} \\pi_{t} - 384 \\, \\pi_{a}^{2} \\pi_{g} \\pi_{t} - 960 \\, \\pi_{a} \\pi_{c} \\pi_{g} \\pi_{t} - 384 \\, \\pi_{c}^{2} \\pi_{g} \\pi_{t} - 384 \\, \\pi_{a} \\pi_{g}^{2} \\pi_{t} - 384 \\, \\pi_{c} \\pi_{g}^{2} \\pi_{t} - 160 \\, \\pi_{a}^{2} \\pi_{t}^{2} - 384 \\, \\pi_{a} \\pi_{c} \\pi_{t}^{2} - 160 \\, \\pi_{c}^{2} \\pi_{t}^{2} - 384 \\, \\pi_{a} \\pi_{g} \\pi_{t}^{2} - 384 \\, \\pi_{c} \\pi_{g} \\pi_{t}^{2} - 160 \\, \\pi_{g}^{2} \\pi_{t}^{2} + 96 \\, \\pi_{a}^{2} \\pi_{c} + 96 \\, \\pi_{a} \\pi_{c}^{2} + 96 \\, \\pi_{a}^{2} \\pi_{g} + 96 \\, \\pi_{a} \\pi_{c} \\pi_{g} + 96 \\, \\pi_{c}^{2} \\pi_{g} + 96 \\, \\pi_{a} \\pi_{g}^{2} + 96 \\, \\pi_{c} \\pi_{g}^{2} + 96 \\, \\pi_{a}^{2} \\pi_{t} + 96 \\, \\pi_{a} \\pi_{c} \\pi_{t} + 96 \\, \\pi_{c}^{2} \\pi_{t} + 96 \\, \\pi_{a} \\pi_{g} \\pi_{t} + 96 \\, \\pi_{c} \\pi_{g} \\pi_{t} + 96 \\, \\pi_{g}^{2} \\pi_{t} + 96 \\, \\pi_{a} \\pi_{t}^{2} + 96 \\, \\pi_{c} \\pi_{t}^{2} + 96 \\, \\pi_{g} \\pi_{t}^{2} + 48 \\, \\pi_{a} \\pi_{c} + 48 \\, \\pi_{a} \\pi_{g} + 48 \\, \\pi_{c} \\pi_{g} + 48 \\, \\pi_{a} \\pi_{t} + 48 \\, \\pi_{c} \\pi_{t} + 48 \\, \\pi_{g} \\pi_{t} - \\frac{12 \\, \\pi_{a}^{2}}{\\beta} - \\frac{12 \\, \\pi_{c}^{2}}{\\beta} - \\frac{12 \\, \\pi_{g}^{2}}{\\beta} - \\frac{12 \\, \\pi_{t}^{2}}{\\beta} + 8 \\, \\sqrt{-15 \\, \\pi_{a}^{4} + 20 \\, \\pi_{a}^{3} \\pi_{c} - 58 \\, \\pi_{a}^{2} \\pi_{c}^{2} + 20 \\, \\pi_{a} \\pi_{c}^{3} - 15 \\, \\pi_{c}^{4} + 20 \\, \\pi_{a}^{3} \\pi_{g} + 28 \\, \\pi_{a}^{2} \\pi_{c} \\pi_{g} + 28 \\, \\pi_{a} \\pi_{c}^{2} \\pi_{g} + 20 \\, \\pi_{c}^{3} \\pi_{g} - 58 \\, \\pi_{a}^{2} \\pi_{g}^{2} + 28 \\, \\pi_{a} \\pi_{c} \\pi_{g}^{2} - 58 \\, \\pi_{c}^{2} \\pi_{g}^{2} + 20 \\, \\pi_{a} \\pi_{g}^{3} + 20 \\, \\pi_{c} \\pi_{g}^{3} - 15 \\, \\pi_{g}^{4} + 20 \\, \\pi_{a}^{3} \\pi_{t} + 28 \\, \\pi_{a}^{2} \\pi_{c} \\pi_{t} + 28 \\, \\pi_{a} \\pi_{c}^{2} \\pi_{t} + 20 \\, \\pi_{c}^{3} \\pi_{t} + 28 \\, \\pi_{a}^{2} \\pi_{g} \\pi_{t} - 168 \\, \\pi_{a} \\pi_{c} \\pi_{g} \\pi_{t} + 28 \\, \\pi_{c}^{2} \\pi_{g} \\pi_{t} + 28 \\, \\pi_{a} \\pi_{g}^{2} \\pi_{t} + 28 \\, \\pi_{c} \\pi_{g}^{2} \\pi_{t} + 20 \\, \\pi_{g}^{3} \\pi_{t} - 58 \\, \\pi_{a}^{2} \\pi_{t}^{2} + 28 \\, \\pi_{a} \\pi_{c} \\pi_{t}^{2} - 58 \\, \\pi_{c}^{2} \\pi_{t}^{2} + 28 \\, \\pi_{a} \\pi_{g} \\pi_{t}^{2} + 28 \\, \\pi_{c} \\pi_{g} \\pi_{t}^{2} - 58 \\, \\pi_{g}^{2} \\pi_{t}^{2} + 20 \\, \\pi_{a} \\pi_{t}^{3} + 20 \\, \\pi_{c} \\pi_{t}^{3} + 20 \\, \\pi_{g} \\pi_{t}^{3} - 15 \\, \\pi_{t}^{4} + 24 \\, \\pi_{a}^{3} - 24 \\, \\pi_{a}^{2} \\pi_{c} - 24 \\, \\pi_{a} \\pi_{c}^{2} + 24 \\, \\pi_{c}^{3} - 24 \\, \\pi_{a}^{2} \\pi_{g} + 48 \\, \\pi_{a} \\pi_{c} \\pi_{g} - 24 \\, \\pi_{c}^{2} \\pi_{g} - 24 \\, \\pi_{a} \\pi_{g}^{2} - 24 \\, \\pi_{c} \\pi_{g}^{2} + 24 \\, \\pi_{g}^{3} - 24 \\, \\pi_{a}^{2} \\pi_{t} + 48 \\, \\pi_{a} \\pi_{c} \\pi_{t} - 24 \\, \\pi_{c}^{2} \\pi_{t} + 48 \\, \\pi_{a} \\pi_{g} \\pi_{t} + 48 \\, \\pi_{c} \\pi_{g} \\pi_{t} - 24 \\, \\pi_{g}^{2} \\pi_{t} - 24 \\, \\pi_{a} \\pi_{t}^{2} - 24 \\, \\pi_{c} \\pi_{t}^{2} - 24 \\, \\pi_{g} \\pi_{t}^{2} + 24 \\, \\pi_{t}^{3} - 6 \\, \\pi_{a}^{2} + 4 \\, \\pi_{a} \\pi_{c} - 6 \\, \\pi_{c}^{2} + 4 \\, \\pi_{a} \\pi_{g} + 4 \\, \\pi_{c} \\pi_{g} - 6 \\, \\pi_{g}^{2} + 4 \\, \\pi_{a} \\pi_{t} + 4 \\, \\pi_{c} \\pi_{t} + 4 \\, \\pi_{g} \\pi_{t} - 6 \\, \\pi_{t}^{2} - 3}\\)</html>"
      ],
      "text/latex": [
       "$\\displaystyle -160 \\, \\pi_{a}^{2} \\pi_{c}^{2} - 384 \\, \\pi_{a}^{2} \\pi_{c} \\pi_{g} - 384 \\, \\pi_{a} \\pi_{c}^{2} \\pi_{g} - 160 \\, \\pi_{a}^{2} \\pi_{g}^{2} - 384 \\, \\pi_{a} \\pi_{c} \\pi_{g}^{2} - 160 \\, \\pi_{c}^{2} \\pi_{g}^{2} - 384 \\, \\pi_{a}^{2} \\pi_{c} \\pi_{t} - 384 \\, \\pi_{a} \\pi_{c}^{2} \\pi_{t} - 384 \\, \\pi_{a}^{2} \\pi_{g} \\pi_{t} - 960 \\, \\pi_{a} \\pi_{c} \\pi_{g} \\pi_{t} - 384 \\, \\pi_{c}^{2} \\pi_{g} \\pi_{t} - 384 \\, \\pi_{a} \\pi_{g}^{2} \\pi_{t} - 384 \\, \\pi_{c} \\pi_{g}^{2} \\pi_{t} - 160 \\, \\pi_{a}^{2} \\pi_{t}^{2} - 384 \\, \\pi_{a} \\pi_{c} \\pi_{t}^{2} - 160 \\, \\pi_{c}^{2} \\pi_{t}^{2} - 384 \\, \\pi_{a} \\pi_{g} \\pi_{t}^{2} - 384 \\, \\pi_{c} \\pi_{g} \\pi_{t}^{2} - 160 \\, \\pi_{g}^{2} \\pi_{t}^{2} + 96 \\, \\pi_{a}^{2} \\pi_{c} + 96 \\, \\pi_{a} \\pi_{c}^{2} + 96 \\, \\pi_{a}^{2} \\pi_{g} + 96 \\, \\pi_{a} \\pi_{c} \\pi_{g} + 96 \\, \\pi_{c}^{2} \\pi_{g} + 96 \\, \\pi_{a} \\pi_{g}^{2} + 96 \\, \\pi_{c} \\pi_{g}^{2} + 96 \\, \\pi_{a}^{2} \\pi_{t} + 96 \\, \\pi_{a} \\pi_{c} \\pi_{t} + 96 \\, \\pi_{c}^{2} \\pi_{t} + 96 \\, \\pi_{a} \\pi_{g} \\pi_{t} + 96 \\, \\pi_{c} \\pi_{g} \\pi_{t} + 96 \\, \\pi_{g}^{2} \\pi_{t} + 96 \\, \\pi_{a} \\pi_{t}^{2} + 96 \\, \\pi_{c} \\pi_{t}^{2} + 96 \\, \\pi_{g} \\pi_{t}^{2} + 48 \\, \\pi_{a} \\pi_{c} + 48 \\, \\pi_{a} \\pi_{g} + 48 \\, \\pi_{c} \\pi_{g} + 48 \\, \\pi_{a} \\pi_{t} + 48 \\, \\pi_{c} \\pi_{t} + 48 \\, \\pi_{g} \\pi_{t} - \\frac{12 \\, \\pi_{a}^{2}}{\\beta} - \\frac{12 \\, \\pi_{c}^{2}}{\\beta} - \\frac{12 \\, \\pi_{g}^{2}}{\\beta} - \\frac{12 \\, \\pi_{t}^{2}}{\\beta} + 8 \\, \\sqrt{-15 \\, \\pi_{a}^{4} + 20 \\, \\pi_{a}^{3} \\pi_{c} - 58 \\, \\pi_{a}^{2} \\pi_{c}^{2} + 20 \\, \\pi_{a} \\pi_{c}^{3} - 15 \\, \\pi_{c}^{4} + 20 \\, \\pi_{a}^{3} \\pi_{g} + 28 \\, \\pi_{a}^{2} \\pi_{c} \\pi_{g} + 28 \\, \\pi_{a} \\pi_{c}^{2} \\pi_{g} + 20 \\, \\pi_{c}^{3} \\pi_{g} - 58 \\, \\pi_{a}^{2} \\pi_{g}^{2} + 28 \\, \\pi_{a} \\pi_{c} \\pi_{g}^{2} - 58 \\, \\pi_{c}^{2} \\pi_{g}^{2} + 20 \\, \\pi_{a} \\pi_{g}^{3} + 20 \\, \\pi_{c} \\pi_{g}^{3} - 15 \\, \\pi_{g}^{4} + 20 \\, \\pi_{a}^{3} \\pi_{t} + 28 \\, \\pi_{a}^{2} \\pi_{c} \\pi_{t} + 28 \\, \\pi_{a} \\pi_{c}^{2} \\pi_{t} + 20 \\, \\pi_{c}^{3} \\pi_{t} + 28 \\, \\pi_{a}^{2} \\pi_{g} \\pi_{t} - 168 \\, \\pi_{a} \\pi_{c} \\pi_{g} \\pi_{t} + 28 \\, \\pi_{c}^{2} \\pi_{g} \\pi_{t} + 28 \\, \\pi_{a} \\pi_{g}^{2} \\pi_{t} + 28 \\, \\pi_{c} \\pi_{g}^{2} \\pi_{t} + 20 \\, \\pi_{g}^{3} \\pi_{t} - 58 \\, \\pi_{a}^{2} \\pi_{t}^{2} + 28 \\, \\pi_{a} \\pi_{c} \\pi_{t}^{2} - 58 \\, \\pi_{c}^{2} \\pi_{t}^{2} + 28 \\, \\pi_{a} \\pi_{g} \\pi_{t}^{2} + 28 \\, \\pi_{c} \\pi_{g} \\pi_{t}^{2} - 58 \\, \\pi_{g}^{2} \\pi_{t}^{2} + 20 \\, \\pi_{a} \\pi_{t}^{3} + 20 \\, \\pi_{c} \\pi_{t}^{3} + 20 \\, \\pi_{g} \\pi_{t}^{3} - 15 \\, \\pi_{t}^{4} + 24 \\, \\pi_{a}^{3} - 24 \\, \\pi_{a}^{2} \\pi_{c} - 24 \\, \\pi_{a} \\pi_{c}^{2} + 24 \\, \\pi_{c}^{3} - 24 \\, \\pi_{a}^{2} \\pi_{g} + 48 \\, \\pi_{a} \\pi_{c} \\pi_{g} - 24 \\, \\pi_{c}^{2} \\pi_{g} - 24 \\, \\pi_{a} \\pi_{g}^{2} - 24 \\, \\pi_{c} \\pi_{g}^{2} + 24 \\, \\pi_{g}^{3} - 24 \\, \\pi_{a}^{2} \\pi_{t} + 48 \\, \\pi_{a} \\pi_{c} \\pi_{t} - 24 \\, \\pi_{c}^{2} \\pi_{t} + 48 \\, \\pi_{a} \\pi_{g} \\pi_{t} + 48 \\, \\pi_{c} \\pi_{g} \\pi_{t} - 24 \\, \\pi_{g}^{2} \\pi_{t} - 24 \\, \\pi_{a} \\pi_{t}^{2} - 24 \\, \\pi_{c} \\pi_{t}^{2} - 24 \\, \\pi_{g} \\pi_{t}^{2} + 24 \\, \\pi_{t}^{3} - 6 \\, \\pi_{a}^{2} + 4 \\, \\pi_{a} \\pi_{c} - 6 \\, \\pi_{c}^{2} + 4 \\, \\pi_{a} \\pi_{g} + 4 \\, \\pi_{c} \\pi_{g} - 6 \\, \\pi_{g}^{2} + 4 \\, \\pi_{a} \\pi_{t} + 4 \\, \\pi_{c} \\pi_{t} + 4 \\, \\pi_{g} \\pi_{t} - 6 \\, \\pi_{t}^{2} - 3}$"
      ],
      "text/plain": [
       "-160*pi_a^2*pi_c^2 - 384*pi_a^2*pi_c*pi_g - 384*pi_a*pi_c^2*pi_g - 160*pi_a^2*pi_g^2 - 384*pi_a*pi_c*pi_g^2 - 160*pi_c^2*pi_g^2 - 384*pi_a^2*pi_c*pi_t - 384*pi_a*pi_c^2*pi_t - 384*pi_a^2*pi_g*pi_t - 960*pi_a*pi_c*pi_g*pi_t - 384*pi_c^2*pi_g*pi_t - 384*pi_a*pi_g^2*pi_t - 384*pi_c*pi_g^2*pi_t - 160*pi_a^2*pi_t^2 - 384*pi_a*pi_c*pi_t^2 - 160*pi_c^2*pi_t^2 - 384*pi_a*pi_g*pi_t^2 - 384*pi_c*pi_g*pi_t^2 - 160*pi_g^2*pi_t^2 + 96*pi_a^2*pi_c + 96*pi_a*pi_c^2 + 96*pi_a^2*pi_g + 96*pi_a*pi_c*pi_g + 96*pi_c^2*pi_g + 96*pi_a*pi_g^2 + 96*pi_c*pi_g^2 + 96*pi_a^2*pi_t + 96*pi_a*pi_c*pi_t + 96*pi_c^2*pi_t + 96*pi_a*pi_g*pi_t + 96*pi_c*pi_g*pi_t + 96*pi_g^2*pi_t + 96*pi_a*pi_t^2 + 96*pi_c*pi_t^2 + 96*pi_g*pi_t^2 + 48*pi_a*pi_c + 48*pi_a*pi_g + 48*pi_c*pi_g + 48*pi_a*pi_t + 48*pi_c*pi_t + 48*pi_g*pi_t - 12*pi_a^2/beta - 12*pi_c^2/beta - 12*pi_g^2/beta - 12*pi_t^2/beta + 8*sqrt(-15*pi_a^4 + 20*pi_a^3*pi_c - 58*pi_a^2*pi_c^2 + 20*pi_a*pi_c^3 - 15*pi_c^4 + 20*pi_a^3*pi_g + 28*pi_a^2*pi_c*pi_g + 28*pi_a*pi_c^2*pi_g + 20*pi_c^3*pi_g - 58*pi_a^2*pi_g^2 + 28*pi_a*pi_c*pi_g^2 - 58*pi_c^2*pi_g^2 + 20*pi_a*pi_g^3 + 20*pi_c*pi_g^3 - 15*pi_g^4 + 20*pi_a^3*pi_t + 28*pi_a^2*pi_c*pi_t + 28*pi_a*pi_c^2*pi_t + 20*pi_c^3*pi_t + 28*pi_a^2*pi_g*pi_t - 168*pi_a*pi_c*pi_g*pi_t + 28*pi_c^2*pi_g*pi_t + 28*pi_a*pi_g^2*pi_t + 28*pi_c*pi_g^2*pi_t + 20*pi_g^3*pi_t - 58*pi_a^2*pi_t^2 + 28*pi_a*pi_c*pi_t^2 - 58*pi_c^2*pi_t^2 + 28*pi_a*pi_g*pi_t^2 + 28*pi_c*pi_g*pi_t^2 - 58*pi_g^2*pi_t^2 + 20*pi_a*pi_t^3 + 20*pi_c*pi_t^3 + 20*pi_g*pi_t^3 - 15*pi_t^4 + 24*pi_a^3 - 24*pi_a^2*pi_c - 24*pi_a*pi_c^2 + 24*pi_c^3 - 24*pi_a^2*pi_g + 48*pi_a*pi_c*pi_g - 24*pi_c^2*pi_g - 24*pi_a*pi_g^2 - 24*pi_c*pi_g^2 + 24*pi_g^3 - 24*pi_a^2*pi_t + 48*pi_a*pi_c*pi_t - 24*pi_c^2*pi_t + 48*pi_a*pi_g*pi_t + 48*pi_c*pi_g*pi_t - 24*pi_g^2*pi_t - 24*pi_a*pi_t^2 - 24*pi_c*pi_t^2 - 24*pi_g*pi_t^2 + 24*pi_t^3 - 6*pi_a^2 + 4*pi_a*pi_c - 6*pi_c^2 + 4*pi_a*pi_g + 4*pi_c*pi_g - 6*pi_g^2 + 4*pi_a*pi_t + 4*pi_c*pi_t + 4*pi_g*pi_t - 6*pi_t^2 - 3)"
      ]
     },
     "metadata": {},
     "output_type": "display_data"
    },
    {
     "data": {
      "text/html": [
       "<html>\\(\\displaystyle 8 \\, \\sqrt{-51 \\, p \\pi_{a}^{4} + 68 \\, p \\pi_{a}^{3} \\pi_{c} - 146 \\, p \\pi_{a}^{2} \\pi_{c}^{2} + 68 \\, p \\pi_{a} \\pi_{c}^{3} - 51 \\, p \\pi_{c}^{4} + 68 \\, p \\pi_{a}^{3} \\pi_{g} + 44 \\, p \\pi_{a}^{2} \\pi_{c} \\pi_{g} + 44 \\, p \\pi_{a} \\pi_{c}^{2} \\pi_{g} + 68 \\, p \\pi_{c}^{3} \\pi_{g} - 146 \\, p \\pi_{a}^{2} \\pi_{g}^{2} + 44 \\, p \\pi_{a} \\pi_{c} \\pi_{g}^{2} - 146 \\, p \\pi_{c}^{2} \\pi_{g}^{2} + 68 \\, p \\pi_{a} \\pi_{g}^{3} + 68 \\, p \\pi_{c} \\pi_{g}^{3} - 51 \\, p \\pi_{g}^{4} + 68 \\, p \\pi_{a}^{3} \\pi_{t} + 44 \\, p \\pi_{a}^{2} \\pi_{c} \\pi_{t} + 44 \\, p \\pi_{a} \\pi_{c}^{2} \\pi_{t} + 68 \\, p \\pi_{c}^{3} \\pi_{t} + 44 \\, p \\pi_{a}^{2} \\pi_{g} \\pi_{t} - 264 \\, p \\pi_{a} \\pi_{c} \\pi_{g} \\pi_{t} + 44 \\, p \\pi_{c}^{2} \\pi_{g} \\pi_{t} + 44 \\, p \\pi_{a} \\pi_{g}^{2} \\pi_{t} + 44 \\, p \\pi_{c} \\pi_{g}^{2} \\pi_{t} + 68 \\, p \\pi_{g}^{3} \\pi_{t} - 146 \\, p \\pi_{a}^{2} \\pi_{t}^{2} + 44 \\, p \\pi_{a} \\pi_{c} \\pi_{t}^{2} - 146 \\, p \\pi_{c}^{2} \\pi_{t}^{2} + 44 \\, p \\pi_{a} \\pi_{g} \\pi_{t}^{2} + 44 \\, p \\pi_{c} \\pi_{g} \\pi_{t}^{2} - 146 \\, p \\pi_{g}^{2} \\pi_{t}^{2} + 68 \\, p \\pi_{a} \\pi_{t}^{3} + 68 \\, p \\pi_{c} \\pi_{t}^{3} + 68 \\, p \\pi_{g} \\pi_{t}^{3} - 51 \\, p \\pi_{t}^{4} + 24 \\, p \\pi_{a}^{3} + 36 \\, \\pi_{a}^{4} - 24 \\, p \\pi_{a}^{2} \\pi_{c} - 48 \\, \\pi_{a}^{3} \\pi_{c} - 24 \\, p \\pi_{a} \\pi_{c}^{2} + 88 \\, \\pi_{a}^{2} \\pi_{c}^{2} + 24 \\, p \\pi_{c}^{3} - 48 \\, \\pi_{a} \\pi_{c}^{3} + 36 \\, \\pi_{c}^{4} - 24 \\, p \\pi_{a}^{2} \\pi_{g} - 48 \\, \\pi_{a}^{3} \\pi_{g} + 48 \\, p \\pi_{a} \\pi_{c} \\pi_{g} - 16 \\, \\pi_{a}^{2} \\pi_{c} \\pi_{g} - 24 \\, p \\pi_{c}^{2} \\pi_{g} - 16 \\, \\pi_{a} \\pi_{c}^{2} \\pi_{g} - 48 \\, \\pi_{c}^{3} \\pi_{g} - 24 \\, p \\pi_{a} \\pi_{g}^{2} + 88 \\, \\pi_{a}^{2} \\pi_{g}^{2} - 24 \\, p \\pi_{c} \\pi_{g}^{2} - 16 \\, \\pi_{a} \\pi_{c} \\pi_{g}^{2} + 88 \\, \\pi_{c}^{2} \\pi_{g}^{2} + 24 \\, p \\pi_{g}^{3} - 48 \\, \\pi_{a} \\pi_{g}^{3} - 48 \\, \\pi_{c} \\pi_{g}^{3} + 36 \\, \\pi_{g}^{4} - 24 \\, p \\pi_{a}^{2} \\pi_{t} - 48 \\, \\pi_{a}^{3} \\pi_{t} + 48 \\, p \\pi_{a} \\pi_{c} \\pi_{t} - 16 \\, \\pi_{a}^{2} \\pi_{c} \\pi_{t} - 24 \\, p \\pi_{c}^{2} \\pi_{t} - 16 \\, \\pi_{a} \\pi_{c}^{2} \\pi_{t} - 48 \\, \\pi_{c}^{3} \\pi_{t} + 48 \\, p \\pi_{a} \\pi_{g} \\pi_{t} - 16 \\, \\pi_{a}^{2} \\pi_{g} \\pi_{t} + 48 \\, p \\pi_{c} \\pi_{g} \\pi_{t} + 96 \\, \\pi_{a} \\pi_{c} \\pi_{g} \\pi_{t} - 16 \\, \\pi_{c}^{2} \\pi_{g} \\pi_{t} - 24 \\, p \\pi_{g}^{2} \\pi_{t} - 16 \\, \\pi_{a} \\pi_{g}^{2} \\pi_{t} - 16 \\, \\pi_{c} \\pi_{g}^{2} \\pi_{t} - 48 \\, \\pi_{g}^{3} \\pi_{t} - 24 \\, p \\pi_{a} \\pi_{t}^{2} + 88 \\, \\pi_{a}^{2} \\pi_{t}^{2} - 24 \\, p \\pi_{c} \\pi_{t}^{2} - 16 \\, \\pi_{a} \\pi_{c} \\pi_{t}^{2} + 88 \\, \\pi_{c}^{2} \\pi_{t}^{2} - 24 \\, p \\pi_{g} \\pi_{t}^{2} - 16 \\, \\pi_{a} \\pi_{g} \\pi_{t}^{2} - 16 \\, \\pi_{c} \\pi_{g} \\pi_{t}^{2} + 88 \\, \\pi_{g}^{2} \\pi_{t}^{2} + 24 \\, p \\pi_{t}^{3} - 48 \\, \\pi_{a} \\pi_{t}^{3} - 48 \\, \\pi_{c} \\pi_{t}^{3} - 48 \\, \\pi_{g} \\pi_{t}^{3} + 36 \\, \\pi_{t}^{4} + 66 \\, p \\pi_{a}^{2} - 44 \\, p \\pi_{a} \\pi_{c} + 66 \\, p \\pi_{c}^{2} - 44 \\, p \\pi_{a} \\pi_{g} - 44 \\, p \\pi_{c} \\pi_{g} + 66 \\, p \\pi_{g}^{2} - 44 \\, p \\pi_{a} \\pi_{t} - 44 \\, p \\pi_{c} \\pi_{t} - 44 \\, p \\pi_{g} \\pi_{t} + 66 \\, p \\pi_{t}^{2} - 72 \\, \\pi_{a}^{2} + 48 \\, \\pi_{a} \\pi_{c} - 72 \\, \\pi_{c}^{2} + 48 \\, \\pi_{a} \\pi_{g} + 48 \\, \\pi_{c} \\pi_{g} - 72 \\, \\pi_{g}^{2} + 48 \\, \\pi_{a} \\pi_{t} + 48 \\, \\pi_{c} \\pi_{t} + 48 \\, \\pi_{g} \\pi_{t} - 72 \\, \\pi_{t}^{2} - 39 \\, p + 36} - 8 \\, \\sqrt{-15 \\, \\pi_{a}^{4} + 20 \\, \\pi_{a}^{3} \\pi_{c} - 58 \\, \\pi_{a}^{2} \\pi_{c}^{2} + 20 \\, \\pi_{a} \\pi_{c}^{3} - 15 \\, \\pi_{c}^{4} + 20 \\, \\pi_{a}^{3} \\pi_{g} + 28 \\, \\pi_{a}^{2} \\pi_{c} \\pi_{g} + 28 \\, \\pi_{a} \\pi_{c}^{2} \\pi_{g} + 20 \\, \\pi_{c}^{3} \\pi_{g} - 58 \\, \\pi_{a}^{2} \\pi_{g}^{2} + 28 \\, \\pi_{a} \\pi_{c} \\pi_{g}^{2} - 58 \\, \\pi_{c}^{2} \\pi_{g}^{2} + 20 \\, \\pi_{a} \\pi_{g}^{3} + 20 \\, \\pi_{c} \\pi_{g}^{3} - 15 \\, \\pi_{g}^{4} + 20 \\, \\pi_{a}^{3} \\pi_{t} + 28 \\, \\pi_{a}^{2} \\pi_{c} \\pi_{t} + 28 \\, \\pi_{a} \\pi_{c}^{2} \\pi_{t} + 20 \\, \\pi_{c}^{3} \\pi_{t} + 28 \\, \\pi_{a}^{2} \\pi_{g} \\pi_{t} - 168 \\, \\pi_{a} \\pi_{c} \\pi_{g} \\pi_{t} + 28 \\, \\pi_{c}^{2} \\pi_{g} \\pi_{t} + 28 \\, \\pi_{a} \\pi_{g}^{2} \\pi_{t} + 28 \\, \\pi_{c} \\pi_{g}^{2} \\pi_{t} + 20 \\, \\pi_{g}^{3} \\pi_{t} - 58 \\, \\pi_{a}^{2} \\pi_{t}^{2} + 28 \\, \\pi_{a} \\pi_{c} \\pi_{t}^{2} - 58 \\, \\pi_{c}^{2} \\pi_{t}^{2} + 28 \\, \\pi_{a} \\pi_{g} \\pi_{t}^{2} + 28 \\, \\pi_{c} \\pi_{g} \\pi_{t}^{2} - 58 \\, \\pi_{g}^{2} \\pi_{t}^{2} + 20 \\, \\pi_{a} \\pi_{t}^{3} + 20 \\, \\pi_{c} \\pi_{t}^{3} + 20 \\, \\pi_{g} \\pi_{t}^{3} - 15 \\, \\pi_{t}^{4} + 24 \\, \\pi_{a}^{3} - 24 \\, \\pi_{a}^{2} \\pi_{c} - 24 \\, \\pi_{a} \\pi_{c}^{2} + 24 \\, \\pi_{c}^{3} - 24 \\, \\pi_{a}^{2} \\pi_{g} + 48 \\, \\pi_{a} \\pi_{c} \\pi_{g} - 24 \\, \\pi_{c}^{2} \\pi_{g} - 24 \\, \\pi_{a} \\pi_{g}^{2} - 24 \\, \\pi_{c} \\pi_{g}^{2} + 24 \\, \\pi_{g}^{3} - 24 \\, \\pi_{a}^{2} \\pi_{t} + 48 \\, \\pi_{a} \\pi_{c} \\pi_{t} - 24 \\, \\pi_{c}^{2} \\pi_{t} + 48 \\, \\pi_{a} \\pi_{g} \\pi_{t} + 48 \\, \\pi_{c} \\pi_{g} \\pi_{t} - 24 \\, \\pi_{g}^{2} \\pi_{t} - 24 \\, \\pi_{a} \\pi_{t}^{2} - 24 \\, \\pi_{c} \\pi_{t}^{2} - 24 \\, \\pi_{g} \\pi_{t}^{2} + 24 \\, \\pi_{t}^{3} - 6 \\, \\pi_{a}^{2} + 4 \\, \\pi_{a} \\pi_{c} - 6 \\, \\pi_{c}^{2} + 4 \\, \\pi_{a} \\pi_{g} + 4 \\, \\pi_{c} \\pi_{g} - 6 \\, \\pi_{g}^{2} + 4 \\, \\pi_{a} \\pi_{t} + 4 \\, \\pi_{c} \\pi_{t} + 4 \\, \\pi_{g} \\pi_{t} - 6 \\, \\pi_{t}^{2} - 3}\\)</html>"
      ],
      "text/latex": [
       "$\\displaystyle 8 \\, \\sqrt{-51 \\, p \\pi_{a}^{4} + 68 \\, p \\pi_{a}^{3} \\pi_{c} - 146 \\, p \\pi_{a}^{2} \\pi_{c}^{2} + 68 \\, p \\pi_{a} \\pi_{c}^{3} - 51 \\, p \\pi_{c}^{4} + 68 \\, p \\pi_{a}^{3} \\pi_{g} + 44 \\, p \\pi_{a}^{2} \\pi_{c} \\pi_{g} + 44 \\, p \\pi_{a} \\pi_{c}^{2} \\pi_{g} + 68 \\, p \\pi_{c}^{3} \\pi_{g} - 146 \\, p \\pi_{a}^{2} \\pi_{g}^{2} + 44 \\, p \\pi_{a} \\pi_{c} \\pi_{g}^{2} - 146 \\, p \\pi_{c}^{2} \\pi_{g}^{2} + 68 \\, p \\pi_{a} \\pi_{g}^{3} + 68 \\, p \\pi_{c} \\pi_{g}^{3} - 51 \\, p \\pi_{g}^{4} + 68 \\, p \\pi_{a}^{3} \\pi_{t} + 44 \\, p \\pi_{a}^{2} \\pi_{c} \\pi_{t} + 44 \\, p \\pi_{a} \\pi_{c}^{2} \\pi_{t} + 68 \\, p \\pi_{c}^{3} \\pi_{t} + 44 \\, p \\pi_{a}^{2} \\pi_{g} \\pi_{t} - 264 \\, p \\pi_{a} \\pi_{c} \\pi_{g} \\pi_{t} + 44 \\, p \\pi_{c}^{2} \\pi_{g} \\pi_{t} + 44 \\, p \\pi_{a} \\pi_{g}^{2} \\pi_{t} + 44 \\, p \\pi_{c} \\pi_{g}^{2} \\pi_{t} + 68 \\, p \\pi_{g}^{3} \\pi_{t} - 146 \\, p \\pi_{a}^{2} \\pi_{t}^{2} + 44 \\, p \\pi_{a} \\pi_{c} \\pi_{t}^{2} - 146 \\, p \\pi_{c}^{2} \\pi_{t}^{2} + 44 \\, p \\pi_{a} \\pi_{g} \\pi_{t}^{2} + 44 \\, p \\pi_{c} \\pi_{g} \\pi_{t}^{2} - 146 \\, p \\pi_{g}^{2} \\pi_{t}^{2} + 68 \\, p \\pi_{a} \\pi_{t}^{3} + 68 \\, p \\pi_{c} \\pi_{t}^{3} + 68 \\, p \\pi_{g} \\pi_{t}^{3} - 51 \\, p \\pi_{t}^{4} + 24 \\, p \\pi_{a}^{3} + 36 \\, \\pi_{a}^{4} - 24 \\, p \\pi_{a}^{2} \\pi_{c} - 48 \\, \\pi_{a}^{3} \\pi_{c} - 24 \\, p \\pi_{a} \\pi_{c}^{2} + 88 \\, \\pi_{a}^{2} \\pi_{c}^{2} + 24 \\, p \\pi_{c}^{3} - 48 \\, \\pi_{a} \\pi_{c}^{3} + 36 \\, \\pi_{c}^{4} - 24 \\, p \\pi_{a}^{2} \\pi_{g} - 48 \\, \\pi_{a}^{3} \\pi_{g} + 48 \\, p \\pi_{a} \\pi_{c} \\pi_{g} - 16 \\, \\pi_{a}^{2} \\pi_{c} \\pi_{g} - 24 \\, p \\pi_{c}^{2} \\pi_{g} - 16 \\, \\pi_{a} \\pi_{c}^{2} \\pi_{g} - 48 \\, \\pi_{c}^{3} \\pi_{g} - 24 \\, p \\pi_{a} \\pi_{g}^{2} + 88 \\, \\pi_{a}^{2} \\pi_{g}^{2} - 24 \\, p \\pi_{c} \\pi_{g}^{2} - 16 \\, \\pi_{a} \\pi_{c} \\pi_{g}^{2} + 88 \\, \\pi_{c}^{2} \\pi_{g}^{2} + 24 \\, p \\pi_{g}^{3} - 48 \\, \\pi_{a} \\pi_{g}^{3} - 48 \\, \\pi_{c} \\pi_{g}^{3} + 36 \\, \\pi_{g}^{4} - 24 \\, p \\pi_{a}^{2} \\pi_{t} - 48 \\, \\pi_{a}^{3} \\pi_{t} + 48 \\, p \\pi_{a} \\pi_{c} \\pi_{t} - 16 \\, \\pi_{a}^{2} \\pi_{c} \\pi_{t} - 24 \\, p \\pi_{c}^{2} \\pi_{t} - 16 \\, \\pi_{a} \\pi_{c}^{2} \\pi_{t} - 48 \\, \\pi_{c}^{3} \\pi_{t} + 48 \\, p \\pi_{a} \\pi_{g} \\pi_{t} - 16 \\, \\pi_{a}^{2} \\pi_{g} \\pi_{t} + 48 \\, p \\pi_{c} \\pi_{g} \\pi_{t} + 96 \\, \\pi_{a} \\pi_{c} \\pi_{g} \\pi_{t} - 16 \\, \\pi_{c}^{2} \\pi_{g} \\pi_{t} - 24 \\, p \\pi_{g}^{2} \\pi_{t} - 16 \\, \\pi_{a} \\pi_{g}^{2} \\pi_{t} - 16 \\, \\pi_{c} \\pi_{g}^{2} \\pi_{t} - 48 \\, \\pi_{g}^{3} \\pi_{t} - 24 \\, p \\pi_{a} \\pi_{t}^{2} + 88 \\, \\pi_{a}^{2} \\pi_{t}^{2} - 24 \\, p \\pi_{c} \\pi_{t}^{2} - 16 \\, \\pi_{a} \\pi_{c} \\pi_{t}^{2} + 88 \\, \\pi_{c}^{2} \\pi_{t}^{2} - 24 \\, p \\pi_{g} \\pi_{t}^{2} - 16 \\, \\pi_{a} \\pi_{g} \\pi_{t}^{2} - 16 \\, \\pi_{c} \\pi_{g} \\pi_{t}^{2} + 88 \\, \\pi_{g}^{2} \\pi_{t}^{2} + 24 \\, p \\pi_{t}^{3} - 48 \\, \\pi_{a} \\pi_{t}^{3} - 48 \\, \\pi_{c} \\pi_{t}^{3} - 48 \\, \\pi_{g} \\pi_{t}^{3} + 36 \\, \\pi_{t}^{4} + 66 \\, p \\pi_{a}^{2} - 44 \\, p \\pi_{a} \\pi_{c} + 66 \\, p \\pi_{c}^{2} - 44 \\, p \\pi_{a} \\pi_{g} - 44 \\, p \\pi_{c} \\pi_{g} + 66 \\, p \\pi_{g}^{2} - 44 \\, p \\pi_{a} \\pi_{t} - 44 \\, p \\pi_{c} \\pi_{t} - 44 \\, p \\pi_{g} \\pi_{t} + 66 \\, p \\pi_{t}^{2} - 72 \\, \\pi_{a}^{2} + 48 \\, \\pi_{a} \\pi_{c} - 72 \\, \\pi_{c}^{2} + 48 \\, \\pi_{a} \\pi_{g} + 48 \\, \\pi_{c} \\pi_{g} - 72 \\, \\pi_{g}^{2} + 48 \\, \\pi_{a} \\pi_{t} + 48 \\, \\pi_{c} \\pi_{t} + 48 \\, \\pi_{g} \\pi_{t} - 72 \\, \\pi_{t}^{2} - 39 \\, p + 36} - 8 \\, \\sqrt{-15 \\, \\pi_{a}^{4} + 20 \\, \\pi_{a}^{3} \\pi_{c} - 58 \\, \\pi_{a}^{2} \\pi_{c}^{2} + 20 \\, \\pi_{a} \\pi_{c}^{3} - 15 \\, \\pi_{c}^{4} + 20 \\, \\pi_{a}^{3} \\pi_{g} + 28 \\, \\pi_{a}^{2} \\pi_{c} \\pi_{g} + 28 \\, \\pi_{a} \\pi_{c}^{2} \\pi_{g} + 20 \\, \\pi_{c}^{3} \\pi_{g} - 58 \\, \\pi_{a}^{2} \\pi_{g}^{2} + 28 \\, \\pi_{a} \\pi_{c} \\pi_{g}^{2} - 58 \\, \\pi_{c}^{2} \\pi_{g}^{2} + 20 \\, \\pi_{a} \\pi_{g}^{3} + 20 \\, \\pi_{c} \\pi_{g}^{3} - 15 \\, \\pi_{g}^{4} + 20 \\, \\pi_{a}^{3} \\pi_{t} + 28 \\, \\pi_{a}^{2} \\pi_{c} \\pi_{t} + 28 \\, \\pi_{a} \\pi_{c}^{2} \\pi_{t} + 20 \\, \\pi_{c}^{3} \\pi_{t} + 28 \\, \\pi_{a}^{2} \\pi_{g} \\pi_{t} - 168 \\, \\pi_{a} \\pi_{c} \\pi_{g} \\pi_{t} + 28 \\, \\pi_{c}^{2} \\pi_{g} \\pi_{t} + 28 \\, \\pi_{a} \\pi_{g}^{2} \\pi_{t} + 28 \\, \\pi_{c} \\pi_{g}^{2} \\pi_{t} + 20 \\, \\pi_{g}^{3} \\pi_{t} - 58 \\, \\pi_{a}^{2} \\pi_{t}^{2} + 28 \\, \\pi_{a} \\pi_{c} \\pi_{t}^{2} - 58 \\, \\pi_{c}^{2} \\pi_{t}^{2} + 28 \\, \\pi_{a} \\pi_{g} \\pi_{t}^{2} + 28 \\, \\pi_{c} \\pi_{g} \\pi_{t}^{2} - 58 \\, \\pi_{g}^{2} \\pi_{t}^{2} + 20 \\, \\pi_{a} \\pi_{t}^{3} + 20 \\, \\pi_{c} \\pi_{t}^{3} + 20 \\, \\pi_{g} \\pi_{t}^{3} - 15 \\, \\pi_{t}^{4} + 24 \\, \\pi_{a}^{3} - 24 \\, \\pi_{a}^{2} \\pi_{c} - 24 \\, \\pi_{a} \\pi_{c}^{2} + 24 \\, \\pi_{c}^{3} - 24 \\, \\pi_{a}^{2} \\pi_{g} + 48 \\, \\pi_{a} \\pi_{c} \\pi_{g} - 24 \\, \\pi_{c}^{2} \\pi_{g} - 24 \\, \\pi_{a} \\pi_{g}^{2} - 24 \\, \\pi_{c} \\pi_{g}^{2} + 24 \\, \\pi_{g}^{3} - 24 \\, \\pi_{a}^{2} \\pi_{t} + 48 \\, \\pi_{a} \\pi_{c} \\pi_{t} - 24 \\, \\pi_{c}^{2} \\pi_{t} + 48 \\, \\pi_{a} \\pi_{g} \\pi_{t} + 48 \\, \\pi_{c} \\pi_{g} \\pi_{t} - 24 \\, \\pi_{g}^{2} \\pi_{t} - 24 \\, \\pi_{a} \\pi_{t}^{2} - 24 \\, \\pi_{c} \\pi_{t}^{2} - 24 \\, \\pi_{g} \\pi_{t}^{2} + 24 \\, \\pi_{t}^{3} - 6 \\, \\pi_{a}^{2} + 4 \\, \\pi_{a} \\pi_{c} - 6 \\, \\pi_{c}^{2} + 4 \\, \\pi_{a} \\pi_{g} + 4 \\, \\pi_{c} \\pi_{g} - 6 \\, \\pi_{g}^{2} + 4 \\, \\pi_{a} \\pi_{t} + 4 \\, \\pi_{c} \\pi_{t} + 4 \\, \\pi_{g} \\pi_{t} - 6 \\, \\pi_{t}^{2} - 3}$"
      ],
      "text/plain": [
       "8*sqrt(-51*p*pi_a^4 + 68*p*pi_a^3*pi_c - 146*p*pi_a^2*pi_c^2 + 68*p*pi_a*pi_c^3 - 51*p*pi_c^4 + 68*p*pi_a^3*pi_g + 44*p*pi_a^2*pi_c*pi_g + 44*p*pi_a*pi_c^2*pi_g + 68*p*pi_c^3*pi_g - 146*p*pi_a^2*pi_g^2 + 44*p*pi_a*pi_c*pi_g^2 - 146*p*pi_c^2*pi_g^2 + 68*p*pi_a*pi_g^3 + 68*p*pi_c*pi_g^3 - 51*p*pi_g^4 + 68*p*pi_a^3*pi_t + 44*p*pi_a^2*pi_c*pi_t + 44*p*pi_a*pi_c^2*pi_t + 68*p*pi_c^3*pi_t + 44*p*pi_a^2*pi_g*pi_t - 264*p*pi_a*pi_c*pi_g*pi_t + 44*p*pi_c^2*pi_g*pi_t + 44*p*pi_a*pi_g^2*pi_t + 44*p*pi_c*pi_g^2*pi_t + 68*p*pi_g^3*pi_t - 146*p*pi_a^2*pi_t^2 + 44*p*pi_a*pi_c*pi_t^2 - 146*p*pi_c^2*pi_t^2 + 44*p*pi_a*pi_g*pi_t^2 + 44*p*pi_c*pi_g*pi_t^2 - 146*p*pi_g^2*pi_t^2 + 68*p*pi_a*pi_t^3 + 68*p*pi_c*pi_t^3 + 68*p*pi_g*pi_t^3 - 51*p*pi_t^4 + 24*p*pi_a^3 + 36*pi_a^4 - 24*p*pi_a^2*pi_c - 48*pi_a^3*pi_c - 24*p*pi_a*pi_c^2 + 88*pi_a^2*pi_c^2 + 24*p*pi_c^3 - 48*pi_a*pi_c^3 + 36*pi_c^4 - 24*p*pi_a^2*pi_g - 48*pi_a^3*pi_g + 48*p*pi_a*pi_c*pi_g - 16*pi_a^2*pi_c*pi_g - 24*p*pi_c^2*pi_g - 16*pi_a*pi_c^2*pi_g - 48*pi_c^3*pi_g - 24*p*pi_a*pi_g^2 + 88*pi_a^2*pi_g^2 - 24*p*pi_c*pi_g^2 - 16*pi_a*pi_c*pi_g^2 + 88*pi_c^2*pi_g^2 + 24*p*pi_g^3 - 48*pi_a*pi_g^3 - 48*pi_c*pi_g^3 + 36*pi_g^4 - 24*p*pi_a^2*pi_t - 48*pi_a^3*pi_t + 48*p*pi_a*pi_c*pi_t - 16*pi_a^2*pi_c*pi_t - 24*p*pi_c^2*pi_t - 16*pi_a*pi_c^2*pi_t - 48*pi_c^3*pi_t + 48*p*pi_a*pi_g*pi_t - 16*pi_a^2*pi_g*pi_t + 48*p*pi_c*pi_g*pi_t + 96*pi_a*pi_c*pi_g*pi_t - 16*pi_c^2*pi_g*pi_t - 24*p*pi_g^2*pi_t - 16*pi_a*pi_g^2*pi_t - 16*pi_c*pi_g^2*pi_t - 48*pi_g^3*pi_t - 24*p*pi_a*pi_t^2 + 88*pi_a^2*pi_t^2 - 24*p*pi_c*pi_t^2 - 16*pi_a*pi_c*pi_t^2 + 88*pi_c^2*pi_t^2 - 24*p*pi_g*pi_t^2 - 16*pi_a*pi_g*pi_t^2 - 16*pi_c*pi_g*pi_t^2 + 88*pi_g^2*pi_t^2 + 24*p*pi_t^3 - 48*pi_a*pi_t^3 - 48*pi_c*pi_t^3 - 48*pi_g*pi_t^3 + 36*pi_t^4 + 66*p*pi_a^2 - 44*p*pi_a*pi_c + 66*p*pi_c^2 - 44*p*pi_a*pi_g - 44*p*pi_c*pi_g + 66*p*pi_g^2 - 44*p*pi_a*pi_t - 44*p*pi_c*pi_t - 44*p*pi_g*pi_t + 66*p*pi_t^2 - 72*pi_a^2 + 48*pi_a*pi_c - 72*pi_c^2 + 48*pi_a*pi_g + 48*pi_c*pi_g - 72*pi_g^2 + 48*pi_a*pi_t + 48*pi_c*pi_t + 48*pi_g*pi_t - 72*pi_t^2 - 39*p + 36) - 8*sqrt(-15*pi_a^4 + 20*pi_a^3*pi_c - 58*pi_a^2*pi_c^2 + 20*pi_a*pi_c^3 - 15*pi_c^4 + 20*pi_a^3*pi_g + 28*pi_a^2*pi_c*pi_g + 28*pi_a*pi_c^2*pi_g + 20*pi_c^3*pi_g - 58*pi_a^2*pi_g^2 + 28*pi_a*pi_c*pi_g^2 - 58*pi_c^2*pi_g^2 + 20*pi_a*pi_g^3 + 20*pi_c*pi_g^3 - 15*pi_g^4 + 20*pi_a^3*pi_t + 28*pi_a^2*pi_c*pi_t + 28*pi_a*pi_c^2*pi_t + 20*pi_c^3*pi_t + 28*pi_a^2*pi_g*pi_t - 168*pi_a*pi_c*pi_g*pi_t + 28*pi_c^2*pi_g*pi_t + 28*pi_a*pi_g^2*pi_t + 28*pi_c*pi_g^2*pi_t + 20*pi_g^3*pi_t - 58*pi_a^2*pi_t^2 + 28*pi_a*pi_c*pi_t^2 - 58*pi_c^2*pi_t^2 + 28*pi_a*pi_g*pi_t^2 + 28*pi_c*pi_g*pi_t^2 - 58*pi_g^2*pi_t^2 + 20*pi_a*pi_t^3 + 20*pi_c*pi_t^3 + 20*pi_g*pi_t^3 - 15*pi_t^4 + 24*pi_a^3 - 24*pi_a^2*pi_c - 24*pi_a*pi_c^2 + 24*pi_c^3 - 24*pi_a^2*pi_g + 48*pi_a*pi_c*pi_g - 24*pi_c^2*pi_g - 24*pi_a*pi_g^2 - 24*pi_c*pi_g^2 + 24*pi_g^3 - 24*pi_a^2*pi_t + 48*pi_a*pi_c*pi_t - 24*pi_c^2*pi_t + 48*pi_a*pi_g*pi_t + 48*pi_c*pi_g*pi_t - 24*pi_g^2*pi_t - 24*pi_a*pi_t^2 - 24*pi_c*pi_t^2 - 24*pi_g*pi_t^2 + 24*pi_t^3 - 6*pi_a^2 + 4*pi_a*pi_c - 6*pi_c^2 + 4*pi_a*pi_g + 4*pi_c*pi_g - 6*pi_g^2 + 4*pi_a*pi_t + 4*pi_c*pi_t + 4*pi_g*pi_t - 6*pi_t^2 - 3)"
      ]
     },
     "metadata": {},
     "output_type": "display_data"
    }
   ],
   "source": [
    "fancy_zero = (\n",
    "    51 * (pi_a + pi_c + pi_g + pi_t - 1)^4\n",
    "    + 180*(pi_a + pi_c + pi_g + pi_t - 1)^3\n",
    "    + 216*(pi_a + pi_c + pi_g + pi_t - 1)^2\n",
    "    + 96*(pi_a + pi_c + pi_g + pi_t - 1)\n",
    "    - 272 * pi_a^2 / beta_f10 / 4 + 48 * pi_a^2 / beta /4\n",
    "    - 272 * pi_c^2 / beta_f10 / 4 + 48 * pi_c^2 / beta /4\n",
    "    - 272 * pi_g^2 / beta_f10 / 4 + 48 * pi_g^2 / beta /4\n",
    "    - 272 * pi_t^2 / beta_f10 / 4 + 48 * pi_t^2 / beta /4\n",
    "    # - 32 * (1 / beta_f16 / 4)^2 + 32 * (1 / beta / 4)^2\n",
    "    # + 16 * 1 /beta_f16 / 4 - 16 * 1 /beta / 4\n",
    "    # - 12 * (pi_a + pi_c + pi_g + pi_t - 1)^2 / beta\n",
    "    # + 24 * (1 / beta_f16 / 4) / beta - 24 * (1 / beta / 4) / beta \n",
    "    # - 24 * (pi_a + pi_c + pi_g + pi_t - 1) / beta\n",
    "    # + 12*sqrt(1-p)*(pi_a + pi_c + pi_g + pi_t - 1)^2\n",
    "    # + 24*sqrt(1-p)*(pi_a + pi_c + pi_g + pi_t - 1)\n",
    "    # - 32 * sqrt(1-p) / beta_f16 /4 - + 32 * sqrt(1-p) / beta / 4 \n",
    ")\n",
    "\n",
    "temp = (exp(nu_hat_f10t).numerator() - fancy_zero).expand().simplify_full().expand()\n",
    "temp_nop_part = temp(p=1) \n",
    "temp_p_part = (temp - temp(p=1)).simplify()\n",
    "pretty_print( temp_nop_part )\n",
    "pretty_print( temp_p_part )"
   ]
  },
  {
   "cell_type": "code",
   "execution_count": null,
   "id": "9a70b67a-f478-46a6-9878-f7be06161147",
   "metadata": {},
   "outputs": [],
   "source": []
  },
  {
   "cell_type": "code",
   "execution_count": null,
   "id": "54af5b1e-4aec-45d9-b806-b952b564c93d",
   "metadata": {},
   "outputs": [],
   "source": []
  },
  {
   "cell_type": "code",
   "execution_count": null,
   "id": "03442d41-0bc3-4fc1-a239-6b9db33bcc20",
   "metadata": {},
   "outputs": [],
   "source": []
  },
  {
   "cell_type": "code",
   "execution_count": null,
   "id": "abaf3500-0663-45f7-8a18-0c8e0b30def3",
   "metadata": {},
   "outputs": [],
   "source": []
  },
  {
   "cell_type": "code",
   "execution_count": null,
   "id": "7e4e1438-b1e8-40e8-94df-c42d3439510e",
   "metadata": {},
   "outputs": [],
   "source": []
  },
  {
   "cell_type": "markdown",
   "id": "6a745df1-a151-4c7f-888b-547d4ceb41f7",
   "metadata": {},
   "source": [
    "# Rate matrices"
   ]
  },
  {
   "cell_type": "code",
   "execution_count": 71,
   "id": "1f867e93-f31b-43d8-bb12-dea14ef280f3",
   "metadata": {},
   "outputs": [
    {
     "data": {
      "text/html": [
       "<html>\\(\\displaystyle \\left(\\begin{array}{rrrr}\n",
       "-\\pi_{c} s_{\\mathit{ac}} - \\pi_{g} s_{\\mathit{ag}} - \\pi_{t} s_{\\mathit{at}} & \\pi_{c} s_{\\mathit{ac}} & \\pi_{g} s_{\\mathit{ag}} & \\pi_{t} s_{\\mathit{at}} \\\\\n",
       "\\pi_{a} s_{\\mathit{ac}} & -\\pi_{a} s_{\\mathit{ac}} - \\pi_{g} s_{\\mathit{cg}} - \\pi_{t} s_{\\mathit{ct}} & \\pi_{g} s_{\\mathit{cg}} & \\pi_{t} s_{\\mathit{ct}} \\\\\n",
       "\\pi_{a} s_{\\mathit{ag}} & \\pi_{c} s_{\\mathit{cg}} & -\\pi_{a} s_{\\mathit{ag}} - \\pi_{c} s_{\\mathit{cg}} - \\pi_{t} s_{\\mathit{gt}} & \\pi_{t} s_{\\mathit{gt}} \\\\\n",
       "\\pi_{a} s_{\\mathit{at}} & \\pi_{c} s_{\\mathit{ct}} & \\pi_{g} s_{\\mathit{gt}} & -\\pi_{a} s_{\\mathit{at}} - \\pi_{c} s_{\\mathit{ct}} - \\pi_{g} s_{\\mathit{gt}}\n",
       "\\end{array}\\right)\\)</html>"
      ],
      "text/latex": [
       "$\\displaystyle \\left(\\begin{array}{rrrr}\n",
       "-\\pi_{c} s_{\\mathit{ac}} - \\pi_{g} s_{\\mathit{ag}} - \\pi_{t} s_{\\mathit{at}} & \\pi_{c} s_{\\mathit{ac}} & \\pi_{g} s_{\\mathit{ag}} & \\pi_{t} s_{\\mathit{at}} \\\\\n",
       "\\pi_{a} s_{\\mathit{ac}} & -\\pi_{a} s_{\\mathit{ac}} - \\pi_{g} s_{\\mathit{cg}} - \\pi_{t} s_{\\mathit{ct}} & \\pi_{g} s_{\\mathit{cg}} & \\pi_{t} s_{\\mathit{ct}} \\\\\n",
       "\\pi_{a} s_{\\mathit{ag}} & \\pi_{c} s_{\\mathit{cg}} & -\\pi_{a} s_{\\mathit{ag}} - \\pi_{c} s_{\\mathit{cg}} - \\pi_{t} s_{\\mathit{gt}} & \\pi_{t} s_{\\mathit{gt}} \\\\\n",
       "\\pi_{a} s_{\\mathit{at}} & \\pi_{c} s_{\\mathit{ct}} & \\pi_{g} s_{\\mathit{gt}} & -\\pi_{a} s_{\\mathit{at}} - \\pi_{c} s_{\\mathit{ct}} - \\pi_{g} s_{\\mathit{gt}}\n",
       "\\end{array}\\right)$"
      ],
      "text/plain": [
       "[-pi_c*s_ac - pi_g*s_ag - pi_t*s_at                          pi_c*s_ac                          pi_g*s_ag                          pi_t*s_at]\n",
       "[                         pi_a*s_ac -pi_a*s_ac - pi_g*s_cg - pi_t*s_ct                          pi_g*s_cg                          pi_t*s_ct]\n",
       "[                         pi_a*s_ag                          pi_c*s_cg -pi_a*s_ag - pi_c*s_cg - pi_t*s_gt                          pi_t*s_gt]\n",
       "[                         pi_a*s_at                          pi_c*s_ct                          pi_g*s_gt -pi_a*s_at - pi_c*s_ct - pi_g*s_gt]"
      ]
     },
     "metadata": {},
     "output_type": "display_data"
    }
   ],
   "source": [
    "A_GTR = matrix(\n",
    "    [\n",
    "        # fmt: off\n",
    "        #  s_ac   s_ag   s_at   s_cg   s_ct   s_gt\n",
    "        # row 1\n",
    "        [ -pi_c, -pi_g, -pi_t,     0,     0,     0],\n",
    "        [  pi_c,     0,     0,     0,     0,     0],\n",
    "        [     0,  pi_g,     0,     0,     0,     0],\n",
    "        [     0,     0,  pi_t,     0,     0,     0],\n",
    "        # row 2\n",
    "        [  pi_a,     0,     0,     0,     0,     0],\n",
    "        [ -pi_a,     0,     0, -pi_g, -pi_t,     0],\n",
    "        [     0,     0,     0,  pi_g,     0,     0],\n",
    "        [     0,     0,     0,     0,  pi_t,     0],\n",
    "        # row 3\n",
    "        [     0,  pi_a,     0,     0,     0,     0],\n",
    "        [     0,     0,     0,  pi_c,     0,     0],\n",
    "        [     0, -pi_a,     0, -pi_c,     0, -pi_t],\n",
    "        [     0,     0,     0,     0,     0,  pi_t],\n",
    "        # row 4\n",
    "        [     0,     0,  pi_a,     0,     0,     0],\n",
    "        [     0,     0,     0,     0,  pi_c,     0],\n",
    "        [     0,     0,     0,     0,     0,  pi_g],\n",
    "        [     0,     0, -pi_a,     0, -pi_c, -pi_g],\n",
    "        # fmt: on\n",
    "    ]\n",
    ")\n",
    "qgtr = matrix([(A_GTR * vector([s_ac, s_ag, s_at, s_cg, s_ct, s_gt]))[idx:idx+4] for idx in range(0,16,4)])\n",
    "pretty_print( qgtr )"
   ]
  },
  {
   "cell_type": "code",
   "execution_count": 72,
   "id": "7e0ceed9-9236-4d52-bc80-af62099540f6",
   "metadata": {},
   "outputs": [
    {
     "data": {
      "text/plain": [
       "(-2*pi_c*s_ac - 2*pi_g*s_ag - 2*pi_t*s_at, pi_c*s_ac, pi_g*s_ag, pi_t*s_at, pi_c*s_ac, 0, 0, 0, pi_g*s_ag, 0, 0, 0, pi_t*s_at, 0, 0, 0, pi_a*s_ac, -pi_a*s_ac - pi_c*s_ac - pi_g*s_ag - pi_t*s_at - pi_g*s_cg - pi_t*s_ct, pi_g*s_cg, pi_t*s_ct, 0, pi_c*s_ac, 0, 0, 0, pi_g*s_ag, 0, 0, 0, pi_t*s_at, 0, 0, pi_a*s_ag, pi_c*s_cg, -pi_c*s_ac - pi_a*s_ag - pi_g*s_ag - pi_t*s_at - pi_c*s_cg - pi_t*s_gt, pi_t*s_gt, 0, 0, pi_c*s_ac, 0, 0, 0, pi_g*s_ag, 0, 0, 0, pi_t*s_at, 0, pi_a*s_at, pi_c*s_ct, pi_g*s_gt, -pi_c*s_ac - pi_g*s_ag - pi_a*s_at - pi_t*s_at - pi_c*s_ct - pi_g*s_gt, 0, 0, 0, pi_c*s_ac, 0, 0, 0, pi_g*s_ag, 0, 0, 0, pi_t*s_at, pi_a*s_ac, 0, 0, 0, -pi_a*s_ac - pi_c*s_ac - pi_g*s_ag - pi_t*s_at - pi_g*s_cg - pi_t*s_ct, pi_c*s_ac, pi_g*s_ag, pi_t*s_at, pi_g*s_cg, 0, 0, 0, pi_t*s_ct, 0, 0, 0, 0, pi_a*s_ac, 0, 0, pi_a*s_ac, -2*pi_a*s_ac - 2*pi_g*s_cg - 2*pi_t*s_ct, pi_g*s_cg, pi_t*s_ct, 0, pi_g*s_cg, 0, 0, 0, pi_t*s_ct, 0, 0, 0, 0, pi_a*s_ac, 0, pi_a*s_ag, pi_c*s_cg, -pi_a*s_ac - pi_a*s_ag - pi_c*s_cg - pi_g*s_cg - pi_t*s_ct - pi_t*s_gt, pi_t*s_gt, 0, 0, pi_g*s_cg, 0, 0, 0, pi_t*s_ct, 0, 0, 0, 0, pi_a*s_ac, pi_a*s_at, pi_c*s_ct, pi_g*s_gt, -pi_a*s_ac - pi_a*s_at - pi_g*s_cg - pi_c*s_ct - pi_t*s_ct - pi_g*s_gt, 0, 0, 0, pi_g*s_cg, 0, 0, 0, pi_t*s_ct, pi_a*s_ag, 0, 0, 0, pi_c*s_cg, 0, 0, 0, -pi_c*s_ac - pi_a*s_ag - pi_g*s_ag - pi_t*s_at - pi_c*s_cg - pi_t*s_gt, pi_c*s_ac, pi_g*s_ag, pi_t*s_at, pi_t*s_gt, 0, 0, 0, 0, pi_a*s_ag, 0, 0, 0, pi_c*s_cg, 0, 0, pi_a*s_ac, -pi_a*s_ac - pi_a*s_ag - pi_c*s_cg - pi_g*s_cg - pi_t*s_ct - pi_t*s_gt, pi_g*s_cg, pi_t*s_ct, 0, pi_t*s_gt, 0, 0, 0, 0, pi_a*s_ag, 0, 0, 0, pi_c*s_cg, 0, pi_a*s_ag, pi_c*s_cg, -2*pi_a*s_ag - 2*pi_c*s_cg - 2*pi_t*s_gt, pi_t*s_gt, 0, 0, pi_t*s_gt, 0, 0, 0, 0, pi_a*s_ag, 0, 0, 0, pi_c*s_cg, pi_a*s_at, pi_c*s_ct, pi_g*s_gt, -pi_a*s_ag - pi_a*s_at - pi_c*s_cg - pi_c*s_ct - pi_g*s_gt - pi_t*s_gt, 0, 0, 0, pi_t*s_gt, pi_a*s_at, 0, 0, 0, pi_c*s_ct, 0, 0, 0, pi_g*s_gt, 0, 0, 0, -pi_c*s_ac - pi_g*s_ag - pi_a*s_at - pi_t*s_at - pi_c*s_ct - pi_g*s_gt, pi_c*s_ac, pi_g*s_ag, pi_t*s_at, 0, pi_a*s_at, 0, 0, 0, pi_c*s_ct, 0, 0, 0, pi_g*s_gt, 0, 0, pi_a*s_ac, -pi_a*s_ac - pi_a*s_at - pi_g*s_cg - pi_c*s_ct - pi_t*s_ct - pi_g*s_gt, pi_g*s_cg, pi_t*s_ct, 0, 0, pi_a*s_at, 0, 0, 0, pi_c*s_ct, 0, 0, 0, pi_g*s_gt, 0, pi_a*s_ag, pi_c*s_cg, -pi_a*s_ag - pi_a*s_at - pi_c*s_cg - pi_c*s_ct - pi_g*s_gt - pi_t*s_gt, pi_t*s_gt, 0, 0, 0, pi_a*s_at, 0, 0, 0, pi_c*s_ct, 0, 0, 0, pi_g*s_gt, pi_a*s_at, pi_c*s_ct, pi_g*s_gt, -2*pi_a*s_at - 2*pi_c*s_ct - 2*pi_g*s_gt)"
      ]
     },
     "execution_count": 72,
     "metadata": {},
     "output_type": "execute_result"
    }
   ],
   "source": [
    "qgtr16 = qgtr.tensor_product(identity_matrix(4)) + identity_matrix(4).tensor_product(qgtr)\n",
    "import itertools\n",
    "v = vector(list(itertools.chain.from_iterable(map(list, list(qgtr16)))))\n",
    "v"
   ]
  },
  {
   "cell_type": "code",
   "execution_count": 73,
   "id": "3e446a33-64af-4424-85c3-487e29a077f0",
   "metadata": {},
   "outputs": [],
   "source": [
    "import numpy as np"
   ]
  },
  {
   "cell_type": "code",
   "execution_count": 74,
   "id": "8bbf3d70-09db-4018-9ff5-d09b30d897ca",
   "metadata": {},
   "outputs": [
    {
     "name": "stdout",
     "output_type": "stream",
     "text": [
      "array([[-2*pi_c, -2*pi_g, -2*pi_t, 0, 0, 0],\n",
      "       [pi_c, 0, 0, 0, 0, 0],\n",
      "       [0, pi_g, 0, 0, 0, 0],\n",
      "       [0, 0, pi_t, 0, 0, 0],\n",
      "       [pi_c, 0, 0, 0, 0, 0],\n",
      "       [0, 0, 0, 0, 0, 0],\n",
      "       [0, 0, 0, 0, 0, 0],\n",
      "       [0, 0, 0, 0, 0, 0],\n",
      "       [0, pi_g, 0, 0, 0, 0],\n",
      "       [0, 0, 0, 0, 0, 0],\n",
      "       [0, 0, 0, 0, 0, 0],\n",
      "       [0, 0, 0, 0, 0, 0],\n",
      "       [0, 0, pi_t, 0, 0, 0],\n",
      "       [0, 0, 0, 0, 0, 0],\n",
      "       [0, 0, 0, 0, 0, 0],\n",
      "       [0, 0, 0, 0, 0, 0],\n",
      "       [pi_a, 0, 0, 0, 0, 0],\n",
      "       [-pi_a - pi_c, -pi_g, -pi_t, -pi_g, -pi_t, 0],\n",
      "       [0, 0, 0, pi_g, 0, 0],\n",
      "       [0, 0, 0, 0, pi_t, 0],\n",
      "       [0, 0, 0, 0, 0, 0],\n",
      "       [pi_c, 0, 0, 0, 0, 0],\n",
      "       [0, 0, 0, 0, 0, 0],\n",
      "       [0, 0, 0, 0, 0, 0],\n",
      "       [0, 0, 0, 0, 0, 0],\n",
      "       [0, pi_g, 0, 0, 0, 0],\n",
      "       [0, 0, 0, 0, 0, 0],\n",
      "       [0, 0, 0, 0, 0, 0],\n",
      "       [0, 0, 0, 0, 0, 0],\n",
      "       [0, 0, pi_t, 0, 0, 0],\n",
      "       [0, 0, 0, 0, 0, 0],\n",
      "       [0, 0, 0, 0, 0, 0],\n",
      "       [0, pi_a, 0, 0, 0, 0],\n",
      "       [0, 0, 0, pi_c, 0, 0],\n",
      "       [-pi_c, -pi_a - pi_g, -pi_t, -pi_c, 0, -pi_t],\n",
      "       [0, 0, 0, 0, 0, pi_t],\n",
      "       [0, 0, 0, 0, 0, 0],\n",
      "       [0, 0, 0, 0, 0, 0],\n",
      "       [pi_c, 0, 0, 0, 0, 0],\n",
      "       [0, 0, 0, 0, 0, 0],\n",
      "       [0, 0, 0, 0, 0, 0],\n",
      "       [0, 0, 0, 0, 0, 0],\n",
      "       [0, pi_g, 0, 0, 0, 0],\n",
      "       [0, 0, 0, 0, 0, 0],\n",
      "       [0, 0, 0, 0, 0, 0],\n",
      "       [0, 0, 0, 0, 0, 0],\n",
      "       [0, 0, pi_t, 0, 0, 0],\n",
      "       [0, 0, 0, 0, 0, 0],\n",
      "       [0, 0, pi_a, 0, 0, 0],\n",
      "       [0, 0, 0, 0, pi_c, 0],\n",
      "       [0, 0, 0, 0, 0, pi_g],\n",
      "       [-pi_c, -pi_g, -pi_a - pi_t, 0, -pi_c, -pi_g],\n",
      "       [0, 0, 0, 0, 0, 0],\n",
      "       [0, 0, 0, 0, 0, 0],\n",
      "       [0, 0, 0, 0, 0, 0],\n",
      "       [pi_c, 0, 0, 0, 0, 0],\n",
      "       [0, 0, 0, 0, 0, 0],\n",
      "       [0, 0, 0, 0, 0, 0],\n",
      "       [0, 0, 0, 0, 0, 0],\n",
      "       [0, pi_g, 0, 0, 0, 0],\n",
      "       [0, 0, 0, 0, 0, 0],\n",
      "       [0, 0, 0, 0, 0, 0],\n",
      "       [0, 0, 0, 0, 0, 0],\n",
      "       [0, 0, pi_t, 0, 0, 0],\n",
      "       [pi_a, 0, 0, 0, 0, 0],\n",
      "       [0, 0, 0, 0, 0, 0],\n",
      "       [0, 0, 0, 0, 0, 0],\n",
      "       [0, 0, 0, 0, 0, 0],\n",
      "       [-pi_a - pi_c, -pi_g, -pi_t, -pi_g, -pi_t, 0],\n",
      "       [pi_c, 0, 0, 0, 0, 0],\n",
      "       [0, pi_g, 0, 0, 0, 0],\n",
      "       [0, 0, pi_t, 0, 0, 0],\n",
      "       [0, 0, 0, pi_g, 0, 0],\n",
      "       [0, 0, 0, 0, 0, 0],\n",
      "       [0, 0, 0, 0, 0, 0],\n",
      "       [0, 0, 0, 0, 0, 0],\n",
      "       [0, 0, 0, 0, pi_t, 0],\n",
      "       [0, 0, 0, 0, 0, 0],\n",
      "       [0, 0, 0, 0, 0, 0],\n",
      "       [0, 0, 0, 0, 0, 0],\n",
      "       [0, 0, 0, 0, 0, 0],\n",
      "       [pi_a, 0, 0, 0, 0, 0],\n",
      "       [0, 0, 0, 0, 0, 0],\n",
      "       [0, 0, 0, 0, 0, 0],\n",
      "       [pi_a, 0, 0, 0, 0, 0],\n",
      "       [-2*pi_a, 0, 0, -2*pi_g, -2*pi_t, 0],\n",
      "       [0, 0, 0, pi_g, 0, 0],\n",
      "       [0, 0, 0, 0, pi_t, 0],\n",
      "       [0, 0, 0, 0, 0, 0],\n",
      "       [0, 0, 0, pi_g, 0, 0],\n",
      "       [0, 0, 0, 0, 0, 0],\n",
      "       [0, 0, 0, 0, 0, 0],\n",
      "       [0, 0, 0, 0, 0, 0],\n",
      "       [0, 0, 0, 0, pi_t, 0],\n",
      "       [0, 0, 0, 0, 0, 0],\n",
      "       [0, 0, 0, 0, 0, 0],\n",
      "       [0, 0, 0, 0, 0, 0],\n",
      "       [0, 0, 0, 0, 0, 0],\n",
      "       [pi_a, 0, 0, 0, 0, 0],\n",
      "       [0, 0, 0, 0, 0, 0],\n",
      "       [0, pi_a, 0, 0, 0, 0],\n",
      "       [0, 0, 0, pi_c, 0, 0],\n",
      "       [-pi_a, -pi_a, 0, -pi_c - pi_g, -pi_t, -pi_t],\n",
      "       [0, 0, 0, 0, 0, pi_t],\n",
      "       [0, 0, 0, 0, 0, 0],\n",
      "       [0, 0, 0, 0, 0, 0],\n",
      "       [0, 0, 0, pi_g, 0, 0],\n",
      "       [0, 0, 0, 0, 0, 0],\n",
      "       [0, 0, 0, 0, 0, 0],\n",
      "       [0, 0, 0, 0, 0, 0],\n",
      "       [0, 0, 0, 0, pi_t, 0],\n",
      "       [0, 0, 0, 0, 0, 0],\n",
      "       [0, 0, 0, 0, 0, 0],\n",
      "       [0, 0, 0, 0, 0, 0],\n",
      "       [0, 0, 0, 0, 0, 0],\n",
      "       [pi_a, 0, 0, 0, 0, 0],\n",
      "       [0, 0, pi_a, 0, 0, 0],\n",
      "       [0, 0, 0, 0, pi_c, 0],\n",
      "       [0, 0, 0, 0, 0, pi_g],\n",
      "       [-pi_a, 0, -pi_a, -pi_g, -pi_c - pi_t, -pi_g],\n",
      "       [0, 0, 0, 0, 0, 0],\n",
      "       [0, 0, 0, 0, 0, 0],\n",
      "       [0, 0, 0, 0, 0, 0],\n",
      "       [0, 0, 0, pi_g, 0, 0],\n",
      "       [0, 0, 0, 0, 0, 0],\n",
      "       [0, 0, 0, 0, 0, 0],\n",
      "       [0, 0, 0, 0, 0, 0],\n",
      "       [0, 0, 0, 0, pi_t, 0],\n",
      "       [0, pi_a, 0, 0, 0, 0],\n",
      "       [0, 0, 0, 0, 0, 0],\n",
      "       [0, 0, 0, 0, 0, 0],\n",
      "       [0, 0, 0, 0, 0, 0],\n",
      "       [0, 0, 0, pi_c, 0, 0],\n",
      "       [0, 0, 0, 0, 0, 0],\n",
      "       [0, 0, 0, 0, 0, 0],\n",
      "       [0, 0, 0, 0, 0, 0],\n",
      "       [-pi_c, -pi_a - pi_g, -pi_t, -pi_c, 0, -pi_t],\n",
      "       [pi_c, 0, 0, 0, 0, 0],\n",
      "       [0, pi_g, 0, 0, 0, 0],\n",
      "       [0, 0, pi_t, 0, 0, 0],\n",
      "       [0, 0, 0, 0, 0, pi_t],\n",
      "       [0, 0, 0, 0, 0, 0],\n",
      "       [0, 0, 0, 0, 0, 0],\n",
      "       [0, 0, 0, 0, 0, 0],\n",
      "       [0, 0, 0, 0, 0, 0],\n",
      "       [0, pi_a, 0, 0, 0, 0],\n",
      "       [0, 0, 0, 0, 0, 0],\n",
      "       [0, 0, 0, 0, 0, 0],\n",
      "       [0, 0, 0, 0, 0, 0],\n",
      "       [0, 0, 0, pi_c, 0, 0],\n",
      "       [0, 0, 0, 0, 0, 0],\n",
      "       [0, 0, 0, 0, 0, 0],\n",
      "       [pi_a, 0, 0, 0, 0, 0],\n",
      "       [-pi_a, -pi_a, 0, -pi_c - pi_g, -pi_t, -pi_t],\n",
      "       [0, 0, 0, pi_g, 0, 0],\n",
      "       [0, 0, 0, 0, pi_t, 0],\n",
      "       [0, 0, 0, 0, 0, 0],\n",
      "       [0, 0, 0, 0, 0, pi_t],\n",
      "       [0, 0, 0, 0, 0, 0],\n",
      "       [0, 0, 0, 0, 0, 0],\n",
      "       [0, 0, 0, 0, 0, 0],\n",
      "       [0, 0, 0, 0, 0, 0],\n",
      "       [0, pi_a, 0, 0, 0, 0],\n",
      "       [0, 0, 0, 0, 0, 0],\n",
      "       [0, 0, 0, 0, 0, 0],\n",
      "       [0, 0, 0, 0, 0, 0],\n",
      "       [0, 0, 0, pi_c, 0, 0],\n",
      "       [0, 0, 0, 0, 0, 0],\n",
      "       [0, pi_a, 0, 0, 0, 0],\n",
      "       [0, 0, 0, pi_c, 0, 0],\n",
      "       [0, -2*pi_a, 0, -2*pi_c, 0, -2*pi_t],\n",
      "       [0, 0, 0, 0, 0, pi_t],\n",
      "       [0, 0, 0, 0, 0, 0],\n",
      "       [0, 0, 0, 0, 0, 0],\n",
      "       [0, 0, 0, 0, 0, pi_t],\n",
      "       [0, 0, 0, 0, 0, 0],\n",
      "       [0, 0, 0, 0, 0, 0],\n",
      "       [0, 0, 0, 0, 0, 0],\n",
      "       [0, 0, 0, 0, 0, 0],\n",
      "       [0, pi_a, 0, 0, 0, 0],\n",
      "       [0, 0, 0, 0, 0, 0],\n",
      "       [0, 0, 0, 0, 0, 0],\n",
      "       [0, 0, 0, 0, 0, 0],\n",
      "       [0, 0, 0, pi_c, 0, 0],\n",
      "       [0, 0, pi_a, 0, 0, 0],\n",
      "       [0, 0, 0, 0, pi_c, 0],\n",
      "       [0, 0, 0, 0, 0, pi_g],\n",
      "       [0, -pi_a, -pi_a, -pi_c, -pi_c, -pi_g - pi_t],\n",
      "       [0, 0, 0, 0, 0, 0],\n",
      "       [0, 0, 0, 0, 0, 0],\n",
      "       [0, 0, 0, 0, 0, 0],\n",
      "       [0, 0, 0, 0, 0, pi_t],\n",
      "       [0, 0, pi_a, 0, 0, 0],\n",
      "       [0, 0, 0, 0, 0, 0],\n",
      "       [0, 0, 0, 0, 0, 0],\n",
      "       [0, 0, 0, 0, 0, 0],\n",
      "       [0, 0, 0, 0, pi_c, 0],\n",
      "       [0, 0, 0, 0, 0, 0],\n",
      "       [0, 0, 0, 0, 0, 0],\n",
      "       [0, 0, 0, 0, 0, 0],\n",
      "       [0, 0, 0, 0, 0, pi_g],\n",
      "       [0, 0, 0, 0, 0, 0],\n",
      "       [0, 0, 0, 0, 0, 0],\n",
      "       [0, 0, 0, 0, 0, 0],\n",
      "       [-pi_c, -pi_g, -pi_a - pi_t, 0, -pi_c, -pi_g],\n",
      "       [pi_c, 0, 0, 0, 0, 0],\n",
      "       [0, pi_g, 0, 0, 0, 0],\n",
      "       [0, 0, pi_t, 0, 0, 0],\n",
      "       [0, 0, 0, 0, 0, 0],\n",
      "       [0, 0, pi_a, 0, 0, 0],\n",
      "       [0, 0, 0, 0, 0, 0],\n",
      "       [0, 0, 0, 0, 0, 0],\n",
      "       [0, 0, 0, 0, 0, 0],\n",
      "       [0, 0, 0, 0, pi_c, 0],\n",
      "       [0, 0, 0, 0, 0, 0],\n",
      "       [0, 0, 0, 0, 0, 0],\n",
      "       [0, 0, 0, 0, 0, 0],\n",
      "       [0, 0, 0, 0, 0, pi_g],\n",
      "       [0, 0, 0, 0, 0, 0],\n",
      "       [0, 0, 0, 0, 0, 0],\n",
      "       [pi_a, 0, 0, 0, 0, 0],\n",
      "       [-pi_a, 0, -pi_a, -pi_g, -pi_c - pi_t, -pi_g],\n",
      "       [0, 0, 0, pi_g, 0, 0],\n",
      "       [0, 0, 0, 0, pi_t, 0],\n",
      "       [0, 0, 0, 0, 0, 0],\n",
      "       [0, 0, 0, 0, 0, 0],\n",
      "       [0, 0, pi_a, 0, 0, 0],\n",
      "       [0, 0, 0, 0, 0, 0],\n",
      "       [0, 0, 0, 0, 0, 0],\n",
      "       [0, 0, 0, 0, 0, 0],\n",
      "       [0, 0, 0, 0, pi_c, 0],\n",
      "       [0, 0, 0, 0, 0, 0],\n",
      "       [0, 0, 0, 0, 0, 0],\n",
      "       [0, 0, 0, 0, 0, 0],\n",
      "       [0, 0, 0, 0, 0, pi_g],\n",
      "       [0, 0, 0, 0, 0, 0],\n",
      "       [0, pi_a, 0, 0, 0, 0],\n",
      "       [0, 0, 0, pi_c, 0, 0],\n",
      "       [0, -pi_a, -pi_a, -pi_c, -pi_c, -pi_g - pi_t],\n",
      "       [0, 0, 0, 0, 0, pi_t],\n",
      "       [0, 0, 0, 0, 0, 0],\n",
      "       [0, 0, 0, 0, 0, 0],\n",
      "       [0, 0, 0, 0, 0, 0],\n",
      "       [0, 0, pi_a, 0, 0, 0],\n",
      "       [0, 0, 0, 0, 0, 0],\n",
      "       [0, 0, 0, 0, 0, 0],\n",
      "       [0, 0, 0, 0, 0, 0],\n",
      "       [0, 0, 0, 0, pi_c, 0],\n",
      "       [0, 0, 0, 0, 0, 0],\n",
      "       [0, 0, 0, 0, 0, 0],\n",
      "       [0, 0, 0, 0, 0, 0],\n",
      "       [0, 0, 0, 0, 0, pi_g],\n",
      "       [0, 0, pi_a, 0, 0, 0],\n",
      "       [0, 0, 0, 0, pi_c, 0],\n",
      "       [0, 0, 0, 0, 0, pi_g],\n",
      "       [0, 0, -2*pi_a, 0, -2*pi_c, -2*pi_g]], dtype=object)\n"
     ]
    }
   ],
   "source": [
    "import sys\n",
    "np.set_printoptions(threshold=sys.maxsize)\n",
    "\n",
    "print(repr(np.array([vector([vi.coefficient(s) for vi in v]) for s in [s_ac, s_ag, s_at, s_cg, s_ct, s_gt]]).transpose()))"
   ]
  },
  {
   "cell_type": "code",
   "execution_count": 75,
   "id": "2162f8eb-1a6c-46db-ac2f-e4cdacf2365c",
   "metadata": {},
   "outputs": [
    {
     "data": {
      "text/html": [
       "<html>\\(\\displaystyle 4 \\, {\\left(\\pi_{a}^{2} \\pi_{c} + \\pi_{a} \\pi_{c}^{2} + \\pi_{a} \\pi_{c} \\pi_{g} + \\pi_{a} \\pi_{c} \\pi_{t}\\right)} s_{\\mathit{ac}} + 4 \\, {\\left(\\pi_{a} \\pi_{g}^{2} + \\pi_{a} \\pi_{g} \\pi_{t} + {\\left(\\pi_{a}^{2} + \\pi_{a} \\pi_{c}\\right)} \\pi_{g}\\right)} s_{\\mathit{ag}} + 4 \\, {\\left(\\pi_{a} \\pi_{t}^{2} + {\\left(\\pi_{a}^{2} + \\pi_{a} \\pi_{c} + \\pi_{a} \\pi_{g}\\right)} \\pi_{t}\\right)} s_{\\mathit{at}} + 4 \\, {\\left(\\pi_{c} \\pi_{g}^{2} + \\pi_{c} \\pi_{g} \\pi_{t} + {\\left(\\pi_{a} \\pi_{c} + \\pi_{c}^{2}\\right)} \\pi_{g}\\right)} s_{\\mathit{cg}} + 4 \\, {\\left(\\pi_{c} \\pi_{t}^{2} + {\\left(\\pi_{a} \\pi_{c} + \\pi_{c}^{2} + \\pi_{c} \\pi_{g}\\right)} \\pi_{t}\\right)} s_{\\mathit{ct}} + 4 \\, {\\left(\\pi_{g} \\pi_{t}^{2} + {\\left({\\left(\\pi_{a} + \\pi_{c}\\right)} \\pi_{g} + \\pi_{g}^{2}\\right)} \\pi_{t}\\right)} s_{\\mathit{gt}}\\)</html>"
      ],
      "text/latex": [
       "$\\displaystyle 4 \\, {\\left(\\pi_{a}^{2} \\pi_{c} + \\pi_{a} \\pi_{c}^{2} + \\pi_{a} \\pi_{c} \\pi_{g} + \\pi_{a} \\pi_{c} \\pi_{t}\\right)} s_{\\mathit{ac}} + 4 \\, {\\left(\\pi_{a} \\pi_{g}^{2} + \\pi_{a} \\pi_{g} \\pi_{t} + {\\left(\\pi_{a}^{2} + \\pi_{a} \\pi_{c}\\right)} \\pi_{g}\\right)} s_{\\mathit{ag}} + 4 \\, {\\left(\\pi_{a} \\pi_{t}^{2} + {\\left(\\pi_{a}^{2} + \\pi_{a} \\pi_{c} + \\pi_{a} \\pi_{g}\\right)} \\pi_{t}\\right)} s_{\\mathit{at}} + 4 \\, {\\left(\\pi_{c} \\pi_{g}^{2} + \\pi_{c} \\pi_{g} \\pi_{t} + {\\left(\\pi_{a} \\pi_{c} + \\pi_{c}^{2}\\right)} \\pi_{g}\\right)} s_{\\mathit{cg}} + 4 \\, {\\left(\\pi_{c} \\pi_{t}^{2} + {\\left(\\pi_{a} \\pi_{c} + \\pi_{c}^{2} + \\pi_{c} \\pi_{g}\\right)} \\pi_{t}\\right)} s_{\\mathit{ct}} + 4 \\, {\\left(\\pi_{g} \\pi_{t}^{2} + {\\left({\\left(\\pi_{a} + \\pi_{c}\\right)} \\pi_{g} + \\pi_{g}^{2}\\right)} \\pi_{t}\\right)} s_{\\mathit{gt}}$"
      ],
      "text/plain": [
       "4*(pi_a^2*pi_c + pi_a*pi_c^2 + pi_a*pi_c*pi_g + pi_a*pi_c*pi_t)*s_ac + 4*(pi_a*pi_g^2 + pi_a*pi_g*pi_t + (pi_a^2 + pi_a*pi_c)*pi_g)*s_ag + 4*(pi_a*pi_t^2 + (pi_a^2 + pi_a*pi_c + pi_a*pi_g)*pi_t)*s_at + 4*(pi_c*pi_g^2 + pi_c*pi_g*pi_t + (pi_a*pi_c + pi_c^2)*pi_g)*s_cg + 4*(pi_c*pi_t^2 + (pi_a*pi_c + pi_c^2 + pi_c*pi_g)*pi_t)*s_ct + 4*(pi_g*pi_t^2 + ((pi_a + pi_c)*pi_g + pi_g^2)*pi_t)*s_gt"
      ]
     },
     "metadata": {},
     "output_type": "display_data"
    }
   ],
   "source": [
    "mu_gtr16 = - pis16 * vector(qgtr16.diagonal())\n",
    "pretty_print(\n",
    "    mu_gtr16.expand().simplify_full()\n",
    ")"
   ]
  },
  {
   "cell_type": "code",
   "execution_count": 76,
   "id": "fec70121-aa23-4447-a52a-fecca72e0d93",
   "metadata": {},
   "outputs": [
    {
     "data": {
      "text/html": [
       "<html>\\(\\displaystyle -\\frac{1}{4} \\, {\\left(3 \\, s_{\\mathit{ac}} + 3 \\, s_{\\mathit{ag}} + 3 \\, s_{\\mathit{at}} - s_{\\mathit{cg}} - s_{\\mathit{ct}} - s_{\\mathit{gt}}\\right)} \\tau_{1}^{2} + {\\left(s_{\\mathit{ac}} - s_{\\mathit{ag}} - s_{\\mathit{at}} - s_{\\mathit{cg}} - s_{\\mathit{ct}} + s_{\\mathit{gt}}\\right)} \\tau_{2}^{2} + \\frac{1}{4} \\, {\\left(s_{\\mathit{ac}} + s_{\\mathit{ag}} - 3 \\, s_{\\mathit{at}} + s_{\\mathit{cg}} - 3 \\, s_{\\mathit{ct}} - 3 \\, s_{\\mathit{gt}}\\right)} \\tau_{3}^{2} - \\frac{1}{2} \\, {\\left(s_{\\mathit{ac}} + s_{\\mathit{ag}} + s_{\\mathit{at}} - s_{\\mathit{cg}} - s_{\\mathit{ct}} - s_{\\mathit{gt}}\\right)} \\tau_{1} + {\\left({\\left(s_{\\mathit{ac}} - 2 \\, s_{\\mathit{ag}} - 2 \\, s_{\\mathit{at}} + s_{\\mathit{gt}}\\right)} \\tau_{1} - s_{\\mathit{ac}} + s_{\\mathit{gt}}\\right)} \\tau_{2} + \\frac{1}{2} \\, {\\left({\\left(s_{\\mathit{ac}} + s_{\\mathit{ag}} - 5 \\, s_{\\mathit{at}} - s_{\\mathit{cg}} + s_{\\mathit{ct}} + s_{\\mathit{gt}}\\right)} \\tau_{1} + 2 \\, {\\left(s_{\\mathit{ac}} - 2 \\, s_{\\mathit{at}} - 2 \\, s_{\\mathit{ct}} + s_{\\mathit{gt}}\\right)} \\tau_{2} - s_{\\mathit{ac}} - s_{\\mathit{ag}} + s_{\\mathit{at}} - s_{\\mathit{cg}} + s_{\\mathit{ct}} + s_{\\mathit{gt}}\\right)} \\tau_{3} + \\frac{1}{4} \\, s_{\\mathit{ac}} + \\frac{1}{4} \\, s_{\\mathit{ag}} + \\frac{1}{4} \\, s_{\\mathit{at}} + \\frac{1}{4} \\, s_{\\mathit{cg}} + \\frac{1}{4} \\, s_{\\mathit{ct}} + \\frac{1}{4} \\, s_{\\mathit{gt}}\\)</html>"
      ],
      "text/latex": [
       "$\\displaystyle -\\frac{1}{4} \\, {\\left(3 \\, s_{\\mathit{ac}} + 3 \\, s_{\\mathit{ag}} + 3 \\, s_{\\mathit{at}} - s_{\\mathit{cg}} - s_{\\mathit{ct}} - s_{\\mathit{gt}}\\right)} \\tau_{1}^{2} + {\\left(s_{\\mathit{ac}} - s_{\\mathit{ag}} - s_{\\mathit{at}} - s_{\\mathit{cg}} - s_{\\mathit{ct}} + s_{\\mathit{gt}}\\right)} \\tau_{2}^{2} + \\frac{1}{4} \\, {\\left(s_{\\mathit{ac}} + s_{\\mathit{ag}} - 3 \\, s_{\\mathit{at}} + s_{\\mathit{cg}} - 3 \\, s_{\\mathit{ct}} - 3 \\, s_{\\mathit{gt}}\\right)} \\tau_{3}^{2} - \\frac{1}{2} \\, {\\left(s_{\\mathit{ac}} + s_{\\mathit{ag}} + s_{\\mathit{at}} - s_{\\mathit{cg}} - s_{\\mathit{ct}} - s_{\\mathit{gt}}\\right)} \\tau_{1} + {\\left({\\left(s_{\\mathit{ac}} - 2 \\, s_{\\mathit{ag}} - 2 \\, s_{\\mathit{at}} + s_{\\mathit{gt}}\\right)} \\tau_{1} - s_{\\mathit{ac}} + s_{\\mathit{gt}}\\right)} \\tau_{2} + \\frac{1}{2} \\, {\\left({\\left(s_{\\mathit{ac}} + s_{\\mathit{ag}} - 5 \\, s_{\\mathit{at}} - s_{\\mathit{cg}} + s_{\\mathit{ct}} + s_{\\mathit{gt}}\\right)} \\tau_{1} + 2 \\, {\\left(s_{\\mathit{ac}} - 2 \\, s_{\\mathit{at}} - 2 \\, s_{\\mathit{ct}} + s_{\\mathit{gt}}\\right)} \\tau_{2} - s_{\\mathit{ac}} - s_{\\mathit{ag}} + s_{\\mathit{at}} - s_{\\mathit{cg}} + s_{\\mathit{ct}} + s_{\\mathit{gt}}\\right)} \\tau_{3} + \\frac{1}{4} \\, s_{\\mathit{ac}} + \\frac{1}{4} \\, s_{\\mathit{ag}} + \\frac{1}{4} \\, s_{\\mathit{at}} + \\frac{1}{4} \\, s_{\\mathit{cg}} + \\frac{1}{4} \\, s_{\\mathit{ct}} + \\frac{1}{4} \\, s_{\\mathit{gt}}$"
      ],
      "text/plain": [
       "-1/4*(3*s_ac + 3*s_ag + 3*s_at - s_cg - s_ct - s_gt)*tau_1^2 + (s_ac - s_ag - s_at - s_cg - s_ct + s_gt)*tau_2^2 + 1/4*(s_ac + s_ag - 3*s_at + s_cg - 3*s_ct - 3*s_gt)*tau_3^2 - 1/2*(s_ac + s_ag + s_at - s_cg - s_ct - s_gt)*tau_1 + ((s_ac - 2*s_ag - 2*s_at + s_gt)*tau_1 - s_ac + s_gt)*tau_2 + 1/2*((s_ac + s_ag - 5*s_at - s_cg + s_ct + s_gt)*tau_1 + 2*(s_ac - 2*s_at - 2*s_ct + s_gt)*tau_2 - s_ac - s_ag + s_at - s_cg + s_ct + s_gt)*tau_3 + 1/4*s_ac + 1/4*s_ag + 1/4*s_at + 1/4*s_cg + 1/4*s_ct + 1/4*s_gt"
      ]
     },
     "metadata": {},
     "output_type": "display_data"
    }
   ],
   "source": [
    "temp = (\n",
    "    mu_gtr16(pi_t=tau_3+pi_g)(pi_g=tau_2+pi_c)(pi_c=tau_1+pi_a)(pi_a=(1-3*tau_1-2*tau_2-tau_3)/4)\n",
    ").simplify_full()\n",
    "pretty_print(temp)"
   ]
  },
  {
   "cell_type": "code",
   "execution_count": 77,
   "id": "7d9786ab-7ad6-4c4e-a547-914b6b55f9b2",
   "metadata": {},
   "outputs": [
    {
     "data": {
      "text/html": [
       "<html>\\(\\displaystyle -\\frac{3}{4} \\, \\pi_{a}^{2} s_{\\mathit{ac}} + \\frac{5}{2} \\, \\pi_{a} \\pi_{c} s_{\\mathit{ac}} - \\frac{3}{4} \\, \\pi_{c}^{2} s_{\\mathit{ac}} - \\frac{1}{2} \\, \\pi_{a} \\pi_{g} s_{\\mathit{ac}} - \\frac{1}{2} \\, \\pi_{c} \\pi_{g} s_{\\mathit{ac}} + \\frac{1}{4} \\, \\pi_{g}^{2} s_{\\mathit{ac}} - \\frac{1}{2} \\, \\pi_{a} \\pi_{t} s_{\\mathit{ac}} - \\frac{1}{2} \\, \\pi_{c} \\pi_{t} s_{\\mathit{ac}} + \\frac{1}{2} \\, \\pi_{g} \\pi_{t} s_{\\mathit{ac}} + \\frac{1}{4} \\, \\pi_{t}^{2} s_{\\mathit{ac}} - \\frac{3}{4} \\, \\pi_{a}^{2} s_{\\mathit{ag}} - \\frac{1}{2} \\, \\pi_{a} \\pi_{c} s_{\\mathit{ag}} + \\frac{1}{4} \\, \\pi_{c}^{2} s_{\\mathit{ag}} + \\frac{5}{2} \\, \\pi_{a} \\pi_{g} s_{\\mathit{ag}} - \\frac{1}{2} \\, \\pi_{c} \\pi_{g} s_{\\mathit{ag}} - \\frac{3}{4} \\, \\pi_{g}^{2} s_{\\mathit{ag}} - \\frac{1}{2} \\, \\pi_{a} \\pi_{t} s_{\\mathit{ag}} + \\frac{1}{2} \\, \\pi_{c} \\pi_{t} s_{\\mathit{ag}} - \\frac{1}{2} \\, \\pi_{g} \\pi_{t} s_{\\mathit{ag}} + \\frac{1}{4} \\, \\pi_{t}^{2} s_{\\mathit{ag}} - \\frac{3}{4} \\, \\pi_{a}^{2} s_{\\mathit{at}} - \\frac{1}{2} \\, \\pi_{a} \\pi_{c} s_{\\mathit{at}} + \\frac{1}{4} \\, \\pi_{c}^{2} s_{\\mathit{at}} - \\frac{1}{2} \\, \\pi_{a} \\pi_{g} s_{\\mathit{at}} + \\frac{1}{2} \\, \\pi_{c} \\pi_{g} s_{\\mathit{at}} + \\frac{1}{4} \\, \\pi_{g}^{2} s_{\\mathit{at}} + \\frac{5}{2} \\, \\pi_{a} \\pi_{t} s_{\\mathit{at}} - \\frac{1}{2} \\, \\pi_{c} \\pi_{t} s_{\\mathit{at}} - \\frac{1}{2} \\, \\pi_{g} \\pi_{t} s_{\\mathit{at}} - \\frac{3}{4} \\, \\pi_{t}^{2} s_{\\mathit{at}} + \\frac{1}{4} \\, \\pi_{a}^{2} s_{\\mathit{cg}} - \\frac{1}{2} \\, \\pi_{a} \\pi_{c} s_{\\mathit{cg}} - \\frac{3}{4} \\, \\pi_{c}^{2} s_{\\mathit{cg}} - \\frac{1}{2} \\, \\pi_{a} \\pi_{g} s_{\\mathit{cg}} + \\frac{5}{2} \\, \\pi_{c} \\pi_{g} s_{\\mathit{cg}} - \\frac{3}{4} \\, \\pi_{g}^{2} s_{\\mathit{cg}} + \\frac{1}{2} \\, \\pi_{a} \\pi_{t} s_{\\mathit{cg}} - \\frac{1}{2} \\, \\pi_{c} \\pi_{t} s_{\\mathit{cg}} - \\frac{1}{2} \\, \\pi_{g} \\pi_{t} s_{\\mathit{cg}} + \\frac{1}{4} \\, \\pi_{t}^{2} s_{\\mathit{cg}} + \\frac{1}{4} \\, \\pi_{a}^{2} s_{\\mathit{ct}} - \\frac{1}{2} \\, \\pi_{a} \\pi_{c} s_{\\mathit{ct}} - \\frac{3}{4} \\, \\pi_{c}^{2} s_{\\mathit{ct}} + \\frac{1}{2} \\, \\pi_{a} \\pi_{g} s_{\\mathit{ct}} - \\frac{1}{2} \\, \\pi_{c} \\pi_{g} s_{\\mathit{ct}} + \\frac{1}{4} \\, \\pi_{g}^{2} s_{\\mathit{ct}} - \\frac{1}{2} \\, \\pi_{a} \\pi_{t} s_{\\mathit{ct}} + \\frac{5}{2} \\, \\pi_{c} \\pi_{t} s_{\\mathit{ct}} - \\frac{1}{2} \\, \\pi_{g} \\pi_{t} s_{\\mathit{ct}} - \\frac{3}{4} \\, \\pi_{t}^{2} s_{\\mathit{ct}} + \\frac{1}{4} \\, \\pi_{a}^{2} s_{\\mathit{gt}} + \\frac{1}{2} \\, \\pi_{a} \\pi_{c} s_{\\mathit{gt}} + \\frac{1}{4} \\, \\pi_{c}^{2} s_{\\mathit{gt}} - \\frac{1}{2} \\, \\pi_{a} \\pi_{g} s_{\\mathit{gt}} - \\frac{1}{2} \\, \\pi_{c} \\pi_{g} s_{\\mathit{gt}} - \\frac{3}{4} \\, \\pi_{g}^{2} s_{\\mathit{gt}} - \\frac{1}{2} \\, \\pi_{a} \\pi_{t} s_{\\mathit{gt}} - \\frac{1}{2} \\, \\pi_{c} \\pi_{t} s_{\\mathit{gt}} + \\frac{5}{2} \\, \\pi_{g} \\pi_{t} s_{\\mathit{gt}} - \\frac{3}{4} \\, \\pi_{t}^{2} s_{\\mathit{gt}} + \\frac{1}{2} \\, \\pi_{a} s_{\\mathit{ac}} + \\frac{1}{2} \\, \\pi_{c} s_{\\mathit{ac}} - \\frac{1}{2} \\, \\pi_{g} s_{\\mathit{ac}} - \\frac{1}{2} \\, \\pi_{t} s_{\\mathit{ac}} + \\frac{1}{2} \\, \\pi_{a} s_{\\mathit{ag}} - \\frac{1}{2} \\, \\pi_{c} s_{\\mathit{ag}} + \\frac{1}{2} \\, \\pi_{g} s_{\\mathit{ag}} - \\frac{1}{2} \\, \\pi_{t} s_{\\mathit{ag}} + \\frac{1}{2} \\, \\pi_{a} s_{\\mathit{at}} - \\frac{1}{2} \\, \\pi_{c} s_{\\mathit{at}} - \\frac{1}{2} \\, \\pi_{g} s_{\\mathit{at}} + \\frac{1}{2} \\, \\pi_{t} s_{\\mathit{at}} - \\frac{1}{2} \\, \\pi_{a} s_{\\mathit{cg}} + \\frac{1}{2} \\, \\pi_{c} s_{\\mathit{cg}} + \\frac{1}{2} \\, \\pi_{g} s_{\\mathit{cg}} - \\frac{1}{2} \\, \\pi_{t} s_{\\mathit{cg}} - \\frac{1}{2} \\, \\pi_{a} s_{\\mathit{ct}} + \\frac{1}{2} \\, \\pi_{c} s_{\\mathit{ct}} - \\frac{1}{2} \\, \\pi_{g} s_{\\mathit{ct}} + \\frac{1}{2} \\, \\pi_{t} s_{\\mathit{ct}} - \\frac{1}{2} \\, \\pi_{a} s_{\\mathit{gt}} - \\frac{1}{2} \\, \\pi_{c} s_{\\mathit{gt}} + \\frac{1}{2} \\, \\pi_{g} s_{\\mathit{gt}} + \\frac{1}{2} \\, \\pi_{t} s_{\\mathit{gt}} + \\frac{1}{4} \\, s_{\\mathit{ac}} + \\frac{1}{4} \\, s_{\\mathit{ag}} + \\frac{1}{4} \\, s_{\\mathit{at}} + \\frac{1}{4} \\, s_{\\mathit{cg}} + \\frac{1}{4} \\, s_{\\mathit{ct}} + \\frac{1}{4} \\, s_{\\mathit{gt}}\\)</html>"
      ],
      "text/latex": [
       "$\\displaystyle -\\frac{3}{4} \\, \\pi_{a}^{2} s_{\\mathit{ac}} + \\frac{5}{2} \\, \\pi_{a} \\pi_{c} s_{\\mathit{ac}} - \\frac{3}{4} \\, \\pi_{c}^{2} s_{\\mathit{ac}} - \\frac{1}{2} \\, \\pi_{a} \\pi_{g} s_{\\mathit{ac}} - \\frac{1}{2} \\, \\pi_{c} \\pi_{g} s_{\\mathit{ac}} + \\frac{1}{4} \\, \\pi_{g}^{2} s_{\\mathit{ac}} - \\frac{1}{2} \\, \\pi_{a} \\pi_{t} s_{\\mathit{ac}} - \\frac{1}{2} \\, \\pi_{c} \\pi_{t} s_{\\mathit{ac}} + \\frac{1}{2} \\, \\pi_{g} \\pi_{t} s_{\\mathit{ac}} + \\frac{1}{4} \\, \\pi_{t}^{2} s_{\\mathit{ac}} - \\frac{3}{4} \\, \\pi_{a}^{2} s_{\\mathit{ag}} - \\frac{1}{2} \\, \\pi_{a} \\pi_{c} s_{\\mathit{ag}} + \\frac{1}{4} \\, \\pi_{c}^{2} s_{\\mathit{ag}} + \\frac{5}{2} \\, \\pi_{a} \\pi_{g} s_{\\mathit{ag}} - \\frac{1}{2} \\, \\pi_{c} \\pi_{g} s_{\\mathit{ag}} - \\frac{3}{4} \\, \\pi_{g}^{2} s_{\\mathit{ag}} - \\frac{1}{2} \\, \\pi_{a} \\pi_{t} s_{\\mathit{ag}} + \\frac{1}{2} \\, \\pi_{c} \\pi_{t} s_{\\mathit{ag}} - \\frac{1}{2} \\, \\pi_{g} \\pi_{t} s_{\\mathit{ag}} + \\frac{1}{4} \\, \\pi_{t}^{2} s_{\\mathit{ag}} - \\frac{3}{4} \\, \\pi_{a}^{2} s_{\\mathit{at}} - \\frac{1}{2} \\, \\pi_{a} \\pi_{c} s_{\\mathit{at}} + \\frac{1}{4} \\, \\pi_{c}^{2} s_{\\mathit{at}} - \\frac{1}{2} \\, \\pi_{a} \\pi_{g} s_{\\mathit{at}} + \\frac{1}{2} \\, \\pi_{c} \\pi_{g} s_{\\mathit{at}} + \\frac{1}{4} \\, \\pi_{g}^{2} s_{\\mathit{at}} + \\frac{5}{2} \\, \\pi_{a} \\pi_{t} s_{\\mathit{at}} - \\frac{1}{2} \\, \\pi_{c} \\pi_{t} s_{\\mathit{at}} - \\frac{1}{2} \\, \\pi_{g} \\pi_{t} s_{\\mathit{at}} - \\frac{3}{4} \\, \\pi_{t}^{2} s_{\\mathit{at}} + \\frac{1}{4} \\, \\pi_{a}^{2} s_{\\mathit{cg}} - \\frac{1}{2} \\, \\pi_{a} \\pi_{c} s_{\\mathit{cg}} - \\frac{3}{4} \\, \\pi_{c}^{2} s_{\\mathit{cg}} - \\frac{1}{2} \\, \\pi_{a} \\pi_{g} s_{\\mathit{cg}} + \\frac{5}{2} \\, \\pi_{c} \\pi_{g} s_{\\mathit{cg}} - \\frac{3}{4} \\, \\pi_{g}^{2} s_{\\mathit{cg}} + \\frac{1}{2} \\, \\pi_{a} \\pi_{t} s_{\\mathit{cg}} - \\frac{1}{2} \\, \\pi_{c} \\pi_{t} s_{\\mathit{cg}} - \\frac{1}{2} \\, \\pi_{g} \\pi_{t} s_{\\mathit{cg}} + \\frac{1}{4} \\, \\pi_{t}^{2} s_{\\mathit{cg}} + \\frac{1}{4} \\, \\pi_{a}^{2} s_{\\mathit{ct}} - \\frac{1}{2} \\, \\pi_{a} \\pi_{c} s_{\\mathit{ct}} - \\frac{3}{4} \\, \\pi_{c}^{2} s_{\\mathit{ct}} + \\frac{1}{2} \\, \\pi_{a} \\pi_{g} s_{\\mathit{ct}} - \\frac{1}{2} \\, \\pi_{c} \\pi_{g} s_{\\mathit{ct}} + \\frac{1}{4} \\, \\pi_{g}^{2} s_{\\mathit{ct}} - \\frac{1}{2} \\, \\pi_{a} \\pi_{t} s_{\\mathit{ct}} + \\frac{5}{2} \\, \\pi_{c} \\pi_{t} s_{\\mathit{ct}} - \\frac{1}{2} \\, \\pi_{g} \\pi_{t} s_{\\mathit{ct}} - \\frac{3}{4} \\, \\pi_{t}^{2} s_{\\mathit{ct}} + \\frac{1}{4} \\, \\pi_{a}^{2} s_{\\mathit{gt}} + \\frac{1}{2} \\, \\pi_{a} \\pi_{c} s_{\\mathit{gt}} + \\frac{1}{4} \\, \\pi_{c}^{2} s_{\\mathit{gt}} - \\frac{1}{2} \\, \\pi_{a} \\pi_{g} s_{\\mathit{gt}} - \\frac{1}{2} \\, \\pi_{c} \\pi_{g} s_{\\mathit{gt}} - \\frac{3}{4} \\, \\pi_{g}^{2} s_{\\mathit{gt}} - \\frac{1}{2} \\, \\pi_{a} \\pi_{t} s_{\\mathit{gt}} - \\frac{1}{2} \\, \\pi_{c} \\pi_{t} s_{\\mathit{gt}} + \\frac{5}{2} \\, \\pi_{g} \\pi_{t} s_{\\mathit{gt}} - \\frac{3}{4} \\, \\pi_{t}^{2} s_{\\mathit{gt}} + \\frac{1}{2} \\, \\pi_{a} s_{\\mathit{ac}} + \\frac{1}{2} \\, \\pi_{c} s_{\\mathit{ac}} - \\frac{1}{2} \\, \\pi_{g} s_{\\mathit{ac}} - \\frac{1}{2} \\, \\pi_{t} s_{\\mathit{ac}} + \\frac{1}{2} \\, \\pi_{a} s_{\\mathit{ag}} - \\frac{1}{2} \\, \\pi_{c} s_{\\mathit{ag}} + \\frac{1}{2} \\, \\pi_{g} s_{\\mathit{ag}} - \\frac{1}{2} \\, \\pi_{t} s_{\\mathit{ag}} + \\frac{1}{2} \\, \\pi_{a} s_{\\mathit{at}} - \\frac{1}{2} \\, \\pi_{c} s_{\\mathit{at}} - \\frac{1}{2} \\, \\pi_{g} s_{\\mathit{at}} + \\frac{1}{2} \\, \\pi_{t} s_{\\mathit{at}} - \\frac{1}{2} \\, \\pi_{a} s_{\\mathit{cg}} + \\frac{1}{2} \\, \\pi_{c} s_{\\mathit{cg}} + \\frac{1}{2} \\, \\pi_{g} s_{\\mathit{cg}} - \\frac{1}{2} \\, \\pi_{t} s_{\\mathit{cg}} - \\frac{1}{2} \\, \\pi_{a} s_{\\mathit{ct}} + \\frac{1}{2} \\, \\pi_{c} s_{\\mathit{ct}} - \\frac{1}{2} \\, \\pi_{g} s_{\\mathit{ct}} + \\frac{1}{2} \\, \\pi_{t} s_{\\mathit{ct}} - \\frac{1}{2} \\, \\pi_{a} s_{\\mathit{gt}} - \\frac{1}{2} \\, \\pi_{c} s_{\\mathit{gt}} + \\frac{1}{2} \\, \\pi_{g} s_{\\mathit{gt}} + \\frac{1}{2} \\, \\pi_{t} s_{\\mathit{gt}} + \\frac{1}{4} \\, s_{\\mathit{ac}} + \\frac{1}{4} \\, s_{\\mathit{ag}} + \\frac{1}{4} \\, s_{\\mathit{at}} + \\frac{1}{4} \\, s_{\\mathit{cg}} + \\frac{1}{4} \\, s_{\\mathit{ct}} + \\frac{1}{4} \\, s_{\\mathit{gt}}$"
      ],
      "text/plain": [
       "-3/4*pi_a^2*s_ac + 5/2*pi_a*pi_c*s_ac - 3/4*pi_c^2*s_ac - 1/2*pi_a*pi_g*s_ac - 1/2*pi_c*pi_g*s_ac + 1/4*pi_g^2*s_ac - 1/2*pi_a*pi_t*s_ac - 1/2*pi_c*pi_t*s_ac + 1/2*pi_g*pi_t*s_ac + 1/4*pi_t^2*s_ac - 3/4*pi_a^2*s_ag - 1/2*pi_a*pi_c*s_ag + 1/4*pi_c^2*s_ag + 5/2*pi_a*pi_g*s_ag - 1/2*pi_c*pi_g*s_ag - 3/4*pi_g^2*s_ag - 1/2*pi_a*pi_t*s_ag + 1/2*pi_c*pi_t*s_ag - 1/2*pi_g*pi_t*s_ag + 1/4*pi_t^2*s_ag - 3/4*pi_a^2*s_at - 1/2*pi_a*pi_c*s_at + 1/4*pi_c^2*s_at - 1/2*pi_a*pi_g*s_at + 1/2*pi_c*pi_g*s_at + 1/4*pi_g^2*s_at + 5/2*pi_a*pi_t*s_at - 1/2*pi_c*pi_t*s_at - 1/2*pi_g*pi_t*s_at - 3/4*pi_t^2*s_at + 1/4*pi_a^2*s_cg - 1/2*pi_a*pi_c*s_cg - 3/4*pi_c^2*s_cg - 1/2*pi_a*pi_g*s_cg + 5/2*pi_c*pi_g*s_cg - 3/4*pi_g^2*s_cg + 1/2*pi_a*pi_t*s_cg - 1/2*pi_c*pi_t*s_cg - 1/2*pi_g*pi_t*s_cg + 1/4*pi_t^2*s_cg + 1/4*pi_a^2*s_ct - 1/2*pi_a*pi_c*s_ct - 3/4*pi_c^2*s_ct + 1/2*pi_a*pi_g*s_ct - 1/2*pi_c*pi_g*s_ct + 1/4*pi_g^2*s_ct - 1/2*pi_a*pi_t*s_ct + 5/2*pi_c*pi_t*s_ct - 1/2*pi_g*pi_t*s_ct - 3/4*pi_t^2*s_ct + 1/4*pi_a^2*s_gt + 1/2*pi_a*pi_c*s_gt + 1/4*pi_c^2*s_gt - 1/2*pi_a*pi_g*s_gt - 1/2*pi_c*pi_g*s_gt - 3/4*pi_g^2*s_gt - 1/2*pi_a*pi_t*s_gt - 1/2*pi_c*pi_t*s_gt + 5/2*pi_g*pi_t*s_gt - 3/4*pi_t^2*s_gt + 1/2*pi_a*s_ac + 1/2*pi_c*s_ac - 1/2*pi_g*s_ac - 1/2*pi_t*s_ac + 1/2*pi_a*s_ag - 1/2*pi_c*s_ag + 1/2*pi_g*s_ag - 1/2*pi_t*s_ag + 1/2*pi_a*s_at - 1/2*pi_c*s_at - 1/2*pi_g*s_at + 1/2*pi_t*s_at - 1/2*pi_a*s_cg + 1/2*pi_c*s_cg + 1/2*pi_g*s_cg - 1/2*pi_t*s_cg - 1/2*pi_a*s_ct + 1/2*pi_c*s_ct - 1/2*pi_g*s_ct + 1/2*pi_t*s_ct - 1/2*pi_a*s_gt - 1/2*pi_c*s_gt + 1/2*pi_g*s_gt + 1/2*pi_t*s_gt + 1/4*s_ac + 1/4*s_ag + 1/4*s_at + 1/4*s_cg + 1/4*s_ct + 1/4*s_gt"
      ]
     },
     "metadata": {},
     "output_type": "display_data"
    }
   ],
   "source": [
    "mu_gtr16 = (\n",
    "    temp(tau_1=pi_c-pi_a, tau_2 = pi_g-pi_c, tau_3=pi_t-pi_g).expand()\n",
    ").simplify_full().expand()\n",
    "pretty_print( mu_gtr16 )"
   ]
  },
  {
   "cell_type": "code",
   "execution_count": 78,
   "id": "48af22e2-b63e-4b57-882d-c8d1e2b42d8a",
   "metadata": {},
   "outputs": [],
   "source": [
    "mu_gtr16 = (\n",
    "    (\n",
    "        mu_gtr16 \n",
    "        + s_ac * (\n",
    "            0\n",
    "            - 1/4 * (pi_a+pi_c+pi_g+pi_t-1)^2\n",
    "            + pi_a * (pi_a+pi_c+pi_g+pi_t-1)\n",
    "            + pi_c * (pi_a+pi_c+pi_g+pi_t-1)\n",
    "        )\n",
    "        + s_ag * (\n",
    "            0\n",
    "            - 1/4 * (pi_a+pi_c+pi_g+pi_t-1)^2\n",
    "            + pi_a * (pi_a+pi_c+pi_g+pi_t-1)\n",
    "            + pi_g * (pi_a+pi_c+pi_g+pi_t-1)\n",
    "        )\n",
    "        + s_at * (\n",
    "            0\n",
    "            - 1/4 * (pi_a+pi_c+pi_g+pi_t-1)^2\n",
    "            + pi_a * (pi_a+pi_c+pi_g+pi_t-1)\n",
    "            + pi_t * (pi_a+pi_c+pi_g+pi_t-1)\n",
    "        )\n",
    "        + s_cg * (\n",
    "            0\n",
    "            - 1/4 * (pi_a+pi_c+pi_g+pi_t-1)^2\n",
    "            + pi_c * (pi_a+pi_c+pi_g+pi_t-1)\n",
    "            + pi_g * (pi_a+pi_c+pi_g+pi_t-1)\n",
    "        )\n",
    "        + s_ct * (\n",
    "            0\n",
    "            - 1/4 * (pi_a+pi_c+pi_g+pi_t-1)^2\n",
    "            + pi_c * (pi_a+pi_c+pi_g+pi_t-1)\n",
    "            + pi_t * (pi_a+pi_c+pi_g+pi_t-1)\n",
    "        )\n",
    "        + s_gt * (\n",
    "            0\n",
    "            - 1/4 * (pi_a+pi_c+pi_g+pi_t-1)^2\n",
    "            + pi_g * (pi_a+pi_c+pi_g+pi_t-1)\n",
    "            + pi_t * (pi_a+pi_c+pi_g+pi_t-1)\n",
    "        )\n",
    "    ).expand()\n",
    ")"
   ]
  },
  {
   "cell_type": "code",
   "execution_count": 79,
   "id": "b83ef7a8-7076-455c-9b4f-c4fb03129d00",
   "metadata": {},
   "outputs": [
    {
     "data": {
      "text/html": [
       "<html>\\(\\displaystyle 4 \\, \\pi_{a} \\pi_{c} s_{\\mathit{ac}} + 4 \\, \\pi_{a} \\pi_{g} s_{\\mathit{ag}} + 4 \\, \\pi_{a} \\pi_{t} s_{\\mathit{at}} + 4 \\, \\pi_{c} \\pi_{g} s_{\\mathit{cg}} + 4 \\, \\pi_{c} \\pi_{t} s_{\\mathit{ct}} + 4 \\, \\pi_{g} \\pi_{t} s_{\\mathit{gt}}\\)</html>"
      ],
      "text/latex": [
       "$\\displaystyle 4 \\, \\pi_{a} \\pi_{c} s_{\\mathit{ac}} + 4 \\, \\pi_{a} \\pi_{g} s_{\\mathit{ag}} + 4 \\, \\pi_{a} \\pi_{t} s_{\\mathit{at}} + 4 \\, \\pi_{c} \\pi_{g} s_{\\mathit{cg}} + 4 \\, \\pi_{c} \\pi_{t} s_{\\mathit{ct}} + 4 \\, \\pi_{g} \\pi_{t} s_{\\mathit{gt}}$"
      ],
      "text/plain": [
       "4*pi_a*pi_c*s_ac + 4*pi_a*pi_g*s_ag + 4*pi_a*pi_t*s_at + 4*pi_c*pi_g*s_cg + 4*pi_c*pi_t*s_ct + 4*pi_g*pi_t*s_gt"
      ]
     },
     "metadata": {},
     "output_type": "display_data"
    }
   ],
   "source": [
    "pretty_print(mu_gtr16)"
   ]
  },
  {
   "cell_type": "markdown",
   "id": "1443f0d6-a69f-45c1-9aad-4a807370e1cc",
   "metadata": {},
   "source": [
    "## distinct maternal/paternal rates"
   ]
  },
  {
   "cell_type": "code",
   "execution_count": 80,
   "id": "796819e9-6927-40bd-9cc6-64c74ec9bc5d",
   "metadata": {},
   "outputs": [],
   "source": [
    "s_mac, s_mag, s_mat, s_mcg, s_mct, s_mgt = var('s_mac, s_mag, s_mat, s_mcg, s_mct, s_mgt')\n",
    "s_pac, s_pag, s_pat, s_pcg, s_pct, s_pgt = var('s_pac, s_pag, s_pat, s_pcg, s_pct, s_pgt')\n",
    "\n",
    "qgtr_mat = matrix([(A_GTR * vector([s_mac, s_mag, s_mat, s_mcg, s_mct, s_mgt]))[idx:idx+4] for idx in range(0,16,4)])\n",
    "qgtr_pat = matrix([(A_GTR * vector([s_pac, s_pag, s_pat, s_pcg, s_pct, s_pgt]))[idx:idx+4] for idx in range(0,16,4)])"
   ]
  },
  {
   "cell_type": "code",
   "execution_count": 81,
   "id": "0a09e857-4396-4da1-9cd3-27723220162b",
   "metadata": {},
   "outputs": [],
   "source": [
    "qgtr16v = qgtr_mat.tensor_product(identity_matrix(4)) + identity_matrix(4).tensor_product(qgtr_pat)"
   ]
  },
  {
   "cell_type": "code",
   "execution_count": 82,
   "id": "bf8b6225-6bed-4494-8579-269efd84c7aa",
   "metadata": {},
   "outputs": [
    {
     "data": {
      "text/plain": [
       "(-pi_c*s_mac - pi_g*s_mag - pi_t*s_mat - pi_c*s_pac - pi_g*s_pag - pi_t*s_pat, pi_c*s_pac, pi_g*s_pag, pi_t*s_pat, pi_c*s_mac, 0, 0, 0, pi_g*s_mag, 0, 0, 0, pi_t*s_mat, 0, 0, 0, pi_a*s_pac, -pi_c*s_mac - pi_g*s_mag - pi_t*s_mat - pi_a*s_pac - pi_g*s_pcg - pi_t*s_pct, pi_g*s_pcg, pi_t*s_pct, 0, pi_c*s_mac, 0, 0, 0, pi_g*s_mag, 0, 0, 0, pi_t*s_mat, 0, 0, pi_a*s_pag, pi_c*s_pcg, -pi_c*s_mac - pi_g*s_mag - pi_t*s_mat - pi_a*s_pag - pi_c*s_pcg - pi_t*s_pgt, pi_t*s_pgt, 0, 0, pi_c*s_mac, 0, 0, 0, pi_g*s_mag, 0, 0, 0, pi_t*s_mat, 0, pi_a*s_pat, pi_c*s_pct, pi_g*s_pgt, -pi_c*s_mac - pi_g*s_mag - pi_t*s_mat - pi_a*s_pat - pi_c*s_pct - pi_g*s_pgt, 0, 0, 0, pi_c*s_mac, 0, 0, 0, pi_g*s_mag, 0, 0, 0, pi_t*s_mat, pi_a*s_mac, 0, 0, 0, -pi_a*s_mac - pi_g*s_mcg - pi_t*s_mct - pi_c*s_pac - pi_g*s_pag - pi_t*s_pat, pi_c*s_pac, pi_g*s_pag, pi_t*s_pat, pi_g*s_mcg, 0, 0, 0, pi_t*s_mct, 0, 0, 0, 0, pi_a*s_mac, 0, 0, pi_a*s_pac, -pi_a*s_mac - pi_g*s_mcg - pi_t*s_mct - pi_a*s_pac - pi_g*s_pcg - pi_t*s_pct, pi_g*s_pcg, pi_t*s_pct, 0, pi_g*s_mcg, 0, 0, 0, pi_t*s_mct, 0, 0, 0, 0, pi_a*s_mac, 0, pi_a*s_pag, pi_c*s_pcg, -pi_a*s_mac - pi_g*s_mcg - pi_t*s_mct - pi_a*s_pag - pi_c*s_pcg - pi_t*s_pgt, pi_t*s_pgt, 0, 0, pi_g*s_mcg, 0, 0, 0, pi_t*s_mct, 0, 0, 0, 0, pi_a*s_mac, pi_a*s_pat, pi_c*s_pct, pi_g*s_pgt, -pi_a*s_mac - pi_g*s_mcg - pi_t*s_mct - pi_a*s_pat - pi_c*s_pct - pi_g*s_pgt, 0, 0, 0, pi_g*s_mcg, 0, 0, 0, pi_t*s_mct, pi_a*s_mag, 0, 0, 0, pi_c*s_mcg, 0, 0, 0, -pi_a*s_mag - pi_c*s_mcg - pi_t*s_mgt - pi_c*s_pac - pi_g*s_pag - pi_t*s_pat, pi_c*s_pac, pi_g*s_pag, pi_t*s_pat, pi_t*s_mgt, 0, 0, 0, 0, pi_a*s_mag, 0, 0, 0, pi_c*s_mcg, 0, 0, pi_a*s_pac, -pi_a*s_mag - pi_c*s_mcg - pi_t*s_mgt - pi_a*s_pac - pi_g*s_pcg - pi_t*s_pct, pi_g*s_pcg, pi_t*s_pct, 0, pi_t*s_mgt, 0, 0, 0, 0, pi_a*s_mag, 0, 0, 0, pi_c*s_mcg, 0, pi_a*s_pag, pi_c*s_pcg, -pi_a*s_mag - pi_c*s_mcg - pi_t*s_mgt - pi_a*s_pag - pi_c*s_pcg - pi_t*s_pgt, pi_t*s_pgt, 0, 0, pi_t*s_mgt, 0, 0, 0, 0, pi_a*s_mag, 0, 0, 0, pi_c*s_mcg, pi_a*s_pat, pi_c*s_pct, pi_g*s_pgt, -pi_a*s_mag - pi_c*s_mcg - pi_t*s_mgt - pi_a*s_pat - pi_c*s_pct - pi_g*s_pgt, 0, 0, 0, pi_t*s_mgt, pi_a*s_mat, 0, 0, 0, pi_c*s_mct, 0, 0, 0, pi_g*s_mgt, 0, 0, 0, -pi_a*s_mat - pi_c*s_mct - pi_g*s_mgt - pi_c*s_pac - pi_g*s_pag - pi_t*s_pat, pi_c*s_pac, pi_g*s_pag, pi_t*s_pat, 0, pi_a*s_mat, 0, 0, 0, pi_c*s_mct, 0, 0, 0, pi_g*s_mgt, 0, 0, pi_a*s_pac, -pi_a*s_mat - pi_c*s_mct - pi_g*s_mgt - pi_a*s_pac - pi_g*s_pcg - pi_t*s_pct, pi_g*s_pcg, pi_t*s_pct, 0, 0, pi_a*s_mat, 0, 0, 0, pi_c*s_mct, 0, 0, 0, pi_g*s_mgt, 0, pi_a*s_pag, pi_c*s_pcg, -pi_a*s_mat - pi_c*s_mct - pi_g*s_mgt - pi_a*s_pag - pi_c*s_pcg - pi_t*s_pgt, pi_t*s_pgt, 0, 0, 0, pi_a*s_mat, 0, 0, 0, pi_c*s_mct, 0, 0, 0, pi_g*s_mgt, pi_a*s_pat, pi_c*s_pct, pi_g*s_pgt, -pi_a*s_mat - pi_c*s_mct - pi_g*s_mgt - pi_a*s_pat - pi_c*s_pct - pi_g*s_pgt)"
      ]
     },
     "execution_count": 82,
     "metadata": {},
     "output_type": "execute_result"
    }
   ],
   "source": [
    "import itertools\n",
    "v = vector(list(itertools.chain.from_iterable(map(list, list(qgtr16v)))))\n",
    "v"
   ]
  },
  {
   "cell_type": "code",
   "execution_count": 83,
   "id": "2cf9c4b5-19d7-44e8-bdd0-0ddac5c9b8b3",
   "metadata": {},
   "outputs": [
    {
     "name": "stdout",
     "output_type": "stream",
     "text": [
      "array([[-pi_c, -pi_g, -pi_t, 0, 0, 0, -pi_c, -pi_g, -pi_t, 0, 0, 0],\n",
      "       [0, 0, 0, 0, 0, 0, pi_c, 0, 0, 0, 0, 0],\n",
      "       [0, 0, 0, 0, 0, 0, 0, pi_g, 0, 0, 0, 0],\n",
      "       [0, 0, 0, 0, 0, 0, 0, 0, pi_t, 0, 0, 0],\n",
      "       [pi_c, 0, 0, 0, 0, 0, 0, 0, 0, 0, 0, 0],\n",
      "       [0, 0, 0, 0, 0, 0, 0, 0, 0, 0, 0, 0],\n",
      "       [0, 0, 0, 0, 0, 0, 0, 0, 0, 0, 0, 0],\n",
      "       [0, 0, 0, 0, 0, 0, 0, 0, 0, 0, 0, 0],\n",
      "       [0, pi_g, 0, 0, 0, 0, 0, 0, 0, 0, 0, 0],\n",
      "       [0, 0, 0, 0, 0, 0, 0, 0, 0, 0, 0, 0],\n",
      "       [0, 0, 0, 0, 0, 0, 0, 0, 0, 0, 0, 0],\n",
      "       [0, 0, 0, 0, 0, 0, 0, 0, 0, 0, 0, 0],\n",
      "       [0, 0, pi_t, 0, 0, 0, 0, 0, 0, 0, 0, 0],\n",
      "       [0, 0, 0, 0, 0, 0, 0, 0, 0, 0, 0, 0],\n",
      "       [0, 0, 0, 0, 0, 0, 0, 0, 0, 0, 0, 0],\n",
      "       [0, 0, 0, 0, 0, 0, 0, 0, 0, 0, 0, 0],\n",
      "       [0, 0, 0, 0, 0, 0, pi_a, 0, 0, 0, 0, 0],\n",
      "       [-pi_c, -pi_g, -pi_t, 0, 0, 0, -pi_a, 0, 0, -pi_g, -pi_t, 0],\n",
      "       [0, 0, 0, 0, 0, 0, 0, 0, 0, pi_g, 0, 0],\n",
      "       [0, 0, 0, 0, 0, 0, 0, 0, 0, 0, pi_t, 0],\n",
      "       [0, 0, 0, 0, 0, 0, 0, 0, 0, 0, 0, 0],\n",
      "       [pi_c, 0, 0, 0, 0, 0, 0, 0, 0, 0, 0, 0],\n",
      "       [0, 0, 0, 0, 0, 0, 0, 0, 0, 0, 0, 0],\n",
      "       [0, 0, 0, 0, 0, 0, 0, 0, 0, 0, 0, 0],\n",
      "       [0, 0, 0, 0, 0, 0, 0, 0, 0, 0, 0, 0],\n",
      "       [0, pi_g, 0, 0, 0, 0, 0, 0, 0, 0, 0, 0],\n",
      "       [0, 0, 0, 0, 0, 0, 0, 0, 0, 0, 0, 0],\n",
      "       [0, 0, 0, 0, 0, 0, 0, 0, 0, 0, 0, 0],\n",
      "       [0, 0, 0, 0, 0, 0, 0, 0, 0, 0, 0, 0],\n",
      "       [0, 0, pi_t, 0, 0, 0, 0, 0, 0, 0, 0, 0],\n",
      "       [0, 0, 0, 0, 0, 0, 0, 0, 0, 0, 0, 0],\n",
      "       [0, 0, 0, 0, 0, 0, 0, 0, 0, 0, 0, 0],\n",
      "       [0, 0, 0, 0, 0, 0, 0, pi_a, 0, 0, 0, 0],\n",
      "       [0, 0, 0, 0, 0, 0, 0, 0, 0, pi_c, 0, 0],\n",
      "       [-pi_c, -pi_g, -pi_t, 0, 0, 0, 0, -pi_a, 0, -pi_c, 0, -pi_t],\n",
      "       [0, 0, 0, 0, 0, 0, 0, 0, 0, 0, 0, pi_t],\n",
      "       [0, 0, 0, 0, 0, 0, 0, 0, 0, 0, 0, 0],\n",
      "       [0, 0, 0, 0, 0, 0, 0, 0, 0, 0, 0, 0],\n",
      "       [pi_c, 0, 0, 0, 0, 0, 0, 0, 0, 0, 0, 0],\n",
      "       [0, 0, 0, 0, 0, 0, 0, 0, 0, 0, 0, 0],\n",
      "       [0, 0, 0, 0, 0, 0, 0, 0, 0, 0, 0, 0],\n",
      "       [0, 0, 0, 0, 0, 0, 0, 0, 0, 0, 0, 0],\n",
      "       [0, pi_g, 0, 0, 0, 0, 0, 0, 0, 0, 0, 0],\n",
      "       [0, 0, 0, 0, 0, 0, 0, 0, 0, 0, 0, 0],\n",
      "       [0, 0, 0, 0, 0, 0, 0, 0, 0, 0, 0, 0],\n",
      "       [0, 0, 0, 0, 0, 0, 0, 0, 0, 0, 0, 0],\n",
      "       [0, 0, pi_t, 0, 0, 0, 0, 0, 0, 0, 0, 0],\n",
      "       [0, 0, 0, 0, 0, 0, 0, 0, 0, 0, 0, 0],\n",
      "       [0, 0, 0, 0, 0, 0, 0, 0, pi_a, 0, 0, 0],\n",
      "       [0, 0, 0, 0, 0, 0, 0, 0, 0, 0, pi_c, 0],\n",
      "       [0, 0, 0, 0, 0, 0, 0, 0, 0, 0, 0, pi_g],\n",
      "       [-pi_c, -pi_g, -pi_t, 0, 0, 0, 0, 0, -pi_a, 0, -pi_c, -pi_g],\n",
      "       [0, 0, 0, 0, 0, 0, 0, 0, 0, 0, 0, 0],\n",
      "       [0, 0, 0, 0, 0, 0, 0, 0, 0, 0, 0, 0],\n",
      "       [0, 0, 0, 0, 0, 0, 0, 0, 0, 0, 0, 0],\n",
      "       [pi_c, 0, 0, 0, 0, 0, 0, 0, 0, 0, 0, 0],\n",
      "       [0, 0, 0, 0, 0, 0, 0, 0, 0, 0, 0, 0],\n",
      "       [0, 0, 0, 0, 0, 0, 0, 0, 0, 0, 0, 0],\n",
      "       [0, 0, 0, 0, 0, 0, 0, 0, 0, 0, 0, 0],\n",
      "       [0, pi_g, 0, 0, 0, 0, 0, 0, 0, 0, 0, 0],\n",
      "       [0, 0, 0, 0, 0, 0, 0, 0, 0, 0, 0, 0],\n",
      "       [0, 0, 0, 0, 0, 0, 0, 0, 0, 0, 0, 0],\n",
      "       [0, 0, 0, 0, 0, 0, 0, 0, 0, 0, 0, 0],\n",
      "       [0, 0, pi_t, 0, 0, 0, 0, 0, 0, 0, 0, 0],\n",
      "       [pi_a, 0, 0, 0, 0, 0, 0, 0, 0, 0, 0, 0],\n",
      "       [0, 0, 0, 0, 0, 0, 0, 0, 0, 0, 0, 0],\n",
      "       [0, 0, 0, 0, 0, 0, 0, 0, 0, 0, 0, 0],\n",
      "       [0, 0, 0, 0, 0, 0, 0, 0, 0, 0, 0, 0],\n",
      "       [-pi_a, 0, 0, -pi_g, -pi_t, 0, -pi_c, -pi_g, -pi_t, 0, 0, 0],\n",
      "       [0, 0, 0, 0, 0, 0, pi_c, 0, 0, 0, 0, 0],\n",
      "       [0, 0, 0, 0, 0, 0, 0, pi_g, 0, 0, 0, 0],\n",
      "       [0, 0, 0, 0, 0, 0, 0, 0, pi_t, 0, 0, 0],\n",
      "       [0, 0, 0, pi_g, 0, 0, 0, 0, 0, 0, 0, 0],\n",
      "       [0, 0, 0, 0, 0, 0, 0, 0, 0, 0, 0, 0],\n",
      "       [0, 0, 0, 0, 0, 0, 0, 0, 0, 0, 0, 0],\n",
      "       [0, 0, 0, 0, 0, 0, 0, 0, 0, 0, 0, 0],\n",
      "       [0, 0, 0, 0, pi_t, 0, 0, 0, 0, 0, 0, 0],\n",
      "       [0, 0, 0, 0, 0, 0, 0, 0, 0, 0, 0, 0],\n",
      "       [0, 0, 0, 0, 0, 0, 0, 0, 0, 0, 0, 0],\n",
      "       [0, 0, 0, 0, 0, 0, 0, 0, 0, 0, 0, 0],\n",
      "       [0, 0, 0, 0, 0, 0, 0, 0, 0, 0, 0, 0],\n",
      "       [pi_a, 0, 0, 0, 0, 0, 0, 0, 0, 0, 0, 0],\n",
      "       [0, 0, 0, 0, 0, 0, 0, 0, 0, 0, 0, 0],\n",
      "       [0, 0, 0, 0, 0, 0, 0, 0, 0, 0, 0, 0],\n",
      "       [0, 0, 0, 0, 0, 0, pi_a, 0, 0, 0, 0, 0],\n",
      "       [-pi_a, 0, 0, -pi_g, -pi_t, 0, -pi_a, 0, 0, -pi_g, -pi_t, 0],\n",
      "       [0, 0, 0, 0, 0, 0, 0, 0, 0, pi_g, 0, 0],\n",
      "       [0, 0, 0, 0, 0, 0, 0, 0, 0, 0, pi_t, 0],\n",
      "       [0, 0, 0, 0, 0, 0, 0, 0, 0, 0, 0, 0],\n",
      "       [0, 0, 0, pi_g, 0, 0, 0, 0, 0, 0, 0, 0],\n",
      "       [0, 0, 0, 0, 0, 0, 0, 0, 0, 0, 0, 0],\n",
      "       [0, 0, 0, 0, 0, 0, 0, 0, 0, 0, 0, 0],\n",
      "       [0, 0, 0, 0, 0, 0, 0, 0, 0, 0, 0, 0],\n",
      "       [0, 0, 0, 0, pi_t, 0, 0, 0, 0, 0, 0, 0],\n",
      "       [0, 0, 0, 0, 0, 0, 0, 0, 0, 0, 0, 0],\n",
      "       [0, 0, 0, 0, 0, 0, 0, 0, 0, 0, 0, 0],\n",
      "       [0, 0, 0, 0, 0, 0, 0, 0, 0, 0, 0, 0],\n",
      "       [0, 0, 0, 0, 0, 0, 0, 0, 0, 0, 0, 0],\n",
      "       [pi_a, 0, 0, 0, 0, 0, 0, 0, 0, 0, 0, 0],\n",
      "       [0, 0, 0, 0, 0, 0, 0, 0, 0, 0, 0, 0],\n",
      "       [0, 0, 0, 0, 0, 0, 0, pi_a, 0, 0, 0, 0],\n",
      "       [0, 0, 0, 0, 0, 0, 0, 0, 0, pi_c, 0, 0],\n",
      "       [-pi_a, 0, 0, -pi_g, -pi_t, 0, 0, -pi_a, 0, -pi_c, 0, -pi_t],\n",
      "       [0, 0, 0, 0, 0, 0, 0, 0, 0, 0, 0, pi_t],\n",
      "       [0, 0, 0, 0, 0, 0, 0, 0, 0, 0, 0, 0],\n",
      "       [0, 0, 0, 0, 0, 0, 0, 0, 0, 0, 0, 0],\n",
      "       [0, 0, 0, pi_g, 0, 0, 0, 0, 0, 0, 0, 0],\n",
      "       [0, 0, 0, 0, 0, 0, 0, 0, 0, 0, 0, 0],\n",
      "       [0, 0, 0, 0, 0, 0, 0, 0, 0, 0, 0, 0],\n",
      "       [0, 0, 0, 0, 0, 0, 0, 0, 0, 0, 0, 0],\n",
      "       [0, 0, 0, 0, pi_t, 0, 0, 0, 0, 0, 0, 0],\n",
      "       [0, 0, 0, 0, 0, 0, 0, 0, 0, 0, 0, 0],\n",
      "       [0, 0, 0, 0, 0, 0, 0, 0, 0, 0, 0, 0],\n",
      "       [0, 0, 0, 0, 0, 0, 0, 0, 0, 0, 0, 0],\n",
      "       [0, 0, 0, 0, 0, 0, 0, 0, 0, 0, 0, 0],\n",
      "       [pi_a, 0, 0, 0, 0, 0, 0, 0, 0, 0, 0, 0],\n",
      "       [0, 0, 0, 0, 0, 0, 0, 0, pi_a, 0, 0, 0],\n",
      "       [0, 0, 0, 0, 0, 0, 0, 0, 0, 0, pi_c, 0],\n",
      "       [0, 0, 0, 0, 0, 0, 0, 0, 0, 0, 0, pi_g],\n",
      "       [-pi_a, 0, 0, -pi_g, -pi_t, 0, 0, 0, -pi_a, 0, -pi_c, -pi_g],\n",
      "       [0, 0, 0, 0, 0, 0, 0, 0, 0, 0, 0, 0],\n",
      "       [0, 0, 0, 0, 0, 0, 0, 0, 0, 0, 0, 0],\n",
      "       [0, 0, 0, 0, 0, 0, 0, 0, 0, 0, 0, 0],\n",
      "       [0, 0, 0, pi_g, 0, 0, 0, 0, 0, 0, 0, 0],\n",
      "       [0, 0, 0, 0, 0, 0, 0, 0, 0, 0, 0, 0],\n",
      "       [0, 0, 0, 0, 0, 0, 0, 0, 0, 0, 0, 0],\n",
      "       [0, 0, 0, 0, 0, 0, 0, 0, 0, 0, 0, 0],\n",
      "       [0, 0, 0, 0, pi_t, 0, 0, 0, 0, 0, 0, 0],\n",
      "       [0, pi_a, 0, 0, 0, 0, 0, 0, 0, 0, 0, 0],\n",
      "       [0, 0, 0, 0, 0, 0, 0, 0, 0, 0, 0, 0],\n",
      "       [0, 0, 0, 0, 0, 0, 0, 0, 0, 0, 0, 0],\n",
      "       [0, 0, 0, 0, 0, 0, 0, 0, 0, 0, 0, 0],\n",
      "       [0, 0, 0, pi_c, 0, 0, 0, 0, 0, 0, 0, 0],\n",
      "       [0, 0, 0, 0, 0, 0, 0, 0, 0, 0, 0, 0],\n",
      "       [0, 0, 0, 0, 0, 0, 0, 0, 0, 0, 0, 0],\n",
      "       [0, 0, 0, 0, 0, 0, 0, 0, 0, 0, 0, 0],\n",
      "       [0, -pi_a, 0, -pi_c, 0, -pi_t, -pi_c, -pi_g, -pi_t, 0, 0, 0],\n",
      "       [0, 0, 0, 0, 0, 0, pi_c, 0, 0, 0, 0, 0],\n",
      "       [0, 0, 0, 0, 0, 0, 0, pi_g, 0, 0, 0, 0],\n",
      "       [0, 0, 0, 0, 0, 0, 0, 0, pi_t, 0, 0, 0],\n",
      "       [0, 0, 0, 0, 0, pi_t, 0, 0, 0, 0, 0, 0],\n",
      "       [0, 0, 0, 0, 0, 0, 0, 0, 0, 0, 0, 0],\n",
      "       [0, 0, 0, 0, 0, 0, 0, 0, 0, 0, 0, 0],\n",
      "       [0, 0, 0, 0, 0, 0, 0, 0, 0, 0, 0, 0],\n",
      "       [0, 0, 0, 0, 0, 0, 0, 0, 0, 0, 0, 0],\n",
      "       [0, pi_a, 0, 0, 0, 0, 0, 0, 0, 0, 0, 0],\n",
      "       [0, 0, 0, 0, 0, 0, 0, 0, 0, 0, 0, 0],\n",
      "       [0, 0, 0, 0, 0, 0, 0, 0, 0, 0, 0, 0],\n",
      "       [0, 0, 0, 0, 0, 0, 0, 0, 0, 0, 0, 0],\n",
      "       [0, 0, 0, pi_c, 0, 0, 0, 0, 0, 0, 0, 0],\n",
      "       [0, 0, 0, 0, 0, 0, 0, 0, 0, 0, 0, 0],\n",
      "       [0, 0, 0, 0, 0, 0, 0, 0, 0, 0, 0, 0],\n",
      "       [0, 0, 0, 0, 0, 0, pi_a, 0, 0, 0, 0, 0],\n",
      "       [0, -pi_a, 0, -pi_c, 0, -pi_t, -pi_a, 0, 0, -pi_g, -pi_t, 0],\n",
      "       [0, 0, 0, 0, 0, 0, 0, 0, 0, pi_g, 0, 0],\n",
      "       [0, 0, 0, 0, 0, 0, 0, 0, 0, 0, pi_t, 0],\n",
      "       [0, 0, 0, 0, 0, 0, 0, 0, 0, 0, 0, 0],\n",
      "       [0, 0, 0, 0, 0, pi_t, 0, 0, 0, 0, 0, 0],\n",
      "       [0, 0, 0, 0, 0, 0, 0, 0, 0, 0, 0, 0],\n",
      "       [0, 0, 0, 0, 0, 0, 0, 0, 0, 0, 0, 0],\n",
      "       [0, 0, 0, 0, 0, 0, 0, 0, 0, 0, 0, 0],\n",
      "       [0, 0, 0, 0, 0, 0, 0, 0, 0, 0, 0, 0],\n",
      "       [0, pi_a, 0, 0, 0, 0, 0, 0, 0, 0, 0, 0],\n",
      "       [0, 0, 0, 0, 0, 0, 0, 0, 0, 0, 0, 0],\n",
      "       [0, 0, 0, 0, 0, 0, 0, 0, 0, 0, 0, 0],\n",
      "       [0, 0, 0, 0, 0, 0, 0, 0, 0, 0, 0, 0],\n",
      "       [0, 0, 0, pi_c, 0, 0, 0, 0, 0, 0, 0, 0],\n",
      "       [0, 0, 0, 0, 0, 0, 0, 0, 0, 0, 0, 0],\n",
      "       [0, 0, 0, 0, 0, 0, 0, pi_a, 0, 0, 0, 0],\n",
      "       [0, 0, 0, 0, 0, 0, 0, 0, 0, pi_c, 0, 0],\n",
      "       [0, -pi_a, 0, -pi_c, 0, -pi_t, 0, -pi_a, 0, -pi_c, 0, -pi_t],\n",
      "       [0, 0, 0, 0, 0, 0, 0, 0, 0, 0, 0, pi_t],\n",
      "       [0, 0, 0, 0, 0, 0, 0, 0, 0, 0, 0, 0],\n",
      "       [0, 0, 0, 0, 0, 0, 0, 0, 0, 0, 0, 0],\n",
      "       [0, 0, 0, 0, 0, pi_t, 0, 0, 0, 0, 0, 0],\n",
      "       [0, 0, 0, 0, 0, 0, 0, 0, 0, 0, 0, 0],\n",
      "       [0, 0, 0, 0, 0, 0, 0, 0, 0, 0, 0, 0],\n",
      "       [0, 0, 0, 0, 0, 0, 0, 0, 0, 0, 0, 0],\n",
      "       [0, 0, 0, 0, 0, 0, 0, 0, 0, 0, 0, 0],\n",
      "       [0, pi_a, 0, 0, 0, 0, 0, 0, 0, 0, 0, 0],\n",
      "       [0, 0, 0, 0, 0, 0, 0, 0, 0, 0, 0, 0],\n",
      "       [0, 0, 0, 0, 0, 0, 0, 0, 0, 0, 0, 0],\n",
      "       [0, 0, 0, 0, 0, 0, 0, 0, 0, 0, 0, 0],\n",
      "       [0, 0, 0, pi_c, 0, 0, 0, 0, 0, 0, 0, 0],\n",
      "       [0, 0, 0, 0, 0, 0, 0, 0, pi_a, 0, 0, 0],\n",
      "       [0, 0, 0, 0, 0, 0, 0, 0, 0, 0, pi_c, 0],\n",
      "       [0, 0, 0, 0, 0, 0, 0, 0, 0, 0, 0, pi_g],\n",
      "       [0, -pi_a, 0, -pi_c, 0, -pi_t, 0, 0, -pi_a, 0, -pi_c, -pi_g],\n",
      "       [0, 0, 0, 0, 0, 0, 0, 0, 0, 0, 0, 0],\n",
      "       [0, 0, 0, 0, 0, 0, 0, 0, 0, 0, 0, 0],\n",
      "       [0, 0, 0, 0, 0, 0, 0, 0, 0, 0, 0, 0],\n",
      "       [0, 0, 0, 0, 0, pi_t, 0, 0, 0, 0, 0, 0],\n",
      "       [0, 0, pi_a, 0, 0, 0, 0, 0, 0, 0, 0, 0],\n",
      "       [0, 0, 0, 0, 0, 0, 0, 0, 0, 0, 0, 0],\n",
      "       [0, 0, 0, 0, 0, 0, 0, 0, 0, 0, 0, 0],\n",
      "       [0, 0, 0, 0, 0, 0, 0, 0, 0, 0, 0, 0],\n",
      "       [0, 0, 0, 0, pi_c, 0, 0, 0, 0, 0, 0, 0],\n",
      "       [0, 0, 0, 0, 0, 0, 0, 0, 0, 0, 0, 0],\n",
      "       [0, 0, 0, 0, 0, 0, 0, 0, 0, 0, 0, 0],\n",
      "       [0, 0, 0, 0, 0, 0, 0, 0, 0, 0, 0, 0],\n",
      "       [0, 0, 0, 0, 0, pi_g, 0, 0, 0, 0, 0, 0],\n",
      "       [0, 0, 0, 0, 0, 0, 0, 0, 0, 0, 0, 0],\n",
      "       [0, 0, 0, 0, 0, 0, 0, 0, 0, 0, 0, 0],\n",
      "       [0, 0, 0, 0, 0, 0, 0, 0, 0, 0, 0, 0],\n",
      "       [0, 0, -pi_a, 0, -pi_c, -pi_g, -pi_c, -pi_g, -pi_t, 0, 0, 0],\n",
      "       [0, 0, 0, 0, 0, 0, pi_c, 0, 0, 0, 0, 0],\n",
      "       [0, 0, 0, 0, 0, 0, 0, pi_g, 0, 0, 0, 0],\n",
      "       [0, 0, 0, 0, 0, 0, 0, 0, pi_t, 0, 0, 0],\n",
      "       [0, 0, 0, 0, 0, 0, 0, 0, 0, 0, 0, 0],\n",
      "       [0, 0, pi_a, 0, 0, 0, 0, 0, 0, 0, 0, 0],\n",
      "       [0, 0, 0, 0, 0, 0, 0, 0, 0, 0, 0, 0],\n",
      "       [0, 0, 0, 0, 0, 0, 0, 0, 0, 0, 0, 0],\n",
      "       [0, 0, 0, 0, 0, 0, 0, 0, 0, 0, 0, 0],\n",
      "       [0, 0, 0, 0, pi_c, 0, 0, 0, 0, 0, 0, 0],\n",
      "       [0, 0, 0, 0, 0, 0, 0, 0, 0, 0, 0, 0],\n",
      "       [0, 0, 0, 0, 0, 0, 0, 0, 0, 0, 0, 0],\n",
      "       [0, 0, 0, 0, 0, 0, 0, 0, 0, 0, 0, 0],\n",
      "       [0, 0, 0, 0, 0, pi_g, 0, 0, 0, 0, 0, 0],\n",
      "       [0, 0, 0, 0, 0, 0, 0, 0, 0, 0, 0, 0],\n",
      "       [0, 0, 0, 0, 0, 0, 0, 0, 0, 0, 0, 0],\n",
      "       [0, 0, 0, 0, 0, 0, pi_a, 0, 0, 0, 0, 0],\n",
      "       [0, 0, -pi_a, 0, -pi_c, -pi_g, -pi_a, 0, 0, -pi_g, -pi_t, 0],\n",
      "       [0, 0, 0, 0, 0, 0, 0, 0, 0, pi_g, 0, 0],\n",
      "       [0, 0, 0, 0, 0, 0, 0, 0, 0, 0, pi_t, 0],\n",
      "       [0, 0, 0, 0, 0, 0, 0, 0, 0, 0, 0, 0],\n",
      "       [0, 0, 0, 0, 0, 0, 0, 0, 0, 0, 0, 0],\n",
      "       [0, 0, pi_a, 0, 0, 0, 0, 0, 0, 0, 0, 0],\n",
      "       [0, 0, 0, 0, 0, 0, 0, 0, 0, 0, 0, 0],\n",
      "       [0, 0, 0, 0, 0, 0, 0, 0, 0, 0, 0, 0],\n",
      "       [0, 0, 0, 0, 0, 0, 0, 0, 0, 0, 0, 0],\n",
      "       [0, 0, 0, 0, pi_c, 0, 0, 0, 0, 0, 0, 0],\n",
      "       [0, 0, 0, 0, 0, 0, 0, 0, 0, 0, 0, 0],\n",
      "       [0, 0, 0, 0, 0, 0, 0, 0, 0, 0, 0, 0],\n",
      "       [0, 0, 0, 0, 0, 0, 0, 0, 0, 0, 0, 0],\n",
      "       [0, 0, 0, 0, 0, pi_g, 0, 0, 0, 0, 0, 0],\n",
      "       [0, 0, 0, 0, 0, 0, 0, 0, 0, 0, 0, 0],\n",
      "       [0, 0, 0, 0, 0, 0, 0, pi_a, 0, 0, 0, 0],\n",
      "       [0, 0, 0, 0, 0, 0, 0, 0, 0, pi_c, 0, 0],\n",
      "       [0, 0, -pi_a, 0, -pi_c, -pi_g, 0, -pi_a, 0, -pi_c, 0, -pi_t],\n",
      "       [0, 0, 0, 0, 0, 0, 0, 0, 0, 0, 0, pi_t],\n",
      "       [0, 0, 0, 0, 0, 0, 0, 0, 0, 0, 0, 0],\n",
      "       [0, 0, 0, 0, 0, 0, 0, 0, 0, 0, 0, 0],\n",
      "       [0, 0, 0, 0, 0, 0, 0, 0, 0, 0, 0, 0],\n",
      "       [0, 0, pi_a, 0, 0, 0, 0, 0, 0, 0, 0, 0],\n",
      "       [0, 0, 0, 0, 0, 0, 0, 0, 0, 0, 0, 0],\n",
      "       [0, 0, 0, 0, 0, 0, 0, 0, 0, 0, 0, 0],\n",
      "       [0, 0, 0, 0, 0, 0, 0, 0, 0, 0, 0, 0],\n",
      "       [0, 0, 0, 0, pi_c, 0, 0, 0, 0, 0, 0, 0],\n",
      "       [0, 0, 0, 0, 0, 0, 0, 0, 0, 0, 0, 0],\n",
      "       [0, 0, 0, 0, 0, 0, 0, 0, 0, 0, 0, 0],\n",
      "       [0, 0, 0, 0, 0, 0, 0, 0, 0, 0, 0, 0],\n",
      "       [0, 0, 0, 0, 0, pi_g, 0, 0, 0, 0, 0, 0],\n",
      "       [0, 0, 0, 0, 0, 0, 0, 0, pi_a, 0, 0, 0],\n",
      "       [0, 0, 0, 0, 0, 0, 0, 0, 0, 0, pi_c, 0],\n",
      "       [0, 0, 0, 0, 0, 0, 0, 0, 0, 0, 0, pi_g],\n",
      "       [0, 0, -pi_a, 0, -pi_c, -pi_g, 0, 0, -pi_a, 0, -pi_c, -pi_g]],\n",
      "      dtype=object)\n"
     ]
    }
   ],
   "source": [
    "import sys\n",
    "np.set_printoptions(threshold=sys.maxsize)\n",
    "\n",
    "print(repr(np.array([vector([vi.coefficient(s) for vi in v])\n",
    "                     for s in [s_mac, s_mag, s_mat, s_mcg, s_mct, s_mgt, s_pac, s_pag, s_pat, s_pcg, s_pct, s_pgt]\n",
    "                    ]).transpose()))"
   ]
  },
  {
   "cell_type": "code",
   "execution_count": 84,
   "id": "81c201d6-fcfc-4fd0-bf17-ad54ae7ee35e",
   "metadata": {},
   "outputs": [
    {
     "data": {
      "text/html": [
       "<html>\\(\\displaystyle 2 \\, {\\left(\\pi_{a}^{2} \\pi_{c} + \\pi_{a} \\pi_{c}^{2} + \\pi_{a} \\pi_{c} \\pi_{g} + \\pi_{a} \\pi_{c} \\pi_{t}\\right)} s_{\\mathit{mac}} + 2 \\, {\\left(\\pi_{a} \\pi_{g}^{2} + \\pi_{a} \\pi_{g} \\pi_{t} + {\\left(\\pi_{a}^{2} + \\pi_{a} \\pi_{c}\\right)} \\pi_{g}\\right)} s_{\\mathit{mag}} + 2 \\, {\\left(\\pi_{a} \\pi_{t}^{2} + {\\left(\\pi_{a}^{2} + \\pi_{a} \\pi_{c} + \\pi_{a} \\pi_{g}\\right)} \\pi_{t}\\right)} s_{\\mathit{mat}} + 2 \\, {\\left(\\pi_{c} \\pi_{g}^{2} + \\pi_{c} \\pi_{g} \\pi_{t} + {\\left(\\pi_{a} \\pi_{c} + \\pi_{c}^{2}\\right)} \\pi_{g}\\right)} s_{\\mathit{mcg}} + 2 \\, {\\left(\\pi_{c} \\pi_{t}^{2} + {\\left(\\pi_{a} \\pi_{c} + \\pi_{c}^{2} + \\pi_{c} \\pi_{g}\\right)} \\pi_{t}\\right)} s_{\\mathit{mct}} + 2 \\, {\\left(\\pi_{g} \\pi_{t}^{2} + {\\left({\\left(\\pi_{a} + \\pi_{c}\\right)} \\pi_{g} + \\pi_{g}^{2}\\right)} \\pi_{t}\\right)} s_{\\mathit{mgt}} + 2 \\, {\\left(\\pi_{a}^{2} \\pi_{c} + \\pi_{a} \\pi_{c}^{2} + \\pi_{a} \\pi_{c} \\pi_{g} + \\pi_{a} \\pi_{c} \\pi_{t}\\right)} s_{\\mathit{pac}} + 2 \\, {\\left(\\pi_{a} \\pi_{g}^{2} + \\pi_{a} \\pi_{g} \\pi_{t} + {\\left(\\pi_{a}^{2} + \\pi_{a} \\pi_{c}\\right)} \\pi_{g}\\right)} s_{\\mathit{pag}} + 2 \\, {\\left(\\pi_{a} \\pi_{t}^{2} + {\\left(\\pi_{a}^{2} + \\pi_{a} \\pi_{c} + \\pi_{a} \\pi_{g}\\right)} \\pi_{t}\\right)} s_{\\mathit{pat}} + 2 \\, {\\left(\\pi_{c} \\pi_{g}^{2} + \\pi_{c} \\pi_{g} \\pi_{t} + {\\left(\\pi_{a} \\pi_{c} + \\pi_{c}^{2}\\right)} \\pi_{g}\\right)} s_{\\mathit{pcg}} + 2 \\, {\\left(\\pi_{c} \\pi_{t}^{2} + {\\left(\\pi_{a} \\pi_{c} + \\pi_{c}^{2} + \\pi_{c} \\pi_{g}\\right)} \\pi_{t}\\right)} s_{\\mathit{pct}} + 2 \\, {\\left(\\pi_{g} \\pi_{t}^{2} + {\\left({\\left(\\pi_{a} + \\pi_{c}\\right)} \\pi_{g} + \\pi_{g}^{2}\\right)} \\pi_{t}\\right)} s_{\\mathit{pgt}}\\)</html>"
      ],
      "text/latex": [
       "$\\displaystyle 2 \\, {\\left(\\pi_{a}^{2} \\pi_{c} + \\pi_{a} \\pi_{c}^{2} + \\pi_{a} \\pi_{c} \\pi_{g} + \\pi_{a} \\pi_{c} \\pi_{t}\\right)} s_{\\mathit{mac}} + 2 \\, {\\left(\\pi_{a} \\pi_{g}^{2} + \\pi_{a} \\pi_{g} \\pi_{t} + {\\left(\\pi_{a}^{2} + \\pi_{a} \\pi_{c}\\right)} \\pi_{g}\\right)} s_{\\mathit{mag}} + 2 \\, {\\left(\\pi_{a} \\pi_{t}^{2} + {\\left(\\pi_{a}^{2} + \\pi_{a} \\pi_{c} + \\pi_{a} \\pi_{g}\\right)} \\pi_{t}\\right)} s_{\\mathit{mat}} + 2 \\, {\\left(\\pi_{c} \\pi_{g}^{2} + \\pi_{c} \\pi_{g} \\pi_{t} + {\\left(\\pi_{a} \\pi_{c} + \\pi_{c}^{2}\\right)} \\pi_{g}\\right)} s_{\\mathit{mcg}} + 2 \\, {\\left(\\pi_{c} \\pi_{t}^{2} + {\\left(\\pi_{a} \\pi_{c} + \\pi_{c}^{2} + \\pi_{c} \\pi_{g}\\right)} \\pi_{t}\\right)} s_{\\mathit{mct}} + 2 \\, {\\left(\\pi_{g} \\pi_{t}^{2} + {\\left({\\left(\\pi_{a} + \\pi_{c}\\right)} \\pi_{g} + \\pi_{g}^{2}\\right)} \\pi_{t}\\right)} s_{\\mathit{mgt}} + 2 \\, {\\left(\\pi_{a}^{2} \\pi_{c} + \\pi_{a} \\pi_{c}^{2} + \\pi_{a} \\pi_{c} \\pi_{g} + \\pi_{a} \\pi_{c} \\pi_{t}\\right)} s_{\\mathit{pac}} + 2 \\, {\\left(\\pi_{a} \\pi_{g}^{2} + \\pi_{a} \\pi_{g} \\pi_{t} + {\\left(\\pi_{a}^{2} + \\pi_{a} \\pi_{c}\\right)} \\pi_{g}\\right)} s_{\\mathit{pag}} + 2 \\, {\\left(\\pi_{a} \\pi_{t}^{2} + {\\left(\\pi_{a}^{2} + \\pi_{a} \\pi_{c} + \\pi_{a} \\pi_{g}\\right)} \\pi_{t}\\right)} s_{\\mathit{pat}} + 2 \\, {\\left(\\pi_{c} \\pi_{g}^{2} + \\pi_{c} \\pi_{g} \\pi_{t} + {\\left(\\pi_{a} \\pi_{c} + \\pi_{c}^{2}\\right)} \\pi_{g}\\right)} s_{\\mathit{pcg}} + 2 \\, {\\left(\\pi_{c} \\pi_{t}^{2} + {\\left(\\pi_{a} \\pi_{c} + \\pi_{c}^{2} + \\pi_{c} \\pi_{g}\\right)} \\pi_{t}\\right)} s_{\\mathit{pct}} + 2 \\, {\\left(\\pi_{g} \\pi_{t}^{2} + {\\left({\\left(\\pi_{a} + \\pi_{c}\\right)} \\pi_{g} + \\pi_{g}^{2}\\right)} \\pi_{t}\\right)} s_{\\mathit{pgt}}$"
      ],
      "text/plain": [
       "2*(pi_a^2*pi_c + pi_a*pi_c^2 + pi_a*pi_c*pi_g + pi_a*pi_c*pi_t)*s_mac + 2*(pi_a*pi_g^2 + pi_a*pi_g*pi_t + (pi_a^2 + pi_a*pi_c)*pi_g)*s_mag + 2*(pi_a*pi_t^2 + (pi_a^2 + pi_a*pi_c + pi_a*pi_g)*pi_t)*s_mat + 2*(pi_c*pi_g^2 + pi_c*pi_g*pi_t + (pi_a*pi_c + pi_c^2)*pi_g)*s_mcg + 2*(pi_c*pi_t^2 + (pi_a*pi_c + pi_c^2 + pi_c*pi_g)*pi_t)*s_mct + 2*(pi_g*pi_t^2 + ((pi_a + pi_c)*pi_g + pi_g^2)*pi_t)*s_mgt + 2*(pi_a^2*pi_c + pi_a*pi_c^2 + pi_a*pi_c*pi_g + pi_a*pi_c*pi_t)*s_pac + 2*(pi_a*pi_g^2 + pi_a*pi_g*pi_t + (pi_a^2 + pi_a*pi_c)*pi_g)*s_pag + 2*(pi_a*pi_t^2 + (pi_a^2 + pi_a*pi_c + pi_a*pi_g)*pi_t)*s_pat + 2*(pi_c*pi_g^2 + pi_c*pi_g*pi_t + (pi_a*pi_c + pi_c^2)*pi_g)*s_pcg + 2*(pi_c*pi_t^2 + (pi_a*pi_c + pi_c^2 + pi_c*pi_g)*pi_t)*s_pct + 2*(pi_g*pi_t^2 + ((pi_a + pi_c)*pi_g + pi_g^2)*pi_t)*s_pgt"
      ]
     },
     "metadata": {},
     "output_type": "display_data"
    }
   ],
   "source": [
    "mu_gtr16v = - pis16 * vector(qgtr16v.diagonal())\n",
    "pretty_print(\n",
    "    mu_gtr16v.expand().simplify_full()\n",
    ")"
   ]
  },
  {
   "cell_type": "code",
   "execution_count": 85,
   "id": "55caf252-ea43-4af2-8df9-f4ebd2c799ca",
   "metadata": {},
   "outputs": [
    {
     "data": {
      "text/html": [
       "<html>\\(\\displaystyle -\\frac{1}{8} \\, {\\left(3 \\, s_{\\mathit{mac}} + 3 \\, s_{\\mathit{mag}} + 3 \\, s_{\\mathit{mat}} - s_{\\mathit{mcg}} - s_{\\mathit{mct}} - s_{\\mathit{mgt}} + 3 \\, s_{\\mathit{pac}} + 3 \\, s_{\\mathit{pag}} + 3 \\, s_{\\mathit{pat}} - s_{\\mathit{pcg}} - s_{\\mathit{pct}} - s_{\\mathit{pgt}}\\right)} \\tau_{1}^{2} + \\frac{1}{2} \\, {\\left(s_{\\mathit{mac}} - s_{\\mathit{mag}} - s_{\\mathit{mat}} - s_{\\mathit{mcg}} - s_{\\mathit{mct}} + s_{\\mathit{mgt}} + s_{\\mathit{pac}} - s_{\\mathit{pag}} - s_{\\mathit{pat}} - s_{\\mathit{pcg}} - s_{\\mathit{pct}} + s_{\\mathit{pgt}}\\right)} \\tau_{2}^{2} + \\frac{1}{8} \\, {\\left(s_{\\mathit{mac}} + s_{\\mathit{mag}} - 3 \\, s_{\\mathit{mat}} + s_{\\mathit{mcg}} - 3 \\, s_{\\mathit{mct}} - 3 \\, s_{\\mathit{mgt}} + s_{\\mathit{pac}} + s_{\\mathit{pag}} - 3 \\, s_{\\mathit{pat}} + s_{\\mathit{pcg}} - 3 \\, s_{\\mathit{pct}} - 3 \\, s_{\\mathit{pgt}}\\right)} \\tau_{3}^{2} - \\frac{1}{4} \\, {\\left(s_{\\mathit{mac}} + s_{\\mathit{mag}} + s_{\\mathit{mat}} - s_{\\mathit{mcg}} - s_{\\mathit{mct}} - s_{\\mathit{mgt}} + s_{\\mathit{pac}} + s_{\\mathit{pag}} + s_{\\mathit{pat}} - s_{\\mathit{pcg}} - s_{\\mathit{pct}} - s_{\\mathit{pgt}}\\right)} \\tau_{1} + \\frac{1}{2} \\, {\\left({\\left(s_{\\mathit{mac}} - 2 \\, s_{\\mathit{mag}} - 2 \\, s_{\\mathit{mat}} + s_{\\mathit{mgt}} + s_{\\mathit{pac}} - 2 \\, s_{\\mathit{pag}} - 2 \\, s_{\\mathit{pat}} + s_{\\mathit{pgt}}\\right)} \\tau_{1} - s_{\\mathit{mac}} + s_{\\mathit{mgt}} - s_{\\mathit{pac}} + s_{\\mathit{pgt}}\\right)} \\tau_{2} + \\frac{1}{4} \\, {\\left({\\left(s_{\\mathit{mac}} + s_{\\mathit{mag}} - 5 \\, s_{\\mathit{mat}} - s_{\\mathit{mcg}} + s_{\\mathit{mct}} + s_{\\mathit{mgt}} + s_{\\mathit{pac}} + s_{\\mathit{pag}} - 5 \\, s_{\\mathit{pat}} - s_{\\mathit{pcg}} + s_{\\mathit{pct}} + s_{\\mathit{pgt}}\\right)} \\tau_{1} + 2 \\, {\\left(s_{\\mathit{mac}} - 2 \\, s_{\\mathit{mat}} - 2 \\, s_{\\mathit{mct}} + s_{\\mathit{mgt}} + s_{\\mathit{pac}} - 2 \\, s_{\\mathit{pat}} - 2 \\, s_{\\mathit{pct}} + s_{\\mathit{pgt}}\\right)} \\tau_{2} - s_{\\mathit{mac}} - s_{\\mathit{mag}} + s_{\\mathit{mat}} - s_{\\mathit{mcg}} + s_{\\mathit{mct}} + s_{\\mathit{mgt}} - s_{\\mathit{pac}} - s_{\\mathit{pag}} + s_{\\mathit{pat}} - s_{\\mathit{pcg}} + s_{\\mathit{pct}} + s_{\\mathit{pgt}}\\right)} \\tau_{3} + \\frac{1}{8} \\, s_{\\mathit{mac}} + \\frac{1}{8} \\, s_{\\mathit{mag}} + \\frac{1}{8} \\, s_{\\mathit{mat}} + \\frac{1}{8} \\, s_{\\mathit{mcg}} + \\frac{1}{8} \\, s_{\\mathit{mct}} + \\frac{1}{8} \\, s_{\\mathit{mgt}} + \\frac{1}{8} \\, s_{\\mathit{pac}} + \\frac{1}{8} \\, s_{\\mathit{pag}} + \\frac{1}{8} \\, s_{\\mathit{pat}} + \\frac{1}{8} \\, s_{\\mathit{pcg}} + \\frac{1}{8} \\, s_{\\mathit{pct}} + \\frac{1}{8} \\, s_{\\mathit{pgt}}\\)</html>"
      ],
      "text/latex": [
       "$\\displaystyle -\\frac{1}{8} \\, {\\left(3 \\, s_{\\mathit{mac}} + 3 \\, s_{\\mathit{mag}} + 3 \\, s_{\\mathit{mat}} - s_{\\mathit{mcg}} - s_{\\mathit{mct}} - s_{\\mathit{mgt}} + 3 \\, s_{\\mathit{pac}} + 3 \\, s_{\\mathit{pag}} + 3 \\, s_{\\mathit{pat}} - s_{\\mathit{pcg}} - s_{\\mathit{pct}} - s_{\\mathit{pgt}}\\right)} \\tau_{1}^{2} + \\frac{1}{2} \\, {\\left(s_{\\mathit{mac}} - s_{\\mathit{mag}} - s_{\\mathit{mat}} - s_{\\mathit{mcg}} - s_{\\mathit{mct}} + s_{\\mathit{mgt}} + s_{\\mathit{pac}} - s_{\\mathit{pag}} - s_{\\mathit{pat}} - s_{\\mathit{pcg}} - s_{\\mathit{pct}} + s_{\\mathit{pgt}}\\right)} \\tau_{2}^{2} + \\frac{1}{8} \\, {\\left(s_{\\mathit{mac}} + s_{\\mathit{mag}} - 3 \\, s_{\\mathit{mat}} + s_{\\mathit{mcg}} - 3 \\, s_{\\mathit{mct}} - 3 \\, s_{\\mathit{mgt}} + s_{\\mathit{pac}} + s_{\\mathit{pag}} - 3 \\, s_{\\mathit{pat}} + s_{\\mathit{pcg}} - 3 \\, s_{\\mathit{pct}} - 3 \\, s_{\\mathit{pgt}}\\right)} \\tau_{3}^{2} - \\frac{1}{4} \\, {\\left(s_{\\mathit{mac}} + s_{\\mathit{mag}} + s_{\\mathit{mat}} - s_{\\mathit{mcg}} - s_{\\mathit{mct}} - s_{\\mathit{mgt}} + s_{\\mathit{pac}} + s_{\\mathit{pag}} + s_{\\mathit{pat}} - s_{\\mathit{pcg}} - s_{\\mathit{pct}} - s_{\\mathit{pgt}}\\right)} \\tau_{1} + \\frac{1}{2} \\, {\\left({\\left(s_{\\mathit{mac}} - 2 \\, s_{\\mathit{mag}} - 2 \\, s_{\\mathit{mat}} + s_{\\mathit{mgt}} + s_{\\mathit{pac}} - 2 \\, s_{\\mathit{pag}} - 2 \\, s_{\\mathit{pat}} + s_{\\mathit{pgt}}\\right)} \\tau_{1} - s_{\\mathit{mac}} + s_{\\mathit{mgt}} - s_{\\mathit{pac}} + s_{\\mathit{pgt}}\\right)} \\tau_{2} + \\frac{1}{4} \\, {\\left({\\left(s_{\\mathit{mac}} + s_{\\mathit{mag}} - 5 \\, s_{\\mathit{mat}} - s_{\\mathit{mcg}} + s_{\\mathit{mct}} + s_{\\mathit{mgt}} + s_{\\mathit{pac}} + s_{\\mathit{pag}} - 5 \\, s_{\\mathit{pat}} - s_{\\mathit{pcg}} + s_{\\mathit{pct}} + s_{\\mathit{pgt}}\\right)} \\tau_{1} + 2 \\, {\\left(s_{\\mathit{mac}} - 2 \\, s_{\\mathit{mat}} - 2 \\, s_{\\mathit{mct}} + s_{\\mathit{mgt}} + s_{\\mathit{pac}} - 2 \\, s_{\\mathit{pat}} - 2 \\, s_{\\mathit{pct}} + s_{\\mathit{pgt}}\\right)} \\tau_{2} - s_{\\mathit{mac}} - s_{\\mathit{mag}} + s_{\\mathit{mat}} - s_{\\mathit{mcg}} + s_{\\mathit{mct}} + s_{\\mathit{mgt}} - s_{\\mathit{pac}} - s_{\\mathit{pag}} + s_{\\mathit{pat}} - s_{\\mathit{pcg}} + s_{\\mathit{pct}} + s_{\\mathit{pgt}}\\right)} \\tau_{3} + \\frac{1}{8} \\, s_{\\mathit{mac}} + \\frac{1}{8} \\, s_{\\mathit{mag}} + \\frac{1}{8} \\, s_{\\mathit{mat}} + \\frac{1}{8} \\, s_{\\mathit{mcg}} + \\frac{1}{8} \\, s_{\\mathit{mct}} + \\frac{1}{8} \\, s_{\\mathit{mgt}} + \\frac{1}{8} \\, s_{\\mathit{pac}} + \\frac{1}{8} \\, s_{\\mathit{pag}} + \\frac{1}{8} \\, s_{\\mathit{pat}} + \\frac{1}{8} \\, s_{\\mathit{pcg}} + \\frac{1}{8} \\, s_{\\mathit{pct}} + \\frac{1}{8} \\, s_{\\mathit{pgt}}$"
      ],
      "text/plain": [
       "-1/8*(3*s_mac + 3*s_mag + 3*s_mat - s_mcg - s_mct - s_mgt + 3*s_pac + 3*s_pag + 3*s_pat - s_pcg - s_pct - s_pgt)*tau_1^2 + 1/2*(s_mac - s_mag - s_mat - s_mcg - s_mct + s_mgt + s_pac - s_pag - s_pat - s_pcg - s_pct + s_pgt)*tau_2^2 + 1/8*(s_mac + s_mag - 3*s_mat + s_mcg - 3*s_mct - 3*s_mgt + s_pac + s_pag - 3*s_pat + s_pcg - 3*s_pct - 3*s_pgt)*tau_3^2 - 1/4*(s_mac + s_mag + s_mat - s_mcg - s_mct - s_mgt + s_pac + s_pag + s_pat - s_pcg - s_pct - s_pgt)*tau_1 + 1/2*((s_mac - 2*s_mag - 2*s_mat + s_mgt + s_pac - 2*s_pag - 2*s_pat + s_pgt)*tau_1 - s_mac + s_mgt - s_pac + s_pgt)*tau_2 + 1/4*((s_mac + s_mag - 5*s_mat - s_mcg + s_mct + s_mgt + s_pac + s_pag - 5*s_pat - s_pcg + s_pct + s_pgt)*tau_1 + 2*(s_mac - 2*s_mat - 2*s_mct + s_mgt + s_pac - 2*s_pat - 2*s_pct + s_pgt)*tau_2 - s_mac - s_mag + s_mat - s_mcg + s_mct + s_mgt - s_pac - s_pag + s_pat - s_pcg + s_pct + s_pgt)*tau_3 + 1/8*s_mac + 1/8*s_mag + 1/8*s_mat + 1/8*s_mcg + 1/8*s_mct + 1/8*s_mgt + 1/8*s_pac + 1/8*s_pag + 1/8*s_pat + 1/8*s_pcg + 1/8*s_pct + 1/8*s_pgt"
      ]
     },
     "metadata": {},
     "output_type": "display_data"
    }
   ],
   "source": [
    "temp = (\n",
    "    mu_gtr16v(pi_t=tau_3+pi_g)(pi_g=tau_2+pi_c)(pi_c=tau_1+pi_a)(pi_a=(1-3*tau_1-2*tau_2-tau_3)/4)\n",
    ").simplify_full()\n",
    "pretty_print(temp)"
   ]
  },
  {
   "cell_type": "code",
   "execution_count": 86,
   "id": "5194eb17-c31f-4278-85e8-ceb94f900eda",
   "metadata": {},
   "outputs": [
    {
     "name": "stdout",
     "output_type": "stream",
     "text": [
      "-3/8*pi_a^2*s_mac + 5/4*pi_a*pi_c*s_mac - 3/8*pi_c^2*s_mac - 1/4*pi_a*pi_g*s_mac - 1/4*pi_c*pi_g*s_mac + 1/8*pi_g^2*s_mac - 1/4*pi_a*pi_t*s_mac - 1/4*pi_c*pi_t*s_mac + 1/4*pi_g*pi_t*s_mac + 1/8*pi_t^2*s_mac - 3/8*pi_a^2*s_mag - 1/4*pi_a*pi_c*s_mag + 1/8*pi_c^2*s_mag + 5/4*pi_a*pi_g*s_mag - 1/4*pi_c*pi_g*s_mag - 3/8*pi_g^2*s_mag - 1/4*pi_a*pi_t*s_mag + 1/4*pi_c*pi_t*s_mag - 1/4*pi_g*pi_t*s_mag + 1/8*pi_t^2*s_mag - 3/8*pi_a^2*s_mat - 1/4*pi_a*pi_c*s_mat + 1/8*pi_c^2*s_mat - 1/4*pi_a*pi_g*s_mat + 1/4*pi_c*pi_g*s_mat + 1/8*pi_g^2*s_mat + 5/4*pi_a*pi_t*s_mat - 1/4*pi_c*pi_t*s_mat - 1/4*pi_g*pi_t*s_mat - 3/8*pi_t^2*s_mat + 1/8*pi_a^2*s_mcg - 1/4*pi_a*pi_c*s_mcg - 3/8*pi_c^2*s_mcg - 1/4*pi_a*pi_g*s_mcg + 5/4*pi_c*pi_g*s_mcg - 3/8*pi_g^2*s_mcg + 1/4*pi_a*pi_t*s_mcg - 1/4*pi_c*pi_t*s_mcg - 1/4*pi_g*pi_t*s_mcg + 1/8*pi_t^2*s_mcg + 1/8*pi_a^2*s_mct - 1/4*pi_a*pi_c*s_mct - 3/8*pi_c^2*s_mct + 1/4*pi_a*pi_g*s_mct - 1/4*pi_c*pi_g*s_mct + 1/8*pi_g^2*s_mct - 1/4*pi_a*pi_t*s_mct + 5/4*pi_c*pi_t*s_mct - 1/4*pi_g*pi_t*s_mct - 3/8*pi_t^2*s_mct + 1/8*pi_a^2*s_mgt + 1/4*pi_a*pi_c*s_mgt + 1/8*pi_c^2*s_mgt - 1/4*pi_a*pi_g*s_mgt - 1/4*pi_c*pi_g*s_mgt - 3/8*pi_g^2*s_mgt - 1/4*pi_a*pi_t*s_mgt - 1/4*pi_c*pi_t*s_mgt + 5/4*pi_g*pi_t*s_mgt - 3/8*pi_t^2*s_mgt - 3/8*pi_a^2*s_pac + 5/4*pi_a*pi_c*s_pac - 3/8*pi_c^2*s_pac - 1/4*pi_a*pi_g*s_pac - 1/4*pi_c*pi_g*s_pac + 1/8*pi_g^2*s_pac - 1/4*pi_a*pi_t*s_pac - 1/4*pi_c*pi_t*s_pac + 1/4*pi_g*pi_t*s_pac + 1/8*pi_t^2*s_pac - 3/8*pi_a^2*s_pag - 1/4*pi_a*pi_c*s_pag + 1/8*pi_c^2*s_pag + 5/4*pi_a*pi_g*s_pag - 1/4*pi_c*pi_g*s_pag - 3/8*pi_g^2*s_pag - 1/4*pi_a*pi_t*s_pag + 1/4*pi_c*pi_t*s_pag - 1/4*pi_g*pi_t*s_pag + 1/8*pi_t^2*s_pag - 3/8*pi_a^2*s_pat - 1/4*pi_a*pi_c*s_pat + 1/8*pi_c^2*s_pat - 1/4*pi_a*pi_g*s_pat + 1/4*pi_c*pi_g*s_pat + 1/8*pi_g^2*s_pat + 5/4*pi_a*pi_t*s_pat - 1/4*pi_c*pi_t*s_pat - 1/4*pi_g*pi_t*s_pat - 3/8*pi_t^2*s_pat + 1/8*pi_a^2*s_pcg - 1/4*pi_a*pi_c*s_pcg - 3/8*pi_c^2*s_pcg - 1/4*pi_a*pi_g*s_pcg + 5/4*pi_c*pi_g*s_pcg - 3/8*pi_g^2*s_pcg + 1/4*pi_a*pi_t*s_pcg - 1/4*pi_c*pi_t*s_pcg - 1/4*pi_g*pi_t*s_pcg + 1/8*pi_t^2*s_pcg + 1/8*pi_a^2*s_pct - 1/4*pi_a*pi_c*s_pct - 3/8*pi_c^2*s_pct + 1/4*pi_a*pi_g*s_pct - 1/4*pi_c*pi_g*s_pct + 1/8*pi_g^2*s_pct - 1/4*pi_a*pi_t*s_pct + 5/4*pi_c*pi_t*s_pct - 1/4*pi_g*pi_t*s_pct - 3/8*pi_t^2*s_pct + 1/8*pi_a^2*s_pgt + 1/4*pi_a*pi_c*s_pgt + 1/8*pi_c^2*s_pgt - 1/4*pi_a*pi_g*s_pgt - 1/4*pi_c*pi_g*s_pgt - 3/8*pi_g^2*s_pgt - 1/4*pi_a*pi_t*s_pgt - 1/4*pi_c*pi_t*s_pgt + 5/4*pi_g*pi_t*s_pgt - 3/8*pi_t^2*s_pgt + 1/4*pi_a*s_mac + 1/4*pi_c*s_mac - 1/4*pi_g*s_mac - 1/4*pi_t*s_mac + 1/4*pi_a*s_mag - 1/4*pi_c*s_mag + 1/4*pi_g*s_mag - 1/4*pi_t*s_mag + 1/4*pi_a*s_mat - 1/4*pi_c*s_mat - 1/4*pi_g*s_mat + 1/4*pi_t*s_mat - 1/4*pi_a*s_mcg + 1/4*pi_c*s_mcg + 1/4*pi_g*s_mcg - 1/4*pi_t*s_mcg - 1/4*pi_a*s_mct + 1/4*pi_c*s_mct - 1/4*pi_g*s_mct + 1/4*pi_t*s_mct - 1/4*pi_a*s_mgt - 1/4*pi_c*s_mgt + 1/4*pi_g*s_mgt + 1/4*pi_t*s_mgt + 1/4*pi_a*s_pac + 1/4*pi_c*s_pac - 1/4*pi_g*s_pac - 1/4*pi_t*s_pac + 1/4*pi_a*s_pag - 1/4*pi_c*s_pag + 1/4*pi_g*s_pag - 1/4*pi_t*s_pag + 1/4*pi_a*s_pat - 1/4*pi_c*s_pat - 1/4*pi_g*s_pat + 1/4*pi_t*s_pat - 1/4*pi_a*s_pcg + 1/4*pi_c*s_pcg + 1/4*pi_g*s_pcg - 1/4*pi_t*s_pcg - 1/4*pi_a*s_pct + 1/4*pi_c*s_pct - 1/4*pi_g*s_pct + 1/4*pi_t*s_pct - 1/4*pi_a*s_pgt - 1/4*pi_c*s_pgt + 1/4*pi_g*s_pgt + 1/4*pi_t*s_pgt + 1/8*s_mac + 1/8*s_mag + 1/8*s_mat + 1/8*s_mcg + 1/8*s_mct + 1/8*s_mgt + 1/8*s_pac + 1/8*s_pag + 1/8*s_pat + 1/8*s_pcg + 1/8*s_pct + 1/8*s_pgt\n"
     ]
    }
   ],
   "source": [
    "mu_gtr16v = (\n",
    "    temp(tau_1=pi_c-pi_a, tau_2 = pi_g-pi_c, tau_3=pi_t-pi_g).expand()\n",
    ").simplify_full().expand()\n",
    "print( mu_gtr16v )"
   ]
  },
  {
   "cell_type": "code",
   "execution_count": 87,
   "id": "0a215d62-e307-4cbf-9ac9-e4c6f90677f3",
   "metadata": {},
   "outputs": [],
   "source": [
    "mu_gtr16v = (\n",
    "    (\n",
    "        mu_gtr16v\n",
    "        - s_mac * (\n",
    "            0\n",
    "            + 1/8 * (pi_a+pi_c+pi_g+pi_t-1)^2\n",
    "            - 1/2 * pi_a * (pi_a+pi_c+pi_g+pi_t-1)\n",
    "            - 1/2 * pi_c * (pi_a+pi_c+pi_g+pi_t-1)\n",
    "        )\n",
    "        - s_pac * (\n",
    "            0\n",
    "            + 1/8 * (pi_a+pi_c+pi_g+pi_t-1)^2\n",
    "            - 1/2 * pi_a * (pi_a+pi_c+pi_g+pi_t-1)\n",
    "            - 1/2 * pi_c * (pi_a+pi_c+pi_g+pi_t-1)\n",
    "        )\n",
    "        - s_mag * (\n",
    "            0\n",
    "            + 1/8 * (pi_a+pi_c+pi_g+pi_t-1)^2\n",
    "            - 1/2 * pi_a * (pi_a+pi_c+pi_g+pi_t-1)\n",
    "            - 1/2 * pi_g * (pi_a+pi_c+pi_g+pi_t-1)\n",
    "        )\n",
    "        - s_pag * (\n",
    "            0\n",
    "            + 1/8 * (pi_a+pi_c+pi_g+pi_t-1)^2\n",
    "            - 1/2 * pi_a * (pi_a+pi_c+pi_g+pi_t-1)\n",
    "            - 1/2 * pi_g * (pi_a+pi_c+pi_g+pi_t-1)\n",
    "        )\n",
    "        - s_mat * (\n",
    "            0\n",
    "            + 1/8 * (pi_a+pi_c+pi_g+pi_t-1)^2\n",
    "            - 1/2 * pi_a * (pi_a+pi_c+pi_g+pi_t-1)\n",
    "            - 1/2 * pi_t * (pi_a+pi_c+pi_g+pi_t-1)\n",
    "        )\n",
    "        - s_pat * (\n",
    "            0\n",
    "            + 1/8 * (pi_a+pi_c+pi_g+pi_t-1)^2\n",
    "            - 1/2 * pi_a * (pi_a+pi_c+pi_g+pi_t-1)\n",
    "            - 1/2 * pi_t * (pi_a+pi_c+pi_g+pi_t-1)\n",
    "        )\n",
    "        - s_mcg * (\n",
    "            0\n",
    "            + 1/8 * (pi_a+pi_c+pi_g+pi_t-1)^2\n",
    "            - 1/2 * pi_c * (pi_a+pi_c+pi_g+pi_t-1)\n",
    "            - 1/2 * pi_g * (pi_a+pi_c+pi_g+pi_t-1)\n",
    "        )\n",
    "        - s_pcg * (\n",
    "            0\n",
    "            + 1/8 * (pi_a+pi_c+pi_g+pi_t-1)^2\n",
    "            - 1/2 * pi_c * (pi_a+pi_c+pi_g+pi_t-1)\n",
    "            - 1/2 * pi_g * (pi_a+pi_c+pi_g+pi_t-1)\n",
    "        )\n",
    "        - s_mct * (\n",
    "            0\n",
    "            + 1/8 * (pi_a+pi_c+pi_g+pi_t-1)^2\n",
    "            - 1/2 * pi_c * (pi_a+pi_c+pi_g+pi_t-1)\n",
    "            - 1/2 * pi_t * (pi_a+pi_c+pi_g+pi_t-1)\n",
    "        )\n",
    "        - s_pct * (\n",
    "            0\n",
    "            + 1/8 * (pi_a+pi_c+pi_g+pi_t-1)^2\n",
    "            - 1/2 * pi_c * (pi_a+pi_c+pi_g+pi_t-1)\n",
    "            - 1/2 * pi_t * (pi_a+pi_c+pi_g+pi_t-1)\n",
    "        )\n",
    "        - s_mgt * (\n",
    "            0\n",
    "            + 1/8 * (pi_a+pi_c+pi_g+pi_t-1)^2\n",
    "            - 1/2 * pi_g * (pi_a+pi_c+pi_g+pi_t-1)\n",
    "            - 1/2 * pi_t * (pi_a+pi_c+pi_g+pi_t-1)\n",
    "        )\n",
    "        - s_pgt * (\n",
    "            0\n",
    "            + 1/8 * (pi_a+pi_c+pi_g+pi_t-1)^2\n",
    "            - 1/2 * pi_g * (pi_a+pi_c+pi_g+pi_t-1)\n",
    "            - 1/2 * pi_t * (pi_a+pi_c+pi_g+pi_t-1)\n",
    "        )\n",
    "    ).expand()\n",
    ")"
   ]
  },
  {
   "cell_type": "code",
   "execution_count": 88,
   "id": "1b824b0d-7b2f-45cd-93b4-d4c8afe76e66",
   "metadata": {},
   "outputs": [
    {
     "data": {
      "text/html": [
       "<html>\\(\\displaystyle 2 \\, \\pi_{a} \\pi_{c} s_{\\mathit{mac}} + 2 \\, \\pi_{a} \\pi_{g} s_{\\mathit{mag}} + 2 \\, \\pi_{a} \\pi_{t} s_{\\mathit{mat}} + 2 \\, \\pi_{c} \\pi_{g} s_{\\mathit{mcg}} + 2 \\, \\pi_{c} \\pi_{t} s_{\\mathit{mct}} + 2 \\, \\pi_{g} \\pi_{t} s_{\\mathit{mgt}} + 2 \\, \\pi_{a} \\pi_{c} s_{\\mathit{pac}} + 2 \\, \\pi_{a} \\pi_{g} s_{\\mathit{pag}} + 2 \\, \\pi_{a} \\pi_{t} s_{\\mathit{pat}} + 2 \\, \\pi_{c} \\pi_{g} s_{\\mathit{pcg}} + 2 \\, \\pi_{c} \\pi_{t} s_{\\mathit{pct}} + 2 \\, \\pi_{g} \\pi_{t} s_{\\mathit{pgt}}\\)</html>"
      ],
      "text/latex": [
       "$\\displaystyle 2 \\, \\pi_{a} \\pi_{c} s_{\\mathit{mac}} + 2 \\, \\pi_{a} \\pi_{g} s_{\\mathit{mag}} + 2 \\, \\pi_{a} \\pi_{t} s_{\\mathit{mat}} + 2 \\, \\pi_{c} \\pi_{g} s_{\\mathit{mcg}} + 2 \\, \\pi_{c} \\pi_{t} s_{\\mathit{mct}} + 2 \\, \\pi_{g} \\pi_{t} s_{\\mathit{mgt}} + 2 \\, \\pi_{a} \\pi_{c} s_{\\mathit{pac}} + 2 \\, \\pi_{a} \\pi_{g} s_{\\mathit{pag}} + 2 \\, \\pi_{a} \\pi_{t} s_{\\mathit{pat}} + 2 \\, \\pi_{c} \\pi_{g} s_{\\mathit{pcg}} + 2 \\, \\pi_{c} \\pi_{t} s_{\\mathit{pct}} + 2 \\, \\pi_{g} \\pi_{t} s_{\\mathit{pgt}}$"
      ],
      "text/plain": [
       "2*pi_a*pi_c*s_mac + 2*pi_a*pi_g*s_mag + 2*pi_a*pi_t*s_mat + 2*pi_c*pi_g*s_mcg + 2*pi_c*pi_t*s_mct + 2*pi_g*pi_t*s_mgt + 2*pi_a*pi_c*s_pac + 2*pi_a*pi_g*s_pag + 2*pi_a*pi_t*s_pat + 2*pi_c*pi_g*s_pcg + 2*pi_c*pi_t*s_pct + 2*pi_g*pi_t*s_pgt"
      ]
     },
     "metadata": {},
     "output_type": "display_data"
    }
   ],
   "source": [
    "pretty_print(mu_gtr16v)"
   ]
  },
  {
   "cell_type": "markdown",
   "id": "5bb79f7e-42af-49e3-8766-6cf043d89ee9",
   "metadata": {},
   "source": [
    "## unphased"
   ]
  },
  {
   "cell_type": "code",
   "execution_count": 89,
   "id": "322e41e8-9a7a-440e-b413-fd7acb0cc1a4",
   "metadata": {},
   "outputs": [
    {
     "data": {
      "text/plain": [
       "[1 0 0 0 0 0 0 0 0 0]\n",
       "[0 0 0 0 1 0 0 0 0 0]\n",
       "[0 0 0 0 0 1 0 0 0 0]\n",
       "[0 0 0 0 0 0 1 0 0 0]\n",
       "[0 0 0 0 1 0 0 0 0 0]\n",
       "[0 1 0 0 0 0 0 0 0 0]\n",
       "[0 0 0 0 0 0 0 1 0 0]\n",
       "[0 0 0 0 0 0 0 0 1 0]\n",
       "[0 0 0 0 0 1 0 0 0 0]\n",
       "[0 0 0 0 0 0 0 1 0 0]\n",
       "[0 0 1 0 0 0 0 0 0 0]\n",
       "[0 0 0 0 0 0 0 0 0 1]\n",
       "[0 0 0 0 0 0 1 0 0 0]\n",
       "[0 0 0 0 0 0 0 0 1 0]\n",
       "[0 0 0 0 0 0 0 0 0 1]\n",
       "[0 0 0 1 0 0 0 0 0 0]"
      ]
     },
     "execution_count": 89,
     "metadata": {},
     "output_type": "execute_result"
    }
   ],
   "source": [
    "V = matrix([\n",
    "    # fmt: off\n",
    "    # AA , CC ,  GG ,  TT ,  AC , AG ,  AT ,  CG , CT ,  GT\n",
    "    [1   , 0   , 0   , 0   , 0  , 0   , 0   , 0  , 0   , 0],  # AA\n",
    "    [0   , 0   , 0   , 0   , 1  , 0   , 0   , 0  , 0   , 0],  # AC\n",
    "    [0   , 0   , 0   , 0   , 0  , 1   , 0   , 0  , 0   , 0],  # AG\n",
    "    [0   , 0   , 0   , 0   , 0  , 0   , 1   , 0  , 0   , 0],  # AT\n",
    "    [0   , 0   , 0   , 0   , 1  , 0   , 0   , 0  , 0   , 0],  # CA\n",
    "    [0   , 1   , 0   , 0   , 0  , 0   , 0   , 0  , 0   , 0],  # CC\n",
    "    [0   , 0   , 0   , 0   , 0  , 0   , 0   , 1  , 0   , 0],  # CG\n",
    "    [0   , 0   , 0   , 0   , 0  , 0   , 0   , 0  , 1   , 0],  # CT\n",
    "    [0   , 0   , 0   , 0   , 0  , 1   , 0   , 0  , 0   , 0],  # GA\n",
    "    [0   , 0   , 0   , 0   , 0  , 0   , 0   , 1  , 0   , 0],  # GC\n",
    "    [0   , 0   , 1   , 0   , 0  , 0   , 0   , 0  , 0   , 0],  # GG\n",
    "    [0   , 0   , 0   , 0   , 0  , 0   , 0   , 0  , 0   , 1],  # GT\n",
    "    [0   , 0   , 0   , 0   , 0  , 0   , 1   , 0  , 0   , 0],  # TA\n",
    "    [0   , 0   , 0   , 0   , 0  , 0   , 0   , 0  , 1   , 0],  # TC\n",
    "    [0   , 0   , 0   , 0   , 0  , 0   , 0   , 0  , 0   , 1],  # TG\n",
    "    [0   , 0   , 0   , 1   , 0  , 0   , 0   , 0  , 0   , 0],  # TT\n",
    "    # fmt: on\n",
    "])\n",
    "\n",
    "\n",
    "V"
   ]
  },
  {
   "cell_type": "code",
   "execution_count": 90,
   "id": "8ac6d9f3-5811-4ce1-9490-b391f4c5cc27",
   "metadata": {},
   "outputs": [
    {
     "data": {
      "text/plain": [
       "[1 0 0 0 0 0 0 0 0 0]\n",
       "[0 1 0 0 0 0 0 0 0 0]\n",
       "[0 0 1 0 0 0 0 0 0 0]\n",
       "[0 0 0 1 0 0 0 0 0 0]\n",
       "[0 0 0 0 1 0 0 0 0 0]\n",
       "[0 0 0 0 0 1 0 0 0 0]\n",
       "[0 0 0 0 0 0 1 0 0 0]\n",
       "[0 0 0 0 0 0 0 1 0 0]\n",
       "[0 0 0 0 0 0 0 0 1 0]\n",
       "[0 0 0 0 0 0 0 0 0 1]"
      ]
     },
     "execution_count": 90,
     "metadata": {},
     "output_type": "execute_result"
    }
   ],
   "source": [
    "V.pseudoinverse() * V"
   ]
  },
  {
   "cell_type": "code",
   "execution_count": 91,
   "id": "c8196075-0de5-4b9e-a21f-377884f87e9b",
   "metadata": {},
   "outputs": [
    {
     "data": {
      "text/plain": [
       "[  1   0   0   0   0   0   0   0   0   0   0   0   0   0   0   0]\n",
       "[  0   0   0   0   0   1   0   0   0   0   0   0   0   0   0   0]\n",
       "[  0   0   0   0   0   0   0   0   0   0   1   0   0   0   0   0]\n",
       "[  0   0   0   0   0   0   0   0   0   0   0   0   0   0   0   1]\n",
       "[  0 1/2   0   0 1/2   0   0   0   0   0   0   0   0   0   0   0]\n",
       "[  0   0 1/2   0   0   0   0   0 1/2   0   0   0   0   0   0   0]\n",
       "[  0   0   0 1/2   0   0   0   0   0   0   0   0 1/2   0   0   0]\n",
       "[  0   0   0   0   0   0 1/2   0   0 1/2   0   0   0   0   0   0]\n",
       "[  0   0   0   0   0   0   0 1/2   0   0   0   0   0 1/2   0   0]\n",
       "[  0   0   0   0   0   0   0   0   0   0   0 1/2   0   0 1/2   0]"
      ]
     },
     "execution_count": 91,
     "metadata": {},
     "output_type": "execute_result"
    }
   ],
   "source": [
    "U = V.pseudoinverse()\n",
    "U"
   ]
  },
  {
   "cell_type": "code",
   "execution_count": 92,
   "id": "9b69422a-41f1-43eb-8341-ff2d907d31f1",
   "metadata": {},
   "outputs": [
    {
     "data": {
      "text/html": [
       "<html>\\(\\displaystyle \\left(\\begin{array}{rrrrrrrrrr}\n",
       "0 & 0 & 0 & 0 & 2 \\, \\pi_{c} s_{\\mathit{ac}} & 2 \\, \\pi_{g} s_{\\mathit{ag}} & 2 \\, \\pi_{t} s_{\\mathit{at}} & 0 & 0 & 0 \\\\\n",
       "0 & 0 & 0 & 0 & 2 \\, \\pi_{a} s_{\\mathit{ac}} & 0 & 0 & 2 \\, \\pi_{g} s_{\\mathit{cg}} & 2 \\, \\pi_{t} s_{\\mathit{ct}} & 0 \\\\\n",
       "0 & 0 & 0 & 0 & 0 & 2 \\, \\pi_{a} s_{\\mathit{ag}} & 0 & 2 \\, \\pi_{c} s_{\\mathit{cg}} & 0 & 2 \\, \\pi_{t} s_{\\mathit{gt}} \\\\\n",
       "0 & 0 & 0 & 0 & 0 & 0 & 2 \\, \\pi_{a} s_{\\mathit{at}} & 0 & 2 \\, \\pi_{c} s_{\\mathit{ct}} & 2 \\, \\pi_{g} s_{\\mathit{gt}} \\\\\n",
       "\\pi_{a} s_{\\mathit{ac}} & \\pi_{c} s_{\\mathit{ac}} & 0 & 0 & 0 & \\pi_{g} s_{\\mathit{cg}} & \\pi_{t} s_{\\mathit{ct}} & \\pi_{g} s_{\\mathit{ag}} & \\pi_{t} s_{\\mathit{at}} & 0 \\\\\n",
       "\\pi_{a} s_{\\mathit{ag}} & 0 & \\pi_{g} s_{\\mathit{ag}} & 0 & \\pi_{c} s_{\\mathit{cg}} & 0 & \\pi_{t} s_{\\mathit{gt}} & \\pi_{c} s_{\\mathit{ac}} & 0 & \\pi_{t} s_{\\mathit{at}} \\\\\n",
       "\\pi_{a} s_{\\mathit{at}} & 0 & 0 & \\pi_{t} s_{\\mathit{at}} & \\pi_{c} s_{\\mathit{ct}} & \\pi_{g} s_{\\mathit{gt}} & 0 & 0 & \\pi_{c} s_{\\mathit{ac}} & \\pi_{g} s_{\\mathit{ag}} \\\\\n",
       "0 & \\pi_{c} s_{\\mathit{cg}} & \\pi_{g} s_{\\mathit{cg}} & 0 & \\pi_{a} s_{\\mathit{ag}} & \\pi_{a} s_{\\mathit{ac}} & 0 & 0 & \\pi_{t} s_{\\mathit{gt}} & \\pi_{t} s_{\\mathit{ct}} \\\\\n",
       "0 & \\pi_{c} s_{\\mathit{ct}} & 0 & \\pi_{t} s_{\\mathit{ct}} & \\pi_{a} s_{\\mathit{at}} & 0 & \\pi_{a} s_{\\mathit{ac}} & \\pi_{g} s_{\\mathit{gt}} & 0 & \\pi_{g} s_{\\mathit{cg}} \\\\\n",
       "0 & 0 & \\pi_{g} s_{\\mathit{gt}} & \\pi_{t} s_{\\mathit{gt}} & 0 & \\pi_{a} s_{\\mathit{at}} & \\pi_{a} s_{\\mathit{ag}} & \\pi_{c} s_{\\mathit{ct}} & \\pi_{c} s_{\\mathit{cg}} & 0\n",
       "\\end{array}\\right)\\)</html>"
      ],
      "text/latex": [
       "$\\displaystyle \\left(\\begin{array}{rrrrrrrrrr}\n",
       "0 & 0 & 0 & 0 & 2 \\, \\pi_{c} s_{\\mathit{ac}} & 2 \\, \\pi_{g} s_{\\mathit{ag}} & 2 \\, \\pi_{t} s_{\\mathit{at}} & 0 & 0 & 0 \\\\\n",
       "0 & 0 & 0 & 0 & 2 \\, \\pi_{a} s_{\\mathit{ac}} & 0 & 0 & 2 \\, \\pi_{g} s_{\\mathit{cg}} & 2 \\, \\pi_{t} s_{\\mathit{ct}} & 0 \\\\\n",
       "0 & 0 & 0 & 0 & 0 & 2 \\, \\pi_{a} s_{\\mathit{ag}} & 0 & 2 \\, \\pi_{c} s_{\\mathit{cg}} & 0 & 2 \\, \\pi_{t} s_{\\mathit{gt}} \\\\\n",
       "0 & 0 & 0 & 0 & 0 & 0 & 2 \\, \\pi_{a} s_{\\mathit{at}} & 0 & 2 \\, \\pi_{c} s_{\\mathit{ct}} & 2 \\, \\pi_{g} s_{\\mathit{gt}} \\\\\n",
       "\\pi_{a} s_{\\mathit{ac}} & \\pi_{c} s_{\\mathit{ac}} & 0 & 0 & 0 & \\pi_{g} s_{\\mathit{cg}} & \\pi_{t} s_{\\mathit{ct}} & \\pi_{g} s_{\\mathit{ag}} & \\pi_{t} s_{\\mathit{at}} & 0 \\\\\n",
       "\\pi_{a} s_{\\mathit{ag}} & 0 & \\pi_{g} s_{\\mathit{ag}} & 0 & \\pi_{c} s_{\\mathit{cg}} & 0 & \\pi_{t} s_{\\mathit{gt}} & \\pi_{c} s_{\\mathit{ac}} & 0 & \\pi_{t} s_{\\mathit{at}} \\\\\n",
       "\\pi_{a} s_{\\mathit{at}} & 0 & 0 & \\pi_{t} s_{\\mathit{at}} & \\pi_{c} s_{\\mathit{ct}} & \\pi_{g} s_{\\mathit{gt}} & 0 & 0 & \\pi_{c} s_{\\mathit{ac}} & \\pi_{g} s_{\\mathit{ag}} \\\\\n",
       "0 & \\pi_{c} s_{\\mathit{cg}} & \\pi_{g} s_{\\mathit{cg}} & 0 & \\pi_{a} s_{\\mathit{ag}} & \\pi_{a} s_{\\mathit{ac}} & 0 & 0 & \\pi_{t} s_{\\mathit{gt}} & \\pi_{t} s_{\\mathit{ct}} \\\\\n",
       "0 & \\pi_{c} s_{\\mathit{ct}} & 0 & \\pi_{t} s_{\\mathit{ct}} & \\pi_{a} s_{\\mathit{at}} & 0 & \\pi_{a} s_{\\mathit{ac}} & \\pi_{g} s_{\\mathit{gt}} & 0 & \\pi_{g} s_{\\mathit{cg}} \\\\\n",
       "0 & 0 & \\pi_{g} s_{\\mathit{gt}} & \\pi_{t} s_{\\mathit{gt}} & 0 & \\pi_{a} s_{\\mathit{at}} & \\pi_{a} s_{\\mathit{ag}} & \\pi_{c} s_{\\mathit{ct}} & \\pi_{c} s_{\\mathit{cg}} & 0\n",
       "\\end{array}\\right)$"
      ],
      "text/plain": [
       "[          0           0           0           0 2*pi_c*s_ac 2*pi_g*s_ag 2*pi_t*s_at           0           0           0]\n",
       "[          0           0           0           0 2*pi_a*s_ac           0           0 2*pi_g*s_cg 2*pi_t*s_ct           0]\n",
       "[          0           0           0           0           0 2*pi_a*s_ag           0 2*pi_c*s_cg           0 2*pi_t*s_gt]\n",
       "[          0           0           0           0           0           0 2*pi_a*s_at           0 2*pi_c*s_ct 2*pi_g*s_gt]\n",
       "[  pi_a*s_ac   pi_c*s_ac           0           0           0   pi_g*s_cg   pi_t*s_ct   pi_g*s_ag   pi_t*s_at           0]\n",
       "[  pi_a*s_ag           0   pi_g*s_ag           0   pi_c*s_cg           0   pi_t*s_gt   pi_c*s_ac           0   pi_t*s_at]\n",
       "[  pi_a*s_at           0           0   pi_t*s_at   pi_c*s_ct   pi_g*s_gt           0           0   pi_c*s_ac   pi_g*s_ag]\n",
       "[          0   pi_c*s_cg   pi_g*s_cg           0   pi_a*s_ag   pi_a*s_ac           0           0   pi_t*s_gt   pi_t*s_ct]\n",
       "[          0   pi_c*s_ct           0   pi_t*s_ct   pi_a*s_at           0   pi_a*s_ac   pi_g*s_gt           0   pi_g*s_cg]\n",
       "[          0           0   pi_g*s_gt   pi_t*s_gt           0   pi_a*s_at   pi_a*s_ag   pi_c*s_ct   pi_c*s_cg           0]"
      ]
     },
     "metadata": {},
     "output_type": "display_data"
    }
   ],
   "source": [
    "qgtr16uph = U * qgtr16 * V\n",
    "pretty_print(qgtr16uph - diagonal_matrix(qgtr16uph.diagonal()))"
   ]
  },
  {
   "cell_type": "code",
   "execution_count": 93,
   "id": "378c44a0-8fe6-4faa-bc56-dd697d0d6c8e",
   "metadata": {},
   "outputs": [
    {
     "name": "stdout",
     "output_type": "stream",
     "text": [
      "array([[-2*pi_c, -2*pi_g, -2*pi_t, 0, 0, 0],\n",
      "       [0, 0, 0, 0, 0, 0],\n",
      "       [0, 0, 0, 0, 0, 0],\n",
      "       [0, 0, 0, 0, 0, 0],\n",
      "       [2*pi_c, 0, 0, 0, 0, 0],\n",
      "       [0, 2*pi_g, 0, 0, 0, 0],\n",
      "       [0, 0, 2*pi_t, 0, 0, 0],\n",
      "       [0, 0, 0, 0, 0, 0],\n",
      "       [0, 0, 0, 0, 0, 0],\n",
      "       [0, 0, 0, 0, 0, 0],\n",
      "       [0, 0, 0, 0, 0, 0],\n",
      "       [-2*pi_a, 0, 0, -2*pi_g, -2*pi_t, 0],\n",
      "       [0, 0, 0, 0, 0, 0],\n",
      "       [0, 0, 0, 0, 0, 0],\n",
      "       [2*pi_a, 0, 0, 0, 0, 0],\n",
      "       [0, 0, 0, 0, 0, 0],\n",
      "       [0, 0, 0, 0, 0, 0],\n",
      "       [0, 0, 0, 2*pi_g, 0, 0],\n",
      "       [0, 0, 0, 0, 2*pi_t, 0],\n",
      "       [0, 0, 0, 0, 0, 0],\n",
      "       [0, 0, 0, 0, 0, 0],\n",
      "       [0, 0, 0, 0, 0, 0],\n",
      "       [0, -2*pi_a, 0, -2*pi_c, 0, -2*pi_t],\n",
      "       [0, 0, 0, 0, 0, 0],\n",
      "       [0, 0, 0, 0, 0, 0],\n",
      "       [0, 2*pi_a, 0, 0, 0, 0],\n",
      "       [0, 0, 0, 0, 0, 0],\n",
      "       [0, 0, 0, 2*pi_c, 0, 0],\n",
      "       [0, 0, 0, 0, 0, 0],\n",
      "       [0, 0, 0, 0, 0, 2*pi_t],\n",
      "       [0, 0, 0, 0, 0, 0],\n",
      "       [0, 0, 0, 0, 0, 0],\n",
      "       [0, 0, 0, 0, 0, 0],\n",
      "       [0, 0, -2*pi_a, 0, -2*pi_c, -2*pi_g],\n",
      "       [0, 0, 0, 0, 0, 0],\n",
      "       [0, 0, 0, 0, 0, 0],\n",
      "       [0, 0, 2*pi_a, 0, 0, 0],\n",
      "       [0, 0, 0, 0, 0, 0],\n",
      "       [0, 0, 0, 0, 2*pi_c, 0],\n",
      "       [0, 0, 0, 0, 0, 2*pi_g],\n",
      "       [pi_a, 0, 0, 0, 0, 0],\n",
      "       [pi_c, 0, 0, 0, 0, 0],\n",
      "       [0, 0, 0, 0, 0, 0],\n",
      "       [0, 0, 0, 0, 0, 0],\n",
      "       [-pi_a - pi_c, -pi_g, -pi_t, -pi_g, -pi_t, 0],\n",
      "       [0, 0, 0, pi_g, 0, 0],\n",
      "       [0, 0, 0, 0, pi_t, 0],\n",
      "       [0, pi_g, 0, 0, 0, 0],\n",
      "       [0, 0, pi_t, 0, 0, 0],\n",
      "       [0, 0, 0, 0, 0, 0],\n",
      "       [0, pi_a, 0, 0, 0, 0],\n",
      "       [0, 0, 0, 0, 0, 0],\n",
      "       [0, pi_g, 0, 0, 0, 0],\n",
      "       [0, 0, 0, 0, 0, 0],\n",
      "       [0, 0, 0, pi_c, 0, 0],\n",
      "       [-pi_c, -pi_a - pi_g, -pi_t, -pi_c, 0, -pi_t],\n",
      "       [0, 0, 0, 0, 0, pi_t],\n",
      "       [pi_c, 0, 0, 0, 0, 0],\n",
      "       [0, 0, 0, 0, 0, 0],\n",
      "       [0, 0, pi_t, 0, 0, 0],\n",
      "       [0, 0, pi_a, 0, 0, 0],\n",
      "       [0, 0, 0, 0, 0, 0],\n",
      "       [0, 0, 0, 0, 0, 0],\n",
      "       [0, 0, pi_t, 0, 0, 0],\n",
      "       [0, 0, 0, 0, pi_c, 0],\n",
      "       [0, 0, 0, 0, 0, pi_g],\n",
      "       [-pi_c, -pi_g, -pi_a - pi_t, 0, -pi_c, -pi_g],\n",
      "       [0, 0, 0, 0, 0, 0],\n",
      "       [pi_c, 0, 0, 0, 0, 0],\n",
      "       [0, pi_g, 0, 0, 0, 0],\n",
      "       [0, 0, 0, 0, 0, 0],\n",
      "       [0, 0, 0, pi_c, 0, 0],\n",
      "       [0, 0, 0, pi_g, 0, 0],\n",
      "       [0, 0, 0, 0, 0, 0],\n",
      "       [0, pi_a, 0, 0, 0, 0],\n",
      "       [pi_a, 0, 0, 0, 0, 0],\n",
      "       [0, 0, 0, 0, 0, 0],\n",
      "       [-pi_a, -pi_a, 0, -pi_c - pi_g, -pi_t, -pi_t],\n",
      "       [0, 0, 0, 0, 0, pi_t],\n",
      "       [0, 0, 0, 0, pi_t, 0],\n",
      "       [0, 0, 0, 0, 0, 0],\n",
      "       [0, 0, 0, 0, pi_c, 0],\n",
      "       [0, 0, 0, 0, 0, 0],\n",
      "       [0, 0, 0, 0, pi_t, 0],\n",
      "       [0, 0, pi_a, 0, 0, 0],\n",
      "       [0, 0, 0, 0, 0, 0],\n",
      "       [pi_a, 0, 0, 0, 0, 0],\n",
      "       [0, 0, 0, 0, 0, pi_g],\n",
      "       [-pi_a, 0, -pi_a, -pi_g, -pi_c - pi_t, -pi_g],\n",
      "       [0, 0, 0, pi_g, 0, 0],\n",
      "       [0, 0, 0, 0, 0, 0],\n",
      "       [0, 0, 0, 0, 0, 0],\n",
      "       [0, 0, 0, 0, 0, pi_g],\n",
      "       [0, 0, 0, 0, 0, pi_t],\n",
      "       [0, 0, 0, 0, 0, 0],\n",
      "       [0, 0, pi_a, 0, 0, 0],\n",
      "       [0, pi_a, 0, 0, 0, 0],\n",
      "       [0, 0, 0, 0, pi_c, 0],\n",
      "       [0, 0, 0, pi_c, 0, 0],\n",
      "       [0, -pi_a, -pi_a, -pi_c, -pi_c, -pi_g - pi_t]], dtype=object)\n"
     ]
    }
   ],
   "source": [
    "np.set_printoptions(threshold=sys.maxsize)\n",
    "\n",
    "print(repr(np.array([vector([vi.coefficient(s) for vi in vector(list(itertools.chain.from_iterable(map(list, list(qgtr16uph)))))])\n",
    "                     for s in [s_ac, s_ag, s_at, s_cg, s_ct, s_gt]\n",
    "                    ]).transpose()))"
   ]
  },
  {
   "cell_type": "code",
   "execution_count": 94,
   "id": "809a82d8-cb53-42af-b739-55dded9541a6",
   "metadata": {},
   "outputs": [
    {
     "data": {
      "text/html": [
       "<html>\\(\\displaystyle 4 \\, {\\left(\\pi_{a}^{2} \\pi_{c} + \\pi_{a} \\pi_{c}^{2} + \\pi_{a} \\pi_{c} \\pi_{g} + \\pi_{a} \\pi_{c} \\pi_{t}\\right)} s_{\\mathit{ac}} + 4 \\, {\\left(\\pi_{a} \\pi_{g}^{2} + \\pi_{a} \\pi_{g} \\pi_{t} + {\\left(\\pi_{a}^{2} + \\pi_{a} \\pi_{c}\\right)} \\pi_{g}\\right)} s_{\\mathit{ag}} + 4 \\, {\\left(\\pi_{a} \\pi_{t}^{2} + {\\left(\\pi_{a}^{2} + \\pi_{a} \\pi_{c} + \\pi_{a} \\pi_{g}\\right)} \\pi_{t}\\right)} s_{\\mathit{at}} + 4 \\, {\\left(\\pi_{c} \\pi_{g}^{2} + \\pi_{c} \\pi_{g} \\pi_{t} + {\\left(\\pi_{a} \\pi_{c} + \\pi_{c}^{2}\\right)} \\pi_{g}\\right)} s_{\\mathit{cg}} + 4 \\, {\\left(\\pi_{c} \\pi_{t}^{2} + {\\left(\\pi_{a} \\pi_{c} + \\pi_{c}^{2} + \\pi_{c} \\pi_{g}\\right)} \\pi_{t}\\right)} s_{\\mathit{ct}} + 4 \\, {\\left(\\pi_{g} \\pi_{t}^{2} + {\\left({\\left(\\pi_{a} + \\pi_{c}\\right)} \\pi_{g} + \\pi_{g}^{2}\\right)} \\pi_{t}\\right)} s_{\\mathit{gt}}\\)</html>"
      ],
      "text/latex": [
       "$\\displaystyle 4 \\, {\\left(\\pi_{a}^{2} \\pi_{c} + \\pi_{a} \\pi_{c}^{2} + \\pi_{a} \\pi_{c} \\pi_{g} + \\pi_{a} \\pi_{c} \\pi_{t}\\right)} s_{\\mathit{ac}} + 4 \\, {\\left(\\pi_{a} \\pi_{g}^{2} + \\pi_{a} \\pi_{g} \\pi_{t} + {\\left(\\pi_{a}^{2} + \\pi_{a} \\pi_{c}\\right)} \\pi_{g}\\right)} s_{\\mathit{ag}} + 4 \\, {\\left(\\pi_{a} \\pi_{t}^{2} + {\\left(\\pi_{a}^{2} + \\pi_{a} \\pi_{c} + \\pi_{a} \\pi_{g}\\right)} \\pi_{t}\\right)} s_{\\mathit{at}} + 4 \\, {\\left(\\pi_{c} \\pi_{g}^{2} + \\pi_{c} \\pi_{g} \\pi_{t} + {\\left(\\pi_{a} \\pi_{c} + \\pi_{c}^{2}\\right)} \\pi_{g}\\right)} s_{\\mathit{cg}} + 4 \\, {\\left(\\pi_{c} \\pi_{t}^{2} + {\\left(\\pi_{a} \\pi_{c} + \\pi_{c}^{2} + \\pi_{c} \\pi_{g}\\right)} \\pi_{t}\\right)} s_{\\mathit{ct}} + 4 \\, {\\left(\\pi_{g} \\pi_{t}^{2} + {\\left({\\left(\\pi_{a} + \\pi_{c}\\right)} \\pi_{g} + \\pi_{g}^{2}\\right)} \\pi_{t}\\right)} s_{\\mathit{gt}}$"
      ],
      "text/plain": [
       "4*(pi_a^2*pi_c + pi_a*pi_c^2 + pi_a*pi_c*pi_g + pi_a*pi_c*pi_t)*s_ac + 4*(pi_a*pi_g^2 + pi_a*pi_g*pi_t + (pi_a^2 + pi_a*pi_c)*pi_g)*s_ag + 4*(pi_a*pi_t^2 + (pi_a^2 + pi_a*pi_c + pi_a*pi_g)*pi_t)*s_at + 4*(pi_c*pi_g^2 + pi_c*pi_g*pi_t + (pi_a*pi_c + pi_c^2)*pi_g)*s_cg + 4*(pi_c*pi_t^2 + (pi_a*pi_c + pi_c^2 + pi_c*pi_g)*pi_t)*s_ct + 4*(pi_g*pi_t^2 + ((pi_a + pi_c)*pi_g + pi_g^2)*pi_t)*s_gt"
      ]
     },
     "metadata": {},
     "output_type": "display_data"
    }
   ],
   "source": [
    "mu_gtr16uph = - (pis16 * V) * vector(qgtr16uph.diagonal())\n",
    "\n",
    "pretty_print(\n",
    "    mu_gtr16uph.expand().simplify_full()\n",
    ")"
   ]
  },
  {
   "cell_type": "code",
   "execution_count": 95,
   "id": "f1225ecd-e4de-42f2-b169-41fc59edafc5",
   "metadata": {},
   "outputs": [
    {
     "data": {
      "text/html": [
       "<html>\\(\\displaystyle -\\frac{1}{4} \\, {\\left(3 \\, s_{\\mathit{ac}} + 3 \\, s_{\\mathit{ag}} + 3 \\, s_{\\mathit{at}} - s_{\\mathit{cg}} - s_{\\mathit{ct}} - s_{\\mathit{gt}}\\right)} \\tau_{1}^{2} + {\\left(s_{\\mathit{ac}} - s_{\\mathit{ag}} - s_{\\mathit{at}} - s_{\\mathit{cg}} - s_{\\mathit{ct}} + s_{\\mathit{gt}}\\right)} \\tau_{2}^{2} + \\frac{1}{4} \\, {\\left(s_{\\mathit{ac}} + s_{\\mathit{ag}} - 3 \\, s_{\\mathit{at}} + s_{\\mathit{cg}} - 3 \\, s_{\\mathit{ct}} - 3 \\, s_{\\mathit{gt}}\\right)} \\tau_{3}^{2} - \\frac{1}{2} \\, {\\left(s_{\\mathit{ac}} + s_{\\mathit{ag}} + s_{\\mathit{at}} - s_{\\mathit{cg}} - s_{\\mathit{ct}} - s_{\\mathit{gt}}\\right)} \\tau_{1} + {\\left({\\left(s_{\\mathit{ac}} - 2 \\, s_{\\mathit{ag}} - 2 \\, s_{\\mathit{at}} + s_{\\mathit{gt}}\\right)} \\tau_{1} - s_{\\mathit{ac}} + s_{\\mathit{gt}}\\right)} \\tau_{2} + \\frac{1}{2} \\, {\\left({\\left(s_{\\mathit{ac}} + s_{\\mathit{ag}} - 5 \\, s_{\\mathit{at}} - s_{\\mathit{cg}} + s_{\\mathit{ct}} + s_{\\mathit{gt}}\\right)} \\tau_{1} + 2 \\, {\\left(s_{\\mathit{ac}} - 2 \\, s_{\\mathit{at}} - 2 \\, s_{\\mathit{ct}} + s_{\\mathit{gt}}\\right)} \\tau_{2} - s_{\\mathit{ac}} - s_{\\mathit{ag}} + s_{\\mathit{at}} - s_{\\mathit{cg}} + s_{\\mathit{ct}} + s_{\\mathit{gt}}\\right)} \\tau_{3} + \\frac{1}{4} \\, s_{\\mathit{ac}} + \\frac{1}{4} \\, s_{\\mathit{ag}} + \\frac{1}{4} \\, s_{\\mathit{at}} + \\frac{1}{4} \\, s_{\\mathit{cg}} + \\frac{1}{4} \\, s_{\\mathit{ct}} + \\frac{1}{4} \\, s_{\\mathit{gt}}\\)</html>"
      ],
      "text/latex": [
       "$\\displaystyle -\\frac{1}{4} \\, {\\left(3 \\, s_{\\mathit{ac}} + 3 \\, s_{\\mathit{ag}} + 3 \\, s_{\\mathit{at}} - s_{\\mathit{cg}} - s_{\\mathit{ct}} - s_{\\mathit{gt}}\\right)} \\tau_{1}^{2} + {\\left(s_{\\mathit{ac}} - s_{\\mathit{ag}} - s_{\\mathit{at}} - s_{\\mathit{cg}} - s_{\\mathit{ct}} + s_{\\mathit{gt}}\\right)} \\tau_{2}^{2} + \\frac{1}{4} \\, {\\left(s_{\\mathit{ac}} + s_{\\mathit{ag}} - 3 \\, s_{\\mathit{at}} + s_{\\mathit{cg}} - 3 \\, s_{\\mathit{ct}} - 3 \\, s_{\\mathit{gt}}\\right)} \\tau_{3}^{2} - \\frac{1}{2} \\, {\\left(s_{\\mathit{ac}} + s_{\\mathit{ag}} + s_{\\mathit{at}} - s_{\\mathit{cg}} - s_{\\mathit{ct}} - s_{\\mathit{gt}}\\right)} \\tau_{1} + {\\left({\\left(s_{\\mathit{ac}} - 2 \\, s_{\\mathit{ag}} - 2 \\, s_{\\mathit{at}} + s_{\\mathit{gt}}\\right)} \\tau_{1} - s_{\\mathit{ac}} + s_{\\mathit{gt}}\\right)} \\tau_{2} + \\frac{1}{2} \\, {\\left({\\left(s_{\\mathit{ac}} + s_{\\mathit{ag}} - 5 \\, s_{\\mathit{at}} - s_{\\mathit{cg}} + s_{\\mathit{ct}} + s_{\\mathit{gt}}\\right)} \\tau_{1} + 2 \\, {\\left(s_{\\mathit{ac}} - 2 \\, s_{\\mathit{at}} - 2 \\, s_{\\mathit{ct}} + s_{\\mathit{gt}}\\right)} \\tau_{2} - s_{\\mathit{ac}} - s_{\\mathit{ag}} + s_{\\mathit{at}} - s_{\\mathit{cg}} + s_{\\mathit{ct}} + s_{\\mathit{gt}}\\right)} \\tau_{3} + \\frac{1}{4} \\, s_{\\mathit{ac}} + \\frac{1}{4} \\, s_{\\mathit{ag}} + \\frac{1}{4} \\, s_{\\mathit{at}} + \\frac{1}{4} \\, s_{\\mathit{cg}} + \\frac{1}{4} \\, s_{\\mathit{ct}} + \\frac{1}{4} \\, s_{\\mathit{gt}}$"
      ],
      "text/plain": [
       "-1/4*(3*s_ac + 3*s_ag + 3*s_at - s_cg - s_ct - s_gt)*tau_1^2 + (s_ac - s_ag - s_at - s_cg - s_ct + s_gt)*tau_2^2 + 1/4*(s_ac + s_ag - 3*s_at + s_cg - 3*s_ct - 3*s_gt)*tau_3^2 - 1/2*(s_ac + s_ag + s_at - s_cg - s_ct - s_gt)*tau_1 + ((s_ac - 2*s_ag - 2*s_at + s_gt)*tau_1 - s_ac + s_gt)*tau_2 + 1/2*((s_ac + s_ag - 5*s_at - s_cg + s_ct + s_gt)*tau_1 + 2*(s_ac - 2*s_at - 2*s_ct + s_gt)*tau_2 - s_ac - s_ag + s_at - s_cg + s_ct + s_gt)*tau_3 + 1/4*s_ac + 1/4*s_ag + 1/4*s_at + 1/4*s_cg + 1/4*s_ct + 1/4*s_gt"
      ]
     },
     "metadata": {},
     "output_type": "display_data"
    }
   ],
   "source": [
    "temp = (\n",
    "    mu_gtr16uph(pi_t=tau_3+pi_g)(pi_g=tau_2+pi_c)(pi_c=tau_1+pi_a)(pi_a=(1-3*tau_1-2*tau_2-tau_3)/4)\n",
    ").simplify_full()\n",
    "pretty_print(temp)"
   ]
  },
  {
   "cell_type": "code",
   "execution_count": 96,
   "id": "85398fc3-731d-4cd1-8399-ab042576dfc2",
   "metadata": {},
   "outputs": [
    {
     "name": "stdout",
     "output_type": "stream",
     "text": [
      "-3/4*pi_a^2*s_ac + 5/2*pi_a*pi_c*s_ac - 3/4*pi_c^2*s_ac - 1/2*pi_a*pi_g*s_ac - 1/2*pi_c*pi_g*s_ac + 1/4*pi_g^2*s_ac - 1/2*pi_a*pi_t*s_ac - 1/2*pi_c*pi_t*s_ac + 1/2*pi_g*pi_t*s_ac + 1/4*pi_t^2*s_ac - 3/4*pi_a^2*s_ag - 1/2*pi_a*pi_c*s_ag + 1/4*pi_c^2*s_ag + 5/2*pi_a*pi_g*s_ag - 1/2*pi_c*pi_g*s_ag - 3/4*pi_g^2*s_ag - 1/2*pi_a*pi_t*s_ag + 1/2*pi_c*pi_t*s_ag - 1/2*pi_g*pi_t*s_ag + 1/4*pi_t^2*s_ag - 3/4*pi_a^2*s_at - 1/2*pi_a*pi_c*s_at + 1/4*pi_c^2*s_at - 1/2*pi_a*pi_g*s_at + 1/2*pi_c*pi_g*s_at + 1/4*pi_g^2*s_at + 5/2*pi_a*pi_t*s_at - 1/2*pi_c*pi_t*s_at - 1/2*pi_g*pi_t*s_at - 3/4*pi_t^2*s_at + 1/4*pi_a^2*s_cg - 1/2*pi_a*pi_c*s_cg - 3/4*pi_c^2*s_cg - 1/2*pi_a*pi_g*s_cg + 5/2*pi_c*pi_g*s_cg - 3/4*pi_g^2*s_cg + 1/2*pi_a*pi_t*s_cg - 1/2*pi_c*pi_t*s_cg - 1/2*pi_g*pi_t*s_cg + 1/4*pi_t^2*s_cg + 1/4*pi_a^2*s_ct - 1/2*pi_a*pi_c*s_ct - 3/4*pi_c^2*s_ct + 1/2*pi_a*pi_g*s_ct - 1/2*pi_c*pi_g*s_ct + 1/4*pi_g^2*s_ct - 1/2*pi_a*pi_t*s_ct + 5/2*pi_c*pi_t*s_ct - 1/2*pi_g*pi_t*s_ct - 3/4*pi_t^2*s_ct + 1/4*pi_a^2*s_gt + 1/2*pi_a*pi_c*s_gt + 1/4*pi_c^2*s_gt - 1/2*pi_a*pi_g*s_gt - 1/2*pi_c*pi_g*s_gt - 3/4*pi_g^2*s_gt - 1/2*pi_a*pi_t*s_gt - 1/2*pi_c*pi_t*s_gt + 5/2*pi_g*pi_t*s_gt - 3/4*pi_t^2*s_gt + 1/2*pi_a*s_ac + 1/2*pi_c*s_ac - 1/2*pi_g*s_ac - 1/2*pi_t*s_ac + 1/2*pi_a*s_ag - 1/2*pi_c*s_ag + 1/2*pi_g*s_ag - 1/2*pi_t*s_ag + 1/2*pi_a*s_at - 1/2*pi_c*s_at - 1/2*pi_g*s_at + 1/2*pi_t*s_at - 1/2*pi_a*s_cg + 1/2*pi_c*s_cg + 1/2*pi_g*s_cg - 1/2*pi_t*s_cg - 1/2*pi_a*s_ct + 1/2*pi_c*s_ct - 1/2*pi_g*s_ct + 1/2*pi_t*s_ct - 1/2*pi_a*s_gt - 1/2*pi_c*s_gt + 1/2*pi_g*s_gt + 1/2*pi_t*s_gt + 1/4*s_ac + 1/4*s_ag + 1/4*s_at + 1/4*s_cg + 1/4*s_ct + 1/4*s_gt\n"
     ]
    }
   ],
   "source": [
    "mu_gtr16uph = (\n",
    "    temp(tau_1=pi_c-pi_a, tau_2 = pi_g-pi_c, tau_3=pi_t-pi_g).expand()\n",
    ").simplify_full().expand()\n",
    "print( mu_gtr16uph )"
   ]
  },
  {
   "cell_type": "code",
   "execution_count": 97,
   "id": "bc392df9-c591-4bcb-96e5-e3bbdbd0154f",
   "metadata": {},
   "outputs": [],
   "source": [
    "mu_gtr16uph = (\n",
    "    (\n",
    "        mu_gtr16uph\n",
    "        - s_ac * (\n",
    "            0\n",
    "            + 1/4 * (pi_a+pi_c+pi_g+pi_t-1)^2\n",
    "            - pi_a * (pi_a+pi_c+pi_g+pi_t-1)\n",
    "            - pi_c * (pi_a+pi_c+pi_g+pi_t-1)\n",
    "        )\n",
    "        - s_ag * (\n",
    "            0\n",
    "            + 1/4 * (pi_a+pi_c+pi_g+pi_t-1)^2\n",
    "            - pi_a * (pi_a+pi_c+pi_g+pi_t-1)\n",
    "            - pi_g * (pi_a+pi_c+pi_g+pi_t-1)\n",
    "        )\n",
    "        - s_at * (\n",
    "            0\n",
    "            + 1/4 * (pi_a+pi_c+pi_g+pi_t-1)^2\n",
    "            - pi_a * (pi_a+pi_c+pi_g+pi_t-1)\n",
    "            - pi_t * (pi_a+pi_c+pi_g+pi_t-1)\n",
    "        )\n",
    "        - s_cg * (\n",
    "            0\n",
    "            + 1/4 * (pi_a+pi_c+pi_g+pi_t-1)^2\n",
    "            - pi_c * (pi_a+pi_c+pi_g+pi_t-1)\n",
    "            - pi_g * (pi_a+pi_c+pi_g+pi_t-1)\n",
    "        )\n",
    "        - s_ct * (\n",
    "            0\n",
    "            + 1/4 * (pi_a+pi_c+pi_g+pi_t-1)^2\n",
    "            - pi_c * (pi_a+pi_c+pi_g+pi_t-1)\n",
    "            - pi_t * (pi_a+pi_c+pi_g+pi_t-1)\n",
    "        )\n",
    "        - s_gt * (\n",
    "            0\n",
    "            + 1/4 * (pi_a+pi_c+pi_g+pi_t-1)^2\n",
    "            - pi_g * (pi_a+pi_c+pi_g+pi_t-1)\n",
    "            - pi_t * (pi_a+pi_c+pi_g+pi_t-1)\n",
    "        )\n",
    "    ).expand()\n",
    ")"
   ]
  },
  {
   "cell_type": "code",
   "execution_count": 98,
   "id": "0b725f5d-7992-4544-a662-810de325fee3",
   "metadata": {},
   "outputs": [
    {
     "data": {
      "text/html": [
       "<html>\\(\\displaystyle 4 \\, \\pi_{a} \\pi_{c} s_{\\mathit{ac}} + 4 \\, \\pi_{a} \\pi_{g} s_{\\mathit{ag}} + 4 \\, \\pi_{a} \\pi_{t} s_{\\mathit{at}} + 4 \\, \\pi_{c} \\pi_{g} s_{\\mathit{cg}} + 4 \\, \\pi_{c} \\pi_{t} s_{\\mathit{ct}} + 4 \\, \\pi_{g} \\pi_{t} s_{\\mathit{gt}}\\)</html>"
      ],
      "text/latex": [
       "$\\displaystyle 4 \\, \\pi_{a} \\pi_{c} s_{\\mathit{ac}} + 4 \\, \\pi_{a} \\pi_{g} s_{\\mathit{ag}} + 4 \\, \\pi_{a} \\pi_{t} s_{\\mathit{at}} + 4 \\, \\pi_{c} \\pi_{g} s_{\\mathit{cg}} + 4 \\, \\pi_{c} \\pi_{t} s_{\\mathit{ct}} + 4 \\, \\pi_{g} \\pi_{t} s_{\\mathit{gt}}$"
      ],
      "text/plain": [
       "4*pi_a*pi_c*s_ac + 4*pi_a*pi_g*s_ag + 4*pi_a*pi_t*s_at + 4*pi_c*pi_g*s_cg + 4*pi_c*pi_t*s_ct + 4*pi_g*pi_t*s_gt"
      ]
     },
     "metadata": {},
     "output_type": "display_data"
    }
   ],
   "source": [
    "pretty_print(mu_gtr16uph)"
   ]
  },
  {
   "cell_type": "markdown",
   "id": "fe393b89-dcd2-4d4e-8256-30efc85555d2",
   "metadata": {},
   "source": [
    "## 10-state F81 branch lengths"
   ]
  },
  {
   "cell_type": "code",
   "execution_count": 99,
   "id": "2139c9af-1cfb-412f-b7c3-0fb9ec70697d",
   "metadata": {},
   "outputs": [
    {
     "data": {
      "text/html": [
       "<html>\\(\\displaystyle \\left(\\begin{array}{rrrrrrrrrr}\n",
       "-2 \\, \\pi_{c} - 2 \\, \\pi_{g} - 2 \\, \\pi_{t} & 0 & 0 & 0 & 2 \\, \\pi_{c} & 2 \\, \\pi_{g} & 2 \\, \\pi_{t} & 0 & 0 & 0 \\\\\n",
       "0 & -2 \\, \\pi_{a} - 2 \\, \\pi_{g} - 2 \\, \\pi_{t} & 0 & 0 & 2 \\, \\pi_{a} & 0 & 0 & 2 \\, \\pi_{g} & 2 \\, \\pi_{t} & 0 \\\\\n",
       "0 & 0 & -2 \\, \\pi_{a} - 2 \\, \\pi_{c} - 2 \\, \\pi_{t} & 0 & 0 & 2 \\, \\pi_{a} & 0 & 2 \\, \\pi_{c} & 0 & 2 \\, \\pi_{t} \\\\\n",
       "0 & 0 & 0 & -2 \\, \\pi_{a} - 2 \\, \\pi_{c} - 2 \\, \\pi_{g} & 0 & 0 & 2 \\, \\pi_{a} & 0 & 2 \\, \\pi_{c} & 2 \\, \\pi_{g} \\\\\n",
       "\\pi_{a} & \\pi_{c} & 0 & 0 & -\\pi_{a} - \\pi_{c} - 2 \\, \\pi_{g} - 2 \\, \\pi_{t} & \\pi_{g} & \\pi_{t} & \\pi_{g} & \\pi_{t} & 0 \\\\\n",
       "\\pi_{a} & 0 & \\pi_{g} & 0 & \\pi_{c} & -\\pi_{a} - 2 \\, \\pi_{c} - \\pi_{g} - 2 \\, \\pi_{t} & \\pi_{t} & \\pi_{c} & 0 & \\pi_{t} \\\\\n",
       "\\pi_{a} & 0 & 0 & \\pi_{t} & \\pi_{c} & \\pi_{g} & -\\pi_{a} - 2 \\, \\pi_{c} - 2 \\, \\pi_{g} - \\pi_{t} & 0 & \\pi_{c} & \\pi_{g} \\\\\n",
       "0 & \\pi_{c} & \\pi_{g} & 0 & \\pi_{a} & \\pi_{a} & 0 & -2 \\, \\pi_{a} - \\pi_{c} - \\pi_{g} - 2 \\, \\pi_{t} & \\pi_{t} & \\pi_{t} \\\\\n",
       "0 & \\pi_{c} & 0 & \\pi_{t} & \\pi_{a} & 0 & \\pi_{a} & \\pi_{g} & -2 \\, \\pi_{a} - \\pi_{c} - 2 \\, \\pi_{g} - \\pi_{t} & \\pi_{g} \\\\\n",
       "0 & 0 & \\pi_{g} & \\pi_{t} & 0 & \\pi_{a} & \\pi_{a} & \\pi_{c} & \\pi_{c} & -2 \\, \\pi_{a} - 2 \\, \\pi_{c} - \\pi_{g} - \\pi_{t}\n",
       "\\end{array}\\right)\\)</html>"
      ],
      "text/latex": [
       "$\\displaystyle \\left(\\begin{array}{rrrrrrrrrr}\n",
       "-2 \\, \\pi_{c} - 2 \\, \\pi_{g} - 2 \\, \\pi_{t} & 0 & 0 & 0 & 2 \\, \\pi_{c} & 2 \\, \\pi_{g} & 2 \\, \\pi_{t} & 0 & 0 & 0 \\\\\n",
       "0 & -2 \\, \\pi_{a} - 2 \\, \\pi_{g} - 2 \\, \\pi_{t} & 0 & 0 & 2 \\, \\pi_{a} & 0 & 0 & 2 \\, \\pi_{g} & 2 \\, \\pi_{t} & 0 \\\\\n",
       "0 & 0 & -2 \\, \\pi_{a} - 2 \\, \\pi_{c} - 2 \\, \\pi_{t} & 0 & 0 & 2 \\, \\pi_{a} & 0 & 2 \\, \\pi_{c} & 0 & 2 \\, \\pi_{t} \\\\\n",
       "0 & 0 & 0 & -2 \\, \\pi_{a} - 2 \\, \\pi_{c} - 2 \\, \\pi_{g} & 0 & 0 & 2 \\, \\pi_{a} & 0 & 2 \\, \\pi_{c} & 2 \\, \\pi_{g} \\\\\n",
       "\\pi_{a} & \\pi_{c} & 0 & 0 & -\\pi_{a} - \\pi_{c} - 2 \\, \\pi_{g} - 2 \\, \\pi_{t} & \\pi_{g} & \\pi_{t} & \\pi_{g} & \\pi_{t} & 0 \\\\\n",
       "\\pi_{a} & 0 & \\pi_{g} & 0 & \\pi_{c} & -\\pi_{a} - 2 \\, \\pi_{c} - \\pi_{g} - 2 \\, \\pi_{t} & \\pi_{t} & \\pi_{c} & 0 & \\pi_{t} \\\\\n",
       "\\pi_{a} & 0 & 0 & \\pi_{t} & \\pi_{c} & \\pi_{g} & -\\pi_{a} - 2 \\, \\pi_{c} - 2 \\, \\pi_{g} - \\pi_{t} & 0 & \\pi_{c} & \\pi_{g} \\\\\n",
       "0 & \\pi_{c} & \\pi_{g} & 0 & \\pi_{a} & \\pi_{a} & 0 & -2 \\, \\pi_{a} - \\pi_{c} - \\pi_{g} - 2 \\, \\pi_{t} & \\pi_{t} & \\pi_{t} \\\\\n",
       "0 & \\pi_{c} & 0 & \\pi_{t} & \\pi_{a} & 0 & \\pi_{a} & \\pi_{g} & -2 \\, \\pi_{a} - \\pi_{c} - 2 \\, \\pi_{g} - \\pi_{t} & \\pi_{g} \\\\\n",
       "0 & 0 & \\pi_{g} & \\pi_{t} & 0 & \\pi_{a} & \\pi_{a} & \\pi_{c} & \\pi_{c} & -2 \\, \\pi_{a} - 2 \\, \\pi_{c} - \\pi_{g} - \\pi_{t}\n",
       "\\end{array}\\right)$"
      ],
      "text/plain": [
       "[     -2*pi_c - 2*pi_g - 2*pi_t                              0                              0                              0                         2*pi_c                         2*pi_g                         2*pi_t                              0                              0                              0]\n",
       "[                             0      -2*pi_a - 2*pi_g - 2*pi_t                              0                              0                         2*pi_a                              0                              0                         2*pi_g                         2*pi_t                              0]\n",
       "[                             0                              0      -2*pi_a - 2*pi_c - 2*pi_t                              0                              0                         2*pi_a                              0                         2*pi_c                              0                         2*pi_t]\n",
       "[                             0                              0                              0      -2*pi_a - 2*pi_c - 2*pi_g                              0                              0                         2*pi_a                              0                         2*pi_c                         2*pi_g]\n",
       "[                          pi_a                           pi_c                              0                              0 -pi_a - pi_c - 2*pi_g - 2*pi_t                           pi_g                           pi_t                           pi_g                           pi_t                              0]\n",
       "[                          pi_a                              0                           pi_g                              0                           pi_c -pi_a - 2*pi_c - pi_g - 2*pi_t                           pi_t                           pi_c                              0                           pi_t]\n",
       "[                          pi_a                              0                              0                           pi_t                           pi_c                           pi_g -pi_a - 2*pi_c - 2*pi_g - pi_t                              0                           pi_c                           pi_g]\n",
       "[                             0                           pi_c                           pi_g                              0                           pi_a                           pi_a                              0 -2*pi_a - pi_c - pi_g - 2*pi_t                           pi_t                           pi_t]\n",
       "[                             0                           pi_c                              0                           pi_t                           pi_a                              0                           pi_a                           pi_g -2*pi_a - pi_c - 2*pi_g - pi_t                           pi_g]\n",
       "[                             0                              0                           pi_g                           pi_t                              0                           pi_a                           pi_a                           pi_c                           pi_c -2*pi_a - 2*pi_c - pi_g - pi_t]"
      ]
     },
     "metadata": {},
     "output_type": "display_data"
    }
   ],
   "source": [
    "qf10 = U * qf16 * V\n",
    "\n",
    "pretty_print(qf10)"
   ]
  },
  {
   "cell_type": "code",
   "execution_count": 100,
   "id": "f0813e37-aa78-4743-8d21-c039d2e81cd9",
   "metadata": {},
   "outputs": [],
   "source": [
    "pf10t = exp(qf10 * t)"
   ]
  },
  {
   "cell_type": "code",
   "execution_count": 101,
   "id": "7c166798-92d8-456b-b5ec-2749ba10ada2",
   "metadata": {},
   "outputs": [],
   "source": [
    "# beta_f10 = -1 / ((pis16 * V) * vector(qf10.diagonal())).expand()\n",
    "beta_f10 = 1/mu_gtr16uph(s_ac=1,s_ag=1,s_at=1,s_cg=1,s_ct=1,s_gt=1)\n",
    "p_hat_f10t = 1 - (pis16 * V) * vector(pf10t.diagonal())"
   ]
  },
  {
   "cell_type": "code",
   "execution_count": 102,
   "id": "258ae376-0d17-41bc-afac-f48dca49bcfa",
   "metadata": {},
   "outputs": [
    {
     "data": {
      "text/html": [
       "<html>\\(\\displaystyle \\frac{1}{4 \\, {\\left(\\pi_{a} \\pi_{c} + \\pi_{a} \\pi_{g} + \\pi_{c} \\pi_{g} + \\pi_{a} \\pi_{t} + \\pi_{c} \\pi_{t} + \\pi_{g} \\pi_{t}\\right)}}\\)</html>"
      ],
      "text/latex": [
       "$\\displaystyle \\frac{1}{4 \\, {\\left(\\pi_{a} \\pi_{c} + \\pi_{a} \\pi_{g} + \\pi_{c} \\pi_{g} + \\pi_{a} \\pi_{t} + \\pi_{c} \\pi_{t} + \\pi_{g} \\pi_{t}\\right)}}$"
      ],
      "text/plain": [
       "1/4/(pi_a*pi_c + pi_a*pi_g + pi_c*pi_g + pi_a*pi_t + pi_c*pi_t + pi_g*pi_t)"
      ]
     },
     "metadata": {},
     "output_type": "display_data"
    }
   ],
   "source": [
    "pretty_print(beta_f10)"
   ]
  },
  {
   "cell_type": "code",
   "execution_count": 103,
   "id": "9370b863-a9a9-426f-8da7-cfa0506214cb",
   "metadata": {},
   "outputs": [
    {
     "data": {
      "text/html": [
       "<html>\\(\\displaystyle \\frac{51}{32} \\, \\pi_{a}^{4} e^{\\left(-t\\right)} - \\frac{17}{8} \\, \\pi_{a}^{3} \\pi_{c} e^{\\left(-t\\right)} + \\frac{73}{16} \\, \\pi_{a}^{2} \\pi_{c}^{2} e^{\\left(-t\\right)} - \\frac{17}{8} \\, \\pi_{a} \\pi_{c}^{3} e^{\\left(-t\\right)} + \\frac{51}{32} \\, \\pi_{c}^{4} e^{\\left(-t\\right)} - \\frac{17}{8} \\, \\pi_{a}^{3} \\pi_{g} e^{\\left(-t\\right)} - \\frac{11}{8} \\, \\pi_{a}^{2} \\pi_{c} \\pi_{g} e^{\\left(-t\\right)} - \\frac{11}{8} \\, \\pi_{a} \\pi_{c}^{2} \\pi_{g} e^{\\left(-t\\right)} - \\frac{17}{8} \\, \\pi_{c}^{3} \\pi_{g} e^{\\left(-t\\right)} + \\frac{73}{16} \\, \\pi_{a}^{2} \\pi_{g}^{2} e^{\\left(-t\\right)} - \\frac{11}{8} \\, \\pi_{a} \\pi_{c} \\pi_{g}^{2} e^{\\left(-t\\right)} + \\frac{73}{16} \\, \\pi_{c}^{2} \\pi_{g}^{2} e^{\\left(-t\\right)} - \\frac{17}{8} \\, \\pi_{a} \\pi_{g}^{3} e^{\\left(-t\\right)} - \\frac{17}{8} \\, \\pi_{c} \\pi_{g}^{3} e^{\\left(-t\\right)} + \\frac{51}{32} \\, \\pi_{g}^{4} e^{\\left(-t\\right)} - \\frac{17}{8} \\, \\pi_{a}^{3} \\pi_{t} e^{\\left(-t\\right)} - \\frac{11}{8} \\, \\pi_{a}^{2} \\pi_{c} \\pi_{t} e^{\\left(-t\\right)} - \\frac{11}{8} \\, \\pi_{a} \\pi_{c}^{2} \\pi_{t} e^{\\left(-t\\right)} - \\frac{17}{8} \\, \\pi_{c}^{3} \\pi_{t} e^{\\left(-t\\right)} - \\frac{11}{8} \\, \\pi_{a}^{2} \\pi_{g} \\pi_{t} e^{\\left(-t\\right)} + \\frac{33}{4} \\, \\pi_{a} \\pi_{c} \\pi_{g} \\pi_{t} e^{\\left(-t\\right)} - \\frac{11}{8} \\, \\pi_{c}^{2} \\pi_{g} \\pi_{t} e^{\\left(-t\\right)} - \\frac{11}{8} \\, \\pi_{a} \\pi_{g}^{2} \\pi_{t} e^{\\left(-t\\right)} - \\frac{11}{8} \\, \\pi_{c} \\pi_{g}^{2} \\pi_{t} e^{\\left(-t\\right)} - \\frac{17}{8} \\, \\pi_{g}^{3} \\pi_{t} e^{\\left(-t\\right)} + \\frac{73}{16} \\, \\pi_{a}^{2} \\pi_{t}^{2} e^{\\left(-t\\right)} - \\frac{11}{8} \\, \\pi_{a} \\pi_{c} \\pi_{t}^{2} e^{\\left(-t\\right)} + \\frac{73}{16} \\, \\pi_{c}^{2} \\pi_{t}^{2} e^{\\left(-t\\right)} - \\frac{11}{8} \\, \\pi_{a} \\pi_{g} \\pi_{t}^{2} e^{\\left(-t\\right)} - \\frac{11}{8} \\, \\pi_{c} \\pi_{g} \\pi_{t}^{2} e^{\\left(-t\\right)} + \\frac{73}{16} \\, \\pi_{g}^{2} \\pi_{t}^{2} e^{\\left(-t\\right)} - \\frac{17}{8} \\, \\pi_{a} \\pi_{t}^{3} e^{\\left(-t\\right)} - \\frac{17}{8} \\, \\pi_{c} \\pi_{t}^{3} e^{\\left(-t\\right)} - \\frac{17}{8} \\, \\pi_{g} \\pi_{t}^{3} e^{\\left(-t\\right)} + \\frac{51}{32} \\, \\pi_{t}^{4} e^{\\left(-t\\right)} - \\frac{51}{64} \\, \\pi_{a}^{4} e^{\\left(-2 \\, t\\right)} + \\frac{17}{16} \\, \\pi_{a}^{3} \\pi_{c} e^{\\left(-2 \\, t\\right)} - \\frac{73}{32} \\, \\pi_{a}^{2} \\pi_{c}^{2} e^{\\left(-2 \\, t\\right)} + \\frac{17}{16} \\, \\pi_{a} \\pi_{c}^{3} e^{\\left(-2 \\, t\\right)} - \\frac{51}{64} \\, \\pi_{c}^{4} e^{\\left(-2 \\, t\\right)} + \\frac{17}{16} \\, \\pi_{a}^{3} \\pi_{g} e^{\\left(-2 \\, t\\right)} + \\frac{11}{16} \\, \\pi_{a}^{2} \\pi_{c} \\pi_{g} e^{\\left(-2 \\, t\\right)} + \\frac{11}{16} \\, \\pi_{a} \\pi_{c}^{2} \\pi_{g} e^{\\left(-2 \\, t\\right)} + \\frac{17}{16} \\, \\pi_{c}^{3} \\pi_{g} e^{\\left(-2 \\, t\\right)} - \\frac{73}{32} \\, \\pi_{a}^{2} \\pi_{g}^{2} e^{\\left(-2 \\, t\\right)} + \\frac{11}{16} \\, \\pi_{a} \\pi_{c} \\pi_{g}^{2} e^{\\left(-2 \\, t\\right)} - \\frac{73}{32} \\, \\pi_{c}^{2} \\pi_{g}^{2} e^{\\left(-2 \\, t\\right)} + \\frac{17}{16} \\, \\pi_{a} \\pi_{g}^{3} e^{\\left(-2 \\, t\\right)} + \\frac{17}{16} \\, \\pi_{c} \\pi_{g}^{3} e^{\\left(-2 \\, t\\right)} - \\frac{51}{64} \\, \\pi_{g}^{4} e^{\\left(-2 \\, t\\right)} + \\frac{17}{16} \\, \\pi_{a}^{3} \\pi_{t} e^{\\left(-2 \\, t\\right)} + \\frac{11}{16} \\, \\pi_{a}^{2} \\pi_{c} \\pi_{t} e^{\\left(-2 \\, t\\right)} + \\frac{11}{16} \\, \\pi_{a} \\pi_{c}^{2} \\pi_{t} e^{\\left(-2 \\, t\\right)} + \\frac{17}{16} \\, \\pi_{c}^{3} \\pi_{t} e^{\\left(-2 \\, t\\right)} + \\frac{11}{16} \\, \\pi_{a}^{2} \\pi_{g} \\pi_{t} e^{\\left(-2 \\, t\\right)} - \\frac{33}{8} \\, \\pi_{a} \\pi_{c} \\pi_{g} \\pi_{t} e^{\\left(-2 \\, t\\right)} + \\frac{11}{16} \\, \\pi_{c}^{2} \\pi_{g} \\pi_{t} e^{\\left(-2 \\, t\\right)} + \\frac{11}{16} \\, \\pi_{a} \\pi_{g}^{2} \\pi_{t} e^{\\left(-2 \\, t\\right)} + \\frac{11}{16} \\, \\pi_{c} \\pi_{g}^{2} \\pi_{t} e^{\\left(-2 \\, t\\right)} + \\frac{17}{16} \\, \\pi_{g}^{3} \\pi_{t} e^{\\left(-2 \\, t\\right)} - \\frac{73}{32} \\, \\pi_{a}^{2} \\pi_{t}^{2} e^{\\left(-2 \\, t\\right)} + \\frac{11}{16} \\, \\pi_{a} \\pi_{c} \\pi_{t}^{2} e^{\\left(-2 \\, t\\right)} - \\frac{73}{32} \\, \\pi_{c}^{2} \\pi_{t}^{2} e^{\\left(-2 \\, t\\right)} + \\frac{11}{16} \\, \\pi_{a} \\pi_{g} \\pi_{t}^{2} e^{\\left(-2 \\, t\\right)} + \\frac{11}{16} \\, \\pi_{c} \\pi_{g} \\pi_{t}^{2} e^{\\left(-2 \\, t\\right)} - \\frac{73}{32} \\, \\pi_{g}^{2} \\pi_{t}^{2} e^{\\left(-2 \\, t\\right)} + \\frac{17}{16} \\, \\pi_{a} \\pi_{t}^{3} e^{\\left(-2 \\, t\\right)} + \\frac{17}{16} \\, \\pi_{c} \\pi_{t}^{3} e^{\\left(-2 \\, t\\right)} + \\frac{17}{16} \\, \\pi_{g} \\pi_{t}^{3} e^{\\left(-2 \\, t\\right)} - \\frac{51}{64} \\, \\pi_{t}^{4} e^{\\left(-2 \\, t\\right)} - \\frac{51}{64} \\, \\pi_{a}^{4} + \\frac{17}{16} \\, \\pi_{a}^{3} \\pi_{c} - \\frac{73}{32} \\, \\pi_{a}^{2} \\pi_{c}^{2} + \\frac{17}{16} \\, \\pi_{a} \\pi_{c}^{3} - \\frac{51}{64} \\, \\pi_{c}^{4} + \\frac{17}{16} \\, \\pi_{a}^{3} \\pi_{g} + \\frac{11}{16} \\, \\pi_{a}^{2} \\pi_{c} \\pi_{g} + \\frac{11}{16} \\, \\pi_{a} \\pi_{c}^{2} \\pi_{g} + \\frac{17}{16} \\, \\pi_{c}^{3} \\pi_{g} - \\frac{73}{32} \\, \\pi_{a}^{2} \\pi_{g}^{2} + \\frac{11}{16} \\, \\pi_{a} \\pi_{c} \\pi_{g}^{2} - \\frac{73}{32} \\, \\pi_{c}^{2} \\pi_{g}^{2} + \\frac{17}{16} \\, \\pi_{a} \\pi_{g}^{3} + \\frac{17}{16} \\, \\pi_{c} \\pi_{g}^{3} - \\frac{51}{64} \\, \\pi_{g}^{4} + \\frac{17}{16} \\, \\pi_{a}^{3} \\pi_{t} + \\frac{11}{16} \\, \\pi_{a}^{2} \\pi_{c} \\pi_{t} + \\frac{11}{16} \\, \\pi_{a} \\pi_{c}^{2} \\pi_{t} + \\frac{17}{16} \\, \\pi_{c}^{3} \\pi_{t} + \\frac{11}{16} \\, \\pi_{a}^{2} \\pi_{g} \\pi_{t} - \\frac{33}{8} \\, \\pi_{a} \\pi_{c} \\pi_{g} \\pi_{t} + \\frac{11}{16} \\, \\pi_{c}^{2} \\pi_{g} \\pi_{t} + \\frac{11}{16} \\, \\pi_{a} \\pi_{g}^{2} \\pi_{t} + \\frac{11}{16} \\, \\pi_{c} \\pi_{g}^{2} \\pi_{t} + \\frac{17}{16} \\, \\pi_{g}^{3} \\pi_{t} - \\frac{73}{32} \\, \\pi_{a}^{2} \\pi_{t}^{2} + \\frac{11}{16} \\, \\pi_{a} \\pi_{c} \\pi_{t}^{2} - \\frac{73}{32} \\, \\pi_{c}^{2} \\pi_{t}^{2} + \\frac{11}{16} \\, \\pi_{a} \\pi_{g} \\pi_{t}^{2} + \\frac{11}{16} \\, \\pi_{c} \\pi_{g} \\pi_{t}^{2} - \\frac{73}{32} \\, \\pi_{g}^{2} \\pi_{t}^{2} + \\frac{17}{16} \\, \\pi_{a} \\pi_{t}^{3} + \\frac{17}{16} \\, \\pi_{c} \\pi_{t}^{3} + \\frac{17}{16} \\, \\pi_{g} \\pi_{t}^{3} - \\frac{51}{64} \\, \\pi_{t}^{4} - \\frac{3}{4} \\, \\pi_{a}^{3} e^{\\left(-t\\right)} + \\frac{3}{4} \\, \\pi_{a}^{2} \\pi_{c} e^{\\left(-t\\right)} + \\frac{3}{4} \\, \\pi_{a} \\pi_{c}^{2} e^{\\left(-t\\right)} - \\frac{3}{4} \\, \\pi_{c}^{3} e^{\\left(-t\\right)} + \\frac{3}{4} \\, \\pi_{a}^{2} \\pi_{g} e^{\\left(-t\\right)} - \\frac{3}{2} \\, \\pi_{a} \\pi_{c} \\pi_{g} e^{\\left(-t\\right)} + \\frac{3}{4} \\, \\pi_{c}^{2} \\pi_{g} e^{\\left(-t\\right)} + \\frac{3}{4} \\, \\pi_{a} \\pi_{g}^{2} e^{\\left(-t\\right)} + \\frac{3}{4} \\, \\pi_{c} \\pi_{g}^{2} e^{\\left(-t\\right)} - \\frac{3}{4} \\, \\pi_{g}^{3} e^{\\left(-t\\right)} + \\frac{3}{4} \\, \\pi_{a}^{2} \\pi_{t} e^{\\left(-t\\right)} - \\frac{3}{2} \\, \\pi_{a} \\pi_{c} \\pi_{t} e^{\\left(-t\\right)} + \\frac{3}{4} \\, \\pi_{c}^{2} \\pi_{t} e^{\\left(-t\\right)} - \\frac{3}{2} \\, \\pi_{a} \\pi_{g} \\pi_{t} e^{\\left(-t\\right)} - \\frac{3}{2} \\, \\pi_{c} \\pi_{g} \\pi_{t} e^{\\left(-t\\right)} + \\frac{3}{4} \\, \\pi_{g}^{2} \\pi_{t} e^{\\left(-t\\right)} + \\frac{3}{4} \\, \\pi_{a} \\pi_{t}^{2} e^{\\left(-t\\right)} + \\frac{3}{4} \\, \\pi_{c} \\pi_{t}^{2} e^{\\left(-t\\right)} + \\frac{3}{4} \\, \\pi_{g} \\pi_{t}^{2} e^{\\left(-t\\right)} - \\frac{3}{4} \\, \\pi_{t}^{3} e^{\\left(-t\\right)} + \\frac{3}{8} \\, \\pi_{a}^{3} e^{\\left(-2 \\, t\\right)} - \\frac{3}{8} \\, \\pi_{a}^{2} \\pi_{c} e^{\\left(-2 \\, t\\right)} - \\frac{3}{8} \\, \\pi_{a} \\pi_{c}^{2} e^{\\left(-2 \\, t\\right)} + \\frac{3}{8} \\, \\pi_{c}^{3} e^{\\left(-2 \\, t\\right)} - \\frac{3}{8} \\, \\pi_{a}^{2} \\pi_{g} e^{\\left(-2 \\, t\\right)} + \\frac{3}{4} \\, \\pi_{a} \\pi_{c} \\pi_{g} e^{\\left(-2 \\, t\\right)} - \\frac{3}{8} \\, \\pi_{c}^{2} \\pi_{g} e^{\\left(-2 \\, t\\right)} - \\frac{3}{8} \\, \\pi_{a} \\pi_{g}^{2} e^{\\left(-2 \\, t\\right)} - \\frac{3}{8} \\, \\pi_{c} \\pi_{g}^{2} e^{\\left(-2 \\, t\\right)} + \\frac{3}{8} \\, \\pi_{g}^{3} e^{\\left(-2 \\, t\\right)} - \\frac{3}{8} \\, \\pi_{a}^{2} \\pi_{t} e^{\\left(-2 \\, t\\right)} + \\frac{3}{4} \\, \\pi_{a} \\pi_{c} \\pi_{t} e^{\\left(-2 \\, t\\right)} - \\frac{3}{8} \\, \\pi_{c}^{2} \\pi_{t} e^{\\left(-2 \\, t\\right)} + \\frac{3}{4} \\, \\pi_{a} \\pi_{g} \\pi_{t} e^{\\left(-2 \\, t\\right)} + \\frac{3}{4} \\, \\pi_{c} \\pi_{g} \\pi_{t} e^{\\left(-2 \\, t\\right)} - \\frac{3}{8} \\, \\pi_{g}^{2} \\pi_{t} e^{\\left(-2 \\, t\\right)} - \\frac{3}{8} \\, \\pi_{a} \\pi_{t}^{2} e^{\\left(-2 \\, t\\right)} - \\frac{3}{8} \\, \\pi_{c} \\pi_{t}^{2} e^{\\left(-2 \\, t\\right)} - \\frac{3}{8} \\, \\pi_{g} \\pi_{t}^{2} e^{\\left(-2 \\, t\\right)} + \\frac{3}{8} \\, \\pi_{t}^{3} e^{\\left(-2 \\, t\\right)} + \\frac{3}{8} \\, \\pi_{a}^{3} - \\frac{3}{8} \\, \\pi_{a}^{2} \\pi_{c} - \\frac{3}{8} \\, \\pi_{a} \\pi_{c}^{2} + \\frac{3}{8} \\, \\pi_{c}^{3} - \\frac{3}{8} \\, \\pi_{a}^{2} \\pi_{g} + \\frac{3}{4} \\, \\pi_{a} \\pi_{c} \\pi_{g} - \\frac{3}{8} \\, \\pi_{c}^{2} \\pi_{g} - \\frac{3}{8} \\, \\pi_{a} \\pi_{g}^{2} - \\frac{3}{8} \\, \\pi_{c} \\pi_{g}^{2} + \\frac{3}{8} \\, \\pi_{g}^{3} - \\frac{3}{8} \\, \\pi_{a}^{2} \\pi_{t} + \\frac{3}{4} \\, \\pi_{a} \\pi_{c} \\pi_{t} - \\frac{3}{8} \\, \\pi_{c}^{2} \\pi_{t} + \\frac{3}{4} \\, \\pi_{a} \\pi_{g} \\pi_{t} + \\frac{3}{4} \\, \\pi_{c} \\pi_{g} \\pi_{t} - \\frac{3}{8} \\, \\pi_{g}^{2} \\pi_{t} - \\frac{3}{8} \\, \\pi_{a} \\pi_{t}^{2} - \\frac{3}{8} \\, \\pi_{c} \\pi_{t}^{2} - \\frac{3}{8} \\, \\pi_{g} \\pi_{t}^{2} + \\frac{3}{8} \\, \\pi_{t}^{3} - \\frac{9}{16} \\, \\pi_{a}^{2} e^{\\left(-t\\right)} + \\frac{3}{8} \\, \\pi_{a} \\pi_{c} e^{\\left(-t\\right)} - \\frac{9}{16} \\, \\pi_{c}^{2} e^{\\left(-t\\right)} + \\frac{3}{8} \\, \\pi_{a} \\pi_{g} e^{\\left(-t\\right)} + \\frac{3}{8} \\, \\pi_{c} \\pi_{g} e^{\\left(-t\\right)} - \\frac{9}{16} \\, \\pi_{g}^{2} e^{\\left(-t\\right)} + \\frac{3}{8} \\, \\pi_{a} \\pi_{t} e^{\\left(-t\\right)} + \\frac{3}{8} \\, \\pi_{c} \\pi_{t} e^{\\left(-t\\right)} + \\frac{3}{8} \\, \\pi_{g} \\pi_{t} e^{\\left(-t\\right)} - \\frac{9}{16} \\, \\pi_{t}^{2} e^{\\left(-t\\right)} + \\frac{33}{32} \\, \\pi_{a}^{2} e^{\\left(-2 \\, t\\right)} - \\frac{11}{16} \\, \\pi_{a} \\pi_{c} e^{\\left(-2 \\, t\\right)} + \\frac{33}{32} \\, \\pi_{c}^{2} e^{\\left(-2 \\, t\\right)} - \\frac{11}{16} \\, \\pi_{a} \\pi_{g} e^{\\left(-2 \\, t\\right)} - \\frac{11}{16} \\, \\pi_{c} \\pi_{g} e^{\\left(-2 \\, t\\right)} + \\frac{33}{32} \\, \\pi_{g}^{2} e^{\\left(-2 \\, t\\right)} - \\frac{11}{16} \\, \\pi_{a} \\pi_{t} e^{\\left(-2 \\, t\\right)} - \\frac{11}{16} \\, \\pi_{c} \\pi_{t} e^{\\left(-2 \\, t\\right)} - \\frac{11}{16} \\, \\pi_{g} \\pi_{t} e^{\\left(-2 \\, t\\right)} + \\frac{33}{32} \\, \\pi_{t}^{2} e^{\\left(-2 \\, t\\right)} - \\frac{15}{32} \\, \\pi_{a}^{2} + \\frac{5}{16} \\, \\pi_{a} \\pi_{c} - \\frac{15}{32} \\, \\pi_{c}^{2} + \\frac{5}{16} \\, \\pi_{a} \\pi_{g} + \\frac{5}{16} \\, \\pi_{c} \\pi_{g} - \\frac{15}{32} \\, \\pi_{g}^{2} + \\frac{5}{16} \\, \\pi_{a} \\pi_{t} + \\frac{5}{16} \\, \\pi_{c} \\pi_{t} + \\frac{5}{16} \\, \\pi_{g} \\pi_{t} - \\frac{15}{32} \\, \\pi_{t}^{2} - \\frac{9}{32} \\, e^{\\left(-t\\right)} - \\frac{39}{64} \\, e^{\\left(-2 \\, t\\right)} + \\frac{57}{64}\\)</html>"
      ],
      "text/latex": [
       "$\\displaystyle \\frac{51}{32} \\, \\pi_{a}^{4} e^{\\left(-t\\right)} - \\frac{17}{8} \\, \\pi_{a}^{3} \\pi_{c} e^{\\left(-t\\right)} + \\frac{73}{16} \\, \\pi_{a}^{2} \\pi_{c}^{2} e^{\\left(-t\\right)} - \\frac{17}{8} \\, \\pi_{a} \\pi_{c}^{3} e^{\\left(-t\\right)} + \\frac{51}{32} \\, \\pi_{c}^{4} e^{\\left(-t\\right)} - \\frac{17}{8} \\, \\pi_{a}^{3} \\pi_{g} e^{\\left(-t\\right)} - \\frac{11}{8} \\, \\pi_{a}^{2} \\pi_{c} \\pi_{g} e^{\\left(-t\\right)} - \\frac{11}{8} \\, \\pi_{a} \\pi_{c}^{2} \\pi_{g} e^{\\left(-t\\right)} - \\frac{17}{8} \\, \\pi_{c}^{3} \\pi_{g} e^{\\left(-t\\right)} + \\frac{73}{16} \\, \\pi_{a}^{2} \\pi_{g}^{2} e^{\\left(-t\\right)} - \\frac{11}{8} \\, \\pi_{a} \\pi_{c} \\pi_{g}^{2} e^{\\left(-t\\right)} + \\frac{73}{16} \\, \\pi_{c}^{2} \\pi_{g}^{2} e^{\\left(-t\\right)} - \\frac{17}{8} \\, \\pi_{a} \\pi_{g}^{3} e^{\\left(-t\\right)} - \\frac{17}{8} \\, \\pi_{c} \\pi_{g}^{3} e^{\\left(-t\\right)} + \\frac{51}{32} \\, \\pi_{g}^{4} e^{\\left(-t\\right)} - \\frac{17}{8} \\, \\pi_{a}^{3} \\pi_{t} e^{\\left(-t\\right)} - \\frac{11}{8} \\, \\pi_{a}^{2} \\pi_{c} \\pi_{t} e^{\\left(-t\\right)} - \\frac{11}{8} \\, \\pi_{a} \\pi_{c}^{2} \\pi_{t} e^{\\left(-t\\right)} - \\frac{17}{8} \\, \\pi_{c}^{3} \\pi_{t} e^{\\left(-t\\right)} - \\frac{11}{8} \\, \\pi_{a}^{2} \\pi_{g} \\pi_{t} e^{\\left(-t\\right)} + \\frac{33}{4} \\, \\pi_{a} \\pi_{c} \\pi_{g} \\pi_{t} e^{\\left(-t\\right)} - \\frac{11}{8} \\, \\pi_{c}^{2} \\pi_{g} \\pi_{t} e^{\\left(-t\\right)} - \\frac{11}{8} \\, \\pi_{a} \\pi_{g}^{2} \\pi_{t} e^{\\left(-t\\right)} - \\frac{11}{8} \\, \\pi_{c} \\pi_{g}^{2} \\pi_{t} e^{\\left(-t\\right)} - \\frac{17}{8} \\, \\pi_{g}^{3} \\pi_{t} e^{\\left(-t\\right)} + \\frac{73}{16} \\, \\pi_{a}^{2} \\pi_{t}^{2} e^{\\left(-t\\right)} - \\frac{11}{8} \\, \\pi_{a} \\pi_{c} \\pi_{t}^{2} e^{\\left(-t\\right)} + \\frac{73}{16} \\, \\pi_{c}^{2} \\pi_{t}^{2} e^{\\left(-t\\right)} - \\frac{11}{8} \\, \\pi_{a} \\pi_{g} \\pi_{t}^{2} e^{\\left(-t\\right)} - \\frac{11}{8} \\, \\pi_{c} \\pi_{g} \\pi_{t}^{2} e^{\\left(-t\\right)} + \\frac{73}{16} \\, \\pi_{g}^{2} \\pi_{t}^{2} e^{\\left(-t\\right)} - \\frac{17}{8} \\, \\pi_{a} \\pi_{t}^{3} e^{\\left(-t\\right)} - \\frac{17}{8} \\, \\pi_{c} \\pi_{t}^{3} e^{\\left(-t\\right)} - \\frac{17}{8} \\, \\pi_{g} \\pi_{t}^{3} e^{\\left(-t\\right)} + \\frac{51}{32} \\, \\pi_{t}^{4} e^{\\left(-t\\right)} - \\frac{51}{64} \\, \\pi_{a}^{4} e^{\\left(-2 \\, t\\right)} + \\frac{17}{16} \\, \\pi_{a}^{3} \\pi_{c} e^{\\left(-2 \\, t\\right)} - \\frac{73}{32} \\, \\pi_{a}^{2} \\pi_{c}^{2} e^{\\left(-2 \\, t\\right)} + \\frac{17}{16} \\, \\pi_{a} \\pi_{c}^{3} e^{\\left(-2 \\, t\\right)} - \\frac{51}{64} \\, \\pi_{c}^{4} e^{\\left(-2 \\, t\\right)} + \\frac{17}{16} \\, \\pi_{a}^{3} \\pi_{g} e^{\\left(-2 \\, t\\right)} + \\frac{11}{16} \\, \\pi_{a}^{2} \\pi_{c} \\pi_{g} e^{\\left(-2 \\, t\\right)} + \\frac{11}{16} \\, \\pi_{a} \\pi_{c}^{2} \\pi_{g} e^{\\left(-2 \\, t\\right)} + \\frac{17}{16} \\, \\pi_{c}^{3} \\pi_{g} e^{\\left(-2 \\, t\\right)} - \\frac{73}{32} \\, \\pi_{a}^{2} \\pi_{g}^{2} e^{\\left(-2 \\, t\\right)} + \\frac{11}{16} \\, \\pi_{a} \\pi_{c} \\pi_{g}^{2} e^{\\left(-2 \\, t\\right)} - \\frac{73}{32} \\, \\pi_{c}^{2} \\pi_{g}^{2} e^{\\left(-2 \\, t\\right)} + \\frac{17}{16} \\, \\pi_{a} \\pi_{g}^{3} e^{\\left(-2 \\, t\\right)} + \\frac{17}{16} \\, \\pi_{c} \\pi_{g}^{3} e^{\\left(-2 \\, t\\right)} - \\frac{51}{64} \\, \\pi_{g}^{4} e^{\\left(-2 \\, t\\right)} + \\frac{17}{16} \\, \\pi_{a}^{3} \\pi_{t} e^{\\left(-2 \\, t\\right)} + \\frac{11}{16} \\, \\pi_{a}^{2} \\pi_{c} \\pi_{t} e^{\\left(-2 \\, t\\right)} + \\frac{11}{16} \\, \\pi_{a} \\pi_{c}^{2} \\pi_{t} e^{\\left(-2 \\, t\\right)} + \\frac{17}{16} \\, \\pi_{c}^{3} \\pi_{t} e^{\\left(-2 \\, t\\right)} + \\frac{11}{16} \\, \\pi_{a}^{2} \\pi_{g} \\pi_{t} e^{\\left(-2 \\, t\\right)} - \\frac{33}{8} \\, \\pi_{a} \\pi_{c} \\pi_{g} \\pi_{t} e^{\\left(-2 \\, t\\right)} + \\frac{11}{16} \\, \\pi_{c}^{2} \\pi_{g} \\pi_{t} e^{\\left(-2 \\, t\\right)} + \\frac{11}{16} \\, \\pi_{a} \\pi_{g}^{2} \\pi_{t} e^{\\left(-2 \\, t\\right)} + \\frac{11}{16} \\, \\pi_{c} \\pi_{g}^{2} \\pi_{t} e^{\\left(-2 \\, t\\right)} + \\frac{17}{16} \\, \\pi_{g}^{3} \\pi_{t} e^{\\left(-2 \\, t\\right)} - \\frac{73}{32} \\, \\pi_{a}^{2} \\pi_{t}^{2} e^{\\left(-2 \\, t\\right)} + \\frac{11}{16} \\, \\pi_{a} \\pi_{c} \\pi_{t}^{2} e^{\\left(-2 \\, t\\right)} - \\frac{73}{32} \\, \\pi_{c}^{2} \\pi_{t}^{2} e^{\\left(-2 \\, t\\right)} + \\frac{11}{16} \\, \\pi_{a} \\pi_{g} \\pi_{t}^{2} e^{\\left(-2 \\, t\\right)} + \\frac{11}{16} \\, \\pi_{c} \\pi_{g} \\pi_{t}^{2} e^{\\left(-2 \\, t\\right)} - \\frac{73}{32} \\, \\pi_{g}^{2} \\pi_{t}^{2} e^{\\left(-2 \\, t\\right)} + \\frac{17}{16} \\, \\pi_{a} \\pi_{t}^{3} e^{\\left(-2 \\, t\\right)} + \\frac{17}{16} \\, \\pi_{c} \\pi_{t}^{3} e^{\\left(-2 \\, t\\right)} + \\frac{17}{16} \\, \\pi_{g} \\pi_{t}^{3} e^{\\left(-2 \\, t\\right)} - \\frac{51}{64} \\, \\pi_{t}^{4} e^{\\left(-2 \\, t\\right)} - \\frac{51}{64} \\, \\pi_{a}^{4} + \\frac{17}{16} \\, \\pi_{a}^{3} \\pi_{c} - \\frac{73}{32} \\, \\pi_{a}^{2} \\pi_{c}^{2} + \\frac{17}{16} \\, \\pi_{a} \\pi_{c}^{3} - \\frac{51}{64} \\, \\pi_{c}^{4} + \\frac{17}{16} \\, \\pi_{a}^{3} \\pi_{g} + \\frac{11}{16} \\, \\pi_{a}^{2} \\pi_{c} \\pi_{g} + \\frac{11}{16} \\, \\pi_{a} \\pi_{c}^{2} \\pi_{g} + \\frac{17}{16} \\, \\pi_{c}^{3} \\pi_{g} - \\frac{73}{32} \\, \\pi_{a}^{2} \\pi_{g}^{2} + \\frac{11}{16} \\, \\pi_{a} \\pi_{c} \\pi_{g}^{2} - \\frac{73}{32} \\, \\pi_{c}^{2} \\pi_{g}^{2} + \\frac{17}{16} \\, \\pi_{a} \\pi_{g}^{3} + \\frac{17}{16} \\, \\pi_{c} \\pi_{g}^{3} - \\frac{51}{64} \\, \\pi_{g}^{4} + \\frac{17}{16} \\, \\pi_{a}^{3} \\pi_{t} + \\frac{11}{16} \\, \\pi_{a}^{2} \\pi_{c} \\pi_{t} + \\frac{11}{16} \\, \\pi_{a} \\pi_{c}^{2} \\pi_{t} + \\frac{17}{16} \\, \\pi_{c}^{3} \\pi_{t} + \\frac{11}{16} \\, \\pi_{a}^{2} \\pi_{g} \\pi_{t} - \\frac{33}{8} \\, \\pi_{a} \\pi_{c} \\pi_{g} \\pi_{t} + \\frac{11}{16} \\, \\pi_{c}^{2} \\pi_{g} \\pi_{t} + \\frac{11}{16} \\, \\pi_{a} \\pi_{g}^{2} \\pi_{t} + \\frac{11}{16} \\, \\pi_{c} \\pi_{g}^{2} \\pi_{t} + \\frac{17}{16} \\, \\pi_{g}^{3} \\pi_{t} - \\frac{73}{32} \\, \\pi_{a}^{2} \\pi_{t}^{2} + \\frac{11}{16} \\, \\pi_{a} \\pi_{c} \\pi_{t}^{2} - \\frac{73}{32} \\, \\pi_{c}^{2} \\pi_{t}^{2} + \\frac{11}{16} \\, \\pi_{a} \\pi_{g} \\pi_{t}^{2} + \\frac{11}{16} \\, \\pi_{c} \\pi_{g} \\pi_{t}^{2} - \\frac{73}{32} \\, \\pi_{g}^{2} \\pi_{t}^{2} + \\frac{17}{16} \\, \\pi_{a} \\pi_{t}^{3} + \\frac{17}{16} \\, \\pi_{c} \\pi_{t}^{3} + \\frac{17}{16} \\, \\pi_{g} \\pi_{t}^{3} - \\frac{51}{64} \\, \\pi_{t}^{4} - \\frac{3}{4} \\, \\pi_{a}^{3} e^{\\left(-t\\right)} + \\frac{3}{4} \\, \\pi_{a}^{2} \\pi_{c} e^{\\left(-t\\right)} + \\frac{3}{4} \\, \\pi_{a} \\pi_{c}^{2} e^{\\left(-t\\right)} - \\frac{3}{4} \\, \\pi_{c}^{3} e^{\\left(-t\\right)} + \\frac{3}{4} \\, \\pi_{a}^{2} \\pi_{g} e^{\\left(-t\\right)} - \\frac{3}{2} \\, \\pi_{a} \\pi_{c} \\pi_{g} e^{\\left(-t\\right)} + \\frac{3}{4} \\, \\pi_{c}^{2} \\pi_{g} e^{\\left(-t\\right)} + \\frac{3}{4} \\, \\pi_{a} \\pi_{g}^{2} e^{\\left(-t\\right)} + \\frac{3}{4} \\, \\pi_{c} \\pi_{g}^{2} e^{\\left(-t\\right)} - \\frac{3}{4} \\, \\pi_{g}^{3} e^{\\left(-t\\right)} + \\frac{3}{4} \\, \\pi_{a}^{2} \\pi_{t} e^{\\left(-t\\right)} - \\frac{3}{2} \\, \\pi_{a} \\pi_{c} \\pi_{t} e^{\\left(-t\\right)} + \\frac{3}{4} \\, \\pi_{c}^{2} \\pi_{t} e^{\\left(-t\\right)} - \\frac{3}{2} \\, \\pi_{a} \\pi_{g} \\pi_{t} e^{\\left(-t\\right)} - \\frac{3}{2} \\, \\pi_{c} \\pi_{g} \\pi_{t} e^{\\left(-t\\right)} + \\frac{3}{4} \\, \\pi_{g}^{2} \\pi_{t} e^{\\left(-t\\right)} + \\frac{3}{4} \\, \\pi_{a} \\pi_{t}^{2} e^{\\left(-t\\right)} + \\frac{3}{4} \\, \\pi_{c} \\pi_{t}^{2} e^{\\left(-t\\right)} + \\frac{3}{4} \\, \\pi_{g} \\pi_{t}^{2} e^{\\left(-t\\right)} - \\frac{3}{4} \\, \\pi_{t}^{3} e^{\\left(-t\\right)} + \\frac{3}{8} \\, \\pi_{a}^{3} e^{\\left(-2 \\, t\\right)} - \\frac{3}{8} \\, \\pi_{a}^{2} \\pi_{c} e^{\\left(-2 \\, t\\right)} - \\frac{3}{8} \\, \\pi_{a} \\pi_{c}^{2} e^{\\left(-2 \\, t\\right)} + \\frac{3}{8} \\, \\pi_{c}^{3} e^{\\left(-2 \\, t\\right)} - \\frac{3}{8} \\, \\pi_{a}^{2} \\pi_{g} e^{\\left(-2 \\, t\\right)} + \\frac{3}{4} \\, \\pi_{a} \\pi_{c} \\pi_{g} e^{\\left(-2 \\, t\\right)} - \\frac{3}{8} \\, \\pi_{c}^{2} \\pi_{g} e^{\\left(-2 \\, t\\right)} - \\frac{3}{8} \\, \\pi_{a} \\pi_{g}^{2} e^{\\left(-2 \\, t\\right)} - \\frac{3}{8} \\, \\pi_{c} \\pi_{g}^{2} e^{\\left(-2 \\, t\\right)} + \\frac{3}{8} \\, \\pi_{g}^{3} e^{\\left(-2 \\, t\\right)} - \\frac{3}{8} \\, \\pi_{a}^{2} \\pi_{t} e^{\\left(-2 \\, t\\right)} + \\frac{3}{4} \\, \\pi_{a} \\pi_{c} \\pi_{t} e^{\\left(-2 \\, t\\right)} - \\frac{3}{8} \\, \\pi_{c}^{2} \\pi_{t} e^{\\left(-2 \\, t\\right)} + \\frac{3}{4} \\, \\pi_{a} \\pi_{g} \\pi_{t} e^{\\left(-2 \\, t\\right)} + \\frac{3}{4} \\, \\pi_{c} \\pi_{g} \\pi_{t} e^{\\left(-2 \\, t\\right)} - \\frac{3}{8} \\, \\pi_{g}^{2} \\pi_{t} e^{\\left(-2 \\, t\\right)} - \\frac{3}{8} \\, \\pi_{a} \\pi_{t}^{2} e^{\\left(-2 \\, t\\right)} - \\frac{3}{8} \\, \\pi_{c} \\pi_{t}^{2} e^{\\left(-2 \\, t\\right)} - \\frac{3}{8} \\, \\pi_{g} \\pi_{t}^{2} e^{\\left(-2 \\, t\\right)} + \\frac{3}{8} \\, \\pi_{t}^{3} e^{\\left(-2 \\, t\\right)} + \\frac{3}{8} \\, \\pi_{a}^{3} - \\frac{3}{8} \\, \\pi_{a}^{2} \\pi_{c} - \\frac{3}{8} \\, \\pi_{a} \\pi_{c}^{2} + \\frac{3}{8} \\, \\pi_{c}^{3} - \\frac{3}{8} \\, \\pi_{a}^{2} \\pi_{g} + \\frac{3}{4} \\, \\pi_{a} \\pi_{c} \\pi_{g} - \\frac{3}{8} \\, \\pi_{c}^{2} \\pi_{g} - \\frac{3}{8} \\, \\pi_{a} \\pi_{g}^{2} - \\frac{3}{8} \\, \\pi_{c} \\pi_{g}^{2} + \\frac{3}{8} \\, \\pi_{g}^{3} - \\frac{3}{8} \\, \\pi_{a}^{2} \\pi_{t} + \\frac{3}{4} \\, \\pi_{a} \\pi_{c} \\pi_{t} - \\frac{3}{8} \\, \\pi_{c}^{2} \\pi_{t} + \\frac{3}{4} \\, \\pi_{a} \\pi_{g} \\pi_{t} + \\frac{3}{4} \\, \\pi_{c} \\pi_{g} \\pi_{t} - \\frac{3}{8} \\, \\pi_{g}^{2} \\pi_{t} - \\frac{3}{8} \\, \\pi_{a} \\pi_{t}^{2} - \\frac{3}{8} \\, \\pi_{c} \\pi_{t}^{2} - \\frac{3}{8} \\, \\pi_{g} \\pi_{t}^{2} + \\frac{3}{8} \\, \\pi_{t}^{3} - \\frac{9}{16} \\, \\pi_{a}^{2} e^{\\left(-t\\right)} + \\frac{3}{8} \\, \\pi_{a} \\pi_{c} e^{\\left(-t\\right)} - \\frac{9}{16} \\, \\pi_{c}^{2} e^{\\left(-t\\right)} + \\frac{3}{8} \\, \\pi_{a} \\pi_{g} e^{\\left(-t\\right)} + \\frac{3}{8} \\, \\pi_{c} \\pi_{g} e^{\\left(-t\\right)} - \\frac{9}{16} \\, \\pi_{g}^{2} e^{\\left(-t\\right)} + \\frac{3}{8} \\, \\pi_{a} \\pi_{t} e^{\\left(-t\\right)} + \\frac{3}{8} \\, \\pi_{c} \\pi_{t} e^{\\left(-t\\right)} + \\frac{3}{8} \\, \\pi_{g} \\pi_{t} e^{\\left(-t\\right)} - \\frac{9}{16} \\, \\pi_{t}^{2} e^{\\left(-t\\right)} + \\frac{33}{32} \\, \\pi_{a}^{2} e^{\\left(-2 \\, t\\right)} - \\frac{11}{16} \\, \\pi_{a} \\pi_{c} e^{\\left(-2 \\, t\\right)} + \\frac{33}{32} \\, \\pi_{c}^{2} e^{\\left(-2 \\, t\\right)} - \\frac{11}{16} \\, \\pi_{a} \\pi_{g} e^{\\left(-2 \\, t\\right)} - \\frac{11}{16} \\, \\pi_{c} \\pi_{g} e^{\\left(-2 \\, t\\right)} + \\frac{33}{32} \\, \\pi_{g}^{2} e^{\\left(-2 \\, t\\right)} - \\frac{11}{16} \\, \\pi_{a} \\pi_{t} e^{\\left(-2 \\, t\\right)} - \\frac{11}{16} \\, \\pi_{c} \\pi_{t} e^{\\left(-2 \\, t\\right)} - \\frac{11}{16} \\, \\pi_{g} \\pi_{t} e^{\\left(-2 \\, t\\right)} + \\frac{33}{32} \\, \\pi_{t}^{2} e^{\\left(-2 \\, t\\right)} - \\frac{15}{32} \\, \\pi_{a}^{2} + \\frac{5}{16} \\, \\pi_{a} \\pi_{c} - \\frac{15}{32} \\, \\pi_{c}^{2} + \\frac{5}{16} \\, \\pi_{a} \\pi_{g} + \\frac{5}{16} \\, \\pi_{c} \\pi_{g} - \\frac{15}{32} \\, \\pi_{g}^{2} + \\frac{5}{16} \\, \\pi_{a} \\pi_{t} + \\frac{5}{16} \\, \\pi_{c} \\pi_{t} + \\frac{5}{16} \\, \\pi_{g} \\pi_{t} - \\frac{15}{32} \\, \\pi_{t}^{2} - \\frac{9}{32} \\, e^{\\left(-t\\right)} - \\frac{39}{64} \\, e^{\\left(-2 \\, t\\right)} + \\frac{57}{64}$"
      ],
      "text/plain": [
       "51/32*pi_a^4*e^(-t) - 17/8*pi_a^3*pi_c*e^(-t) + 73/16*pi_a^2*pi_c^2*e^(-t) - 17/8*pi_a*pi_c^3*e^(-t) + 51/32*pi_c^4*e^(-t) - 17/8*pi_a^3*pi_g*e^(-t) - 11/8*pi_a^2*pi_c*pi_g*e^(-t) - 11/8*pi_a*pi_c^2*pi_g*e^(-t) - 17/8*pi_c^3*pi_g*e^(-t) + 73/16*pi_a^2*pi_g^2*e^(-t) - 11/8*pi_a*pi_c*pi_g^2*e^(-t) + 73/16*pi_c^2*pi_g^2*e^(-t) - 17/8*pi_a*pi_g^3*e^(-t) - 17/8*pi_c*pi_g^3*e^(-t) + 51/32*pi_g^4*e^(-t) - 17/8*pi_a^3*pi_t*e^(-t) - 11/8*pi_a^2*pi_c*pi_t*e^(-t) - 11/8*pi_a*pi_c^2*pi_t*e^(-t) - 17/8*pi_c^3*pi_t*e^(-t) - 11/8*pi_a^2*pi_g*pi_t*e^(-t) + 33/4*pi_a*pi_c*pi_g*pi_t*e^(-t) - 11/8*pi_c^2*pi_g*pi_t*e^(-t) - 11/8*pi_a*pi_g^2*pi_t*e^(-t) - 11/8*pi_c*pi_g^2*pi_t*e^(-t) - 17/8*pi_g^3*pi_t*e^(-t) + 73/16*pi_a^2*pi_t^2*e^(-t) - 11/8*pi_a*pi_c*pi_t^2*e^(-t) + 73/16*pi_c^2*pi_t^2*e^(-t) - 11/8*pi_a*pi_g*pi_t^2*e^(-t) - 11/8*pi_c*pi_g*pi_t^2*e^(-t) + 73/16*pi_g^2*pi_t^2*e^(-t) - 17/8*pi_a*pi_t^3*e^(-t) - 17/8*pi_c*pi_t^3*e^(-t) - 17/8*pi_g*pi_t^3*e^(-t) + 51/32*pi_t^4*e^(-t) - 51/64*pi_a^4*e^(-2*t) + 17/16*pi_a^3*pi_c*e^(-2*t) - 73/32*pi_a^2*pi_c^2*e^(-2*t) + 17/16*pi_a*pi_c^3*e^(-2*t) - 51/64*pi_c^4*e^(-2*t) + 17/16*pi_a^3*pi_g*e^(-2*t) + 11/16*pi_a^2*pi_c*pi_g*e^(-2*t) + 11/16*pi_a*pi_c^2*pi_g*e^(-2*t) + 17/16*pi_c^3*pi_g*e^(-2*t) - 73/32*pi_a^2*pi_g^2*e^(-2*t) + 11/16*pi_a*pi_c*pi_g^2*e^(-2*t) - 73/32*pi_c^2*pi_g^2*e^(-2*t) + 17/16*pi_a*pi_g^3*e^(-2*t) + 17/16*pi_c*pi_g^3*e^(-2*t) - 51/64*pi_g^4*e^(-2*t) + 17/16*pi_a^3*pi_t*e^(-2*t) + 11/16*pi_a^2*pi_c*pi_t*e^(-2*t) + 11/16*pi_a*pi_c^2*pi_t*e^(-2*t) + 17/16*pi_c^3*pi_t*e^(-2*t) + 11/16*pi_a^2*pi_g*pi_t*e^(-2*t) - 33/8*pi_a*pi_c*pi_g*pi_t*e^(-2*t) + 11/16*pi_c^2*pi_g*pi_t*e^(-2*t) + 11/16*pi_a*pi_g^2*pi_t*e^(-2*t) + 11/16*pi_c*pi_g^2*pi_t*e^(-2*t) + 17/16*pi_g^3*pi_t*e^(-2*t) - 73/32*pi_a^2*pi_t^2*e^(-2*t) + 11/16*pi_a*pi_c*pi_t^2*e^(-2*t) - 73/32*pi_c^2*pi_t^2*e^(-2*t) + 11/16*pi_a*pi_g*pi_t^2*e^(-2*t) + 11/16*pi_c*pi_g*pi_t^2*e^(-2*t) - 73/32*pi_g^2*pi_t^2*e^(-2*t) + 17/16*pi_a*pi_t^3*e^(-2*t) + 17/16*pi_c*pi_t^3*e^(-2*t) + 17/16*pi_g*pi_t^3*e^(-2*t) - 51/64*pi_t^4*e^(-2*t) - 51/64*pi_a^4 + 17/16*pi_a^3*pi_c - 73/32*pi_a^2*pi_c^2 + 17/16*pi_a*pi_c^3 - 51/64*pi_c^4 + 17/16*pi_a^3*pi_g + 11/16*pi_a^2*pi_c*pi_g + 11/16*pi_a*pi_c^2*pi_g + 17/16*pi_c^3*pi_g - 73/32*pi_a^2*pi_g^2 + 11/16*pi_a*pi_c*pi_g^2 - 73/32*pi_c^2*pi_g^2 + 17/16*pi_a*pi_g^3 + 17/16*pi_c*pi_g^3 - 51/64*pi_g^4 + 17/16*pi_a^3*pi_t + 11/16*pi_a^2*pi_c*pi_t + 11/16*pi_a*pi_c^2*pi_t + 17/16*pi_c^3*pi_t + 11/16*pi_a^2*pi_g*pi_t - 33/8*pi_a*pi_c*pi_g*pi_t + 11/16*pi_c^2*pi_g*pi_t + 11/16*pi_a*pi_g^2*pi_t + 11/16*pi_c*pi_g^2*pi_t + 17/16*pi_g^3*pi_t - 73/32*pi_a^2*pi_t^2 + 11/16*pi_a*pi_c*pi_t^2 - 73/32*pi_c^2*pi_t^2 + 11/16*pi_a*pi_g*pi_t^2 + 11/16*pi_c*pi_g*pi_t^2 - 73/32*pi_g^2*pi_t^2 + 17/16*pi_a*pi_t^3 + 17/16*pi_c*pi_t^3 + 17/16*pi_g*pi_t^3 - 51/64*pi_t^4 - 3/4*pi_a^3*e^(-t) + 3/4*pi_a^2*pi_c*e^(-t) + 3/4*pi_a*pi_c^2*e^(-t) - 3/4*pi_c^3*e^(-t) + 3/4*pi_a^2*pi_g*e^(-t) - 3/2*pi_a*pi_c*pi_g*e^(-t) + 3/4*pi_c^2*pi_g*e^(-t) + 3/4*pi_a*pi_g^2*e^(-t) + 3/4*pi_c*pi_g^2*e^(-t) - 3/4*pi_g^3*e^(-t) + 3/4*pi_a^2*pi_t*e^(-t) - 3/2*pi_a*pi_c*pi_t*e^(-t) + 3/4*pi_c^2*pi_t*e^(-t) - 3/2*pi_a*pi_g*pi_t*e^(-t) - 3/2*pi_c*pi_g*pi_t*e^(-t) + 3/4*pi_g^2*pi_t*e^(-t) + 3/4*pi_a*pi_t^2*e^(-t) + 3/4*pi_c*pi_t^2*e^(-t) + 3/4*pi_g*pi_t^2*e^(-t) - 3/4*pi_t^3*e^(-t) + 3/8*pi_a^3*e^(-2*t) - 3/8*pi_a^2*pi_c*e^(-2*t) - 3/8*pi_a*pi_c^2*e^(-2*t) + 3/8*pi_c^3*e^(-2*t) - 3/8*pi_a^2*pi_g*e^(-2*t) + 3/4*pi_a*pi_c*pi_g*e^(-2*t) - 3/8*pi_c^2*pi_g*e^(-2*t) - 3/8*pi_a*pi_g^2*e^(-2*t) - 3/8*pi_c*pi_g^2*e^(-2*t) + 3/8*pi_g^3*e^(-2*t) - 3/8*pi_a^2*pi_t*e^(-2*t) + 3/4*pi_a*pi_c*pi_t*e^(-2*t) - 3/8*pi_c^2*pi_t*e^(-2*t) + 3/4*pi_a*pi_g*pi_t*e^(-2*t) + 3/4*pi_c*pi_g*pi_t*e^(-2*t) - 3/8*pi_g^2*pi_t*e^(-2*t) - 3/8*pi_a*pi_t^2*e^(-2*t) - 3/8*pi_c*pi_t^2*e^(-2*t) - 3/8*pi_g*pi_t^2*e^(-2*t) + 3/8*pi_t^3*e^(-2*t) + 3/8*pi_a^3 - 3/8*pi_a^2*pi_c - 3/8*pi_a*pi_c^2 + 3/8*pi_c^3 - 3/8*pi_a^2*pi_g + 3/4*pi_a*pi_c*pi_g - 3/8*pi_c^2*pi_g - 3/8*pi_a*pi_g^2 - 3/8*pi_c*pi_g^2 + 3/8*pi_g^3 - 3/8*pi_a^2*pi_t + 3/4*pi_a*pi_c*pi_t - 3/8*pi_c^2*pi_t + 3/4*pi_a*pi_g*pi_t + 3/4*pi_c*pi_g*pi_t - 3/8*pi_g^2*pi_t - 3/8*pi_a*pi_t^2 - 3/8*pi_c*pi_t^2 - 3/8*pi_g*pi_t^2 + 3/8*pi_t^3 - 9/16*pi_a^2*e^(-t) + 3/8*pi_a*pi_c*e^(-t) - 9/16*pi_c^2*e^(-t) + 3/8*pi_a*pi_g*e^(-t) + 3/8*pi_c*pi_g*e^(-t) - 9/16*pi_g^2*e^(-t) + 3/8*pi_a*pi_t*e^(-t) + 3/8*pi_c*pi_t*e^(-t) + 3/8*pi_g*pi_t*e^(-t) - 9/16*pi_t^2*e^(-t) + 33/32*pi_a^2*e^(-2*t) - 11/16*pi_a*pi_c*e^(-2*t) + 33/32*pi_c^2*e^(-2*t) - 11/16*pi_a*pi_g*e^(-2*t) - 11/16*pi_c*pi_g*e^(-2*t) + 33/32*pi_g^2*e^(-2*t) - 11/16*pi_a*pi_t*e^(-2*t) - 11/16*pi_c*pi_t*e^(-2*t) - 11/16*pi_g*pi_t*e^(-2*t) + 33/32*pi_t^2*e^(-2*t) - 15/32*pi_a^2 + 5/16*pi_a*pi_c - 15/32*pi_c^2 + 5/16*pi_a*pi_g + 5/16*pi_c*pi_g - 15/32*pi_g^2 + 5/16*pi_a*pi_t + 5/16*pi_c*pi_t + 5/16*pi_g*pi_t - 15/32*pi_t^2 - 9/32*e^(-t) - 39/64*e^(-2*t) + 57/64"
      ]
     },
     "metadata": {},
     "output_type": "display_data"
    }
   ],
   "source": [
    "p_hat_f10t = p_hat_f10t(pi_t=tau_3+pi_g)(pi_g=tau_2+pi_c)(pi_c=tau_1+pi_a)(pi_a=(1-3*tau_1-2*tau_2-tau_3)/4).simplify_full()(tau_1=pi_c-pi_a, tau_2 = pi_g-pi_c, tau_3=pi_t-pi_g).expand()\n",
    "pretty_print(p_hat_f10t)"
   ]
  },
  {
   "cell_type": "code",
   "execution_count": 104,
   "id": "b9cb4ffd-9443-455d-a451-d7b5016149a8",
   "metadata": {},
   "outputs": [
    {
     "name": "stdout",
     "output_type": "stream",
     "text": [
      "2\n"
     ]
    }
   ],
   "source": [
    "solns = solve(p_hat_f10t==p,t)\n",
    "print(len(solns))"
   ]
  },
  {
   "cell_type": "code",
   "execution_count": 105,
   "id": "bda779ec-56cd-4c57-92b6-1553618fa3c1",
   "metadata": {},
   "outputs": [
    {
     "data": {
      "text/html": [
       "<html>\\(\\displaystyle \\log\\left(\\frac{51 \\, \\pi_{a}^{4} - 4 \\, {\\left(17 \\, \\pi_{a} + 6\\right)} \\pi_{c}^{3} + 51 \\, \\pi_{c}^{4} - 4 \\, {\\left(17 \\, \\pi_{a} + 17 \\, \\pi_{c} + 6\\right)} \\pi_{g}^{3} + 51 \\, \\pi_{g}^{4} - 4 \\, {\\left(17 \\, \\pi_{a} + 17 \\, \\pi_{c} + 17 \\, \\pi_{g} + 6\\right)} \\pi_{t}^{3} + 51 \\, \\pi_{t}^{4} - 24 \\, \\pi_{a}^{3} + 2 \\, {\\left(73 \\, \\pi_{a}^{2} + 12 \\, \\pi_{a} - 9\\right)} \\pi_{c}^{2} + 2 \\, {\\left(73 \\, \\pi_{a}^{2} - 2 \\, {\\left(11 \\, \\pi_{a} - 6\\right)} \\pi_{c} + 73 \\, \\pi_{c}^{2} + 12 \\, \\pi_{a} - 9\\right)} \\pi_{g}^{2} + 2 \\, {\\left(73 \\, \\pi_{a}^{2} - 2 \\, {\\left(11 \\, \\pi_{a} - 6\\right)} \\pi_{c} + 73 \\, \\pi_{c}^{2} - 2 \\, {\\left(11 \\, \\pi_{a} + 11 \\, \\pi_{c} - 6\\right)} \\pi_{g} + 73 \\, \\pi_{g}^{2} + 12 \\, \\pi_{a} - 9\\right)} \\pi_{t}^{2} - 18 \\, \\pi_{a}^{2} - 4 \\, {\\left(17 \\, \\pi_{a}^{3} - 6 \\, \\pi_{a}^{2} - 3 \\, \\pi_{a}\\right)} \\pi_{c} - 4 \\, {\\left(17 \\, \\pi_{a}^{3} + {\\left(11 \\, \\pi_{a} - 6\\right)} \\pi_{c}^{2} + 17 \\, \\pi_{c}^{3} - 6 \\, \\pi_{a}^{2} + {\\left(11 \\, \\pi_{a}^{2} + 12 \\, \\pi_{a} - 3\\right)} \\pi_{c} - 3 \\, \\pi_{a}\\right)} \\pi_{g} - 4 \\, {\\left(17 \\, \\pi_{a}^{3} + {\\left(11 \\, \\pi_{a} - 6\\right)} \\pi_{c}^{2} + 17 \\, \\pi_{c}^{3} + {\\left(11 \\, \\pi_{a} + 11 \\, \\pi_{c} - 6\\right)} \\pi_{g}^{2} + 17 \\, \\pi_{g}^{3} - 6 \\, \\pi_{a}^{2} + {\\left(11 \\, \\pi_{a}^{2} + 12 \\, \\pi_{a} - 3\\right)} \\pi_{c} + {\\left(11 \\, \\pi_{a}^{2} - 6 \\, {\\left(11 \\, \\pi_{a} - 2\\right)} \\pi_{c} + 11 \\, \\pi_{c}^{2} + 12 \\, \\pi_{a} - 3\\right)} \\pi_{g} - 3 \\, \\pi_{a}\\right)} \\pi_{t} + 8 \\, \\sqrt{-3 \\, {\\left(17 \\, p - 12\\right)} \\pi_{a}^{4} - 3 \\, {\\left(17 \\, p - 12\\right)} \\pi_{c}^{4} - 3 \\, {\\left(17 \\, p - 12\\right)} \\pi_{g}^{4} - 3 \\, {\\left(17 \\, p - 12\\right)} \\pi_{t}^{4} + 24 \\, p \\pi_{a}^{3} + 4 \\, {\\left({\\left(17 \\, p - 12\\right)} \\pi_{a} + 6 \\, p\\right)} \\pi_{c}^{3} + 4 \\, {\\left({\\left(17 \\, p - 12\\right)} \\pi_{a} + {\\left(17 \\, p - 12\\right)} \\pi_{c} + 6 \\, p\\right)} \\pi_{g}^{3} + 4 \\, {\\left({\\left(17 \\, p - 12\\right)} \\pi_{a} + {\\left(17 \\, p - 12\\right)} \\pi_{c} + {\\left(17 \\, p - 12\\right)} \\pi_{g} + 6 \\, p\\right)} \\pi_{t}^{3} + 6 \\, {\\left(11 \\, p - 12\\right)} \\pi_{a}^{2} - 2 \\, {\\left({\\left(73 \\, p - 44\\right)} \\pi_{a}^{2} + 12 \\, p \\pi_{a} - 33 \\, p + 36\\right)} \\pi_{c}^{2} - 2 \\, {\\left({\\left(73 \\, p - 44\\right)} \\pi_{a}^{2} + {\\left(73 \\, p - 44\\right)} \\pi_{c}^{2} + 12 \\, p \\pi_{a} - 2 \\, {\\left({\\left(11 \\, p - 4\\right)} \\pi_{a} - 6 \\, p\\right)} \\pi_{c} - 33 \\, p + 36\\right)} \\pi_{g}^{2} - 2 \\, {\\left({\\left(73 \\, p - 44\\right)} \\pi_{a}^{2} + {\\left(73 \\, p - 44\\right)} \\pi_{c}^{2} + {\\left(73 \\, p - 44\\right)} \\pi_{g}^{2} + 12 \\, p \\pi_{a} - 2 \\, {\\left({\\left(11 \\, p - 4\\right)} \\pi_{a} - 6 \\, p\\right)} \\pi_{c} - 2 \\, {\\left({\\left(11 \\, p - 4\\right)} \\pi_{a} + {\\left(11 \\, p - 4\\right)} \\pi_{c} - 6 \\, p\\right)} \\pi_{g} - 33 \\, p + 36\\right)} \\pi_{t}^{2} + 4 \\, {\\left({\\left(17 \\, p - 12\\right)} \\pi_{a}^{3} - 6 \\, p \\pi_{a}^{2} - {\\left(11 \\, p - 12\\right)} \\pi_{a}\\right)} \\pi_{c} + 4 \\, {\\left({\\left(17 \\, p - 12\\right)} \\pi_{a}^{3} + {\\left(17 \\, p - 12\\right)} \\pi_{c}^{3} - 6 \\, p \\pi_{a}^{2} + {\\left({\\left(11 \\, p - 4\\right)} \\pi_{a} - 6 \\, p\\right)} \\pi_{c}^{2} - {\\left(11 \\, p - 12\\right)} \\pi_{a} + {\\left({\\left(11 \\, p - 4\\right)} \\pi_{a}^{2} + 12 \\, p \\pi_{a} - 11 \\, p + 12\\right)} \\pi_{c}\\right)} \\pi_{g} + 4 \\, {\\left({\\left(17 \\, p - 12\\right)} \\pi_{a}^{3} + {\\left(17 \\, p - 12\\right)} \\pi_{c}^{3} + {\\left(17 \\, p - 12\\right)} \\pi_{g}^{3} - 6 \\, p \\pi_{a}^{2} + {\\left({\\left(11 \\, p - 4\\right)} \\pi_{a} - 6 \\, p\\right)} \\pi_{c}^{2} + {\\left({\\left(11 \\, p - 4\\right)} \\pi_{a} + {\\left(11 \\, p - 4\\right)} \\pi_{c} - 6 \\, p\\right)} \\pi_{g}^{2} - {\\left(11 \\, p - 12\\right)} \\pi_{a} + {\\left({\\left(11 \\, p - 4\\right)} \\pi_{a}^{2} + 12 \\, p \\pi_{a} - 11 \\, p + 12\\right)} \\pi_{c} + {\\left({\\left(11 \\, p - 4\\right)} \\pi_{a}^{2} + {\\left(11 \\, p - 4\\right)} \\pi_{c}^{2} + 12 \\, p \\pi_{a} - 6 \\, {\\left({\\left(11 \\, p - 4\\right)} \\pi_{a} - 2 \\, p\\right)} \\pi_{c} - 11 \\, p + 12\\right)} \\pi_{g}\\right)} \\pi_{t} - 39 \\, p + 36} - 9}{51 \\, \\pi_{a}^{4} - 4 \\, {\\left(17 \\, \\pi_{a} + 6\\right)} \\pi_{c}^{3} + 51 \\, \\pi_{c}^{4} - 4 \\, {\\left(17 \\, \\pi_{a} + 17 \\, \\pi_{c} + 6\\right)} \\pi_{g}^{3} + 51 \\, \\pi_{g}^{4} - 4 \\, {\\left(17 \\, \\pi_{a} + 17 \\, \\pi_{c} + 17 \\, \\pi_{g} + 6\\right)} \\pi_{t}^{3} + 51 \\, \\pi_{t}^{4} - 24 \\, \\pi_{a}^{3} + 2 \\, {\\left(73 \\, \\pi_{a}^{2} + 12 \\, \\pi_{a} + 15\\right)} \\pi_{c}^{2} + 2 \\, {\\left(73 \\, \\pi_{a}^{2} - 2 \\, {\\left(11 \\, \\pi_{a} - 6\\right)} \\pi_{c} + 73 \\, \\pi_{c}^{2} + 12 \\, \\pi_{a} + 15\\right)} \\pi_{g}^{2} + 2 \\, {\\left(73 \\, \\pi_{a}^{2} - 2 \\, {\\left(11 \\, \\pi_{a} - 6\\right)} \\pi_{c} + 73 \\, \\pi_{c}^{2} - 2 \\, {\\left(11 \\, \\pi_{a} + 11 \\, \\pi_{c} - 6\\right)} \\pi_{g} + 73 \\, \\pi_{g}^{2} + 12 \\, \\pi_{a} + 15\\right)} \\pi_{t}^{2} + 30 \\, \\pi_{a}^{2} - 4 \\, {\\left(17 \\, \\pi_{a}^{3} - 6 \\, \\pi_{a}^{2} + 5 \\, \\pi_{a}\\right)} \\pi_{c} - 4 \\, {\\left(17 \\, \\pi_{a}^{3} + {\\left(11 \\, \\pi_{a} - 6\\right)} \\pi_{c}^{2} + 17 \\, \\pi_{c}^{3} - 6 \\, \\pi_{a}^{2} + {\\left(11 \\, \\pi_{a}^{2} + 12 \\, \\pi_{a} + 5\\right)} \\pi_{c} + 5 \\, \\pi_{a}\\right)} \\pi_{g} - 4 \\, {\\left(17 \\, \\pi_{a}^{3} + {\\left(11 \\, \\pi_{a} - 6\\right)} \\pi_{c}^{2} + 17 \\, \\pi_{c}^{3} + {\\left(11 \\, \\pi_{a} + 11 \\, \\pi_{c} - 6\\right)} \\pi_{g}^{2} + 17 \\, \\pi_{g}^{3} - 6 \\, \\pi_{a}^{2} + {\\left(11 \\, \\pi_{a}^{2} + 12 \\, \\pi_{a} + 5\\right)} \\pi_{c} + {\\left(11 \\, \\pi_{a}^{2} - 6 \\, {\\left(11 \\, \\pi_{a} - 2\\right)} \\pi_{c} + 11 \\, \\pi_{c}^{2} + 12 \\, \\pi_{a} + 5\\right)} \\pi_{g} + 5 \\, \\pi_{a}\\right)} \\pi_{t} + 64 \\, p - 57}\\right)\\)</html>"
      ],
      "text/latex": [
       "$\\displaystyle \\log\\left(\\frac{51 \\, \\pi_{a}^{4} - 4 \\, {\\left(17 \\, \\pi_{a} + 6\\right)} \\pi_{c}^{3} + 51 \\, \\pi_{c}^{4} - 4 \\, {\\left(17 \\, \\pi_{a} + 17 \\, \\pi_{c} + 6\\right)} \\pi_{g}^{3} + 51 \\, \\pi_{g}^{4} - 4 \\, {\\left(17 \\, \\pi_{a} + 17 \\, \\pi_{c} + 17 \\, \\pi_{g} + 6\\right)} \\pi_{t}^{3} + 51 \\, \\pi_{t}^{4} - 24 \\, \\pi_{a}^{3} + 2 \\, {\\left(73 \\, \\pi_{a}^{2} + 12 \\, \\pi_{a} - 9\\right)} \\pi_{c}^{2} + 2 \\, {\\left(73 \\, \\pi_{a}^{2} - 2 \\, {\\left(11 \\, \\pi_{a} - 6\\right)} \\pi_{c} + 73 \\, \\pi_{c}^{2} + 12 \\, \\pi_{a} - 9\\right)} \\pi_{g}^{2} + 2 \\, {\\left(73 \\, \\pi_{a}^{2} - 2 \\, {\\left(11 \\, \\pi_{a} - 6\\right)} \\pi_{c} + 73 \\, \\pi_{c}^{2} - 2 \\, {\\left(11 \\, \\pi_{a} + 11 \\, \\pi_{c} - 6\\right)} \\pi_{g} + 73 \\, \\pi_{g}^{2} + 12 \\, \\pi_{a} - 9\\right)} \\pi_{t}^{2} - 18 \\, \\pi_{a}^{2} - 4 \\, {\\left(17 \\, \\pi_{a}^{3} - 6 \\, \\pi_{a}^{2} - 3 \\, \\pi_{a}\\right)} \\pi_{c} - 4 \\, {\\left(17 \\, \\pi_{a}^{3} + {\\left(11 \\, \\pi_{a} - 6\\right)} \\pi_{c}^{2} + 17 \\, \\pi_{c}^{3} - 6 \\, \\pi_{a}^{2} + {\\left(11 \\, \\pi_{a}^{2} + 12 \\, \\pi_{a} - 3\\right)} \\pi_{c} - 3 \\, \\pi_{a}\\right)} \\pi_{g} - 4 \\, {\\left(17 \\, \\pi_{a}^{3} + {\\left(11 \\, \\pi_{a} - 6\\right)} \\pi_{c}^{2} + 17 \\, \\pi_{c}^{3} + {\\left(11 \\, \\pi_{a} + 11 \\, \\pi_{c} - 6\\right)} \\pi_{g}^{2} + 17 \\, \\pi_{g}^{3} - 6 \\, \\pi_{a}^{2} + {\\left(11 \\, \\pi_{a}^{2} + 12 \\, \\pi_{a} - 3\\right)} \\pi_{c} + {\\left(11 \\, \\pi_{a}^{2} - 6 \\, {\\left(11 \\, \\pi_{a} - 2\\right)} \\pi_{c} + 11 \\, \\pi_{c}^{2} + 12 \\, \\pi_{a} - 3\\right)} \\pi_{g} - 3 \\, \\pi_{a}\\right)} \\pi_{t} + 8 \\, \\sqrt{-3 \\, {\\left(17 \\, p - 12\\right)} \\pi_{a}^{4} - 3 \\, {\\left(17 \\, p - 12\\right)} \\pi_{c}^{4} - 3 \\, {\\left(17 \\, p - 12\\right)} \\pi_{g}^{4} - 3 \\, {\\left(17 \\, p - 12\\right)} \\pi_{t}^{4} + 24 \\, p \\pi_{a}^{3} + 4 \\, {\\left({\\left(17 \\, p - 12\\right)} \\pi_{a} + 6 \\, p\\right)} \\pi_{c}^{3} + 4 \\, {\\left({\\left(17 \\, p - 12\\right)} \\pi_{a} + {\\left(17 \\, p - 12\\right)} \\pi_{c} + 6 \\, p\\right)} \\pi_{g}^{3} + 4 \\, {\\left({\\left(17 \\, p - 12\\right)} \\pi_{a} + {\\left(17 \\, p - 12\\right)} \\pi_{c} + {\\left(17 \\, p - 12\\right)} \\pi_{g} + 6 \\, p\\right)} \\pi_{t}^{3} + 6 \\, {\\left(11 \\, p - 12\\right)} \\pi_{a}^{2} - 2 \\, {\\left({\\left(73 \\, p - 44\\right)} \\pi_{a}^{2} + 12 \\, p \\pi_{a} - 33 \\, p + 36\\right)} \\pi_{c}^{2} - 2 \\, {\\left({\\left(73 \\, p - 44\\right)} \\pi_{a}^{2} + {\\left(73 \\, p - 44\\right)} \\pi_{c}^{2} + 12 \\, p \\pi_{a} - 2 \\, {\\left({\\left(11 \\, p - 4\\right)} \\pi_{a} - 6 \\, p\\right)} \\pi_{c} - 33 \\, p + 36\\right)} \\pi_{g}^{2} - 2 \\, {\\left({\\left(73 \\, p - 44\\right)} \\pi_{a}^{2} + {\\left(73 \\, p - 44\\right)} \\pi_{c}^{2} + {\\left(73 \\, p - 44\\right)} \\pi_{g}^{2} + 12 \\, p \\pi_{a} - 2 \\, {\\left({\\left(11 \\, p - 4\\right)} \\pi_{a} - 6 \\, p\\right)} \\pi_{c} - 2 \\, {\\left({\\left(11 \\, p - 4\\right)} \\pi_{a} + {\\left(11 \\, p - 4\\right)} \\pi_{c} - 6 \\, p\\right)} \\pi_{g} - 33 \\, p + 36\\right)} \\pi_{t}^{2} + 4 \\, {\\left({\\left(17 \\, p - 12\\right)} \\pi_{a}^{3} - 6 \\, p \\pi_{a}^{2} - {\\left(11 \\, p - 12\\right)} \\pi_{a}\\right)} \\pi_{c} + 4 \\, {\\left({\\left(17 \\, p - 12\\right)} \\pi_{a}^{3} + {\\left(17 \\, p - 12\\right)} \\pi_{c}^{3} - 6 \\, p \\pi_{a}^{2} + {\\left({\\left(11 \\, p - 4\\right)} \\pi_{a} - 6 \\, p\\right)} \\pi_{c}^{2} - {\\left(11 \\, p - 12\\right)} \\pi_{a} + {\\left({\\left(11 \\, p - 4\\right)} \\pi_{a}^{2} + 12 \\, p \\pi_{a} - 11 \\, p + 12\\right)} \\pi_{c}\\right)} \\pi_{g} + 4 \\, {\\left({\\left(17 \\, p - 12\\right)} \\pi_{a}^{3} + {\\left(17 \\, p - 12\\right)} \\pi_{c}^{3} + {\\left(17 \\, p - 12\\right)} \\pi_{g}^{3} - 6 \\, p \\pi_{a}^{2} + {\\left({\\left(11 \\, p - 4\\right)} \\pi_{a} - 6 \\, p\\right)} \\pi_{c}^{2} + {\\left({\\left(11 \\, p - 4\\right)} \\pi_{a} + {\\left(11 \\, p - 4\\right)} \\pi_{c} - 6 \\, p\\right)} \\pi_{g}^{2} - {\\left(11 \\, p - 12\\right)} \\pi_{a} + {\\left({\\left(11 \\, p - 4\\right)} \\pi_{a}^{2} + 12 \\, p \\pi_{a} - 11 \\, p + 12\\right)} \\pi_{c} + {\\left({\\left(11 \\, p - 4\\right)} \\pi_{a}^{2} + {\\left(11 \\, p - 4\\right)} \\pi_{c}^{2} + 12 \\, p \\pi_{a} - 6 \\, {\\left({\\left(11 \\, p - 4\\right)} \\pi_{a} - 2 \\, p\\right)} \\pi_{c} - 11 \\, p + 12\\right)} \\pi_{g}\\right)} \\pi_{t} - 39 \\, p + 36} - 9}{51 \\, \\pi_{a}^{4} - 4 \\, {\\left(17 \\, \\pi_{a} + 6\\right)} \\pi_{c}^{3} + 51 \\, \\pi_{c}^{4} - 4 \\, {\\left(17 \\, \\pi_{a} + 17 \\, \\pi_{c} + 6\\right)} \\pi_{g}^{3} + 51 \\, \\pi_{g}^{4} - 4 \\, {\\left(17 \\, \\pi_{a} + 17 \\, \\pi_{c} + 17 \\, \\pi_{g} + 6\\right)} \\pi_{t}^{3} + 51 \\, \\pi_{t}^{4} - 24 \\, \\pi_{a}^{3} + 2 \\, {\\left(73 \\, \\pi_{a}^{2} + 12 \\, \\pi_{a} + 15\\right)} \\pi_{c}^{2} + 2 \\, {\\left(73 \\, \\pi_{a}^{2} - 2 \\, {\\left(11 \\, \\pi_{a} - 6\\right)} \\pi_{c} + 73 \\, \\pi_{c}^{2} + 12 \\, \\pi_{a} + 15\\right)} \\pi_{g}^{2} + 2 \\, {\\left(73 \\, \\pi_{a}^{2} - 2 \\, {\\left(11 \\, \\pi_{a} - 6\\right)} \\pi_{c} + 73 \\, \\pi_{c}^{2} - 2 \\, {\\left(11 \\, \\pi_{a} + 11 \\, \\pi_{c} - 6\\right)} \\pi_{g} + 73 \\, \\pi_{g}^{2} + 12 \\, \\pi_{a} + 15\\right)} \\pi_{t}^{2} + 30 \\, \\pi_{a}^{2} - 4 \\, {\\left(17 \\, \\pi_{a}^{3} - 6 \\, \\pi_{a}^{2} + 5 \\, \\pi_{a}\\right)} \\pi_{c} - 4 \\, {\\left(17 \\, \\pi_{a}^{3} + {\\left(11 \\, \\pi_{a} - 6\\right)} \\pi_{c}^{2} + 17 \\, \\pi_{c}^{3} - 6 \\, \\pi_{a}^{2} + {\\left(11 \\, \\pi_{a}^{2} + 12 \\, \\pi_{a} + 5\\right)} \\pi_{c} + 5 \\, \\pi_{a}\\right)} \\pi_{g} - 4 \\, {\\left(17 \\, \\pi_{a}^{3} + {\\left(11 \\, \\pi_{a} - 6\\right)} \\pi_{c}^{2} + 17 \\, \\pi_{c}^{3} + {\\left(11 \\, \\pi_{a} + 11 \\, \\pi_{c} - 6\\right)} \\pi_{g}^{2} + 17 \\, \\pi_{g}^{3} - 6 \\, \\pi_{a}^{2} + {\\left(11 \\, \\pi_{a}^{2} + 12 \\, \\pi_{a} + 5\\right)} \\pi_{c} + {\\left(11 \\, \\pi_{a}^{2} - 6 \\, {\\left(11 \\, \\pi_{a} - 2\\right)} \\pi_{c} + 11 \\, \\pi_{c}^{2} + 12 \\, \\pi_{a} + 5\\right)} \\pi_{g} + 5 \\, \\pi_{a}\\right)} \\pi_{t} + 64 \\, p - 57}\\right)$"
      ],
      "text/plain": [
       "log((51*pi_a^4 - 4*(17*pi_a + 6)*pi_c^3 + 51*pi_c^4 - 4*(17*pi_a + 17*pi_c + 6)*pi_g^3 + 51*pi_g^4 - 4*(17*pi_a + 17*pi_c + 17*pi_g + 6)*pi_t^3 + 51*pi_t^4 - 24*pi_a^3 + 2*(73*pi_a^2 + 12*pi_a - 9)*pi_c^2 + 2*(73*pi_a^2 - 2*(11*pi_a - 6)*pi_c + 73*pi_c^2 + 12*pi_a - 9)*pi_g^2 + 2*(73*pi_a^2 - 2*(11*pi_a - 6)*pi_c + 73*pi_c^2 - 2*(11*pi_a + 11*pi_c - 6)*pi_g + 73*pi_g^2 + 12*pi_a - 9)*pi_t^2 - 18*pi_a^2 - 4*(17*pi_a^3 - 6*pi_a^2 - 3*pi_a)*pi_c - 4*(17*pi_a^3 + (11*pi_a - 6)*pi_c^2 + 17*pi_c^3 - 6*pi_a^2 + (11*pi_a^2 + 12*pi_a - 3)*pi_c - 3*pi_a)*pi_g - 4*(17*pi_a^3 + (11*pi_a - 6)*pi_c^2 + 17*pi_c^3 + (11*pi_a + 11*pi_c - 6)*pi_g^2 + 17*pi_g^3 - 6*pi_a^2 + (11*pi_a^2 + 12*pi_a - 3)*pi_c + (11*pi_a^2 - 6*(11*pi_a - 2)*pi_c + 11*pi_c^2 + 12*pi_a - 3)*pi_g - 3*pi_a)*pi_t + 8*sqrt(-3*(17*p - 12)*pi_a^4 - 3*(17*p - 12)*pi_c^4 - 3*(17*p - 12)*pi_g^4 - 3*(17*p - 12)*pi_t^4 + 24*p*pi_a^3 + 4*((17*p - 12)*pi_a + 6*p)*pi_c^3 + 4*((17*p - 12)*pi_a + (17*p - 12)*pi_c + 6*p)*pi_g^3 + 4*((17*p - 12)*pi_a + (17*p - 12)*pi_c + (17*p - 12)*pi_g + 6*p)*pi_t^3 + 6*(11*p - 12)*pi_a^2 - 2*((73*p - 44)*pi_a^2 + 12*p*pi_a - 33*p + 36)*pi_c^2 - 2*((73*p - 44)*pi_a^2 + (73*p - 44)*pi_c^2 + 12*p*pi_a - 2*((11*p - 4)*pi_a - 6*p)*pi_c - 33*p + 36)*pi_g^2 - 2*((73*p - 44)*pi_a^2 + (73*p - 44)*pi_c^2 + (73*p - 44)*pi_g^2 + 12*p*pi_a - 2*((11*p - 4)*pi_a - 6*p)*pi_c - 2*((11*p - 4)*pi_a + (11*p - 4)*pi_c - 6*p)*pi_g - 33*p + 36)*pi_t^2 + 4*((17*p - 12)*pi_a^3 - 6*p*pi_a^2 - (11*p - 12)*pi_a)*pi_c + 4*((17*p - 12)*pi_a^3 + (17*p - 12)*pi_c^3 - 6*p*pi_a^2 + ((11*p - 4)*pi_a - 6*p)*pi_c^2 - (11*p - 12)*pi_a + ((11*p - 4)*pi_a^2 + 12*p*pi_a - 11*p + 12)*pi_c)*pi_g + 4*((17*p - 12)*pi_a^3 + (17*p - 12)*pi_c^3 + (17*p - 12)*pi_g^3 - 6*p*pi_a^2 + ((11*p - 4)*pi_a - 6*p)*pi_c^2 + ((11*p - 4)*pi_a + (11*p - 4)*pi_c - 6*p)*pi_g^2 - (11*p - 12)*pi_a + ((11*p - 4)*pi_a^2 + 12*p*pi_a - 11*p + 12)*pi_c + ((11*p - 4)*pi_a^2 + (11*p - 4)*pi_c^2 + 12*p*pi_a - 6*((11*p - 4)*pi_a - 2*p)*pi_c - 11*p + 12)*pi_g)*pi_t - 39*p + 36) - 9)/(51*pi_a^4 - 4*(17*pi_a + 6)*pi_c^3 + 51*pi_c^4 - 4*(17*pi_a + 17*pi_c + 6)*pi_g^3 + 51*pi_g^4 - 4*(17*pi_a + 17*pi_c + 17*pi_g + 6)*pi_t^3 + 51*pi_t^4 - 24*pi_a^3 + 2*(73*pi_a^2 + 12*pi_a + 15)*pi_c^2 + 2*(73*pi_a^2 - 2*(11*pi_a - 6)*pi_c + 73*pi_c^2 + 12*pi_a + 15)*pi_g^2 + 2*(73*pi_a^2 - 2*(11*pi_a - 6)*pi_c + 73*pi_c^2 - 2*(11*pi_a + 11*pi_c - 6)*pi_g + 73*pi_g^2 + 12*pi_a + 15)*pi_t^2 + 30*pi_a^2 - 4*(17*pi_a^3 - 6*pi_a^2 + 5*pi_a)*pi_c - 4*(17*pi_a^3 + (11*pi_a - 6)*pi_c^2 + 17*pi_c^3 - 6*pi_a^2 + (11*pi_a^2 + 12*pi_a + 5)*pi_c + 5*pi_a)*pi_g - 4*(17*pi_a^3 + (11*pi_a - 6)*pi_c^2 + 17*pi_c^3 + (11*pi_a + 11*pi_c - 6)*pi_g^2 + 17*pi_g^3 - 6*pi_a^2 + (11*pi_a^2 + 12*pi_a + 5)*pi_c + (11*pi_a^2 - 6*(11*pi_a - 2)*pi_c + 11*pi_c^2 + 12*pi_a + 5)*pi_g + 5*pi_a)*pi_t + 64*p - 57))"
      ]
     },
     "metadata": {},
     "output_type": "display_data"
    }
   ],
   "source": [
    "nu_hat_f10t = solns[1].rhs().simplify_full()\n",
    "pretty_print(nu_hat_f10t)"
   ]
  },
  {
   "cell_type": "code",
   "execution_count": 106,
   "id": "60fbff3f-1f83-4bf9-bb0a-0b32a261f45f",
   "metadata": {},
   "outputs": [
    {
     "ename": "KeyboardInterrupt",
     "evalue": "ECL says: Console interrupt.",
     "output_type": "error",
     "traceback": [
      "\u001b[0;31m---------------------------------------------------------------------------\u001b[0m",
      "\u001b[0;31mKeyboardInterrupt\u001b[0m                         Traceback (most recent call last)",
      "Cell \u001b[0;32mIn[106], line 3\u001b[0m\n\u001b[1;32m      1\u001b[0m temp \u001b[38;5;241m=\u001b[39m \u001b[43m(\u001b[49m\n\u001b[1;32m      2\u001b[0m \u001b[43m    \u001b[49m\u001b[43mnu_hat_f10t\u001b[49m\u001b[43m(\u001b[49m\u001b[43mpi_t\u001b[49m\u001b[38;5;241;43m=\u001b[39;49m\u001b[43mtau_3\u001b[49m\u001b[38;5;241;43m+\u001b[39;49m\u001b[43mpi_g\u001b[49m\u001b[43m)\u001b[49m\u001b[43m(\u001b[49m\u001b[43mpi_g\u001b[49m\u001b[38;5;241;43m=\u001b[39;49m\u001b[43mtau_2\u001b[49m\u001b[38;5;241;43m+\u001b[39;49m\u001b[43mpi_c\u001b[49m\u001b[43m)\u001b[49m\u001b[43m(\u001b[49m\u001b[43mpi_c\u001b[49m\u001b[38;5;241;43m=\u001b[39;49m\u001b[43mtau_1\u001b[49m\u001b[38;5;241;43m+\u001b[39;49m\u001b[43mpi_a\u001b[49m\u001b[43m)\u001b[49m\u001b[43m(\u001b[49m\u001b[43mpi_a\u001b[49m\u001b[38;5;241;43m=\u001b[39;49m\u001b[43m(\u001b[49m\u001b[43mInteger\u001b[49m\u001b[43m(\u001b[49m\u001b[38;5;241;43m1\u001b[39;49m\u001b[43m)\u001b[49m\u001b[38;5;241;43m-\u001b[39;49m\u001b[43mInteger\u001b[49m\u001b[43m(\u001b[49m\u001b[38;5;241;43m3\u001b[39;49m\u001b[43m)\u001b[49m\u001b[38;5;241;43m*\u001b[39;49m\u001b[43mtau_1\u001b[49m\u001b[38;5;241;43m-\u001b[39;49m\u001b[43mInteger\u001b[49m\u001b[43m(\u001b[49m\u001b[38;5;241;43m2\u001b[39;49m\u001b[43m)\u001b[49m\u001b[38;5;241;43m*\u001b[39;49m\u001b[43mtau_2\u001b[49m\u001b[38;5;241;43m-\u001b[39;49m\u001b[43mtau_3\u001b[49m\u001b[43m)\u001b[49m\u001b[38;5;241;43m/\u001b[39;49m\u001b[43mInteger\u001b[49m\u001b[43m(\u001b[49m\u001b[38;5;241;43m4\u001b[39;49m\u001b[43m)\u001b[49m\u001b[43m)\u001b[49m\n\u001b[0;32m----> 3\u001b[0m \u001b[43m)\u001b[49m\u001b[38;5;241;43m.\u001b[39;49m\u001b[43msimplify_full\u001b[49m\u001b[43m(\u001b[49m\u001b[43m)\u001b[49m\u001b[43m(\u001b[49m\u001b[43mtau_1\u001b[49m\u001b[38;5;241;43m=\u001b[39;49m\u001b[43mpi_c\u001b[49m\u001b[38;5;241;43m-\u001b[39;49m\u001b[43mpi_a\u001b[49m\u001b[43m,\u001b[49m\u001b[43m \u001b[49m\u001b[43mtau_2\u001b[49m\u001b[43m \u001b[49m\u001b[38;5;241;43m=\u001b[39;49m\u001b[43m \u001b[49m\u001b[43mpi_g\u001b[49m\u001b[38;5;241;43m-\u001b[39;49m\u001b[43mpi_c\u001b[49m\u001b[43m,\u001b[49m\u001b[43m \u001b[49m\u001b[43mtau_3\u001b[49m\u001b[38;5;241;43m=\u001b[39;49m\u001b[43mpi_t\u001b[49m\u001b[38;5;241;43m-\u001b[39;49m\u001b[43mpi_g\u001b[49m\u001b[43m)\u001b[49m\u001b[38;5;241;43m.\u001b[39;49m\u001b[43mexpand\u001b[49m\u001b[43m(\u001b[49m\u001b[43m)\u001b[49m\u001b[38;5;241;43m.\u001b[39;49m\u001b[43msimplify_full\u001b[49m\u001b[43m(\u001b[49m\u001b[43m)\u001b[49m\n\u001b[1;32m      4\u001b[0m pretty_print(temp)\n",
      "File \u001b[0;32m/usr/local/sage/src/sage/symbolic/expression.pyx:10723\u001b[0m, in \u001b[0;36msage.symbolic.expression.Expression.simplify_full\u001b[0;34m()\u001b[0m\n\u001b[1;32m  10721\u001b[0m x = x.simplify_factorial()\n\u001b[1;32m  10722\u001b[0m x = x.simplify_rectform()\n\u001b[0;32m> 10723\u001b[0m x = x.simplify_trig()\n\u001b[1;32m  10724\u001b[0m x = x.simplify_rational()\n\u001b[1;32m  10725\u001b[0m x = x.expand_sum()\n",
      "File \u001b[0;32m/usr/local/sage/src/sage/symbolic/expression.pyx:11034\u001b[0m, in \u001b[0;36msage.symbolic.expression.Expression.simplify_trig\u001b[0;34m()\u001b[0m\n\u001b[1;32m  11032\u001b[0m # right otherwise!\n\u001b[1;32m  11033\u001b[0m if expand:\n\u001b[0;32m> 11034\u001b[0m     return self.parent()(self._maxima_().trigexpand().trigsimp())\n\u001b[1;32m  11035\u001b[0m else:\n\u001b[1;32m  11036\u001b[0m     return self.parent()(self._maxima_().trigsimp())\n",
      "File \u001b[0;32m/usr/local/sage/src/sage/interfaces/interface.py:701\u001b[0m, in \u001b[0;36mInterfaceFunctionElement.__call__\u001b[0;34m(self, *args, **kwds)\u001b[0m\n\u001b[1;32m    700\u001b[0m \u001b[38;5;28;01mdef\u001b[39;00m \u001b[38;5;21m__call__\u001b[39m(\u001b[38;5;28mself\u001b[39m, \u001b[38;5;241m*\u001b[39margs, \u001b[38;5;241m*\u001b[39m\u001b[38;5;241m*\u001b[39mkwds):\n\u001b[0;32m--> 701\u001b[0m     \u001b[38;5;28;01mreturn\u001b[39;00m \u001b[38;5;28;43mself\u001b[39;49m\u001b[38;5;241;43m.\u001b[39;49m\u001b[43m_obj\u001b[49m\u001b[38;5;241;43m.\u001b[39;49m\u001b[43mparent\u001b[49m\u001b[43m(\u001b[49m\u001b[43m)\u001b[49m\u001b[38;5;241;43m.\u001b[39;49m\u001b[43mfunction_call\u001b[49m\u001b[43m(\u001b[49m\u001b[38;5;28;43mself\u001b[39;49m\u001b[38;5;241;43m.\u001b[39;49m\u001b[43m_name\u001b[49m\u001b[43m,\u001b[49m\u001b[43m \u001b[49m\u001b[43m[\u001b[49m\u001b[38;5;28;43mself\u001b[39;49m\u001b[38;5;241;43m.\u001b[39;49m\u001b[43m_obj\u001b[49m\u001b[43m]\u001b[49m\u001b[43m \u001b[49m\u001b[38;5;241;43m+\u001b[39;49m\u001b[43m \u001b[49m\u001b[38;5;28;43mlist\u001b[39;49m\u001b[43m(\u001b[49m\u001b[43margs\u001b[49m\u001b[43m)\u001b[49m\u001b[43m,\u001b[49m\u001b[43m \u001b[49m\u001b[43mkwds\u001b[49m\u001b[43m)\u001b[49m\n",
      "File \u001b[0;32m/usr/local/sage/src/sage/interfaces/interface.py:620\u001b[0m, in \u001b[0;36mInterface.function_call\u001b[0;34m(self, function, args, kwds)\u001b[0m\n\u001b[1;32m    616\u001b[0m \u001b[38;5;28mself\u001b[39m\u001b[38;5;241m.\u001b[39m_check_valid_function_name(function)\n\u001b[1;32m    617\u001b[0m s \u001b[38;5;241m=\u001b[39m \u001b[38;5;28mself\u001b[39m\u001b[38;5;241m.\u001b[39m_function_call_string(function,\n\u001b[1;32m    618\u001b[0m                                [s\u001b[38;5;241m.\u001b[39mname() \u001b[38;5;28;01mfor\u001b[39;00m s \u001b[38;5;129;01min\u001b[39;00m args],\n\u001b[1;32m    619\u001b[0m                                [\u001b[38;5;124m'\u001b[39m\u001b[38;5;132;01m%s\u001b[39;00m\u001b[38;5;124m=\u001b[39m\u001b[38;5;132;01m%s\u001b[39;00m\u001b[38;5;124m'\u001b[39m \u001b[38;5;241m%\u001b[39m (key, value\u001b[38;5;241m.\u001b[39mname()) \u001b[38;5;28;01mfor\u001b[39;00m key, value \u001b[38;5;129;01min\u001b[39;00m kwds\u001b[38;5;241m.\u001b[39mitems()])\n\u001b[0;32m--> 620\u001b[0m \u001b[38;5;28;01mreturn\u001b[39;00m \u001b[38;5;28;43mself\u001b[39;49m\u001b[38;5;241;43m.\u001b[39;49m\u001b[43mnew\u001b[49m\u001b[43m(\u001b[49m\u001b[43ms\u001b[49m\u001b[43m)\u001b[49m\n",
      "File \u001b[0;32m/usr/local/sage/src/sage/interfaces/interface.py:386\u001b[0m, in \u001b[0;36mInterface.new\u001b[0;34m(self, code)\u001b[0m\n\u001b[1;32m    385\u001b[0m \u001b[38;5;28;01mdef\u001b[39;00m \u001b[38;5;21mnew\u001b[39m(\u001b[38;5;28mself\u001b[39m, code):\n\u001b[0;32m--> 386\u001b[0m     \u001b[38;5;28;01mreturn\u001b[39;00m \u001b[38;5;28;43mself\u001b[39;49m\u001b[43m(\u001b[49m\u001b[43mcode\u001b[49m\u001b[43m)\u001b[49m\n",
      "File \u001b[0;32m/usr/local/sage/src/sage/interfaces/interface.py:299\u001b[0m, in \u001b[0;36mInterface.__call__\u001b[0;34m(self, x, name)\u001b[0m\n\u001b[1;32m    296\u001b[0m         \u001b[38;5;28;01mpass\u001b[39;00m\n\u001b[1;32m    298\u001b[0m \u001b[38;5;28;01mif\u001b[39;00m \u001b[38;5;28misinstance\u001b[39m(x, \u001b[38;5;28mstr\u001b[39m):\n\u001b[0;32m--> 299\u001b[0m     \u001b[38;5;28;01mreturn\u001b[39;00m \u001b[38;5;28;43mcls\u001b[39;49m\u001b[43m(\u001b[49m\u001b[38;5;28;43mself\u001b[39;49m\u001b[43m,\u001b[49m\u001b[43m \u001b[49m\u001b[43mx\u001b[49m\u001b[43m,\u001b[49m\u001b[43m \u001b[49m\u001b[43mname\u001b[49m\u001b[38;5;241;43m=\u001b[39;49m\u001b[43mname\u001b[49m\u001b[43m)\u001b[49m\n\u001b[1;32m    300\u001b[0m \u001b[38;5;28;01mtry\u001b[39;00m:\n\u001b[1;32m    301\u001b[0m     \u001b[38;5;66;03m# Special methods do not and should not have an option to\u001b[39;00m\n\u001b[1;32m    302\u001b[0m     \u001b[38;5;66;03m# set the name directly, as the identifier assigned by the\u001b[39;00m\n\u001b[1;32m    303\u001b[0m     \u001b[38;5;66;03m# interface should stay consistent. An identifier with a\u001b[39;00m\n\u001b[1;32m    304\u001b[0m     \u001b[38;5;66;03m# user-assigned name might change its value, so we return a\u001b[39;00m\n\u001b[1;32m    305\u001b[0m     \u001b[38;5;66;03m# new element.\u001b[39;00m\n\u001b[1;32m    306\u001b[0m     result \u001b[38;5;241m=\u001b[39m \u001b[38;5;28mself\u001b[39m\u001b[38;5;241m.\u001b[39m_coerce_from_special_method(x)\n",
      "File \u001b[0;32m/usr/local/sage/src/sage/interfaces/interface.py:753\u001b[0m, in \u001b[0;36mInterfaceElement.__init__\u001b[0;34m(self, parent, value, is_name, name)\u001b[0m\n\u001b[1;32m    751\u001b[0m \u001b[38;5;28;01melse\u001b[39;00m:\n\u001b[1;32m    752\u001b[0m     \u001b[38;5;28;01mtry\u001b[39;00m:\n\u001b[0;32m--> 753\u001b[0m         \u001b[38;5;28mself\u001b[39m\u001b[38;5;241m.\u001b[39m_name \u001b[38;5;241m=\u001b[39m \u001b[43mparent\u001b[49m\u001b[38;5;241;43m.\u001b[39;49m\u001b[43m_create\u001b[49m\u001b[43m(\u001b[49m\u001b[43mvalue\u001b[49m\u001b[43m,\u001b[49m\u001b[43m \u001b[49m\u001b[43mname\u001b[49m\u001b[38;5;241;43m=\u001b[39;49m\u001b[43mname\u001b[49m\u001b[43m)\u001b[49m\n\u001b[1;32m    754\u001b[0m     \u001b[38;5;28;01mexcept\u001b[39;00m (\u001b[38;5;167;01mTypeError\u001b[39;00m, \u001b[38;5;167;01mRuntimeError\u001b[39;00m, \u001b[38;5;167;01mValueError\u001b[39;00m) \u001b[38;5;28;01mas\u001b[39;00m x:\n\u001b[1;32m    755\u001b[0m         \u001b[38;5;28;01mraise\u001b[39;00m \u001b[38;5;167;01mTypeError\u001b[39;00m(x)\n",
      "File \u001b[0;32m/usr/local/sage/src/sage/interfaces/maxima_lib.py:623\u001b[0m, in \u001b[0;36mMaximaLib._create\u001b[0;34m(self, value, name)\u001b[0m\n\u001b[1;32m    621\u001b[0m         maxima_eval([[msetq], cadadr(\u001b[38;5;124m\"\u001b[39m\u001b[38;5;124m#$\u001b[39m\u001b[38;5;132;01m%s\u001b[39;00m\u001b[38;5;124m$#$\u001b[39m\u001b[38;5;124m\"\u001b[39m \u001b[38;5;241m%\u001b[39m name), value])\n\u001b[1;32m    622\u001b[0m     \u001b[38;5;28;01melse\u001b[39;00m:\n\u001b[0;32m--> 623\u001b[0m         \u001b[38;5;28;43mself\u001b[39;49m\u001b[38;5;241;43m.\u001b[39;49m\u001b[43mset\u001b[49m\u001b[43m(\u001b[49m\u001b[43mname\u001b[49m\u001b[43m,\u001b[49m\u001b[43m \u001b[49m\u001b[43mvalue\u001b[49m\u001b[43m)\u001b[49m\n\u001b[1;32m    624\u001b[0m \u001b[38;5;28;01mexcept\u001b[39;00m \u001b[38;5;167;01mRuntimeError\u001b[39;00m \u001b[38;5;28;01mas\u001b[39;00m error:\n\u001b[1;32m    625\u001b[0m     s \u001b[38;5;241m=\u001b[39m \u001b[38;5;28mstr\u001b[39m(error)\n",
      "File \u001b[0;32m/usr/local/sage/src/sage/interfaces/maxima_lib.py:533\u001b[0m, in \u001b[0;36mMaximaLib.set\u001b[0;34m(self, var, value)\u001b[0m\n\u001b[1;32m    531\u001b[0m     \u001b[38;5;28;01mraise\u001b[39;00m \u001b[38;5;167;01mTypeError\u001b[39;00m\n\u001b[1;32m    532\u001b[0m cmd \u001b[38;5;241m=\u001b[39m \u001b[38;5;124m'\u001b[39m\u001b[38;5;132;01m%s\u001b[39;00m\u001b[38;5;124m : \u001b[39m\u001b[38;5;132;01m%s\u001b[39;00m\u001b[38;5;124m$\u001b[39m\u001b[38;5;124m'\u001b[39m \u001b[38;5;241m%\u001b[39m (var, value\u001b[38;5;241m.\u001b[39mrstrip(\u001b[38;5;124m'\u001b[39m\u001b[38;5;124m;\u001b[39m\u001b[38;5;124m'\u001b[39m))\n\u001b[0;32m--> 533\u001b[0m \u001b[38;5;28;43mself\u001b[39;49m\u001b[38;5;241;43m.\u001b[39;49m\u001b[43meval\u001b[49m\u001b[43m(\u001b[49m\u001b[43mcmd\u001b[49m\u001b[43m)\u001b[49m\n",
      "File \u001b[0;32m/usr/local/sage/src/sage/interfaces/maxima_lib.py:479\u001b[0m, in \u001b[0;36mMaximaLib._eval_line\u001b[0;34m(self, line, locals, reformat, **kwds)\u001b[0m\n\u001b[1;32m    477\u001b[0m         line \u001b[38;5;241m=\u001b[39m line[ind_dollar \u001b[38;5;241m+\u001b[39m \u001b[38;5;241m1\u001b[39m:]\n\u001b[1;32m    478\u001b[0m         \u001b[38;5;28;01mif\u001b[39;00m statement:\n\u001b[0;32m--> 479\u001b[0m             \u001b[43mmaxima_eval\u001b[49m\u001b[43m(\u001b[49m\u001b[38;5;124;43m\"\u001b[39;49m\u001b[38;5;124;43m#$\u001b[39;49m\u001b[38;5;132;43;01m%s\u001b[39;49;00m\u001b[38;5;124;43m$\u001b[39;49m\u001b[38;5;124;43m\"\u001b[39;49m\u001b[43m \u001b[49m\u001b[38;5;241;43m%\u001b[39;49m\u001b[43m \u001b[49m\u001b[43mstatement\u001b[49m\u001b[43m)\u001b[49m\n\u001b[1;32m    480\u001b[0m \u001b[38;5;28;01mif\u001b[39;00m \u001b[38;5;129;01mnot\u001b[39;00m reformat:\n\u001b[1;32m    481\u001b[0m     \u001b[38;5;28;01mreturn\u001b[39;00m result\n",
      "File \u001b[0;32m/usr/local/sage/src/sage/libs/ecl.pyx:828\u001b[0m, in \u001b[0;36msage.libs.ecl.EclObject.__call__\u001b[0;34m()\u001b[0m\n\u001b[1;32m    826\u001b[0m     \"\"\"\n\u001b[1;32m    827\u001b[0m     lispargs = EclObject(list(args))\n\u001b[0;32m--> 828\u001b[0m     return ecl_wrap(ecl_safe_apply(self.obj, (<EclObject>lispargs).obj))\n\u001b[1;32m    829\u001b[0m \n\u001b[1;32m    830\u001b[0m def __richcmp__(left, right, int op):\n",
      "File \u001b[0;32m/usr/local/sage/src/sage/libs/ecl.pyx:354\u001b[0m, in \u001b[0;36msage.libs.ecl.ecl_safe_apply\u001b[0;34m()\u001b[0m\n\u001b[1;32m    352\u001b[0m message = ecl_string_to_python(error)\n\u001b[1;32m    353\u001b[0m if \"Console interrupt\" in message:\n\u001b[0;32m--> 354\u001b[0m     raise KeyboardInterrupt(\"ECL says: {}\".format(message))\n\u001b[1;32m    355\u001b[0m else:\n\u001b[1;32m    356\u001b[0m     raise RuntimeError(\"ECL says: {}\".format(message))\n",
      "\u001b[0;31mKeyboardInterrupt\u001b[0m: ECL says: Console interrupt."
     ]
    }
   ],
   "source": [
    "temp = (\n",
    "    nu_hat_f10t(pi_t=tau_3+pi_g)(pi_g=tau_2+pi_c)(pi_c=tau_1+pi_a)(pi_a=(1-3*tau_1-2*tau_2-tau_3)/4)\n",
    ").simplify_full()(tau_1=pi_c-pi_a, tau_2 = pi_g-pi_c, tau_3=pi_t-pi_g).expand().simplify_full()\n",
    "pretty_print(temp)"
   ]
  },
  {
   "cell_type": "code",
   "execution_count": null,
   "id": "bd56a8b0-fd50-4e25-9cbb-d6531df18c44",
   "metadata": {},
   "outputs": [],
   "source": [
    "zeta = var('zeta')\n",
    "zeta_f10 = pi_a*pi_c*pi_g + pi_a*pi_c*pi_t + pi_a*pi_g*pi_t + pi_c*pi_g*pi_t\n",
    "eta = var('eta')\n",
    "eta_f10 = pi_a*pi_c*pi_g*pi_t\n",
    "\n",
    "fancy_zero = ( \n",
    "    0\n",
    "    + 51*(pi_a + pi_c + pi_g + pi_t - 1)^4\n",
    "    + 180*(pi_a + pi_c + pi_g + pi_t - 1)^3\n",
    "    + 216*(pi_a + pi_c + pi_g + pi_t - 1)^2\n",
    "    + 96*(pi_a + pi_c + pi_g + pi_t - 1)\n",
    "    - 64 * pi_a*pi_c*pi_g*(pi_a + pi_c + pi_g + pi_t - 1)\n",
    "    - 64 * pi_a*pi_c*pi_t*(pi_a + pi_c + pi_g + pi_t - 1)\n",
    "    - 64 * pi_a*pi_g*pi_t*(pi_a + pi_c + pi_g + pi_t - 1)\n",
    "    - 64 * pi_c*pi_g*pi_t*(pi_a + pi_c + pi_g + pi_t - 1)\n",
    "    - 272 * (1/beta_f10/4) *(pi_a + pi_c + pi_g + pi_t - 1)^2\n",
    "    + 384 * (1 / beta_f10 / 4)^2 + 384 * (1 / beta / 4)^2\n",
    "    - 448 * 1/beta_f10/4 * (pi_a + pi_c + pi_g + pi_t - 1)\n",
    "    - 128 * 1 /beta_f10 / 4 + 128 * 1 /beta / 4\n",
    "    - 256 * zeta_f10 + 256 * zeta\n",
    "    + 256 * eta_f10 - 256 * eta\n",
    ")\n",
    "\n",
    "temp = (exp(nu_hat_f10t).numerator() - fancy_zero).expand().simplify_full().expand()\n",
    "pretty_print(temp)"
   ]
  },
  {
   "cell_type": "code",
   "execution_count": null,
   "id": "4dccadfa-3493-4227-8876-5d666f6e560e",
   "metadata": {},
   "outputs": [],
   "source": [
    "print(temp.operands()[2])"
   ]
  },
  {
   "cell_type": "code",
   "execution_count": null,
   "id": "0af5bed8-113a-4e64-bcf0-c0f7331487e2",
   "metadata": {},
   "outputs": [],
   "source": [
    "sqrootterm = temp.operands()[2]^2\n",
    "rest = sum(temp.operands()[:2] + temp.operands()[3:])\n",
    "pretty_print(rest)"
   ]
  },
  {
   "cell_type": "code",
   "execution_count": null,
   "id": "1e867eba-5eab-4fc7-a541-9d5726015247",
   "metadata": {},
   "outputs": [],
   "source": [
    "fancy_zero = ( \n",
    "    0\n",
    "    + 2304 * (pi_a + pi_c + pi_g + pi_t - 1)^4\n",
    "    + 9216 * (pi_a + pi_c + pi_g + pi_t - 1)^3\n",
    "    + 9216 * (pi_a + pi_c + pi_g + pi_t - 1)^2\n",
    "    + 16384 * (1/beta_f10/4)^2 - 16384 * (1/beta/4)^2\n",
    "    - 12288 * (1/beta_f10/4) * (pi_a + pi_c + pi_g + pi_t - 1)^2\n",
    "    - 24576 * (1/beta_f10/4) * (pi_a + pi_c + pi_g + pi_t - 1)\n",
    "    + p * (\n",
    "        - 3264 * (pi_a + pi_c + pi_g + pi_t - 1)^4\n",
    "        + 17408 * (1/beta_f10/4) * (pi_a + pi_c + pi_g + pi_t - 1)^2\n",
    "        - 24576 * (1/beta_f10/4)^2 + 24576 * (1/beta/4)^2\n",
    "        - 11520 * (pi_a + pi_c + pi_g + pi_t - 1)^3\n",
    "        + 28672 * (1/beta_f10/4) * (pi_a + pi_c + pi_g + pi_t - 1)\n",
    "        - 10752 * (pi_a + pi_c + pi_g + pi_t - 1)^2\n",
    "        + 4096 * (pi_a + pi_c + pi_g + pi_t - 1) * zeta_f10\n",
    "        + 16384 * zeta_f10 - 16384 * zeta\n",
    "        - 16384 * eta_f10 + 16384 * eta\n",
    "    )\n",
    ")\n",
    "\n",
    "temp = (sqrootterm - fancy_zero).expand().simplify_full().expand()\n",
    "pretty_print(((temp - temp(p=0))/p).simplify_full().expand())"
   ]
  },
  {
   "cell_type": "code",
   "execution_count": null,
   "id": "2d2b1479-9cff-4591-bb10-75368dc86540",
   "metadata": {},
   "outputs": [],
   "source": [
    "new_numerator = (rest/8) + sqrt(temp/8^2)"
   ]
  },
  {
   "cell_type": "code",
   "execution_count": null,
   "id": "af814494-de2c-43a9-9967-6bf10300cbe5",
   "metadata": {},
   "outputs": [],
   "source": [
    "pretty_print(new_numerator)"
   ]
  },
  {
   "cell_type": "code",
   "execution_count": null,
   "id": "3efe5cc3-e61c-484e-94bc-a5b74a16c5bf",
   "metadata": {},
   "outputs": [],
   "source": [
    "fancy_zero = ( \n",
    "    0\n",
    "    + 51*(pi_a + pi_c + pi_g + pi_t - 1)^4\n",
    "    + 180*(pi_a + pi_c + pi_g + pi_t - 1)^3\n",
    "    + 264*(pi_a + pi_c + pi_g + pi_t - 1)^2\n",
    "    + 192*(pi_a + pi_c + pi_g + pi_t - 1)\n",
    "    - 272 * (1/beta_f10/4) * (pi_a + pi_c + pi_g + pi_t - 1)^2\n",
    "    - 448 * (1/beta_f10/4) * (pi_a + pi_c + pi_g + pi_t - 1)\n",
    "    + 384 * (1/beta_f10/4)^2 - 384 * (1/beta/4)^2\n",
    "    - 64 * zeta_f10 * (pi_a + pi_c + pi_g + pi_t - 1)\n",
    "    # - 64 * pi_a*pi_c*pi_g*(pi_a + pi_c + pi_g + pi_t - 1)\n",
    "    # - 64 * pi_a*pi_c*pi_t*(pi_a + pi_c + pi_g + pi_t - 1)\n",
    "    # - 64 * pi_a*pi_g*pi_t*(pi_a + pi_c + pi_g + pi_t - 1)\n",
    "    # - 64 * pi_c*pi_g*pi_t*(pi_a + pi_c + pi_g + pi_t - 1)\n",
    "    # - 272 * (1/beta_f10/4) *(pi_a + pi_c + pi_g + pi_t - 1)^2\n",
    "    # + 384 * (1 / beta_f10 / 4)^2 + 384 * (1 / beta / 4)^2\n",
    "    # - 448 * 1/beta_f10/4 * (pi_a + pi_c + pi_g + pi_t - 1)\n",
    "    - 256 * 1 /beta_f10 / 4 + 256 * 1 /beta / 4\n",
    "    - 256 * zeta_f10 + 256 * zeta\n",
    "    + 256 * eta_f10 - 256 * eta\n",
    ")\n",
    "\n",
    "temp = (exp(nu_hat_f10t).denominator() - fancy_zero).expand().simplify_full().expand()\n",
    "pretty_print(temp)"
   ]
  },
  {
   "cell_type": "code",
   "execution_count": null,
   "id": "2f58c276-c0f8-4dc4-ac65-7cf453688b36",
   "metadata": {},
   "outputs": [],
   "source": [
    "new_denominator = temp/8"
   ]
  },
  {
   "cell_type": "code",
   "execution_count": null,
   "id": "33e70597-d781-4705-a98e-65ed4f550519",
   "metadata": {},
   "outputs": [],
   "source": [
    "# nu_hat_f10t\n",
    "pretty_print(log( (new_numerator/8)/(new_denominator/8)))"
   ]
  },
  {
   "cell_type": "code",
   "execution_count": null,
   "id": "392856c4-3cea-4994-ac17-7bf327720cf0",
   "metadata": {},
   "outputs": [],
   "source": [
    "pretty_print( ((new_numerator/8)/(new_denominator/8)).simplify_full() )"
   ]
  },
  {
   "cell_type": "code",
   "execution_count": null,
   "id": "ef4d8b9c-3c3d-4370-b810-01af3c589577",
   "metadata": {},
   "outputs": [],
   "source": []
  }
 ],
 "metadata": {
  "kernelspec": {
   "display_name": "SageMath 10.7.beta4",
   "language": "sage",
   "name": "sagemath"
  },
  "language_info": {
   "codemirror_mode": {
    "name": "ipython",
    "version": 3
   },
   "file_extension": ".py",
   "mimetype": "text/x-python",
   "name": "python",
   "nbconvert_exporter": "python",
   "pygments_lexer": "ipython3",
   "version": "3.12.5"
  }
 },
 "nbformat": 4,
 "nbformat_minor": 5
}
