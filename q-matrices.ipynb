{
 "cells": [
  {
   "cell_type": "code",
   "execution_count": 1,
   "id": "ba8ee841-adca-471f-9dae-cb7d94fdafaf",
   "metadata": {},
   "outputs": [],
   "source": [
    "import numpy as np\n",
    "\n",
    "%display plain\n",
    "\n",
    "def without_diagonal(x):\n",
    "    return x - diagonal_matrix(x.diagonal())"
   ]
  },
  {
   "cell_type": "code",
   "execution_count": 2,
   "id": "344d16f9-cc67-47ec-9ac8-47eec0465311",
   "metadata": {},
   "outputs": [],
   "source": [
    "pi_aa, pi_cc, pi_gg, pi_tt, pi_ac, pi_ag, pi_at, pi_cg, pi_ct, pi_gt = var('pi_aa, pi_cc, pi_gg, pi_tt, pi_ac, pi_ag, pi_at, pi_cg, pi_ct, pi_gt')\n",
    "\n",
    "pi10s = vector([pi_aa, pi_cc, pi_gg, pi_tt, pi_ac, pi_ag, pi_at, pi_cg, pi_ct, pi_gt])\n",
    "\n",
    "for v in pi10s:\n",
    "    assume(v,'real')\n",
    "    assume(0 <= v)\n",
    "    assume(v <= 1)\n"
   ]
  },
  {
   "cell_type": "code",
   "execution_count": 3,
   "id": "590f3fc3-6d8d-4911-81e3-a5c428ae42cc",
   "metadata": {},
   "outputs": [],
   "source": [
    "s = [0] + list(var([f\"s_{i+1}\" for i in range(45)]))\n",
    "\n",
    "for v in s[1:]:\n",
    "    assume(v,'real')\n",
    "    assume(v >= 0)\n"
   ]
  },
  {
   "cell_type": "markdown",
   "id": "b1605a2e-a746-4954-b2cd-561a255c9f06",
   "metadata": {},
   "source": [
    "# GTR10"
   ]
  },
  {
   "cell_type": "code",
   "execution_count": 4,
   "id": "c6308e34-9f8b-47cc-93d1-1ba7326e240a",
   "metadata": {},
   "outputs": [],
   "source": [
    "q_gtr10 = np.full((10,10), x) * 0\n",
    "\n",
    "# fmt: off\n",
    "# @formatter:off    \n",
    "q_gtr10[np.triu_indices(10)] = [\n",
    "    0, s_1,  s_2,  s_3,  s_4,  s_5,  s_6,  s_7 ,  s_8, s_9,\n",
    "         0, s_10, s_11, s_12, s_13, s_14, s_15, s_16, s_17,\n",
    "               0, s_18, s_19, s_20, s_21, s_22, s_23, s_24,\n",
    "                     0, s_25, s_26, s_27, s_28, s_29, s_30,\n",
    "                           0, s_31, s_32, s_33, s_34, s_35,\n",
    "                                 0, s_36, s_37, s_38, s_39,\n",
    "                                       0, s_40, s_41, s_42, \n",
    "                                             0, s_43, s_44,\n",
    "                                                   0, s_45,\n",
    "                                                         0\n",
    "]\n",
    "# @formatter:on\n",
    "# fmt: on\n",
    "q_gtr10 = (q_gtr10 + q_gtr10.T) @ diagonal_matrix(pi10s)\n",
    "q_gtr10 -= diagonal_matrix(np.sum(q_gtr10, axis=1))"
   ]
  },
  {
   "cell_type": "code",
   "execution_count": 5,
   "id": "cfb1f7ba-e52f-4b60-b26c-e5a31bc1b674",
   "metadata": {},
   "outputs": [
    {
     "data": {
      "text/plain": [
       "2*pi_aa*pi_cc*s_1 + 2*pi_cc*pi_gg*s_10 + 2*pi_cc*pi_tt*s_11 + 2*pi_ac*pi_cc*s_12 + 2*pi_ag*pi_cc*s_13 + 2*pi_at*pi_cc*s_14 + 2*pi_cc*pi_cg*s_15 + 2*pi_cc*pi_ct*s_16 + 2*pi_cc*pi_gt*s_17 + 2*pi_gg*pi_tt*s_18 + 2*pi_ac*pi_gg*s_19 + 2*pi_aa*pi_gg*s_2 + 2*pi_ag*pi_gg*s_20 + 2*pi_at*pi_gg*s_21 + 2*pi_cg*pi_gg*s_22 + 2*pi_ct*pi_gg*s_23 + 2*pi_gg*pi_gt*s_24 + 2*pi_ac*pi_tt*s_25 + 2*pi_ag*pi_tt*s_26 + 2*pi_at*pi_tt*s_27 + 2*pi_cg*pi_tt*s_28 + 2*pi_ct*pi_tt*s_29 + 2*pi_aa*pi_tt*s_3 + 2*pi_gt*pi_tt*s_30 + 2*pi_ac*pi_ag*s_31 + 2*pi_ac*pi_at*s_32 + 2*pi_ac*pi_cg*s_33 + 2*pi_ac*pi_ct*s_34 + 2*pi_ac*pi_gt*s_35 + 2*pi_ag*pi_at*s_36 + 2*pi_ag*pi_cg*s_37 + 2*pi_ag*pi_ct*s_38 + 2*pi_ag*pi_gt*s_39 + 2*pi_aa*pi_ac*s_4 + 2*pi_at*pi_cg*s_40 + 2*pi_at*pi_ct*s_41 + 2*pi_at*pi_gt*s_42 + 2*pi_cg*pi_ct*s_43 + 2*pi_cg*pi_gt*s_44 + 2*pi_ct*pi_gt*s_45 + 2*pi_aa*pi_ag*s_5 + 2*pi_aa*pi_at*s_6 + 2*pi_aa*pi_cg*s_7 + 2*pi_aa*pi_ct*s_8 + 2*pi_aa*pi_gt*s_9"
      ]
     },
     "execution_count": 5,
     "metadata": {},
     "output_type": "execute_result"
    }
   ],
   "source": [
    "-(pi10s @ q_gtr10.diagonal()).simplify_full()"
   ]
  },
  {
   "cell_type": "code",
   "execution_count": 6,
   "id": "aa16cece-6fb4-413c-a79d-68d9a38ffacf",
   "metadata": {},
   "outputs": [],
   "source": [
    "q_sym_gtr10 = np.diag(np.sqrt([p for p in pi10s])) @ q_gtr10 @ np.diag(np.sqrt([1/p for p in pi10s]))"
   ]
  },
  {
   "cell_type": "code",
   "execution_count": 7,
   "id": "2f4efe88-4e40-4ede-a7fd-1544b6f083e8",
   "metadata": {},
   "outputs": [
    {
     "data": {
      "text/plain": [
       "True"
      ]
     },
     "execution_count": 7,
     "metadata": {},
     "output_type": "execute_result"
    }
   ],
   "source": [
    "np.all(q_sym_gtr10 - q_sym_gtr10.T == 0)"
   ]
  },
  {
   "cell_type": "code",
   "execution_count": 8,
   "id": "dfdedf47-ebe8-445f-a59e-9a4c8f863cd2",
   "metadata": {},
   "outputs": [],
   "source": [
    "# q_sym_gtr10\n",
    "q_sym_gtr10 = np.array([ [c.simplify_real() for c in row] for row in q_sym_gtr10])"
   ]
  },
  {
   "cell_type": "markdown",
   "id": "3bb67e06-af25-4a4b-8cde-97fb7250ee13",
   "metadata": {},
   "source": [
    "#### code generation"
   ]
  },
  {
   "cell_type": "code",
   "execution_count": 9,
   "id": "721386af-e35c-42b5-b157-4e2b63480246",
   "metadata": {},
   "outputs": [
    {
     "name": "stdout",
     "output_type": "stream",
     "text": [
      "np.array([[-pi_cc*s_1 - pi_gg*s_2 - pi_tt*s_3 - pi_ac*s_4 - pi_ag*s_5 - pi_at*s_6 - pi_cg*s_7 - pi_ct*s_8 - pi_gt*s_9,\n",
      "        np.sqrt(pi_aa*pi_cc)*s_1, np.sqrt(pi_aa*pi_gg)*s_2,\n",
      "        np.sqrt(pi_aa*pi_tt)*s_3, np.sqrt(pi_aa*pi_ac)*s_4,\n",
      "        np.sqrt(pi_aa*pi_ag)*s_5, np.sqrt(pi_aa*pi_at)*s_6,\n",
      "        np.sqrt(pi_aa*pi_cg)*s_7, np.sqrt(pi_aa*pi_ct)*s_8,\n",
      "        np.sqrt(pi_aa*pi_gt)*s_9],\n",
      "       [np.sqrt(pi_aa*pi_cc)*s_1,\n",
      "        -pi_aa*s_1 - pi_gg*s_10 - pi_tt*s_11 - pi_ac*s_12 - pi_ag*s_13 - pi_at*s_14 - pi_cg*s_15 - pi_ct*s_16 - pi_gt*s_17,\n",
      "        np.sqrt(pi_cc*pi_gg)*s_10, np.sqrt(pi_cc*pi_tt)*s_11,\n",
      "        np.sqrt(pi_ac*pi_cc)*s_12, np.sqrt(pi_ag*pi_cc)*s_13,\n",
      "        np.sqrt(pi_at*pi_cc)*s_14, np.sqrt(pi_cc*pi_cg)*s_15,\n",
      "        np.sqrt(pi_cc*pi_ct)*s_16, np.sqrt(pi_cc*pi_gt)*s_17],\n",
      "       [np.sqrt(pi_aa*pi_gg)*s_2, np.sqrt(pi_cc*pi_gg)*s_10,\n",
      "        -pi_cc*s_10 - pi_tt*s_18 - pi_ac*s_19 - pi_aa*s_2 - pi_ag*s_20 - pi_at*s_21 - pi_cg*s_22 - pi_ct*s_23 - pi_gt*s_24,\n",
      "        np.sqrt(pi_gg*pi_tt)*s_18, np.sqrt(pi_ac*pi_gg)*s_19,\n",
      "        np.sqrt(pi_ag*pi_gg)*s_20, np.sqrt(pi_at*pi_gg)*s_21,\n",
      "        np.sqrt(pi_cg*pi_gg)*s_22, np.sqrt(pi_ct*pi_gg)*s_23,\n",
      "        np.sqrt(pi_gg*pi_gt)*s_24],\n",
      "       [np.sqrt(pi_aa*pi_tt)*s_3, np.sqrt(pi_cc*pi_tt)*s_11,\n",
      "        np.sqrt(pi_gg*pi_tt)*s_18,\n",
      "        -pi_cc*s_11 - pi_gg*s_18 - pi_ac*s_25 - pi_ag*s_26 - pi_at*s_27 - pi_cg*s_28 - pi_ct*s_29 - pi_aa*s_3 - pi_gt*s_30,\n",
      "        np.sqrt(pi_ac*pi_tt)*s_25, np.sqrt(pi_ag*pi_tt)*s_26,\n",
      "        np.sqrt(pi_at*pi_tt)*s_27, np.sqrt(pi_cg*pi_tt)*s_28,\n",
      "        np.sqrt(pi_ct*pi_tt)*s_29, np.sqrt(pi_gt*pi_tt)*s_30],\n",
      "       [np.sqrt(pi_aa*pi_ac)*s_4, np.sqrt(pi_ac*pi_cc)*s_12,\n",
      "        np.sqrt(pi_ac*pi_gg)*s_19, np.sqrt(pi_ac*pi_tt)*s_25,\n",
      "        -pi_cc*s_12 - pi_gg*s_19 - pi_tt*s_25 - pi_ag*s_31 - pi_at*s_32 - pi_cg*s_33 - pi_ct*s_34 - pi_gt*s_35 - pi_aa*s_4,\n",
      "        np.sqrt(pi_ac*pi_ag)*s_31, np.sqrt(pi_ac*pi_at)*s_32,\n",
      "        np.sqrt(pi_ac*pi_cg)*s_33, np.sqrt(pi_ac*pi_ct)*s_34,\n",
      "        np.sqrt(pi_ac*pi_gt)*s_35],\n",
      "       [np.sqrt(pi_aa*pi_ag)*s_5, np.sqrt(pi_ag*pi_cc)*s_13,\n",
      "        np.sqrt(pi_ag*pi_gg)*s_20, np.sqrt(pi_ag*pi_tt)*s_26,\n",
      "        np.sqrt(pi_ac*pi_ag)*s_31,\n",
      "        -pi_cc*s_13 - pi_gg*s_20 - pi_tt*s_26 - pi_ac*s_31 - pi_at*s_36 - pi_cg*s_37 - pi_ct*s_38 - pi_gt*s_39 - pi_aa*s_5,\n",
      "        np.sqrt(pi_ag*pi_at)*s_36, np.sqrt(pi_ag*pi_cg)*s_37,\n",
      "        np.sqrt(pi_ag*pi_ct)*s_38, np.sqrt(pi_ag*pi_gt)*s_39],\n",
      "       [np.sqrt(pi_aa*pi_at)*s_6, np.sqrt(pi_at*pi_cc)*s_14,\n",
      "        np.sqrt(pi_at*pi_gg)*s_21, np.sqrt(pi_at*pi_tt)*s_27,\n",
      "        np.sqrt(pi_ac*pi_at)*s_32, np.sqrt(pi_ag*pi_at)*s_36,\n",
      "        -pi_cc*s_14 - pi_gg*s_21 - pi_tt*s_27 - pi_ac*s_32 - pi_ag*s_36 - pi_cg*s_40 - pi_ct*s_41 - pi_gt*s_42 - pi_aa*s_6,\n",
      "        np.sqrt(pi_at*pi_cg)*s_40, np.sqrt(pi_at*pi_ct)*s_41,\n",
      "        np.sqrt(pi_at*pi_gt)*s_42],\n",
      "       [np.sqrt(pi_aa*pi_cg)*s_7, np.sqrt(pi_cc*pi_cg)*s_15,\n",
      "        np.sqrt(pi_cg*pi_gg)*s_22, np.sqrt(pi_cg*pi_tt)*s_28,\n",
      "        np.sqrt(pi_ac*pi_cg)*s_33, np.sqrt(pi_ag*pi_cg)*s_37,\n",
      "        np.sqrt(pi_at*pi_cg)*s_40,\n",
      "        -pi_cc*s_15 - pi_gg*s_22 - pi_tt*s_28 - pi_ac*s_33 - pi_ag*s_37 - pi_at*s_40 - pi_ct*s_43 - pi_gt*s_44 - pi_aa*s_7,\n",
      "        np.sqrt(pi_cg*pi_ct)*s_43, np.sqrt(pi_cg*pi_gt)*s_44],\n",
      "       [np.sqrt(pi_aa*pi_ct)*s_8, np.sqrt(pi_cc*pi_ct)*s_16,\n",
      "        np.sqrt(pi_ct*pi_gg)*s_23, np.sqrt(pi_ct*pi_tt)*s_29,\n",
      "        np.sqrt(pi_ac*pi_ct)*s_34, np.sqrt(pi_ag*pi_ct)*s_38,\n",
      "        np.sqrt(pi_at*pi_ct)*s_41, np.sqrt(pi_cg*pi_ct)*s_43,\n",
      "        -pi_cc*s_16 - pi_gg*s_23 - pi_tt*s_29 - pi_ac*s_34 - pi_ag*s_38 - pi_at*s_41 - pi_cg*s_43 - pi_gt*s_45 - pi_aa*s_8,\n",
      "        np.sqrt(pi_ct*pi_gt)*s_45],\n",
      "       [np.sqrt(pi_aa*pi_gt)*s_9, np.sqrt(pi_cc*pi_gt)*s_17,\n",
      "        np.sqrt(pi_gg*pi_gt)*s_24, np.sqrt(pi_gt*pi_tt)*s_30,\n",
      "        np.sqrt(pi_ac*pi_gt)*s_35, np.sqrt(pi_ag*pi_gt)*s_39,\n",
      "        np.sqrt(pi_at*pi_gt)*s_42, np.sqrt(pi_cg*pi_gt)*s_44,\n",
      "        np.sqrt(pi_ct*pi_gt)*s_45,\n",
      "        -pi_cc*s_17 - pi_gg*s_24 - pi_tt*s_30 - pi_ac*s_35 - pi_ag*s_39 - pi_at*s_42 - pi_cg*s_44 - pi_ct*s_45 - pi_aa*s_9]],\n",
      "      dtype=np.float64)\n"
     ]
    }
   ],
   "source": [
    "print('np.'+repr(q_sym_gtr10).replace('sqrt','np.sqrt').replace(')*np.sqrt(','*').replace('object','np.float64'))"
   ]
  },
  {
   "cell_type": "markdown",
   "id": "4f5ff9fb-1d99-495f-ac65-575aa824bb46",
   "metadata": {},
   "source": [
    "# GTR10Z"
   ]
  },
  {
   "cell_type": "code",
   "execution_count": 10,
   "id": "27f44f63-f80e-469e-aeae-d8bf0849e962",
   "metadata": {},
   "outputs": [],
   "source": [
    "q_gtr10z = np.full((10,10), x) * 0\n",
    "\n",
    "# fmt: off\n",
    "# @formatter:off\n",
    "q_gtr10z[np.triu_indices(10)] = [\n",
    "    0, 0, 0, 0, s_1,  s_2,  s_3,    0,    0,    0,\n",
    "       0, 0, 0, s_4,    0,    0,  s_5,  s_6,    0,\n",
    "          0, 0,   0,  s_7,    0,  s_8,    0,  s_9,\n",
    "             0,   0,    0, s_10,    0, s_11, s_12,\n",
    "                  0, s_13, s_14, s_15, s_16,    0,\n",
    "                        0, s_17, s_18,    0, s_19,\n",
    "                              0,    0, s_20, s_21, \n",
    "                                    0, s_22, s_23,\n",
    "                                          0, s_24,\n",
    "                                                0\n",
    "]\n",
    "# @formatter:on\n",
    "# fmt: on\n",
    "q_gtr10z = (q_gtr10z + q_gtr10z.T) @ diagonal_matrix(pi10s)\n",
    "q_gtr10z -= diagonal_matrix(np.sum(q_gtr10z, axis=1))"
   ]
  },
  {
   "cell_type": "code",
   "execution_count": 11,
   "id": "4e6ac9b7-321c-429f-a694-e1315bd8f2bc",
   "metadata": {},
   "outputs": [
    {
     "data": {
      "text/plain": [
       "2*pi_aa*pi_ac*s_1 + 2*pi_at*pi_tt*s_10 + 2*pi_ct*pi_tt*s_11 + 2*pi_gt*pi_tt*s_12 + 2*pi_ac*pi_ag*s_13 + 2*pi_ac*pi_at*s_14 + 2*pi_ac*pi_cg*s_15 + 2*pi_ac*pi_ct*s_16 + 2*pi_ag*pi_at*s_17 + 2*pi_ag*pi_cg*s_18 + 2*pi_ag*pi_gt*s_19 + 2*pi_aa*pi_ag*s_2 + 2*pi_at*pi_ct*s_20 + 2*pi_at*pi_gt*s_21 + 2*pi_cg*pi_ct*s_22 + 2*pi_cg*pi_gt*s_23 + 2*pi_ct*pi_gt*s_24 + 2*pi_aa*pi_at*s_3 + 2*pi_ac*pi_cc*s_4 + 2*pi_cc*pi_cg*s_5 + 2*pi_cc*pi_ct*s_6 + 2*pi_ag*pi_gg*s_7 + 2*pi_cg*pi_gg*s_8 + 2*pi_gg*pi_gt*s_9"
      ]
     },
     "execution_count": 11,
     "metadata": {},
     "output_type": "execute_result"
    }
   ],
   "source": [
    "-(pi10s @ q_gtr10z.diagonal()).simplify_full()"
   ]
  },
  {
   "cell_type": "code",
   "execution_count": 12,
   "id": "2a4aba82-882c-4067-b10e-61389ca53b28",
   "metadata": {},
   "outputs": [
    {
     "data": {
      "text/plain": [
       "[         0          0          0          0  pi_ac*s_1  pi_ag*s_2  pi_at*s_3          0          0          0]\n",
       "[         0          0          0          0  pi_ac*s_4          0          0  pi_cg*s_5  pi_ct*s_6          0]\n",
       "[         0          0          0          0          0  pi_ag*s_7          0  pi_cg*s_8          0  pi_gt*s_9]\n",
       "[         0          0          0          0          0          0 pi_at*s_10          0 pi_ct*s_11 pi_gt*s_12]\n",
       "[ pi_aa*s_1  pi_cc*s_4          0          0          0 pi_ag*s_13 pi_at*s_14 pi_cg*s_15 pi_ct*s_16          0]\n",
       "[ pi_aa*s_2          0  pi_gg*s_7          0 pi_ac*s_13          0 pi_at*s_17 pi_cg*s_18          0 pi_gt*s_19]\n",
       "[ pi_aa*s_3          0          0 pi_tt*s_10 pi_ac*s_14 pi_ag*s_17          0          0 pi_ct*s_20 pi_gt*s_21]\n",
       "[         0  pi_cc*s_5  pi_gg*s_8          0 pi_ac*s_15 pi_ag*s_18          0          0 pi_ct*s_22 pi_gt*s_23]\n",
       "[         0  pi_cc*s_6          0 pi_tt*s_11 pi_ac*s_16          0 pi_at*s_20 pi_cg*s_22          0 pi_gt*s_24]\n",
       "[         0          0  pi_gg*s_9 pi_tt*s_12          0 pi_ag*s_19 pi_at*s_21 pi_cg*s_23 pi_ct*s_24          0]"
      ]
     },
     "execution_count": 12,
     "metadata": {},
     "output_type": "execute_result"
    }
   ],
   "source": [
    "matrix(without_diagonal(q_gtr10z))"
   ]
  },
  {
   "cell_type": "code",
   "execution_count": 13,
   "id": "f733fb5a-068a-4d5b-8564-fad93f377e98",
   "metadata": {},
   "outputs": [],
   "source": [
    "q_sym_gtr10z = np.diag(np.sqrt([p for p in pi10s])) @ q_gtr10z @ np.diag(np.sqrt([1/p for p in pi10s]))"
   ]
  },
  {
   "cell_type": "code",
   "execution_count": 14,
   "id": "de957ebe-bb98-4b24-b0a9-a173d1377e80",
   "metadata": {},
   "outputs": [
    {
     "data": {
      "text/plain": [
       "True"
      ]
     },
     "execution_count": 14,
     "metadata": {},
     "output_type": "execute_result"
    }
   ],
   "source": [
    "np.all(q_sym_gtr10z - q_sym_gtr10z.T == 0)"
   ]
  },
  {
   "cell_type": "code",
   "execution_count": 15,
   "id": "b59d3a65-8d15-44fc-b4e0-733c4bd50190",
   "metadata": {},
   "outputs": [],
   "source": [
    "# q_sym_gtr10z\n",
    "q_sym_gtr10z = np.array([ [c.simplify_real() for c in row] for row in q_sym_gtr10z])"
   ]
  },
  {
   "cell_type": "markdown",
   "id": "b48781ac-5563-47f8-9d94-87774f3b73b1",
   "metadata": {},
   "source": [
    "#### code generation"
   ]
  },
  {
   "cell_type": "code",
   "execution_count": 16,
   "id": "f257e22e-8c95-4aed-b295-4b829cfc6154",
   "metadata": {},
   "outputs": [
    {
     "name": "stdout",
     "output_type": "stream",
     "text": [
      "np.array([[-pi_ac*s_1 - pi_ag*s_2 - pi_at*s_3, 0, 0, 0,\n",
      "        np.sqrt(pi_aa*pi_ac)*s_1, np.sqrt(pi_aa*pi_ag)*s_2,\n",
      "        np.sqrt(pi_aa*pi_at)*s_3, 0, 0, 0],\n",
      "       [0, -pi_ac*s_4 - pi_cg*s_5 - pi_ct*s_6, 0, 0,\n",
      "        np.sqrt(pi_ac*pi_cc)*s_4, 0, 0, np.sqrt(pi_cc*pi_cg)*s_5,\n",
      "        np.sqrt(pi_cc*pi_ct)*s_6, 0],\n",
      "       [0, 0, -pi_ag*s_7 - pi_cg*s_8 - pi_gt*s_9, 0, 0,\n",
      "        np.sqrt(pi_ag*pi_gg)*s_7, 0, np.sqrt(pi_cg*pi_gg)*s_8, 0,\n",
      "        np.sqrt(pi_gg*pi_gt)*s_9],\n",
      "       [0, 0, 0, -pi_at*s_10 - pi_ct*s_11 - pi_gt*s_12, 0, 0,\n",
      "        np.sqrt(pi_at*pi_tt)*s_10, 0, np.sqrt(pi_ct*pi_tt)*s_11,\n",
      "        np.sqrt(pi_gt*pi_tt)*s_12],\n",
      "       [np.sqrt(pi_aa*pi_ac)*s_1, np.sqrt(pi_ac*pi_cc)*s_4, 0, 0,\n",
      "        -pi_aa*s_1 - pi_ag*s_13 - pi_at*s_14 - pi_cg*s_15 - pi_ct*s_16 - pi_cc*s_4,\n",
      "        np.sqrt(pi_ac*pi_ag)*s_13, np.sqrt(pi_ac*pi_at)*s_14,\n",
      "        np.sqrt(pi_ac*pi_cg)*s_15, np.sqrt(pi_ac*pi_ct)*s_16, 0],\n",
      "       [np.sqrt(pi_aa*pi_ag)*s_2, 0, np.sqrt(pi_ag*pi_gg)*s_7, 0,\n",
      "        np.sqrt(pi_ac*pi_ag)*s_13,\n",
      "        -pi_ac*s_13 - pi_at*s_17 - pi_cg*s_18 - pi_gt*s_19 - pi_aa*s_2 - pi_gg*s_7,\n",
      "        np.sqrt(pi_ag*pi_at)*s_17, np.sqrt(pi_ag*pi_cg)*s_18, 0,\n",
      "        np.sqrt(pi_ag*pi_gt)*s_19],\n",
      "       [np.sqrt(pi_aa*pi_at)*s_3, 0, 0, np.sqrt(pi_at*pi_tt)*s_10,\n",
      "        np.sqrt(pi_ac*pi_at)*s_14, np.sqrt(pi_ag*pi_at)*s_17,\n",
      "        -pi_tt*s_10 - pi_ac*s_14 - pi_ag*s_17 - pi_ct*s_20 - pi_gt*s_21 - pi_aa*s_3,\n",
      "        0, np.sqrt(pi_at*pi_ct)*s_20, np.sqrt(pi_at*pi_gt)*s_21],\n",
      "       [0, np.sqrt(pi_cc*pi_cg)*s_5, np.sqrt(pi_cg*pi_gg)*s_8, 0,\n",
      "        np.sqrt(pi_ac*pi_cg)*s_15, np.sqrt(pi_ag*pi_cg)*s_18, 0,\n",
      "        -pi_ac*s_15 - pi_ag*s_18 - pi_ct*s_22 - pi_gt*s_23 - pi_cc*s_5 - pi_gg*s_8,\n",
      "        np.sqrt(pi_cg*pi_ct)*s_22, np.sqrt(pi_cg*pi_gt)*s_23],\n",
      "       [0, np.sqrt(pi_cc*pi_ct)*s_6, 0, np.sqrt(pi_ct*pi_tt)*s_11,\n",
      "        np.sqrt(pi_ac*pi_ct)*s_16, 0, np.sqrt(pi_at*pi_ct)*s_20,\n",
      "        np.sqrt(pi_cg*pi_ct)*s_22,\n",
      "        -pi_tt*s_11 - pi_ac*s_16 - pi_at*s_20 - pi_cg*s_22 - pi_gt*s_24 - pi_cc*s_6,\n",
      "        np.sqrt(pi_ct*pi_gt)*s_24],\n",
      "       [0, 0, np.sqrt(pi_gg*pi_gt)*s_9, np.sqrt(pi_gt*pi_tt)*s_12,\n",
      "        0, np.sqrt(pi_ag*pi_gt)*s_19, np.sqrt(pi_at*pi_gt)*s_21,\n",
      "        np.sqrt(pi_cg*pi_gt)*s_23, np.sqrt(pi_ct*pi_gt)*s_24,\n",
      "        -pi_tt*s_12 - pi_ag*s_19 - pi_at*s_21 - pi_cg*s_23 - pi_ct*s_24 - pi_gg*s_9]],\n",
      "      dtype=np.float64)\n"
     ]
    }
   ],
   "source": [
    "print('np.'+repr(q_sym_gtr10z).replace('sqrt','np.sqrt').replace(')*np.sqrt(','*').replace('object','np.float64'))"
   ]
  },
  {
   "cell_type": "markdown",
   "id": "e81216e0-5bf7-47da-8376-41afdfe05795",
   "metadata": {},
   "source": [
    "# Cellphy10"
   ]
  },
  {
   "cell_type": "code",
   "execution_count": 17,
   "id": "be4041f5-17ea-4a15-a27f-247d033f4ef4",
   "metadata": {},
   "outputs": [],
   "source": [
    "q_cp10 = np.full((10,10), x) * 0\n",
    "\n",
    "# fmt: off\n",
    "# @formatter:off\n",
    "q_cp10[np.triu_indices(10)] = [\n",
    "    0, 0, 0, 0, s_1, s_2, s_3,   0,   0,   0,\n",
    "       0, 0, 0, s_1,   0,   0, s_4, s_5,   0,\n",
    "          0, 0,   0, s_2,   0, s_4,   0, s_6,\n",
    "             0,   0,   0, s_3,   0, s_5, s_6,\n",
    "                  0, s_4, s_5, s_2, s_3,   0,\n",
    "                       0, s_6, s_1,   0, s_3,\n",
    "                            0,   0, s_1, s_2, \n",
    "                                 0, s_6, s_5,\n",
    "                                      0, s_4,\n",
    "                                           0]\n",
    "# @formatter:on\n",
    "# fmt: on\n",
    "\n",
    "q_cp10 = (q_cp10 + q_cp10.T) @ diagonal_matrix(pi10s)\n",
    "q_cp10 -= diagonal_matrix(np.sum(q_cp10, axis=1))"
   ]
  },
  {
   "cell_type": "code",
   "execution_count": 18,
   "id": "7a59178c-852c-460d-8a4a-27977c116330",
   "metadata": {},
   "outputs": [
    {
     "data": {
      "text/plain": [
       "(pi_aa*pi_ac + pi_ac*pi_cc + pi_ag*pi_cg + pi_at*pi_ct)*s_1 + (pi_aa*pi_ag + pi_ac*pi_cg + pi_ag*pi_gg + pi_at*pi_gt)*s_2 + (pi_aa*pi_at + pi_ac*pi_ct + pi_ag*pi_gt + pi_at*pi_tt)*s_3 + (pi_ac*pi_ag + pi_cc*pi_cg + pi_cg*pi_gg + pi_ct*pi_gt)*s_4 + (pi_ac*pi_at + pi_cc*pi_ct + pi_cg*pi_gt + pi_ct*pi_tt)*s_5 + (pi_ag*pi_at + pi_cg*pi_ct + pi_gg*pi_gt + pi_gt*pi_tt)*s_6"
      ]
     },
     "execution_count": 18,
     "metadata": {},
     "output_type": "execute_result"
    }
   ],
   "source": [
    "-(pi10s @ q_cp10.diagonal()/2).simplify_full()"
   ]
  },
  {
   "cell_type": "code",
   "execution_count": 19,
   "id": "a3d84f8d-1ed6-47a0-b40a-8bb4c19afa22",
   "metadata": {},
   "outputs": [
    {
     "data": {
      "text/plain": [
       "[        0         0         0         0 pi_ac*s_1 pi_ag*s_2 pi_at*s_3         0         0         0]\n",
       "[        0         0         0         0 pi_ac*s_1         0         0 pi_cg*s_4 pi_ct*s_5         0]\n",
       "[        0         0         0         0         0 pi_ag*s_2         0 pi_cg*s_4         0 pi_gt*s_6]\n",
       "[        0         0         0         0         0         0 pi_at*s_3         0 pi_ct*s_5 pi_gt*s_6]\n",
       "[pi_aa*s_1 pi_cc*s_1         0         0         0 pi_ag*s_4 pi_at*s_5 pi_cg*s_2 pi_ct*s_3         0]\n",
       "[pi_aa*s_2         0 pi_gg*s_2         0 pi_ac*s_4         0 pi_at*s_6 pi_cg*s_1         0 pi_gt*s_3]\n",
       "[pi_aa*s_3         0         0 pi_tt*s_3 pi_ac*s_5 pi_ag*s_6         0         0 pi_ct*s_1 pi_gt*s_2]\n",
       "[        0 pi_cc*s_4 pi_gg*s_4         0 pi_ac*s_2 pi_ag*s_1         0         0 pi_ct*s_6 pi_gt*s_5]\n",
       "[        0 pi_cc*s_5         0 pi_tt*s_5 pi_ac*s_3         0 pi_at*s_1 pi_cg*s_6         0 pi_gt*s_4]\n",
       "[        0         0 pi_gg*s_6 pi_tt*s_6         0 pi_ag*s_3 pi_at*s_2 pi_cg*s_5 pi_ct*s_4         0]"
      ]
     },
     "execution_count": 19,
     "metadata": {},
     "output_type": "execute_result"
    }
   ],
   "source": [
    "matrix(without_diagonal(q_cp10))"
   ]
  },
  {
   "cell_type": "code",
   "execution_count": 20,
   "id": "844b88ec-9a9c-4642-b7d7-48421f2596cf",
   "metadata": {},
   "outputs": [],
   "source": [
    "q_sym_cp10 = np.diag(np.sqrt([p for p in pi10s])) @ q_cp10 @ np.diag(np.sqrt([1/p for p in pi10s]))"
   ]
  },
  {
   "cell_type": "code",
   "execution_count": 21,
   "id": "c355a009-a43e-4b73-a5f3-3e0fd3e1a0d7",
   "metadata": {},
   "outputs": [
    {
     "data": {
      "text/plain": [
       "True"
      ]
     },
     "execution_count": 21,
     "metadata": {},
     "output_type": "execute_result"
    }
   ],
   "source": [
    "np.all(q_sym_cp10 - q_sym_cp10.T == 0)"
   ]
  },
  {
   "cell_type": "code",
   "execution_count": 22,
   "id": "e107a305-082c-4acc-aba4-bf244625d073",
   "metadata": {},
   "outputs": [],
   "source": [
    "# q_sym_cp10\n",
    "q_sym_cp10 = np.array([ [c.simplify_real() for c in row] for row in q_sym_cp10])"
   ]
  },
  {
   "cell_type": "markdown",
   "id": "8c7ae650-77fa-404e-9ec4-cb6bcefe8c95",
   "metadata": {},
   "source": [
    "#### code generation"
   ]
  },
  {
   "cell_type": "code",
   "execution_count": 23,
   "id": "a305a789-65ba-4978-aa76-5f877c4447aa",
   "metadata": {},
   "outputs": [
    {
     "name": "stdout",
     "output_type": "stream",
     "text": [
      "np.array([[-pi_ac*s_1 - pi_ag*s_2 - pi_at*s_3, 0, 0, 0,\n",
      "        np.sqrt(pi_aa*pi_ac)*s_1, np.sqrt(pi_aa*pi_ag)*s_2,\n",
      "        np.sqrt(pi_aa*pi_at)*s_3, 0, 0, 0],\n",
      "       [0, -pi_ac*s_1 - pi_cg*s_4 - pi_ct*s_5, 0, 0,\n",
      "        np.sqrt(pi_ac*pi_cc)*s_1, 0, 0, np.sqrt(pi_cc*pi_cg)*s_4,\n",
      "        np.sqrt(pi_cc*pi_ct)*s_5, 0],\n",
      "       [0, 0, -pi_ag*s_2 - pi_cg*s_4 - pi_gt*s_6, 0, 0,\n",
      "        np.sqrt(pi_ag*pi_gg)*s_2, 0, np.sqrt(pi_cg*pi_gg)*s_4, 0,\n",
      "        np.sqrt(pi_gg*pi_gt)*s_6],\n",
      "       [0, 0, 0, -pi_at*s_3 - pi_ct*s_5 - pi_gt*s_6, 0, 0,\n",
      "        np.sqrt(pi_at*pi_tt)*s_3, 0, np.sqrt(pi_ct*pi_tt)*s_5,\n",
      "        np.sqrt(pi_gt*pi_tt)*s_6],\n",
      "       [np.sqrt(pi_aa*pi_ac)*s_1, np.sqrt(pi_ac*pi_cc)*s_1, 0, 0,\n",
      "        -pi_aa*s_1 - pi_cc*s_1 - pi_cg*s_2 - pi_ct*s_3 - pi_ag*s_4 - pi_at*s_5,\n",
      "        np.sqrt(pi_ac*pi_ag)*s_4, np.sqrt(pi_ac*pi_at)*s_5,\n",
      "        np.sqrt(pi_ac*pi_cg)*s_2, np.sqrt(pi_ac*pi_ct)*s_3, 0],\n",
      "       [np.sqrt(pi_aa*pi_ag)*s_2, 0, np.sqrt(pi_ag*pi_gg)*s_2, 0,\n",
      "        np.sqrt(pi_ac*pi_ag)*s_4,\n",
      "        -pi_cg*s_1 - pi_aa*s_2 - pi_gg*s_2 - pi_gt*s_3 - pi_ac*s_4 - pi_at*s_6,\n",
      "        np.sqrt(pi_ag*pi_at)*s_6, np.sqrt(pi_ag*pi_cg)*s_1, 0,\n",
      "        np.sqrt(pi_ag*pi_gt)*s_3],\n",
      "       [np.sqrt(pi_aa*pi_at)*s_3, 0, 0, np.sqrt(pi_at*pi_tt)*s_3,\n",
      "        np.sqrt(pi_ac*pi_at)*s_5, np.sqrt(pi_ag*pi_at)*s_6,\n",
      "        -pi_ct*s_1 - pi_gt*s_2 - pi_aa*s_3 - pi_tt*s_3 - pi_ac*s_5 - pi_ag*s_6,\n",
      "        0, np.sqrt(pi_at*pi_ct)*s_1, np.sqrt(pi_at*pi_gt)*s_2],\n",
      "       [0, np.sqrt(pi_cc*pi_cg)*s_4, np.sqrt(pi_cg*pi_gg)*s_4, 0,\n",
      "        np.sqrt(pi_ac*pi_cg)*s_2, np.sqrt(pi_ag*pi_cg)*s_1, 0,\n",
      "        -pi_ag*s_1 - pi_ac*s_2 - pi_cc*s_4 - pi_gg*s_4 - pi_gt*s_5 - pi_ct*s_6,\n",
      "        np.sqrt(pi_cg*pi_ct)*s_6, np.sqrt(pi_cg*pi_gt)*s_5],\n",
      "       [0, np.sqrt(pi_cc*pi_ct)*s_5, 0, np.sqrt(pi_ct*pi_tt)*s_5,\n",
      "        np.sqrt(pi_ac*pi_ct)*s_3, 0, np.sqrt(pi_at*pi_ct)*s_1,\n",
      "        np.sqrt(pi_cg*pi_ct)*s_6,\n",
      "        -pi_at*s_1 - pi_ac*s_3 - pi_gt*s_4 - pi_cc*s_5 - pi_tt*s_5 - pi_cg*s_6,\n",
      "        np.sqrt(pi_ct*pi_gt)*s_4],\n",
      "       [0, 0, np.sqrt(pi_gg*pi_gt)*s_6, np.sqrt(pi_gt*pi_tt)*s_6,\n",
      "        0, np.sqrt(pi_ag*pi_gt)*s_3, np.sqrt(pi_at*pi_gt)*s_2,\n",
      "        np.sqrt(pi_cg*pi_gt)*s_5, np.sqrt(pi_ct*pi_gt)*s_4,\n",
      "        -pi_at*s_2 - pi_ag*s_3 - pi_ct*s_4 - pi_cg*s_5 - pi_gg*s_6 - pi_tt*s_6]],\n",
      "      dtype=np.float64)\n"
     ]
    }
   ],
   "source": [
    "print('np.'+repr(q_sym_cp10).replace('sqrt','np.sqrt').replace(')*np.sqrt(','*').replace('object','np.float64'))"
   ]
  },
  {
   "cell_type": "markdown",
   "id": "beb38253-3c6d-43ad-b86a-96fbe64ec0bf",
   "metadata": {},
   "source": [
    "# GTR4"
   ]
  },
  {
   "cell_type": "code",
   "execution_count": 24,
   "id": "61dceea8-fa38-4fa1-a10c-a5967407d7ee",
   "metadata": {},
   "outputs": [],
   "source": [
    "pi_a, pi_c, pi_g, pi_t = var('pi_a, pi_c, pi_g, pi_t')\n",
    "pi4s = vector([pi_a, pi_c, pi_g, pi_t])\n",
    "\n",
    "for v in pi4s:\n",
    "    assume(v,'real')\n",
    "    assume(0 <= v)\n",
    "    assume(v <= 1)\n",
    "\n",
    "pi16_4s = vector(np.kron(pi4s,pi4s))\n",
    "\n",
    "s_ac, s_ag, s_at, s_cg, s_ct, s_gt = var('s_ac, s_ag, s_at, s_cg, s_ct, s_gt')\n",
    "s4s = vector([s_ac, s_ag, s_at, s_cg, s_ct, s_gt])\n",
    "\n",
    "for v in s4s:\n",
    "    assume(v,'real')\n",
    "    assume(0 <= v)\n"
   ]
  },
  {
   "cell_type": "code",
   "execution_count": 25,
   "id": "f96d5bd2-d80a-4b70-b117-4962d9f0c595",
   "metadata": {},
   "outputs": [],
   "source": [
    "q_gtr4 = np.full((4,4), x) * 0\n",
    "\n",
    "# fmt: off\n",
    "# @formatter:off\n",
    "q_gtr4[np.triu_indices(4)] = [\n",
    "    0, s_ac, s_ag, s_at, \n",
    "          0, s_cg, s_ct,\n",
    "                0, s_gt,\n",
    "                      0]\n",
    "# @formatter:on\n",
    "# fmt: on\n",
    "\n",
    "q_gtr4 = (q_gtr4 + q_gtr4.T) @ diagonal_matrix(pi4s)\n",
    "q_gtr4 -= diagonal_matrix(np.sum(q_gtr4, axis=1))"
   ]
  },
  {
   "cell_type": "code",
   "execution_count": 26,
   "id": "51aca04f-a9a5-4922-813d-7c8372988fbd",
   "metadata": {},
   "outputs": [
    {
     "data": {
      "text/plain": [
       "2*pi_a*pi_c*s_ac + 2*pi_a*pi_g*s_ag + 2*pi_a*pi_t*s_at + 2*pi_c*pi_g*s_cg + 2*pi_c*pi_t*s_ct + 2*pi_g*pi_t*s_gt"
      ]
     },
     "execution_count": 26,
     "metadata": {},
     "output_type": "execute_result"
    }
   ],
   "source": [
    "-(pi4s @ q_gtr4.diagonal()).simplify_full()"
   ]
  },
  {
   "cell_type": "markdown",
   "id": "1f60a211-85f2-4ea0-aa0a-441d98ef74e4",
   "metadata": {},
   "source": [
    "# GTRsq"
   ]
  },
  {
   "cell_type": "code",
   "execution_count": 27,
   "id": "cef975c1-13ab-4b80-8fd7-63e3e98fa90e",
   "metadata": {},
   "outputs": [],
   "source": [
    "q_gtrsq = matrix(q_gtr4).tensor_product(identity_matrix(4)) + identity_matrix(4).tensor_product(matrix(q_gtr4))"
   ]
  },
  {
   "cell_type": "code",
   "execution_count": 28,
   "id": "df63b504-8af4-4bda-8e8b-97d1eb98a6fd",
   "metadata": {},
   "outputs": [],
   "source": [
    "q_sym_gtrsq = np.diag([sqrt(p) for p in pi16_4s]) @ q_gtrsq @ np.diag([sqrt(1/p) for p in pi16_4s])"
   ]
  },
  {
   "cell_type": "code",
   "execution_count": 29,
   "id": "4b77f49b-3063-49ff-8edc-fdf9b70b57ce",
   "metadata": {},
   "outputs": [],
   "source": [
    "q_sym_gtrsq = np.array([ [c.simplify_real() for c in row] for row in q_sym_gtrsq])"
   ]
  },
  {
   "cell_type": "code",
   "execution_count": 30,
   "id": "8234a236-7538-4a17-bcac-375b785f509a",
   "metadata": {},
   "outputs": [
    {
     "data": {
      "text/plain": [
       "True"
      ]
     },
     "execution_count": 30,
     "metadata": {},
     "output_type": "execute_result"
    }
   ],
   "source": [
    "np.all(q_sym_gtrsq - q_sym_gtrsq.T == 0)"
   ]
  },
  {
   "cell_type": "code",
   "execution_count": 31,
   "id": "8051e6a1-7d70-4162-b8bb-3e644a83e3ff",
   "metadata": {},
   "outputs": [
    {
     "data": {
      "text/plain": [
       "4*(pi_a^2*pi_c + pi_a*pi_c^2 + pi_a*pi_c*pi_g + pi_a*pi_c*pi_t)*s_ac + 4*(pi_a*pi_g^2 + pi_a*pi_g*pi_t + (pi_a^2 + pi_a*pi_c)*pi_g)*s_ag + 4*(pi_a*pi_t^2 + (pi_a^2 + pi_a*pi_c + pi_a*pi_g)*pi_t)*s_at + 4*(pi_c*pi_g^2 + pi_c*pi_g*pi_t + (pi_a*pi_c + pi_c^2)*pi_g)*s_cg + 4*(pi_c*pi_t^2 + (pi_a*pi_c + pi_c^2 + pi_c*pi_g)*pi_t)*s_ct + 4*(pi_g*pi_t^2 + ((pi_a + pi_c)*pi_g + pi_g^2)*pi_t)*s_gt"
      ]
     },
     "execution_count": 31,
     "metadata": {},
     "output_type": "execute_result"
    }
   ],
   "source": [
    "(-pi16_4s @ q_sym_gtrsq.diagonal()).simplify_full()"
   ]
  },
  {
   "cell_type": "markdown",
   "id": "1236db05-ee0d-4176-b5a9-f89b2d282f8d",
   "metadata": {},
   "source": [
    "#### code generation"
   ]
  },
  {
   "cell_type": "code",
   "execution_count": 32,
   "id": "b6825b01-5dc1-4d61-be9a-2f5e32124cdc",
   "metadata": {},
   "outputs": [
    {
     "name": "stdout",
     "output_type": "stream",
     "text": [
      "np.array([[-2*pi_c*s_ac - 2*pi_g*s_ag - 2*pi_t*s_at,\n",
      "        np.sqrt(pi_a*pi_c)*s_ac, np.sqrt(pi_a*pi_g)*s_ag,\n",
      "        np.sqrt(pi_a*pi_t)*s_at, np.sqrt(pi_a*pi_c)*s_ac, 0, 0, 0,\n",
      "        np.sqrt(pi_a*pi_g)*s_ag, 0, 0, 0, np.sqrt(pi_a*pi_t)*s_at,\n",
      "        0, 0, 0],\n",
      "       [np.sqrt(pi_a*pi_c)*s_ac,\n",
      "        -pi_a*s_ac - pi_c*s_ac - pi_g*s_ag - pi_t*s_at - pi_g*s_cg - pi_t*s_ct,\n",
      "        np.sqrt(pi_c*pi_g)*s_cg, np.sqrt(pi_c*pi_t)*s_ct, 0,\n",
      "        np.sqrt(pi_a*pi_c)*s_ac, 0, 0, 0, np.sqrt(pi_a*pi_g)*s_ag,\n",
      "        0, 0, 0, np.sqrt(pi_a*pi_t)*s_at, 0, 0],\n",
      "       [np.sqrt(pi_a*pi_g)*s_ag, np.sqrt(pi_c*pi_g)*s_cg,\n",
      "        -pi_c*s_ac - pi_a*s_ag - pi_g*s_ag - pi_t*s_at - pi_c*s_cg - pi_t*s_gt,\n",
      "        np.sqrt(pi_g*pi_t)*s_gt, 0, 0, np.sqrt(pi_a*pi_c)*s_ac, 0,\n",
      "        0, 0, np.sqrt(pi_a*pi_g)*s_ag, 0, 0, 0,\n",
      "        np.sqrt(pi_a*pi_t)*s_at, 0],\n",
      "       [np.sqrt(pi_a*pi_t)*s_at, np.sqrt(pi_c*pi_t)*s_ct,\n",
      "        np.sqrt(pi_g*pi_t)*s_gt,\n",
      "        -pi_c*s_ac - pi_g*s_ag - pi_a*s_at - pi_t*s_at - pi_c*s_ct - pi_g*s_gt,\n",
      "        0, 0, 0, np.sqrt(pi_a*pi_c)*s_ac, 0, 0, 0,\n",
      "        np.sqrt(pi_a*pi_g)*s_ag, 0, 0, 0, np.sqrt(pi_a*pi_t)*s_at],\n",
      "       [np.sqrt(pi_a*pi_c)*s_ac, 0, 0, 0,\n",
      "        -pi_a*s_ac - pi_c*s_ac - pi_g*s_ag - pi_t*s_at - pi_g*s_cg - pi_t*s_ct,\n",
      "        np.sqrt(pi_a*pi_c)*s_ac, np.sqrt(pi_a*pi_g)*s_ag,\n",
      "        np.sqrt(pi_a*pi_t)*s_at, np.sqrt(pi_c*pi_g)*s_cg, 0, 0, 0,\n",
      "        np.sqrt(pi_c*pi_t)*s_ct, 0, 0, 0],\n",
      "       [0, np.sqrt(pi_a*pi_c)*s_ac, 0, 0, np.sqrt(pi_a*pi_c)*s_ac,\n",
      "        -2*pi_a*s_ac - 2*pi_g*s_cg - 2*pi_t*s_ct,\n",
      "        np.sqrt(pi_c*pi_g)*s_cg, np.sqrt(pi_c*pi_t)*s_ct, 0,\n",
      "        np.sqrt(pi_c*pi_g)*s_cg, 0, 0, 0, np.sqrt(pi_c*pi_t)*s_ct,\n",
      "        0, 0],\n",
      "       [0, 0, np.sqrt(pi_a*pi_c)*s_ac, 0, np.sqrt(pi_a*pi_g)*s_ag,\n",
      "        np.sqrt(pi_c*pi_g)*s_cg,\n",
      "        -pi_a*s_ac - pi_a*s_ag - pi_c*s_cg - pi_g*s_cg - pi_t*s_ct - pi_t*s_gt,\n",
      "        np.sqrt(pi_g*pi_t)*s_gt, 0, 0, np.sqrt(pi_c*pi_g)*s_cg, 0,\n",
      "        0, 0, np.sqrt(pi_c*pi_t)*s_ct, 0],\n",
      "       [0, 0, 0, np.sqrt(pi_a*pi_c)*s_ac, np.sqrt(pi_a*pi_t)*s_at,\n",
      "        np.sqrt(pi_c*pi_t)*s_ct, np.sqrt(pi_g*pi_t)*s_gt,\n",
      "        -pi_a*s_ac - pi_a*s_at - pi_g*s_cg - pi_c*s_ct - pi_t*s_ct - pi_g*s_gt,\n",
      "        0, 0, 0, np.sqrt(pi_c*pi_g)*s_cg, 0, 0, 0,\n",
      "        np.sqrt(pi_c*pi_t)*s_ct],\n",
      "       [np.sqrt(pi_a*pi_g)*s_ag, 0, 0, 0, np.sqrt(pi_c*pi_g)*s_cg,\n",
      "        0, 0, 0,\n",
      "        -pi_c*s_ac - pi_a*s_ag - pi_g*s_ag - pi_t*s_at - pi_c*s_cg - pi_t*s_gt,\n",
      "        np.sqrt(pi_a*pi_c)*s_ac, np.sqrt(pi_a*pi_g)*s_ag,\n",
      "        np.sqrt(pi_a*pi_t)*s_at, np.sqrt(pi_g*pi_t)*s_gt, 0, 0, 0],\n",
      "       [0, np.sqrt(pi_a*pi_g)*s_ag, 0, 0, 0,\n",
      "        np.sqrt(pi_c*pi_g)*s_cg, 0, 0, np.sqrt(pi_a*pi_c)*s_ac,\n",
      "        -pi_a*s_ac - pi_a*s_ag - pi_c*s_cg - pi_g*s_cg - pi_t*s_ct - pi_t*s_gt,\n",
      "        np.sqrt(pi_c*pi_g)*s_cg, np.sqrt(pi_c*pi_t)*s_ct, 0,\n",
      "        np.sqrt(pi_g*pi_t)*s_gt, 0, 0],\n",
      "       [0, 0, np.sqrt(pi_a*pi_g)*s_ag, 0, 0, 0,\n",
      "        np.sqrt(pi_c*pi_g)*s_cg, 0, np.sqrt(pi_a*pi_g)*s_ag,\n",
      "        np.sqrt(pi_c*pi_g)*s_cg,\n",
      "        -2*pi_a*s_ag - 2*pi_c*s_cg - 2*pi_t*s_gt,\n",
      "        np.sqrt(pi_g*pi_t)*s_gt, 0, 0, np.sqrt(pi_g*pi_t)*s_gt, 0],\n",
      "       [0, 0, 0, np.sqrt(pi_a*pi_g)*s_ag, 0, 0, 0,\n",
      "        np.sqrt(pi_c*pi_g)*s_cg, np.sqrt(pi_a*pi_t)*s_at,\n",
      "        np.sqrt(pi_c*pi_t)*s_ct, np.sqrt(pi_g*pi_t)*s_gt,\n",
      "        -pi_a*s_ag - pi_a*s_at - pi_c*s_cg - pi_c*s_ct - pi_g*s_gt - pi_t*s_gt,\n",
      "        0, 0, 0, np.sqrt(pi_g*pi_t)*s_gt],\n",
      "       [np.sqrt(pi_a*pi_t)*s_at, 0, 0, 0, np.sqrt(pi_c*pi_t)*s_ct,\n",
      "        0, 0, 0, np.sqrt(pi_g*pi_t)*s_gt, 0, 0, 0,\n",
      "        -pi_c*s_ac - pi_g*s_ag - pi_a*s_at - pi_t*s_at - pi_c*s_ct - pi_g*s_gt,\n",
      "        np.sqrt(pi_a*pi_c)*s_ac, np.sqrt(pi_a*pi_g)*s_ag,\n",
      "        np.sqrt(pi_a*pi_t)*s_at],\n",
      "       [0, np.sqrt(pi_a*pi_t)*s_at, 0, 0, 0,\n",
      "        np.sqrt(pi_c*pi_t)*s_ct, 0, 0, 0, np.sqrt(pi_g*pi_t)*s_gt,\n",
      "        0, 0, np.sqrt(pi_a*pi_c)*s_ac,\n",
      "        -pi_a*s_ac - pi_a*s_at - pi_g*s_cg - pi_c*s_ct - pi_t*s_ct - pi_g*s_gt,\n",
      "        np.sqrt(pi_c*pi_g)*s_cg, np.sqrt(pi_c*pi_t)*s_ct],\n",
      "       [0, 0, np.sqrt(pi_a*pi_t)*s_at, 0, 0, 0,\n",
      "        np.sqrt(pi_c*pi_t)*s_ct, 0, 0, 0, np.sqrt(pi_g*pi_t)*s_gt,\n",
      "        0, np.sqrt(pi_a*pi_g)*s_ag, np.sqrt(pi_c*pi_g)*s_cg,\n",
      "        -pi_a*s_ag - pi_a*s_at - pi_c*s_cg - pi_c*s_ct - pi_g*s_gt - pi_t*s_gt,\n",
      "        np.sqrt(pi_g*pi_t)*s_gt],\n",
      "       [0, 0, 0, np.sqrt(pi_a*pi_t)*s_at, 0, 0, 0,\n",
      "        np.sqrt(pi_c*pi_t)*s_ct, 0, 0, 0, np.sqrt(pi_g*pi_t)*s_gt,\n",
      "        np.sqrt(pi_a*pi_t)*s_at, np.sqrt(pi_c*pi_t)*s_ct,\n",
      "        np.sqrt(pi_g*pi_t)*s_gt,\n",
      "        -2*pi_a*s_at - 2*pi_c*s_ct - 2*pi_g*s_gt]], dtype=np.float64)\n"
     ]
    }
   ],
   "source": [
    "print('np.'+repr(q_sym_gtrsq).replace('sqrt','np.sqrt').replace(')*np.sqrt(','*').replace('object','np.float64'))"
   ]
  },
  {
   "cell_type": "markdown",
   "id": "f88da899-a1a6-40dc-b8ce-64c3ae65af72",
   "metadata": {},
   "source": [
    "# GTRunphased"
   ]
  },
  {
   "cell_type": "code",
   "execution_count": 33,
   "id": "cd322219-99bf-4459-a48a-6c34648b06df",
   "metadata": {},
   "outputs": [
    {
     "data": {
      "text/plain": [
       "True"
      ]
     },
     "execution_count": 33,
     "metadata": {},
     "output_type": "execute_result"
    }
   ],
   "source": [
    "perm = matrix(\n",
    "    # fmt: off\n",
    "    # @formatter:off\n",
    "    [\n",
    "        # AA, CC, GG, TT, AC, CA, AG, GA, AT, TA, CG, GC, CT, TC, GT, TG\n",
    "        [  1,  0,  0,  0,  0,  0,  0,  0,  0,  0,  0,  0,  0,  0,  0,  0],  # AA\n",
    "        [  0,  0,  0,  0,  1,  0,  0,  0,  0,  0,  0,  0,  0,  0,  0,  0],  # AC\n",
    "        [  0,  0,  0,  0,  0,  0,  1,  0,  0,  0,  0,  0,  0,  0,  0,  0],  # AG\n",
    "        [  0,  0,  0,  0,  0,  0,  0,  0,  1,  0,  0,  0,  0,  0,  0,  0],  # AT\n",
    "        [  0,  0,  0,  0,  0,  1,  0,  0,  0,  0,  0,  0,  0,  0,  0,  0],  # CA\n",
    "        [  0,  1,  0,  0,  0,  0,  0,  0,  0,  0,  0,  0,  0,  0,  0,  0],  # CC\n",
    "        [  0,  0,  0,  0,  0,  0,  0,  0,  0,  0,  1,  0,  0,  0,  0,  0],  # CG\n",
    "        [  0,  0,  0,  0,  0,  0,  0,  0,  0,  0,  0,  0,  1,  0,  0,  0],  # CT\n",
    "        [  0,  0,  0,  0,  0,  0,  0,  1,  0,  0,  0,  0,  0,  0,  0,  0],  # GA\n",
    "        [  0,  0,  0,  0,  0,  0,  0,  0,  0,  0,  0,  1,  0,  0,  0,  0],  # GC\n",
    "        [  0,  0,  1,  0,  0,  0,  0,  0,  0,  0,  0,  0,  0,  0,  0,  0],  # GG\n",
    "        [  0,  0,  0,  0,  0,  0,  0,  0,  0,  0,  0,  0,  0,  0,  1,  0],  # GT\n",
    "        [  0,  0,  0,  0,  0,  0,  0,  0,  0,  1,  0,  0,  0,  0,  0,  0],  # TA\n",
    "        [  0,  0,  0,  0,  0,  0,  0,  0,  0,  0,  0,  0,  0,  1,  0,  0],  # TC\n",
    "        [  0,  0,  0,  0,  0,  0,  0,  0,  0,  0,  0,  0,  0,  0,  0,  1],  # TG\n",
    "        [  0,  0,  0,  1,  0,  0,  0,  0,  0,  0,  0,  0,  0,  0,  0,  0],  # TT\n",
    "    ],\n",
    "    # @formatter:on\n",
    "    # fmt: on\n",
    ")\n",
    "\n",
    "without_diagonal((perm.T * q_gtrsq * perm)[0:4,0:4])==0"
   ]
  },
  {
   "cell_type": "code",
   "execution_count": 34,
   "id": "d1316999-4165-4010-8be8-c2156ad3d7a4",
   "metadata": {},
   "outputs": [],
   "source": [
    "V = matrix(\n",
    "    # fmt: off\n",
    "    # @formatter:off\n",
    "    [\n",
    "        # AA, CC, GG, TT, AC, CA, AG, GA, AT, TA, CG, GC, CT, TC, GT, TG\n",
    "        [  1,  0,  0,  0,  0,  0,  0,  0,  0,  0,  0,  0,  0,  0,  0,  0],  # AA\n",
    "        [  0,  1,  0,  0,  0,  0,  0,  0,  0,  0,  0,  0,  0,  0,  0,  0],  # CC\n",
    "        [  0,  0,  1,  0,  0,  0,  0,  0,  0,  0,  0,  0,  0,  0,  0,  0],  # GG\n",
    "        [  0,  0,  0,  1,  0,  0,  0,  0,  0,  0,  0,  0,  0,  0,  0,  0],  # TT\n",
    "        [  0,  0,  0,  0,  1,  1,  0,  0,  0,  0,  0,  0,  0,  0,  0,  0],  # AC\n",
    "        [  0,  0,  0,  0,  0,  0,  1,  1,  0,  0,  0,  0,  0,  0,  0,  0],  # AG\n",
    "        [  0,  0,  0,  0,  0,  0,  0,  0,  1,  1,  0,  0,  0,  0,  0,  0],  # AT\n",
    "        [  0,  0,  0,  0,  0,  0,  0,  0,  0,  0,  1,  1,  0,  0,  0,  0],  # CG\n",
    "        [  0,  0,  0,  0,  0,  0,  0,  0,  0,  0,  0,  0,  1,  1,  0,  0],  # CT\n",
    "        [  0,  0,  0,  0,  0,  0,  0,  0,  0,  0,  0,  0,  0,  0,  1,  1],  # GT\n",
    "    ],\n",
    "    # @formatter:on\n",
    "    # fmt: on\n",
    ").T\n",
    "\n",
    "# U = np.linalg.pinv(V)\n",
    "U = matrix(\n",
    "    # fmt: off\n",
    "    # @formatter:off\n",
    "    [\n",
    "        # AA, CC,  GG,  TT, AC , AG , AT , CG , CT , GT\n",
    "        [  1,  0,   0,   0,  0 ,  0 ,  0 ,  0 ,  0 ,  0 ],  # AA\n",
    "        [  0,  1,   0,   0,  0 ,  0 ,  0 ,  0 ,  0 ,  0 ],  # CC\n",
    "        [  0,  0,   1,   0,  0 ,  0 ,  0 ,  0 ,  0 ,  0 ],  # GG\n",
    "        [  0,  0,   0,   1,  0 ,  0 ,  0 ,  0 ,  0 ,  0 ],  # TT\n",
    "        [  0,  0,   0,   0, 1/2,  0 ,  0 ,  0 ,  0 ,  0 ],  # AC\n",
    "        [  0,  0,   0,   0, 1/2,  0 ,  0 ,  0 ,  0 ,  0 ],  # CA\n",
    "        [  0,  0,   0,   0,  0 , 1/2,  0 ,  0 ,  0 ,  0 ],  # AG\n",
    "        [  0,  0,   0,   0,  0 , 1/2,  0 ,  0 ,  0 ,  0 ],  # GA\n",
    "        [  0,  0,   0,   0,  0 ,  0 , 1/2,  0 ,  0 ,  0 ],  # AT\n",
    "        [  0,  0,   0,   0,  0 ,  0 , 1/2,  0 ,  0 ,  0 ],  # TA\n",
    "        [  0,  0,   0,   0,  0 ,  0 ,  0 , 1/2,  0 ,  0 ],  # CG\n",
    "        [  0,  0,   0,   0,  0 ,  0 ,  0 , 1/2,  0 ,  0 ],  # GC\n",
    "        [  0,  0,   0,   0,  0 ,  0 ,  0 ,  0 , 1/2,  0 ],  # CT\n",
    "        [  0,  0,   0,   0,  0 ,  0 ,  0 ,  0 , 1/2,  0 ],  # TA\n",
    "        [  0,  0,   0,   0,  0 ,  0 ,  0 ,  0 ,  0 , 1/2],  # GT\n",
    "        [  0,  0,   0,   0,  0 ,  0 ,  0 ,  0 ,  0 , 1/2],  # TG\n",
    "    ],\n",
    "    # @formatter:on\n",
    "    # fmt: on\n",
    ").T\n"
   ]
  },
  {
   "cell_type": "code",
   "execution_count": 35,
   "id": "cabed129-2af1-443c-b8fd-c4be4b1da3c8",
   "metadata": {},
   "outputs": [],
   "source": [
    "q_unph = (U * perm.T * q_gtrsq * perm * V)"
   ]
  },
  {
   "cell_type": "code",
   "execution_count": 36,
   "id": "4e6a486b-560c-400a-a974-6c5f8039d0db",
   "metadata": {},
   "outputs": [
    {
     "data": {
      "text/html": [
       "<html>\\(\\displaystyle \\left(\\begin{array}{rrrrrrrrrr}\n",
       "0 & 0 & 0 & 0 & 2 \\, \\pi_{c} s_{\\mathit{ac}} & 2 \\, \\pi_{g} s_{\\mathit{ag}} & 2 \\, \\pi_{t} s_{\\mathit{at}} & 0 & 0 & 0 \\\\\n",
       "0 & 0 & 0 & 0 & 2 \\, \\pi_{a} s_{\\mathit{ac}} & 0 & 0 & 2 \\, \\pi_{g} s_{\\mathit{cg}} & 2 \\, \\pi_{t} s_{\\mathit{ct}} & 0 \\\\\n",
       "0 & 0 & 0 & 0 & 0 & 2 \\, \\pi_{a} s_{\\mathit{ag}} & 0 & 2 \\, \\pi_{c} s_{\\mathit{cg}} & 0 & 2 \\, \\pi_{t} s_{\\mathit{gt}} \\\\\n",
       "0 & 0 & 0 & 0 & 0 & 0 & 2 \\, \\pi_{a} s_{\\mathit{at}} & 0 & 2 \\, \\pi_{c} s_{\\mathit{ct}} & 2 \\, \\pi_{g} s_{\\mathit{gt}} \\\\\n",
       "\\pi_{a} s_{\\mathit{ac}} & \\pi_{c} s_{\\mathit{ac}} & 0 & 0 & 0 & \\pi_{g} s_{\\mathit{cg}} & \\pi_{t} s_{\\mathit{ct}} & \\pi_{g} s_{\\mathit{ag}} & \\pi_{t} s_{\\mathit{at}} & 0 \\\\\n",
       "\\pi_{a} s_{\\mathit{ag}} & 0 & \\pi_{g} s_{\\mathit{ag}} & 0 & \\pi_{c} s_{\\mathit{cg}} & 0 & \\pi_{t} s_{\\mathit{gt}} & \\pi_{c} s_{\\mathit{ac}} & 0 & \\pi_{t} s_{\\mathit{at}} \\\\\n",
       "\\pi_{a} s_{\\mathit{at}} & 0 & 0 & \\pi_{t} s_{\\mathit{at}} & \\pi_{c} s_{\\mathit{ct}} & \\pi_{g} s_{\\mathit{gt}} & 0 & 0 & \\pi_{c} s_{\\mathit{ac}} & \\pi_{g} s_{\\mathit{ag}} \\\\\n",
       "0 & \\pi_{c} s_{\\mathit{cg}} & \\pi_{g} s_{\\mathit{cg}} & 0 & \\pi_{a} s_{\\mathit{ag}} & \\pi_{a} s_{\\mathit{ac}} & 0 & 0 & \\pi_{t} s_{\\mathit{gt}} & \\pi_{t} s_{\\mathit{ct}} \\\\\n",
       "0 & \\pi_{c} s_{\\mathit{ct}} & 0 & \\pi_{t} s_{\\mathit{ct}} & \\pi_{a} s_{\\mathit{at}} & 0 & \\pi_{a} s_{\\mathit{ac}} & \\pi_{g} s_{\\mathit{gt}} & 0 & \\pi_{g} s_{\\mathit{cg}} \\\\\n",
       "0 & 0 & \\pi_{g} s_{\\mathit{gt}} & \\pi_{t} s_{\\mathit{gt}} & 0 & \\pi_{a} s_{\\mathit{at}} & \\pi_{a} s_{\\mathit{ag}} & \\pi_{c} s_{\\mathit{ct}} & \\pi_{c} s_{\\mathit{cg}} & 0\n",
       "\\end{array}\\right)\\)</html>"
      ],
      "text/latex": [
       "$\\displaystyle \\left(\\begin{array}{rrrrrrrrrr}\n",
       "0 & 0 & 0 & 0 & 2 \\, \\pi_{c} s_{\\mathit{ac}} & 2 \\, \\pi_{g} s_{\\mathit{ag}} & 2 \\, \\pi_{t} s_{\\mathit{at}} & 0 & 0 & 0 \\\\\n",
       "0 & 0 & 0 & 0 & 2 \\, \\pi_{a} s_{\\mathit{ac}} & 0 & 0 & 2 \\, \\pi_{g} s_{\\mathit{cg}} & 2 \\, \\pi_{t} s_{\\mathit{ct}} & 0 \\\\\n",
       "0 & 0 & 0 & 0 & 0 & 2 \\, \\pi_{a} s_{\\mathit{ag}} & 0 & 2 \\, \\pi_{c} s_{\\mathit{cg}} & 0 & 2 \\, \\pi_{t} s_{\\mathit{gt}} \\\\\n",
       "0 & 0 & 0 & 0 & 0 & 0 & 2 \\, \\pi_{a} s_{\\mathit{at}} & 0 & 2 \\, \\pi_{c} s_{\\mathit{ct}} & 2 \\, \\pi_{g} s_{\\mathit{gt}} \\\\\n",
       "\\pi_{a} s_{\\mathit{ac}} & \\pi_{c} s_{\\mathit{ac}} & 0 & 0 & 0 & \\pi_{g} s_{\\mathit{cg}} & \\pi_{t} s_{\\mathit{ct}} & \\pi_{g} s_{\\mathit{ag}} & \\pi_{t} s_{\\mathit{at}} & 0 \\\\\n",
       "\\pi_{a} s_{\\mathit{ag}} & 0 & \\pi_{g} s_{\\mathit{ag}} & 0 & \\pi_{c} s_{\\mathit{cg}} & 0 & \\pi_{t} s_{\\mathit{gt}} & \\pi_{c} s_{\\mathit{ac}} & 0 & \\pi_{t} s_{\\mathit{at}} \\\\\n",
       "\\pi_{a} s_{\\mathit{at}} & 0 & 0 & \\pi_{t} s_{\\mathit{at}} & \\pi_{c} s_{\\mathit{ct}} & \\pi_{g} s_{\\mathit{gt}} & 0 & 0 & \\pi_{c} s_{\\mathit{ac}} & \\pi_{g} s_{\\mathit{ag}} \\\\\n",
       "0 & \\pi_{c} s_{\\mathit{cg}} & \\pi_{g} s_{\\mathit{cg}} & 0 & \\pi_{a} s_{\\mathit{ag}} & \\pi_{a} s_{\\mathit{ac}} & 0 & 0 & \\pi_{t} s_{\\mathit{gt}} & \\pi_{t} s_{\\mathit{ct}} \\\\\n",
       "0 & \\pi_{c} s_{\\mathit{ct}} & 0 & \\pi_{t} s_{\\mathit{ct}} & \\pi_{a} s_{\\mathit{at}} & 0 & \\pi_{a} s_{\\mathit{ac}} & \\pi_{g} s_{\\mathit{gt}} & 0 & \\pi_{g} s_{\\mathit{cg}} \\\\\n",
       "0 & 0 & \\pi_{g} s_{\\mathit{gt}} & \\pi_{t} s_{\\mathit{gt}} & 0 & \\pi_{a} s_{\\mathit{at}} & \\pi_{a} s_{\\mathit{ag}} & \\pi_{c} s_{\\mathit{ct}} & \\pi_{c} s_{\\mathit{cg}} & 0\n",
       "\\end{array}\\right)$"
      ],
      "text/plain": [
       "[          0           0           0           0 2*pi_c*s_ac 2*pi_g*s_ag 2*pi_t*s_at           0           0           0]\n",
       "[          0           0           0           0 2*pi_a*s_ac           0           0 2*pi_g*s_cg 2*pi_t*s_ct           0]\n",
       "[          0           0           0           0           0 2*pi_a*s_ag           0 2*pi_c*s_cg           0 2*pi_t*s_gt]\n",
       "[          0           0           0           0           0           0 2*pi_a*s_at           0 2*pi_c*s_ct 2*pi_g*s_gt]\n",
       "[  pi_a*s_ac   pi_c*s_ac           0           0           0   pi_g*s_cg   pi_t*s_ct   pi_g*s_ag   pi_t*s_at           0]\n",
       "[  pi_a*s_ag           0   pi_g*s_ag           0   pi_c*s_cg           0   pi_t*s_gt   pi_c*s_ac           0   pi_t*s_at]\n",
       "[  pi_a*s_at           0           0   pi_t*s_at   pi_c*s_ct   pi_g*s_gt           0           0   pi_c*s_ac   pi_g*s_ag]\n",
       "[          0   pi_c*s_cg   pi_g*s_cg           0   pi_a*s_ag   pi_a*s_ac           0           0   pi_t*s_gt   pi_t*s_ct]\n",
       "[          0   pi_c*s_ct           0   pi_t*s_ct   pi_a*s_at           0   pi_a*s_ac   pi_g*s_gt           0   pi_g*s_cg]\n",
       "[          0           0   pi_g*s_gt   pi_t*s_gt           0   pi_a*s_at   pi_a*s_ag   pi_c*s_ct   pi_c*s_cg           0]"
      ]
     },
     "metadata": {},
     "output_type": "display_data"
    }
   ],
   "source": [
    "%display latex\n",
    "pretty_print(without_diagonal(q_unph))"
   ]
  },
  {
   "cell_type": "code",
   "execution_count": 37,
   "id": "355ad3a3-9083-4528-8d9f-c40316bdbee6",
   "metadata": {},
   "outputs": [
    {
     "data": {
      "text/html": [
       "<html>\\(\\displaystyle \\left(\\pi_{a}^{2},\\,\\pi_{c}^{2},\\,\\pi_{g}^{2},\\,\\pi_{t}^{2},\\,2 \\, \\pi_{a} \\pi_{c},\\,2 \\, \\pi_{a} \\pi_{g},\\,2 \\, \\pi_{a} \\pi_{t},\\,2 \\, \\pi_{c} \\pi_{g},\\,2 \\, \\pi_{c} \\pi_{t},\\,2 \\, \\pi_{g} \\pi_{t}\\right)\\)</html>"
      ],
      "text/latex": [
       "$\\displaystyle \\left(\\pi_{a}^{2},\\,\\pi_{c}^{2},\\,\\pi_{g}^{2},\\,\\pi_{t}^{2},\\,2 \\, \\pi_{a} \\pi_{c},\\,2 \\, \\pi_{a} \\pi_{g},\\,2 \\, \\pi_{a} \\pi_{t},\\,2 \\, \\pi_{c} \\pi_{g},\\,2 \\, \\pi_{c} \\pi_{t},\\,2 \\, \\pi_{g} \\pi_{t}\\right)$"
      ],
      "text/plain": [
       "(pi_a^2, pi_c^2, pi_g^2, pi_t^2, 2*pi_a*pi_c, 2*pi_a*pi_g, 2*pi_a*pi_t, 2*pi_c*pi_g, 2*pi_c*pi_t, 2*pi_g*pi_t)"
      ]
     },
     "execution_count": 37,
     "metadata": {},
     "output_type": "execute_result"
    }
   ],
   "source": [
    "pi10_4s = vector(np.kron(pi4s,pi4s) @ perm @ V) # == pi10s\n",
    "\n",
    "pi10_4s"
   ]
  },
  {
   "cell_type": "markdown",
   "id": "cf599fae-27da-47a6-b4d1-8488482c13e4",
   "metadata": {},
   "source": [
    "#### S matrix for unphased model"
   ]
  },
  {
   "cell_type": "code",
   "execution_count": 38,
   "id": "cf6f6876-470a-48b9-ba2a-30c93bfb3433",
   "metadata": {},
   "outputs": [
    {
     "data": {
      "text/html": [
       "<html>\\(\\displaystyle \\left(\\begin{array}{rrrrrrrrrr}\n",
       "0 & 0 & 0 & 0 & \\frac{s_{\\mathit{ac}}}{\\pi_{a}} & \\frac{s_{\\mathit{ag}}}{\\pi_{a}} & \\frac{s_{\\mathit{at}}}{\\pi_{a}} & 0 & 0 & 0 \\\\\n",
       "0 & 0 & 0 & 0 & \\frac{s_{\\mathit{ac}}}{\\pi_{c}} & 0 & 0 & \\frac{s_{\\mathit{cg}}}{\\pi_{c}} & \\frac{s_{\\mathit{ct}}}{\\pi_{c}} & 0 \\\\\n",
       "0 & 0 & 0 & 0 & 0 & \\frac{s_{\\mathit{ag}}}{\\pi_{g}} & 0 & \\frac{s_{\\mathit{cg}}}{\\pi_{g}} & 0 & \\frac{s_{\\mathit{gt}}}{\\pi_{g}} \\\\\n",
       "0 & 0 & 0 & 0 & 0 & 0 & \\frac{s_{\\mathit{at}}}{\\pi_{t}} & 0 & \\frac{s_{\\mathit{ct}}}{\\pi_{t}} & \\frac{s_{\\mathit{gt}}}{\\pi_{t}} \\\\\n",
       "\\frac{s_{\\mathit{ac}}}{\\pi_{a}} & \\frac{s_{\\mathit{ac}}}{\\pi_{c}} & 0 & 0 & 0 & \\frac{s_{\\mathit{cg}}}{2 \\, \\pi_{a}} & \\frac{s_{\\mathit{ct}}}{2 \\, \\pi_{a}} & \\frac{s_{\\mathit{ag}}}{2 \\, \\pi_{c}} & \\frac{s_{\\mathit{at}}}{2 \\, \\pi_{c}} & 0 \\\\\n",
       "\\frac{s_{\\mathit{ag}}}{\\pi_{a}} & 0 & \\frac{s_{\\mathit{ag}}}{\\pi_{g}} & 0 & \\frac{s_{\\mathit{cg}}}{2 \\, \\pi_{a}} & 0 & \\frac{s_{\\mathit{gt}}}{2 \\, \\pi_{a}} & \\frac{s_{\\mathit{ac}}}{2 \\, \\pi_{g}} & 0 & \\frac{s_{\\mathit{at}}}{2 \\, \\pi_{g}} \\\\\n",
       "\\frac{s_{\\mathit{at}}}{\\pi_{a}} & 0 & 0 & \\frac{s_{\\mathit{at}}}{\\pi_{t}} & \\frac{s_{\\mathit{ct}}}{2 \\, \\pi_{a}} & \\frac{s_{\\mathit{gt}}}{2 \\, \\pi_{a}} & 0 & 0 & \\frac{s_{\\mathit{ac}}}{2 \\, \\pi_{t}} & \\frac{s_{\\mathit{ag}}}{2 \\, \\pi_{t}} \\\\\n",
       "0 & \\frac{s_{\\mathit{cg}}}{\\pi_{c}} & \\frac{s_{\\mathit{cg}}}{\\pi_{g}} & 0 & \\frac{s_{\\mathit{ag}}}{2 \\, \\pi_{c}} & \\frac{s_{\\mathit{ac}}}{2 \\, \\pi_{g}} & 0 & 0 & \\frac{s_{\\mathit{gt}}}{2 \\, \\pi_{c}} & \\frac{s_{\\mathit{ct}}}{2 \\, \\pi_{g}} \\\\\n",
       "0 & \\frac{s_{\\mathit{ct}}}{\\pi_{c}} & 0 & \\frac{s_{\\mathit{ct}}}{\\pi_{t}} & \\frac{s_{\\mathit{at}}}{2 \\, \\pi_{c}} & 0 & \\frac{s_{\\mathit{ac}}}{2 \\, \\pi_{t}} & \\frac{s_{\\mathit{gt}}}{2 \\, \\pi_{c}} & 0 & \\frac{s_{\\mathit{cg}}}{2 \\, \\pi_{t}} \\\\\n",
       "0 & 0 & \\frac{s_{\\mathit{gt}}}{\\pi_{g}} & \\frac{s_{\\mathit{gt}}}{\\pi_{t}} & 0 & \\frac{s_{\\mathit{at}}}{2 \\, \\pi_{g}} & \\frac{s_{\\mathit{ag}}}{2 \\, \\pi_{t}} & \\frac{s_{\\mathit{ct}}}{2 \\, \\pi_{g}} & \\frac{s_{\\mathit{cg}}}{2 \\, \\pi_{t}} & 0\n",
       "\\end{array}\\right)\\)</html>"
      ],
      "text/latex": [
       "$\\displaystyle \\left(\\begin{array}{rrrrrrrrrr}\n",
       "0 & 0 & 0 & 0 & \\frac{s_{\\mathit{ac}}}{\\pi_{a}} & \\frac{s_{\\mathit{ag}}}{\\pi_{a}} & \\frac{s_{\\mathit{at}}}{\\pi_{a}} & 0 & 0 & 0 \\\\\n",
       "0 & 0 & 0 & 0 & \\frac{s_{\\mathit{ac}}}{\\pi_{c}} & 0 & 0 & \\frac{s_{\\mathit{cg}}}{\\pi_{c}} & \\frac{s_{\\mathit{ct}}}{\\pi_{c}} & 0 \\\\\n",
       "0 & 0 & 0 & 0 & 0 & \\frac{s_{\\mathit{ag}}}{\\pi_{g}} & 0 & \\frac{s_{\\mathit{cg}}}{\\pi_{g}} & 0 & \\frac{s_{\\mathit{gt}}}{\\pi_{g}} \\\\\n",
       "0 & 0 & 0 & 0 & 0 & 0 & \\frac{s_{\\mathit{at}}}{\\pi_{t}} & 0 & \\frac{s_{\\mathit{ct}}}{\\pi_{t}} & \\frac{s_{\\mathit{gt}}}{\\pi_{t}} \\\\\n",
       "\\frac{s_{\\mathit{ac}}}{\\pi_{a}} & \\frac{s_{\\mathit{ac}}}{\\pi_{c}} & 0 & 0 & 0 & \\frac{s_{\\mathit{cg}}}{2 \\, \\pi_{a}} & \\frac{s_{\\mathit{ct}}}{2 \\, \\pi_{a}} & \\frac{s_{\\mathit{ag}}}{2 \\, \\pi_{c}} & \\frac{s_{\\mathit{at}}}{2 \\, \\pi_{c}} & 0 \\\\\n",
       "\\frac{s_{\\mathit{ag}}}{\\pi_{a}} & 0 & \\frac{s_{\\mathit{ag}}}{\\pi_{g}} & 0 & \\frac{s_{\\mathit{cg}}}{2 \\, \\pi_{a}} & 0 & \\frac{s_{\\mathit{gt}}}{2 \\, \\pi_{a}} & \\frac{s_{\\mathit{ac}}}{2 \\, \\pi_{g}} & 0 & \\frac{s_{\\mathit{at}}}{2 \\, \\pi_{g}} \\\\\n",
       "\\frac{s_{\\mathit{at}}}{\\pi_{a}} & 0 & 0 & \\frac{s_{\\mathit{at}}}{\\pi_{t}} & \\frac{s_{\\mathit{ct}}}{2 \\, \\pi_{a}} & \\frac{s_{\\mathit{gt}}}{2 \\, \\pi_{a}} & 0 & 0 & \\frac{s_{\\mathit{ac}}}{2 \\, \\pi_{t}} & \\frac{s_{\\mathit{ag}}}{2 \\, \\pi_{t}} \\\\\n",
       "0 & \\frac{s_{\\mathit{cg}}}{\\pi_{c}} & \\frac{s_{\\mathit{cg}}}{\\pi_{g}} & 0 & \\frac{s_{\\mathit{ag}}}{2 \\, \\pi_{c}} & \\frac{s_{\\mathit{ac}}}{2 \\, \\pi_{g}} & 0 & 0 & \\frac{s_{\\mathit{gt}}}{2 \\, \\pi_{c}} & \\frac{s_{\\mathit{ct}}}{2 \\, \\pi_{g}} \\\\\n",
       "0 & \\frac{s_{\\mathit{ct}}}{\\pi_{c}} & 0 & \\frac{s_{\\mathit{ct}}}{\\pi_{t}} & \\frac{s_{\\mathit{at}}}{2 \\, \\pi_{c}} & 0 & \\frac{s_{\\mathit{ac}}}{2 \\, \\pi_{t}} & \\frac{s_{\\mathit{gt}}}{2 \\, \\pi_{c}} & 0 & \\frac{s_{\\mathit{cg}}}{2 \\, \\pi_{t}} \\\\\n",
       "0 & 0 & \\frac{s_{\\mathit{gt}}}{\\pi_{g}} & \\frac{s_{\\mathit{gt}}}{\\pi_{t}} & 0 & \\frac{s_{\\mathit{at}}}{2 \\, \\pi_{g}} & \\frac{s_{\\mathit{ag}}}{2 \\, \\pi_{t}} & \\frac{s_{\\mathit{ct}}}{2 \\, \\pi_{g}} & \\frac{s_{\\mathit{cg}}}{2 \\, \\pi_{t}} & 0\n",
       "\\end{array}\\right)$"
      ],
      "text/plain": [
       "[            0             0             0             0     s_ac/pi_a     s_ag/pi_a     s_at/pi_a             0             0             0]\n",
       "[            0             0             0             0     s_ac/pi_c             0             0     s_cg/pi_c     s_ct/pi_c             0]\n",
       "[            0             0             0             0             0     s_ag/pi_g             0     s_cg/pi_g             0     s_gt/pi_g]\n",
       "[            0             0             0             0             0             0     s_at/pi_t             0     s_ct/pi_t     s_gt/pi_t]\n",
       "[    s_ac/pi_a     s_ac/pi_c             0             0             0 1/2*s_cg/pi_a 1/2*s_ct/pi_a 1/2*s_ag/pi_c 1/2*s_at/pi_c             0]\n",
       "[    s_ag/pi_a             0     s_ag/pi_g             0 1/2*s_cg/pi_a             0 1/2*s_gt/pi_a 1/2*s_ac/pi_g             0 1/2*s_at/pi_g]\n",
       "[    s_at/pi_a             0             0     s_at/pi_t 1/2*s_ct/pi_a 1/2*s_gt/pi_a             0             0 1/2*s_ac/pi_t 1/2*s_ag/pi_t]\n",
       "[            0     s_cg/pi_c     s_cg/pi_g             0 1/2*s_ag/pi_c 1/2*s_ac/pi_g             0             0 1/2*s_gt/pi_c 1/2*s_ct/pi_g]\n",
       "[            0     s_ct/pi_c             0     s_ct/pi_t 1/2*s_at/pi_c             0 1/2*s_ac/pi_t 1/2*s_gt/pi_c             0 1/2*s_cg/pi_t]\n",
       "[            0             0     s_gt/pi_g     s_gt/pi_t             0 1/2*s_at/pi_g 1/2*s_ag/pi_t 1/2*s_ct/pi_g 1/2*s_cg/pi_t             0]"
      ]
     },
     "execution_count": 38,
     "metadata": {},
     "output_type": "execute_result"
    }
   ],
   "source": [
    "without_diagonal(matrix(q_unph @ np.diag(np.array(pi10_4s)**-1)))"
   ]
  },
  {
   "cell_type": "code",
   "execution_count": 39,
   "id": "edd93ebb-5653-49b2-ab96-364238fdb031",
   "metadata": {},
   "outputs": [],
   "source": [
    "pi_4_unphased = vector(np.array((pi10s * matrix(U) * matrix(perm.T))).reshape(4,4).sum(axis=0))"
   ]
  },
  {
   "cell_type": "code",
   "execution_count": 40,
   "id": "7d506bac-80a0-4be8-b603-51c8b6ed9a40",
   "metadata": {},
   "outputs": [
    {
     "data": {
      "text/html": [
       "<html>\\(\\displaystyle \\left\\{\\pi_{a} : \\pi_{\\mathit{aa}} + \\frac{1}{2} \\, \\pi_{\\mathit{ac}} + \\frac{1}{2} \\, \\pi_{\\mathit{ag}} + \\frac{1}{2} \\, \\pi_{\\mathit{at}}, \\pi_{c} : \\frac{1}{2} \\, \\pi_{\\mathit{ac}} + \\pi_{\\mathit{cc}} + \\frac{1}{2} \\, \\pi_{\\mathit{cg}} + \\frac{1}{2} \\, \\pi_{\\mathit{ct}}, \\pi_{g} : \\frac{1}{2} \\, \\pi_{\\mathit{ag}} + \\frac{1}{2} \\, \\pi_{\\mathit{cg}} + \\pi_{\\mathit{gg}} + \\frac{1}{2} \\, \\pi_{\\mathit{gt}}, \\pi_{t} : \\frac{1}{2} \\, \\pi_{\\mathit{at}} + \\frac{1}{2} \\, \\pi_{\\mathit{ct}} + \\frac{1}{2} \\, \\pi_{\\mathit{gt}} + \\pi_{\\mathit{tt}}\\right\\}\\)</html>"
      ],
      "text/latex": [
       "$\\displaystyle \\left\\{\\pi_{a} : \\pi_{\\mathit{aa}} + \\frac{1}{2} \\, \\pi_{\\mathit{ac}} + \\frac{1}{2} \\, \\pi_{\\mathit{ag}} + \\frac{1}{2} \\, \\pi_{\\mathit{at}}, \\pi_{c} : \\frac{1}{2} \\, \\pi_{\\mathit{ac}} + \\pi_{\\mathit{cc}} + \\frac{1}{2} \\, \\pi_{\\mathit{cg}} + \\frac{1}{2} \\, \\pi_{\\mathit{ct}}, \\pi_{g} : \\frac{1}{2} \\, \\pi_{\\mathit{ag}} + \\frac{1}{2} \\, \\pi_{\\mathit{cg}} + \\pi_{\\mathit{gg}} + \\frac{1}{2} \\, \\pi_{\\mathit{gt}}, \\pi_{t} : \\frac{1}{2} \\, \\pi_{\\mathit{at}} + \\frac{1}{2} \\, \\pi_{\\mathit{ct}} + \\frac{1}{2} \\, \\pi_{\\mathit{gt}} + \\pi_{\\mathit{tt}}\\right\\}$"
      ],
      "text/plain": [
       "{pi_a: pi_aa + 1/2*pi_ac + 1/2*pi_ag + 1/2*pi_at,\n",
       " pi_c: 1/2*pi_ac + pi_cc + 1/2*pi_cg + 1/2*pi_ct,\n",
       " pi_g: 1/2*pi_ag + 1/2*pi_cg + pi_gg + 1/2*pi_gt,\n",
       " pi_t: 1/2*pi_at + 1/2*pi_ct + 1/2*pi_gt + pi_tt}"
      ]
     },
     "execution_count": 40,
     "metadata": {},
     "output_type": "execute_result"
    }
   ],
   "source": [
    "{f:up for f, up in zip(pi4s, pi_4_unphased)}"
   ]
  },
  {
   "cell_type": "code",
   "execution_count": 41,
   "id": "9e9d43c6-1091-4ad2-935e-160e2ef87dee",
   "metadata": {},
   "outputs": [
    {
     "data": {
      "text/html": [
       "<html>\\(\\displaystyle {\\left(\\pi_{a} \\pi_{\\mathit{ac}} + {\\left(2 \\, \\pi_{\\mathit{aa}} + \\pi_{\\mathit{ac}} + \\pi_{\\mathit{ag}} + \\pi_{\\mathit{at}}\\right)} \\pi_{c} + 2 \\, \\pi_{a} \\pi_{\\mathit{cc}} + \\pi_{a} \\pi_{\\mathit{cg}} + \\pi_{a} \\pi_{\\mathit{ct}}\\right)} s_{\\mathit{ac}} + {\\left(\\pi_{a} \\pi_{\\mathit{ag}} + \\pi_{a} \\pi_{\\mathit{cg}} + {\\left(2 \\, \\pi_{\\mathit{aa}} + \\pi_{\\mathit{ac}} + \\pi_{\\mathit{ag}} + \\pi_{\\mathit{at}}\\right)} \\pi_{g} + 2 \\, \\pi_{a} \\pi_{\\mathit{gg}} + \\pi_{a} \\pi_{\\mathit{gt}}\\right)} s_{\\mathit{ag}} + {\\left(\\pi_{a} \\pi_{\\mathit{at}} + \\pi_{a} \\pi_{\\mathit{ct}} + \\pi_{a} \\pi_{\\mathit{gt}} + {\\left(2 \\, \\pi_{\\mathit{aa}} + \\pi_{\\mathit{ac}} + \\pi_{\\mathit{ag}} + \\pi_{\\mathit{at}}\\right)} \\pi_{t} + 2 \\, \\pi_{a} \\pi_{\\mathit{tt}}\\right)} s_{\\mathit{at}} + {\\left(\\pi_{\\mathit{ag}} \\pi_{c} + \\pi_{c} \\pi_{\\mathit{cg}} + {\\left(\\pi_{\\mathit{ac}} + 2 \\, \\pi_{\\mathit{cc}} + \\pi_{\\mathit{cg}} + \\pi_{\\mathit{ct}}\\right)} \\pi_{g} + 2 \\, \\pi_{c} \\pi_{\\mathit{gg}} + \\pi_{c} \\pi_{\\mathit{gt}}\\right)} s_{\\mathit{cg}} + {\\left(\\pi_{\\mathit{at}} \\pi_{c} + \\pi_{c} \\pi_{\\mathit{ct}} + \\pi_{c} \\pi_{\\mathit{gt}} + {\\left(\\pi_{\\mathit{ac}} + 2 \\, \\pi_{\\mathit{cc}} + \\pi_{\\mathit{cg}} + \\pi_{\\mathit{ct}}\\right)} \\pi_{t} + 2 \\, \\pi_{c} \\pi_{\\mathit{tt}}\\right)} s_{\\mathit{ct}} + {\\left({\\left(\\pi_{\\mathit{at}} + \\pi_{\\mathit{ct}}\\right)} \\pi_{g} + \\pi_{g} \\pi_{\\mathit{gt}} + {\\left(\\pi_{\\mathit{ag}} + \\pi_{\\mathit{cg}} + 2 \\, \\pi_{\\mathit{gg}} + \\pi_{\\mathit{gt}}\\right)} \\pi_{t} + 2 \\, \\pi_{g} \\pi_{\\mathit{tt}}\\right)} s_{\\mathit{gt}}\\)</html>"
      ],
      "text/latex": [
       "$\\displaystyle {\\left(\\pi_{a} \\pi_{\\mathit{ac}} + {\\left(2 \\, \\pi_{\\mathit{aa}} + \\pi_{\\mathit{ac}} + \\pi_{\\mathit{ag}} + \\pi_{\\mathit{at}}\\right)} \\pi_{c} + 2 \\, \\pi_{a} \\pi_{\\mathit{cc}} + \\pi_{a} \\pi_{\\mathit{cg}} + \\pi_{a} \\pi_{\\mathit{ct}}\\right)} s_{\\mathit{ac}} + {\\left(\\pi_{a} \\pi_{\\mathit{ag}} + \\pi_{a} \\pi_{\\mathit{cg}} + {\\left(2 \\, \\pi_{\\mathit{aa}} + \\pi_{\\mathit{ac}} + \\pi_{\\mathit{ag}} + \\pi_{\\mathit{at}}\\right)} \\pi_{g} + 2 \\, \\pi_{a} \\pi_{\\mathit{gg}} + \\pi_{a} \\pi_{\\mathit{gt}}\\right)} s_{\\mathit{ag}} + {\\left(\\pi_{a} \\pi_{\\mathit{at}} + \\pi_{a} \\pi_{\\mathit{ct}} + \\pi_{a} \\pi_{\\mathit{gt}} + {\\left(2 \\, \\pi_{\\mathit{aa}} + \\pi_{\\mathit{ac}} + \\pi_{\\mathit{ag}} + \\pi_{\\mathit{at}}\\right)} \\pi_{t} + 2 \\, \\pi_{a} \\pi_{\\mathit{tt}}\\right)} s_{\\mathit{at}} + {\\left(\\pi_{\\mathit{ag}} \\pi_{c} + \\pi_{c} \\pi_{\\mathit{cg}} + {\\left(\\pi_{\\mathit{ac}} + 2 \\, \\pi_{\\mathit{cc}} + \\pi_{\\mathit{cg}} + \\pi_{\\mathit{ct}}\\right)} \\pi_{g} + 2 \\, \\pi_{c} \\pi_{\\mathit{gg}} + \\pi_{c} \\pi_{\\mathit{gt}}\\right)} s_{\\mathit{cg}} + {\\left(\\pi_{\\mathit{at}} \\pi_{c} + \\pi_{c} \\pi_{\\mathit{ct}} + \\pi_{c} \\pi_{\\mathit{gt}} + {\\left(\\pi_{\\mathit{ac}} + 2 \\, \\pi_{\\mathit{cc}} + \\pi_{\\mathit{cg}} + \\pi_{\\mathit{ct}}\\right)} \\pi_{t} + 2 \\, \\pi_{c} \\pi_{\\mathit{tt}}\\right)} s_{\\mathit{ct}} + {\\left({\\left(\\pi_{\\mathit{at}} + \\pi_{\\mathit{ct}}\\right)} \\pi_{g} + \\pi_{g} \\pi_{\\mathit{gt}} + {\\left(\\pi_{\\mathit{ag}} + \\pi_{\\mathit{cg}} + 2 \\, \\pi_{\\mathit{gg}} + \\pi_{\\mathit{gt}}\\right)} \\pi_{t} + 2 \\, \\pi_{g} \\pi_{\\mathit{tt}}\\right)} s_{\\mathit{gt}}$"
      ],
      "text/plain": [
       "(pi_a*pi_ac + (2*pi_aa + pi_ac + pi_ag + pi_at)*pi_c + 2*pi_a*pi_cc + pi_a*pi_cg + pi_a*pi_ct)*s_ac + (pi_a*pi_ag + pi_a*pi_cg + (2*pi_aa + pi_ac + pi_ag + pi_at)*pi_g + 2*pi_a*pi_gg + pi_a*pi_gt)*s_ag + (pi_a*pi_at + pi_a*pi_ct + pi_a*pi_gt + (2*pi_aa + pi_ac + pi_ag + pi_at)*pi_t + 2*pi_a*pi_tt)*s_at + (pi_ag*pi_c + pi_c*pi_cg + (pi_ac + 2*pi_cc + pi_cg + pi_ct)*pi_g + 2*pi_c*pi_gg + pi_c*pi_gt)*s_cg + (pi_at*pi_c + pi_c*pi_ct + pi_c*pi_gt + (pi_ac + 2*pi_cc + pi_cg + pi_ct)*pi_t + 2*pi_c*pi_tt)*s_ct + ((pi_at + pi_ct)*pi_g + pi_g*pi_gt + (pi_ag + pi_cg + 2*pi_gg + pi_gt)*pi_t + 2*pi_g*pi_tt)*s_gt"
      ]
     },
     "execution_count": 41,
     "metadata": {},
     "output_type": "execute_result"
    }
   ],
   "source": [
    "(-(np.array(pi10s) @ q_unph.diagonal())).simplify_full().expand().simplify_full()"
   ]
  },
  {
   "cell_type": "code",
   "execution_count": 42,
   "id": "3f0b0819-2183-4513-852c-51679280175d",
   "metadata": {},
   "outputs": [
    {
     "data": {
      "text/html": [
       "<html>\\(\\displaystyle {\\left(2 \\, \\pi_{\\mathit{aa}} \\pi_{\\mathit{ac}} + \\pi_{\\mathit{ac}}^{2} + \\pi_{\\mathit{ac}} \\pi_{\\mathit{ag}} + \\pi_{\\mathit{ac}} \\pi_{\\mathit{at}} + 2 \\, {\\left(2 \\, \\pi_{\\mathit{aa}} + \\pi_{\\mathit{ac}} + \\pi_{\\mathit{ag}} + \\pi_{\\mathit{at}}\\right)} \\pi_{\\mathit{cc}} + {\\left(2 \\, \\pi_{\\mathit{aa}} + \\pi_{\\mathit{ac}} + \\pi_{\\mathit{ag}} + \\pi_{\\mathit{at}}\\right)} \\pi_{\\mathit{cg}} + {\\left(2 \\, \\pi_{\\mathit{aa}} + \\pi_{\\mathit{ac}} + \\pi_{\\mathit{ag}} + \\pi_{\\mathit{at}}\\right)} \\pi_{\\mathit{ct}}\\right)} s_{\\mathit{ac}} + {\\left({\\left(2 \\, \\pi_{\\mathit{aa}} + \\pi_{\\mathit{ac}}\\right)} \\pi_{\\mathit{ag}} + \\pi_{\\mathit{ag}}^{2} + \\pi_{\\mathit{ag}} \\pi_{\\mathit{at}} + {\\left(2 \\, \\pi_{\\mathit{aa}} + \\pi_{\\mathit{ac}} + \\pi_{\\mathit{ag}} + \\pi_{\\mathit{at}}\\right)} \\pi_{\\mathit{cg}} + 2 \\, {\\left(2 \\, \\pi_{\\mathit{aa}} + \\pi_{\\mathit{ac}} + \\pi_{\\mathit{ag}} + \\pi_{\\mathit{at}}\\right)} \\pi_{\\mathit{gg}} + {\\left(2 \\, \\pi_{\\mathit{aa}} + \\pi_{\\mathit{ac}} + \\pi_{\\mathit{ag}} + \\pi_{\\mathit{at}}\\right)} \\pi_{\\mathit{gt}}\\right)} s_{\\mathit{ag}} + {\\left({\\left(2 \\, \\pi_{\\mathit{aa}} + \\pi_{\\mathit{ac}} + \\pi_{\\mathit{ag}}\\right)} \\pi_{\\mathit{at}} + \\pi_{\\mathit{at}}^{2} + {\\left(2 \\, \\pi_{\\mathit{aa}} + \\pi_{\\mathit{ac}} + \\pi_{\\mathit{ag}} + \\pi_{\\mathit{at}}\\right)} \\pi_{\\mathit{ct}} + {\\left(2 \\, \\pi_{\\mathit{aa}} + \\pi_{\\mathit{ac}} + \\pi_{\\mathit{ag}} + \\pi_{\\mathit{at}}\\right)} \\pi_{\\mathit{gt}} + 2 \\, {\\left(2 \\, \\pi_{\\mathit{aa}} + \\pi_{\\mathit{ac}} + \\pi_{\\mathit{ag}} + \\pi_{\\mathit{at}}\\right)} \\pi_{\\mathit{tt}}\\right)} s_{\\mathit{at}} + {\\left(\\pi_{\\mathit{ac}} \\pi_{\\mathit{ag}} + 2 \\, \\pi_{\\mathit{ag}} \\pi_{\\mathit{cc}} + {\\left(\\pi_{\\mathit{ac}} + \\pi_{\\mathit{ag}} + 2 \\, \\pi_{\\mathit{cc}}\\right)} \\pi_{\\mathit{cg}} + \\pi_{\\mathit{cg}}^{2} + {\\left(\\pi_{\\mathit{ag}} + \\pi_{\\mathit{cg}}\\right)} \\pi_{\\mathit{ct}} + 2 \\, {\\left(\\pi_{\\mathit{ac}} + 2 \\, \\pi_{\\mathit{cc}} + \\pi_{\\mathit{cg}} + \\pi_{\\mathit{ct}}\\right)} \\pi_{\\mathit{gg}} + {\\left(\\pi_{\\mathit{ac}} + 2 \\, \\pi_{\\mathit{cc}} + \\pi_{\\mathit{cg}} + \\pi_{\\mathit{ct}}\\right)} \\pi_{\\mathit{gt}}\\right)} s_{\\mathit{cg}} + {\\left(\\pi_{\\mathit{ac}} \\pi_{\\mathit{at}} + 2 \\, \\pi_{\\mathit{at}} \\pi_{\\mathit{cc}} + \\pi_{\\mathit{at}} \\pi_{\\mathit{cg}} + {\\left(\\pi_{\\mathit{ac}} + \\pi_{\\mathit{at}} + 2 \\, \\pi_{\\mathit{cc}} + \\pi_{\\mathit{cg}}\\right)} \\pi_{\\mathit{ct}} + \\pi_{\\mathit{ct}}^{2} + {\\left(\\pi_{\\mathit{ac}} + 2 \\, \\pi_{\\mathit{cc}} + \\pi_{\\mathit{cg}} + \\pi_{\\mathit{ct}}\\right)} \\pi_{\\mathit{gt}} + 2 \\, {\\left(\\pi_{\\mathit{ac}} + 2 \\, \\pi_{\\mathit{cc}} + \\pi_{\\mathit{cg}} + \\pi_{\\mathit{ct}}\\right)} \\pi_{\\mathit{tt}}\\right)} s_{\\mathit{ct}} + {\\left(\\pi_{\\mathit{ag}} \\pi_{\\mathit{at}} + \\pi_{\\mathit{at}} \\pi_{\\mathit{cg}} + {\\left(\\pi_{\\mathit{ag}} + \\pi_{\\mathit{cg}}\\right)} \\pi_{\\mathit{ct}} + 2 \\, {\\left(\\pi_{\\mathit{at}} + \\pi_{\\mathit{ct}}\\right)} \\pi_{\\mathit{gg}} + {\\left(\\pi_{\\mathit{ag}} + \\pi_{\\mathit{at}} + \\pi_{\\mathit{cg}} + \\pi_{\\mathit{ct}} + 2 \\, \\pi_{\\mathit{gg}}\\right)} \\pi_{\\mathit{gt}} + \\pi_{\\mathit{gt}}^{2} + 2 \\, {\\left(\\pi_{\\mathit{ag}} + \\pi_{\\mathit{cg}} + 2 \\, \\pi_{\\mathit{gg}} + \\pi_{\\mathit{gt}}\\right)} \\pi_{\\mathit{tt}}\\right)} s_{\\mathit{gt}}\\)</html>"
      ],
      "text/latex": [
       "$\\displaystyle {\\left(2 \\, \\pi_{\\mathit{aa}} \\pi_{\\mathit{ac}} + \\pi_{\\mathit{ac}}^{2} + \\pi_{\\mathit{ac}} \\pi_{\\mathit{ag}} + \\pi_{\\mathit{ac}} \\pi_{\\mathit{at}} + 2 \\, {\\left(2 \\, \\pi_{\\mathit{aa}} + \\pi_{\\mathit{ac}} + \\pi_{\\mathit{ag}} + \\pi_{\\mathit{at}}\\right)} \\pi_{\\mathit{cc}} + {\\left(2 \\, \\pi_{\\mathit{aa}} + \\pi_{\\mathit{ac}} + \\pi_{\\mathit{ag}} + \\pi_{\\mathit{at}}\\right)} \\pi_{\\mathit{cg}} + {\\left(2 \\, \\pi_{\\mathit{aa}} + \\pi_{\\mathit{ac}} + \\pi_{\\mathit{ag}} + \\pi_{\\mathit{at}}\\right)} \\pi_{\\mathit{ct}}\\right)} s_{\\mathit{ac}} + {\\left({\\left(2 \\, \\pi_{\\mathit{aa}} + \\pi_{\\mathit{ac}}\\right)} \\pi_{\\mathit{ag}} + \\pi_{\\mathit{ag}}^{2} + \\pi_{\\mathit{ag}} \\pi_{\\mathit{at}} + {\\left(2 \\, \\pi_{\\mathit{aa}} + \\pi_{\\mathit{ac}} + \\pi_{\\mathit{ag}} + \\pi_{\\mathit{at}}\\right)} \\pi_{\\mathit{cg}} + 2 \\, {\\left(2 \\, \\pi_{\\mathit{aa}} + \\pi_{\\mathit{ac}} + \\pi_{\\mathit{ag}} + \\pi_{\\mathit{at}}\\right)} \\pi_{\\mathit{gg}} + {\\left(2 \\, \\pi_{\\mathit{aa}} + \\pi_{\\mathit{ac}} + \\pi_{\\mathit{ag}} + \\pi_{\\mathit{at}}\\right)} \\pi_{\\mathit{gt}}\\right)} s_{\\mathit{ag}} + {\\left({\\left(2 \\, \\pi_{\\mathit{aa}} + \\pi_{\\mathit{ac}} + \\pi_{\\mathit{ag}}\\right)} \\pi_{\\mathit{at}} + \\pi_{\\mathit{at}}^{2} + {\\left(2 \\, \\pi_{\\mathit{aa}} + \\pi_{\\mathit{ac}} + \\pi_{\\mathit{ag}} + \\pi_{\\mathit{at}}\\right)} \\pi_{\\mathit{ct}} + {\\left(2 \\, \\pi_{\\mathit{aa}} + \\pi_{\\mathit{ac}} + \\pi_{\\mathit{ag}} + \\pi_{\\mathit{at}}\\right)} \\pi_{\\mathit{gt}} + 2 \\, {\\left(2 \\, \\pi_{\\mathit{aa}} + \\pi_{\\mathit{ac}} + \\pi_{\\mathit{ag}} + \\pi_{\\mathit{at}}\\right)} \\pi_{\\mathit{tt}}\\right)} s_{\\mathit{at}} + {\\left(\\pi_{\\mathit{ac}} \\pi_{\\mathit{ag}} + 2 \\, \\pi_{\\mathit{ag}} \\pi_{\\mathit{cc}} + {\\left(\\pi_{\\mathit{ac}} + \\pi_{\\mathit{ag}} + 2 \\, \\pi_{\\mathit{cc}}\\right)} \\pi_{\\mathit{cg}} + \\pi_{\\mathit{cg}}^{2} + {\\left(\\pi_{\\mathit{ag}} + \\pi_{\\mathit{cg}}\\right)} \\pi_{\\mathit{ct}} + 2 \\, {\\left(\\pi_{\\mathit{ac}} + 2 \\, \\pi_{\\mathit{cc}} + \\pi_{\\mathit{cg}} + \\pi_{\\mathit{ct}}\\right)} \\pi_{\\mathit{gg}} + {\\left(\\pi_{\\mathit{ac}} + 2 \\, \\pi_{\\mathit{cc}} + \\pi_{\\mathit{cg}} + \\pi_{\\mathit{ct}}\\right)} \\pi_{\\mathit{gt}}\\right)} s_{\\mathit{cg}} + {\\left(\\pi_{\\mathit{ac}} \\pi_{\\mathit{at}} + 2 \\, \\pi_{\\mathit{at}} \\pi_{\\mathit{cc}} + \\pi_{\\mathit{at}} \\pi_{\\mathit{cg}} + {\\left(\\pi_{\\mathit{ac}} + \\pi_{\\mathit{at}} + 2 \\, \\pi_{\\mathit{cc}} + \\pi_{\\mathit{cg}}\\right)} \\pi_{\\mathit{ct}} + \\pi_{\\mathit{ct}}^{2} + {\\left(\\pi_{\\mathit{ac}} + 2 \\, \\pi_{\\mathit{cc}} + \\pi_{\\mathit{cg}} + \\pi_{\\mathit{ct}}\\right)} \\pi_{\\mathit{gt}} + 2 \\, {\\left(\\pi_{\\mathit{ac}} + 2 \\, \\pi_{\\mathit{cc}} + \\pi_{\\mathit{cg}} + \\pi_{\\mathit{ct}}\\right)} \\pi_{\\mathit{tt}}\\right)} s_{\\mathit{ct}} + {\\left(\\pi_{\\mathit{ag}} \\pi_{\\mathit{at}} + \\pi_{\\mathit{at}} \\pi_{\\mathit{cg}} + {\\left(\\pi_{\\mathit{ag}} + \\pi_{\\mathit{cg}}\\right)} \\pi_{\\mathit{ct}} + 2 \\, {\\left(\\pi_{\\mathit{at}} + \\pi_{\\mathit{ct}}\\right)} \\pi_{\\mathit{gg}} + {\\left(\\pi_{\\mathit{ag}} + \\pi_{\\mathit{at}} + \\pi_{\\mathit{cg}} + \\pi_{\\mathit{ct}} + 2 \\, \\pi_{\\mathit{gg}}\\right)} \\pi_{\\mathit{gt}} + \\pi_{\\mathit{gt}}^{2} + 2 \\, {\\left(\\pi_{\\mathit{ag}} + \\pi_{\\mathit{cg}} + 2 \\, \\pi_{\\mathit{gg}} + \\pi_{\\mathit{gt}}\\right)} \\pi_{\\mathit{tt}}\\right)} s_{\\mathit{gt}}$"
      ],
      "text/plain": [
       "(2*pi_aa*pi_ac + pi_ac^2 + pi_ac*pi_ag + pi_ac*pi_at + 2*(2*pi_aa + pi_ac + pi_ag + pi_at)*pi_cc + (2*pi_aa + pi_ac + pi_ag + pi_at)*pi_cg + (2*pi_aa + pi_ac + pi_ag + pi_at)*pi_ct)*s_ac + ((2*pi_aa + pi_ac)*pi_ag + pi_ag^2 + pi_ag*pi_at + (2*pi_aa + pi_ac + pi_ag + pi_at)*pi_cg + 2*(2*pi_aa + pi_ac + pi_ag + pi_at)*pi_gg + (2*pi_aa + pi_ac + pi_ag + pi_at)*pi_gt)*s_ag + ((2*pi_aa + pi_ac + pi_ag)*pi_at + pi_at^2 + (2*pi_aa + pi_ac + pi_ag + pi_at)*pi_ct + (2*pi_aa + pi_ac + pi_ag + pi_at)*pi_gt + 2*(2*pi_aa + pi_ac + pi_ag + pi_at)*pi_tt)*s_at + (pi_ac*pi_ag + 2*pi_ag*pi_cc + (pi_ac + pi_ag + 2*pi_cc)*pi_cg + pi_cg^2 + (pi_ag + pi_cg)*pi_ct + 2*(pi_ac + 2*pi_cc + pi_cg + pi_ct)*pi_gg + (pi_ac + 2*pi_cc + pi_cg + pi_ct)*pi_gt)*s_cg + (pi_ac*pi_at + 2*pi_at*pi_cc + pi_at*pi_cg + (pi_ac + pi_at + 2*pi_cc + pi_cg)*pi_ct + pi_ct^2 + (pi_ac + 2*pi_cc + pi_cg + pi_ct)*pi_gt + 2*(pi_ac + 2*pi_cc + pi_cg + pi_ct)*pi_tt)*s_ct + (pi_ag*pi_at + pi_at*pi_cg + (pi_ag + pi_cg)*pi_ct + 2*(pi_at + pi_ct)*pi_gg + (pi_ag + pi_at + pi_cg + pi_ct + 2*pi_gg)*pi_gt + pi_gt^2 + 2*(pi_ag + pi_cg + 2*pi_gg + pi_gt)*pi_tt)*s_gt"
      ]
     },
     "execution_count": 42,
     "metadata": {},
     "output_type": "execute_result"
    }
   ],
   "source": [
    "(-(np.array(pi10s) @ q_unph.diagonal()))(**{str(f):up for f, up in zip(pi4s, pi_4_unphased)}).simplify_full().expand().simplify_full()"
   ]
  },
  {
   "cell_type": "code",
   "execution_count": 43,
   "id": "0a99ae1a-ecb8-4d42-bb79-b982779c6c95",
   "metadata": {},
   "outputs": [
    {
     "data": {
      "text/html": [
       "<html>\\(\\displaystyle \\left(\\begin{array}{rrrrrrrrrr}\n",
       "0 & 0 & 0 & 0 & 2 \\, \\pi_{c} s_{\\mathit{ac}} & 2 \\, \\pi_{g} s_{\\mathit{ag}} & 2 \\, \\pi_{t} s_{\\mathit{at}} & 0 & 0 & 0 \\\\\n",
       "0 & 0 & 0 & 0 & 2 \\, \\pi_{a} s_{\\mathit{ac}} & 0 & 0 & 2 \\, \\pi_{g} s_{\\mathit{cg}} & 2 \\, \\pi_{t} s_{\\mathit{ct}} & 0 \\\\\n",
       "0 & 0 & 0 & 0 & 0 & 2 \\, \\pi_{a} s_{\\mathit{ag}} & 0 & 2 \\, \\pi_{c} s_{\\mathit{cg}} & 0 & 2 \\, \\pi_{t} s_{\\mathit{gt}} \\\\\n",
       "0 & 0 & 0 & 0 & 0 & 0 & 2 \\, \\pi_{a} s_{\\mathit{at}} & 0 & 2 \\, \\pi_{c} s_{\\mathit{ct}} & 2 \\, \\pi_{g} s_{\\mathit{gt}} \\\\\n",
       "\\pi_{a} s_{\\mathit{ac}} & \\pi_{c} s_{\\mathit{ac}} & 0 & 0 & 0 & \\pi_{g} s_{\\mathit{cg}} & \\pi_{t} s_{\\mathit{ct}} & \\pi_{g} s_{\\mathit{ag}} & \\pi_{t} s_{\\mathit{at}} & 0 \\\\\n",
       "\\pi_{a} s_{\\mathit{ag}} & 0 & \\pi_{g} s_{\\mathit{ag}} & 0 & \\pi_{c} s_{\\mathit{cg}} & 0 & \\pi_{t} s_{\\mathit{gt}} & \\pi_{c} s_{\\mathit{ac}} & 0 & \\pi_{t} s_{\\mathit{at}} \\\\\n",
       "\\pi_{a} s_{\\mathit{at}} & 0 & 0 & \\pi_{t} s_{\\mathit{at}} & \\pi_{c} s_{\\mathit{ct}} & \\pi_{g} s_{\\mathit{gt}} & 0 & 0 & \\pi_{c} s_{\\mathit{ac}} & \\pi_{g} s_{\\mathit{ag}} \\\\\n",
       "0 & \\pi_{c} s_{\\mathit{cg}} & \\pi_{g} s_{\\mathit{cg}} & 0 & \\pi_{a} s_{\\mathit{ag}} & \\pi_{a} s_{\\mathit{ac}} & 0 & 0 & \\pi_{t} s_{\\mathit{gt}} & \\pi_{t} s_{\\mathit{ct}} \\\\\n",
       "0 & \\pi_{c} s_{\\mathit{ct}} & 0 & \\pi_{t} s_{\\mathit{ct}} & \\pi_{a} s_{\\mathit{at}} & 0 & \\pi_{a} s_{\\mathit{ac}} & \\pi_{g} s_{\\mathit{gt}} & 0 & \\pi_{g} s_{\\mathit{cg}} \\\\\n",
       "0 & 0 & \\pi_{g} s_{\\mathit{gt}} & \\pi_{t} s_{\\mathit{gt}} & 0 & \\pi_{a} s_{\\mathit{at}} & \\pi_{a} s_{\\mathit{ag}} & \\pi_{c} s_{\\mathit{ct}} & \\pi_{c} s_{\\mathit{cg}} & 0\n",
       "\\end{array}\\right)\\)</html>"
      ],
      "text/latex": [
       "$\\displaystyle \\left(\\begin{array}{rrrrrrrrrr}\n",
       "0 & 0 & 0 & 0 & 2 \\, \\pi_{c} s_{\\mathit{ac}} & 2 \\, \\pi_{g} s_{\\mathit{ag}} & 2 \\, \\pi_{t} s_{\\mathit{at}} & 0 & 0 & 0 \\\\\n",
       "0 & 0 & 0 & 0 & 2 \\, \\pi_{a} s_{\\mathit{ac}} & 0 & 0 & 2 \\, \\pi_{g} s_{\\mathit{cg}} & 2 \\, \\pi_{t} s_{\\mathit{ct}} & 0 \\\\\n",
       "0 & 0 & 0 & 0 & 0 & 2 \\, \\pi_{a} s_{\\mathit{ag}} & 0 & 2 \\, \\pi_{c} s_{\\mathit{cg}} & 0 & 2 \\, \\pi_{t} s_{\\mathit{gt}} \\\\\n",
       "0 & 0 & 0 & 0 & 0 & 0 & 2 \\, \\pi_{a} s_{\\mathit{at}} & 0 & 2 \\, \\pi_{c} s_{\\mathit{ct}} & 2 \\, \\pi_{g} s_{\\mathit{gt}} \\\\\n",
       "\\pi_{a} s_{\\mathit{ac}} & \\pi_{c} s_{\\mathit{ac}} & 0 & 0 & 0 & \\pi_{g} s_{\\mathit{cg}} & \\pi_{t} s_{\\mathit{ct}} & \\pi_{g} s_{\\mathit{ag}} & \\pi_{t} s_{\\mathit{at}} & 0 \\\\\n",
       "\\pi_{a} s_{\\mathit{ag}} & 0 & \\pi_{g} s_{\\mathit{ag}} & 0 & \\pi_{c} s_{\\mathit{cg}} & 0 & \\pi_{t} s_{\\mathit{gt}} & \\pi_{c} s_{\\mathit{ac}} & 0 & \\pi_{t} s_{\\mathit{at}} \\\\\n",
       "\\pi_{a} s_{\\mathit{at}} & 0 & 0 & \\pi_{t} s_{\\mathit{at}} & \\pi_{c} s_{\\mathit{ct}} & \\pi_{g} s_{\\mathit{gt}} & 0 & 0 & \\pi_{c} s_{\\mathit{ac}} & \\pi_{g} s_{\\mathit{ag}} \\\\\n",
       "0 & \\pi_{c} s_{\\mathit{cg}} & \\pi_{g} s_{\\mathit{cg}} & 0 & \\pi_{a} s_{\\mathit{ag}} & \\pi_{a} s_{\\mathit{ac}} & 0 & 0 & \\pi_{t} s_{\\mathit{gt}} & \\pi_{t} s_{\\mathit{ct}} \\\\\n",
       "0 & \\pi_{c} s_{\\mathit{ct}} & 0 & \\pi_{t} s_{\\mathit{ct}} & \\pi_{a} s_{\\mathit{at}} & 0 & \\pi_{a} s_{\\mathit{ac}} & \\pi_{g} s_{\\mathit{gt}} & 0 & \\pi_{g} s_{\\mathit{cg}} \\\\\n",
       "0 & 0 & \\pi_{g} s_{\\mathit{gt}} & \\pi_{t} s_{\\mathit{gt}} & 0 & \\pi_{a} s_{\\mathit{at}} & \\pi_{a} s_{\\mathit{ag}} & \\pi_{c} s_{\\mathit{ct}} & \\pi_{c} s_{\\mathit{cg}} & 0\n",
       "\\end{array}\\right)$"
      ],
      "text/plain": [
       "[          0           0           0           0 2*pi_c*s_ac 2*pi_g*s_ag 2*pi_t*s_at           0           0           0]\n",
       "[          0           0           0           0 2*pi_a*s_ac           0           0 2*pi_g*s_cg 2*pi_t*s_ct           0]\n",
       "[          0           0           0           0           0 2*pi_a*s_ag           0 2*pi_c*s_cg           0 2*pi_t*s_gt]\n",
       "[          0           0           0           0           0           0 2*pi_a*s_at           0 2*pi_c*s_ct 2*pi_g*s_gt]\n",
       "[  pi_a*s_ac   pi_c*s_ac           0           0           0   pi_g*s_cg   pi_t*s_ct   pi_g*s_ag   pi_t*s_at           0]\n",
       "[  pi_a*s_ag           0   pi_g*s_ag           0   pi_c*s_cg           0   pi_t*s_gt   pi_c*s_ac           0   pi_t*s_at]\n",
       "[  pi_a*s_at           0           0   pi_t*s_at   pi_c*s_ct   pi_g*s_gt           0           0   pi_c*s_ac   pi_g*s_ag]\n",
       "[          0   pi_c*s_cg   pi_g*s_cg           0   pi_a*s_ag   pi_a*s_ac           0           0   pi_t*s_gt   pi_t*s_ct]\n",
       "[          0   pi_c*s_ct           0   pi_t*s_ct   pi_a*s_at           0   pi_a*s_ac   pi_g*s_gt           0   pi_g*s_cg]\n",
       "[          0           0   pi_g*s_gt   pi_t*s_gt           0   pi_a*s_at   pi_a*s_ag   pi_c*s_ct   pi_c*s_cg           0]"
      ]
     },
     "execution_count": 43,
     "metadata": {},
     "output_type": "execute_result"
    }
   ],
   "source": [
    "without_diagonal(q_unph)"
   ]
  },
  {
   "cell_type": "code",
   "execution_count": 44,
   "id": "e51d7261-20c5-40dc-ad01-0d2d22b48637",
   "metadata": {},
   "outputs": [
    {
     "data": {
      "text/html": [
       "<html>\\(\\displaystyle \\left(\\begin{array}{rrrr}\n",
       "-\\frac{\\pi_{c} s_{\\mathit{ac}} + \\pi_{g} s_{\\mathit{ag}} + \\pi_{t} s_{\\mathit{at}}}{\\pi_{a}} & s_{\\mathit{ac}} & s_{\\mathit{ag}} & s_{\\mathit{at}} \\\\\n",
       "s_{\\mathit{ac}} & -\\frac{\\pi_{a} s_{\\mathit{ac}} + \\pi_{g} s_{\\mathit{cg}} + \\pi_{t} s_{\\mathit{ct}}}{\\pi_{c}} & s_{\\mathit{cg}} & s_{\\mathit{ct}} \\\\\n",
       "s_{\\mathit{ag}} & s_{\\mathit{cg}} & -\\frac{\\pi_{a} s_{\\mathit{ag}} + \\pi_{c} s_{\\mathit{cg}} + \\pi_{t} s_{\\mathit{gt}}}{\\pi_{g}} & s_{\\mathit{gt}} \\\\\n",
       "s_{\\mathit{at}} & s_{\\mathit{ct}} & s_{\\mathit{gt}} & -\\frac{\\pi_{a} s_{\\mathit{at}} + \\pi_{c} s_{\\mathit{ct}} + \\pi_{g} s_{\\mathit{gt}}}{\\pi_{t}}\n",
       "\\end{array}\\right)\\)</html>"
      ],
      "text/latex": [
       "$\\displaystyle \\left(\\begin{array}{rrrr}\n",
       "-\\frac{\\pi_{c} s_{\\mathit{ac}} + \\pi_{g} s_{\\mathit{ag}} + \\pi_{t} s_{\\mathit{at}}}{\\pi_{a}} & s_{\\mathit{ac}} & s_{\\mathit{ag}} & s_{\\mathit{at}} \\\\\n",
       "s_{\\mathit{ac}} & -\\frac{\\pi_{a} s_{\\mathit{ac}} + \\pi_{g} s_{\\mathit{cg}} + \\pi_{t} s_{\\mathit{ct}}}{\\pi_{c}} & s_{\\mathit{cg}} & s_{\\mathit{ct}} \\\\\n",
       "s_{\\mathit{ag}} & s_{\\mathit{cg}} & -\\frac{\\pi_{a} s_{\\mathit{ag}} + \\pi_{c} s_{\\mathit{cg}} + \\pi_{t} s_{\\mathit{gt}}}{\\pi_{g}} & s_{\\mathit{gt}} \\\\\n",
       "s_{\\mathit{at}} & s_{\\mathit{ct}} & s_{\\mathit{gt}} & -\\frac{\\pi_{a} s_{\\mathit{at}} + \\pi_{c} s_{\\mathit{ct}} + \\pi_{g} s_{\\mathit{gt}}}{\\pi_{t}}\n",
       "\\end{array}\\right)$"
      ],
      "text/plain": [
       "[-(pi_c*s_ac + pi_g*s_ag + pi_t*s_at)/pi_a                                      s_ac                                      s_ag                                      s_at]\n",
       "[                                     s_ac -(pi_a*s_ac + pi_g*s_cg + pi_t*s_ct)/pi_c                                      s_cg                                      s_ct]\n",
       "[                                     s_ag                                      s_cg -(pi_a*s_ag + pi_c*s_cg + pi_t*s_gt)/pi_g                                      s_gt]\n",
       "[                                     s_at                                      s_ct                                      s_gt -(pi_a*s_at + pi_c*s_ct + pi_g*s_gt)/pi_t]"
      ]
     },
     "execution_count": 44,
     "metadata": {},
     "output_type": "execute_result"
    }
   ],
   "source": [
    "s4 = matrix( q_gtr4 @ np.diag(np.array(pi4s)^-1) )\n",
    "\n",
    "s4"
   ]
  },
  {
   "cell_type": "code",
   "execution_count": 45,
   "id": "fa3e5ee2-1a0e-4f7e-9369-f7158f949989",
   "metadata": {},
   "outputs": [
    {
     "data": {
      "text/html": [
       "<html>\\(\\displaystyle \\left(\\begin{array}{rrrrrrrrrrrrrrrr}\n",
       "0 & \\frac{s_{\\mathit{ac}}}{\\pi_{a}} & \\frac{s_{\\mathit{ag}}}{\\pi_{a}} & \\frac{s_{\\mathit{at}}}{\\pi_{a}} & \\frac{s_{\\mathit{ac}}}{\\pi_{a}} & 0 & 0 & 0 & \\frac{s_{\\mathit{ag}}}{\\pi_{a}} & 0 & 0 & 0 & \\frac{s_{\\mathit{at}}}{\\pi_{a}} & 0 & 0 & 0 \\\\\n",
       "\\frac{s_{\\mathit{ac}}}{\\pi_{a}} & 0 & \\frac{s_{\\mathit{cg}}}{\\pi_{a}} & \\frac{s_{\\mathit{ct}}}{\\pi_{a}} & 0 & \\frac{s_{\\mathit{ac}}}{\\pi_{c}} & 0 & 0 & 0 & \\frac{s_{\\mathit{ag}}}{\\pi_{c}} & 0 & 0 & 0 & \\frac{s_{\\mathit{at}}}{\\pi_{c}} & 0 & 0 \\\\\n",
       "\\frac{s_{\\mathit{ag}}}{\\pi_{a}} & \\frac{s_{\\mathit{cg}}}{\\pi_{a}} & 0 & \\frac{s_{\\mathit{gt}}}{\\pi_{a}} & 0 & 0 & \\frac{s_{\\mathit{ac}}}{\\pi_{g}} & 0 & 0 & 0 & \\frac{s_{\\mathit{ag}}}{\\pi_{g}} & 0 & 0 & 0 & \\frac{s_{\\mathit{at}}}{\\pi_{g}} & 0 \\\\\n",
       "\\frac{s_{\\mathit{at}}}{\\pi_{a}} & \\frac{s_{\\mathit{ct}}}{\\pi_{a}} & \\frac{s_{\\mathit{gt}}}{\\pi_{a}} & 0 & 0 & 0 & 0 & \\frac{s_{\\mathit{ac}}}{\\pi_{t}} & 0 & 0 & 0 & \\frac{s_{\\mathit{ag}}}{\\pi_{t}} & 0 & 0 & 0 & \\frac{s_{\\mathit{at}}}{\\pi_{t}} \\\\\n",
       "\\frac{s_{\\mathit{ac}}}{\\pi_{a}} & 0 & 0 & 0 & 0 & \\frac{s_{\\mathit{ac}}}{\\pi_{c}} & \\frac{s_{\\mathit{ag}}}{\\pi_{c}} & \\frac{s_{\\mathit{at}}}{\\pi_{c}} & \\frac{s_{\\mathit{cg}}}{\\pi_{a}} & 0 & 0 & 0 & \\frac{s_{\\mathit{ct}}}{\\pi_{a}} & 0 & 0 & 0 \\\\\n",
       "0 & \\frac{s_{\\mathit{ac}}}{\\pi_{c}} & 0 & 0 & \\frac{s_{\\mathit{ac}}}{\\pi_{c}} & 0 & \\frac{s_{\\mathit{cg}}}{\\pi_{c}} & \\frac{s_{\\mathit{ct}}}{\\pi_{c}} & 0 & \\frac{s_{\\mathit{cg}}}{\\pi_{c}} & 0 & 0 & 0 & \\frac{s_{\\mathit{ct}}}{\\pi_{c}} & 0 & 0 \\\\\n",
       "0 & 0 & \\frac{s_{\\mathit{ac}}}{\\pi_{g}} & 0 & \\frac{s_{\\mathit{ag}}}{\\pi_{c}} & \\frac{s_{\\mathit{cg}}}{\\pi_{c}} & 0 & \\frac{s_{\\mathit{gt}}}{\\pi_{c}} & 0 & 0 & \\frac{s_{\\mathit{cg}}}{\\pi_{g}} & 0 & 0 & 0 & \\frac{s_{\\mathit{ct}}}{\\pi_{g}} & 0 \\\\\n",
       "0 & 0 & 0 & \\frac{s_{\\mathit{ac}}}{\\pi_{t}} & \\frac{s_{\\mathit{at}}}{\\pi_{c}} & \\frac{s_{\\mathit{ct}}}{\\pi_{c}} & \\frac{s_{\\mathit{gt}}}{\\pi_{c}} & 0 & 0 & 0 & 0 & \\frac{s_{\\mathit{cg}}}{\\pi_{t}} & 0 & 0 & 0 & \\frac{s_{\\mathit{ct}}}{\\pi_{t}} \\\\\n",
       "\\frac{s_{\\mathit{ag}}}{\\pi_{a}} & 0 & 0 & 0 & \\frac{s_{\\mathit{cg}}}{\\pi_{a}} & 0 & 0 & 0 & 0 & \\frac{s_{\\mathit{ac}}}{\\pi_{g}} & \\frac{s_{\\mathit{ag}}}{\\pi_{g}} & \\frac{s_{\\mathit{at}}}{\\pi_{g}} & \\frac{s_{\\mathit{gt}}}{\\pi_{a}} & 0 & 0 & 0 \\\\\n",
       "0 & \\frac{s_{\\mathit{ag}}}{\\pi_{c}} & 0 & 0 & 0 & \\frac{s_{\\mathit{cg}}}{\\pi_{c}} & 0 & 0 & \\frac{s_{\\mathit{ac}}}{\\pi_{g}} & 0 & \\frac{s_{\\mathit{cg}}}{\\pi_{g}} & \\frac{s_{\\mathit{ct}}}{\\pi_{g}} & 0 & \\frac{s_{\\mathit{gt}}}{\\pi_{c}} & 0 & 0 \\\\\n",
       "0 & 0 & \\frac{s_{\\mathit{ag}}}{\\pi_{g}} & 0 & 0 & 0 & \\frac{s_{\\mathit{cg}}}{\\pi_{g}} & 0 & \\frac{s_{\\mathit{ag}}}{\\pi_{g}} & \\frac{s_{\\mathit{cg}}}{\\pi_{g}} & 0 & \\frac{s_{\\mathit{gt}}}{\\pi_{g}} & 0 & 0 & \\frac{s_{\\mathit{gt}}}{\\pi_{g}} & 0 \\\\\n",
       "0 & 0 & 0 & \\frac{s_{\\mathit{ag}}}{\\pi_{t}} & 0 & 0 & 0 & \\frac{s_{\\mathit{cg}}}{\\pi_{t}} & \\frac{s_{\\mathit{at}}}{\\pi_{g}} & \\frac{s_{\\mathit{ct}}}{\\pi_{g}} & \\frac{s_{\\mathit{gt}}}{\\pi_{g}} & 0 & 0 & 0 & 0 & \\frac{s_{\\mathit{gt}}}{\\pi_{t}} \\\\\n",
       "\\frac{s_{\\mathit{at}}}{\\pi_{a}} & 0 & 0 & 0 & \\frac{s_{\\mathit{ct}}}{\\pi_{a}} & 0 & 0 & 0 & \\frac{s_{\\mathit{gt}}}{\\pi_{a}} & 0 & 0 & 0 & 0 & \\frac{s_{\\mathit{ac}}}{\\pi_{t}} & \\frac{s_{\\mathit{ag}}}{\\pi_{t}} & \\frac{s_{\\mathit{at}}}{\\pi_{t}} \\\\\n",
       "0 & \\frac{s_{\\mathit{at}}}{\\pi_{c}} & 0 & 0 & 0 & \\frac{s_{\\mathit{ct}}}{\\pi_{c}} & 0 & 0 & 0 & \\frac{s_{\\mathit{gt}}}{\\pi_{c}} & 0 & 0 & \\frac{s_{\\mathit{ac}}}{\\pi_{t}} & 0 & \\frac{s_{\\mathit{cg}}}{\\pi_{t}} & \\frac{s_{\\mathit{ct}}}{\\pi_{t}} \\\\\n",
       "0 & 0 & \\frac{s_{\\mathit{at}}}{\\pi_{g}} & 0 & 0 & 0 & \\frac{s_{\\mathit{ct}}}{\\pi_{g}} & 0 & 0 & 0 & \\frac{s_{\\mathit{gt}}}{\\pi_{g}} & 0 & \\frac{s_{\\mathit{ag}}}{\\pi_{t}} & \\frac{s_{\\mathit{cg}}}{\\pi_{t}} & 0 & \\frac{s_{\\mathit{gt}}}{\\pi_{t}} \\\\\n",
       "0 & 0 & 0 & \\frac{s_{\\mathit{at}}}{\\pi_{t}} & 0 & 0 & 0 & \\frac{s_{\\mathit{ct}}}{\\pi_{t}} & 0 & 0 & 0 & \\frac{s_{\\mathit{gt}}}{\\pi_{t}} & \\frac{s_{\\mathit{at}}}{\\pi_{t}} & \\frac{s_{\\mathit{ct}}}{\\pi_{t}} & \\frac{s_{\\mathit{gt}}}{\\pi_{t}} & 0\n",
       "\\end{array}\\right)\\)</html>"
      ],
      "text/latex": [
       "$\\displaystyle \\left(\\begin{array}{rrrrrrrrrrrrrrrr}\n",
       "0 & \\frac{s_{\\mathit{ac}}}{\\pi_{a}} & \\frac{s_{\\mathit{ag}}}{\\pi_{a}} & \\frac{s_{\\mathit{at}}}{\\pi_{a}} & \\frac{s_{\\mathit{ac}}}{\\pi_{a}} & 0 & 0 & 0 & \\frac{s_{\\mathit{ag}}}{\\pi_{a}} & 0 & 0 & 0 & \\frac{s_{\\mathit{at}}}{\\pi_{a}} & 0 & 0 & 0 \\\\\n",
       "\\frac{s_{\\mathit{ac}}}{\\pi_{a}} & 0 & \\frac{s_{\\mathit{cg}}}{\\pi_{a}} & \\frac{s_{\\mathit{ct}}}{\\pi_{a}} & 0 & \\frac{s_{\\mathit{ac}}}{\\pi_{c}} & 0 & 0 & 0 & \\frac{s_{\\mathit{ag}}}{\\pi_{c}} & 0 & 0 & 0 & \\frac{s_{\\mathit{at}}}{\\pi_{c}} & 0 & 0 \\\\\n",
       "\\frac{s_{\\mathit{ag}}}{\\pi_{a}} & \\frac{s_{\\mathit{cg}}}{\\pi_{a}} & 0 & \\frac{s_{\\mathit{gt}}}{\\pi_{a}} & 0 & 0 & \\frac{s_{\\mathit{ac}}}{\\pi_{g}} & 0 & 0 & 0 & \\frac{s_{\\mathit{ag}}}{\\pi_{g}} & 0 & 0 & 0 & \\frac{s_{\\mathit{at}}}{\\pi_{g}} & 0 \\\\\n",
       "\\frac{s_{\\mathit{at}}}{\\pi_{a}} & \\frac{s_{\\mathit{ct}}}{\\pi_{a}} & \\frac{s_{\\mathit{gt}}}{\\pi_{a}} & 0 & 0 & 0 & 0 & \\frac{s_{\\mathit{ac}}}{\\pi_{t}} & 0 & 0 & 0 & \\frac{s_{\\mathit{ag}}}{\\pi_{t}} & 0 & 0 & 0 & \\frac{s_{\\mathit{at}}}{\\pi_{t}} \\\\\n",
       "\\frac{s_{\\mathit{ac}}}{\\pi_{a}} & 0 & 0 & 0 & 0 & \\frac{s_{\\mathit{ac}}}{\\pi_{c}} & \\frac{s_{\\mathit{ag}}}{\\pi_{c}} & \\frac{s_{\\mathit{at}}}{\\pi_{c}} & \\frac{s_{\\mathit{cg}}}{\\pi_{a}} & 0 & 0 & 0 & \\frac{s_{\\mathit{ct}}}{\\pi_{a}} & 0 & 0 & 0 \\\\\n",
       "0 & \\frac{s_{\\mathit{ac}}}{\\pi_{c}} & 0 & 0 & \\frac{s_{\\mathit{ac}}}{\\pi_{c}} & 0 & \\frac{s_{\\mathit{cg}}}{\\pi_{c}} & \\frac{s_{\\mathit{ct}}}{\\pi_{c}} & 0 & \\frac{s_{\\mathit{cg}}}{\\pi_{c}} & 0 & 0 & 0 & \\frac{s_{\\mathit{ct}}}{\\pi_{c}} & 0 & 0 \\\\\n",
       "0 & 0 & \\frac{s_{\\mathit{ac}}}{\\pi_{g}} & 0 & \\frac{s_{\\mathit{ag}}}{\\pi_{c}} & \\frac{s_{\\mathit{cg}}}{\\pi_{c}} & 0 & \\frac{s_{\\mathit{gt}}}{\\pi_{c}} & 0 & 0 & \\frac{s_{\\mathit{cg}}}{\\pi_{g}} & 0 & 0 & 0 & \\frac{s_{\\mathit{ct}}}{\\pi_{g}} & 0 \\\\\n",
       "0 & 0 & 0 & \\frac{s_{\\mathit{ac}}}{\\pi_{t}} & \\frac{s_{\\mathit{at}}}{\\pi_{c}} & \\frac{s_{\\mathit{ct}}}{\\pi_{c}} & \\frac{s_{\\mathit{gt}}}{\\pi_{c}} & 0 & 0 & 0 & 0 & \\frac{s_{\\mathit{cg}}}{\\pi_{t}} & 0 & 0 & 0 & \\frac{s_{\\mathit{ct}}}{\\pi_{t}} \\\\\n",
       "\\frac{s_{\\mathit{ag}}}{\\pi_{a}} & 0 & 0 & 0 & \\frac{s_{\\mathit{cg}}}{\\pi_{a}} & 0 & 0 & 0 & 0 & \\frac{s_{\\mathit{ac}}}{\\pi_{g}} & \\frac{s_{\\mathit{ag}}}{\\pi_{g}} & \\frac{s_{\\mathit{at}}}{\\pi_{g}} & \\frac{s_{\\mathit{gt}}}{\\pi_{a}} & 0 & 0 & 0 \\\\\n",
       "0 & \\frac{s_{\\mathit{ag}}}{\\pi_{c}} & 0 & 0 & 0 & \\frac{s_{\\mathit{cg}}}{\\pi_{c}} & 0 & 0 & \\frac{s_{\\mathit{ac}}}{\\pi_{g}} & 0 & \\frac{s_{\\mathit{cg}}}{\\pi_{g}} & \\frac{s_{\\mathit{ct}}}{\\pi_{g}} & 0 & \\frac{s_{\\mathit{gt}}}{\\pi_{c}} & 0 & 0 \\\\\n",
       "0 & 0 & \\frac{s_{\\mathit{ag}}}{\\pi_{g}} & 0 & 0 & 0 & \\frac{s_{\\mathit{cg}}}{\\pi_{g}} & 0 & \\frac{s_{\\mathit{ag}}}{\\pi_{g}} & \\frac{s_{\\mathit{cg}}}{\\pi_{g}} & 0 & \\frac{s_{\\mathit{gt}}}{\\pi_{g}} & 0 & 0 & \\frac{s_{\\mathit{gt}}}{\\pi_{g}} & 0 \\\\\n",
       "0 & 0 & 0 & \\frac{s_{\\mathit{ag}}}{\\pi_{t}} & 0 & 0 & 0 & \\frac{s_{\\mathit{cg}}}{\\pi_{t}} & \\frac{s_{\\mathit{at}}}{\\pi_{g}} & \\frac{s_{\\mathit{ct}}}{\\pi_{g}} & \\frac{s_{\\mathit{gt}}}{\\pi_{g}} & 0 & 0 & 0 & 0 & \\frac{s_{\\mathit{gt}}}{\\pi_{t}} \\\\\n",
       "\\frac{s_{\\mathit{at}}}{\\pi_{a}} & 0 & 0 & 0 & \\frac{s_{\\mathit{ct}}}{\\pi_{a}} & 0 & 0 & 0 & \\frac{s_{\\mathit{gt}}}{\\pi_{a}} & 0 & 0 & 0 & 0 & \\frac{s_{\\mathit{ac}}}{\\pi_{t}} & \\frac{s_{\\mathit{ag}}}{\\pi_{t}} & \\frac{s_{\\mathit{at}}}{\\pi_{t}} \\\\\n",
       "0 & \\frac{s_{\\mathit{at}}}{\\pi_{c}} & 0 & 0 & 0 & \\frac{s_{\\mathit{ct}}}{\\pi_{c}} & 0 & 0 & 0 & \\frac{s_{\\mathit{gt}}}{\\pi_{c}} & 0 & 0 & \\frac{s_{\\mathit{ac}}}{\\pi_{t}} & 0 & \\frac{s_{\\mathit{cg}}}{\\pi_{t}} & \\frac{s_{\\mathit{ct}}}{\\pi_{t}} \\\\\n",
       "0 & 0 & \\frac{s_{\\mathit{at}}}{\\pi_{g}} & 0 & 0 & 0 & \\frac{s_{\\mathit{ct}}}{\\pi_{g}} & 0 & 0 & 0 & \\frac{s_{\\mathit{gt}}}{\\pi_{g}} & 0 & \\frac{s_{\\mathit{ag}}}{\\pi_{t}} & \\frac{s_{\\mathit{cg}}}{\\pi_{t}} & 0 & \\frac{s_{\\mathit{gt}}}{\\pi_{t}} \\\\\n",
       "0 & 0 & 0 & \\frac{s_{\\mathit{at}}}{\\pi_{t}} & 0 & 0 & 0 & \\frac{s_{\\mathit{ct}}}{\\pi_{t}} & 0 & 0 & 0 & \\frac{s_{\\mathit{gt}}}{\\pi_{t}} & \\frac{s_{\\mathit{at}}}{\\pi_{t}} & \\frac{s_{\\mathit{ct}}}{\\pi_{t}} & \\frac{s_{\\mathit{gt}}}{\\pi_{t}} & 0\n",
       "\\end{array}\\right)$"
      ],
      "text/plain": [
       "[        0 s_ac/pi_a s_ag/pi_a s_at/pi_a s_ac/pi_a         0         0         0 s_ag/pi_a         0         0         0 s_at/pi_a         0         0         0]\n",
       "[s_ac/pi_a         0 s_cg/pi_a s_ct/pi_a         0 s_ac/pi_c         0         0         0 s_ag/pi_c         0         0         0 s_at/pi_c         0         0]\n",
       "[s_ag/pi_a s_cg/pi_a         0 s_gt/pi_a         0         0 s_ac/pi_g         0         0         0 s_ag/pi_g         0         0         0 s_at/pi_g         0]\n",
       "[s_at/pi_a s_ct/pi_a s_gt/pi_a         0         0         0         0 s_ac/pi_t         0         0         0 s_ag/pi_t         0         0         0 s_at/pi_t]\n",
       "[s_ac/pi_a         0         0         0         0 s_ac/pi_c s_ag/pi_c s_at/pi_c s_cg/pi_a         0         0         0 s_ct/pi_a         0         0         0]\n",
       "[        0 s_ac/pi_c         0         0 s_ac/pi_c         0 s_cg/pi_c s_ct/pi_c         0 s_cg/pi_c         0         0         0 s_ct/pi_c         0         0]\n",
       "[        0         0 s_ac/pi_g         0 s_ag/pi_c s_cg/pi_c         0 s_gt/pi_c         0         0 s_cg/pi_g         0         0         0 s_ct/pi_g         0]\n",
       "[        0         0         0 s_ac/pi_t s_at/pi_c s_ct/pi_c s_gt/pi_c         0         0         0         0 s_cg/pi_t         0         0         0 s_ct/pi_t]\n",
       "[s_ag/pi_a         0         0         0 s_cg/pi_a         0         0         0         0 s_ac/pi_g s_ag/pi_g s_at/pi_g s_gt/pi_a         0         0         0]\n",
       "[        0 s_ag/pi_c         0         0         0 s_cg/pi_c         0         0 s_ac/pi_g         0 s_cg/pi_g s_ct/pi_g         0 s_gt/pi_c         0         0]\n",
       "[        0         0 s_ag/pi_g         0         0         0 s_cg/pi_g         0 s_ag/pi_g s_cg/pi_g         0 s_gt/pi_g         0         0 s_gt/pi_g         0]\n",
       "[        0         0         0 s_ag/pi_t         0         0         0 s_cg/pi_t s_at/pi_g s_ct/pi_g s_gt/pi_g         0         0         0         0 s_gt/pi_t]\n",
       "[s_at/pi_a         0         0         0 s_ct/pi_a         0         0         0 s_gt/pi_a         0         0         0         0 s_ac/pi_t s_ag/pi_t s_at/pi_t]\n",
       "[        0 s_at/pi_c         0         0         0 s_ct/pi_c         0         0         0 s_gt/pi_c         0         0 s_ac/pi_t         0 s_cg/pi_t s_ct/pi_t]\n",
       "[        0         0 s_at/pi_g         0         0         0 s_ct/pi_g         0         0         0 s_gt/pi_g         0 s_ag/pi_t s_cg/pi_t         0 s_gt/pi_t]\n",
       "[        0         0         0 s_at/pi_t         0         0         0 s_ct/pi_t         0         0         0 s_gt/pi_t s_at/pi_t s_ct/pi_t s_gt/pi_t         0]"
      ]
     },
     "execution_count": 45,
     "metadata": {},
     "output_type": "execute_result"
    }
   ],
   "source": [
    "s16 = matrix( np.kron(s4, np.diag(np.array(pi4s)^-1)) + np.kron(np.diag(np.array(pi4s)^-1), s4) )\n",
    "\n",
    "without_diagonal(s16)"
   ]
  },
  {
   "cell_type": "code",
   "execution_count": 46,
   "id": "eff35672-4323-48c0-820e-df4d95601148",
   "metadata": {},
   "outputs": [
    {
     "data": {
      "text/html": [
       "<html>\\(\\displaystyle \\left(\\begin{array}{rrrrrrrrrrrrrrrr}\n",
       "0 & 0 & 0 & 0 & \\frac{s_{\\mathit{ac}}}{\\pi_{a}} & \\frac{s_{\\mathit{ac}}}{\\pi_{a}} & \\frac{s_{\\mathit{ag}}}{\\pi_{a}} & \\frac{s_{\\mathit{ag}}}{\\pi_{a}} & \\frac{s_{\\mathit{at}}}{\\pi_{a}} & \\frac{s_{\\mathit{at}}}{\\pi_{a}} & 0 & 0 & 0 & 0 & 0 & 0 \\\\\n",
       "0 & 0 & 0 & 0 & \\frac{s_{\\mathit{ac}}}{\\pi_{c}} & \\frac{s_{\\mathit{ac}}}{\\pi_{c}} & 0 & 0 & 0 & 0 & \\frac{s_{\\mathit{cg}}}{\\pi_{c}} & \\frac{s_{\\mathit{cg}}}{\\pi_{c}} & \\frac{s_{\\mathit{ct}}}{\\pi_{c}} & \\frac{s_{\\mathit{ct}}}{\\pi_{c}} & 0 & 0 \\\\\n",
       "0 & 0 & 0 & 0 & 0 & 0 & \\frac{s_{\\mathit{ag}}}{\\pi_{g}} & \\frac{s_{\\mathit{ag}}}{\\pi_{g}} & 0 & 0 & \\frac{s_{\\mathit{cg}}}{\\pi_{g}} & \\frac{s_{\\mathit{cg}}}{\\pi_{g}} & 0 & 0 & \\frac{s_{\\mathit{gt}}}{\\pi_{g}} & \\frac{s_{\\mathit{gt}}}{\\pi_{g}} \\\\\n",
       "0 & 0 & 0 & 0 & 0 & 0 & 0 & 0 & \\frac{s_{\\mathit{at}}}{\\pi_{t}} & \\frac{s_{\\mathit{at}}}{\\pi_{t}} & 0 & 0 & \\frac{s_{\\mathit{ct}}}{\\pi_{t}} & \\frac{s_{\\mathit{ct}}}{\\pi_{t}} & \\frac{s_{\\mathit{gt}}}{\\pi_{t}} & \\frac{s_{\\mathit{gt}}}{\\pi_{t}} \\\\\n",
       "\\frac{s_{\\mathit{ac}}}{\\pi_{a}} & \\frac{s_{\\mathit{ac}}}{\\pi_{c}} & 0 & 0 & 0 & 0 & \\frac{s_{\\mathit{cg}}}{\\pi_{a}} & 0 & \\frac{s_{\\mathit{ct}}}{\\pi_{a}} & 0 & 0 & \\frac{s_{\\mathit{ag}}}{\\pi_{c}} & 0 & \\frac{s_{\\mathit{at}}}{\\pi_{c}} & 0 & 0 \\\\\n",
       "\\frac{s_{\\mathit{ac}}}{\\pi_{a}} & \\frac{s_{\\mathit{ac}}}{\\pi_{c}} & 0 & 0 & 0 & 0 & 0 & \\frac{s_{\\mathit{cg}}}{\\pi_{a}} & 0 & \\frac{s_{\\mathit{ct}}}{\\pi_{a}} & \\frac{s_{\\mathit{ag}}}{\\pi_{c}} & 0 & \\frac{s_{\\mathit{at}}}{\\pi_{c}} & 0 & 0 & 0 \\\\\n",
       "\\frac{s_{\\mathit{ag}}}{\\pi_{a}} & 0 & \\frac{s_{\\mathit{ag}}}{\\pi_{g}} & 0 & \\frac{s_{\\mathit{cg}}}{\\pi_{a}} & 0 & 0 & 0 & \\frac{s_{\\mathit{gt}}}{\\pi_{a}} & 0 & \\frac{s_{\\mathit{ac}}}{\\pi_{g}} & 0 & 0 & 0 & 0 & \\frac{s_{\\mathit{at}}}{\\pi_{g}} \\\\\n",
       "\\frac{s_{\\mathit{ag}}}{\\pi_{a}} & 0 & \\frac{s_{\\mathit{ag}}}{\\pi_{g}} & 0 & 0 & \\frac{s_{\\mathit{cg}}}{\\pi_{a}} & 0 & 0 & 0 & \\frac{s_{\\mathit{gt}}}{\\pi_{a}} & 0 & \\frac{s_{\\mathit{ac}}}{\\pi_{g}} & 0 & 0 & \\frac{s_{\\mathit{at}}}{\\pi_{g}} & 0 \\\\\n",
       "\\frac{s_{\\mathit{at}}}{\\pi_{a}} & 0 & 0 & \\frac{s_{\\mathit{at}}}{\\pi_{t}} & \\frac{s_{\\mathit{ct}}}{\\pi_{a}} & 0 & \\frac{s_{\\mathit{gt}}}{\\pi_{a}} & 0 & 0 & 0 & 0 & 0 & \\frac{s_{\\mathit{ac}}}{\\pi_{t}} & 0 & \\frac{s_{\\mathit{ag}}}{\\pi_{t}} & 0 \\\\\n",
       "\\frac{s_{\\mathit{at}}}{\\pi_{a}} & 0 & 0 & \\frac{s_{\\mathit{at}}}{\\pi_{t}} & 0 & \\frac{s_{\\mathit{ct}}}{\\pi_{a}} & 0 & \\frac{s_{\\mathit{gt}}}{\\pi_{a}} & 0 & 0 & 0 & 0 & 0 & \\frac{s_{\\mathit{ac}}}{\\pi_{t}} & 0 & \\frac{s_{\\mathit{ag}}}{\\pi_{t}} \\\\\n",
       "0 & \\frac{s_{\\mathit{cg}}}{\\pi_{c}} & \\frac{s_{\\mathit{cg}}}{\\pi_{g}} & 0 & 0 & \\frac{s_{\\mathit{ag}}}{\\pi_{c}} & \\frac{s_{\\mathit{ac}}}{\\pi_{g}} & 0 & 0 & 0 & 0 & 0 & \\frac{s_{\\mathit{gt}}}{\\pi_{c}} & 0 & 0 & \\frac{s_{\\mathit{ct}}}{\\pi_{g}} \\\\\n",
       "0 & \\frac{s_{\\mathit{cg}}}{\\pi_{c}} & \\frac{s_{\\mathit{cg}}}{\\pi_{g}} & 0 & \\frac{s_{\\mathit{ag}}}{\\pi_{c}} & 0 & 0 & \\frac{s_{\\mathit{ac}}}{\\pi_{g}} & 0 & 0 & 0 & 0 & 0 & \\frac{s_{\\mathit{gt}}}{\\pi_{c}} & \\frac{s_{\\mathit{ct}}}{\\pi_{g}} & 0 \\\\\n",
       "0 & \\frac{s_{\\mathit{ct}}}{\\pi_{c}} & 0 & \\frac{s_{\\mathit{ct}}}{\\pi_{t}} & 0 & \\frac{s_{\\mathit{at}}}{\\pi_{c}} & 0 & 0 & \\frac{s_{\\mathit{ac}}}{\\pi_{t}} & 0 & \\frac{s_{\\mathit{gt}}}{\\pi_{c}} & 0 & 0 & 0 & \\frac{s_{\\mathit{cg}}}{\\pi_{t}} & 0 \\\\\n",
       "0 & \\frac{s_{\\mathit{ct}}}{\\pi_{c}} & 0 & \\frac{s_{\\mathit{ct}}}{\\pi_{t}} & \\frac{s_{\\mathit{at}}}{\\pi_{c}} & 0 & 0 & 0 & 0 & \\frac{s_{\\mathit{ac}}}{\\pi_{t}} & 0 & \\frac{s_{\\mathit{gt}}}{\\pi_{c}} & 0 & 0 & 0 & \\frac{s_{\\mathit{cg}}}{\\pi_{t}} \\\\\n",
       "0 & 0 & \\frac{s_{\\mathit{gt}}}{\\pi_{g}} & \\frac{s_{\\mathit{gt}}}{\\pi_{t}} & 0 & 0 & 0 & \\frac{s_{\\mathit{at}}}{\\pi_{g}} & \\frac{s_{\\mathit{ag}}}{\\pi_{t}} & 0 & 0 & \\frac{s_{\\mathit{ct}}}{\\pi_{g}} & \\frac{s_{\\mathit{cg}}}{\\pi_{t}} & 0 & 0 & 0 \\\\\n",
       "0 & 0 & \\frac{s_{\\mathit{gt}}}{\\pi_{g}} & \\frac{s_{\\mathit{gt}}}{\\pi_{t}} & 0 & 0 & \\frac{s_{\\mathit{at}}}{\\pi_{g}} & 0 & 0 & \\frac{s_{\\mathit{ag}}}{\\pi_{t}} & \\frac{s_{\\mathit{ct}}}{\\pi_{g}} & 0 & 0 & \\frac{s_{\\mathit{cg}}}{\\pi_{t}} & 0 & 0\n",
       "\\end{array}\\right)\\)</html>"
      ],
      "text/latex": [
       "$\\displaystyle \\left(\\begin{array}{rrrrrrrrrrrrrrrr}\n",
       "0 & 0 & 0 & 0 & \\frac{s_{\\mathit{ac}}}{\\pi_{a}} & \\frac{s_{\\mathit{ac}}}{\\pi_{a}} & \\frac{s_{\\mathit{ag}}}{\\pi_{a}} & \\frac{s_{\\mathit{ag}}}{\\pi_{a}} & \\frac{s_{\\mathit{at}}}{\\pi_{a}} & \\frac{s_{\\mathit{at}}}{\\pi_{a}} & 0 & 0 & 0 & 0 & 0 & 0 \\\\\n",
       "0 & 0 & 0 & 0 & \\frac{s_{\\mathit{ac}}}{\\pi_{c}} & \\frac{s_{\\mathit{ac}}}{\\pi_{c}} & 0 & 0 & 0 & 0 & \\frac{s_{\\mathit{cg}}}{\\pi_{c}} & \\frac{s_{\\mathit{cg}}}{\\pi_{c}} & \\frac{s_{\\mathit{ct}}}{\\pi_{c}} & \\frac{s_{\\mathit{ct}}}{\\pi_{c}} & 0 & 0 \\\\\n",
       "0 & 0 & 0 & 0 & 0 & 0 & \\frac{s_{\\mathit{ag}}}{\\pi_{g}} & \\frac{s_{\\mathit{ag}}}{\\pi_{g}} & 0 & 0 & \\frac{s_{\\mathit{cg}}}{\\pi_{g}} & \\frac{s_{\\mathit{cg}}}{\\pi_{g}} & 0 & 0 & \\frac{s_{\\mathit{gt}}}{\\pi_{g}} & \\frac{s_{\\mathit{gt}}}{\\pi_{g}} \\\\\n",
       "0 & 0 & 0 & 0 & 0 & 0 & 0 & 0 & \\frac{s_{\\mathit{at}}}{\\pi_{t}} & \\frac{s_{\\mathit{at}}}{\\pi_{t}} & 0 & 0 & \\frac{s_{\\mathit{ct}}}{\\pi_{t}} & \\frac{s_{\\mathit{ct}}}{\\pi_{t}} & \\frac{s_{\\mathit{gt}}}{\\pi_{t}} & \\frac{s_{\\mathit{gt}}}{\\pi_{t}} \\\\\n",
       "\\frac{s_{\\mathit{ac}}}{\\pi_{a}} & \\frac{s_{\\mathit{ac}}}{\\pi_{c}} & 0 & 0 & 0 & 0 & \\frac{s_{\\mathit{cg}}}{\\pi_{a}} & 0 & \\frac{s_{\\mathit{ct}}}{\\pi_{a}} & 0 & 0 & \\frac{s_{\\mathit{ag}}}{\\pi_{c}} & 0 & \\frac{s_{\\mathit{at}}}{\\pi_{c}} & 0 & 0 \\\\\n",
       "\\frac{s_{\\mathit{ac}}}{\\pi_{a}} & \\frac{s_{\\mathit{ac}}}{\\pi_{c}} & 0 & 0 & 0 & 0 & 0 & \\frac{s_{\\mathit{cg}}}{\\pi_{a}} & 0 & \\frac{s_{\\mathit{ct}}}{\\pi_{a}} & \\frac{s_{\\mathit{ag}}}{\\pi_{c}} & 0 & \\frac{s_{\\mathit{at}}}{\\pi_{c}} & 0 & 0 & 0 \\\\\n",
       "\\frac{s_{\\mathit{ag}}}{\\pi_{a}} & 0 & \\frac{s_{\\mathit{ag}}}{\\pi_{g}} & 0 & \\frac{s_{\\mathit{cg}}}{\\pi_{a}} & 0 & 0 & 0 & \\frac{s_{\\mathit{gt}}}{\\pi_{a}} & 0 & \\frac{s_{\\mathit{ac}}}{\\pi_{g}} & 0 & 0 & 0 & 0 & \\frac{s_{\\mathit{at}}}{\\pi_{g}} \\\\\n",
       "\\frac{s_{\\mathit{ag}}}{\\pi_{a}} & 0 & \\frac{s_{\\mathit{ag}}}{\\pi_{g}} & 0 & 0 & \\frac{s_{\\mathit{cg}}}{\\pi_{a}} & 0 & 0 & 0 & \\frac{s_{\\mathit{gt}}}{\\pi_{a}} & 0 & \\frac{s_{\\mathit{ac}}}{\\pi_{g}} & 0 & 0 & \\frac{s_{\\mathit{at}}}{\\pi_{g}} & 0 \\\\\n",
       "\\frac{s_{\\mathit{at}}}{\\pi_{a}} & 0 & 0 & \\frac{s_{\\mathit{at}}}{\\pi_{t}} & \\frac{s_{\\mathit{ct}}}{\\pi_{a}} & 0 & \\frac{s_{\\mathit{gt}}}{\\pi_{a}} & 0 & 0 & 0 & 0 & 0 & \\frac{s_{\\mathit{ac}}}{\\pi_{t}} & 0 & \\frac{s_{\\mathit{ag}}}{\\pi_{t}} & 0 \\\\\n",
       "\\frac{s_{\\mathit{at}}}{\\pi_{a}} & 0 & 0 & \\frac{s_{\\mathit{at}}}{\\pi_{t}} & 0 & \\frac{s_{\\mathit{ct}}}{\\pi_{a}} & 0 & \\frac{s_{\\mathit{gt}}}{\\pi_{a}} & 0 & 0 & 0 & 0 & 0 & \\frac{s_{\\mathit{ac}}}{\\pi_{t}} & 0 & \\frac{s_{\\mathit{ag}}}{\\pi_{t}} \\\\\n",
       "0 & \\frac{s_{\\mathit{cg}}}{\\pi_{c}} & \\frac{s_{\\mathit{cg}}}{\\pi_{g}} & 0 & 0 & \\frac{s_{\\mathit{ag}}}{\\pi_{c}} & \\frac{s_{\\mathit{ac}}}{\\pi_{g}} & 0 & 0 & 0 & 0 & 0 & \\frac{s_{\\mathit{gt}}}{\\pi_{c}} & 0 & 0 & \\frac{s_{\\mathit{ct}}}{\\pi_{g}} \\\\\n",
       "0 & \\frac{s_{\\mathit{cg}}}{\\pi_{c}} & \\frac{s_{\\mathit{cg}}}{\\pi_{g}} & 0 & \\frac{s_{\\mathit{ag}}}{\\pi_{c}} & 0 & 0 & \\frac{s_{\\mathit{ac}}}{\\pi_{g}} & 0 & 0 & 0 & 0 & 0 & \\frac{s_{\\mathit{gt}}}{\\pi_{c}} & \\frac{s_{\\mathit{ct}}}{\\pi_{g}} & 0 \\\\\n",
       "0 & \\frac{s_{\\mathit{ct}}}{\\pi_{c}} & 0 & \\frac{s_{\\mathit{ct}}}{\\pi_{t}} & 0 & \\frac{s_{\\mathit{at}}}{\\pi_{c}} & 0 & 0 & \\frac{s_{\\mathit{ac}}}{\\pi_{t}} & 0 & \\frac{s_{\\mathit{gt}}}{\\pi_{c}} & 0 & 0 & 0 & \\frac{s_{\\mathit{cg}}}{\\pi_{t}} & 0 \\\\\n",
       "0 & \\frac{s_{\\mathit{ct}}}{\\pi_{c}} & 0 & \\frac{s_{\\mathit{ct}}}{\\pi_{t}} & \\frac{s_{\\mathit{at}}}{\\pi_{c}} & 0 & 0 & 0 & 0 & \\frac{s_{\\mathit{ac}}}{\\pi_{t}} & 0 & \\frac{s_{\\mathit{gt}}}{\\pi_{c}} & 0 & 0 & 0 & \\frac{s_{\\mathit{cg}}}{\\pi_{t}} \\\\\n",
       "0 & 0 & \\frac{s_{\\mathit{gt}}}{\\pi_{g}} & \\frac{s_{\\mathit{gt}}}{\\pi_{t}} & 0 & 0 & 0 & \\frac{s_{\\mathit{at}}}{\\pi_{g}} & \\frac{s_{\\mathit{ag}}}{\\pi_{t}} & 0 & 0 & \\frac{s_{\\mathit{ct}}}{\\pi_{g}} & \\frac{s_{\\mathit{cg}}}{\\pi_{t}} & 0 & 0 & 0 \\\\\n",
       "0 & 0 & \\frac{s_{\\mathit{gt}}}{\\pi_{g}} & \\frac{s_{\\mathit{gt}}}{\\pi_{t}} & 0 & 0 & \\frac{s_{\\mathit{at}}}{\\pi_{g}} & 0 & 0 & \\frac{s_{\\mathit{ag}}}{\\pi_{t}} & \\frac{s_{\\mathit{ct}}}{\\pi_{g}} & 0 & 0 & \\frac{s_{\\mathit{cg}}}{\\pi_{t}} & 0 & 0\n",
       "\\end{array}\\right)$"
      ],
      "text/plain": [
       "[        0         0         0         0 s_ac/pi_a s_ac/pi_a s_ag/pi_a s_ag/pi_a s_at/pi_a s_at/pi_a         0         0         0         0         0         0]\n",
       "[        0         0         0         0 s_ac/pi_c s_ac/pi_c         0         0         0         0 s_cg/pi_c s_cg/pi_c s_ct/pi_c s_ct/pi_c         0         0]\n",
       "[        0         0         0         0         0         0 s_ag/pi_g s_ag/pi_g         0         0 s_cg/pi_g s_cg/pi_g         0         0 s_gt/pi_g s_gt/pi_g]\n",
       "[        0         0         0         0         0         0         0         0 s_at/pi_t s_at/pi_t         0         0 s_ct/pi_t s_ct/pi_t s_gt/pi_t s_gt/pi_t]\n",
       "[s_ac/pi_a s_ac/pi_c         0         0         0         0 s_cg/pi_a         0 s_ct/pi_a         0         0 s_ag/pi_c         0 s_at/pi_c         0         0]\n",
       "[s_ac/pi_a s_ac/pi_c         0         0         0         0         0 s_cg/pi_a         0 s_ct/pi_a s_ag/pi_c         0 s_at/pi_c         0         0         0]\n",
       "[s_ag/pi_a         0 s_ag/pi_g         0 s_cg/pi_a         0         0         0 s_gt/pi_a         0 s_ac/pi_g         0         0         0         0 s_at/pi_g]\n",
       "[s_ag/pi_a         0 s_ag/pi_g         0         0 s_cg/pi_a         0         0         0 s_gt/pi_a         0 s_ac/pi_g         0         0 s_at/pi_g         0]\n",
       "[s_at/pi_a         0         0 s_at/pi_t s_ct/pi_a         0 s_gt/pi_a         0         0         0         0         0 s_ac/pi_t         0 s_ag/pi_t         0]\n",
       "[s_at/pi_a         0         0 s_at/pi_t         0 s_ct/pi_a         0 s_gt/pi_a         0         0         0         0         0 s_ac/pi_t         0 s_ag/pi_t]\n",
       "[        0 s_cg/pi_c s_cg/pi_g         0         0 s_ag/pi_c s_ac/pi_g         0         0         0         0         0 s_gt/pi_c         0         0 s_ct/pi_g]\n",
       "[        0 s_cg/pi_c s_cg/pi_g         0 s_ag/pi_c         0         0 s_ac/pi_g         0         0         0         0         0 s_gt/pi_c s_ct/pi_g         0]\n",
       "[        0 s_ct/pi_c         0 s_ct/pi_t         0 s_at/pi_c         0         0 s_ac/pi_t         0 s_gt/pi_c         0         0         0 s_cg/pi_t         0]\n",
       "[        0 s_ct/pi_c         0 s_ct/pi_t s_at/pi_c         0         0         0         0 s_ac/pi_t         0 s_gt/pi_c         0         0         0 s_cg/pi_t]\n",
       "[        0         0 s_gt/pi_g s_gt/pi_t         0         0         0 s_at/pi_g s_ag/pi_t         0         0 s_ct/pi_g s_cg/pi_t         0         0         0]\n",
       "[        0         0 s_gt/pi_g s_gt/pi_t         0         0 s_at/pi_g         0         0 s_ag/pi_t s_ct/pi_g         0         0 s_cg/pi_t         0         0]"
      ]
     },
     "execution_count": 46,
     "metadata": {},
     "output_type": "execute_result"
    }
   ],
   "source": [
    "s16_p = perm.T @ np.array(s16) @ perm\n",
    "\n",
    "without_diagonal(matrix( s16_p ))"
   ]
  },
  {
   "cell_type": "code",
   "execution_count": 47,
   "id": "33e5ccdf-b612-4d08-8687-43f85e028643",
   "metadata": {},
   "outputs": [
    {
     "data": {
      "text/html": [
       "<html>\\(\\displaystyle \\left(\\begin{array}{rrrrrrrrrr}\n",
       "0 & 0 & 0 & 0 & \\frac{s_{\\mathit{ac}}}{\\pi_{a}} & \\frac{s_{\\mathit{ag}}}{\\pi_{a}} & \\frac{s_{\\mathit{at}}}{\\pi_{a}} & 0 & 0 & 0 \\\\\n",
       "0 & 0 & 0 & 0 & \\frac{s_{\\mathit{ac}}}{\\pi_{c}} & 0 & 0 & \\frac{s_{\\mathit{cg}}}{\\pi_{c}} & \\frac{s_{\\mathit{ct}}}{\\pi_{c}} & 0 \\\\\n",
       "0 & 0 & 0 & 0 & 0 & \\frac{s_{\\mathit{ag}}}{\\pi_{g}} & 0 & \\frac{s_{\\mathit{cg}}}{\\pi_{g}} & 0 & \\frac{s_{\\mathit{gt}}}{\\pi_{g}} \\\\\n",
       "0 & 0 & 0 & 0 & 0 & 0 & \\frac{s_{\\mathit{at}}}{\\pi_{t}} & 0 & \\frac{s_{\\mathit{ct}}}{\\pi_{t}} & \\frac{s_{\\mathit{gt}}}{\\pi_{t}} \\\\\n",
       "\\frac{s_{\\mathit{ac}}}{\\pi_{a}} & \\frac{s_{\\mathit{ac}}}{\\pi_{c}} & 0 & 0 & 0 & \\frac{s_{\\mathit{cg}}}{2 \\, \\pi_{a}} & \\frac{s_{\\mathit{ct}}}{2 \\, \\pi_{a}} & \\frac{s_{\\mathit{ag}}}{2 \\, \\pi_{c}} & \\frac{s_{\\mathit{at}}}{2 \\, \\pi_{c}} & 0 \\\\\n",
       "\\frac{s_{\\mathit{ag}}}{\\pi_{a}} & 0 & \\frac{s_{\\mathit{ag}}}{\\pi_{g}} & 0 & \\frac{s_{\\mathit{cg}}}{2 \\, \\pi_{a}} & 0 & \\frac{s_{\\mathit{gt}}}{2 \\, \\pi_{a}} & \\frac{s_{\\mathit{ac}}}{2 \\, \\pi_{g}} & 0 & \\frac{s_{\\mathit{at}}}{2 \\, \\pi_{g}} \\\\\n",
       "\\frac{s_{\\mathit{at}}}{\\pi_{a}} & 0 & 0 & \\frac{s_{\\mathit{at}}}{\\pi_{t}} & \\frac{s_{\\mathit{ct}}}{2 \\, \\pi_{a}} & \\frac{s_{\\mathit{gt}}}{2 \\, \\pi_{a}} & 0 & 0 & \\frac{s_{\\mathit{ac}}}{2 \\, \\pi_{t}} & \\frac{s_{\\mathit{ag}}}{2 \\, \\pi_{t}} \\\\\n",
       "0 & \\frac{s_{\\mathit{cg}}}{\\pi_{c}} & \\frac{s_{\\mathit{cg}}}{\\pi_{g}} & 0 & \\frac{s_{\\mathit{ag}}}{2 \\, \\pi_{c}} & \\frac{s_{\\mathit{ac}}}{2 \\, \\pi_{g}} & 0 & 0 & \\frac{s_{\\mathit{gt}}}{2 \\, \\pi_{c}} & \\frac{s_{\\mathit{ct}}}{2 \\, \\pi_{g}} \\\\\n",
       "0 & \\frac{s_{\\mathit{ct}}}{\\pi_{c}} & 0 & \\frac{s_{\\mathit{ct}}}{\\pi_{t}} & \\frac{s_{\\mathit{at}}}{2 \\, \\pi_{c}} & 0 & \\frac{s_{\\mathit{ac}}}{2 \\, \\pi_{t}} & \\frac{s_{\\mathit{gt}}}{2 \\, \\pi_{c}} & 0 & \\frac{s_{\\mathit{cg}}}{2 \\, \\pi_{t}} \\\\\n",
       "0 & 0 & \\frac{s_{\\mathit{gt}}}{\\pi_{g}} & \\frac{s_{\\mathit{gt}}}{\\pi_{t}} & 0 & \\frac{s_{\\mathit{at}}}{2 \\, \\pi_{g}} & \\frac{s_{\\mathit{ag}}}{2 \\, \\pi_{t}} & \\frac{s_{\\mathit{ct}}}{2 \\, \\pi_{g}} & \\frac{s_{\\mathit{cg}}}{2 \\, \\pi_{t}} & 0\n",
       "\\end{array}\\right)\\)</html>"
      ],
      "text/latex": [
       "$\\displaystyle \\left(\\begin{array}{rrrrrrrrrr}\n",
       "0 & 0 & 0 & 0 & \\frac{s_{\\mathit{ac}}}{\\pi_{a}} & \\frac{s_{\\mathit{ag}}}{\\pi_{a}} & \\frac{s_{\\mathit{at}}}{\\pi_{a}} & 0 & 0 & 0 \\\\\n",
       "0 & 0 & 0 & 0 & \\frac{s_{\\mathit{ac}}}{\\pi_{c}} & 0 & 0 & \\frac{s_{\\mathit{cg}}}{\\pi_{c}} & \\frac{s_{\\mathit{ct}}}{\\pi_{c}} & 0 \\\\\n",
       "0 & 0 & 0 & 0 & 0 & \\frac{s_{\\mathit{ag}}}{\\pi_{g}} & 0 & \\frac{s_{\\mathit{cg}}}{\\pi_{g}} & 0 & \\frac{s_{\\mathit{gt}}}{\\pi_{g}} \\\\\n",
       "0 & 0 & 0 & 0 & 0 & 0 & \\frac{s_{\\mathit{at}}}{\\pi_{t}} & 0 & \\frac{s_{\\mathit{ct}}}{\\pi_{t}} & \\frac{s_{\\mathit{gt}}}{\\pi_{t}} \\\\\n",
       "\\frac{s_{\\mathit{ac}}}{\\pi_{a}} & \\frac{s_{\\mathit{ac}}}{\\pi_{c}} & 0 & 0 & 0 & \\frac{s_{\\mathit{cg}}}{2 \\, \\pi_{a}} & \\frac{s_{\\mathit{ct}}}{2 \\, \\pi_{a}} & \\frac{s_{\\mathit{ag}}}{2 \\, \\pi_{c}} & \\frac{s_{\\mathit{at}}}{2 \\, \\pi_{c}} & 0 \\\\\n",
       "\\frac{s_{\\mathit{ag}}}{\\pi_{a}} & 0 & \\frac{s_{\\mathit{ag}}}{\\pi_{g}} & 0 & \\frac{s_{\\mathit{cg}}}{2 \\, \\pi_{a}} & 0 & \\frac{s_{\\mathit{gt}}}{2 \\, \\pi_{a}} & \\frac{s_{\\mathit{ac}}}{2 \\, \\pi_{g}} & 0 & \\frac{s_{\\mathit{at}}}{2 \\, \\pi_{g}} \\\\\n",
       "\\frac{s_{\\mathit{at}}}{\\pi_{a}} & 0 & 0 & \\frac{s_{\\mathit{at}}}{\\pi_{t}} & \\frac{s_{\\mathit{ct}}}{2 \\, \\pi_{a}} & \\frac{s_{\\mathit{gt}}}{2 \\, \\pi_{a}} & 0 & 0 & \\frac{s_{\\mathit{ac}}}{2 \\, \\pi_{t}} & \\frac{s_{\\mathit{ag}}}{2 \\, \\pi_{t}} \\\\\n",
       "0 & \\frac{s_{\\mathit{cg}}}{\\pi_{c}} & \\frac{s_{\\mathit{cg}}}{\\pi_{g}} & 0 & \\frac{s_{\\mathit{ag}}}{2 \\, \\pi_{c}} & \\frac{s_{\\mathit{ac}}}{2 \\, \\pi_{g}} & 0 & 0 & \\frac{s_{\\mathit{gt}}}{2 \\, \\pi_{c}} & \\frac{s_{\\mathit{ct}}}{2 \\, \\pi_{g}} \\\\\n",
       "0 & \\frac{s_{\\mathit{ct}}}{\\pi_{c}} & 0 & \\frac{s_{\\mathit{ct}}}{\\pi_{t}} & \\frac{s_{\\mathit{at}}}{2 \\, \\pi_{c}} & 0 & \\frac{s_{\\mathit{ac}}}{2 \\, \\pi_{t}} & \\frac{s_{\\mathit{gt}}}{2 \\, \\pi_{c}} & 0 & \\frac{s_{\\mathit{cg}}}{2 \\, \\pi_{t}} \\\\\n",
       "0 & 0 & \\frac{s_{\\mathit{gt}}}{\\pi_{g}} & \\frac{s_{\\mathit{gt}}}{\\pi_{t}} & 0 & \\frac{s_{\\mathit{at}}}{2 \\, \\pi_{g}} & \\frac{s_{\\mathit{ag}}}{2 \\, \\pi_{t}} & \\frac{s_{\\mathit{ct}}}{2 \\, \\pi_{g}} & \\frac{s_{\\mathit{cg}}}{2 \\, \\pi_{t}} & 0\n",
       "\\end{array}\\right)$"
      ],
      "text/plain": [
       "[            0             0             0             0     s_ac/pi_a     s_ag/pi_a     s_at/pi_a             0             0             0]\n",
       "[            0             0             0             0     s_ac/pi_c             0             0     s_cg/pi_c     s_ct/pi_c             0]\n",
       "[            0             0             0             0             0     s_ag/pi_g             0     s_cg/pi_g             0     s_gt/pi_g]\n",
       "[            0             0             0             0             0             0     s_at/pi_t             0     s_ct/pi_t     s_gt/pi_t]\n",
       "[    s_ac/pi_a     s_ac/pi_c             0             0             0 1/2*s_cg/pi_a 1/2*s_ct/pi_a 1/2*s_ag/pi_c 1/2*s_at/pi_c             0]\n",
       "[    s_ag/pi_a             0     s_ag/pi_g             0 1/2*s_cg/pi_a             0 1/2*s_gt/pi_a 1/2*s_ac/pi_g             0 1/2*s_at/pi_g]\n",
       "[    s_at/pi_a             0             0     s_at/pi_t 1/2*s_ct/pi_a 1/2*s_gt/pi_a             0             0 1/2*s_ac/pi_t 1/2*s_ag/pi_t]\n",
       "[            0     s_cg/pi_c     s_cg/pi_g             0 1/2*s_ag/pi_c 1/2*s_ac/pi_g             0             0 1/2*s_gt/pi_c 1/2*s_ct/pi_g]\n",
       "[            0     s_ct/pi_c             0     s_ct/pi_t 1/2*s_at/pi_c             0 1/2*s_ac/pi_t 1/2*s_gt/pi_c             0 1/2*s_cg/pi_t]\n",
       "[            0             0     s_gt/pi_g     s_gt/pi_t             0 1/2*s_at/pi_g 1/2*s_ag/pi_t 1/2*s_ct/pi_g 1/2*s_cg/pi_t             0]"
      ]
     },
     "execution_count": 47,
     "metadata": {},
     "output_type": "execute_result"
    }
   ],
   "source": [
    "s10 = U * matrix(s16_p) * U.T\n",
    "\n",
    "without_diagonal( matrix(s10) )"
   ]
  },
  {
   "cell_type": "markdown",
   "id": "c9504710-385b-4584-9505-312bb4555cb8",
   "metadata": {},
   "source": [
    "## find the GTR10Z model that matches the unphased model\n",
    "\n",
    "first, match the equilibirum vectors, then solve for the s_i's"
   ]
  },
  {
   "cell_type": "code",
   "execution_count": 48,
   "id": "aea761cb-1e3d-47e2-86c7-7d9ac74eee4e",
   "metadata": {},
   "outputs": [
    {
     "data": {
      "text/html": [
       "<html>\\(\\displaystyle \\verb|[0|\\verb| |\\verb|0|\\verb| |\\verb|0|\\verb| |\\verb|0|\\verb| |\\verb|0|\\verb| |\\verb|0|\\verb| |\\verb|0|\\verb| |\\verb|0|\\verb| |\\verb|0|\\verb| |\\verb|0]|\\)</html>"
      ],
      "text/latex": [
       "$\\displaystyle \\verb|[0|\\verb| |\\verb|0|\\verb| |\\verb|0|\\verb| |\\verb|0|\\verb| |\\verb|0|\\verb| |\\verb|0|\\verb| |\\verb|0|\\verb| |\\verb|0|\\verb| |\\verb|0|\\verb| |\\verb|0]|$"
      ],
      "text/plain": [
       "array([0, 0, 0, 0, 0, 0, 0, 0, 0, 0], dtype=object)"
      ]
     },
     "execution_count": 48,
     "metadata": {},
     "output_type": "execute_result"
    }
   ],
   "source": [
    "np.sum(np.array(q_unph), axis=1)"
   ]
  },
  {
   "cell_type": "code",
   "execution_count": 49,
   "id": "9707db58-21b5-4803-994c-b2c823ef8281",
   "metadata": {},
   "outputs": [
    {
     "data": {
      "text/html": [
       "<html>\\(\\displaystyle \\verb|[0|\\verb| |\\verb|0|\\verb| |\\verb|0|\\verb| |\\verb|0|\\verb| |\\verb|0|\\verb| |\\verb|0|\\verb| |\\verb|0|\\verb| |\\verb|0|\\verb| |\\verb|0|\\verb| |\\verb|0]|\\)</html>"
      ],
      "text/latex": [
       "$\\displaystyle \\verb|[0|\\verb| |\\verb|0|\\verb| |\\verb|0|\\verb| |\\verb|0|\\verb| |\\verb|0|\\verb| |\\verb|0|\\verb| |\\verb|0|\\verb| |\\verb|0|\\verb| |\\verb|0|\\verb| |\\verb|0]|$"
      ],
      "text/plain": [
       "array([0, 0, 0, 0, 0, 0, 0, 0, 0, 0], dtype=object)"
      ]
     },
     "execution_count": 49,
     "metadata": {},
     "output_type": "execute_result"
    }
   ],
   "source": [
    "np.array([ c.expand() for c in np.kron(pi4s,pi4s) @ perm @ V @ q_unph])"
   ]
  },
  {
   "cell_type": "code",
   "execution_count": 50,
   "id": "78fb84bb-2e63-4133-9006-e1354e11f883",
   "metadata": {},
   "outputs": [
    {
     "data": {
      "text/html": [
       "<html>\\(\\displaystyle \\verb|[0|\\verb| |\\verb|0|\\verb| |\\verb|0|\\verb| |\\verb|0|\\verb| |\\verb|0|\\verb| |\\verb|0|\\verb| |\\verb|0|\\verb| |\\verb|0|\\verb| |\\verb|0|\\verb| |\\verb|0]|\\)</html>"
      ],
      "text/latex": [
       "$\\displaystyle \\verb|[0|\\verb| |\\verb|0|\\verb| |\\verb|0|\\verb| |\\verb|0|\\verb| |\\verb|0|\\verb| |\\verb|0|\\verb| |\\verb|0|\\verb| |\\verb|0|\\verb| |\\verb|0|\\verb| |\\verb|0]|$"
      ],
      "text/plain": [
       "array([0, 0, 0, 0, 0, 0, 0, 0, 0, 0], dtype=object)"
      ]
     },
     "execution_count": 50,
     "metadata": {},
     "output_type": "execute_result"
    }
   ],
   "source": [
    "np.array([ c.expand() for c in pi10s @ q_gtr10z])"
   ]
  },
  {
   "cell_type": "code",
   "execution_count": 51,
   "id": "6fb02ae2-86d7-4f80-8735-174a0e64e4d7",
   "metadata": {},
   "outputs": [
    {
     "data": {
      "text/html": [
       "<html>\\(\\displaystyle \\begin{array}{l}\n",
       "\\verb|[pi_a^2|\\verb| |\\verb|pi_c^2|\\verb| |\\verb|pi_g^2|\\verb| |\\verb|pi_t^2|\\verb| |\\verb|2*pi_a*pi_c|\\verb| |\\verb|2*pi_a*pi_g|\\verb| |\\verb|2*pi_a*pi_t|\\\\\n",
       "\\verb| |\\verb|2*pi_c*pi_g|\\verb| |\\verb|2*pi_c*pi_t|\\verb| |\\verb|2*pi_g*pi_t]|\n",
       "\\end{array}\\)</html>"
      ],
      "text/latex": [
       "$\\displaystyle \\begin{array}{l}\n",
       "\\verb|[pi_a^2|\\verb| |\\verb|pi_c^2|\\verb| |\\verb|pi_g^2|\\verb| |\\verb|pi_t^2|\\verb| |\\verb|2*pi_a*pi_c|\\verb| |\\verb|2*pi_a*pi_g|\\verb| |\\verb|2*pi_a*pi_t|\\\\\n",
       "\\verb| |\\verb|2*pi_c*pi_g|\\verb| |\\verb|2*pi_c*pi_t|\\verb| |\\verb|2*pi_g*pi_t]|\n",
       "\\end{array}$"
      ],
      "text/plain": [
       "array([pi_a^2, pi_c^2, pi_g^2, pi_t^2, 2*pi_a*pi_c, 2*pi_a*pi_g,\n",
       "       2*pi_a*pi_t, 2*pi_c*pi_g, 2*pi_c*pi_t, 2*pi_g*pi_t], dtype=object)"
      ]
     },
     "execution_count": 51,
     "metadata": {},
     "output_type": "execute_result"
    }
   ],
   "source": [
    "np.kron(pi4s,pi4s) @ perm @ V"
   ]
  },
  {
   "cell_type": "code",
   "execution_count": 52,
   "id": "7d4e95ca-ba98-44ad-bcaa-d133cf7c4c50",
   "metadata": {},
   "outputs": [],
   "source": [
    "# express gtr10z matrix in terms of 4 state pis\n",
    "qqq = np.array(\n",
    "    [\n",
    "        [\n",
    "            c(**dict(zip(map(str, pi10s), np.kron(pi4s,pi4s) @ perm @ V))) \n",
    "            for c in row\n",
    "        ] \n",
    "        for row in q_gtr10z\n",
    "    ]\n",
    ")"
   ]
  },
  {
   "cell_type": "code",
   "execution_count": 53,
   "id": "38df375c-2c4b-4ef7-920e-9700c746b66c",
   "metadata": {},
   "outputs": [],
   "source": [
    "# q_unph = U * perm.T *             q_gtrsq                * perm * V\n",
    "#        = U * perm.T * P16sqrt * q_sym_gtrsq * P16sqrt^-1 * perm * V\n",
    "#        = U * perm.T * P16sqrt * L * D * L^T * P16sqrt^-1 * perm * V"
   ]
  },
  {
   "cell_type": "code",
   "execution_count": 54,
   "id": "f26c03dd-6d95-4fa4-b6d8-49c80ac4a93a",
   "metadata": {},
   "outputs": [],
   "source": [
    "soln = solve([expr==0 for expr in list((qqq - q_unph).reshape(-1)) if not (expr == 0)], s[1:25])"
   ]
  },
  {
   "cell_type": "code",
   "execution_count": 55,
   "id": "c9524896-cf73-4909-9a4a-a29a4844f506",
   "metadata": {},
   "outputs": [
    {
     "data": {
      "text/html": [
       "<html>\\(\\displaystyle 1\\)</html>"
      ],
      "text/latex": [
       "$\\displaystyle 1$"
      ],
      "text/plain": [
       "1"
      ]
     },
     "execution_count": 55,
     "metadata": {},
     "output_type": "execute_result"
    }
   ],
   "source": [
    "len(soln)"
   ]
  },
  {
   "cell_type": "code",
   "execution_count": 56,
   "id": "3b7cb37f-ff74-442a-a89c-c67c001aaaba",
   "metadata": {},
   "outputs": [
    {
     "data": {
      "text/html": [
       "<html>\\(\\displaystyle \\left[s_{1} = \\frac{s_{\\mathit{ac}}}{\\pi_{a}}, s_{2} = \\frac{s_{\\mathit{ag}}}{\\pi_{a}}, s_{3} = \\frac{s_{\\mathit{at}}}{\\pi_{a}}, s_{4} = \\frac{s_{\\mathit{ac}}}{\\pi_{c}}, s_{5} = \\frac{s_{\\mathit{cg}}}{\\pi_{c}}, s_{6} = \\frac{s_{\\mathit{ct}}}{\\pi_{c}}, s_{7} = \\frac{s_{\\mathit{ag}}}{\\pi_{g}}, s_{8} = \\frac{s_{\\mathit{cg}}}{\\pi_{g}}, s_{9} = \\frac{s_{\\mathit{gt}}}{\\pi_{g}}, s_{10} = \\frac{s_{\\mathit{at}}}{\\pi_{t}}, s_{11} = \\frac{s_{\\mathit{ct}}}{\\pi_{t}}, s_{12} = \\frac{s_{\\mathit{gt}}}{\\pi_{t}}, s_{13} = \\frac{s_{\\mathit{cg}}}{2 \\, \\pi_{a}}, s_{14} = \\frac{s_{\\mathit{ct}}}{2 \\, \\pi_{a}}, s_{15} = \\frac{s_{\\mathit{ag}}}{2 \\, \\pi_{c}}, s_{16} = \\frac{s_{\\mathit{at}}}{2 \\, \\pi_{c}}, s_{17} = \\frac{s_{\\mathit{gt}}}{2 \\, \\pi_{a}}, s_{18} = \\frac{s_{\\mathit{ac}}}{2 \\, \\pi_{g}}, s_{19} = \\frac{s_{\\mathit{at}}}{2 \\, \\pi_{g}}, s_{20} = \\frac{s_{\\mathit{ac}}}{2 \\, \\pi_{t}}, s_{21} = \\frac{s_{\\mathit{ag}}}{2 \\, \\pi_{t}}, s_{22} = \\frac{s_{\\mathit{gt}}}{2 \\, \\pi_{c}}, s_{23} = \\frac{s_{\\mathit{ct}}}{2 \\, \\pi_{g}}, s_{24} = \\frac{s_{\\mathit{cg}}}{2 \\, \\pi_{t}}\\right]\\)</html>"
      ],
      "text/latex": [
       "$\\displaystyle \\left[s_{1} = \\frac{s_{\\mathit{ac}}}{\\pi_{a}}, s_{2} = \\frac{s_{\\mathit{ag}}}{\\pi_{a}}, s_{3} = \\frac{s_{\\mathit{at}}}{\\pi_{a}}, s_{4} = \\frac{s_{\\mathit{ac}}}{\\pi_{c}}, s_{5} = \\frac{s_{\\mathit{cg}}}{\\pi_{c}}, s_{6} = \\frac{s_{\\mathit{ct}}}{\\pi_{c}}, s_{7} = \\frac{s_{\\mathit{ag}}}{\\pi_{g}}, s_{8} = \\frac{s_{\\mathit{cg}}}{\\pi_{g}}, s_{9} = \\frac{s_{\\mathit{gt}}}{\\pi_{g}}, s_{10} = \\frac{s_{\\mathit{at}}}{\\pi_{t}}, s_{11} = \\frac{s_{\\mathit{ct}}}{\\pi_{t}}, s_{12} = \\frac{s_{\\mathit{gt}}}{\\pi_{t}}, s_{13} = \\frac{s_{\\mathit{cg}}}{2 \\, \\pi_{a}}, s_{14} = \\frac{s_{\\mathit{ct}}}{2 \\, \\pi_{a}}, s_{15} = \\frac{s_{\\mathit{ag}}}{2 \\, \\pi_{c}}, s_{16} = \\frac{s_{\\mathit{at}}}{2 \\, \\pi_{c}}, s_{17} = \\frac{s_{\\mathit{gt}}}{2 \\, \\pi_{a}}, s_{18} = \\frac{s_{\\mathit{ac}}}{2 \\, \\pi_{g}}, s_{19} = \\frac{s_{\\mathit{at}}}{2 \\, \\pi_{g}}, s_{20} = \\frac{s_{\\mathit{ac}}}{2 \\, \\pi_{t}}, s_{21} = \\frac{s_{\\mathit{ag}}}{2 \\, \\pi_{t}}, s_{22} = \\frac{s_{\\mathit{gt}}}{2 \\, \\pi_{c}}, s_{23} = \\frac{s_{\\mathit{ct}}}{2 \\, \\pi_{g}}, s_{24} = \\frac{s_{\\mathit{cg}}}{2 \\, \\pi_{t}}\\right]$"
      ],
      "text/plain": [
       "[s_1 == s_ac/pi_a,\n",
       " s_2 == s_ag/pi_a,\n",
       " s_3 == s_at/pi_a,\n",
       " s_4 == s_ac/pi_c,\n",
       " s_5 == s_cg/pi_c,\n",
       " s_6 == s_ct/pi_c,\n",
       " s_7 == s_ag/pi_g,\n",
       " s_8 == s_cg/pi_g,\n",
       " s_9 == s_gt/pi_g,\n",
       " s_10 == s_at/pi_t,\n",
       " s_11 == s_ct/pi_t,\n",
       " s_12 == s_gt/pi_t,\n",
       " s_13 == 1/2*s_cg/pi_a,\n",
       " s_14 == 1/2*s_ct/pi_a,\n",
       " s_15 == 1/2*s_ag/pi_c,\n",
       " s_16 == 1/2*s_at/pi_c,\n",
       " s_17 == 1/2*s_gt/pi_a,\n",
       " s_18 == 1/2*s_ac/pi_g,\n",
       " s_19 == 1/2*s_at/pi_g,\n",
       " s_20 == 1/2*s_ac/pi_t,\n",
       " s_21 == 1/2*s_ag/pi_t,\n",
       " s_22 == 1/2*s_gt/pi_c,\n",
       " s_23 == 1/2*s_ct/pi_g,\n",
       " s_24 == 1/2*s_cg/pi_t]"
      ]
     },
     "execution_count": 56,
     "metadata": {},
     "output_type": "execute_result"
    }
   ],
   "source": [
    "soln[0]"
   ]
  },
  {
   "cell_type": "markdown",
   "id": "f8c6c36b-8ff0-40f8-a22b-1925ad01256d",
   "metadata": {},
   "source": [
    "#### gtr10z parameter evaluations for unphased model"
   ]
  },
  {
   "cell_type": "code",
   "execution_count": 57,
   "id": "9dd118fe-069a-4375-8c12-0cad507f291c",
   "metadata": {},
   "outputs": [
    {
     "data": {
      "text/html": [
       "<html>\\(\\displaystyle \\left[\\frac{s_{\\mathit{ac}}}{\\pi_{a}}, \\frac{s_{\\mathit{ag}}}{\\pi_{a}}, \\frac{s_{\\mathit{at}}}{\\pi_{a}}, \\frac{s_{\\mathit{ac}}}{\\pi_{c}}, \\frac{s_{\\mathit{cg}}}{\\pi_{c}}, \\frac{s_{\\mathit{ct}}}{\\pi_{c}}, \\frac{s_{\\mathit{ag}}}{\\pi_{g}}, \\frac{s_{\\mathit{cg}}}{\\pi_{g}}, \\frac{s_{\\mathit{gt}}}{\\pi_{g}}, \\frac{s_{\\mathit{at}}}{\\pi_{t}}, \\frac{s_{\\mathit{ct}}}{\\pi_{t}}, \\frac{s_{\\mathit{gt}}}{\\pi_{t}}, \\frac{s_{\\mathit{cg}}}{2 \\, \\pi_{a}}, \\frac{s_{\\mathit{ct}}}{2 \\, \\pi_{a}}, \\frac{s_{\\mathit{ag}}}{2 \\, \\pi_{c}}, \\frac{s_{\\mathit{at}}}{2 \\, \\pi_{c}}, \\frac{s_{\\mathit{gt}}}{2 \\, \\pi_{a}}, \\frac{s_{\\mathit{ac}}}{2 \\, \\pi_{g}}, \\frac{s_{\\mathit{at}}}{2 \\, \\pi_{g}}, \\frac{s_{\\mathit{ac}}}{2 \\, \\pi_{t}}, \\frac{s_{\\mathit{ag}}}{2 \\, \\pi_{t}}, \\frac{s_{\\mathit{gt}}}{2 \\, \\pi_{c}}, \\frac{s_{\\mathit{ct}}}{2 \\, \\pi_{g}}, \\frac{s_{\\mathit{cg}}}{2 \\, \\pi_{t}}\\right]\\)</html>"
      ],
      "text/latex": [
       "$\\displaystyle \\left[\\frac{s_{\\mathit{ac}}}{\\pi_{a}}, \\frac{s_{\\mathit{ag}}}{\\pi_{a}}, \\frac{s_{\\mathit{at}}}{\\pi_{a}}, \\frac{s_{\\mathit{ac}}}{\\pi_{c}}, \\frac{s_{\\mathit{cg}}}{\\pi_{c}}, \\frac{s_{\\mathit{ct}}}{\\pi_{c}}, \\frac{s_{\\mathit{ag}}}{\\pi_{g}}, \\frac{s_{\\mathit{cg}}}{\\pi_{g}}, \\frac{s_{\\mathit{gt}}}{\\pi_{g}}, \\frac{s_{\\mathit{at}}}{\\pi_{t}}, \\frac{s_{\\mathit{ct}}}{\\pi_{t}}, \\frac{s_{\\mathit{gt}}}{\\pi_{t}}, \\frac{s_{\\mathit{cg}}}{2 \\, \\pi_{a}}, \\frac{s_{\\mathit{ct}}}{2 \\, \\pi_{a}}, \\frac{s_{\\mathit{ag}}}{2 \\, \\pi_{c}}, \\frac{s_{\\mathit{at}}}{2 \\, \\pi_{c}}, \\frac{s_{\\mathit{gt}}}{2 \\, \\pi_{a}}, \\frac{s_{\\mathit{ac}}}{2 \\, \\pi_{g}}, \\frac{s_{\\mathit{at}}}{2 \\, \\pi_{g}}, \\frac{s_{\\mathit{ac}}}{2 \\, \\pi_{t}}, \\frac{s_{\\mathit{ag}}}{2 \\, \\pi_{t}}, \\frac{s_{\\mathit{gt}}}{2 \\, \\pi_{c}}, \\frac{s_{\\mathit{ct}}}{2 \\, \\pi_{g}}, \\frac{s_{\\mathit{cg}}}{2 \\, \\pi_{t}}\\right]$"
      ],
      "text/plain": [
       "[s_ac/pi_a,\n",
       " s_ag/pi_a,\n",
       " s_at/pi_a,\n",
       " s_ac/pi_c,\n",
       " s_cg/pi_c,\n",
       " s_ct/pi_c,\n",
       " s_ag/pi_g,\n",
       " s_cg/pi_g,\n",
       " s_gt/pi_g,\n",
       " s_at/pi_t,\n",
       " s_ct/pi_t,\n",
       " s_gt/pi_t,\n",
       " 1/2*s_cg/pi_a,\n",
       " 1/2*s_ct/pi_a,\n",
       " 1/2*s_ag/pi_c,\n",
       " 1/2*s_at/pi_c,\n",
       " 1/2*s_gt/pi_a,\n",
       " 1/2*s_ac/pi_g,\n",
       " 1/2*s_at/pi_g,\n",
       " 1/2*s_ac/pi_t,\n",
       " 1/2*s_ag/pi_t,\n",
       " 1/2*s_gt/pi_c,\n",
       " 1/2*s_ct/pi_g,\n",
       " 1/2*s_cg/pi_t]"
      ]
     },
     "execution_count": 57,
     "metadata": {},
     "output_type": "execute_result"
    }
   ],
   "source": [
    "[ t.rhs() for t in soln[0]]"
   ]
  },
  {
   "cell_type": "markdown",
   "id": "81b69f31-aa84-42ba-92de-8e9018d3883a",
   "metadata": {},
   "source": [
    "# GTRxGTR"
   ]
  },
  {
   "cell_type": "code",
   "execution_count": 58,
   "id": "fa74c859-195c-4b13-9bda-d9b3657c317f",
   "metadata": {},
   "outputs": [],
   "source": [
    "pi_a_m, pi_c_m, pi_g_m, pi_t_m = var('pi_a_m, pi_c_m, pi_g_m, pi_t_m')\n",
    "pi4_m = vector([pi_a_m, pi_c_m, pi_g_m, pi_t_m])\n",
    "\n",
    "for v in pi4_m:\n",
    "    assume(v,'real')\n",
    "    assume(0 <= v)\n",
    "    assume(v <= 1)\n",
    "\n",
    "pi_a_p, pi_c_p, pi_g_p, pi_t_p = var('pi_a_p, pi_c_p, pi_g_p, pi_t_p')\n",
    "pi4_p = vector([pi_a_p, pi_c_p, pi_g_p, pi_t_p])\n",
    "\n",
    "for v in pi4_p:\n",
    "    assume(v,'real')\n",
    "    assume(0 <= v)\n",
    "    assume(v <= 1)\n",
    "\n",
    "\n",
    "pi16_mp = vector(np.kron(pi4_m,pi4_p))\n",
    "\n",
    "s_ac_m, s_ag_m, s_at_m, s_cg_m, s_ct_m, s_gt_m = var('s_ac_m, s_ag_m, s_at_m, s_cg_m, s_ct_m, s_gt_m')\n",
    "s_m = vector([s_ac_m, s_ag_m, s_at_m, s_cg_m, s_ct_m, s_gt_m])\n",
    "\n",
    "for v in s_m:\n",
    "    assume(v,'real')\n",
    "    assume(0 <= v)\n",
    "\n",
    "s_ac_p, s_ag_p, s_at_p, s_cg_p, s_ct_p, s_gt_p = var('s_ac_p, s_ag_p, s_at_p, s_cg_p, s_ct_p, s_gt_p')\n",
    "s_p = vector([s_ac_p, s_ag_p, s_at_p, s_cg_p, s_ct_p, s_gt_p])\n",
    "\n",
    "for v in s_p:\n",
    "    assume(v,'real')\n",
    "    assume(0 <= v)\n"
   ]
  },
  {
   "cell_type": "code",
   "execution_count": 59,
   "id": "ecf35e35-0270-4b99-81d2-ab777533a2d2",
   "metadata": {},
   "outputs": [],
   "source": [
    "q_m = np.full((4,4), x) * 0\n",
    "\n",
    "q_m[np.triu_indices(4)] = [\n",
    "    0, s_ac_m, s_ag_m, s_at_m, \n",
    "            0, s_cg_m, s_ct_m,\n",
    "                    0, s_gt_m,\n",
    "                            0]\n",
    "q_m = (q_m + q_m.T) @ diagonal_matrix(pi4_m)\n",
    "q_m -= diagonal_matrix(np.sum(q_m, axis=1))"
   ]
  },
  {
   "cell_type": "code",
   "execution_count": 60,
   "id": "f7dea3a8-516b-41eb-9bd3-9e7dd94e8d89",
   "metadata": {},
   "outputs": [],
   "source": [
    "q_p = np.full((4,4), x) * 0\n",
    "\n",
    "q_p[np.triu_indices(4)] = [\n",
    "    0, s_ac_p, s_ag_p, s_at_p, \n",
    "            0, s_cg_p, s_ct_p,\n",
    "                    0, s_gt_p,\n",
    "                            0]\n",
    "q_p = (q_p + q_p.T) @ diagonal_matrix(pi4_p)\n",
    "q_p -= diagonal_matrix(np.sum(q_p, axis=1))"
   ]
  },
  {
   "cell_type": "code",
   "execution_count": 61,
   "id": "475260f5-1f5d-4288-950f-7d98bbc3c649",
   "metadata": {},
   "outputs": [],
   "source": [
    "q_gtrmp = matrix(q_m).tensor_product(identity_matrix(4)) + identity_matrix(4).tensor_product(matrix(q_p))"
   ]
  },
  {
   "cell_type": "code",
   "execution_count": 62,
   "id": "f3ff35c8-2c9b-4331-a0f2-abbd3139ffb6",
   "metadata": {},
   "outputs": [
    {
     "data": {
      "text/html": [
       "<html>\\(\\displaystyle 2 \\, \\pi_{a_{m}} \\pi_{a_{p}} \\pi_{c_{m}} s_{\\mathit{ac}_{m}} + 2 \\, \\pi_{a_{m}} \\pi_{c_{m}} \\pi_{c_{p}} s_{\\mathit{ac}_{m}} + 2 \\, \\pi_{a_{m}} \\pi_{c_{m}} \\pi_{g_{p}} s_{\\mathit{ac}_{m}} + 2 \\, \\pi_{a_{m}} \\pi_{c_{m}} \\pi_{t_{p}} s_{\\mathit{ac}_{m}} + 2 \\, \\pi_{a_{m}} \\pi_{a_{p}} \\pi_{c_{p}} s_{\\mathit{ac}_{p}} + 2 \\, \\pi_{a_{p}} \\pi_{c_{m}} \\pi_{c_{p}} s_{\\mathit{ac}_{p}} + 2 \\, \\pi_{a_{p}} \\pi_{c_{p}} \\pi_{g_{m}} s_{\\mathit{ac}_{p}} + 2 \\, \\pi_{a_{p}} \\pi_{c_{p}} \\pi_{t_{m}} s_{\\mathit{ac}_{p}} + 2 \\, \\pi_{a_{m}} \\pi_{a_{p}} \\pi_{g_{m}} s_{\\mathit{ag}_{m}} + 2 \\, \\pi_{a_{m}} \\pi_{c_{p}} \\pi_{g_{m}} s_{\\mathit{ag}_{m}} + 2 \\, \\pi_{a_{m}} \\pi_{g_{m}} \\pi_{g_{p}} s_{\\mathit{ag}_{m}} + 2 \\, \\pi_{a_{m}} \\pi_{g_{m}} \\pi_{t_{p}} s_{\\mathit{ag}_{m}} + 2 \\, \\pi_{a_{m}} \\pi_{a_{p}} \\pi_{g_{p}} s_{\\mathit{ag}_{p}} + 2 \\, \\pi_{a_{p}} \\pi_{c_{m}} \\pi_{g_{p}} s_{\\mathit{ag}_{p}} + 2 \\, \\pi_{a_{p}} \\pi_{g_{m}} \\pi_{g_{p}} s_{\\mathit{ag}_{p}} + 2 \\, \\pi_{a_{p}} \\pi_{g_{p}} \\pi_{t_{m}} s_{\\mathit{ag}_{p}} + 2 \\, \\pi_{a_{m}} \\pi_{a_{p}} \\pi_{t_{m}} s_{\\mathit{at}_{m}} + 2 \\, \\pi_{a_{m}} \\pi_{c_{p}} \\pi_{t_{m}} s_{\\mathit{at}_{m}} + 2 \\, \\pi_{a_{m}} \\pi_{g_{p}} \\pi_{t_{m}} s_{\\mathit{at}_{m}} + 2 \\, \\pi_{a_{m}} \\pi_{t_{m}} \\pi_{t_{p}} s_{\\mathit{at}_{m}} + 2 \\, \\pi_{a_{m}} \\pi_{a_{p}} \\pi_{t_{p}} s_{\\mathit{at}_{p}} + 2 \\, \\pi_{a_{p}} \\pi_{c_{m}} \\pi_{t_{p}} s_{\\mathit{at}_{p}} + 2 \\, \\pi_{a_{p}} \\pi_{g_{m}} \\pi_{t_{p}} s_{\\mathit{at}_{p}} + 2 \\, \\pi_{a_{p}} \\pi_{t_{m}} \\pi_{t_{p}} s_{\\mathit{at}_{p}} + 2 \\, \\pi_{a_{p}} \\pi_{c_{m}} \\pi_{g_{m}} s_{\\mathit{cg}_{m}} + 2 \\, \\pi_{c_{m}} \\pi_{c_{p}} \\pi_{g_{m}} s_{\\mathit{cg}_{m}} + 2 \\, \\pi_{c_{m}} \\pi_{g_{m}} \\pi_{g_{p}} s_{\\mathit{cg}_{m}} + 2 \\, \\pi_{c_{m}} \\pi_{g_{m}} \\pi_{t_{p}} s_{\\mathit{cg}_{m}} + 2 \\, \\pi_{a_{m}} \\pi_{c_{p}} \\pi_{g_{p}} s_{\\mathit{cg}_{p}} + 2 \\, \\pi_{c_{m}} \\pi_{c_{p}} \\pi_{g_{p}} s_{\\mathit{cg}_{p}} + 2 \\, \\pi_{c_{p}} \\pi_{g_{m}} \\pi_{g_{p}} s_{\\mathit{cg}_{p}} + 2 \\, \\pi_{c_{p}} \\pi_{g_{p}} \\pi_{t_{m}} s_{\\mathit{cg}_{p}} + 2 \\, \\pi_{a_{p}} \\pi_{c_{m}} \\pi_{t_{m}} s_{\\mathit{ct}_{m}} + 2 \\, \\pi_{c_{m}} \\pi_{c_{p}} \\pi_{t_{m}} s_{\\mathit{ct}_{m}} + 2 \\, \\pi_{c_{m}} \\pi_{g_{p}} \\pi_{t_{m}} s_{\\mathit{ct}_{m}} + 2 \\, \\pi_{c_{m}} \\pi_{t_{m}} \\pi_{t_{p}} s_{\\mathit{ct}_{m}} + 2 \\, \\pi_{a_{m}} \\pi_{c_{p}} \\pi_{t_{p}} s_{\\mathit{ct}_{p}} + 2 \\, \\pi_{c_{m}} \\pi_{c_{p}} \\pi_{t_{p}} s_{\\mathit{ct}_{p}} + 2 \\, \\pi_{c_{p}} \\pi_{g_{m}} \\pi_{t_{p}} s_{\\mathit{ct}_{p}} + 2 \\, \\pi_{c_{p}} \\pi_{t_{m}} \\pi_{t_{p}} s_{\\mathit{ct}_{p}} + 2 \\, \\pi_{a_{p}} \\pi_{g_{m}} \\pi_{t_{m}} s_{\\mathit{gt}_{m}} + 2 \\, \\pi_{c_{p}} \\pi_{g_{m}} \\pi_{t_{m}} s_{\\mathit{gt}_{m}} + 2 \\, \\pi_{g_{m}} \\pi_{g_{p}} \\pi_{t_{m}} s_{\\mathit{gt}_{m}} + 2 \\, \\pi_{g_{m}} \\pi_{t_{m}} \\pi_{t_{p}} s_{\\mathit{gt}_{m}} + 2 \\, \\pi_{a_{m}} \\pi_{g_{p}} \\pi_{t_{p}} s_{\\mathit{gt}_{p}} + 2 \\, \\pi_{c_{m}} \\pi_{g_{p}} \\pi_{t_{p}} s_{\\mathit{gt}_{p}} + 2 \\, \\pi_{g_{m}} \\pi_{g_{p}} \\pi_{t_{p}} s_{\\mathit{gt}_{p}} + 2 \\, \\pi_{g_{p}} \\pi_{t_{m}} \\pi_{t_{p}} s_{\\mathit{gt}_{p}}\\)</html>"
      ],
      "text/latex": [
       "$\\displaystyle 2 \\, \\pi_{a_{m}} \\pi_{a_{p}} \\pi_{c_{m}} s_{\\mathit{ac}_{m}} + 2 \\, \\pi_{a_{m}} \\pi_{c_{m}} \\pi_{c_{p}} s_{\\mathit{ac}_{m}} + 2 \\, \\pi_{a_{m}} \\pi_{c_{m}} \\pi_{g_{p}} s_{\\mathit{ac}_{m}} + 2 \\, \\pi_{a_{m}} \\pi_{c_{m}} \\pi_{t_{p}} s_{\\mathit{ac}_{m}} + 2 \\, \\pi_{a_{m}} \\pi_{a_{p}} \\pi_{c_{p}} s_{\\mathit{ac}_{p}} + 2 \\, \\pi_{a_{p}} \\pi_{c_{m}} \\pi_{c_{p}} s_{\\mathit{ac}_{p}} + 2 \\, \\pi_{a_{p}} \\pi_{c_{p}} \\pi_{g_{m}} s_{\\mathit{ac}_{p}} + 2 \\, \\pi_{a_{p}} \\pi_{c_{p}} \\pi_{t_{m}} s_{\\mathit{ac}_{p}} + 2 \\, \\pi_{a_{m}} \\pi_{a_{p}} \\pi_{g_{m}} s_{\\mathit{ag}_{m}} + 2 \\, \\pi_{a_{m}} \\pi_{c_{p}} \\pi_{g_{m}} s_{\\mathit{ag}_{m}} + 2 \\, \\pi_{a_{m}} \\pi_{g_{m}} \\pi_{g_{p}} s_{\\mathit{ag}_{m}} + 2 \\, \\pi_{a_{m}} \\pi_{g_{m}} \\pi_{t_{p}} s_{\\mathit{ag}_{m}} + 2 \\, \\pi_{a_{m}} \\pi_{a_{p}} \\pi_{g_{p}} s_{\\mathit{ag}_{p}} + 2 \\, \\pi_{a_{p}} \\pi_{c_{m}} \\pi_{g_{p}} s_{\\mathit{ag}_{p}} + 2 \\, \\pi_{a_{p}} \\pi_{g_{m}} \\pi_{g_{p}} s_{\\mathit{ag}_{p}} + 2 \\, \\pi_{a_{p}} \\pi_{g_{p}} \\pi_{t_{m}} s_{\\mathit{ag}_{p}} + 2 \\, \\pi_{a_{m}} \\pi_{a_{p}} \\pi_{t_{m}} s_{\\mathit{at}_{m}} + 2 \\, \\pi_{a_{m}} \\pi_{c_{p}} \\pi_{t_{m}} s_{\\mathit{at}_{m}} + 2 \\, \\pi_{a_{m}} \\pi_{g_{p}} \\pi_{t_{m}} s_{\\mathit{at}_{m}} + 2 \\, \\pi_{a_{m}} \\pi_{t_{m}} \\pi_{t_{p}} s_{\\mathit{at}_{m}} + 2 \\, \\pi_{a_{m}} \\pi_{a_{p}} \\pi_{t_{p}} s_{\\mathit{at}_{p}} + 2 \\, \\pi_{a_{p}} \\pi_{c_{m}} \\pi_{t_{p}} s_{\\mathit{at}_{p}} + 2 \\, \\pi_{a_{p}} \\pi_{g_{m}} \\pi_{t_{p}} s_{\\mathit{at}_{p}} + 2 \\, \\pi_{a_{p}} \\pi_{t_{m}} \\pi_{t_{p}} s_{\\mathit{at}_{p}} + 2 \\, \\pi_{a_{p}} \\pi_{c_{m}} \\pi_{g_{m}} s_{\\mathit{cg}_{m}} + 2 \\, \\pi_{c_{m}} \\pi_{c_{p}} \\pi_{g_{m}} s_{\\mathit{cg}_{m}} + 2 \\, \\pi_{c_{m}} \\pi_{g_{m}} \\pi_{g_{p}} s_{\\mathit{cg}_{m}} + 2 \\, \\pi_{c_{m}} \\pi_{g_{m}} \\pi_{t_{p}} s_{\\mathit{cg}_{m}} + 2 \\, \\pi_{a_{m}} \\pi_{c_{p}} \\pi_{g_{p}} s_{\\mathit{cg}_{p}} + 2 \\, \\pi_{c_{m}} \\pi_{c_{p}} \\pi_{g_{p}} s_{\\mathit{cg}_{p}} + 2 \\, \\pi_{c_{p}} \\pi_{g_{m}} \\pi_{g_{p}} s_{\\mathit{cg}_{p}} + 2 \\, \\pi_{c_{p}} \\pi_{g_{p}} \\pi_{t_{m}} s_{\\mathit{cg}_{p}} + 2 \\, \\pi_{a_{p}} \\pi_{c_{m}} \\pi_{t_{m}} s_{\\mathit{ct}_{m}} + 2 \\, \\pi_{c_{m}} \\pi_{c_{p}} \\pi_{t_{m}} s_{\\mathit{ct}_{m}} + 2 \\, \\pi_{c_{m}} \\pi_{g_{p}} \\pi_{t_{m}} s_{\\mathit{ct}_{m}} + 2 \\, \\pi_{c_{m}} \\pi_{t_{m}} \\pi_{t_{p}} s_{\\mathit{ct}_{m}} + 2 \\, \\pi_{a_{m}} \\pi_{c_{p}} \\pi_{t_{p}} s_{\\mathit{ct}_{p}} + 2 \\, \\pi_{c_{m}} \\pi_{c_{p}} \\pi_{t_{p}} s_{\\mathit{ct}_{p}} + 2 \\, \\pi_{c_{p}} \\pi_{g_{m}} \\pi_{t_{p}} s_{\\mathit{ct}_{p}} + 2 \\, \\pi_{c_{p}} \\pi_{t_{m}} \\pi_{t_{p}} s_{\\mathit{ct}_{p}} + 2 \\, \\pi_{a_{p}} \\pi_{g_{m}} \\pi_{t_{m}} s_{\\mathit{gt}_{m}} + 2 \\, \\pi_{c_{p}} \\pi_{g_{m}} \\pi_{t_{m}} s_{\\mathit{gt}_{m}} + 2 \\, \\pi_{g_{m}} \\pi_{g_{p}} \\pi_{t_{m}} s_{\\mathit{gt}_{m}} + 2 \\, \\pi_{g_{m}} \\pi_{t_{m}} \\pi_{t_{p}} s_{\\mathit{gt}_{m}} + 2 \\, \\pi_{a_{m}} \\pi_{g_{p}} \\pi_{t_{p}} s_{\\mathit{gt}_{p}} + 2 \\, \\pi_{c_{m}} \\pi_{g_{p}} \\pi_{t_{p}} s_{\\mathit{gt}_{p}} + 2 \\, \\pi_{g_{m}} \\pi_{g_{p}} \\pi_{t_{p}} s_{\\mathit{gt}_{p}} + 2 \\, \\pi_{g_{p}} \\pi_{t_{m}} \\pi_{t_{p}} s_{\\mathit{gt}_{p}}$"
      ],
      "text/plain": [
       "2*pi_a_m*pi_a_p*pi_c_m*s_ac_m + 2*pi_a_m*pi_c_m*pi_c_p*s_ac_m + 2*pi_a_m*pi_c_m*pi_g_p*s_ac_m + 2*pi_a_m*pi_c_m*pi_t_p*s_ac_m + 2*pi_a_m*pi_a_p*pi_c_p*s_ac_p + 2*pi_a_p*pi_c_m*pi_c_p*s_ac_p + 2*pi_a_p*pi_c_p*pi_g_m*s_ac_p + 2*pi_a_p*pi_c_p*pi_t_m*s_ac_p + 2*pi_a_m*pi_a_p*pi_g_m*s_ag_m + 2*pi_a_m*pi_c_p*pi_g_m*s_ag_m + 2*pi_a_m*pi_g_m*pi_g_p*s_ag_m + 2*pi_a_m*pi_g_m*pi_t_p*s_ag_m + 2*pi_a_m*pi_a_p*pi_g_p*s_ag_p + 2*pi_a_p*pi_c_m*pi_g_p*s_ag_p + 2*pi_a_p*pi_g_m*pi_g_p*s_ag_p + 2*pi_a_p*pi_g_p*pi_t_m*s_ag_p + 2*pi_a_m*pi_a_p*pi_t_m*s_at_m + 2*pi_a_m*pi_c_p*pi_t_m*s_at_m + 2*pi_a_m*pi_g_p*pi_t_m*s_at_m + 2*pi_a_m*pi_t_m*pi_t_p*s_at_m + 2*pi_a_m*pi_a_p*pi_t_p*s_at_p + 2*pi_a_p*pi_c_m*pi_t_p*s_at_p + 2*pi_a_p*pi_g_m*pi_t_p*s_at_p + 2*pi_a_p*pi_t_m*pi_t_p*s_at_p + 2*pi_a_p*pi_c_m*pi_g_m*s_cg_m + 2*pi_c_m*pi_c_p*pi_g_m*s_cg_m + 2*pi_c_m*pi_g_m*pi_g_p*s_cg_m + 2*pi_c_m*pi_g_m*pi_t_p*s_cg_m + 2*pi_a_m*pi_c_p*pi_g_p*s_cg_p + 2*pi_c_m*pi_c_p*pi_g_p*s_cg_p + 2*pi_c_p*pi_g_m*pi_g_p*s_cg_p + 2*pi_c_p*pi_g_p*pi_t_m*s_cg_p + 2*pi_a_p*pi_c_m*pi_t_m*s_ct_m + 2*pi_c_m*pi_c_p*pi_t_m*s_ct_m + 2*pi_c_m*pi_g_p*pi_t_m*s_ct_m + 2*pi_c_m*pi_t_m*pi_t_p*s_ct_m + 2*pi_a_m*pi_c_p*pi_t_p*s_ct_p + 2*pi_c_m*pi_c_p*pi_t_p*s_ct_p + 2*pi_c_p*pi_g_m*pi_t_p*s_ct_p + 2*pi_c_p*pi_t_m*pi_t_p*s_ct_p + 2*pi_a_p*pi_g_m*pi_t_m*s_gt_m + 2*pi_c_p*pi_g_m*pi_t_m*s_gt_m + 2*pi_g_m*pi_g_p*pi_t_m*s_gt_m + 2*pi_g_m*pi_t_m*pi_t_p*s_gt_m + 2*pi_a_m*pi_g_p*pi_t_p*s_gt_p + 2*pi_c_m*pi_g_p*pi_t_p*s_gt_p + 2*pi_g_m*pi_g_p*pi_t_p*s_gt_p + 2*pi_g_p*pi_t_m*pi_t_p*s_gt_p"
      ]
     },
     "execution_count": 62,
     "metadata": {},
     "output_type": "execute_result"
    }
   ],
   "source": [
    "(-pi16_mp * vector(q_gtrmp.diagonal())).simplify_full().expand()"
   ]
  },
  {
   "cell_type": "code",
   "execution_count": 63,
   "id": "0aa2e222-d53f-4d04-abda-57d6b6a991b4",
   "metadata": {},
   "outputs": [],
   "source": [
    "q_sym_gtrmp = np.diag([sqrt(p) for p in pi16_mp]) @ q_gtrmp @ np.diag([sqrt(1/p) for p in pi16_mp])"
   ]
  },
  {
   "cell_type": "code",
   "execution_count": 64,
   "id": "6d4714df-37ea-4370-9557-88fa90834c96",
   "metadata": {},
   "outputs": [],
   "source": [
    "q_sym_gtrmp = np.array([ [c.simplify_real() for c in row] for row in q_sym_gtrmp])"
   ]
  },
  {
   "cell_type": "code",
   "execution_count": 65,
   "id": "f3d41d6b-7dd0-416a-b4c0-8d788e04657e",
   "metadata": {},
   "outputs": [
    {
     "data": {
      "text/html": [
       "<html>\\(\\displaystyle \\verb|True|\\)</html>"
      ],
      "text/latex": [
       "$\\displaystyle \\verb|True|$"
      ],
      "text/plain": [
       "True"
      ]
     },
     "execution_count": 65,
     "metadata": {},
     "output_type": "execute_result"
    }
   ],
   "source": [
    "np.all(q_sym_gtrmp - q_sym_gtrmp.T == 0)"
   ]
  },
  {
   "cell_type": "markdown",
   "id": "eb7987c8-5af2-42db-91aa-864e871540d4",
   "metadata": {},
   "source": [
    "#### code generation"
   ]
  },
  {
   "cell_type": "code",
   "execution_count": 66,
   "id": "499b157d-bd9d-4106-a0e9-0b2515b7769b",
   "metadata": {},
   "outputs": [
    {
     "name": "stdout",
     "output_type": "stream",
     "text": [
      "np.array([[-pi_c_m*s_ac_m - pi_c_p*s_ac_p - pi_g_m*s_ag_m - pi_g_p*s_ag_p - pi_t_m*s_at_m - pi_t_p*s_at_p,\n",
      "        np.sqrt(pi_a_p*pi_c_p)*s_ac_p,\n",
      "        np.sqrt(pi_a_p*pi_g_p)*s_ag_p,\n",
      "        np.sqrt(pi_a_p*pi_t_p)*s_at_p,\n",
      "        np.sqrt(pi_a_m*pi_c_m)*s_ac_m, 0, 0, 0,\n",
      "        np.sqrt(pi_a_m*pi_g_m)*s_ag_m, 0, 0, 0,\n",
      "        np.sqrt(pi_a_m*pi_t_m)*s_at_m, 0, 0, 0],\n",
      "       [np.sqrt(pi_a_p*pi_c_p)*s_ac_p,\n",
      "        -pi_c_m*s_ac_m - pi_a_p*s_ac_p - pi_g_m*s_ag_m - pi_t_m*s_at_m - pi_g_p*s_cg_p - pi_t_p*s_ct_p,\n",
      "        np.sqrt(pi_c_p*pi_g_p)*s_cg_p,\n",
      "        np.sqrt(pi_c_p*pi_t_p)*s_ct_p, 0,\n",
      "        np.sqrt(pi_a_m*pi_c_m)*s_ac_m, 0, 0, 0,\n",
      "        np.sqrt(pi_a_m*pi_g_m)*s_ag_m, 0, 0, 0,\n",
      "        np.sqrt(pi_a_m*pi_t_m)*s_at_m, 0, 0],\n",
      "       [np.sqrt(pi_a_p*pi_g_p)*s_ag_p,\n",
      "        np.sqrt(pi_c_p*pi_g_p)*s_cg_p,\n",
      "        -pi_c_m*s_ac_m - pi_g_m*s_ag_m - pi_a_p*s_ag_p - pi_t_m*s_at_m - pi_c_p*s_cg_p - pi_t_p*s_gt_p,\n",
      "        np.sqrt(pi_g_p*pi_t_p)*s_gt_p, 0, 0,\n",
      "        np.sqrt(pi_a_m*pi_c_m)*s_ac_m, 0, 0, 0,\n",
      "        np.sqrt(pi_a_m*pi_g_m)*s_ag_m, 0, 0, 0,\n",
      "        np.sqrt(pi_a_m*pi_t_m)*s_at_m, 0],\n",
      "       [np.sqrt(pi_a_p*pi_t_p)*s_at_p,\n",
      "        np.sqrt(pi_c_p*pi_t_p)*s_ct_p,\n",
      "        np.sqrt(pi_g_p*pi_t_p)*s_gt_p,\n",
      "        -pi_c_m*s_ac_m - pi_g_m*s_ag_m - pi_t_m*s_at_m - pi_a_p*s_at_p - pi_c_p*s_ct_p - pi_g_p*s_gt_p,\n",
      "        0, 0, 0, np.sqrt(pi_a_m*pi_c_m)*s_ac_m, 0, 0, 0,\n",
      "        np.sqrt(pi_a_m*pi_g_m)*s_ag_m, 0, 0, 0,\n",
      "        np.sqrt(pi_a_m*pi_t_m)*s_at_m],\n",
      "       [np.sqrt(pi_a_m*pi_c_m)*s_ac_m, 0, 0, 0,\n",
      "        -pi_a_m*s_ac_m - pi_c_p*s_ac_p - pi_g_p*s_ag_p - pi_t_p*s_at_p - pi_g_m*s_cg_m - pi_t_m*s_ct_m,\n",
      "        np.sqrt(pi_a_p*pi_c_p)*s_ac_p,\n",
      "        np.sqrt(pi_a_p*pi_g_p)*s_ag_p,\n",
      "        np.sqrt(pi_a_p*pi_t_p)*s_at_p,\n",
      "        np.sqrt(pi_c_m*pi_g_m)*s_cg_m, 0, 0, 0,\n",
      "        np.sqrt(pi_c_m*pi_t_m)*s_ct_m, 0, 0, 0],\n",
      "       [0, np.sqrt(pi_a_m*pi_c_m)*s_ac_m, 0, 0,\n",
      "        np.sqrt(pi_a_p*pi_c_p)*s_ac_p,\n",
      "        -pi_a_m*s_ac_m - pi_a_p*s_ac_p - pi_g_m*s_cg_m - pi_g_p*s_cg_p - pi_t_m*s_ct_m - pi_t_p*s_ct_p,\n",
      "        np.sqrt(pi_c_p*pi_g_p)*s_cg_p,\n",
      "        np.sqrt(pi_c_p*pi_t_p)*s_ct_p, 0,\n",
      "        np.sqrt(pi_c_m*pi_g_m)*s_cg_m, 0, 0, 0,\n",
      "        np.sqrt(pi_c_m*pi_t_m)*s_ct_m, 0, 0],\n",
      "       [0, 0, np.sqrt(pi_a_m*pi_c_m)*s_ac_m, 0,\n",
      "        np.sqrt(pi_a_p*pi_g_p)*s_ag_p,\n",
      "        np.sqrt(pi_c_p*pi_g_p)*s_cg_p,\n",
      "        -pi_a_m*s_ac_m - pi_a_p*s_ag_p - pi_g_m*s_cg_m - pi_c_p*s_cg_p - pi_t_m*s_ct_m - pi_t_p*s_gt_p,\n",
      "        np.sqrt(pi_g_p*pi_t_p)*s_gt_p, 0, 0,\n",
      "        np.sqrt(pi_c_m*pi_g_m)*s_cg_m, 0, 0, 0,\n",
      "        np.sqrt(pi_c_m*pi_t_m)*s_ct_m, 0],\n",
      "       [0, 0, 0, np.sqrt(pi_a_m*pi_c_m)*s_ac_m,\n",
      "        np.sqrt(pi_a_p*pi_t_p)*s_at_p,\n",
      "        np.sqrt(pi_c_p*pi_t_p)*s_ct_p,\n",
      "        np.sqrt(pi_g_p*pi_t_p)*s_gt_p,\n",
      "        -pi_a_m*s_ac_m - pi_a_p*s_at_p - pi_g_m*s_cg_m - pi_t_m*s_ct_m - pi_c_p*s_ct_p - pi_g_p*s_gt_p,\n",
      "        0, 0, 0, np.sqrt(pi_c_m*pi_g_m)*s_cg_m, 0, 0, 0,\n",
      "        np.sqrt(pi_c_m*pi_t_m)*s_ct_m],\n",
      "       [np.sqrt(pi_a_m*pi_g_m)*s_ag_m, 0, 0, 0,\n",
      "        np.sqrt(pi_c_m*pi_g_m)*s_cg_m, 0, 0, 0,\n",
      "        -pi_c_p*s_ac_p - pi_a_m*s_ag_m - pi_g_p*s_ag_p - pi_t_p*s_at_p - pi_c_m*s_cg_m - pi_t_m*s_gt_m,\n",
      "        np.sqrt(pi_a_p*pi_c_p)*s_ac_p,\n",
      "        np.sqrt(pi_a_p*pi_g_p)*s_ag_p,\n",
      "        np.sqrt(pi_a_p*pi_t_p)*s_at_p,\n",
      "        np.sqrt(pi_g_m*pi_t_m)*s_gt_m, 0, 0, 0],\n",
      "       [0, np.sqrt(pi_a_m*pi_g_m)*s_ag_m, 0, 0, 0,\n",
      "        np.sqrt(pi_c_m*pi_g_m)*s_cg_m, 0, 0,\n",
      "        np.sqrt(pi_a_p*pi_c_p)*s_ac_p,\n",
      "        -pi_a_p*s_ac_p - pi_a_m*s_ag_m - pi_c_m*s_cg_m - pi_g_p*s_cg_p - pi_t_p*s_ct_p - pi_t_m*s_gt_m,\n",
      "        np.sqrt(pi_c_p*pi_g_p)*s_cg_p,\n",
      "        np.sqrt(pi_c_p*pi_t_p)*s_ct_p, 0,\n",
      "        np.sqrt(pi_g_m*pi_t_m)*s_gt_m, 0, 0],\n",
      "       [0, 0, np.sqrt(pi_a_m*pi_g_m)*s_ag_m, 0, 0, 0,\n",
      "        np.sqrt(pi_c_m*pi_g_m)*s_cg_m, 0,\n",
      "        np.sqrt(pi_a_p*pi_g_p)*s_ag_p,\n",
      "        np.sqrt(pi_c_p*pi_g_p)*s_cg_p,\n",
      "        -pi_a_m*s_ag_m - pi_a_p*s_ag_p - pi_c_m*s_cg_m - pi_c_p*s_cg_p - pi_t_m*s_gt_m - pi_t_p*s_gt_p,\n",
      "        np.sqrt(pi_g_p*pi_t_p)*s_gt_p, 0, 0,\n",
      "        np.sqrt(pi_g_m*pi_t_m)*s_gt_m, 0],\n",
      "       [0, 0, 0, np.sqrt(pi_a_m*pi_g_m)*s_ag_m, 0, 0, 0,\n",
      "        np.sqrt(pi_c_m*pi_g_m)*s_cg_m,\n",
      "        np.sqrt(pi_a_p*pi_t_p)*s_at_p,\n",
      "        np.sqrt(pi_c_p*pi_t_p)*s_ct_p,\n",
      "        np.sqrt(pi_g_p*pi_t_p)*s_gt_p,\n",
      "        -pi_a_m*s_ag_m - pi_a_p*s_at_p - pi_c_m*s_cg_m - pi_c_p*s_ct_p - pi_t_m*s_gt_m - pi_g_p*s_gt_p,\n",
      "        0, 0, 0, np.sqrt(pi_g_m*pi_t_m)*s_gt_m],\n",
      "       [np.sqrt(pi_a_m*pi_t_m)*s_at_m, 0, 0, 0,\n",
      "        np.sqrt(pi_c_m*pi_t_m)*s_ct_m, 0, 0, 0,\n",
      "        np.sqrt(pi_g_m*pi_t_m)*s_gt_m, 0, 0, 0,\n",
      "        -pi_c_p*s_ac_p - pi_g_p*s_ag_p - pi_a_m*s_at_m - pi_t_p*s_at_p - pi_c_m*s_ct_m - pi_g_m*s_gt_m,\n",
      "        np.sqrt(pi_a_p*pi_c_p)*s_ac_p,\n",
      "        np.sqrt(pi_a_p*pi_g_p)*s_ag_p,\n",
      "        np.sqrt(pi_a_p*pi_t_p)*s_at_p],\n",
      "       [0, np.sqrt(pi_a_m*pi_t_m)*s_at_m, 0, 0, 0,\n",
      "        np.sqrt(pi_c_m*pi_t_m)*s_ct_m, 0, 0, 0,\n",
      "        np.sqrt(pi_g_m*pi_t_m)*s_gt_m, 0, 0,\n",
      "        np.sqrt(pi_a_p*pi_c_p)*s_ac_p,\n",
      "        -pi_a_p*s_ac_p - pi_a_m*s_at_m - pi_g_p*s_cg_p - pi_c_m*s_ct_m - pi_t_p*s_ct_p - pi_g_m*s_gt_m,\n",
      "        np.sqrt(pi_c_p*pi_g_p)*s_cg_p,\n",
      "        np.sqrt(pi_c_p*pi_t_p)*s_ct_p],\n",
      "       [0, 0, np.sqrt(pi_a_m*pi_t_m)*s_at_m, 0, 0, 0,\n",
      "        np.sqrt(pi_c_m*pi_t_m)*s_ct_m, 0, 0, 0,\n",
      "        np.sqrt(pi_g_m*pi_t_m)*s_gt_m, 0,\n",
      "        np.sqrt(pi_a_p*pi_g_p)*s_ag_p,\n",
      "        np.sqrt(pi_c_p*pi_g_p)*s_cg_p,\n",
      "        -pi_a_p*s_ag_p - pi_a_m*s_at_m - pi_c_p*s_cg_p - pi_c_m*s_ct_m - pi_g_m*s_gt_m - pi_t_p*s_gt_p,\n",
      "        np.sqrt(pi_g_p*pi_t_p)*s_gt_p],\n",
      "       [0, 0, 0, np.sqrt(pi_a_m*pi_t_m)*s_at_m, 0, 0, 0,\n",
      "        np.sqrt(pi_c_m*pi_t_m)*s_ct_m, 0, 0, 0,\n",
      "        np.sqrt(pi_g_m*pi_t_m)*s_gt_m,\n",
      "        np.sqrt(pi_a_p*pi_t_p)*s_at_p,\n",
      "        np.sqrt(pi_c_p*pi_t_p)*s_ct_p,\n",
      "        np.sqrt(pi_g_p*pi_t_p)*s_gt_p,\n",
      "        -pi_a_m*s_at_m - pi_a_p*s_at_p - pi_c_m*s_ct_m - pi_c_p*s_ct_p - pi_g_m*s_gt_m - pi_g_p*s_gt_p]],\n",
      "      dtype=np.float64)\n"
     ]
    }
   ],
   "source": [
    "print('np.'+repr(q_sym_gtrmp).replace('sqrt','np.sqrt').replace(')*np.sqrt(','*').replace('object','np.float64'))"
   ]
  },
  {
   "cell_type": "markdown",
   "id": "2c4dd606-4235-45c6-8622-bee5b04f440b",
   "metadata": {},
   "source": [
    "# GTRsq"
   ]
  },
  {
   "cell_type": "code",
   "execution_count": 67,
   "id": "b03e2808-5efa-4bbe-bc22-0135696586bb",
   "metadata": {},
   "outputs": [],
   "source": [
    "q_gtrsq = q_gtrmp(\n",
    "    s_ac_m=s_ac, s_ac_p=s_ac,\n",
    "    s_ag_m=s_ag, s_ag_p=s_ag,\n",
    "    s_at_m=s_at, s_at_p=s_at,\n",
    "    s_cg_m=s_cg, s_cg_p=s_cg,\n",
    "    s_ct_m=s_ct, s_ct_p=s_ct,\n",
    "    s_gt_m=s_gt, s_gt_p=s_gt,\n",
    "    pi_a_m=pi_a, pi_a_p=pi_a,\n",
    "    pi_c_m=pi_c, pi_c_p=pi_c,\n",
    "    pi_g_m=pi_g, pi_g_p=pi_g,\n",
    "    pi_t_m=pi_t, pi_t_p=pi_t,\n",
    ")"
   ]
  },
  {
   "cell_type": "code",
   "execution_count": 68,
   "id": "836f774b-4471-44a9-9e0d-306860a5dd04",
   "metadata": {},
   "outputs": [],
   "source": [
    "pi16sq = pi16_mp(\n",
    "    pi_a_m=pi_a, pi_a_p=pi_a,\n",
    "    pi_c_m=pi_c, pi_c_p=pi_c,\n",
    "    pi_g_m=pi_g, pi_g_p=pi_g,\n",
    "    pi_t_m=pi_t, pi_t_p=pi_t,\n",
    ")"
   ]
  },
  {
   "cell_type": "code",
   "execution_count": 69,
   "id": "9084981e-61bb-4d6f-a4fb-a92eb385b80b",
   "metadata": {},
   "outputs": [
    {
     "data": {
      "text/html": [
       "<html>\\(\\displaystyle \\pi_{a}^{2} \\pi_{c} s_{\\mathit{ac}} + \\pi_{a} \\pi_{c}^{2} s_{\\mathit{ac}} + \\pi_{a} \\pi_{c} \\pi_{g} s_{\\mathit{ac}} + \\pi_{a} \\pi_{c} \\pi_{t} s_{\\mathit{ac}} + \\pi_{a}^{2} \\pi_{g} s_{\\mathit{ag}} + \\pi_{a} \\pi_{c} \\pi_{g} s_{\\mathit{ag}} + \\pi_{a} \\pi_{g}^{2} s_{\\mathit{ag}} + \\pi_{a} \\pi_{g} \\pi_{t} s_{\\mathit{ag}} + \\pi_{a}^{2} \\pi_{t} s_{\\mathit{at}} + \\pi_{a} \\pi_{c} \\pi_{t} s_{\\mathit{at}} + \\pi_{a} \\pi_{g} \\pi_{t} s_{\\mathit{at}} + \\pi_{a} \\pi_{t}^{2} s_{\\mathit{at}} + \\pi_{a} \\pi_{c} \\pi_{g} s_{\\mathit{cg}} + \\pi_{c}^{2} \\pi_{g} s_{\\mathit{cg}} + \\pi_{c} \\pi_{g}^{2} s_{\\mathit{cg}} + \\pi_{c} \\pi_{g} \\pi_{t} s_{\\mathit{cg}} + \\pi_{a} \\pi_{c} \\pi_{t} s_{\\mathit{ct}} + \\pi_{c}^{2} \\pi_{t} s_{\\mathit{ct}} + \\pi_{c} \\pi_{g} \\pi_{t} s_{\\mathit{ct}} + \\pi_{c} \\pi_{t}^{2} s_{\\mathit{ct}} + \\pi_{a} \\pi_{g} \\pi_{t} s_{\\mathit{gt}} + \\pi_{c} \\pi_{g} \\pi_{t} s_{\\mathit{gt}} + \\pi_{g}^{2} \\pi_{t} s_{\\mathit{gt}} + \\pi_{g} \\pi_{t}^{2} s_{\\mathit{gt}}\\)</html>"
      ],
      "text/latex": [
       "$\\displaystyle \\pi_{a}^{2} \\pi_{c} s_{\\mathit{ac}} + \\pi_{a} \\pi_{c}^{2} s_{\\mathit{ac}} + \\pi_{a} \\pi_{c} \\pi_{g} s_{\\mathit{ac}} + \\pi_{a} \\pi_{c} \\pi_{t} s_{\\mathit{ac}} + \\pi_{a}^{2} \\pi_{g} s_{\\mathit{ag}} + \\pi_{a} \\pi_{c} \\pi_{g} s_{\\mathit{ag}} + \\pi_{a} \\pi_{g}^{2} s_{\\mathit{ag}} + \\pi_{a} \\pi_{g} \\pi_{t} s_{\\mathit{ag}} + \\pi_{a}^{2} \\pi_{t} s_{\\mathit{at}} + \\pi_{a} \\pi_{c} \\pi_{t} s_{\\mathit{at}} + \\pi_{a} \\pi_{g} \\pi_{t} s_{\\mathit{at}} + \\pi_{a} \\pi_{t}^{2} s_{\\mathit{at}} + \\pi_{a} \\pi_{c} \\pi_{g} s_{\\mathit{cg}} + \\pi_{c}^{2} \\pi_{g} s_{\\mathit{cg}} + \\pi_{c} \\pi_{g}^{2} s_{\\mathit{cg}} + \\pi_{c} \\pi_{g} \\pi_{t} s_{\\mathit{cg}} + \\pi_{a} \\pi_{c} \\pi_{t} s_{\\mathit{ct}} + \\pi_{c}^{2} \\pi_{t} s_{\\mathit{ct}} + \\pi_{c} \\pi_{g} \\pi_{t} s_{\\mathit{ct}} + \\pi_{c} \\pi_{t}^{2} s_{\\mathit{ct}} + \\pi_{a} \\pi_{g} \\pi_{t} s_{\\mathit{gt}} + \\pi_{c} \\pi_{g} \\pi_{t} s_{\\mathit{gt}} + \\pi_{g}^{2} \\pi_{t} s_{\\mathit{gt}} + \\pi_{g} \\pi_{t}^{2} s_{\\mathit{gt}}$"
      ],
      "text/plain": [
       "pi_a^2*pi_c*s_ac + pi_a*pi_c^2*s_ac + pi_a*pi_c*pi_g*s_ac + pi_a*pi_c*pi_t*s_ac + pi_a^2*pi_g*s_ag + pi_a*pi_c*pi_g*s_ag + pi_a*pi_g^2*s_ag + pi_a*pi_g*pi_t*s_ag + pi_a^2*pi_t*s_at + pi_a*pi_c*pi_t*s_at + pi_a*pi_g*pi_t*s_at + pi_a*pi_t^2*s_at + pi_a*pi_c*pi_g*s_cg + pi_c^2*pi_g*s_cg + pi_c*pi_g^2*s_cg + pi_c*pi_g*pi_t*s_cg + pi_a*pi_c*pi_t*s_ct + pi_c^2*pi_t*s_ct + pi_c*pi_g*pi_t*s_ct + pi_c*pi_t^2*s_ct + pi_a*pi_g*pi_t*s_gt + pi_c*pi_g*pi_t*s_gt + pi_g^2*pi_t*s_gt + pi_g*pi_t^2*s_gt"
      ]
     },
     "execution_count": 69,
     "metadata": {},
     "output_type": "execute_result"
    }
   ],
   "source": [
    "(-pi16sq * vector(q_gtrsq.diagonal())).expand()/4"
   ]
  },
  {
   "cell_type": "code",
   "execution_count": 70,
   "id": "55cad3cd-df87-49d1-b850-658f28164bb1",
   "metadata": {},
   "outputs": [
    {
     "data": {
      "text/html": [
       "<html>\\(\\displaystyle {\\left(\\pi_{a} + \\pi_{c}\\right)} s_{\\mathit{ac}} + {\\left(\\pi_{a} + \\pi_{g}\\right)} s_{\\mathit{ag}} + {\\left(\\pi_{a} + \\pi_{t}\\right)} s_{\\mathit{at}} + {\\left(\\pi_{c} + \\pi_{g}\\right)} s_{\\mathit{cg}} + {\\left(\\pi_{c} + \\pi_{t}\\right)} s_{\\mathit{ct}} + {\\left(\\pi_{g} + \\pi_{t}\\right)} s_{\\mathit{gt}}\\)</html>"
      ],
      "text/latex": [
       "$\\displaystyle {\\left(\\pi_{a} + \\pi_{c}\\right)} s_{\\mathit{ac}} + {\\left(\\pi_{a} + \\pi_{g}\\right)} s_{\\mathit{ag}} + {\\left(\\pi_{a} + \\pi_{t}\\right)} s_{\\mathit{at}} + {\\left(\\pi_{c} + \\pi_{g}\\right)} s_{\\mathit{cg}} + {\\left(\\pi_{c} + \\pi_{t}\\right)} s_{\\mathit{ct}} + {\\left(\\pi_{g} + \\pi_{t}\\right)} s_{\\mathit{gt}}$"
      ],
      "text/plain": [
       "(pi_a + pi_c)*s_ac + (pi_a + pi_g)*s_ag + (pi_a + pi_t)*s_at + (pi_c + pi_g)*s_cg + (pi_c + pi_t)*s_ct + (pi_g + pi_t)*s_gt"
      ]
     },
     "execution_count": 70,
     "metadata": {},
     "output_type": "execute_result"
    }
   ],
   "source": [
    "(-sum(q_gtrsq.diagonal())/8).simplify_full()"
   ]
  },
  {
   "cell_type": "code",
   "execution_count": 71,
   "id": "10f35d44-cc8f-4ee0-9a58-939d9687e6fb",
   "metadata": {},
   "outputs": [],
   "source": [
    "q_sym_gtrsq = np.diag([sqrt(p) for p in pi16sq]) @ q_gtrsq @ np.diag([sqrt(1/p) for p in pi16sq])"
   ]
  },
  {
   "cell_type": "code",
   "execution_count": 72,
   "id": "9681c5e9-6f54-4598-804c-f70a6d65a525",
   "metadata": {},
   "outputs": [],
   "source": [
    "q_sym_gtrsq = np.array([ [c.simplify_real() for c in row] for row in q_sym_gtrsq])"
   ]
  },
  {
   "cell_type": "code",
   "execution_count": 73,
   "id": "8583fc2b-ecfe-4fc9-8f35-cb294ccc3941",
   "metadata": {},
   "outputs": [
    {
     "data": {
      "text/html": [
       "<html>\\(\\displaystyle \\verb|True|\\)</html>"
      ],
      "text/latex": [
       "$\\displaystyle \\verb|True|$"
      ],
      "text/plain": [
       "True"
      ]
     },
     "execution_count": 73,
     "metadata": {},
     "output_type": "execute_result"
    }
   ],
   "source": [
    "np.all(q_sym_gtrsq - q_sym_gtrsq.T == 0)"
   ]
  },
  {
   "cell_type": "markdown",
   "id": "d462bfd0-551d-4143-851c-136414bf987d",
   "metadata": {},
   "source": [
    "#### code generation"
   ]
  },
  {
   "cell_type": "code",
   "execution_count": 74,
   "id": "cfc616b4-0831-457b-8267-beb3527a0a81",
   "metadata": {},
   "outputs": [
    {
     "name": "stdout",
     "output_type": "stream",
     "text": [
      "np.array([[-2*pi_c*s_ac - 2*pi_g*s_ag - 2*pi_t*s_at,\n",
      "        np.sqrt(pi_a*pi_c)*s_ac, np.sqrt(pi_a*pi_g)*s_ag,\n",
      "        np.sqrt(pi_a*pi_t)*s_at, np.sqrt(pi_a*pi_c)*s_ac, 0, 0, 0,\n",
      "        np.sqrt(pi_a*pi_g)*s_ag, 0, 0, 0, np.sqrt(pi_a*pi_t)*s_at,\n",
      "        0, 0, 0],\n",
      "       [np.sqrt(pi_a*pi_c)*s_ac,\n",
      "        -pi_a*s_ac - pi_c*s_ac - pi_g*s_ag - pi_t*s_at - pi_g*s_cg - pi_t*s_ct,\n",
      "        np.sqrt(pi_c*pi_g)*s_cg, np.sqrt(pi_c*pi_t)*s_ct, 0,\n",
      "        np.sqrt(pi_a*pi_c)*s_ac, 0, 0, 0, np.sqrt(pi_a*pi_g)*s_ag,\n",
      "        0, 0, 0, np.sqrt(pi_a*pi_t)*s_at, 0, 0],\n",
      "       [np.sqrt(pi_a*pi_g)*s_ag, np.sqrt(pi_c*pi_g)*s_cg,\n",
      "        -pi_c*s_ac - pi_a*s_ag - pi_g*s_ag - pi_t*s_at - pi_c*s_cg - pi_t*s_gt,\n",
      "        np.sqrt(pi_g*pi_t)*s_gt, 0, 0, np.sqrt(pi_a*pi_c)*s_ac, 0,\n",
      "        0, 0, np.sqrt(pi_a*pi_g)*s_ag, 0, 0, 0,\n",
      "        np.sqrt(pi_a*pi_t)*s_at, 0],\n",
      "       [np.sqrt(pi_a*pi_t)*s_at, np.sqrt(pi_c*pi_t)*s_ct,\n",
      "        np.sqrt(pi_g*pi_t)*s_gt,\n",
      "        -pi_c*s_ac - pi_g*s_ag - pi_a*s_at - pi_t*s_at - pi_c*s_ct - pi_g*s_gt,\n",
      "        0, 0, 0, np.sqrt(pi_a*pi_c)*s_ac, 0, 0, 0,\n",
      "        np.sqrt(pi_a*pi_g)*s_ag, 0, 0, 0, np.sqrt(pi_a*pi_t)*s_at],\n",
      "       [np.sqrt(pi_a*pi_c)*s_ac, 0, 0, 0,\n",
      "        -pi_a*s_ac - pi_c*s_ac - pi_g*s_ag - pi_t*s_at - pi_g*s_cg - pi_t*s_ct,\n",
      "        np.sqrt(pi_a*pi_c)*s_ac, np.sqrt(pi_a*pi_g)*s_ag,\n",
      "        np.sqrt(pi_a*pi_t)*s_at, np.sqrt(pi_c*pi_g)*s_cg, 0, 0, 0,\n",
      "        np.sqrt(pi_c*pi_t)*s_ct, 0, 0, 0],\n",
      "       [0, np.sqrt(pi_a*pi_c)*s_ac, 0, 0, np.sqrt(pi_a*pi_c)*s_ac,\n",
      "        -2*pi_a*s_ac - 2*pi_g*s_cg - 2*pi_t*s_ct,\n",
      "        np.sqrt(pi_c*pi_g)*s_cg, np.sqrt(pi_c*pi_t)*s_ct, 0,\n",
      "        np.sqrt(pi_c*pi_g)*s_cg, 0, 0, 0, np.sqrt(pi_c*pi_t)*s_ct,\n",
      "        0, 0],\n",
      "       [0, 0, np.sqrt(pi_a*pi_c)*s_ac, 0, np.sqrt(pi_a*pi_g)*s_ag,\n",
      "        np.sqrt(pi_c*pi_g)*s_cg,\n",
      "        -pi_a*s_ac - pi_a*s_ag - pi_c*s_cg - pi_g*s_cg - pi_t*s_ct - pi_t*s_gt,\n",
      "        np.sqrt(pi_g*pi_t)*s_gt, 0, 0, np.sqrt(pi_c*pi_g)*s_cg, 0,\n",
      "        0, 0, np.sqrt(pi_c*pi_t)*s_ct, 0],\n",
      "       [0, 0, 0, np.sqrt(pi_a*pi_c)*s_ac, np.sqrt(pi_a*pi_t)*s_at,\n",
      "        np.sqrt(pi_c*pi_t)*s_ct, np.sqrt(pi_g*pi_t)*s_gt,\n",
      "        -pi_a*s_ac - pi_a*s_at - pi_g*s_cg - pi_c*s_ct - pi_t*s_ct - pi_g*s_gt,\n",
      "        0, 0, 0, np.sqrt(pi_c*pi_g)*s_cg, 0, 0, 0,\n",
      "        np.sqrt(pi_c*pi_t)*s_ct],\n",
      "       [np.sqrt(pi_a*pi_g)*s_ag, 0, 0, 0, np.sqrt(pi_c*pi_g)*s_cg,\n",
      "        0, 0, 0,\n",
      "        -pi_c*s_ac - pi_a*s_ag - pi_g*s_ag - pi_t*s_at - pi_c*s_cg - pi_t*s_gt,\n",
      "        np.sqrt(pi_a*pi_c)*s_ac, np.sqrt(pi_a*pi_g)*s_ag,\n",
      "        np.sqrt(pi_a*pi_t)*s_at, np.sqrt(pi_g*pi_t)*s_gt, 0, 0, 0],\n",
      "       [0, np.sqrt(pi_a*pi_g)*s_ag, 0, 0, 0,\n",
      "        np.sqrt(pi_c*pi_g)*s_cg, 0, 0, np.sqrt(pi_a*pi_c)*s_ac,\n",
      "        -pi_a*s_ac - pi_a*s_ag - pi_c*s_cg - pi_g*s_cg - pi_t*s_ct - pi_t*s_gt,\n",
      "        np.sqrt(pi_c*pi_g)*s_cg, np.sqrt(pi_c*pi_t)*s_ct, 0,\n",
      "        np.sqrt(pi_g*pi_t)*s_gt, 0, 0],\n",
      "       [0, 0, np.sqrt(pi_a*pi_g)*s_ag, 0, 0, 0,\n",
      "        np.sqrt(pi_c*pi_g)*s_cg, 0, np.sqrt(pi_a*pi_g)*s_ag,\n",
      "        np.sqrt(pi_c*pi_g)*s_cg,\n",
      "        -2*pi_a*s_ag - 2*pi_c*s_cg - 2*pi_t*s_gt,\n",
      "        np.sqrt(pi_g*pi_t)*s_gt, 0, 0, np.sqrt(pi_g*pi_t)*s_gt, 0],\n",
      "       [0, 0, 0, np.sqrt(pi_a*pi_g)*s_ag, 0, 0, 0,\n",
      "        np.sqrt(pi_c*pi_g)*s_cg, np.sqrt(pi_a*pi_t)*s_at,\n",
      "        np.sqrt(pi_c*pi_t)*s_ct, np.sqrt(pi_g*pi_t)*s_gt,\n",
      "        -pi_a*s_ag - pi_a*s_at - pi_c*s_cg - pi_c*s_ct - pi_g*s_gt - pi_t*s_gt,\n",
      "        0, 0, 0, np.sqrt(pi_g*pi_t)*s_gt],\n",
      "       [np.sqrt(pi_a*pi_t)*s_at, 0, 0, 0, np.sqrt(pi_c*pi_t)*s_ct,\n",
      "        0, 0, 0, np.sqrt(pi_g*pi_t)*s_gt, 0, 0, 0,\n",
      "        -pi_c*s_ac - pi_g*s_ag - pi_a*s_at - pi_t*s_at - pi_c*s_ct - pi_g*s_gt,\n",
      "        np.sqrt(pi_a*pi_c)*s_ac, np.sqrt(pi_a*pi_g)*s_ag,\n",
      "        np.sqrt(pi_a*pi_t)*s_at],\n",
      "       [0, np.sqrt(pi_a*pi_t)*s_at, 0, 0, 0,\n",
      "        np.sqrt(pi_c*pi_t)*s_ct, 0, 0, 0, np.sqrt(pi_g*pi_t)*s_gt,\n",
      "        0, 0, np.sqrt(pi_a*pi_c)*s_ac,\n",
      "        -pi_a*s_ac - pi_a*s_at - pi_g*s_cg - pi_c*s_ct - pi_t*s_ct - pi_g*s_gt,\n",
      "        np.sqrt(pi_c*pi_g)*s_cg, np.sqrt(pi_c*pi_t)*s_ct],\n",
      "       [0, 0, np.sqrt(pi_a*pi_t)*s_at, 0, 0, 0,\n",
      "        np.sqrt(pi_c*pi_t)*s_ct, 0, 0, 0, np.sqrt(pi_g*pi_t)*s_gt,\n",
      "        0, np.sqrt(pi_a*pi_g)*s_ag, np.sqrt(pi_c*pi_g)*s_cg,\n",
      "        -pi_a*s_ag - pi_a*s_at - pi_c*s_cg - pi_c*s_ct - pi_g*s_gt - pi_t*s_gt,\n",
      "        np.sqrt(pi_g*pi_t)*s_gt],\n",
      "       [0, 0, 0, np.sqrt(pi_a*pi_t)*s_at, 0, 0, 0,\n",
      "        np.sqrt(pi_c*pi_t)*s_ct, 0, 0, 0, np.sqrt(pi_g*pi_t)*s_gt,\n",
      "        np.sqrt(pi_a*pi_t)*s_at, np.sqrt(pi_c*pi_t)*s_ct,\n",
      "        np.sqrt(pi_g*pi_t)*s_gt,\n",
      "        -2*pi_a*s_at - 2*pi_c*s_ct - 2*pi_g*s_gt]], dtype=np.float64)\n"
     ]
    }
   ],
   "source": [
    "print('np.'+repr(q_sym_gtrsq).replace('sqrt','np.sqrt').replace(')*np.sqrt(','*').replace('object','np.float64'))"
   ]
  },
  {
   "cell_type": "code",
   "execution_count": null,
   "id": "1ee1bffa-dfa0-4e89-93ef-0a0b7f341b25",
   "metadata": {},
   "outputs": [],
   "source": []
  }
 ],
 "metadata": {
  "kernelspec": {
   "display_name": "SageMath 10.7.beta4",
   "language": "sage",
   "name": "sagemath"
  },
  "language_info": {
   "codemirror_mode": {
    "name": "ipython",
    "version": 3
   },
   "file_extension": ".py",
   "mimetype": "text/x-python",
   "name": "python",
   "nbconvert_exporter": "python",
   "pygments_lexer": "ipython3",
   "version": "3.12.5"
  }
 },
 "nbformat": 4,
 "nbformat_minor": 5
}
