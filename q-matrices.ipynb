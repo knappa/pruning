{
 "cells": [
  {
   "cell_type": "code",
   "execution_count": 73,
   "id": "ba8ee841-adca-471f-9dae-cb7d94fdafaf",
   "metadata": {},
   "outputs": [],
   "source": [
    "import numpy as np\n",
    "\n",
    "%display plain\n",
    "\n",
    "def without_diagonal(x):\n",
    "    return x - diagonal_matrix(x.diagonal())"
   ]
  },
  {
   "cell_type": "code",
   "execution_count": 64,
   "id": "344d16f9-cc67-47ec-9ac8-47eec0465311",
   "metadata": {},
   "outputs": [],
   "source": [
    "pi_aa, pi_cc, pi_gg, pi_tt, pi_ac, pi_ag, pi_at, pi_cg, pi_ct, pi_gt = var('pi_aa, pi_cc, pi_gg, pi_tt, pi_ac, pi_ag, pi_at, pi_cg, pi_ct, pi_gt')\n",
    "\n",
    "pi10s = vector([pi_aa, pi_cc, pi_gg, pi_tt, pi_ac, pi_ag, pi_at, pi_cg, pi_ct, pi_gt])\n",
    "\n",
    "for v in pi10s:\n",
    "    assume(v,'real')\n",
    "    assume(0 <= v)\n",
    "    assume(v <= 1)\n"
   ]
  },
  {
   "cell_type": "code",
   "execution_count": 65,
   "id": "590f3fc3-6d8d-4911-81e3-a5c428ae42cc",
   "metadata": {},
   "outputs": [],
   "source": [
    "s = [0] + list(var([f\"s_{i+1}\" for i in range(45)]))\n",
    "\n",
    "for v in s[1:]:\n",
    "    assume(v,'real')\n",
    "    assume(v >= 0)\n"
   ]
  },
  {
   "cell_type": "markdown",
   "id": "b1605a2e-a746-4954-b2cd-561a255c9f06",
   "metadata": {},
   "source": [
    "# GTR10"
   ]
  },
  {
   "cell_type": "code",
   "execution_count": 66,
   "id": "c6308e34-9f8b-47cc-93d1-1ba7326e240a",
   "metadata": {},
   "outputs": [],
   "source": [
    "q_gtr10 = np.full((10,10), x) * 0\n",
    "\n",
    "q_gtr10[np.triu_indices(10)] = [\n",
    "    0, s_1,  s_2,  s_3,  s_4,  s_5,  s_6,  s_7 ,  s_8, s_9,\n",
    "    0, s_10, s_11, s_12, s_13, s_14, s_15, s_16, s_17,\n",
    "    0, s_18, s_19, s_20, s_21, s_22, s_23, s_24,\n",
    "    0, s_25, s_26, s_27, s_28, s_29, s_30,\n",
    "    0, s_31, s_32, s_33, s_34, s_35,\n",
    "    0, s_36, s_37, s_38, s_39,\n",
    "    0, s_40, s_41, s_42, \n",
    "    0, s_43, s_44,\n",
    "    0, s_45,\n",
    "    0]\n",
    "q_gtr10 = (q_gtr10 + q_gtr10.T) @ diagonal_matrix(pi10s)\n",
    "q_gtr10 -= diagonal_matrix(np.sum(q_gtr10, axis=1))"
   ]
  },
  {
   "cell_type": "code",
   "execution_count": 91,
   "id": "cfb1f7ba-e52f-4b60-b26c-e5a31bc1b674",
   "metadata": {},
   "outputs": [
    {
     "data": {
      "text/plain": [
       "(pi_aa + pi_cc)*s_1 + (pi_cc + pi_gg)*s_10 + (pi_cc + pi_tt)*s_11 + (pi_ac + pi_cc)*s_12 + (pi_ag + pi_cc)*s_13 + (pi_at + pi_cc)*s_14 + (pi_cc + pi_cg)*s_15 + (pi_cc + pi_ct)*s_16 + (pi_cc + pi_gt)*s_17 + (pi_gg + pi_tt)*s_18 + (pi_ac + pi_gg)*s_19 + (pi_aa + pi_gg)*s_2 + (pi_ag + pi_gg)*s_20 + (pi_at + pi_gg)*s_21 + (pi_cg + pi_gg)*s_22 + (pi_ct + pi_gg)*s_23 + (pi_gg + pi_gt)*s_24 + (pi_ac + pi_tt)*s_25 + (pi_ag + pi_tt)*s_26 + (pi_at + pi_tt)*s_27 + (pi_cg + pi_tt)*s_28 + (pi_ct + pi_tt)*s_29 + (pi_aa + pi_tt)*s_3 + (pi_gt + pi_tt)*s_30 + (pi_ac + pi_ag)*s_31 + (pi_ac + pi_at)*s_32 + (pi_ac + pi_cg)*s_33 + (pi_ac + pi_ct)*s_34 + (pi_ac + pi_gt)*s_35 + (pi_ag + pi_at)*s_36 + (pi_ag + pi_cg)*s_37 + (pi_ag + pi_ct)*s_38 + (pi_ag + pi_gt)*s_39 + (pi_aa + pi_ac)*s_4 + (pi_at + pi_cg)*s_40 + (pi_at + pi_ct)*s_41 + (pi_at + pi_gt)*s_42 + (pi_cg + pi_ct)*s_43 + (pi_cg + pi_gt)*s_44 + (pi_ct + pi_gt)*s_45 + (pi_aa + pi_ag)*s_5 + (pi_aa + pi_at)*s_6 + (pi_aa + pi_cg)*s_7 + (pi_aa + pi_ct)*s_8 + (pi_aa + pi_gt)*s_9"
      ]
     },
     "execution_count": 91,
     "metadata": {},
     "output_type": "execute_result"
    }
   ],
   "source": [
    "-sum(q_gtr10.diagonal()).simplify_full()"
   ]
  },
  {
   "cell_type": "code",
   "execution_count": 67,
   "id": "aa16cece-6fb4-413c-a79d-68d9a38ffacf",
   "metadata": {},
   "outputs": [],
   "source": [
    "q_sym_gtr10 = np.diag(np.sqrt([p for p in pi10s])) @ q_gtr10 @ np.diag(np.sqrt([1/p for p in pi10s]))"
   ]
  },
  {
   "cell_type": "code",
   "execution_count": 68,
   "id": "2f4efe88-4e40-4ede-a7fd-1544b6f083e8",
   "metadata": {},
   "outputs": [
    {
     "data": {
      "text/html": [
       "<html>\\(\\displaystyle \\verb|True|\\)</html>"
      ],
      "text/latex": [
       "$\\displaystyle \\verb|True|$"
      ],
      "text/plain": [
       "True"
      ]
     },
     "execution_count": 68,
     "metadata": {},
     "output_type": "execute_result"
    }
   ],
   "source": [
    "np.all(q_sym_gtr10 - q_sym_gtr10.T == 0)"
   ]
  },
  {
   "cell_type": "code",
   "execution_count": 69,
   "id": "dfdedf47-ebe8-445f-a59e-9a4c8f863cd2",
   "metadata": {},
   "outputs": [],
   "source": [
    "# q_sym_gtr10\n",
    "q_sym_gtr10 = np.array([ [c.simplify_real() for c in row] for row in q_sym_gtr10])"
   ]
  },
  {
   "cell_type": "code",
   "execution_count": 76,
   "id": "721386af-e35c-42b5-b157-4e2b63480246",
   "metadata": {},
   "outputs": [
    {
     "name": "stdout",
     "output_type": "stream",
     "text": [
      "np.array([[-pi_cc*s_1 - pi_gg*s_2 - pi_tt*s_3 - pi_ac*s_4 - pi_ag*s_5 - pi_at*s_6 - pi_cg*s_7 - pi_ct*s_8 - pi_gt*s_9,\n",
      "        np.sqrt(pi_aa*pi_cc)*s_1, np.sqrt(pi_aa*pi_gg)*s_2,\n",
      "        np.sqrt(pi_aa*pi_tt)*s_3, np.sqrt(pi_aa*pi_ac)*s_4,\n",
      "        np.sqrt(pi_aa*pi_ag)*s_5, np.sqrt(pi_aa*pi_at)*s_6,\n",
      "        np.sqrt(pi_aa*pi_cg)*s_7, np.sqrt(pi_aa*pi_ct)*s_8,\n",
      "        np.sqrt(pi_aa*pi_gt)*s_9],\n",
      "       [np.sqrt(pi_aa*pi_cc)*s_1,\n",
      "        -pi_aa*s_1 - pi_gg*s_10 - pi_tt*s_11 - pi_ac*s_12 - pi_ag*s_13 - pi_at*s_14 - pi_cg*s_15 - pi_ct*s_16 - pi_gt*s_17,\n",
      "        np.sqrt(pi_cc*pi_gg)*s_10, np.sqrt(pi_cc*pi_tt)*s_11,\n",
      "        np.sqrt(pi_ac*pi_cc)*s_12, np.sqrt(pi_ag*pi_cc)*s_13,\n",
      "        np.sqrt(pi_at*pi_cc)*s_14, np.sqrt(pi_cc*pi_cg)*s_15,\n",
      "        np.sqrt(pi_cc*pi_ct)*s_16, np.sqrt(pi_cc*pi_gt)*s_17],\n",
      "       [np.sqrt(pi_aa*pi_gg)*s_2, np.sqrt(pi_cc*pi_gg)*s_10,\n",
      "        -pi_cc*s_10 - pi_tt*s_18 - pi_ac*s_19 - pi_aa*s_2 - pi_ag*s_20 - pi_at*s_21 - pi_cg*s_22 - pi_ct*s_23 - pi_gt*s_24,\n",
      "        np.sqrt(pi_gg*pi_tt)*s_18, np.sqrt(pi_ac*pi_gg)*s_19,\n",
      "        np.sqrt(pi_ag*pi_gg)*s_20, np.sqrt(pi_at*pi_gg)*s_21,\n",
      "        np.sqrt(pi_cg*pi_gg)*s_22, np.sqrt(pi_ct*pi_gg)*s_23,\n",
      "        np.sqrt(pi_gg*pi_gt)*s_24],\n",
      "       [np.sqrt(pi_aa*pi_tt)*s_3, np.sqrt(pi_cc*pi_tt)*s_11,\n",
      "        np.sqrt(pi_gg*pi_tt)*s_18,\n",
      "        -pi_cc*s_11 - pi_gg*s_18 - pi_ac*s_25 - pi_ag*s_26 - pi_at*s_27 - pi_cg*s_28 - pi_ct*s_29 - pi_aa*s_3 - pi_gt*s_30,\n",
      "        np.sqrt(pi_ac*pi_tt)*s_25, np.sqrt(pi_ag*pi_tt)*s_26,\n",
      "        np.sqrt(pi_at*pi_tt)*s_27, np.sqrt(pi_cg*pi_tt)*s_28,\n",
      "        np.sqrt(pi_ct*pi_tt)*s_29, np.sqrt(pi_gt*pi_tt)*s_30],\n",
      "       [np.sqrt(pi_aa*pi_ac)*s_4, np.sqrt(pi_ac*pi_cc)*s_12,\n",
      "        np.sqrt(pi_ac*pi_gg)*s_19, np.sqrt(pi_ac*pi_tt)*s_25,\n",
      "        -pi_cc*s_12 - pi_gg*s_19 - pi_tt*s_25 - pi_ag*s_31 - pi_at*s_32 - pi_cg*s_33 - pi_ct*s_34 - pi_gt*s_35 - pi_aa*s_4,\n",
      "        np.sqrt(pi_ac*pi_ag)*s_31, np.sqrt(pi_ac*pi_at)*s_32,\n",
      "        np.sqrt(pi_ac*pi_cg)*s_33, np.sqrt(pi_ac*pi_ct)*s_34,\n",
      "        np.sqrt(pi_ac*pi_gt)*s_35],\n",
      "       [np.sqrt(pi_aa*pi_ag)*s_5, np.sqrt(pi_ag*pi_cc)*s_13,\n",
      "        np.sqrt(pi_ag*pi_gg)*s_20, np.sqrt(pi_ag*pi_tt)*s_26,\n",
      "        np.sqrt(pi_ac*pi_ag)*s_31,\n",
      "        -pi_cc*s_13 - pi_gg*s_20 - pi_tt*s_26 - pi_ac*s_31 - pi_at*s_36 - pi_cg*s_37 - pi_ct*s_38 - pi_gt*s_39 - pi_aa*s_5,\n",
      "        np.sqrt(pi_ag*pi_at)*s_36, np.sqrt(pi_ag*pi_cg)*s_37,\n",
      "        np.sqrt(pi_ag*pi_ct)*s_38, np.sqrt(pi_ag*pi_gt)*s_39],\n",
      "       [np.sqrt(pi_aa*pi_at)*s_6, np.sqrt(pi_at*pi_cc)*s_14,\n",
      "        np.sqrt(pi_at*pi_gg)*s_21, np.sqrt(pi_at*pi_tt)*s_27,\n",
      "        np.sqrt(pi_ac*pi_at)*s_32, np.sqrt(pi_ag*pi_at)*s_36,\n",
      "        -pi_cc*s_14 - pi_gg*s_21 - pi_tt*s_27 - pi_ac*s_32 - pi_ag*s_36 - pi_cg*s_40 - pi_ct*s_41 - pi_gt*s_42 - pi_aa*s_6,\n",
      "        np.sqrt(pi_at*pi_cg)*s_40, np.sqrt(pi_at*pi_ct)*s_41,\n",
      "        np.sqrt(pi_at*pi_gt)*s_42],\n",
      "       [np.sqrt(pi_aa*pi_cg)*s_7, np.sqrt(pi_cc*pi_cg)*s_15,\n",
      "        np.sqrt(pi_cg*pi_gg)*s_22, np.sqrt(pi_cg*pi_tt)*s_28,\n",
      "        np.sqrt(pi_ac*pi_cg)*s_33, np.sqrt(pi_ag*pi_cg)*s_37,\n",
      "        np.sqrt(pi_at*pi_cg)*s_40,\n",
      "        -pi_cc*s_15 - pi_gg*s_22 - pi_tt*s_28 - pi_ac*s_33 - pi_ag*s_37 - pi_at*s_40 - pi_ct*s_43 - pi_gt*s_44 - pi_aa*s_7,\n",
      "        np.sqrt(pi_cg*pi_ct)*s_43, np.sqrt(pi_cg*pi_gt)*s_44],\n",
      "       [np.sqrt(pi_aa*pi_ct)*s_8, np.sqrt(pi_cc*pi_ct)*s_16,\n",
      "        np.sqrt(pi_ct*pi_gg)*s_23, np.sqrt(pi_ct*pi_tt)*s_29,\n",
      "        np.sqrt(pi_ac*pi_ct)*s_34, np.sqrt(pi_ag*pi_ct)*s_38,\n",
      "        np.sqrt(pi_at*pi_ct)*s_41, np.sqrt(pi_cg*pi_ct)*s_43,\n",
      "        -pi_cc*s_16 - pi_gg*s_23 - pi_tt*s_29 - pi_ac*s_34 - pi_ag*s_38 - pi_at*s_41 - pi_cg*s_43 - pi_gt*s_45 - pi_aa*s_8,\n",
      "        np.sqrt(pi_ct*pi_gt)*s_45],\n",
      "       [np.sqrt(pi_aa*pi_gt)*s_9, np.sqrt(pi_cc*pi_gt)*s_17,\n",
      "        np.sqrt(pi_gg*pi_gt)*s_24, np.sqrt(pi_gt*pi_tt)*s_30,\n",
      "        np.sqrt(pi_ac*pi_gt)*s_35, np.sqrt(pi_ag*pi_gt)*s_39,\n",
      "        np.sqrt(pi_at*pi_gt)*s_42, np.sqrt(pi_cg*pi_gt)*s_44,\n",
      "        np.sqrt(pi_ct*pi_gt)*s_45,\n",
      "        -pi_cc*s_17 - pi_gg*s_24 - pi_tt*s_30 - pi_ac*s_35 - pi_ag*s_39 - pi_at*s_42 - pi_cg*s_44 - pi_ct*s_45 - pi_aa*s_9]],\n",
      "      dtype=np.float64)\n"
     ]
    }
   ],
   "source": [
    "print('np.'+repr(q_sym_gtr10).replace('sqrt','np.sqrt').replace(')*np.sqrt(','*').replace('object','np.float64'))"
   ]
  },
  {
   "cell_type": "markdown",
   "id": "4f5ff9fb-1d99-495f-ac65-575aa824bb46",
   "metadata": {},
   "source": [
    "# GTR10Z"
   ]
  },
  {
   "cell_type": "code",
   "execution_count": 80,
   "id": "27f44f63-f80e-469e-aeae-d8bf0849e962",
   "metadata": {},
   "outputs": [],
   "source": [
    "q_gtr10z = np.full((10,10), x) * 0\n",
    "\n",
    "q_gtr10z[np.triu_indices(10)] = [\n",
    "    0, 0, 0, 0, s_1,  s_2,  s_3,    0,    0,    0,\n",
    "       0, 0, 0, s_4,    0,    0,  s_5,  s_6,    0,\n",
    "          0, 0,   0,  s_7,    0,  s_8,    0,  s_9,\n",
    "             0,   0,    0, s_10,    0, s_11, s_12,\n",
    "                  0, s_13, s_14, s_15, s_16,    0,\n",
    "                        0, s_17, s_18,    0, s_19,\n",
    "                              0,    0, s_20, s_21, \n",
    "                                    0, s_22, s_23,\n",
    "                                          0, s_24,\n",
    "                                                0]\n",
    "q_gtr10z = (q_gtr10z + q_gtr10z.T) @ diagonal_matrix(pi10s)\n",
    "q_gtr10z -= diagonal_matrix(np.sum(q_gtr10z, axis=1))"
   ]
  },
  {
   "cell_type": "code",
   "execution_count": 92,
   "id": "4e6ac9b7-321c-429f-a694-e1315bd8f2bc",
   "metadata": {},
   "outputs": [
    {
     "data": {
      "text/plain": [
       "(pi_aa + pi_ac)*s_1 + (pi_at + pi_tt)*s_10 + (pi_ct + pi_tt)*s_11 + (pi_gt + pi_tt)*s_12 + (pi_ac + pi_ag)*s_13 + (pi_ac + pi_at)*s_14 + (pi_ac + pi_cg)*s_15 + (pi_ac + pi_ct)*s_16 + (pi_ag + pi_at)*s_17 + (pi_ag + pi_cg)*s_18 + (pi_ag + pi_gt)*s_19 + (pi_aa + pi_ag)*s_2 + (pi_at + pi_ct)*s_20 + (pi_at + pi_gt)*s_21 + (pi_cg + pi_ct)*s_22 + (pi_cg + pi_gt)*s_23 + (pi_ct + pi_gt)*s_24 + (pi_aa + pi_at)*s_3 + (pi_ac + pi_cc)*s_4 + (pi_cc + pi_cg)*s_5 + (pi_cc + pi_ct)*s_6 + (pi_ag + pi_gg)*s_7 + (pi_cg + pi_gg)*s_8 + (pi_gg + pi_gt)*s_9"
      ]
     },
     "execution_count": 92,
     "metadata": {},
     "output_type": "execute_result"
    }
   ],
   "source": [
    "-sum(q_gtr10z.diagonal()).simplify_full()"
   ]
  },
  {
   "cell_type": "code",
   "execution_count": 81,
   "id": "2a4aba82-882c-4067-b10e-61389ca53b28",
   "metadata": {},
   "outputs": [
    {
     "data": {
      "text/plain": [
       "[         0          0          0          0  pi_ac*s_1  pi_ag*s_2  pi_at*s_3          0          0          0]\n",
       "[         0          0          0          0  pi_ac*s_4          0          0  pi_cg*s_5  pi_ct*s_6          0]\n",
       "[         0          0          0          0          0  pi_ag*s_7          0  pi_cg*s_8          0  pi_gt*s_9]\n",
       "[         0          0          0          0          0          0 pi_at*s_10          0 pi_ct*s_11 pi_gt*s_12]\n",
       "[ pi_aa*s_1  pi_cc*s_4          0          0          0 pi_ag*s_13 pi_at*s_14 pi_cg*s_15 pi_ct*s_16          0]\n",
       "[ pi_aa*s_2          0  pi_gg*s_7          0 pi_ac*s_13          0 pi_at*s_17 pi_cg*s_18          0 pi_gt*s_19]\n",
       "[ pi_aa*s_3          0          0 pi_tt*s_10 pi_ac*s_14 pi_ag*s_17          0          0 pi_ct*s_20 pi_gt*s_21]\n",
       "[         0  pi_cc*s_5  pi_gg*s_8          0 pi_ac*s_15 pi_ag*s_18          0          0 pi_ct*s_22 pi_gt*s_23]\n",
       "[         0  pi_cc*s_6          0 pi_tt*s_11 pi_ac*s_16          0 pi_at*s_20 pi_cg*s_22          0 pi_gt*s_24]\n",
       "[         0          0  pi_gg*s_9 pi_tt*s_12          0 pi_ag*s_19 pi_at*s_21 pi_cg*s_23 pi_ct*s_24          0]"
      ]
     },
     "execution_count": 81,
     "metadata": {},
     "output_type": "execute_result"
    }
   ],
   "source": [
    "matrix(without_diagonal(q_gtr10z))"
   ]
  },
  {
   "cell_type": "code",
   "execution_count": 82,
   "id": "f733fb5a-068a-4d5b-8564-fad93f377e98",
   "metadata": {},
   "outputs": [],
   "source": [
    "q_sym_gtr10z = np.diag(np.sqrt([p for p in pi10s])) @ q_gtr10z @ np.diag(np.sqrt([1/p for p in pi10s]))"
   ]
  },
  {
   "cell_type": "code",
   "execution_count": 103,
   "id": "de957ebe-bb98-4b24-b0a9-a173d1377e80",
   "metadata": {},
   "outputs": [
    {
     "data": {
      "text/plain": [
       "True"
      ]
     },
     "execution_count": 103,
     "metadata": {},
     "output_type": "execute_result"
    }
   ],
   "source": [
    "np.all(q_sym_gtr10z - q_sym_gtr10z.T == 0)"
   ]
  },
  {
   "cell_type": "code",
   "execution_count": 84,
   "id": "b59d3a65-8d15-44fc-b4e0-733c4bd50190",
   "metadata": {},
   "outputs": [],
   "source": [
    "# q_sym_gtr10z\n",
    "q_sym_gtr10z = np.array([ [c.simplify_real() for c in row] for row in q_sym_gtr10z])"
   ]
  },
  {
   "cell_type": "code",
   "execution_count": 85,
   "id": "f257e22e-8c95-4aed-b295-4b829cfc6154",
   "metadata": {},
   "outputs": [
    {
     "name": "stdout",
     "output_type": "stream",
     "text": [
      "np.array([[-pi_ac*s_1 - pi_ag*s_2 - pi_at*s_3, 0, 0, 0,\n",
      "        np.sqrt(pi_aa*pi_ac)*s_1, np.sqrt(pi_aa*pi_ag)*s_2,\n",
      "        np.sqrt(pi_aa*pi_at)*s_3, 0, 0, 0],\n",
      "       [0, -pi_ac*s_4 - pi_cg*s_5 - pi_ct*s_6, 0, 0,\n",
      "        np.sqrt(pi_ac*pi_cc)*s_4, 0, 0, np.sqrt(pi_cc*pi_cg)*s_5,\n",
      "        np.sqrt(pi_cc*pi_ct)*s_6, 0],\n",
      "       [0, 0, -pi_ag*s_7 - pi_cg*s_8 - pi_gt*s_9, 0, 0,\n",
      "        np.sqrt(pi_ag*pi_gg)*s_7, 0, np.sqrt(pi_cg*pi_gg)*s_8, 0,\n",
      "        np.sqrt(pi_gg*pi_gt)*s_9],\n",
      "       [0, 0, 0, -pi_at*s_10 - pi_ct*s_11 - pi_gt*s_12, 0, 0,\n",
      "        np.sqrt(pi_at*pi_tt)*s_10, 0, np.sqrt(pi_ct*pi_tt)*s_11,\n",
      "        np.sqrt(pi_gt*pi_tt)*s_12],\n",
      "       [np.sqrt(pi_aa*pi_ac)*s_1, np.sqrt(pi_ac*pi_cc)*s_4, 0, 0,\n",
      "        -pi_aa*s_1 - pi_ag*s_13 - pi_at*s_14 - pi_cg*s_15 - pi_ct*s_16 - pi_cc*s_4,\n",
      "        np.sqrt(pi_ac*pi_ag)*s_13, np.sqrt(pi_ac*pi_at)*s_14,\n",
      "        np.sqrt(pi_ac*pi_cg)*s_15, np.sqrt(pi_ac*pi_ct)*s_16, 0],\n",
      "       [np.sqrt(pi_aa*pi_ag)*s_2, 0, np.sqrt(pi_ag*pi_gg)*s_7, 0,\n",
      "        np.sqrt(pi_ac*pi_ag)*s_13,\n",
      "        -pi_ac*s_13 - pi_at*s_17 - pi_cg*s_18 - pi_gt*s_19 - pi_aa*s_2 - pi_gg*s_7,\n",
      "        np.sqrt(pi_ag*pi_at)*s_17, np.sqrt(pi_ag*pi_cg)*s_18, 0,\n",
      "        np.sqrt(pi_ag*pi_gt)*s_19],\n",
      "       [np.sqrt(pi_aa*pi_at)*s_3, 0, 0, np.sqrt(pi_at*pi_tt)*s_10,\n",
      "        np.sqrt(pi_ac*pi_at)*s_14, np.sqrt(pi_ag*pi_at)*s_17,\n",
      "        -pi_tt*s_10 - pi_ac*s_14 - pi_ag*s_17 - pi_ct*s_20 - pi_gt*s_21 - pi_aa*s_3,\n",
      "        0, np.sqrt(pi_at*pi_ct)*s_20, np.sqrt(pi_at*pi_gt)*s_21],\n",
      "       [0, np.sqrt(pi_cc*pi_cg)*s_5, np.sqrt(pi_cg*pi_gg)*s_8, 0,\n",
      "        np.sqrt(pi_ac*pi_cg)*s_15, np.sqrt(pi_ag*pi_cg)*s_18, 0,\n",
      "        -pi_ac*s_15 - pi_ag*s_18 - pi_ct*s_22 - pi_gt*s_23 - pi_cc*s_5 - pi_gg*s_8,\n",
      "        np.sqrt(pi_cg*pi_ct)*s_22, np.sqrt(pi_cg*pi_gt)*s_23],\n",
      "       [0, np.sqrt(pi_cc*pi_ct)*s_6, 0, np.sqrt(pi_ct*pi_tt)*s_11,\n",
      "        np.sqrt(pi_ac*pi_ct)*s_16, 0, np.sqrt(pi_at*pi_ct)*s_20,\n",
      "        np.sqrt(pi_cg*pi_ct)*s_22,\n",
      "        -pi_tt*s_11 - pi_ac*s_16 - pi_at*s_20 - pi_cg*s_22 - pi_gt*s_24 - pi_cc*s_6,\n",
      "        np.sqrt(pi_ct*pi_gt)*s_24],\n",
      "       [0, 0, np.sqrt(pi_gg*pi_gt)*s_9, np.sqrt(pi_gt*pi_tt)*s_12,\n",
      "        0, np.sqrt(pi_ag*pi_gt)*s_19, np.sqrt(pi_at*pi_gt)*s_21,\n",
      "        np.sqrt(pi_cg*pi_gt)*s_23, np.sqrt(pi_ct*pi_gt)*s_24,\n",
      "        -pi_tt*s_12 - pi_ag*s_19 - pi_at*s_21 - pi_cg*s_23 - pi_ct*s_24 - pi_gg*s_9]],\n",
      "      dtype=np.float64)\n"
     ]
    }
   ],
   "source": [
    "print('np.'+repr(q_sym_gtr10z).replace('sqrt','np.sqrt').replace(')*np.sqrt(','*').replace('object','np.float64'))"
   ]
  },
  {
   "cell_type": "markdown",
   "id": "e81216e0-5bf7-47da-8376-41afdfe05795",
   "metadata": {},
   "source": [
    "# Cellphy10"
   ]
  },
  {
   "cell_type": "code",
   "execution_count": 93,
   "id": "be4041f5-17ea-4a15-a27f-247d033f4ef4",
   "metadata": {},
   "outputs": [],
   "source": [
    "q_cp10 = np.full((10,10), x) * 0\n",
    "\n",
    "q_cp10[np.triu_indices(10)] = [\n",
    "    0, 0, 0, 0, s_1, s_2, s_3,   0,   0,   0,\n",
    "       0, 0, 0, s_1,   0,   0, s_4, s_5,   0,\n",
    "          0, 0,   0, s_2,   0, s_4,   0, s_6,\n",
    "             0,   0,   0, s_3,   0, s_5, s_6,\n",
    "                  0, s_4, s_5, s_2, s_3,   0,\n",
    "                       0, s_6, s_1,   0, s_3,\n",
    "                            0,   0, s_1, s_2, \n",
    "                                 0, s_6, s_5,\n",
    "                                      0, s_4,\n",
    "                                           0]\n",
    "q_cp10 = (q_cp10 + q_cp10.T) @ diagonal_matrix(pi10s)\n",
    "q_cp10 -= diagonal_matrix(np.sum(q_cp10, axis=1))"
   ]
  },
  {
   "cell_type": "code",
   "execution_count": 95,
   "id": "7a59178c-852c-460d-8a4a-27977c116330",
   "metadata": {},
   "outputs": [
    {
     "data": {
      "text/plain": [
       "(pi_aa + 2*pi_ac + pi_ag + pi_at + pi_cc + pi_cg + pi_ct)*s_1 + (pi_aa + pi_ac + 2*pi_ag + pi_at + pi_cg + pi_gg + pi_gt)*s_2 + (pi_aa + pi_ac + pi_ag + 2*pi_at + pi_ct + pi_gt + pi_tt)*s_3 + (pi_ac + pi_ag + pi_cc + 2*pi_cg + pi_ct + pi_gg + pi_gt)*s_4 + (pi_ac + pi_at + pi_cc + pi_cg + 2*pi_ct + pi_gt + pi_tt)*s_5 + (pi_ag + pi_at + pi_cg + pi_ct + pi_gg + 2*pi_gt + pi_tt)*s_6"
      ]
     },
     "execution_count": 95,
     "metadata": {},
     "output_type": "execute_result"
    }
   ],
   "source": [
    "-sum(q_cp10.diagonal()).simplify_full()"
   ]
  },
  {
   "cell_type": "code",
   "execution_count": 97,
   "id": "a3d84f8d-1ed6-47a0-b40a-8bb4c19afa22",
   "metadata": {},
   "outputs": [
    {
     "data": {
      "text/plain": [
       "[        0         0         0         0 pi_ac*s_1 pi_ag*s_2 pi_at*s_3         0         0         0]\n",
       "[        0         0         0         0 pi_ac*s_1         0         0 pi_cg*s_4 pi_ct*s_5         0]\n",
       "[        0         0         0         0         0 pi_ag*s_2         0 pi_cg*s_4         0 pi_gt*s_6]\n",
       "[        0         0         0         0         0         0 pi_at*s_3         0 pi_ct*s_5 pi_gt*s_6]\n",
       "[pi_aa*s_1 pi_cc*s_1         0         0         0 pi_ag*s_4 pi_at*s_5 pi_cg*s_2 pi_ct*s_3         0]\n",
       "[pi_aa*s_2         0 pi_gg*s_2         0 pi_ac*s_4         0 pi_at*s_6 pi_cg*s_1         0 pi_gt*s_3]\n",
       "[pi_aa*s_3         0         0 pi_tt*s_3 pi_ac*s_5 pi_ag*s_6         0         0 pi_ct*s_1 pi_gt*s_2]\n",
       "[        0 pi_cc*s_4 pi_gg*s_4         0 pi_ac*s_2 pi_ag*s_1         0         0 pi_ct*s_6 pi_gt*s_5]\n",
       "[        0 pi_cc*s_5         0 pi_tt*s_5 pi_ac*s_3         0 pi_at*s_1 pi_cg*s_6         0 pi_gt*s_4]\n",
       "[        0         0 pi_gg*s_6 pi_tt*s_6         0 pi_ag*s_3 pi_at*s_2 pi_cg*s_5 pi_ct*s_4         0]"
      ]
     },
     "execution_count": 97,
     "metadata": {},
     "output_type": "execute_result"
    }
   ],
   "source": [
    "matrix(without_diagonal(q_cp10))"
   ]
  },
  {
   "cell_type": "code",
   "execution_count": 104,
   "id": "844b88ec-9a9c-4642-b7d7-48421f2596cf",
   "metadata": {},
   "outputs": [],
   "source": [
    "q_sym_cp10 = np.diag(np.sqrt([p for p in pi10s])) @ q_cp10 @ np.diag(np.sqrt([1/p for p in pi10s]))"
   ]
  },
  {
   "cell_type": "code",
   "execution_count": 105,
   "id": "c355a009-a43e-4b73-a5f3-3e0fd3e1a0d7",
   "metadata": {},
   "outputs": [
    {
     "data": {
      "text/plain": [
       "True"
      ]
     },
     "execution_count": 105,
     "metadata": {},
     "output_type": "execute_result"
    }
   ],
   "source": [
    "np.all(q_sym_cp10 - q_sym_cp10.T == 0)"
   ]
  },
  {
   "cell_type": "code",
   "execution_count": 106,
   "id": "e107a305-082c-4acc-aba4-bf244625d073",
   "metadata": {},
   "outputs": [],
   "source": [
    "# q_sym_cp10\n",
    "q_sym_cp10 = np.array([ [c.simplify_real() for c in row] for row in q_sym_cp10])"
   ]
  },
  {
   "cell_type": "code",
   "execution_count": 107,
   "id": "a305a789-65ba-4978-aa76-5f877c4447aa",
   "metadata": {},
   "outputs": [
    {
     "name": "stdout",
     "output_type": "stream",
     "text": [
      "np.array([[-pi_ac*s_1 - pi_ag*s_2 - pi_at*s_3, 0, 0, 0,\n",
      "        np.sqrt(pi_aa*pi_ac)*s_1, np.sqrt(pi_aa*pi_ag)*s_2,\n",
      "        np.sqrt(pi_aa*pi_at)*s_3, 0, 0, 0],\n",
      "       [0, -pi_ac*s_1 - pi_cg*s_4 - pi_ct*s_5, 0, 0,\n",
      "        np.sqrt(pi_ac*pi_cc)*s_1, 0, 0, np.sqrt(pi_cc*pi_cg)*s_4,\n",
      "        np.sqrt(pi_cc*pi_ct)*s_5, 0],\n",
      "       [0, 0, -pi_ag*s_2 - pi_cg*s_4 - pi_gt*s_6, 0, 0,\n",
      "        np.sqrt(pi_ag*pi_gg)*s_2, 0, np.sqrt(pi_cg*pi_gg)*s_4, 0,\n",
      "        np.sqrt(pi_gg*pi_gt)*s_6],\n",
      "       [0, 0, 0, -pi_at*s_3 - pi_ct*s_5 - pi_gt*s_6, 0, 0,\n",
      "        np.sqrt(pi_at*pi_tt)*s_3, 0, np.sqrt(pi_ct*pi_tt)*s_5,\n",
      "        np.sqrt(pi_gt*pi_tt)*s_6],\n",
      "       [np.sqrt(pi_aa*pi_ac)*s_1, np.sqrt(pi_ac*pi_cc)*s_1, 0, 0,\n",
      "        -pi_aa*s_1 - pi_cc*s_1 - pi_cg*s_2 - pi_ct*s_3 - pi_ag*s_4 - pi_at*s_5,\n",
      "        np.sqrt(pi_ac*pi_ag)*s_4, np.sqrt(pi_ac*pi_at)*s_5,\n",
      "        np.sqrt(pi_ac*pi_cg)*s_2, np.sqrt(pi_ac*pi_ct)*s_3, 0],\n",
      "       [np.sqrt(pi_aa*pi_ag)*s_2, 0, np.sqrt(pi_ag*pi_gg)*s_2, 0,\n",
      "        np.sqrt(pi_ac*pi_ag)*s_4,\n",
      "        -pi_cg*s_1 - pi_aa*s_2 - pi_gg*s_2 - pi_gt*s_3 - pi_ac*s_4 - pi_at*s_6,\n",
      "        np.sqrt(pi_ag*pi_at)*s_6, np.sqrt(pi_ag*pi_cg)*s_1, 0,\n",
      "        np.sqrt(pi_ag*pi_gt)*s_3],\n",
      "       [np.sqrt(pi_aa*pi_at)*s_3, 0, 0, np.sqrt(pi_at*pi_tt)*s_3,\n",
      "        np.sqrt(pi_ac*pi_at)*s_5, np.sqrt(pi_ag*pi_at)*s_6,\n",
      "        -pi_ct*s_1 - pi_gt*s_2 - pi_aa*s_3 - pi_tt*s_3 - pi_ac*s_5 - pi_ag*s_6,\n",
      "        0, np.sqrt(pi_at*pi_ct)*s_1, np.sqrt(pi_at*pi_gt)*s_2],\n",
      "       [0, np.sqrt(pi_cc*pi_cg)*s_4, np.sqrt(pi_cg*pi_gg)*s_4, 0,\n",
      "        np.sqrt(pi_ac*pi_cg)*s_2, np.sqrt(pi_ag*pi_cg)*s_1, 0,\n",
      "        -pi_ag*s_1 - pi_ac*s_2 - pi_cc*s_4 - pi_gg*s_4 - pi_gt*s_5 - pi_ct*s_6,\n",
      "        np.sqrt(pi_cg*pi_ct)*s_6, np.sqrt(pi_cg*pi_gt)*s_5],\n",
      "       [0, np.sqrt(pi_cc*pi_ct)*s_5, 0, np.sqrt(pi_ct*pi_tt)*s_5,\n",
      "        np.sqrt(pi_ac*pi_ct)*s_3, 0, np.sqrt(pi_at*pi_ct)*s_1,\n",
      "        np.sqrt(pi_cg*pi_ct)*s_6,\n",
      "        -pi_at*s_1 - pi_ac*s_3 - pi_gt*s_4 - pi_cc*s_5 - pi_tt*s_5 - pi_cg*s_6,\n",
      "        np.sqrt(pi_ct*pi_gt)*s_4],\n",
      "       [0, 0, np.sqrt(pi_gg*pi_gt)*s_6, np.sqrt(pi_gt*pi_tt)*s_6,\n",
      "        0, np.sqrt(pi_ag*pi_gt)*s_3, np.sqrt(pi_at*pi_gt)*s_2,\n",
      "        np.sqrt(pi_cg*pi_gt)*s_5, np.sqrt(pi_ct*pi_gt)*s_4,\n",
      "        -pi_at*s_2 - pi_ag*s_3 - pi_ct*s_4 - pi_cg*s_5 - pi_gg*s_6 - pi_tt*s_6]],\n",
      "      dtype=np.float64)\n"
     ]
    }
   ],
   "source": [
    "print('np.'+repr(q_sym_cp10).replace('sqrt','np.sqrt').replace(')*np.sqrt(','*').replace('object','np.float64'))"
   ]
  },
  {
   "cell_type": "markdown",
   "id": "beb38253-3c6d-43ad-b86a-96fbe64ec0bf",
   "metadata": {},
   "source": [
    "# GTR4"
   ]
  },
  {
   "cell_type": "code",
   "execution_count": 229,
   "id": "61dceea8-fa38-4fa1-a10c-a5967407d7ee",
   "metadata": {},
   "outputs": [],
   "source": [
    "pi_a, pi_c, pi_g, pi_t = var('pi_a, pi_c, pi_g, pi_t')\n",
    "pi4s = vector([pi_a, pi_c, pi_g, pi_t])\n",
    "\n",
    "for v in pi4s:\n",
    "    assume(v,'real')\n",
    "    assume(0 <= v)\n",
    "    assume(v <= 1)\n",
    "\n",
    "pi16_4s = vector(np.kron(pi4s,pi4s))\n",
    "\n",
    "s_ac, s_ag, s_at, s_cg, s_ct, s_gt = var('s_ac, s_ag, s_at, s_cg, s_ct, s_gt')\n",
    "s4s = vector([s_ac, s_ag, s_at, s_cg, s_ct, s_gt])\n",
    "\n",
    "for v in s4s:\n",
    "    assume(v,'real')\n",
    "    assume(0 <= v)\n"
   ]
  },
  {
   "cell_type": "code",
   "execution_count": 159,
   "id": "f96d5bd2-d80a-4b70-b117-4962d9f0c595",
   "metadata": {},
   "outputs": [],
   "source": [
    "q_gtr4 = np.full((4,4), x) * 0\n",
    "\n",
    "q_gtr4[np.triu_indices(4)] = [\n",
    "    0, s_ac, s_ag, s_at, \n",
    "          0, s_cg, s_ct,\n",
    "                0, s_gt,\n",
    "                      0]\n",
    "q_gtr4 = (q_gtr4 + q_gtr4.T) @ diagonal_matrix(pi4s)\n",
    "q_gtr4 -= diagonal_matrix(np.sum(q_gtr4, axis=1))"
   ]
  },
  {
   "cell_type": "code",
   "execution_count": 210,
   "id": "cef975c1-13ab-4b80-8fd7-63e3e98fa90e",
   "metadata": {},
   "outputs": [],
   "source": [
    "q_gtrsq = matrix(q_gtr4).tensor_product(identity_matrix(4)) + identity_matrix(4).tensor_product(matrix(q_gtr4))"
   ]
  },
  {
   "cell_type": "code",
   "execution_count": 233,
   "id": "df63b504-8af4-4bda-8e8b-97d1eb98a6fd",
   "metadata": {},
   "outputs": [],
   "source": [
    "q_sym_gtrsq = np.diag([sqrt(p) for p in pi16_4s]) @ q_gtrsq @ np.diag([sqrt(1/p) for p in pi16_4s])"
   ]
  },
  {
   "cell_type": "code",
   "execution_count": 236,
   "id": "4b77f49b-3063-49ff-8edc-fdf9b70b57ce",
   "metadata": {},
   "outputs": [],
   "source": [
    "q_sym_gtrsq = np.array([ [c.simplify_real() for c in row] for row in q_sym_gtrsq])"
   ]
  },
  {
   "cell_type": "code",
   "execution_count": 238,
   "id": "8234a236-7538-4a17-bcac-375b785f509a",
   "metadata": {},
   "outputs": [
    {
     "data": {
      "text/plain": [
       "True"
      ]
     },
     "execution_count": 238,
     "metadata": {},
     "output_type": "execute_result"
    }
   ],
   "source": [
    "np.all(q_sym_gtrsq - q_sym_gtrsq.T == 0)"
   ]
  },
  {
   "cell_type": "code",
   "execution_count": 239,
   "id": "b6825b01-5dc1-4d61-be9a-2f5e32124cdc",
   "metadata": {},
   "outputs": [
    {
     "name": "stdout",
     "output_type": "stream",
     "text": [
      "np.array([[-2*pi_c*s_ac - 2*pi_g*s_ag - 2*pi_t*s_at,\n",
      "        np.sqrt(pi_a*pi_c)*s_ac, np.sqrt(pi_a*pi_g)*s_ag,\n",
      "        np.sqrt(pi_a*pi_t)*s_at, np.sqrt(pi_a*pi_c)*s_ac, 0, 0, 0,\n",
      "        np.sqrt(pi_a*pi_g)*s_ag, 0, 0, 0, np.sqrt(pi_a*pi_t)*s_at,\n",
      "        0, 0, 0],\n",
      "       [np.sqrt(pi_a*pi_c)*s_ac,\n",
      "        -pi_a*s_ac - pi_c*s_ac - pi_g*s_ag - pi_t*s_at - pi_g*s_cg - pi_t*s_ct,\n",
      "        np.sqrt(pi_c*pi_g)*s_cg, np.sqrt(pi_c*pi_t)*s_ct, 0,\n",
      "        np.sqrt(pi_a*pi_c)*s_ac, 0, 0, 0, np.sqrt(pi_a*pi_g)*s_ag,\n",
      "        0, 0, 0, np.sqrt(pi_a*pi_t)*s_at, 0, 0],\n",
      "       [np.sqrt(pi_a*pi_g)*s_ag, np.sqrt(pi_c*pi_g)*s_cg,\n",
      "        -pi_c*s_ac - pi_a*s_ag - pi_g*s_ag - pi_t*s_at - pi_c*s_cg - pi_t*s_gt,\n",
      "        np.sqrt(pi_g*pi_t)*s_gt, 0, 0, np.sqrt(pi_a*pi_c)*s_ac, 0,\n",
      "        0, 0, np.sqrt(pi_a*pi_g)*s_ag, 0, 0, 0,\n",
      "        np.sqrt(pi_a*pi_t)*s_at, 0],\n",
      "       [np.sqrt(pi_a*pi_t)*s_at, np.sqrt(pi_c*pi_t)*s_ct,\n",
      "        np.sqrt(pi_g*pi_t)*s_gt,\n",
      "        -pi_c*s_ac - pi_g*s_ag - pi_a*s_at - pi_t*s_at - pi_c*s_ct - pi_g*s_gt,\n",
      "        0, 0, 0, np.sqrt(pi_a*pi_c)*s_ac, 0, 0, 0,\n",
      "        np.sqrt(pi_a*pi_g)*s_ag, 0, 0, 0, np.sqrt(pi_a*pi_t)*s_at],\n",
      "       [np.sqrt(pi_a*pi_c)*s_ac, 0, 0, 0,\n",
      "        -pi_a*s_ac - pi_c*s_ac - pi_g*s_ag - pi_t*s_at - pi_g*s_cg - pi_t*s_ct,\n",
      "        np.sqrt(pi_a*pi_c)*s_ac, np.sqrt(pi_a*pi_g)*s_ag,\n",
      "        np.sqrt(pi_a*pi_t)*s_at, np.sqrt(pi_c*pi_g)*s_cg, 0, 0, 0,\n",
      "        np.sqrt(pi_c*pi_t)*s_ct, 0, 0, 0],\n",
      "       [0, np.sqrt(pi_a*pi_c)*s_ac, 0, 0, np.sqrt(pi_a*pi_c)*s_ac,\n",
      "        -2*pi_a*s_ac - 2*pi_g*s_cg - 2*pi_t*s_ct,\n",
      "        np.sqrt(pi_c*pi_g)*s_cg, np.sqrt(pi_c*pi_t)*s_ct, 0,\n",
      "        np.sqrt(pi_c*pi_g)*s_cg, 0, 0, 0, np.sqrt(pi_c*pi_t)*s_ct,\n",
      "        0, 0],\n",
      "       [0, 0, np.sqrt(pi_a*pi_c)*s_ac, 0, np.sqrt(pi_a*pi_g)*s_ag,\n",
      "        np.sqrt(pi_c*pi_g)*s_cg,\n",
      "        -pi_a*s_ac - pi_a*s_ag - pi_c*s_cg - pi_g*s_cg - pi_t*s_ct - pi_t*s_gt,\n",
      "        np.sqrt(pi_g*pi_t)*s_gt, 0, 0, np.sqrt(pi_c*pi_g)*s_cg, 0,\n",
      "        0, 0, np.sqrt(pi_c*pi_t)*s_ct, 0],\n",
      "       [0, 0, 0, np.sqrt(pi_a*pi_c)*s_ac, np.sqrt(pi_a*pi_t)*s_at,\n",
      "        np.sqrt(pi_c*pi_t)*s_ct, np.sqrt(pi_g*pi_t)*s_gt,\n",
      "        -pi_a*s_ac - pi_a*s_at - pi_g*s_cg - pi_c*s_ct - pi_t*s_ct - pi_g*s_gt,\n",
      "        0, 0, 0, np.sqrt(pi_c*pi_g)*s_cg, 0, 0, 0,\n",
      "        np.sqrt(pi_c*pi_t)*s_ct],\n",
      "       [np.sqrt(pi_a*pi_g)*s_ag, 0, 0, 0, np.sqrt(pi_c*pi_g)*s_cg,\n",
      "        0, 0, 0,\n",
      "        -pi_c*s_ac - pi_a*s_ag - pi_g*s_ag - pi_t*s_at - pi_c*s_cg - pi_t*s_gt,\n",
      "        np.sqrt(pi_a*pi_c)*s_ac, np.sqrt(pi_a*pi_g)*s_ag,\n",
      "        np.sqrt(pi_a*pi_t)*s_at, np.sqrt(pi_g*pi_t)*s_gt, 0, 0, 0],\n",
      "       [0, np.sqrt(pi_a*pi_g)*s_ag, 0, 0, 0,\n",
      "        np.sqrt(pi_c*pi_g)*s_cg, 0, 0, np.sqrt(pi_a*pi_c)*s_ac,\n",
      "        -pi_a*s_ac - pi_a*s_ag - pi_c*s_cg - pi_g*s_cg - pi_t*s_ct - pi_t*s_gt,\n",
      "        np.sqrt(pi_c*pi_g)*s_cg, np.sqrt(pi_c*pi_t)*s_ct, 0,\n",
      "        np.sqrt(pi_g*pi_t)*s_gt, 0, 0],\n",
      "       [0, 0, np.sqrt(pi_a*pi_g)*s_ag, 0, 0, 0,\n",
      "        np.sqrt(pi_c*pi_g)*s_cg, 0, np.sqrt(pi_a*pi_g)*s_ag,\n",
      "        np.sqrt(pi_c*pi_g)*s_cg,\n",
      "        -2*pi_a*s_ag - 2*pi_c*s_cg - 2*pi_t*s_gt,\n",
      "        np.sqrt(pi_g*pi_t)*s_gt, 0, 0, np.sqrt(pi_g*pi_t)*s_gt, 0],\n",
      "       [0, 0, 0, np.sqrt(pi_a*pi_g)*s_ag, 0, 0, 0,\n",
      "        np.sqrt(pi_c*pi_g)*s_cg, np.sqrt(pi_a*pi_t)*s_at,\n",
      "        np.sqrt(pi_c*pi_t)*s_ct, np.sqrt(pi_g*pi_t)*s_gt,\n",
      "        -pi_a*s_ag - pi_a*s_at - pi_c*s_cg - pi_c*s_ct - pi_g*s_gt - pi_t*s_gt,\n",
      "        0, 0, 0, np.sqrt(pi_g*pi_t)*s_gt],\n",
      "       [np.sqrt(pi_a*pi_t)*s_at, 0, 0, 0, np.sqrt(pi_c*pi_t)*s_ct,\n",
      "        0, 0, 0, np.sqrt(pi_g*pi_t)*s_gt, 0, 0, 0,\n",
      "        -pi_c*s_ac - pi_g*s_ag - pi_a*s_at - pi_t*s_at - pi_c*s_ct - pi_g*s_gt,\n",
      "        np.sqrt(pi_a*pi_c)*s_ac, np.sqrt(pi_a*pi_g)*s_ag,\n",
      "        np.sqrt(pi_a*pi_t)*s_at],\n",
      "       [0, np.sqrt(pi_a*pi_t)*s_at, 0, 0, 0,\n",
      "        np.sqrt(pi_c*pi_t)*s_ct, 0, 0, 0, np.sqrt(pi_g*pi_t)*s_gt,\n",
      "        0, 0, np.sqrt(pi_a*pi_c)*s_ac,\n",
      "        -pi_a*s_ac - pi_a*s_at - pi_g*s_cg - pi_c*s_ct - pi_t*s_ct - pi_g*s_gt,\n",
      "        np.sqrt(pi_c*pi_g)*s_cg, np.sqrt(pi_c*pi_t)*s_ct],\n",
      "       [0, 0, np.sqrt(pi_a*pi_t)*s_at, 0, 0, 0,\n",
      "        np.sqrt(pi_c*pi_t)*s_ct, 0, 0, 0, np.sqrt(pi_g*pi_t)*s_gt,\n",
      "        0, np.sqrt(pi_a*pi_g)*s_ag, np.sqrt(pi_c*pi_g)*s_cg,\n",
      "        -pi_a*s_ag - pi_a*s_at - pi_c*s_cg - pi_c*s_ct - pi_g*s_gt - pi_t*s_gt,\n",
      "        np.sqrt(pi_g*pi_t)*s_gt],\n",
      "       [0, 0, 0, np.sqrt(pi_a*pi_t)*s_at, 0, 0, 0,\n",
      "        np.sqrt(pi_c*pi_t)*s_ct, 0, 0, 0, np.sqrt(pi_g*pi_t)*s_gt,\n",
      "        np.sqrt(pi_a*pi_t)*s_at, np.sqrt(pi_c*pi_t)*s_ct,\n",
      "        np.sqrt(pi_g*pi_t)*s_gt,\n",
      "        -2*pi_a*s_at - 2*pi_c*s_ct - 2*pi_g*s_gt]], dtype=np.float64)\n"
     ]
    }
   ],
   "source": [
    "print('np.'+repr(q_sym_gtrsq).replace('sqrt','np.sqrt').replace(')*np.sqrt(','*').replace('object','np.float64'))"
   ]
  },
  {
   "cell_type": "code",
   "execution_count": 211,
   "id": "cd322219-99bf-4459-a48a-6c34648b06df",
   "metadata": {},
   "outputs": [
    {
     "data": {
      "text/plain": [
       "True"
      ]
     },
     "execution_count": 211,
     "metadata": {},
     "output_type": "execute_result"
    }
   ],
   "source": [
    "perm = matrix(\n",
    "    # fmt: off\n",
    "    # @formatter:off\n",
    "    [\n",
    "        # AA, CC, GG, TT, AC, CA, AG, GA, AT, TA, CG, GC, CT, TC, GT, TG\n",
    "        [  1,  0,  0,  0,  0,  0,  0,  0,  0,  0,  0,  0,  0,  0,  0,  0],  # AA\n",
    "        [  0,  0,  0,  0,  1,  0,  0,  0,  0,  0,  0,  0,  0,  0,  0,  0],  # AC\n",
    "        [  0,  0,  0,  0,  0,  0,  1,  0,  0,  0,  0,  0,  0,  0,  0,  0],  # AG\n",
    "        [  0,  0,  0,  0,  0,  0,  0,  0,  1,  0,  0,  0,  0,  0,  0,  0],  # AT\n",
    "        [  0,  0,  0,  0,  0,  1,  0,  0,  0,  0,  0,  0,  0,  0,  0,  0],  # CA\n",
    "        [  0,  1,  0,  0,  0,  0,  0,  0,  0,  0,  0,  0,  0,  0,  0,  0],  # CC\n",
    "        [  0,  0,  0,  0,  0,  0,  0,  0,  0,  0,  1,  0,  0,  0,  0,  0],  # CG\n",
    "        [  0,  0,  0,  0,  0,  0,  0,  0,  0,  0,  0,  0,  1,  0,  0,  0],  # CT\n",
    "        [  0,  0,  0,  0,  0,  0,  0,  1,  0,  0,  0,  0,  0,  0,  0,  0],  # GA\n",
    "        [  0,  0,  0,  0,  0,  0,  0,  0,  0,  0,  0,  1,  0,  0,  0,  0],  # GC\n",
    "        [  0,  0,  1,  0,  0,  0,  0,  0,  0,  0,  0,  0,  0,  0,  0,  0],  # GG\n",
    "        [  0,  0,  0,  0,  0,  0,  0,  0,  0,  0,  0,  0,  0,  0,  1,  0],  # GT\n",
    "        [  0,  0,  0,  0,  0,  0,  0,  0,  0,  1,  0,  0,  0,  0,  0,  0],  # TA\n",
    "        [  0,  0,  0,  0,  0,  0,  0,  0,  0,  0,  0,  0,  0,  1,  0,  0],  # TC\n",
    "        [  0,  0,  0,  0,  0,  0,  0,  0,  0,  0,  0,  0,  0,  0,  0,  1],  # TG\n",
    "        [  0,  0,  0,  1,  0,  0,  0,  0,  0,  0,  0,  0,  0,  0,  0,  0],  # TT\n",
    "    ],\n",
    "    # @formatter:on\n",
    "    # fmt: on\n",
    ")\n",
    "\n",
    "without_diagonal((perm.T * q_gtrsq * perm)[0:4,0:4])==0"
   ]
  },
  {
   "cell_type": "code",
   "execution_count": 212,
   "id": "d1316999-4165-4010-8be8-c2156ad3d7a4",
   "metadata": {},
   "outputs": [],
   "source": [
    "V = matrix(\n",
    "    # fmt: off\n",
    "    # @formatter:off\n",
    "    [\n",
    "        # AA, CC, GG, TT, AC, CA, AG, GA, AT, TA, CG, GC, CT, TC, GT, TG\n",
    "        [  1,  0,  0,  0,  0,  0,  0,  0,  0,  0,  0,  0,  0,  0,  0,  0],  # AA\n",
    "        [  0,  1,  0,  0,  0,  0,  0,  0,  0,  0,  0,  0,  0,  0,  0,  0],  # CC\n",
    "        [  0,  0,  1,  0,  0,  0,  0,  0,  0,  0,  0,  0,  0,  0,  0,  0],  # GG\n",
    "        [  0,  0,  0,  1,  0,  0,  0,  0,  0,  0,  0,  0,  0,  0,  0,  0],  # TT\n",
    "        [  0,  0,  0,  0,  1,  1,  0,  0,  0,  0,  0,  0,  0,  0,  0,  0],  # AC\n",
    "        [  0,  0,  0,  0,  0,  0,  1,  1,  0,  0,  0,  0,  0,  0,  0,  0],  # AG\n",
    "        [  0,  0,  0,  0,  0,  0,  0,  0,  1,  1,  0,  0,  0,  0,  0,  0],  # AT\n",
    "        [  0,  0,  0,  0,  0,  0,  0,  0,  0,  0,  1,  1,  0,  0,  0,  0],  # CG\n",
    "        [  0,  0,  0,  0,  0,  0,  0,  0,  0,  0,  0,  0,  1,  1,  0,  0],  # CT\n",
    "        [  0,  0,  0,  0,  0,  0,  0,  0,  0,  0,  0,  0,  0,  0,  1,  1],  # GT\n",
    "    ],\n",
    "    # @formatter:on\n",
    "    # fmt: on\n",
    ").T\n",
    "\n",
    "# U = np.linalg.pinv(V)\n",
    "U = matrix(\n",
    "    # fmt: off\n",
    "    # @formatter:off\n",
    "    [\n",
    "        # AA, CC,  GG,  TT, AC , AG , AT , CG , CT , GT\n",
    "        [  1,  0,   0,   0,  0 ,  0 ,  0 ,  0 ,  0 ,  0 ],  # AA\n",
    "        [  0,  1,   0,   0,  0 ,  0 ,  0 ,  0 ,  0 ,  0 ],  # CC\n",
    "        [  0,  0,   1,   0,  0 ,  0 ,  0 ,  0 ,  0 ,  0 ],  # GG\n",
    "        [  0,  0,   0,   1,  0 ,  0 ,  0 ,  0 ,  0 ,  0 ],  # TT\n",
    "        [  0,  0,   0,   0, 1/2,  0 ,  0 ,  0 ,  0 ,  0 ],  # AC\n",
    "        [  0,  0,   0,   0, 1/2,  0 ,  0 ,  0 ,  0 ,  0 ],  # CA\n",
    "        [  0,  0,   0,   0,  0 , 1/2,  0 ,  0 ,  0 ,  0 ],  # AG\n",
    "        [  0,  0,   0,   0,  0 , 1/2,  0 ,  0 ,  0 ,  0 ],  # GA\n",
    "        [  0,  0,   0,   0,  0 ,  0 , 1/2,  0 ,  0 ,  0 ],  # AT\n",
    "        [  0,  0,   0,   0,  0 ,  0 , 1/2,  0 ,  0 ,  0 ],  # TA\n",
    "        [  0,  0,   0,   0,  0 ,  0 ,  0 , 1/2,  0 ,  0 ],  # CG\n",
    "        [  0,  0,   0,   0,  0 ,  0 ,  0 , 1/2,  0 ,  0 ],  # GC\n",
    "        [  0,  0,   0,   0,  0 ,  0 ,  0 ,  0 , 1/2,  0 ],  # CT\n",
    "        [  0,  0,   0,   0,  0 ,  0 ,  0 ,  0 , 1/2,  0 ],  # TA\n",
    "        [  0,  0,   0,   0,  0 ,  0 ,  0 ,  0 ,  0 , 1/2],  # GT\n",
    "        [  0,  0,   0,   0,  0 ,  0 ,  0 ,  0 ,  0 , 1/2],  # TG\n",
    "    ],\n",
    "    # @formatter:on\n",
    "    # fmt: on\n",
    ").T\n"
   ]
  },
  {
   "cell_type": "code",
   "execution_count": 213,
   "id": "cabed129-2af1-443c-b8fd-c4be4b1da3c8",
   "metadata": {},
   "outputs": [],
   "source": [
    "q_unph = (U * perm.T * q_gtrsq * perm * V)"
   ]
  },
  {
   "cell_type": "code",
   "execution_count": 214,
   "id": "0a99ae1a-ecb8-4d42-bb79-b982779c6c95",
   "metadata": {},
   "outputs": [
    {
     "data": {
      "text/plain": [
       "[          0           0           0           0 2*pi_c*s_ac 2*pi_g*s_ag 2*pi_t*s_at           0           0           0]\n",
       "[          0           0           0           0 2*pi_a*s_ac           0           0 2*pi_g*s_cg 2*pi_t*s_ct           0]\n",
       "[          0           0           0           0           0 2*pi_a*s_ag           0 2*pi_c*s_cg           0 2*pi_t*s_gt]\n",
       "[          0           0           0           0           0           0 2*pi_a*s_at           0 2*pi_c*s_ct 2*pi_g*s_gt]\n",
       "[  pi_a*s_ac   pi_c*s_ac           0           0           0   pi_g*s_cg   pi_t*s_ct   pi_g*s_ag   pi_t*s_at           0]\n",
       "[  pi_a*s_ag           0   pi_g*s_ag           0   pi_c*s_cg           0   pi_t*s_gt   pi_c*s_ac           0   pi_t*s_at]\n",
       "[  pi_a*s_at           0           0   pi_t*s_at   pi_c*s_ct   pi_g*s_gt           0           0   pi_c*s_ac   pi_g*s_ag]\n",
       "[          0   pi_c*s_cg   pi_g*s_cg           0   pi_a*s_ag   pi_a*s_ac           0           0   pi_t*s_gt   pi_t*s_ct]\n",
       "[          0   pi_c*s_ct           0   pi_t*s_ct   pi_a*s_at           0   pi_a*s_ac   pi_g*s_gt           0   pi_g*s_cg]\n",
       "[          0           0   pi_g*s_gt   pi_t*s_gt           0   pi_a*s_at   pi_a*s_ag   pi_c*s_ct   pi_c*s_cg           0]"
      ]
     },
     "execution_count": 214,
     "metadata": {},
     "output_type": "execute_result"
    }
   ],
   "source": [
    "without_diagonal(q_unph)"
   ]
  },
  {
   "cell_type": "markdown",
   "id": "c9504710-385b-4584-9505-312bb4555cb8",
   "metadata": {},
   "source": [
    "## find the GTR10Z model that matches the unphased model\n",
    "\n",
    "first, match the equilibirum vectors, then solve for the s_i's"
   ]
  },
  {
   "cell_type": "code",
   "execution_count": 215,
   "id": "aea761cb-1e3d-47e2-86c7-7d9ac74eee4e",
   "metadata": {},
   "outputs": [
    {
     "data": {
      "text/plain": [
       "array([0, 0, 0, 0, 0, 0, 0, 0, 0, 0], dtype=object)"
      ]
     },
     "execution_count": 215,
     "metadata": {},
     "output_type": "execute_result"
    }
   ],
   "source": [
    "np.sum(np.array(q_unph), axis=1)"
   ]
  },
  {
   "cell_type": "code",
   "execution_count": 263,
   "id": "9707db58-21b5-4803-994c-b2c823ef8281",
   "metadata": {},
   "outputs": [
    {
     "data": {
      "text/plain": [
       "array([0, 0, 0, 0, 0, 0, 0, 0, 0, 0], dtype=object)"
      ]
     },
     "execution_count": 263,
     "metadata": {},
     "output_type": "execute_result"
    }
   ],
   "source": [
    "np.array([ c.expand() for c in np.kron(pi4s,pi4s) @ perm @ V @ q_unph])"
   ]
  },
  {
   "cell_type": "code",
   "execution_count": 265,
   "id": "78fb84bb-2e63-4133-9006-e1354e11f883",
   "metadata": {},
   "outputs": [
    {
     "data": {
      "text/plain": [
       "array([0, 0, 0, 0, 0, 0, 0, 0, 0, 0], dtype=object)"
      ]
     },
     "execution_count": 265,
     "metadata": {},
     "output_type": "execute_result"
    }
   ],
   "source": [
    "np.array([ c.expand() for c in pi10s @ q_gtr10z])"
   ]
  },
  {
   "cell_type": "code",
   "execution_count": 274,
   "id": "7d4e95ca-ba98-44ad-bcaa-d133cf7c4c50",
   "metadata": {},
   "outputs": [],
   "source": [
    "qqq = np.array([[c(**dict(zip(map(str, pi10s), np.kron(pi4s,pi4s) @ perm @ V))) for c in row] for row in q_gtr10z])"
   ]
  },
  {
   "cell_type": "code",
   "execution_count": 220,
   "id": "38df375c-2c4b-4ef7-920e-9700c746b66c",
   "metadata": {},
   "outputs": [],
   "source": [
    "# q_unph = U * perm.T *             q_gtrsq                * perm * V\n",
    "#        = U * perm.T * P16sqrt * q_sym_gtrsq * P16sqrt^-1 * perm * V\n",
    "#        = U * perm.T * P16sqrt * L * D * L^T * P16sqrt^-1 * perm * V"
   ]
  },
  {
   "cell_type": "code",
   "execution_count": 278,
   "id": "f26c03dd-6d95-4fa4-b6d8-49c80ac4a93a",
   "metadata": {},
   "outputs": [],
   "source": [
    "soln = solve([expr==0 for expr in list((qqq - q_unph).reshape(-1)) if not (expr == 0)], s[1:25])"
   ]
  },
  {
   "cell_type": "code",
   "execution_count": 279,
   "id": "c9524896-cf73-4909-9a4a-a29a4844f506",
   "metadata": {},
   "outputs": [
    {
     "data": {
      "text/plain": [
       "1"
      ]
     },
     "execution_count": 279,
     "metadata": {},
     "output_type": "execute_result"
    }
   ],
   "source": [
    "len(soln)"
   ]
  },
  {
   "cell_type": "code",
   "execution_count": 280,
   "id": "3b7cb37f-ff74-442a-a89c-c67c001aaaba",
   "metadata": {},
   "outputs": [
    {
     "data": {
      "text/plain": [
       "[s_1 == s_ac/pi_a,\n",
       " s_2 == s_ag/pi_a,\n",
       " s_3 == s_at/pi_a,\n",
       " s_4 == s_ac/pi_c,\n",
       " s_5 == s_cg/pi_c,\n",
       " s_6 == s_ct/pi_c,\n",
       " s_7 == s_ag/pi_g,\n",
       " s_8 == s_cg/pi_g,\n",
       " s_9 == s_gt/pi_g,\n",
       " s_10 == s_at/pi_t,\n",
       " s_11 == s_ct/pi_t,\n",
       " s_12 == s_gt/pi_t,\n",
       " s_13 == 1/2*s_cg/pi_a,\n",
       " s_14 == 1/2*s_ct/pi_a,\n",
       " s_15 == 1/2*s_ag/pi_c,\n",
       " s_16 == 1/2*s_at/pi_c,\n",
       " s_17 == 1/2*s_gt/pi_a,\n",
       " s_18 == 1/2*s_ac/pi_g,\n",
       " s_19 == 1/2*s_at/pi_g,\n",
       " s_20 == 1/2*s_ac/pi_t,\n",
       " s_21 == 1/2*s_ag/pi_t,\n",
       " s_22 == 1/2*s_gt/pi_c,\n",
       " s_23 == 1/2*s_ct/pi_g,\n",
       " s_24 == 1/2*s_cg/pi_t]"
      ]
     },
     "execution_count": 280,
     "metadata": {},
     "output_type": "execute_result"
    }
   ],
   "source": [
    "soln[0]"
   ]
  },
  {
   "cell_type": "code",
   "execution_count": 281,
   "id": "9dd118fe-069a-4375-8c12-0cad507f291c",
   "metadata": {},
   "outputs": [
    {
     "data": {
      "text/plain": [
       "[s_ac/pi_a,\n",
       " s_ag/pi_a,\n",
       " s_at/pi_a,\n",
       " s_ac/pi_c,\n",
       " s_cg/pi_c,\n",
       " s_ct/pi_c,\n",
       " s_ag/pi_g,\n",
       " s_cg/pi_g,\n",
       " s_gt/pi_g,\n",
       " s_at/pi_t,\n",
       " s_ct/pi_t,\n",
       " s_gt/pi_t,\n",
       " 1/2*s_cg/pi_a,\n",
       " 1/2*s_ct/pi_a,\n",
       " 1/2*s_ag/pi_c,\n",
       " 1/2*s_at/pi_c,\n",
       " 1/2*s_gt/pi_a,\n",
       " 1/2*s_ac/pi_g,\n",
       " 1/2*s_at/pi_g,\n",
       " 1/2*s_ac/pi_t,\n",
       " 1/2*s_ag/pi_t,\n",
       " 1/2*s_gt/pi_c,\n",
       " 1/2*s_ct/pi_g,\n",
       " 1/2*s_cg/pi_t]"
      ]
     },
     "execution_count": 281,
     "metadata": {},
     "output_type": "execute_result"
    }
   ],
   "source": [
    "[ t.rhs() for t in soln[0]]"
   ]
  },
  {
   "cell_type": "code",
   "execution_count": null,
   "id": "525c8041-2d1c-4eb5-8b39-21cf78c0998c",
   "metadata": {},
   "outputs": [],
   "source": []
  }
 ],
 "metadata": {
  "kernelspec": {
   "display_name": "SageMath 10.5",
   "language": "sage",
   "name": "sagemath"
  },
  "language_info": {
   "codemirror_mode": {
    "name": "ipython",
    "version": 3
   },
   "file_extension": ".py",
   "mimetype": "text/x-python",
   "name": "python",
   "nbconvert_exporter": "python",
   "pygments_lexer": "ipython3",
   "version": "3.12.5"
  }
 },
 "nbformat": 4,
 "nbformat_minor": 5
}
